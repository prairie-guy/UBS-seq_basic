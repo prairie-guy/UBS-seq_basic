{
 "cells": [
  {
   "cell_type": "markdown",
   "id": "1336fe2c",
   "metadata": {},
   "source": [
    "# UBS-seq Pipeline\n",
    "## Basic Workflow"
   ]
  },
  {
   "cell_type": "markdown",
   "id": "f4f9191a",
   "metadata": {},
   "source": [
    "**C. Bryan Daniels**\n",
    "\n",
    "**2/1/2024**"
   ]
  },
  {
   "cell_type": "markdown",
   "id": "1153fdea-42ab-4a16-9376-aae40c035695",
   "metadata": {},
   "source": [
    "## Project: UBS-seq Basic Pipeline"
   ]
  },
  {
   "cell_type": "markdown",
   "id": "e1999833",
   "metadata": {},
   "source": [
    "The purpose of this project is run a minimally viable UBS-seq pipline. For simplicity, it will run several single-end samples, mapping only to the genome. The core steps of the pipeline are:\n",
    "- cut_apapter\n",
    "- quality_control\n",
    "- align2ref\n",
    "- sort2ref\n",
    "- dedupe\n",
    "- filter->all_multi_unique\n",
    "- call_peaks\n",
    "- select_groups\n",
    "- analysis_and_annotation\n",
    "\n",
    "This pipeline is based upon the paper by [Qing Dai, etal](https://doi.org/10.1038/s41587-023-02034-w) and the UBS-seq pipeline developed by [Chang Ye](https://github.com/y9c/m5C-UBSseq)\n",
    "\n"
   ]
  },
  {
   "cell_type": "markdown",
   "id": "db5933a4-a627-451d-abe7-7e68204c1d47",
   "metadata": {},
   "source": [
    "## Setup"
   ]
  },
  {
   "cell_type": "markdown",
   "id": "fd477b9e-5c7d-4c3c-8125-89644f367a8d",
   "metadata": {
    "jp-MarkdownHeadingCollapsed": true
   },
   "source": [
    "#### The logic for the Pipeline is defined through a series of Steps using dirs to save intermediate results\n",
    "1. For each **Step** in the pipeline a dir will be created and labeled **Step** and will contain all files created by that **Step**\n",
    "2. Within a **Step**, **in_path** and **out_path** will generically refer to the prior and current **Step**\n",
    "3. Within each **Step**, the appropriate processes will occur. Generally this involves processing files from **in_path** and saving to **out_path**\n",
    "4. **Abbreviated filenames** should not change through the pipeline (suffixes will reflect current file formats). The dir name should reflect the **Step**, not the filename.\n",
    "6. The function **mkpath(step)** returns a path for a dir **Step**. It will create a dir if need be, but not overwrite an existing dir\n",
    "8. The function **fname(path,sample,suffix)** returns a file name without actually creating the file"
   ]
  },
  {
   "cell_type": "markdown",
   "id": "13e28624-07ae-4a54-ba80-dfde893059bc",
   "metadata": {},
   "source": [
    "#### Environment"
   ]
  },
  {
   "cell_type": "code",
   "execution_count": 1,
   "id": "41e148d2",
   "metadata": {},
   "outputs": [],
   "source": [
    "import os, sys, subprocess\n",
    "import numpy as np\n",
    "import pandas as pd\n",
    "import matplotlib.pyplot as plt \n",
    "from pathlib import Path\n",
    "from IPython.display import display, HTML\n",
    "from snakemake import load_configfile"
   ]
  },
  {
   "cell_type": "code",
   "execution_count": 2,
   "id": "42cc293d-6fe9-45fc-a0cd-59b7dfffb18b",
   "metadata": {},
   "outputs": [],
   "source": [
    "def fname(path, base, sufix):\n",
    "    'Return a path and suffix complete filename'\n",
    "    return Path(path)/f\"{base}.{sufix}\"\n",
    "\n",
    "def mkpath(path):\n",
    "    'Return dir path name; creates (not over-writting) a new dir within the pwd'\n",
    "    path = Path(path)\n",
    "    if not os.path.exists(path): os.makedirs(path)\n",
    "    return path"
   ]
  },
  {
   "cell_type": "markdown",
   "id": "daf19bdc-0368-4ecf-98cf-785917a77577",
   "metadata": {},
   "source": [
    "#### Path References"
   ]
  },
  {
   "cell_type": "markdown",
   "id": "4951cf73-f77f-4bc0-8aab-4c5497aa3049",
   "metadata": {},
   "source": [
    "`Waring:` This notebook should be located and executed from within the directory `home_path/workspace/`\n",
    "\n",
    "`Note:` Github ignores the data/, workspace/ and reference directories, except for `.py` and `.ipynb` files"
   ]
  },
  {
   "cell_type": "code",
   "execution_count": 3,
   "id": "b02f60de-c362-4078-beba-82c870de2c78",
   "metadata": {},
   "outputs": [],
   "source": [
    "home_path      = Path.cwd()/'..'\n",
    "data_path      = home_path/'data'\n",
    "workspace_path = home_path/'workspace'"
   ]
  },
  {
   "cell_type": "markdown",
   "id": "9e069648-6080-4a32-8ade-8a631634a994",
   "metadata": {},
   "source": [
    "Use `config.yaml` to configure `references/`, but not samples in `data/`"
   ]
  },
  {
   "cell_type": "code",
   "execution_count": 4,
   "id": "0e9cbdfe-97bf-4c0d-9e86-ef93ad062c5d",
   "metadata": {
    "scrolled": true
   },
   "outputs": [],
   "source": [
    "config = load_configfile(\"../config.yaml\")"
   ]
  },
  {
   "cell_type": "code",
   "execution_count": 5,
   "id": "9fd3b929-b9ad-48ed-acf8-e9ec4cfe01dd",
   "metadata": {},
   "outputs": [],
   "source": [
    "genome_fa  = home_path/config['reference']['genome']['fa'].removeprefix('~/')\n",
    "genome_idx = home_path/config['reference']['genome']['hisat3n'].removeprefix('~/')"
   ]
  },
  {
   "cell_type": "code",
   "execution_count": 6,
   "id": "dbfc6989-8a84-4b33-ae5c-ee507af9442f",
   "metadata": {},
   "outputs": [],
   "source": [
    "#genome_fa = ref_path/'genome/Homo_sapiens.GRCh38.genome.fa'\n",
    "#genome_idx = ref_path/'index/hist3n/Homo_sapiens.GRCh38.genome'"
   ]
  },
  {
   "cell_type": "code",
   "execution_count": 7,
   "id": "ae9c5015",
   "metadata": {},
   "outputs": [],
   "source": [
    "# Add to shell PATH\n",
    "os.environ['PATH'] = f\"{str(home_path)}:\" + os.environ['PATH'] # home_path\n",
    "os.environ['PATH'] = '/home/cdaniels/bin/homer:' + os.environ['PATH'] # homer\n",
    "os.environ['PATH'] = '/home/cdaniels/bin/hisat-3n:' + os.environ['PATH'] # hisat-3n"
   ]
  },
  {
   "cell_type": "code",
   "execution_count": 8,
   "id": "889270cf-bf90-4da3-90fe-397d8d0b57f3",
   "metadata": {},
   "outputs": [
    {
     "data": {
      "text/plain": [
       "32"
      ]
     },
     "execution_count": 8,
     "metadata": {},
     "output_type": "execute_result"
    }
   ],
   "source": [
    "# Number of cores                                                                                                                                                                                               \n",
    "nc = get_ipython().getoutput('nproc')                                                                                                                                                                           \n",
    "nc = int(nc[0])                                                                                                                                                                                                 \n",
    "nc  "
   ]
  },
  {
   "cell_type": "markdown",
   "id": "f8499228-734a-4c2c-ad0a-deab43ae64c7",
   "metadata": {},
   "source": [
    "#### Functions"
   ]
  },
  {
   "cell_type": "code",
   "execution_count": 9,
   "id": "46c1ab4f-937a-4b6a-a09d-a34462da366b",
   "metadata": {},
   "outputs": [],
   "source": [
    "def nlines(file):\n",
    "    'Returns fast linecout (fast)'\n",
    "    result = subprocess.run(['wc', '-l', file], stdout=subprocess.PIPE)\n",
    "    n = int(result.stdout.split()[0])\n",
    "    return n"
   ]
  },
  {
   "cell_type": "code",
   "execution_count": 10,
   "id": "ed22df72-94d2-412d-bf77-67e25b974acc",
   "metadata": {},
   "outputs": [],
   "source": [
    "def nseqs(bam_fastq):\n",
    "    'Returns number of sequences in bam, sam, fasta or fastq file'\n",
    "    n = !samtools view -c {bam_fastq}\n",
    "    return int(n[0])"
   ]
  },
  {
   "cell_type": "code",
   "execution_count": 11,
   "id": "db7b2623-6c8a-465f-97af-1cd3e358849b",
   "metadata": {},
   "outputs": [],
   "source": [
    "def samples_string(samples,path,suffix='bam'):\n",
    "    'Returns a space delimited string of sample files'\n",
    "    return \" \".join([str(fname(path,sample,suffix)) for sample in samples])    "
   ]
  },
  {
   "cell_type": "code",
   "execution_count": 12,
   "id": "f9ffe35a",
   "metadata": {},
   "outputs": [],
   "source": [
    "def make_table(ds1, ds2, ds1_name, ds2_name, y_label=None, xs_labels=None, table_label=None):\n",
    "    'Makes a bar graph comparing two datasets and their corresponding names'\n",
    "    assert(len(ds1)==len(ds2))\n",
    "    n = np.arange(len(ds1))\n",
    "    width = 0.35\n",
    "    fig, ax = plt.subplots()\n",
    "    rects1 = ax.bar(n - width/2, ds1, width, label=ds1_name)\n",
    "    rects2 = ax.bar(n + width/2, ds2, width,label=ds2_name)\n",
    "    ax.set_ylabel(y_label)\n",
    "    ax.set_title(table_label)\n",
    "    ax.set_xticks(n)\n",
    "    ax.set_xticklabels(range(1,len(ds1)+1)) if xs_labels == None else ax.set_xticklabels(xs_labels)\n",
    "    ax.legend()\n",
    "    plt.show()"
   ]
  },
  {
   "cell_type": "code",
   "execution_count": 13,
   "id": "a7b59797-ffd0-4d1c-947e-45f07e301a2a",
   "metadata": {},
   "outputs": [],
   "source": [
    "def make_histogram(ds, ds_name, table_label=None, y_label=\"Frequency\", density=True):\n",
    "    'Makes a histogram for a dataset and its name'\n",
    "    fig, ax = plt.subplots()\n",
    "    ax.hist(ds, density=density)\n",
    "    ax.set_ylabel(y_label)\n",
    "    ax.set_xlabel(ds_name)\n",
    "    if table_label is not None:\n",
    "        ax.set_title(table_label)\n",
    "    plt.show()"
   ]
  },
  {
   "cell_type": "markdown",
   "id": "a21c1f30-2663-4aa7-9e81-fd90a96b92e5",
   "metadata": {},
   "source": [
    "## Step: select_samples"
   ]
  },
  {
   "cell_type": "markdown",
   "id": "cf0c6fbb-a4b9-4a0c-97d2-80646efb627e",
   "metadata": {},
   "source": [
    "#### Select Samples and Filenames"
   ]
  },
  {
   "cell_type": "code",
   "execution_count": 14,
   "id": "d73f04c9-8803-4e6f-8336-a53a40d78bab",
   "metadata": {
    "scrolled": true
   },
   "outputs": [],
   "source": [
    "out_path = mkpath('samples')"
   ]
  },
  {
   "cell_type": "markdown",
   "id": "1245b4d6-d147-423a-8d74-038e689e960e",
   "metadata": {},
   "source": [
    "#### Project definitions for treated samples, control samples"
   ]
  },
  {
   "cell_type": "code",
   "execution_count": 15,
   "id": "67bbf37a-e8c4-4f9f-a267-251bed3f485f",
   "metadata": {},
   "outputs": [],
   "source": [
    "# short sample names\n",
    "treated = [\"t1\",\"t2\",\"t3\"] # Edit\n",
    "control = [] # Edit\n",
    "samples = treated + control"
   ]
  },
  {
   "cell_type": "code",
   "execution_count": 16,
   "id": "32c7d8e1-0b1b-495e-af19-7de635060e12",
   "metadata": {},
   "outputs": [
    {
     "data": {
      "text/plain": [
       "['t1', 't2', 't3']"
      ]
     },
     "execution_count": 16,
     "metadata": {},
     "output_type": "execute_result"
    }
   ],
   "source": [
    "samples"
   ]
  },
  {
   "cell_type": "code",
   "execution_count": 17,
   "id": "a1738eec-e76c-4104-858a-5319359818a5",
   "metadata": {},
   "outputs": [],
   "source": [
    "# sample filenames\n",
    "samples_fn = [data_path/'test0_R1.fq.gz', data_path/'test1_R1.fq.gz', data_path/'test2_R1.fq.gz']"
   ]
  },
  {
   "cell_type": "code",
   "execution_count": 18,
   "id": "f98ef3fd-e6fc-442d-9147-d2ab1dc04074",
   "metadata": {},
   "outputs": [
    {
     "data": {
      "text/plain": [
       "{'t1': PosixPath('/home/cdaniels/uofc_data/ubs_seq/UBS-seq_basic/workspace/../data/test0_R1.fq.gz'),\n",
       " 't2': PosixPath('/home/cdaniels/uofc_data/ubs_seq/UBS-seq_basic/workspace/../data/test1_R1.fq.gz'),\n",
       " 't3': PosixPath('/home/cdaniels/uofc_data/ubs_seq/UBS-seq_basic/workspace/../data/test2_R1.fq.gz')}"
      ]
     },
     "execution_count": 18,
     "metadata": {},
     "output_type": "execute_result"
    }
   ],
   "source": [
    "# dict\n",
    "s2fn = {name: fname for (name,fname) in zip(samples,samples_fn)};\n",
    "s2fn"
   ]
  },
  {
   "cell_type": "code",
   "execution_count": 19,
   "id": "4c84cd58-777e-4645-bac1-5a3c549ad8dd",
   "metadata": {},
   "outputs": [
    {
     "name": "stdout",
     "output_type": "stream",
     "text": [
      "ln: failed to create symbolic link 'samples/t1.fq.gz': File exists\n",
      "ln: failed to create symbolic link 'samples/t2.fq.gz': File exists\n",
      "ln: failed to create symbolic link 'samples/t3.fq.gz': File exists\n"
     ]
    }
   ],
   "source": [
    "for (s,fn) in s2fn.items():\n",
    "    ! ln -s {data_path/fn} {fname(out_path,s,\"fq.gz\")}"
   ]
  },
  {
   "cell_type": "markdown",
   "id": "2e11be53",
   "metadata": {},
   "source": [
    "Check that the files look correct"
   ]
  },
  {
   "cell_type": "code",
   "execution_count": 20,
   "id": "25371f62",
   "metadata": {},
   "outputs": [
    {
     "name": "stdout",
     "output_type": "stream",
     "text": [
      "t1.fq.gz  t2.fq.gz  t3.fq.gz\n"
     ]
    }
   ],
   "source": [
    "!ls  {out_path}"
   ]
  },
  {
   "cell_type": "markdown",
   "id": "6c7307e9-bcb8-4515-be28-da83ddd2649a",
   "metadata": {},
   "source": [
    "How many sequence reads do we have per Sample"
   ]
  },
  {
   "cell_type": "code",
   "execution_count": 21,
   "id": "113b16b9-601a-4b74-83e7-12d25a9af329",
   "metadata": {},
   "outputs": [
    {
     "name": "stdout",
     "output_type": "stream",
     "text": [
      "samples/t1.fq.gz: 1,872,556\n",
      "samples/t2.fq.gz: 2,732,849\n",
      "samples/t3.fq.gz: 2,368,579\n"
     ]
    }
   ],
   "source": [
    "# Total Reads per Samples\n",
    "files = [fname(out_path,sample, \"fq.gz\") for sample in samples]\n",
    "for f in files:\n",
    "    ns = nseqs(f)\n",
    "    print(f\"{f}: {ns:,}\")"
   ]
  },
  {
   "cell_type": "markdown",
   "id": "41fb4092-ae2c-4081-8658-300b9f3ffab8",
   "metadata": {},
   "source": [
    "## Step: fastqc_pre"
   ]
  },
  {
   "cell_type": "markdown",
   "id": "e95850c4-5827-459f-bbf9-04cad8347377",
   "metadata": {},
   "source": [
    "#### Pre Trimming Quality Control"
   ]
  },
  {
   "cell_type": "code",
   "execution_count": 22,
   "id": "20a87550-8f06-4d37-9c01-025dc8135790",
   "metadata": {},
   "outputs": [],
   "source": [
    "in_path = mkpath(\"samples\")\n",
    "out_path = mkpath(\"fastqc_pre\")"
   ]
  },
  {
   "cell_type": "markdown",
   "id": "16857b29-a33c-424a-a224-22142e6d2e13",
   "metadata": {},
   "source": [
    "#### fastqc"
   ]
  },
  {
   "cell_type": "code",
   "execution_count": 23,
   "id": "c0dd3668-5561-44c7-b2ea-b903ebc1737e",
   "metadata": {
    "scrolled": true
   },
   "outputs": [
    {
     "name": "stdout",
     "output_type": "stream",
     "text": [
      "\n",
      "            FastQC - A high throughput sequence QC analysis tool\n",
      "\n",
      "SYNOPSIS\n",
      "\n",
      "\tfastqc seqfile1 seqfile2 .. seqfileN\n",
      "\n",
      "    fastqc [-o output dir] [--(no)extract] [-f fastq|bam|sam] \n",
      "           [-c contaminant file] seqfile1 .. seqfileN\n",
      "\n",
      "DESCRIPTION\n",
      "\n",
      "    FastQC reads a set of sequence files and produces from each one a quality\n",
      "    control report consisting of a number of different modules, each one of \n",
      "    which will help to identify a different potential type of problem in your\n",
      "    data.\n",
      "    \n",
      "    If no files to process are specified on the command line then the program\n",
      "    will start as an interactive graphical application.  If files are provided\n",
      "    on the command line then the program will run with no user interaction\n",
      "    required.  In this mode it is suitable for inclusion into a standardised\n",
      "    analysis pipeline.\n",
      "    \n",
      "    The options for the program as as follows:\n",
      "    \n",
      "    -h --help       Print this help file and exit\n",
      "    \n",
      "    -v --version    Print the version of the program and exit\n",
      "    \n",
      "    -o --outdir     Create all output files in the specified output directory.\n",
      "                    Please note that this directory must exist as the program\n",
      "                    will not create it.  If this option is not set then the \n",
      "                    output file for each sequence file is created in the same\n",
      "                    directory as the sequence file which was processed.\n",
      "                    \n",
      "    --casava        Files come from raw casava output. Files in the same sample\n",
      "                    group (differing only by the group number) will be analysed\n",
      "                    as a set rather than individually. Sequences with the filter\n",
      "                    flag set in the header will be excluded from the analysis.\n",
      "                    Files must have the same names given to them by casava\n",
      "                    (including being gzipped and ending with .gz) otherwise they\n",
      "                    won't be grouped together correctly.\n",
      "                    \n",
      "    --nano          Files come from nanopore sequences and are in fast5 format. In\n",
      "                    this mode you can pass in directories to process and the program\n",
      "                    will take in all fast5 files within those directories and produce\n",
      "                    a single output file from the sequences found in all files.                    \n",
      "                    \n",
      "    --nofilter      If running with --casava then don't remove read flagged by\n",
      "                    casava as poor quality when performing the QC analysis.\n",
      "                   \n",
      "    --extract       If set then the zipped output file will be uncompressed in\n",
      "                    the same directory after it has been created. If --delete is \n",
      "                    also specified then the zip file will be removed after the \n",
      "                    contents are unzipped. \n",
      "                    \n",
      "    -j --java       Provides the full path to the java binary you want to use to\n",
      "                    launch fastqc. If not supplied then java is assumed to be in\n",
      "                    your path.\n",
      "                   \n",
      "    --noextract     Do not uncompress the output file after creating it.  You\n",
      "                    should set this option if you do not wish to uncompress\n",
      "                    the output when running in non-interactive mode.\n",
      "                    \n",
      "    --nogroup       Disable grouping of bases for reads >50bp. All reports will\n",
      "                    show data for every base in the read.  WARNING: Using this\n",
      "                    option will cause fastqc to crash and burn if you use it on\n",
      "                    really long reads, and your plots may end up a ridiculous size.\n",
      "                    You have been warned!\n",
      "                    \n",
      "    --min_length    Sets an artificial lower limit on the length of the sequence\n",
      "                    to be shown in the report.  As long as you set this to a value\n",
      "                    greater or equal to your longest read length then this will be\n",
      "                    the sequence length used to create your read groups.  This can\n",
      "                    be useful for making directly comaparable statistics from \n",
      "                    datasets with somewhat variable read lengths.\n",
      "\n",
      "    --dup_length    Sets a length to which the sequences will be truncated when \n",
      "                    defining them to be duplicates, affecting the duplication and\n",
      "                    overrepresented sequences plot.  This can be useful if you have\n",
      "                    long reads with higher levels of miscalls, or contamination with\n",
      "                    adapter dimers containing UMI sequences.\n",
      "\n",
      "                    \n",
      "    -f --format     Bypasses the normal sequence file format detection and\n",
      "                    forces the program to use the specified format.  Valid\n",
      "                    formats are bam,sam,bam_mapped,sam_mapped and fastq\n",
      "                    \n",
      "\n",
      "    --memory        Sets the base amount of memory, in Megabytes, used to process \n",
      "                    each file.  Defaults to 512MB.  You may need to increase this if\n",
      "                    you have a file with very long sequences in it.\n",
      "                \n",
      "    --svg           Save the graphs in the report in SVG format.\n",
      "\n",
      "    -t --threads    Specifies the number of files which can be processed\n",
      "                    simultaneously.  Each thread will be allocated 250MB of\n",
      "                    memory so you shouldn't run more threads than your\n",
      "                    available memory will cope with, and not more than\n",
      "                    6 threads on a 32 bit machine\n",
      "                  \n",
      "    -c              Specifies a non-default file which contains the list of\n",
      "    --contaminants  contaminants to screen overrepresented sequences against.\n",
      "                    The file must contain sets of named contaminants in the\n",
      "                    form name[tab]sequence.  Lines prefixed with a hash will\n",
      "                    be ignored.\n",
      "\n",
      "    -a              Specifies a non-default file which contains the list of\n",
      "    --adapters      adapter sequences which will be explicity searched against\n",
      "                    the library. The file must contain sets of named adapters\n",
      "                    in the form name[tab]sequence.  Lines prefixed with a hash\n",
      "                    will be ignored.\n",
      "                    \n",
      "    -l              Specifies a non-default file which contains a set of criteria\n",
      "    --limits        which will be used to determine the warn/error limits for the\n",
      "                    various modules.  This file can also be used to selectively \n",
      "                    remove some modules from the output all together.  The format\n",
      "                    needs to mirror the default limits.txt file found in the\n",
      "                    Configuration folder.\n",
      "                    \n",
      "   -k --kmers       Specifies the length of Kmer to look for in the Kmer content\n",
      "                    module. Specified Kmer length must be between 2 and 10. Default\n",
      "                    length is 7 if not specified.\n",
      "                    \n",
      "   -q --quiet       Suppress all progress messages on stdout and only report errors.\n",
      "   \n",
      "   -d --dir         Selects a directory to be used for temporary files written when\n",
      "                    generating report images. Defaults to system temp directory if\n",
      "                    not specified.\n",
      "                    \n",
      "BUGS\n",
      "\n",
      "    Any bugs in fastqc should be reported either to simon.andrews@babraham.ac.uk\n",
      "    or in www.bioinformatics.babraham.ac.uk/bugzilla/\n",
      "                   \n",
      "    \n"
     ]
    }
   ],
   "source": [
    "! fastqc --help"
   ]
  },
  {
   "cell_type": "markdown",
   "id": "eb840f81-7880-47b5-aab1-b6017da470e3",
   "metadata": {},
   "source": [
    "##### paramaters:\n",
    "- -o output dir"
   ]
  },
  {
   "cell_type": "code",
   "execution_count": 24,
   "id": "f0f6379b-63d0-4ed9-b3c7-c01accd81bb4",
   "metadata": {},
   "outputs": [
    {
     "name": "stdout",
     "output_type": "stream",
     "text": [
      "application/gzip\n",
      "Analysis complete for t1.fq.gz\n",
      "application/gzip\n",
      "Analysis complete for t2.fq.gz\n",
      "application/gzip\n",
      "Analysis complete for t3.fq.gz\n"
     ]
    }
   ],
   "source": [
    "for sample in samples:\n",
    "    ! fastqc {fname(in_path,sample,\"fq.gz\")} -o {out_path} 2> /dev/null"
   ]
  },
  {
   "cell_type": "code",
   "execution_count": 25,
   "id": "f009c6d6-c2d9-4b1c-b628-53e2ce7ba2d9",
   "metadata": {},
   "outputs": [
    {
     "name": "stdout",
     "output_type": "stream",
     "text": [
      "t1_fastqc.html\tt2_fastqc.html\tt3_fastqc.html\n",
      "t1_fastqc.zip\tt2_fastqc.zip\tt3_fastqc.zip\n"
     ]
    }
   ],
   "source": [
    "! ls {out_path}"
   ]
  },
  {
   "cell_type": "markdown",
   "id": "51157b74",
   "metadata": {},
   "source": [
    "## Step: trimmed"
   ]
  },
  {
   "cell_type": "markdown",
   "id": "c1731c31-b9b1-4a09-b964-3dece49e1910",
   "metadata": {},
   "source": [
    "#### Trim the adapter and downstream sequence as well as trimmng lower quality downstream sequence"
   ]
  },
  {
   "cell_type": "code",
   "execution_count": 26,
   "id": "8b898be1",
   "metadata": {},
   "outputs": [],
   "source": [
    "in_path = mkpath(\"samples\")\n",
    "out_path = mkpath(\"trim\")"
   ]
  },
  {
   "cell_type": "code",
   "execution_count": 27,
   "id": "632eaa99",
   "metadata": {},
   "outputs": [],
   "source": [
    "adapter =  \"AGATCGGAAGAGCACACGTCT\"\n",
    "barcode3 = \"ATCACG\"\n",
    "#adapter = \"AGATCGGAAGAGCACACGTCTGAACTCCAG\"\n",
    "#barcode3 = \"TATCACGATCACG\""
   ]
  },
  {
   "cell_type": "code",
   "execution_count": 28,
   "id": "e73ebe78-4020-4894-8c0c-3239aee02330",
   "metadata": {},
   "outputs": [
    {
     "name": "stdout",
     "output_type": "stream",
     "text": [
      "t1.fq.gz  t2.fq.gz  t3.fq.gz\n"
     ]
    }
   ],
   "source": [
    "!ls {in_path}"
   ]
  },
  {
   "cell_type": "markdown",
   "id": "ca715978-8029-4cfe-a74c-765eb8ed882f",
   "metadata": {},
   "source": [
    "#### cutadapt"
   ]
  },
  {
   "cell_type": "code",
   "execution_count": 29,
   "id": "bbb14bd9",
   "metadata": {
    "scrolled": true
   },
   "outputs": [
    {
     "name": "stdout",
     "output_type": "stream",
     "text": [
      "cutadapt version 4.6\n",
      "\n",
      "Copyright (C) 2010 Marcel Martin <marcel.martin@scilifelab.se> and contributors\n",
      "\n",
      "Cutadapt removes adapter sequences from high-throughput sequencing reads.\n",
      "\n",
      "Usage:\n",
      "    cutadapt -a ADAPTER [options] [-o output.fastq] input.fastq\n",
      "\n",
      "For paired-end reads:\n",
      "    cutadapt -a ADAPT1 -A ADAPT2 [options] -o out1.fastq -p out2.fastq in1.fastq in2.fastq\n",
      "\n",
      "Replace \"ADAPTER\" with the actual sequence of your 3' adapter. IUPAC wildcard\n",
      "characters are supported. All reads from input.fastq will be written to\n",
      "output.fastq with the adapter sequence removed. Adapter matching is\n",
      "error-tolerant. Multiple adapter sequences can be given (use further -a\n",
      "options), but only the best-matching adapter will be removed.\n",
      "\n",
      "Input may also be in FASTA format. Compressed input and output is supported and\n",
      "auto-detected from the file name (.gz, .xz, .bz2). Use the file name '-' for\n",
      "standard input/output. Without the -o option, output is sent to standard output.\n",
      "\n",
      "Citation:\n",
      "\n",
      "Marcel Martin. Cutadapt removes adapter sequences from high-throughput\n",
      "sequencing reads. EMBnet.Journal, 17(1):10-12, May 2011.\n",
      "http://dx.doi.org/10.14806/ej.17.1.200\n",
      "\n",
      "Run \"cutadapt --help\" to see all command-line options.\n",
      "See https://cutadapt.readthedocs.io/ for full documentation.\n",
      "\n",
      "Options:\n",
      "  -h, --help            Show this help message and exit\n",
      "  --version             Show version number and exit\n",
      "  --debug               Print debug log. Use twice to also print DP matrices\n",
      "  -j CORES, --cores CORES\n",
      "                        Number of CPU cores to use. Use 0 to auto-detect.\n",
      "                        Default: 1\n",
      "\n",
      "Finding adapters:\n",
      "  Parameters -a, -g, -b specify adapters to be removed from each read (or from\n",
      "  R1 if data is paired-end. If specified multiple times, only the best\n",
      "  matching adapter is trimmed (but see the --times option). Use notation\n",
      "  'file:FILE' to read adapter sequences from a FASTA file.\n",
      "\n",
      "  -a ADAPTER, --adapter ADAPTER\n",
      "                        Sequence of an adapter ligated to the 3' end (paired\n",
      "                        data: of the first read). The adapter and subsequent\n",
      "                        bases are trimmed. If a '$' character is appended\n",
      "                        ('anchoring'), the adapter is only found if it is a\n",
      "                        suffix of the read.\n",
      "  -g ADAPTER, --front ADAPTER\n",
      "                        Sequence of an adapter ligated to the 5' end (paired\n",
      "                        data: of the first read). The adapter and any preceding\n",
      "                        bases are trimmed. Partial matches at the 5' end are\n",
      "                        allowed. If a '^' character is prepended ('anchoring'),\n",
      "                        the adapter is only found if it is a prefix of the read.\n",
      "  -b ADAPTER, --anywhere ADAPTER\n",
      "                        Sequence of an adapter that may be ligated to the 5' or\n",
      "                        3' end (paired data: of the first read). Both types of\n",
      "                        matches as described under -a and -g are allowed. If the\n",
      "                        first base of the read is part of the match, the\n",
      "                        behavior is as with -g, otherwise as with -a. This\n",
      "                        option is mostly for rescuing failed library\n",
      "                        preparations - do not use if you know which end your\n",
      "                        adapter was ligated to!\n",
      "  -e E, --error-rate E, --errors E\n",
      "                        Maximum allowed error rate (if 0 <= E < 1), or absolute\n",
      "                        number of errors for full-length adapter match (if E is\n",
      "                        an integer >= 1). Error rate = no. of errors divided by\n",
      "                        length of matching region. Default: 0.1 (10%)\n",
      "  --no-indels           Allow only mismatches in alignments. Default: allow both\n",
      "                        mismatches and indels\n",
      "  -n COUNT, --times COUNT\n",
      "                        Remove up to COUNT adapters from each read. Default: 1\n",
      "  -O MINLENGTH, --overlap MINLENGTH\n",
      "                        Require MINLENGTH overlap between read and adapter for\n",
      "                        an adapter to be found. Default: 3\n",
      "  --match-read-wildcards\n",
      "                        Interpret IUPAC wildcards in reads. Default: False\n",
      "  -N, --no-match-adapter-wildcards\n",
      "                        Do not interpret IUPAC wildcards in adapters.\n",
      "  --action {trim,retain,mask,lowercase,none}\n",
      "                        What to do if a match was found. trim: trim adapter and\n",
      "                        up- or downstream sequence; retain: trim, but retain\n",
      "                        adapter; mask: replace with 'N' characters; lowercase:\n",
      "                        convert to lowercase; none: leave unchanged. Default:\n",
      "                        trim\n",
      "  --rc, --revcomp       Check both the read and its reverse complement for\n",
      "                        adapter matches. If match is on reverse-complemented\n",
      "                        version, output that one. Default: check only read\n",
      "\n",
      "Additional read modifications:\n",
      "  -u LEN, --cut LEN     Remove LEN bases from each read (or R1 if paired; use -U\n",
      "                        option for R2). If LEN is positive, remove bases from\n",
      "                        the beginning. If LEN is negative, remove bases from the\n",
      "                        end. Can be used twice if LENs have different signs.\n",
      "                        Applied *before* adapter trimming.\n",
      "  --nextseq-trim 3'CUTOFF\n",
      "                        NextSeq-specific quality trimming (each read). Trims\n",
      "                        also dark cycles appearing as high-quality G bases.\n",
      "  -q [5'CUTOFF,]3'CUTOFF, --quality-cutoff [5'CUTOFF,]3'CUTOFF\n",
      "                        Trim low-quality bases from 5' and/or 3' ends of each\n",
      "                        read before adapter removal. Applied to both reads if\n",
      "                        data is paired. If one value is given, only the 3' end\n",
      "                        is trimmed. If two comma-separated cutoffs are given,\n",
      "                        the 5' end is trimmed with the first cutoff, the 3' end\n",
      "                        with the second.\n",
      "  --quality-base N      Assume that quality values in FASTQ are encoded as\n",
      "                        ascii(quality + N). This needs to be set to 64 for some\n",
      "                        old Illumina FASTQ files. Default: 33\n",
      "  --poly-a              Trim poly-A tails\n",
      "  --length LENGTH, -l LENGTH\n",
      "                        Shorten reads to LENGTH. Positive values remove bases at\n",
      "                        the end while negative ones remove bases at the\n",
      "                        beginning. This and the following modifications are\n",
      "                        applied after adapter trimming.\n",
      "  --trim-n              Trim N's on ends of reads.\n",
      "  --length-tag TAG      Search for TAG followed by a decimal number in the\n",
      "                        description field of the read. Replace the decimal\n",
      "                        number with the correct length of the trimmed read. For\n",
      "                        example, use --length-tag 'length=' to correct fields\n",
      "                        like 'length=123'.\n",
      "  --strip-suffix STRIP_SUFFIX\n",
      "                        Remove this suffix from read names if present. Can be\n",
      "                        given multiple times.\n",
      "  -x PREFIX, --prefix PREFIX\n",
      "                        Add this prefix to read names. Use {name} to insert the\n",
      "                        name of the matching adapter.\n",
      "  -y SUFFIX, --suffix SUFFIX\n",
      "                        Add this suffix to read names; can also include {name}\n",
      "  --rename TEMPLATE     Rename reads using TEMPLATE containing variables such as\n",
      "                        {id}, {adapter_name} etc. (see documentation)\n",
      "  --zero-cap, -z        Change negative quality values to zero.\n",
      "\n",
      "Filtering of processed reads:\n",
      "  Filters are applied after above read modifications. Paired-end reads are\n",
      "  always discarded pairwise (see also --pair-filter).\n",
      "\n",
      "  -m LEN[:LEN2], --minimum-length LEN[:LEN2]\n",
      "                        Discard reads shorter than LEN. Default: 0\n",
      "  -M LEN[:LEN2], --maximum-length LEN[:LEN2]\n",
      "                        Discard reads longer than LEN. Default: no limit\n",
      "  --max-n COUNT         Discard reads with more than COUNT 'N' bases. If COUNT\n",
      "                        is a number between 0 and 1, it is interpreted as a\n",
      "                        fraction of the read length.\n",
      "  --max-expected-errors ERRORS, --max-ee ERRORS\n",
      "                        Discard reads whose expected number of errors (computed\n",
      "                        from quality values) exceeds ERRORS.\n",
      "  --max-average-error-rate ERROR_RATE, --max-aer ERROR_RATE\n",
      "                        as --max-expected-errors (see above), but divided by\n",
      "                        length to account for reads of varying length.\n",
      "  --discard-trimmed, --discard\n",
      "                        Discard reads that contain an adapter. Use also -O to\n",
      "                        avoid discarding too many randomly matching reads.\n",
      "  --discard-untrimmed, --trimmed-only\n",
      "                        Discard reads that do not contain an adapter.\n",
      "  --discard-casava      Discard reads that did not pass CASAVA filtering (header\n",
      "                        has :Y:).\n",
      "\n",
      "Output:\n",
      "  --quiet               Print only error messages.\n",
      "  --report {full,minimal}\n",
      "                        Which type of report to print: 'full' or 'minimal'.\n",
      "                        Default: full\n",
      "  --json FILE           Dump report in JSON format to FILE\n",
      "  -o FILE, --output FILE\n",
      "                        Write trimmed reads to FILE. FASTQ or FASTA format is\n",
      "                        chosen depending on input. Summary report is sent to\n",
      "                        standard output. Use '{name}' for demultiplexing (see\n",
      "                        docs). Default: write to standard output\n",
      "  --fasta               Output FASTA to standard output even on FASTQ input.\n",
      "  -Z                    Use compression level 1 for gzipped output files\n",
      "                        (faster, but uses more space)\n",
      "  --info-file FILE      Write information about each read and its adapter\n",
      "                        matches into FILE. See the documentation for the file\n",
      "                        format.\n",
      "  -r FILE, --rest-file FILE\n",
      "                        When the adapter matches in the middle of a read, write\n",
      "                        the rest (after the adapter) to FILE.\n",
      "  --wildcard-file FILE  When the adapter has N wildcard bases, write adapter\n",
      "                        bases matching wildcard positions to FILE. (Inaccurate\n",
      "                        with indels.)\n",
      "  --too-short-output FILE\n",
      "                        Write reads that are too short (according to length\n",
      "                        specified by -m) to FILE. Default: discard reads\n",
      "  --too-long-output FILE\n",
      "                        Write reads that are too long (according to length\n",
      "                        specified by -M) to FILE. Default: discard reads\n",
      "  --untrimmed-output FILE\n",
      "                        Write reads that do not contain any adapter to FILE.\n",
      "                        Default: output to same file as trimmed reads\n",
      "\n",
      "Paired-end options:\n",
      "  The -A/-G/-B/-U/-Q options work like their lowercase counterparts, but are\n",
      "  applied to R2 (second read in pair)\n",
      "\n",
      "  -A ADAPTER            3' adapter to be removed from R2\n",
      "  -G ADAPTER            5' adapter to be removed from R2\n",
      "  -B ADAPTER            5'/3 adapter to be removed from R2\n",
      "  -U LENGTH             Remove LENGTH bases from R2\n",
      "  -Q [5'CUTOFF,]3'CUTOFF\n",
      "                        Quality-trimming cutoff for R2. Default: same as for R1\n",
      "  -p FILE, --paired-output FILE\n",
      "                        Write R2 to FILE.\n",
      "  --pair-adapters       Treat adapters given with -a/-A etc. as pairs. Either\n",
      "                        both or none are removed from each read pair.\n",
      "  --pair-filter {any,both,first}\n",
      "                        Which of the reads in a paired-end read have to match\n",
      "                        the filtering criterion in order for the pair to be\n",
      "                        filtered. Default: any\n",
      "  --interleaved         Read and/or write interleaved paired-end reads.\n",
      "  --untrimmed-paired-output FILE\n",
      "                        Write second read in a pair to this FILE when no adapter\n",
      "                        was found. Use with --untrimmed-output. Default: output\n",
      "                        to same file as trimmed reads\n",
      "  --too-short-paired-output FILE\n",
      "                        Write second read in a pair to this file if pair is too\n",
      "                        short.\n",
      "  --too-long-paired-output FILE\n",
      "                        Write second read in a pair to this file if pair is too\n",
      "                        long.\n"
     ]
    }
   ],
   "source": [
    "! cutadapt --help"
   ]
  },
  {
   "cell_type": "markdown",
   "id": "51c5bf75-0af1-40c7-ba4a-1265587753b9",
   "metadata": {
    "scrolled": true
   },
   "source": [
    "```\n",
    "cutadapt -j {threads} \n",
    "            -n 2 \n",
    "            -a \"{params.barcode3}{params.adapter3};e=0.15;o=6;anywhere;\" \n",
    "            --untrimmed-output={output.fastq_untrimmed} \n",
    "            -o - {input} 2>{output.report1} | \n",
    "cutadapt -j {threads} \n",
    "            -u 5 -u -5 \n",
    "            --rename='{{id}}_{{cut_prefix}}{{cut_suffix}} {{comment}}' \n",
    "            --max-n=0 \n",
    "            -q 15 \n",
    "            --nextseq-trim=15 \n",
    "            -m 20 \n",
    "            --too-short-output={output.fastq_tooshort} \n",
    "            -o {output.fastq_cut} - >{output.report2}\n",
    "```"
   ]
  },
  {
   "cell_type": "markdown",
   "id": "61d94569-8947-497c-8641-59e0f790ce60",
   "metadata": {},
   "source": [
    "https://cutadapt.readthedocs.io/en/stable/guide.html"
   ]
  },
  {
   "cell_type": "markdown",
   "id": "cd81c901-05a6-4b85-9dc2-2c2201af649d",
   "metadata": {},
   "source": [
    "##### paramaters:\n",
    "- -j 0, Number of CPU. Use 0 to autodetect\n",
    "- --nextseq-trim=15, is used to trim these low-quality tails of 'G's by introducing a variable quality threshold\n",
    "- --action=trim, trim adapter and downstream sequence\n",
    "- -a '{barcode3}{adapter};e=0.15;o=6;anywhere;', \n",
    "- -n 2, Remove up to COUNT adapters from each read. Default: 1\n",
    "- -u 5 -u -5, Remove LEN bases from each read. If positve, from beginning. If negative, from end\n",
    "- --max-n=0, Discard reads with more than COUNT 'N' bases (here any)\n",
    "- -q 15, Trim low-quality bases from 5' end of eachread before adapter removal.\n",
    "- -m 20, Discard reads shorter than LEN\n",
    "- --rename='{{id}}_{{cut_prefix}}{{cut_suffix}} {{comment}}', rename comment of fastq record\n",
    "- --too-short-output={fname(out_path,sample,\"fastq_tooshort\")},\n",
    "- -o {fname(out_path,sample,\"fq.gz\")}, output file\n",
    "{fname(in_path,sample,\"fq.gz\")}, input file"
   ]
  },
  {
   "cell_type": "markdown",
   "id": "dbf6f13b-0a83-4436-b929-f2000deb241d",
   "metadata": {},
   "source": [
    "**NOTE:** Added `--length 30` to cutoff reads where C begin to become more common. Not in original code"
   ]
  },
  {
   "cell_type": "code",
   "execution_count": 30,
   "id": "c556375c-0e45-402f-b5fe-6418606482ca",
   "metadata": {},
   "outputs": [
    {
     "name": "stdout",
     "output_type": "stream",
     "text": [
      "Done           00:00:01     1,872,556 reads @   0.9 µs/read;  63.69 M reads/minute\n",
      "Done           00:00:02     2,732,849 reads @   0.9 µs/read;  65.40 M reads/minute\n",
      "Done           00:00:02     2,368,579 reads @   0.9 µs/read;  64.20 M reads/minute\n"
     ]
    }
   ],
   "source": [
    "for sample in samples:\n",
    "    !cutadapt -j 0 --nextseq-trim=15 --action=trim -a '{barcode3}{adapter};e=0.15;o=6;anywhere;'\\\n",
    "            -n 2 -u 5 -u -5 --max-n=0 -q 15 -m 20 -l 80\\\n",
    "            --length 30 \\\n",
    "            --rename='{{id}}_{{cut_prefix}}{{cut_suffix}} {{comment}}'\\\n",
    "            --too-short-output={fname(out_path,sample,\"fastq_tooshort\")} \\\n",
    "            -o {fname(out_path,sample,\"fq.gz\")}  \\\n",
    "            {fname(in_path,sample,\"fq.gz\")} > {fname(out_path,sample,\"log\")}"
   ]
  },
  {
   "cell_type": "markdown",
   "id": "c0fd27b4-6fb6-43ec-abda-908fe49df9f8",
   "metadata": {},
   "source": [
    "#### Analysis"
   ]
  },
  {
   "cell_type": "markdown",
   "id": "0deddf8f-d88b-4b1f-832b-328714f045f3",
   "metadata": {},
   "source": [
    "Take a look at a FASTQ file"
   ]
  },
  {
   "cell_type": "code",
   "execution_count": 31,
   "id": "e07c75da-35fd-4c4e-b07a-3696595806f4",
   "metadata": {},
   "outputs": [
    {
     "data": {
      "text/plain": [
       "PosixPath('samples/t1.fq.gz')"
      ]
     },
     "execution_count": 31,
     "metadata": {},
     "output_type": "execute_result"
    }
   ],
   "source": [
    "in_fn  = fname(in_path,treated[0],'fq.gz')\n",
    "out_fn = fname(out_path,treated[0],'fq.gz')\n",
    "in_fn"
   ]
  },
  {
   "cell_type": "code",
   "execution_count": 32,
   "id": "c450ef4a-6b0d-4ded-a5f1-d387be292b48",
   "metadata": {},
   "outputs": [
    {
     "name": "stdout",
     "output_type": "stream",
     "text": [
      "@SRR23538290.50 50 length=121\n",
      "GGAAATTGTGGTAATTTTAGAGTTAATATATGTTGATGGGTGTTGATTTTTTTTGATGGTATCACGAGATCGGAAGAGCACACGTCTGAACTCCAGTCACCACTCAATCGCGTATTCCGTC\n",
      "+\n",
      "FFFFFFFFF:FFFFFFFFFFFFFFFFFFFFFFFFFFFFFFFFFFFFFFFFFFFFFFFFFFFFFFFFFFFFFFFFFFFFFFFFFFFFFFFFFFFFFFFFFFFFFFFFFFF,FFFFF,FFF:F\n",
      "@SRR23538290.52 52 length=121\n",
      "CGTTGTTTATTGTTTGGGGGTTTTAGTTATTTTAGTGGAAGATGAATGATAAATCACGAGATCGGAAGAGCACACGTCTGAACTCCATACACCACTCAATCTCGTATGCATTCTTCTGCTT\n",
      "+\n",
      "FFFFFFFFFFFFFFFFFFFFFFFFFFFFFFFFFFFFFFFF,FF,FFFFFFFFF::FF:F,FFFF,FF:FFFFFFFF,FFFFF::FFF,:FFFFFF:FFF:FFFFFF:,F,,F,FF,FFF:F\n",
      "@SRR23538290.144 144 length=121\n",
      "TTTTTTTGGATATTAGGAAAAAATTTTGTAGAGAGAGTAAAAAATTTACTAGTATCACGAGATCGGAAGAGCACACGTCTGAACTCCAGTCACCACTCAATCTCGTATGCCGTCTTCTGCT\n",
      "+\n",
      "FFFFFFFFFFFFFFFFFFFFFFFFFFFFFFFFFFFFFFFFFFFFFFFF:FF:FFFFFFFFFFFFFFFFFFFFFFFFFFFFFFFFFFFFFFFFFFFFFFFFFF:FFFFF:,FF,F:FFFFFF\n",
      "@SRR23538290.203 203 length=121\n",
      "GGCTATGTTGAAAATGAGATTAAGATAGTGTAATCACGAGATCGGAAGAGCACACGTCTGAACTCCAGTCACCACTCAATCTCGTATGCCGTCTTCTGCTTTAAAAGCTGGGGGGGGGGGG\n",
      "+\n",
      "FFFFFFFFFFFFF,:FFFFFFFFFFFFFF,FFFFFFFFFFFFFFFFFFFFFFFFFFFFFFFFFFFFFFFFFFFFFFFFFFF,FFF:F::F:F:,F::F:,F,,FF:,,,FFFFFFFFFFFF\n",
      "\n",
      "gzip: stdout: Broken pipe\n"
     ]
    }
   ],
   "source": [
    "! zcat {in_fn}|head -16  "
   ]
  },
  {
   "cell_type": "code",
   "execution_count": 33,
   "id": "bbff0c14-bd75-4988-a235-07400fa4a89b",
   "metadata": {},
   "outputs": [],
   "source": [
    "def show_adapter(reads):\n",
    "    for read in reads.split('\\n'):\n",
    "        read = read.replace(adapter, f'<span style=\"color: blue;\">{barcode3}{adapter}</span>')\n",
    "        display(HTML(read))"
   ]
  },
  {
   "cell_type": "markdown",
   "id": "b131dc87-f706-4aa6-b82d-8fec51b0b7c2",
   "metadata": {},
   "source": [
    "Look for adapter in untrimmed reads"
   ]
  },
  {
   "cell_type": "code",
   "execution_count": 34,
   "id": "c6560944-596a-443c-9f53-d07613ceedbd",
   "metadata": {},
   "outputs": [
    {
     "data": {
      "text/html": [
       "GGAAATTGTGGTAATTTTAGAGTTAATATATGTTGATGGGTGTTGATTTTTTTTGATGGTATCACG<span style=\"color: blue;\">ATCACGAGATCGGAAGAGCACACGTCT</span>GAACTCCAGTCACCACTCAATCGCGTATTCCGTC"
      ],
      "text/plain": [
       "<IPython.core.display.HTML object>"
      ]
     },
     "metadata": {},
     "output_type": "display_data"
    },
    {
     "data": {
      "text/html": [
       "CGTTGTTTATTGTTTGGGGGTTTTAGTTATTTTAGTGGAAGATGAATGATAAATCACG<span style=\"color: blue;\">ATCACGAGATCGGAAGAGCACACGTCT</span>GAACTCCATACACCACTCAATCTCGTATGCATTCTTCTGCTT"
      ],
      "text/plain": [
       "<IPython.core.display.HTML object>"
      ]
     },
     "metadata": {},
     "output_type": "display_data"
    },
    {
     "data": {
      "text/html": [
       "TTTTTTTGGATATTAGGAAAAAATTTTGTAGAGAGAGTAAAAAATTTACTAGTATCACG<span style=\"color: blue;\">ATCACGAGATCGGAAGAGCACACGTCT</span>GAACTCCAGTCACCACTCAATCTCGTATGCCGTCTTCTGCT"
      ],
      "text/plain": [
       "<IPython.core.display.HTML object>"
      ]
     },
     "metadata": {},
     "output_type": "display_data"
    },
    {
     "data": {
      "text/html": [
       "GGCTATGTTGAAAATGAGATTAAGATAGTGTAATCACG<span style=\"color: blue;\">ATCACGAGATCGGAAGAGCACACGTCT</span>GAACTCCAGTCACCACTCAATCTCGTATGCCGTCTTCTGCTTTAAAAGCTGGGGGGGGGGGG"
      ],
      "text/plain": [
       "<IPython.core.display.HTML object>"
      ]
     },
     "metadata": {},
     "output_type": "display_data"
    },
    {
     "data": {
      "text/html": [
       "CTATTAAATTAAGTAAATAAGTTTAAATGTTTTTTAAGTTTATAGGGTATTAGTAATTTGTGGTAAATGAAGATAGTGTCTAATCACG<span style=\"color: blue;\">ATCACGAGATCGGAAGAGCACACGTCT</span>GAACTCCAGTCA"
      ],
      "text/plain": [
       "<IPython.core.display.HTML object>"
      ]
     },
     "metadata": {},
     "output_type": "display_data"
    },
    {
     "data": {
      "text/html": [
       "CCAGGAATTATAGTAATGTTTAGTTTATTGAGTTAAATGTTTGTCGGATGTGTTTGTGAGGGGATGAGGATGATAAGATTTTGTTTAGTATCACG<span style=\"color: blue;\">ATCACGAGATCGGAAGAGCACACGTCT</span>GAACT"
      ],
      "text/plain": [
       "<IPython.core.display.HTML object>"
      ]
     },
     "metadata": {},
     "output_type": "display_data"
    },
    {
     "data": {
      "text/html": [
       "CGTTATTAAAAAGATATTTGATATTGATGAAGTTGAAGAAGGTGTAAAGGATTTTAAGATTGAAACTGTTATCACG<span style=\"color: blue;\">ATCACGAGATCGGAAGAGCACACGTCT</span>GAACTCCAGTCACCACTCAATCTC"
      ],
      "text/plain": [
       "<IPython.core.display.HTML object>"
      ]
     },
     "metadata": {},
     "output_type": "display_data"
    },
    {
     "data": {
      "text/html": [
       "CATGAAATGTTTTGGAGTAGAAGTAGAAGGTTTTTAATGTAATCTAATCACG<span style=\"color: blue;\">ATCACGAGATCGGAAGAGCACACGTCT</span>GAACTCCAGTCACCACTCAATCTCGGATGCCCTCTAAAGCATGAAAAA"
      ],
      "text/plain": [
       "<IPython.core.display.HTML object>"
      ]
     },
     "metadata": {},
     "output_type": "display_data"
    },
    {
     "data": {
      "text/html": [
       "CCTCAAGAGTTTTAATGTTTTTAATGTAGGTGATGATTGGGAAAACACATCACG<span style=\"color: blue;\">ATCACGAGATCGGAAGAGCACACGTCT</span>GAACTCCAGTCACCACTCAATCTCGTATGCCGTCTTCTTCTTGAAA"
      ],
      "text/plain": [
       "<IPython.core.display.HTML object>"
      ]
     },
     "metadata": {},
     "output_type": "display_data"
    }
   ],
   "source": [
    "reads = ! zcat {in_fn} | head -36  | seqtk seq -A |grep -v '>'\n",
    "reads = ('\\n').join(reads)\n",
    "show_adapter(reads)"
   ]
  },
  {
   "cell_type": "markdown",
   "id": "fad1e27a-a3a6-4bfe-9920-203e65654575",
   "metadata": {},
   "source": [
    "Verify that adapters and all downstream elements of reads have been trimmed"
   ]
  },
  {
   "cell_type": "code",
   "execution_count": 35,
   "id": "65a7f174-35a8-4956-bdf3-eb86888a902a",
   "metadata": {
    "scrolled": true
   },
   "outputs": [
    {
     "data": {
      "text/html": [
       "TTGTGGTAATTTTAGAGTTAATATATGTTG"
      ],
      "text/plain": [
       "<IPython.core.display.HTML object>"
      ]
     },
     "metadata": {},
     "output_type": "display_data"
    },
    {
     "data": {
      "text/html": [
       "TTTATTGTTTGGGGGTTTTAGTTATTTTAG"
      ],
      "text/plain": [
       "<IPython.core.display.HTML object>"
      ]
     },
     "metadata": {},
     "output_type": "display_data"
    },
    {
     "data": {
      "text/html": [
       "TTGGATATTAGGAAAAAATTTTGTAGAGAG"
      ],
      "text/plain": [
       "<IPython.core.display.HTML object>"
      ]
     },
     "metadata": {},
     "output_type": "display_data"
    },
    {
     "data": {
      "text/html": [
       "TGTTGAAAATGAGATTAAGATAGTGTA"
      ],
      "text/plain": [
       "<IPython.core.display.HTML object>"
      ]
     },
     "metadata": {},
     "output_type": "display_data"
    },
    {
     "data": {
      "text/html": [
       "AAATTAAGTAAATAAGTTTAAATGTTTTTT"
      ],
      "text/plain": [
       "<IPython.core.display.HTML object>"
      ]
     },
     "metadata": {},
     "output_type": "display_data"
    },
    {
     "data": {
      "text/html": [
       "AATTATAGTAATGTTTAGTTTATTGAGTTA"
      ],
      "text/plain": [
       "<IPython.core.display.HTML object>"
      ]
     },
     "metadata": {},
     "output_type": "display_data"
    },
    {
     "data": {
      "text/html": [
       "TTAAAAAGATATTTGATATTGATGAAGTTG"
      ],
      "text/plain": [
       "<IPython.core.display.HTML object>"
      ]
     },
     "metadata": {},
     "output_type": "display_data"
    },
    {
     "data": {
      "text/html": [
       "AATGTTTTGGAGTAGAAGTAGAAGGTTTTT"
      ],
      "text/plain": [
       "<IPython.core.display.HTML object>"
      ]
     },
     "metadata": {},
     "output_type": "display_data"
    },
    {
     "data": {
      "text/html": [
       "AGAGTTTTAATGTTTTTAATGTAGGTGATG"
      ],
      "text/plain": [
       "<IPython.core.display.HTML object>"
      ]
     },
     "metadata": {},
     "output_type": "display_data"
    },
    {
     "data": {
      "text/html": [
       "TAAAATTAATTTGAAATTTAATCATAAAGA"
      ],
      "text/plain": [
       "<IPython.core.display.HTML object>"
      ]
     },
     "metadata": {},
     "output_type": "display_data"
    },
    {
     "data": {
      "text/html": [
       "GGTGTTTTATGTTGGGGAGGATGATGAGGA"
      ],
      "text/plain": [
       "<IPython.core.display.HTML object>"
      ]
     },
     "metadata": {},
     "output_type": "display_data"
    },
    {
     "data": {
      "text/html": [
       "AAAAAAAAAAAAAAAAAAAAAAAAAAAAAA"
      ],
      "text/plain": [
       "<IPython.core.display.HTML object>"
      ]
     },
     "metadata": {},
     "output_type": "display_data"
    },
    {
     "data": {
      "text/html": [
       "GTAATGAAGGGTAAGATGAAGTGAAAGGTA"
      ],
      "text/plain": [
       "<IPython.core.display.HTML object>"
      ]
     },
     "metadata": {},
     "output_type": "display_data"
    },
    {
     "data": {
      "text/html": [
       "TGTTGGTAGAGGTCTATTAAGTGAGGTTTT"
      ],
      "text/plain": [
       "<IPython.core.display.HTML object>"
      ]
     },
     "metadata": {},
     "output_type": "display_data"
    },
    {
     "data": {
      "text/html": [
       "TTGGTAAAGAATTTAGTATAATATTAAATG"
      ],
      "text/plain": [
       "<IPython.core.display.HTML object>"
      ]
     },
     "metadata": {},
     "output_type": "display_data"
    },
    {
     "data": {
      "text/html": [
       "TTGGGTTTAGTGTTATGGTTTTGGTTTGTA"
      ],
      "text/plain": [
       "<IPython.core.display.HTML object>"
      ]
     },
     "metadata": {},
     "output_type": "display_data"
    },
    {
     "data": {
      "text/html": [
       "TTTGTTTGTTTTGGTTTTTGAAAGTGTTGG"
      ],
      "text/plain": [
       "<IPython.core.display.HTML object>"
      ]
     },
     "metadata": {},
     "output_type": "display_data"
    },
    {
     "data": {
      "text/html": [
       "GAGTTTTGAAATTATAGATGATAGTTTATG"
      ],
      "text/plain": [
       "<IPython.core.display.HTML object>"
      ]
     },
     "metadata": {},
     "output_type": "display_data"
    },
    {
     "data": {
      "text/html": [
       "AAAATAATGTGGTATTTATGAGTTATTTTT"
      ],
      "text/plain": [
       "<IPython.core.display.HTML object>"
      ]
     },
     "metadata": {},
     "output_type": "display_data"
    },
    {
     "data": {
      "text/html": [
       "AGGGTTTGTTTTGTGGAGAGGTTGTTGTTT"
      ],
      "text/plain": [
       "<IPython.core.display.HTML object>"
      ]
     },
     "metadata": {},
     "output_type": "display_data"
    },
    {
     "data": {
      "text/html": [
       "TTAGAGATGAAAAATGAGATTATTTGAAGG"
      ],
      "text/plain": [
       "<IPython.core.display.HTML object>"
      ]
     },
     "metadata": {},
     "output_type": "display_data"
    },
    {
     "data": {
      "text/html": [
       "GTTTGGTTGATATTTTGAGTTTTTTTTGCA"
      ],
      "text/plain": [
       "<IPython.core.display.HTML object>"
      ]
     },
     "metadata": {},
     "output_type": "display_data"
    },
    {
     "data": {
      "text/html": [
       "TAAATTTATTGGAAATATGGTATTGTTGTT"
      ],
      "text/plain": [
       "<IPython.core.display.HTML object>"
      ]
     },
     "metadata": {},
     "output_type": "display_data"
    },
    {
     "data": {
      "text/html": [
       "TAAGGAGGTGGTTATTGTTATTTGTGGGGT"
      ],
      "text/plain": [
       "<IPython.core.display.HTML object>"
      ]
     },
     "metadata": {},
     "output_type": "display_data"
    },
    {
     "data": {
      "text/html": [
       "TGTATTTGTTTATATAGTTATGTGAATAGA"
      ],
      "text/plain": [
       "<IPython.core.display.HTML object>"
      ]
     },
     "metadata": {},
     "output_type": "display_data"
    },
    {
     "data": {
      "text/html": [
       "GGGAATTTGTTATAAGTGTAGTGTATTCC"
      ],
      "text/plain": [
       "<IPython.core.display.HTML object>"
      ]
     },
     "metadata": {},
     "output_type": "display_data"
    },
    {
     "data": {
      "text/html": [
       "ATTGGTAGGAATAGGTAGTATTGATTTAGT"
      ],
      "text/plain": [
       "<IPython.core.display.HTML object>"
      ]
     },
     "metadata": {},
     "output_type": "display_data"
    },
    {
     "data": {
      "text/html": [
       "TTGTTGGAGGTGTAATGGATGTTAATATTG"
      ],
      "text/plain": [
       "<IPython.core.display.HTML object>"
      ]
     },
     "metadata": {},
     "output_type": "display_data"
    },
    {
     "data": {
      "text/html": [
       "TTGTAGAAAAATTTGTTAAGTTATTAGGGA"
      ],
      "text/plain": [
       "<IPython.core.display.HTML object>"
      ]
     },
     "metadata": {},
     "output_type": "display_data"
    },
    {
     "data": {
      "text/html": [
       "GAATAAATTTTATATTTATGGATTTATGTT"
      ],
      "text/plain": [
       "<IPython.core.display.HTML object>"
      ]
     },
     "metadata": {},
     "output_type": "display_data"
    },
    {
     "data": {
      "text/html": [
       "TTAATATGGATTTGTTTTGGTTTATTATGA"
      ],
      "text/plain": [
       "<IPython.core.display.HTML object>"
      ]
     },
     "metadata": {},
     "output_type": "display_data"
    },
    {
     "data": {
      "text/html": [
       "TTAGAAAAAATAAAGATGTTGTAAGAAGGT"
      ],
      "text/plain": [
       "<IPython.core.display.HTML object>"
      ]
     },
     "metadata": {},
     "output_type": "display_data"
    },
    {
     "data": {
      "text/html": [
       "GAAAAGAGTAAAGGATGAAAGATGAAAAAG"
      ],
      "text/plain": [
       "<IPython.core.display.HTML object>"
      ]
     },
     "metadata": {},
     "output_type": "display_data"
    },
    {
     "data": {
      "text/html": [
       "GTTGTATGTGTGAGATTTTTTTGTTGTTTT"
      ],
      "text/plain": [
       "<IPython.core.display.HTML object>"
      ]
     },
     "metadata": {},
     "output_type": "display_data"
    },
    {
     "data": {
      "text/html": [
       "GTTTATTGTGGTTTTTTTTGATGTGGTTGT"
      ],
      "text/plain": [
       "<IPython.core.display.HTML object>"
      ]
     },
     "metadata": {},
     "output_type": "display_data"
    },
    {
     "data": {
      "text/html": [
       "AAGAAGAGTAAGAAGTGGAAGTTAAAAAAG"
      ],
      "text/plain": [
       "<IPython.core.display.HTML object>"
      ]
     },
     "metadata": {},
     "output_type": "display_data"
    },
    {
     "data": {
      "text/html": [
       "TTTTGGTTGGAGTTGTTTGGTTTTAGAGTG"
      ],
      "text/plain": [
       "<IPython.core.display.HTML object>"
      ]
     },
     "metadata": {},
     "output_type": "display_data"
    },
    {
     "data": {
      "text/html": [
       "ATAGATTTTTATGAGGATAGGGTTGTGTTT"
      ],
      "text/plain": [
       "<IPython.core.display.HTML object>"
      ]
     },
     "metadata": {},
     "output_type": "display_data"
    },
    {
     "data": {
      "text/html": [
       "TTAGGAGTTTTATGTTGTAGTGAATTATGA"
      ],
      "text/plain": [
       "<IPython.core.display.HTML object>"
      ]
     },
     "metadata": {},
     "output_type": "display_data"
    },
    {
     "data": {
      "text/html": [
       "ATTGGTTTTTTGGAGATTGGTTATTATATA"
      ],
      "text/plain": [
       "<IPython.core.display.HTML object>"
      ]
     },
     "metadata": {},
     "output_type": "display_data"
    },
    {
     "data": {
      "text/html": [
       "AAGAGGAGTTTATTTTATAGGAGTTTTAGT"
      ],
      "text/plain": [
       "<IPython.core.display.HTML object>"
      ]
     },
     "metadata": {},
     "output_type": "display_data"
    },
    {
     "data": {
      "text/html": [
       "GTTTAAAGATGAATAGTTTTTTGGATATTA"
      ],
      "text/plain": [
       "<IPython.core.display.HTML object>"
      ]
     },
     "metadata": {},
     "output_type": "display_data"
    },
    {
     "data": {
      "text/html": [
       "GAATAATATGGATTAGGTTGAGA"
      ],
      "text/plain": [
       "<IPython.core.display.HTML object>"
      ]
     },
     "metadata": {},
     "output_type": "display_data"
    },
    {
     "data": {
      "text/html": [
       "TAATGAAAAAAGTTGGAAGAAAGGGTGTTA"
      ],
      "text/plain": [
       "<IPython.core.display.HTML object>"
      ]
     },
     "metadata": {},
     "output_type": "display_data"
    },
    {
     "data": {
      "text/html": [
       "TTTGTTAATATGAGGATAGAAGGATTGGTG"
      ],
      "text/plain": [
       "<IPython.core.display.HTML object>"
      ]
     },
     "metadata": {},
     "output_type": "display_data"
    },
    {
     "data": {
      "text/html": [
       "AATGTATGTTATAGGAAAATTTATTTTTTT"
      ],
      "text/plain": [
       "<IPython.core.display.HTML object>"
      ]
     },
     "metadata": {},
     "output_type": "display_data"
    },
    {
     "data": {
      "text/html": [
       "GTTTGTTGAGAAAGGTGAATAAGGATAGTA"
      ],
      "text/plain": [
       "<IPython.core.display.HTML object>"
      ]
     },
     "metadata": {},
     "output_type": "display_data"
    },
    {
     "data": {
      "text/html": [
       "GTGTTTAGTTAGATTGTGGTTTTGAATTAT"
      ],
      "text/plain": [
       "<IPython.core.display.HTML object>"
      ]
     },
     "metadata": {},
     "output_type": "display_data"
    },
    {
     "data": {
      "text/html": [
       "GTAGTGGGTATTGTTGTTGTTATTTTTGTA"
      ],
      "text/plain": [
       "<IPython.core.display.HTML object>"
      ]
     },
     "metadata": {},
     "output_type": "display_data"
    },
    {
     "data": {
      "text/html": [
       "ATGTTGTTTGGTGATGTATGAGTGTAGTTG"
      ],
      "text/plain": [
       "<IPython.core.display.HTML object>"
      ]
     },
     "metadata": {},
     "output_type": "display_data"
    },
    {
     "data": {
      "text/html": [
       "AGTTTTTTTAATTTGTAAATGTTAATTTTT"
      ],
      "text/plain": [
       "<IPython.core.display.HTML object>"
      ]
     },
     "metadata": {},
     "output_type": "display_data"
    },
    {
     "data": {
      "text/html": [
       "TTTTATAATGGATGAAAGTTTGATGAAGTA"
      ],
      "text/plain": [
       "<IPython.core.display.HTML object>"
      ]
     },
     "metadata": {},
     "output_type": "display_data"
    },
    {
     "data": {
      "text/html": [
       "TGGTGGTGGTGGTGGTCTCGG"
      ],
      "text/plain": [
       "<IPython.core.display.HTML object>"
      ]
     },
     "metadata": {},
     "output_type": "display_data"
    },
    {
     "data": {
      "text/html": [
       "GAGAGAAAAGAGTGTTTTGAGAGTTTGAAT"
      ],
      "text/plain": [
       "<IPython.core.display.HTML object>"
      ]
     },
     "metadata": {},
     "output_type": "display_data"
    },
    {
     "data": {
      "text/html": [
       "ATGGATTATAATAAAGATTAGTTGGAGAAA"
      ],
      "text/plain": [
       "<IPython.core.display.HTML object>"
      ]
     },
     "metadata": {},
     "output_type": "display_data"
    },
    {
     "data": {
      "text/html": [
       "AAAAAAAAAAAAAAAAAAAAAAAAAAAAAA"
      ],
      "text/plain": [
       "<IPython.core.display.HTML object>"
      ]
     },
     "metadata": {},
     "output_type": "display_data"
    },
    {
     "data": {
      "text/html": [
       "TATATTATTTGAATGAGTAGGTGAAAGTTA"
      ],
      "text/plain": [
       "<IPython.core.display.HTML object>"
      ]
     },
     "metadata": {},
     "output_type": "display_data"
    },
    {
     "data": {
      "text/html": [
       "AGTTAAAAGTTTTTATGAAGGGGTTGGGAA"
      ],
      "text/plain": [
       "<IPython.core.display.HTML object>"
      ]
     },
     "metadata": {},
     "output_type": "display_data"
    },
    {
     "data": {
      "text/html": [
       "TGATGGTTTAGGTATTTGAGAGTTGTTAGT"
      ],
      "text/plain": [
       "<IPython.core.display.HTML object>"
      ]
     },
     "metadata": {},
     "output_type": "display_data"
    },
    {
     "data": {
      "text/html": [
       "TAATAGAGAAGGGAAAGTAGTTTGTTTTGA"
      ],
      "text/plain": [
       "<IPython.core.display.HTML object>"
      ]
     },
     "metadata": {},
     "output_type": "display_data"
    },
    {
     "data": {
      "text/html": [
       "TTTAAATTAATTGGTTATGGTTTTGTAGTT"
      ],
      "text/plain": [
       "<IPython.core.display.HTML object>"
      ]
     },
     "metadata": {},
     "output_type": "display_data"
    },
    {
     "data": {
      "text/html": [
       "GAATAGTTGGTGTTAGTGAGGAAAATTGTG"
      ],
      "text/plain": [
       "<IPython.core.display.HTML object>"
      ]
     },
     "metadata": {},
     "output_type": "display_data"
    },
    {
     "data": {
      "text/html": [
       "ATTATGAATATAAGGTAAAGAGGAATTGTT"
      ],
      "text/plain": [
       "<IPython.core.display.HTML object>"
      ]
     },
     "metadata": {},
     "output_type": "display_data"
    },
    {
     "data": {
      "text/html": [
       "GGAATTGATTGTAAAAAAAAAAAAAAAAAA"
      ],
      "text/plain": [
       "<IPython.core.display.HTML object>"
      ]
     },
     "metadata": {},
     "output_type": "display_data"
    }
   ],
   "source": [
    "reads = !zcat {out_fn}| head -256  | seqtk seq -A |grep -v '>'\n",
    "reads = ('\\n').join(reads)\n",
    "show_adapter(reads)"
   ]
  },
  {
   "cell_type": "markdown",
   "id": "b28de976-ebee-4727-a44a-a3379cd8757e",
   "metadata": {},
   "source": [
    "What did `--rename='{{id}}_{{cut_prefix}}{{cut_suffix}} {{comment}}'` do?\n",
    "\n",
    "Looks like "
   ]
  },
  {
   "cell_type": "code",
   "execution_count": 36,
   "id": "183946b6-0828-455e-a317-a2a37261c6b9",
   "metadata": {},
   "outputs": [
    {
     "name": "stdout",
     "output_type": "stream",
     "text": [
      "@SRR23538290.50 50 length=121\n",
      "GGAAATTGTGGTAATTTTAGAGTTAATATATGTTGATGGGTGTTGATTTTTTTTGATGGTATCACGAGATCGGAAGAGCACACGTCTGAACTCCAGTCACCACTCAATCGCGTATTCCGTC\n",
      "\n",
      "gzip: stdout: Broken pipe\n"
     ]
    }
   ],
   "source": [
    "!zcat {in_fn}| head -2 "
   ]
  },
  {
   "cell_type": "code",
   "execution_count": 37,
   "id": "97272d2b-9170-4935-8801-907e7ffcb1f0",
   "metadata": {},
   "outputs": [
    {
     "name": "stdout",
     "output_type": "stream",
     "text": [
      "@SRR23538290.50_GGAAACCGTC 50 length=121\n",
      "TTGTGGTAATTTTAGAGTTAATATATGTTG\n",
      "\n",
      "gzip: stdout: Broken pipe\n"
     ]
    }
   ],
   "source": [
    "!zcat {out_fn}| head -2 "
   ]
  },
  {
   "cell_type": "markdown",
   "id": "22988563-df9e-471e-ad5c-e2b34d86f94f",
   "metadata": {},
   "source": [
    "Verify that adapters and all downstream elements of reads have been trimmed"
   ]
  },
  {
   "cell_type": "markdown",
   "id": "47d80e80-4f86-421a-bd13-f1b66cb48c48",
   "metadata": {},
   "source": [
    "No reads should have been deleted with cutadapt. Veryify that number of reads before and after cutadapt are the same."
   ]
  },
  {
   "cell_type": "code",
   "execution_count": 38,
   "id": "e03f142f-9d37-4d6c-965d-c17053979e68",
   "metadata": {},
   "outputs": [
    {
     "data": {
      "text/plain": [
       "[1872556, 2732849, 2368579]"
      ]
     },
     "execution_count": 38,
     "metadata": {},
     "output_type": "execute_result"
    }
   ],
   "source": [
    "# Untrimmed\n",
    "files = [fname(in_path,sample, \"fq.gz\") for sample in samples]\n",
    "ins = [nseqs(f) for f in files]\n",
    "ins"
   ]
  },
  {
   "cell_type": "code",
   "execution_count": 39,
   "id": "172a1fac-5cf4-4d31-a7d1-25cc250689f6",
   "metadata": {},
   "outputs": [
    {
     "data": {
      "text/plain": [
       "[1862069, 2712675, 2351439]"
      ]
     },
     "execution_count": 39,
     "metadata": {},
     "output_type": "execute_result"
    }
   ],
   "source": [
    "# Adapter Trimmed Reads\n",
    "files = [fname(out_path,sample, \"fq.gz\") for sample in samples]\n",
    "ins = [nseqs(f) for f in files]\n",
    "ins"
   ]
  },
  {
   "cell_type": "code",
   "execution_count": 40,
   "id": "f0a6990d-1e30-439d-b9dc-bba695c9d82c",
   "metadata": {},
   "outputs": [
    {
     "data": {
      "text/plain": [
       "[10464, 20153, 17094]"
      ]
     },
     "execution_count": 40,
     "metadata": {},
     "output_type": "execute_result"
    }
   ],
   "source": [
    "# Too Short Reads\n",
    "files = [fname(out_path,sample, \"fastq_tooshort\") for sample in samples]\n",
    "ins = [nseqs(f) for f in files]\n",
    "ins"
   ]
  },
  {
   "cell_type": "markdown",
   "id": "ba63237d-b9da-4e19-9b66-0c523efadc17",
   "metadata": {},
   "source": [
    "Compare the sum of read lengths in the original and adapter trimmed files"
   ]
  },
  {
   "cell_type": "code",
   "execution_count": 41,
   "id": "9004da50-f983-496a-8ec4-7e8a45047d22",
   "metadata": {},
   "outputs": [
    {
     "data": {
      "text/plain": [
       "[228451832, 333407578, 288966638]"
      ]
     },
     "execution_count": 41,
     "metadata": {},
     "output_type": "execute_result"
    }
   ],
   "source": [
    "files = [fname(in_path,sample, \"fq.gz\") for sample in samples]\n",
    "res = []\n",
    "for f in files:\n",
    "    n = !seqtk seq -A {f}|grep -v '>'|wc -c\n",
    "    res.append(int(n[0]))\n",
    "ins = res\n",
    "ins"
   ]
  },
  {
   "cell_type": "code",
   "execution_count": 42,
   "id": "fb5d33e9-c511-41f2-b8d4-3f7e606fa4ad",
   "metadata": {},
   "outputs": [
    {
     "data": {
      "text/plain": [
       "[57525467, 83693640, 72560566]"
      ]
     },
     "execution_count": 42,
     "metadata": {},
     "output_type": "execute_result"
    }
   ],
   "source": [
    "files = [fname(out_path,sample, \"fq.gz\") for sample in samples]\n",
    "res = []\n",
    "for f in files:\n",
    "    n = !seqtk seq -A {f}|grep -v '>'|wc -c\n",
    "    res.append(int(n[0]))\n",
    "outs = res\n",
    "outs"
   ]
  },
  {
   "cell_type": "code",
   "execution_count": 43,
   "id": "34da7817",
   "metadata": {},
   "outputs": [
    {
     "data": {
      "image/png": "[encoded data removed]",
      "text/plain": [
       "<Figure size 640x480 with 1 Axes>"
      ]
     },
     "metadata": {},
     "output_type": "display_data"
    }
   ],
   "source": [
    "make_table(ins, outs, \"Origs\", \"Trimmed\", \"Sum of Total Read Lengths\", samples, \"Sum of Total Reads Per Sample\")"
   ]
  },
  {
   "cell_type": "code",
   "execution_count": 44,
   "id": "728a7038-553c-4428-9112-becd7d1c87cf",
   "metadata": {},
   "outputs": [
    {
     "data": {
      "image/png": "[encoded data removed]",
      "text/plain": [
       "<Figure size 640x480 with 1 Axes>"
      ]
     },
     "metadata": {},
     "output_type": "display_data"
    }
   ],
   "source": [
    "reads = !xargs zcat {out_path}/*.gz | seqtk seq -A  |grep -v \">\" \n",
    "ds = [len(read) for read in reads]\n",
    "make_histogram(ds, \"Read Length\", \"Trimmed Reads\")"
   ]
  },
  {
   "cell_type": "markdown",
   "id": "bf68d82c-0200-4613-b5b6-497fde519e16",
   "metadata": {},
   "source": [
    "## Step: fastqc_post"
   ]
  },
  {
   "cell_type": "markdown",
   "id": "8198a2d4-8f2f-46de-ba05-5b335a21bc2e",
   "metadata": {},
   "source": [
    "#### Post Trimming Quality Control"
   ]
  },
  {
   "cell_type": "code",
   "execution_count": 45,
   "id": "140ea0f2-cb1c-48a6-adbd-5264b92c8e1f",
   "metadata": {},
   "outputs": [],
   "source": [
    "in_path = mkpath(\"trim\")\n",
    "out_path = mkpath(\"fastqc_post\")"
   ]
  },
  {
   "cell_type": "code",
   "execution_count": 46,
   "id": "aa72c0a9-9280-4255-b5d6-d0d0258181c0",
   "metadata": {},
   "outputs": [
    {
     "name": "stdout",
     "output_type": "stream",
     "text": [
      "application/gzip\n",
      "Analysis complete for t1.fq.gz\n",
      "application/gzip\n",
      "Analysis complete for t2.fq.gz\n",
      "application/gzip\n",
      "Analysis complete for t3.fq.gz\n"
     ]
    }
   ],
   "source": [
    "for sample in samples:\n",
    "    ! fastqc {fname(in_path,sample,\"fq.gz\")} -o {out_path} 2> /dev/null"
   ]
  },
  {
   "cell_type": "markdown",
   "id": "69de1cf7-fa1b-49f1-ba6a-a14126989904",
   "metadata": {},
   "source": [
    "#### Consolidate fastqc Reports"
   ]
  },
  {
   "cell_type": "code",
   "execution_count": 47,
   "id": "e751dc92-97ee-4f4e-af15-6d05c1fb49ce",
   "metadata": {
    "jupyter": {
     "source_hidden": true
    }
   },
   "outputs": [
    {
     "name": "stdout",
     "output_type": "stream",
     "text": [
      "\n",
      "  \u001b[91m///\u001b[0m \u001b]8;id=622862;https://multiqc.info\u001b\\\u001b[1mMultiQC\u001b[0m\u001b]8;;\u001b\\ 🔍 \u001b[2m| v1.19\u001b[0m\n",
      "\n",
      "\u001b[34m|           multiqc\u001b[0m | Only using modules: fastqc\n",
      "\u001b[34m|           multiqc\u001b[0m | Search path : /home/cdaniels/uofc_data/ubs_seq/UBS-seq_basic/workspace/fastqc_post\n",
      "\u001b[2K\u001b[34m|\u001b[0m         \u001b[34msearching\u001b[0m | \u001b[90m━━━━━━━━━━━━━━━━━━━━━━━━━━━━━━━━━━━━━━━━\u001b[0m \u001b[35m100%\u001b[0m \u001b[32m6/6\u001b[0m  0/6\u001b[0m  \n",
      "\u001b[?25h\u001b[34m|            fastqc\u001b[0m | Found 3 reports\n",
      "\u001b[34m|           multiqc\u001b[0m | Report      : fastqc_post/multiqc.html\n",
      "\u001b[34m|           multiqc\u001b[0m | Data        : fastqc_post/multiqc_data\n",
      "\u001b[34m|           multiqc\u001b[0m | MultiQC complete\n"
     ]
    }
   ],
   "source": [
    "!multiqc -f -fp -m fastqc -n multiqc -o {out_path} {out_path}"
   ]
  },
  {
   "cell_type": "code",
   "execution_count": 48,
   "id": "bc5b1d72-84a7-4fd3-a8ae-e755b5015a52",
   "metadata": {},
   "outputs": [
    {
     "name": "stdout",
     "output_type": "stream",
     "text": [
      "multiqc_data  t1_fastqc.html  t2_fastqc.html  t3_fastqc.html\n",
      "multiqc.html  t1_fastqc.zip   t2_fastqc.zip   t3_fastqc.zip\n"
     ]
    }
   ],
   "source": [
    "! ls {out_path}"
   ]
  },
  {
   "cell_type": "markdown",
   "id": "dd222f8b-c131-4a5a-b865-d59c1c5879e7",
   "metadata": {},
   "source": [
    "## Step: Hisat3n_align"
   ]
  },
  {
   "cell_type": "markdown",
   "id": "aa201443-78ec-4c4b-8e68-83f01a3b01f3",
   "metadata": {},
   "source": [
    "#### Align Samples to Genome with Hisat-3n"
   ]
  },
  {
   "cell_type": "code",
   "execution_count": 49,
   "id": "80a6c377-5017-4865-aac4-eacc555b7345",
   "metadata": {},
   "outputs": [],
   "source": [
    "in_path = mkpath(\"trim\")\n",
    "out_path = mkpath(\"hisat3n_align\")"
   ]
  },
  {
   "cell_type": "markdown",
   "id": "7fba7ae0-92e6-4435-a5f9-bf6610ba7101",
   "metadata": {},
   "source": [
    "#### hisat-3n"
   ]
  },
  {
   "cell_type": "markdown",
   "id": "41f584e2-8878-4cf9-91c9-49514d1a8ae7",
   "metadata": {},
   "source": [
    "http://daehwankimlab.github.io/hisat2/hisat-3n/"
   ]
  },
  {
   "cell_type": "code",
   "execution_count": 50,
   "id": "98b74e19-5d09-491f-b605-8461a0b95ac4",
   "metadata": {
    "scrolled": true
   },
   "outputs": [
    {
     "name": "stdout",
     "output_type": "stream",
     "text": [
      "HISAT2 version 2.2.1-3n-0.0.3 by Daehwan Kim (infphilo@gmail.com, www.ccb.jhu.edu/people/infphilo)\n",
      "Usage: \n",
      "  hisat2 [options]* -x <ht2-idx> {-1 <m1> -2 <m2> | -U <r>} [-S <sam>]\n",
      "\n",
      "  <ht2-idx>  Index filename prefix (minus trailing .X.ht2).\n",
      "  <m1>       Files with #1 mates, paired with files in <m2>.\n",
      "             Could be gzip'ed (extension: .gz) or bzip2'ed (extension: .bz2).\n",
      "  <m2>       Files with #2 mates, paired with files in <m1>.\n",
      "             Could be gzip'ed (extension: .gz) or bzip2'ed (extension: .bz2).\n",
      "  <r>        Files with unpaired reads.\n",
      "             Could be gzip'ed (extension: .gz) or bzip2'ed (extension: .bz2).\n",
      "  <sam>      File for SAM output (default: stdout)\n",
      "\n",
      "  <m1>, <m2>, <r> can be comma-separated lists (no whitespace) and can be\n",
      "  specified many times.  E.g. '-U file1.fq,file2.fq -U file3.fq'.\n",
      "\n",
      "Options (defaults in parentheses):\n",
      "\n",
      " Input:\n",
      "  -q                 query input files are FASTQ .fq/.fastq (default)\n",
      "  --qseq             query input files are in Illumina's qseq format\n",
      "  -f                 query input files are (multi-)FASTA .fa/.mfa\n",
      "  -r                 query input files are raw one-sequence-per-line\n",
      "  -c                 <m1>, <m2>, <r> are sequences themselves, not files\n",
      "  -s/--skip <int>    skip the first <int> reads/pairs in the input (none)\n",
      "  -u/--upto <int>    stop after first <int> reads/pairs (no limit)\n",
      "  -5/--trim5 <int>   trim <int> bases from 5'/left end of reads (0)\n",
      "  -3/--trim3 <int>   trim <int> bases from 3'/right end of reads (0)\n",
      "  --phred33          qualities are Phred+33 (default)\n",
      "  --phred64          qualities are Phred+64\n",
      "  --int-quals        qualities encoded as space-delimited integers\n",
      "\n",
      " Presets:                 Same as:\n",
      "   --fast                 --no-repeat-index\n",
      "   --sensitive            --bowtie2-dp 1 -k 30 --score-min L,0,-0.5\n",
      "   --very-sensitive       --bowtie2-dp 2 -k 50 --score-min L,0,-1\n",
      "\n",
      " Alignment:\n",
      "  --bowtie2-dp <int> use Bowtie2's dynamic programming alignment algorithm (0) - 0: no dynamic programming, 1: conditional dynamic programming, and 2: unconditional dynamic programming (slowest)\n",
      "  --n-ceil <func>    func for max # non-A/C/G/Ts permitted in aln (L,0,0.15)\n",
      "  --ignore-quals     treat all quality values as 30 on Phred scale (off)\n",
      "  --nofw             do not align forward (original) version of read (off)\n",
      "  --norc             do not align reverse-complement version of read (off)\n",
      "  --no-repeat-index  do not use repeat index\n",
      "\n",
      " 3N-Alignment:\n",
      "  --base-change <chr,chr>     the converted nucleotide and converted to nucleotide (C,T)\n",
      "  --directional-mapping       make directional mapping, please use this option only if your reads are prepared with a strand specific library (off)\n",
      "  --repeat-limit <int>        maximum number of repeat will be expanded for repeat alignment (1000)\n",
      "  --unique-only               only output the reads have unique alignment (off)\n",
      "\n",
      " Spliced Alignment:\n",
      "  --pen-cansplice <int>              penalty for a canonical splice site (0)\n",
      "  --pen-noncansplice <int>           penalty for a non-canonical splice site (12)\n",
      "  --pen-canintronlen <func>          penalty for long introns (G,-8,1) with canonical splice sites\n",
      "  --pen-noncanintronlen <func>       penalty for long introns (G,-8,1) with noncanonical splice sites\n",
      "  --min-intronlen <int>              minimum intron length (20)\n",
      "  --max-intronlen <int>              maximum intron length (500000)\n",
      "  --known-splicesite-infile <path>   provide a list of known splice sites\n",
      "  --novel-splicesite-outfile <path>  report a list of splice sites\n",
      "  --novel-splicesite-infile <path>   provide a list of novel splice sites\n",
      "  --no-temp-splicesite               disable the use of splice sites found\n",
      "  --no-spliced-alignment             disable spliced alignment\n",
      "  --rna-strandness <string>          specify strand-specific information (unstranded)\n",
      "  --tmo                              reports only those alignments within known transcriptome\n",
      "  --dta                              reports alignments tailored for transcript assemblers\n",
      "  --dta-cufflinks                    reports alignments tailored specifically for cufflinks\n",
      "  --avoid-pseudogene                 tries to avoid aligning reads to pseudogenes (experimental option)\n",
      "  --no-templatelen-adjustment        disables template length adjustment for RNA-seq reads\n",
      "\n",
      " Scoring:\n",
      "  --mp <int>,<int>   max and min penalties for mismatch; lower qual = lower penalty <6,2>\n",
      "  --sp <int>,<int>   max and min penalties for soft-clipping; lower qual = lower penalty <2,1>\n",
      "  --no-softclip      no soft-clipping\n",
      "  --np <int>         penalty for non-A/C/G/Ts in read/ref (1)\n",
      "  --rdg <int>,<int>  read gap open, extend penalties (5,3)\n",
      "  --rfg <int>,<int>  reference gap open, extend penalties (5,3)\n",
      "  --score-min <func> min acceptable alignment score w/r/t read length\n",
      "                     (L,0.0,-0.2)\n",
      "\n",
      " Reporting:\n",
      "  -k <int>           It searches for at most <int> distinct, primary alignments for each read. Primary alignments mean \n",
      "                     alignments whose alignment score is equal to or higher than any other alignments. The search terminates \n",
      "                     when it cannot find more distinct valid alignments, or when it finds <int>, whichever happens first. \n",
      "                     The alignment score for a paired-end alignment equals the sum of the alignment scores of \n",
      "                     the individual mates. Each reported read or pair alignment beyond the first has the SAM ‘secondary’ bit \n",
      "                     (which equals 256) set in its FLAGS field. For reads that have more than <int> distinct, \n",
      "                     valid alignments, hisat2 does not guarantee that the <int> alignments reported are the best possible \n",
      "                     in terms of alignment score. Default: 5 (linear index) or 10 (graph index).\n",
      "                     Note: HISAT2 is not designed with large values for -k in mind, and when aligning reads to long, \n",
      "                     repetitive genomes, large -k could make alignment much slower.\n",
      "  --max-seeds <int>  HISAT2, like other aligners, uses seed-and-extend approaches. HISAT2 tries to extend seeds to \n",
      "                     full-length alignments. In HISAT2, --max-seeds is used to control the maximum number of seeds that \n",
      "                     will be extended. For DNA-read alignment (--no-spliced-alignment), HISAT2 extends up to these many seeds\n",
      "                     and skips the rest of the seeds. For RNA-read alignment, HISAT2 skips extending seeds and reports \n",
      "                     no alignments if the number of seeds is larger than the number specified with the option, \n",
      "                     to be compatible with previous versions of HISAT2. Large values for --max-seeds may improve alignment \n",
      "                     sensitivity, but HISAT2 is not designed with large values for --max-seeds in mind, and when aligning \n",
      "                     reads to long, repetitive genomes, large --max-seeds could make alignment much slower. \n",
      "                     The default value is the maximum of 5 and the value that comes with -k times 2.\n",
      "  -a/--all           HISAT2 reports all alignments it can find. Using the option is equivalent to using both --max-seeds \n",
      "                     and -k with the maximum value that a 64-bit signed integer can represent (9,223,372,036,854,775,807).\n",
      "  --repeat           report alignments to repeat sequences directly\n",
      "\n",
      " Paired-end:\n",
      "  -I/--minins <int>  minimum fragment length (0), only valid with --no-spliced-alignment\n",
      "  -X/--maxins <int>  maximum fragment length (500), only valid with --no-spliced-alignment\n",
      "  --fr/--rf/--ff     -1, -2 mates align fw/rev, rev/fw, fw/fw (--fr)\n",
      "  --no-mixed         suppress unpaired alignments for paired reads\n",
      "  --no-discordant    suppress discordant alignments for paired reads\n",
      "\n",
      " Output:\n",
      "  -t/--time          print wall-clock time taken by search phases\n",
      "  --un <path>           write unpaired reads that didn't align to <path>\n",
      "  --al <path>           write unpaired reads that aligned at least once to <path>\n",
      "  --un-conc <path>      write pairs that didn't align concordantly to <path>\n",
      "  --al-conc <path>      write pairs that aligned concordantly at least once to <path>\n",
      "  (Note: for --un, --al, --un-conc, or --al-conc, add '-gz' to the option name, e.g.\n",
      "  --un-gz <path>, to gzip compress output, or add '-bz2' to bzip2 compress output.)\n",
      "  --summary-file <path> print alignment summary to this file.\n",
      "  --new-summary         print alignment summary in a new style, which is more machine-friendly.\n",
      "  --quiet               print nothing to stderr except serious errors\n",
      "  --met-file <path>     send metrics to file at <path> (off)\n",
      "  --met-stderr          send metrics to stderr (off)\n",
      "  --met <int>           report internal counters & metrics every <int> secs (1)\n",
      "  --no-head             suppress header lines, i.e. lines starting with @\n",
      "  --no-sq               suppress @SQ header lines\n",
      "  --rg-id <text>        set read group id, reflected in @RG line and RG:Z: opt field\n",
      "  --rg <text>           add <text> (\"lab:value\") to @RG line of SAM header.\n",
      "                        Note: @RG line only printed when --rg-id is set.\n",
      "  --omit-sec-seq        put '*' in SEQ and QUAL fields for secondary alignments.\n",
      "\n",
      " Performance:\n",
      "  -o/--offrate <int> override offrate of index; must be >= index's offrate\n",
      "  -p/--threads <int> number of alignment threads to launch (1)\n",
      "  --reorder          force SAM output order to match order of input reads\n",
      "  --mm               use memory-mapped I/O for index; many 'hisat2's can share\n",
      "\n",
      " Other:\n",
      "  --qc-filter        filter out reads that are bad according to QSEQ filter\n",
      "  --seed <int>       seed for random number generator (0)\n",
      "  --non-deterministic seed rand. gen. arbitrarily instead of using read attributes\n",
      "  --remove-chrname   remove 'chr' from reference names in alignment\n",
      "  --add-chrname      add 'chr' to reference names in alignment \n",
      "  --version          print version information and quit\n",
      "  -h/--help          print this usage message\n"
     ]
    }
   ],
   "source": [
    "! hisat-3n --help"
   ]
  },
  {
   "cell_type": "markdown",
   "id": "e1833004-ab6e-43a1-93d9-ae7ce2b17aa3",
   "metadata": {
    "scrolled": true
   },
   "source": [
    "```\n",
    "hisat3n --index {params.index}\n",
    "        -p {threads}\n",
    "        --summary-file {output.summary}\n",
    "        --new-summary\n",
    "        -q\n",
    "        -U {input}\n",
    "        --directional-mapping\n",
    "        --base-change C,T\n",
    "        --pen-noncansplice 20\n",
    "        --mp 4,1\n",
    "        --un {output.fq}\n",
    "        -S {output.sam}\n",
    "```"
   ]
  },
  {
   "cell_type": "markdown",
   "id": "12ef71a2-1e8b-4c06-9953-bad3b25b49e0",
   "metadata": {},
   "source": [
    "##### paramaters:\n",
    "- --index {params.index}, Index filename prefix (minus trailing .X.ht2) \n",
    "- -p {nc}, number of threads\n",
    "- --summary-file, print alignment summary to this file.\n",
    "- --new-summary, print alignment summary in a new style, which is more machine-friendly.\n",
    "- -q, query input files are FASTQ .fq/.fastq (default)\n",
    "- -U {input}, \n",
    "- --directional-mapping, make directional mapping, please use this option only if your reads are prepared with a strand specific library (off)\n",
    "- --base-change C,T,  the converted nucleotide and converted to nucleotide (C,T)\n",
    "- --pen-noncansplice 20, penalty for a non-canonical splice site (12)\n",
    "- --mp 4,1,  max and min penalties for mismatch; lower qual = lower penalty <6,2>\n",
    "- --un {output.fq}, write unpaired reads that didn't align to <path> \n",
    "- -S {output.sam}, File for SAM output (default: stdout)"
   ]
  },
  {
   "cell_type": "code",
   "execution_count": 51,
   "id": "5cdd8492-fa94-4434-9881-9231dba08130",
   "metadata": {},
   "outputs": [
    {
     "name": "stdout",
     "output_type": "stream",
     "text": [
      "HISAT2 summary stats:\n",
      "\tTotal reads: 1862069\n",
      "\t\tAligned 0 time: 325721 (17.49%)\n",
      "\t\tAligned 1 time: 1086440 (58.35%)\n",
      "\t\tAligned >1 times: 449908 (24.16%)\n",
      "\tOverall alignment rate: 82.51%\n",
      "HISAT2 summary stats:\n",
      "\tTotal reads: 2712675\n",
      "\t\tAligned 0 time: 500010 (18.43%)\n",
      "\t\tAligned 1 time: 1567604 (57.79%)\n",
      "\t\tAligned >1 times: 645061 (23.78%)\n",
      "\tOverall alignment rate: 81.57%\n",
      "HISAT2 summary stats:\n",
      "\tTotal reads: 2351439\n",
      "\t\tAligned 0 time: 431105 (18.33%)\n",
      "\t\tAligned 1 time: 1362951 (57.96%)\n",
      "\t\tAligned >1 times: 557383 (23.70%)\n",
      "\tOverall alignment rate: 81.67%\n"
     ]
    }
   ],
   "source": [
    "for sample in samples:\n",
    "    !hisat-3n --index {genome_idx}\\\n",
    "        -p {nc}\\\n",
    "        --summary-file {fname(out_path,sample,\"summary\")}\\\n",
    "        --new-summary\\\n",
    "        -q\\\n",
    "        -U {fname(in_path,sample,'fq.gz')}\\\n",
    "        --directional-mapping\\\n",
    "        --base-change C,T\\\n",
    "        --pen-noncansplice 20\\\n",
    "        --mp 4,1\\\n",
    "        --un {fname(out_path,sample,'unmapped.fq')}\\\n",
    "        -S {fname(out_path,sample,'sam')}"
   ]
  },
  {
   "cell_type": "markdown",
   "id": "7674f153-02d5-47b8-aaf1-f577584fe698",
   "metadata": {},
   "source": [
    "#### Analysis"
   ]
  },
  {
   "cell_type": "code",
   "execution_count": 52,
   "id": "687fd6be-2a5b-49a0-b6a1-af382ed2f3ae",
   "metadata": {},
   "outputs": [
    {
     "name": "stdout",
     "output_type": "stream",
     "text": [
      "total 2.8G\n",
      "-rw-rw-r-- 1 cdaniels cdaniels 724M Feb  1 09:05 t1.sam\n",
      "-rw-rw-r-- 1 cdaniels cdaniels  181 Feb  1 09:05 t1.summary\n",
      "-rw-rw-r-- 1 cdaniels cdaniels  37M Feb  1 09:05 t1.unmapped.fq\n",
      "-rw-rw-r-- 1 cdaniels cdaniels 1.1G Feb  1 09:06 t2.sam\n",
      "-rw-rw-r-- 1 cdaniels cdaniels  181 Feb  1 09:06 t2.summary\n",
      "-rw-rw-r-- 1 cdaniels cdaniels  56M Feb  1 09:06 t2.unmapped.fq\n",
      "-rw-rw-r-- 1 cdaniels cdaniels 902M Feb  1 09:07 t3.sam\n",
      "-rw-rw-r-- 1 cdaniels cdaniels  181 Feb  1 09:07 t3.summary\n",
      "-rw-rw-r-- 1 cdaniels cdaniels  48M Feb  1 09:07 t3.unmapped.fq\n"
     ]
    }
   ],
   "source": [
    "!ls -lh {out_path}"
   ]
  },
  {
   "cell_type": "code",
   "execution_count": 53,
   "id": "0452ab50-d295-493d-912e-41cc7115943a",
   "metadata": {},
   "outputs": [
    {
     "name": "stdout",
     "output_type": "stream",
     "text": [
      "HISAT2 summary stats:\n",
      "\tTotal reads: 1862069\n",
      "\t\tAligned 0 time: 325721 (17.49%)\n",
      "\t\tAligned 1 time: 1086440 (58.35%)\n",
      "\t\tAligned >1 times: 449908 (24.16%)\n",
      "\tOverall alignment rate: 82.51%\n"
     ]
    }
   ],
   "source": [
    "! cat {out_path}/t1.summary"
   ]
  },
  {
   "cell_type": "code",
   "execution_count": 54,
   "id": "a9a39eee-1fd7-4304-b980-bbb404d785df",
   "metadata": {},
   "outputs": [
    {
     "name": "stdout",
     "output_type": "stream",
     "text": [
      "@SRR23538290.203_GGCTAGGGGG 203 length=121\n",
      "TGTTGAAAATGAGATTAAGATAGTGTA\n",
      "+\n",
      "FFFFFFFF,:FFFFFFFFFFFFFF,FF\n",
      "@SRR23538290.276_CCAGGGAACT 276 length=121\n",
      "AATTATAGTAATGTTTAGTTTATTGAGTTA\n",
      "+\n",
      "FF:,FFF,FFF:FFFFFFFFFFFF,F:F:F\n"
     ]
    }
   ],
   "source": [
    "! head -8 {out_path}/t1.unmapped.fq"
   ]
  },
  {
   "cell_type": "code",
   "execution_count": 55,
   "id": "f7964202-9104-41f9-b23b-d6d841c66995",
   "metadata": {},
   "outputs": [
    {
     "name": "stdout",
     "output_type": "stream",
     "text": [
      "SRR23538290.203_GGCTAGGGGG\t4\t*\t0\t0\t*\t*\t0\t0\tTGTTGAAAATGAGATTAAGATAGTGTA\tFFFFFFFF,:FFFFFFFFFFFFFF,FF\tYT:Z:UU\n",
      "grep: write error: Broken pipe\n"
     ]
    }
   ],
   "source": [
    "! grep -v '@' {out_path}/t1.sam |head -1"
   ]
  },
  {
   "cell_type": "markdown",
   "id": "5a9a42a0-9bf2-44c4-b559-e40d5818bc6a",
   "metadata": {},
   "source": [
    "## Step: Hisat3n_sort"
   ]
  },
  {
   "cell_type": "markdown",
   "id": "640c2ff5-df93-4afb-8b5d-35106e520ece",
   "metadata": {},
   "source": [
    "#### Sort and Index Hisat3n Sam Files"
   ]
  },
  {
   "cell_type": "code",
   "execution_count": 56,
   "id": "2ae1a883-efc0-4773-b0c2-e7cfeaf9357e",
   "metadata": {},
   "outputs": [],
   "source": [
    "in_path = mkpath(\"hisat3n_align\")\n",
    "out_path = mkpath(\"hisat3n_sort\")"
   ]
  },
  {
   "cell_type": "markdown",
   "id": "9c040e0f-93a0-49f3-a085-036a0c86c3c2",
   "metadata": {},
   "source": [
    "#### samtools"
   ]
  },
  {
   "cell_type": "markdown",
   "id": "d2f487d0-1389-4878-a5d9-77bf3f1d66dd",
   "metadata": {},
   "source": [
    "http://www.htslib.org/doc/samtools.html"
   ]
  },
  {
   "cell_type": "markdown",
   "id": "3b659402-522a-47c6-89f9-79c62a7f0e02",
   "metadata": {
    "scrolled": true
   },
   "source": [
    "```\n",
    "samtools view\n",
    "    -@ {threads}\n",
    "    -F4 -b {input} |\n",
    "samtools sort\n",
    "    -@ {threads}\n",
    "    --write-index\n",
    "    -m 4G\n",
    "    -O BAM\n",
    "    -o {output} -\n",
    "```"
   ]
  },
  {
   "cell_type": "markdown",
   "id": "1431f54e-5483-4b0e-8c17-08957190476f",
   "metadata": {},
   "source": [
    "##### paramaters:\n",
    "```\n",
    "samtools view, SAM<->BAM<->CRAM conversion\n",
    "    -@ {nc}, number of threads \n",
    "    -F4, have none of the FLAGs present (-F 4 filters out unmapped reads) \n",
    "    -b, output a bam file\n",
    "    {input}  |\n",
    "samtools sort, sort alignment file\n",
    "    -@ {nc}, number of threads\n",
    "    --write-index, index the output files\n",
    "    -O BAM, output file format\n",
    "    -o {output} -\n",
    "```"
   ]
  },
  {
   "cell_type": "code",
   "execution_count": 57,
   "id": "629253cc-154d-4d71-8448-a0bfea40dd18",
   "metadata": {},
   "outputs": [
    {
     "name": "stdout",
     "output_type": "stream",
     "text": [
      "[bam_sort_core] merging from 0 files and 32 in-memory blocks...\n",
      "[bam_sort_core] merging from 0 files and 32 in-memory blocks...\n",
      "[bam_sort_core] merging from 0 files and 32 in-memory blocks...\n"
     ]
    }
   ],
   "source": [
    "for sample in samples:\n",
    "    ! samtools view -@ {nc} -F4 -b {fname(in_path, sample,'sam')}  | \\\n",
    "      samtools sort -@ {nc} --write-index -O BAM -o {fname(out_path,sample,'bam')} - "
   ]
  },
  {
   "cell_type": "markdown",
   "id": "211047f3-5203-4e21-b259-7746b03a936b",
   "metadata": {},
   "source": [
    "#### Analysis"
   ]
  },
  {
   "cell_type": "code",
   "execution_count": 58,
   "id": "1140e2ed-32b3-42f7-a115-5e6cb3175653",
   "metadata": {},
   "outputs": [
    {
     "name": "stdout",
     "output_type": "stream",
     "text": [
      "total 348M\n",
      "-rw-rw-r-- 1 cdaniels cdaniels   95M Feb  1 09:07 t1.bam\n",
      "-rw-rw-r-- 1 cdaniels cdaniels 1014K Feb  1 09:07 t1.bam.csi\n",
      "-rw-rw-r-- 1 cdaniels cdaniels  133M Feb  1 09:07 t2.bam\n",
      "-rw-rw-r-- 1 cdaniels cdaniels  1.1M Feb  1 09:07 t2.bam.csi\n",
      "-rw-rw-r-- 1 cdaniels cdaniels  117M Feb  1 09:07 t3.bam\n",
      "-rw-rw-r-- 1 cdaniels cdaniels  1.1M Feb  1 09:07 t3.bam.csi\n"
     ]
    }
   ],
   "source": [
    "! ls -lh {out_path}"
   ]
  },
  {
   "cell_type": "markdown",
   "id": "74ad4df6-1fa1-43dc-8302-859affe0690f",
   "metadata": {},
   "source": [
    "## Step: Hisat3n_dedup"
   ]
  },
  {
   "cell_type": "markdown",
   "id": "ad8d9bf1-95a8-4198-988c-4cc83db22bad",
   "metadata": {},
   "source": [
    "#### Remove Dulpicate Reads"
   ]
  },
  {
   "cell_type": "code",
   "execution_count": 59,
   "id": "4d6761e7-18a1-48a7-a9a7-17e32f5eec65",
   "metadata": {},
   "outputs": [],
   "source": [
    "in_path = mkpath(\"hisat3n_sort\")\n",
    "out_path = mkpath(\"hisat3n_dedup\")"
   ]
  },
  {
   "cell_type": "markdown",
   "id": "e58c2685-80da-428c-bdfc-9447ebfc73fe",
   "metadata": {},
   "source": [
    "#### umicollapse"
   ]
  },
  {
   "cell_type": "markdown",
   "id": "9d0f9db8-aaf5-4ee2-9c4f-97e79da12a0a",
   "metadata": {},
   "source": [
    "https://github.com/Daniel-Liu-c0deb0t/UMICollapse"
   ]
  },
  {
   "cell_type": "markdown",
   "id": "e09e2177-b96c-495b-b56c-c1b4689f0634",
   "metadata": {},
   "source": [
    "##### paramaters:\n",
    "```\n",
    "umicollapse bam, use a bam file\n",
    "    --two-pass, use a separate two-pass algorithm for SAM/BAM deduplication.\n",
    "    -i {input.bam}, indexed input bam file\n",
    "    -o {output.bam}, output bam file\n",
    "      > {output.log}\n",
    "```"
   ]
  },
  {
   "cell_type": "code",
   "execution_count": 60,
   "id": "1af0f53c-3277-4745-8a64-63283360815c",
   "metadata": {},
   "outputs": [
    {
     "name": "stdout",
     "output_type": "stream",
     "text": [
      "Picked up _JAVA_OPTIONS: -Xmx4096m\n",
      "INFO\t2024-02-01 09:07:31\tSortingCollection\tCreating merging iterator from 7 files\n",
      "Picked up _JAVA_OPTIONS: -Xmx4096m\n",
      "WARNING: BAM index file /home/cdaniels/uofc_data/ubs_seq/UBS-seq_basic/workspace/hisat3n_sort/t2.bam.csi is older than BAM /home/cdaniels/uofc_data/ubs_seq/UBS-seq_basic/workspace/hisat3n_sort/t2.bam\n",
      "INFO\t2024-02-01 09:07:53\tSortingCollection\tCreating merging iterator from 10 files\n",
      "Picked up _JAVA_OPTIONS: -Xmx4096m\n",
      "INFO\t2024-02-01 09:08:17\tSortingCollection\tCreating merging iterator from 9 files\n"
     ]
    }
   ],
   "source": [
    "for sample in samples:\n",
    "    !umicollapse bam  \\\n",
    "    -i {fname(in_path,sample,'bam')} \\\n",
    "    -o {fname(out_path,sample,'bam')}\\\n",
    "    >  {fname(out_path,sample,'log')}"
   ]
  },
  {
   "cell_type": "markdown",
   "id": "1f6fe90e-c8b6-49c6-b21c-e0a0409f37de",
   "metadata": {},
   "source": [
    "#### Analysis"
   ]
  },
  {
   "cell_type": "code",
   "execution_count": 61,
   "id": "a52dc069-dd33-4659-9d68-6824b311f096",
   "metadata": {},
   "outputs": [
    {
     "name": "stdout",
     "output_type": "stream",
     "text": [
      "t1.bam\tt1.log\tt2.bam\tt2.log\tt3.bam\tt3.log\n"
     ]
    }
   ],
   "source": [
    "! ls -h {out_path}"
   ]
  },
  {
   "cell_type": "code",
   "execution_count": 62,
   "id": "fd112fd3-6634-4648-9a0a-7a44a8efb7cf",
   "metadata": {},
   "outputs": [
    {
     "name": "stdout",
     "output_type": "stream",
     "text": [
      "Arguments\t[bam, -i, hisat3n_sort/t1.bam, -o, hisat3n_dedup/t1.bam]\n",
      "Done reading input file into memory!\n",
      "Number of input reads\t3327429\n",
      "Number of removed unmapped reads\t0\n",
      "Number of unremoved reads\t3327429\n",
      "Number of unique alignment positions\t2133565\n",
      "Average number of UMIs per alignment position\t1.5228680635462242\n",
      "Max number of UMIs over all alignment positions\t162\n",
      "Number of reads after deduplicating\t3236210\n",
      "UMI collapsing finished in 17.729 seconds!\n"
     ]
    }
   ],
   "source": [
    "! cat {out_path}/t1.log"
   ]
  },
  {
   "cell_type": "markdown",
   "id": "27f954cc-df3e-4048-ae0e-442526f0b5cf",
   "metadata": {},
   "source": [
    "## Step: Hisat3n_call"
   ]
  },
  {
   "cell_type": "markdown",
   "id": "c45dda76-3ea1-4749-a78e-792080774b53",
   "metadata": {},
   "source": [
    "#### Call Converted bases"
   ]
  },
  {
   "cell_type": "code",
   "execution_count": 99,
   "id": "00cab6a3-dba0-42e6-8e9e-8d49894eac70",
   "metadata": {},
   "outputs": [],
   "source": [
    "in_path = mkpath(\"hisat3n_dedup\")\n",
    "out_path = mkpath(\"hisat3n_call\")"
   ]
  },
  {
   "cell_type": "markdown",
   "id": "3ac3e272-df75-4b04-85b8-64b7df394d19",
   "metadata": {},
   "source": [
    "#### hisat-3n-table"
   ]
  },
  {
   "cell_type": "markdown",
   "id": "d208fba5-fc27-4274-b416-92b00a6a22da",
   "metadata": {},
   "source": [
    "http://daehwankimlab.github.io/hisat2/hisat-3n/"
   ]
  },
  {
   "cell_type": "markdown",
   "id": "fa8ac256-7407-4efe-9011-3209695d1a87",
   "metadata": {},
   "source": [
    "##### paramaters:\n",
    "```\n",
    "samtools view -e \"rlen<100000\" -h {input} |\n",
    "hisat3ntable\n",
    "    -p {threads}\n",
    "    -m --alignments -\n",
    "    --ref {params.fa}\n",
    "    --output-name /dev/stdout\n",
    "    --base-change C,T                      |\n",
    "    bgzip -@ {threads} -c > {output}\n",
    "```"
   ]
  },
  {
   "cell_type": "code",
   "execution_count": 64,
   "id": "7e03594a-6fb6-4129-a88c-666dddc9ebf0",
   "metadata": {},
   "outputs": [],
   "source": [
    "for sample in samples:\n",
    "    !samtools view -e \"rlen<100000\" -h {fname(in_path,sample,'bam')} |\\\n",
    "    hisat-3n-table\\\n",
    "        -p {nc}\\\n",
    "        -m --alignments -\\\n",
    "        --ref {genome_fa}\\\n",
    "        --output-name /dev/stdout\\\n",
    "        --base-change C,T                          |\\\n",
    "    bgzip \\\n",
    "        -@ {nc} \\\n",
    "        -c > {fname(out_path,sample,'tsv.gz')}"
   ]
  },
  {
   "cell_type": "markdown",
   "id": "119803f7-244e-4e46-aac7-d5be7f71e35d",
   "metadata": {},
   "source": [
    "#### Analysis"
   ]
  },
  {
   "cell_type": "code",
   "execution_count": 65,
   "id": "df266208-387b-49fa-b24b-43172430e981",
   "metadata": {},
   "outputs": [
    {
     "name": "stdout",
     "output_type": "stream",
     "text": [
      "t1.tsv.gz  t2.tsv.gz  t3.tsv.gz\n"
     ]
    }
   ],
   "source": [
    "! ls -h {out_path}"
   ]
  },
  {
   "cell_type": "markdown",
   "id": "5f423b27-52c9-4d7f-b8fb-d9a5b272109b",
   "metadata": {},
   "source": [
    "There are 7 columns in the 3N-conversion-table:\n",
    "\n",
    "1. `ref:` the chromosome name.\n",
    "2. `pos:` 1-based position in ref.\n",
    "3. `strand:` ‘+’ for forward strand. ‘-‘ for reverse strand.\n",
    "4. `convertedBaseQualities:` the qualities for converted base in read-level measurement. Length of this string is equal to the number of converted Base in read-level measurement.\n",
    "5. `convertedBaseCount:` number of distinct read positions where converted base in read-level measurements were found. this number should equal to the length of convertedBaseQualities.\n",
    "6. `unconvertedBaseQualities:` the qualities for unconverted base in read-level measurement. Length of this string is equal to the number of unconverted Base in read-level measurement.\n",
    "7. `unconvertedBaseCount:` number of distinct read positions where unconverted base in read-level measurements were found. this number should equal to the length of unconvertedBaseQualities."
   ]
  },
  {
   "cell_type": "code",
   "execution_count": 80,
   "id": "d85c2597-99cb-4297-a05a-560482cf89a9",
   "metadata": {},
   "outputs": [
    {
     "name": "stdout",
     "output_type": "stream",
     "text": [
      "ref\tpos\tstrand\tconvertedBaseQualities\tconvertedBaseCount\tunconvertedBaseQualities\tunconvertedBaseCount\n",
      "1\t13021\t+\tF\t1\t\t0\n",
      "1\t13022\t+\tF\t1\t\t0\n",
      "1\t13027\t+\tF\t1\t\t0\n",
      "1\t13035\t+\tF\t1\t\t0\n",
      "1\t13039\t+\tF\t1\t\t0\n",
      "1\t13042\t+\tF\t1\t\t0\n",
      "1\t13043\t+\tF\t1\t\t0\n",
      "1\t13559\t+\tF\t1\t\t0\n",
      "1\t13562\t+\tF\t1\t\t0\n",
      "1\t13569\t+\tF\t1\t\t0\n",
      "1\t13570\t+\tF\t1\t\t0\n",
      "1\t13573\t+\tF\t1\t\t0\n",
      "1\t13576\t+\tF\t1\t\t0\n",
      "1\t14487\t-\tF\t1\t\t0\n",
      "1\t14497\t-\tF\t1\t\t0\n",
      "1\t14498\t-\tF\t1\t\t0\n",
      "1\t14500\t-\tF\t1\tF\t1\n",
      "1\t14505\t-\tFF\t2\t\t0\n",
      "1\t14506\t-\tFF\t2\t\t0\n",
      "\n",
      "gzip: stdout: Broken pipe\n"
     ]
    }
   ],
   "source": [
    "! zcat {out_path}/t1.tsv.gz |head -20"
   ]
  },
  {
   "cell_type": "code",
   "execution_count": 121,
   "id": "e7a7f5ce-b1a1-4efc-a283-2a22d320757d",
   "metadata": {},
   "outputs": [],
   "source": [
    "df = pd.read_csv(out_path/'t1.tsv.gz', sep='\\t', compression='gzip', low_memory=False, dtype={4: int, 6: int, })"
   ]
  },
  {
   "cell_type": "code",
   "execution_count": 122,
   "id": "0a1a5886-0cfc-44c5-b694-f557598329c4",
   "metadata": {},
   "outputs": [],
   "source": [
    "df2 = df[(df['unconvertedBaseCount'] > 1) &  (df['unconvertedBaseCount'] > df['convertedBaseCount'])]"
   ]
  },
  {
   "cell_type": "code",
   "execution_count": 123,
   "id": "ecc3b924-2169-4742-bf55-8d4a16bc4745",
   "metadata": {},
   "outputs": [],
   "source": [
    "df2.to_csv(out_path/'t1_filtered.csv')  # Set index=False if you don't want to save row indices"
   ]
  },
  {
   "cell_type": "code",
   "execution_count": 111,
   "id": "e04f6302-0013-4961-9aba-e5ee40bf5044",
   "metadata": {},
   "outputs": [
    {
     "data": {
      "text/html": [
       "<div>\n",
       "<style scoped>\n",
       "    .dataframe tbody tr th:only-of-type {\n",
       "        vertical-align: middle;\n",
       "    }\n",
       "\n",
       "    .dataframe tbody tr th {\n",
       "        vertical-align: top;\n",
       "    }\n",
       "\n",
       "    .dataframe thead th {\n",
       "        text-align: right;\n",
       "    }\n",
       "</style>\n",
       "<table border=\"1\" class=\"dataframe\">\n",
       "  <thead>\n",
       "    <tr style=\"text-align: right;\">\n",
       "      <th></th>\n",
       "      <th>ref</th>\n",
       "      <th>pos</th>\n",
       "      <th>strand</th>\n",
       "      <th>convertedBaseQualities</th>\n",
       "      <th>convertedBaseCount</th>\n",
       "      <th>unconvertedBaseQualities</th>\n",
       "      <th>unconvertedBaseCount</th>\n",
       "    </tr>\n",
       "  </thead>\n",
       "  <tbody>\n",
       "    <tr>\n",
       "      <th>3425</th>\n",
       "      <td>1</td>\n",
       "      <td>629806</td>\n",
       "      <td>+</td>\n",
       "      <td>F</td>\n",
       "      <td>1</td>\n",
       "      <td>FF</td>\n",
       "      <td>2</td>\n",
       "    </tr>\n",
       "    <tr>\n",
       "      <th>3426</th>\n",
       "      <td>1</td>\n",
       "      <td>629807</td>\n",
       "      <td>+</td>\n",
       "      <td>F</td>\n",
       "      <td>1</td>\n",
       "      <td>FF</td>\n",
       "      <td>2</td>\n",
       "    </tr>\n",
       "    <tr>\n",
       "      <th>3579</th>\n",
       "      <td>1</td>\n",
       "      <td>630236</td>\n",
       "      <td>+</td>\n",
       "      <td>F</td>\n",
       "      <td>1</td>\n",
       "      <td>FF</td>\n",
       "      <td>2</td>\n",
       "    </tr>\n",
       "    <tr>\n",
       "      <th>3580</th>\n",
       "      <td>1</td>\n",
       "      <td>630241</td>\n",
       "      <td>+</td>\n",
       "      <td>NaN</td>\n",
       "      <td>0</td>\n",
       "      <td>FF</td>\n",
       "      <td>2</td>\n",
       "    </tr>\n",
       "    <tr>\n",
       "      <th>3667</th>\n",
       "      <td>1</td>\n",
       "      <td>630464</td>\n",
       "      <td>+</td>\n",
       "      <td>NaN</td>\n",
       "      <td>0</td>\n",
       "      <td>FF</td>\n",
       "      <td>2</td>\n",
       "    </tr>\n",
       "    <tr>\n",
       "      <th>...</th>\n",
       "      <td>...</td>\n",
       "      <td>...</td>\n",
       "      <td>...</td>\n",
       "      <td>...</td>\n",
       "      <td>...</td>\n",
       "      <td>...</td>\n",
       "      <td>...</td>\n",
       "    </tr>\n",
       "    <tr>\n",
       "      <th>3969251</th>\n",
       "      <td>KI270733.1</td>\n",
       "      <td>179736</td>\n",
       "      <td>+</td>\n",
       "      <td>NaN</td>\n",
       "      <td>0</td>\n",
       "      <td>FFFFFFFFFFFFFFF</td>\n",
       "      <td>15</td>\n",
       "    </tr>\n",
       "    <tr>\n",
       "      <th>3976294</th>\n",
       "      <td>GL000220.1</td>\n",
       "      <td>117129</td>\n",
       "      <td>+</td>\n",
       "      <td>NaN</td>\n",
       "      <td>0</td>\n",
       "      <td>FFFFFFFFFFF</td>\n",
       "      <td>11</td>\n",
       "    </tr>\n",
       "    <tr>\n",
       "      <th>3976478</th>\n",
       "      <td>GL000220.1</td>\n",
       "      <td>117794</td>\n",
       "      <td>+</td>\n",
       "      <td>NaN</td>\n",
       "      <td>0</td>\n",
       "      <td>FFFFFFFFFFFFFFFF</td>\n",
       "      <td>16</td>\n",
       "    </tr>\n",
       "    <tr>\n",
       "      <th>3980236</th>\n",
       "      <td>GL000220.1</td>\n",
       "      <td>161101</td>\n",
       "      <td>+</td>\n",
       "      <td>NaN</td>\n",
       "      <td>0</td>\n",
       "      <td>FFFFFFFFFFFFFF</td>\n",
       "      <td>14</td>\n",
       "    </tr>\n",
       "    <tr>\n",
       "      <th>3980420</th>\n",
       "      <td>GL000220.1</td>\n",
       "      <td>161766</td>\n",
       "      <td>+</td>\n",
       "      <td>NaN</td>\n",
       "      <td>0</td>\n",
       "      <td>FFFFFFFFFFFFFFFFF</td>\n",
       "      <td>17</td>\n",
       "    </tr>\n",
       "  </tbody>\n",
       "</table>\n",
       "<p>626 rows × 7 columns</p>\n",
       "</div>"
      ],
      "text/plain": [
       "                ref     pos strand convertedBaseQualities  convertedBaseCount  \\\n",
       "3425              1  629806      +                      F                   1   \n",
       "3426              1  629807      +                      F                   1   \n",
       "3579              1  630236      +                      F                   1   \n",
       "3580              1  630241      +                    NaN                   0   \n",
       "3667              1  630464      +                    NaN                   0   \n",
       "...             ...     ...    ...                    ...                 ...   \n",
       "3969251  KI270733.1  179736      +                    NaN                   0   \n",
       "3976294  GL000220.1  117129      +                    NaN                   0   \n",
       "3976478  GL000220.1  117794      +                    NaN                   0   \n",
       "3980236  GL000220.1  161101      +                    NaN                   0   \n",
       "3980420  GL000220.1  161766      +                    NaN                   0   \n",
       "\n",
       "        unconvertedBaseQualities  unconvertedBaseCount  \n",
       "3425                          FF                     2  \n",
       "3426                          FF                     2  \n",
       "3579                          FF                     2  \n",
       "3580                          FF                     2  \n",
       "3667                          FF                     2  \n",
       "...                          ...                   ...  \n",
       "3969251          FFFFFFFFFFFFFFF                    15  \n",
       "3976294              FFFFFFFFFFF                    11  \n",
       "3976478         FFFFFFFFFFFFFFFF                    16  \n",
       "3980236           FFFFFFFFFFFFFF                    14  \n",
       "3980420        FFFFFFFFFFFFFFFFF                    17  \n",
       "\n",
       "[626 rows x 7 columns]"
      ]
     },
     "execution_count": 111,
     "metadata": {},
     "output_type": "execute_result"
    }
   ],
   "source": [
    "df2"
   ]
  },
  {
   "cell_type": "code",
   "execution_count": null,
   "id": "af4e3bb9-6bcb-43e1-9077-924919eda7fa",
   "metadata": {},
   "outputs": [],
   "source": []
  },
  {
   "cell_type": "code",
   "execution_count": null,
   "id": "aabbe1e4-9117-4f77-ad88-275e25757124",
   "metadata": {},
   "outputs": [],
   "source": []
  },
  {
   "cell_type": "code",
   "execution_count": null,
   "id": "ec8f3b4f-3c53-46f3-aa75-0df42384b7ee",
   "metadata": {},
   "outputs": [],
   "source": []
  }
 ],
 "metadata": {
  "kernelspec": {
   "display_name": "Python 3 (ipykernel)",
   "language": "python",
   "name": "python3"
  },
  "language_info": {
   "codemirror_mode": {
    "name": "ipython",
    "version": 3
   },
   "file_extension": ".py",
   "mimetype": "text/x-python",
   "name": "python",
   "nbconvert_exporter": "python",
   "pygments_lexer": "ipython3",
   "version": "3.10.13"
  }
 },
 "nbformat": 4,
 "nbformat_minor": 5
}
