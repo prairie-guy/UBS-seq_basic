{
 "cells": [
  {
   "cell_type": "markdown",
   "id": "2048b07b-a46c-4b35-ac4e-9ee57e3a9712",
   "metadata": {},
   "source": [
    "#### Template"
   ]
  },
  {
   "cell_type": "markdown",
   "id": "a7555539-391a-450c-96f0-57b46bdeb902",
   "metadata": {},
   "source": [
    "*This Notebook is part of a Github Repository Template defining a Project File Structure. (See README.md)*"
   ]
  },
  {
   "cell_type": "markdown",
   "id": "ddd69300-170b-46a1-9ad9-d2b836fb74d5",
   "metadata": {},
   "source": [
    "```.\n",
    "├── config.yaml\n",
    "├── data\n",
    "│   └── README_data.md\n",
    "├── environment.yaml\n",
    "├── README.md\n",
    "├── scripts\n",
    "│   ├── clean.sh\n",
    "│   ├── downsample.sh\n",
    "│   ├── generate_reference.sh\n",
    "│   ├── nb2py.sh\n",
    "│   ├── README_scripts.md\n",
    "│   └── run_ubs_seq.sh\n",
    "├── src\n",
    "│   └── README_IGV_WEB.md\n",
    "└── workspace\n",
    "    ├── README_workspace.md\n",
    "    ├── ubs_basic.ipynb\n",
    "    └── ubs_basic.py\n",
    "```"
   ]
  },
  {
   "cell_type": "code",
   "execution_count": 197,
   "id": "b02f60de-c362-4078-beba-82c870de2c78",
   "metadata": {},
   "outputs": [],
   "source": [
    "from pathlib import Path\n",
    "home_path      = Path.cwd()/'..'\n",
    "workspace_path = home_path/'workspace'"
   ]
  },
  {
   "cell_type": "code",
   "execution_count": 255,
   "id": "ab90ee62-8d80-44e2-8eb1-b633b3ea2231",
   "metadata": {},
   "outputs": [
    {
     "ename": "TypeError",
     "evalue": "'module' object is not callable",
     "output_type": "error",
     "traceback": [
      "\u001b[0;31m---------------------------------------------------------------------------\u001b[0m",
      "\u001b[0;31mTypeError\u001b[0m                                 Traceback (most recent call last)",
      "Cell \u001b[0;32mIn[255], line 1\u001b[0m\n\u001b[0;32m----> 1\u001b[0m \u001b[43msamples\u001b[49m\u001b[43m(\u001b[49m\u001b[43m)\u001b[49m\n",
      "\u001b[0;31mTypeError\u001b[0m: 'module' object is not callable"
     ]
    }
   ],
   "source": []
  },
  {
   "cell_type": "markdown",
   "id": "1336fe2c",
   "metadata": {},
   "source": [
    "# UBS-seq Pipeline\n",
    "## Basic Workflow"
   ]
  },
  {
   "cell_type": "markdown",
   "id": "f4f9191a",
   "metadata": {},
   "source": [
    "**C. Bryan Daniels**\n",
    "\n",
    "**3/1/2024**"
   ]
  },
  {
   "cell_type": "markdown",
   "id": "1153fdea-42ab-4a16-9376-aae40c035695",
   "metadata": {},
   "source": [
    "## Project: UBS-seq Basic Pipeline"
   ]
  },
  {
   "cell_type": "markdown",
   "id": "e1999833",
   "metadata": {},
   "source": [
    "The purpose of this project is run a minimally viable UBS-seq pipline. For simplicity, it will run several single-end samples, mapping only to the genome. The core steps of the pipeline are:\n",
    "- cut_apapter\n",
    "- quality_control\n",
    "- align2ref\n",
    "- sort2ref\n",
    "- dedupe\n",
    "- filter->all_multi_unique\n",
    "- call_peaks\n",
    "- select_groups\n",
    "- analysis_and_annotation\n",
    "\n",
    "This pipeline is based upon the paper by [Qing Dai, etal](https://doi.org/10.1038/s41587-023-02034-w) and the UBS-seq pipeline developed by [Chang Ye](https://github.com/y9c/m5C-UBSseq)\n",
    "\n"
   ]
  },
  {
   "cell_type": "markdown",
   "id": "db5933a4-a627-451d-abe7-7e68204c1d47",
   "metadata": {},
   "source": [
    "## Setup"
   ]
  },
  {
   "cell_type": "markdown",
   "id": "fd477b9e-5c7d-4c3c-8125-89644f367a8d",
   "metadata": {
    "jp-MarkdownHeadingCollapsed": true
   },
   "source": [
    "#### The logic for the Pipeline is defined through a series of Steps using dirs to save intermediate results\n",
    "1. For each **Step** in the pipeline a dir will be created and labeled **Step** and will contain all files created by that **Step**\n",
    "2. Within a **Step**, **in_path** and **out_path** will generically refer to the prior and current **Step**\n",
    "3. Within each **Step**, the appropriate processes will occur. Generally this involves processing files from **in_path** and saving to **out_path**\n",
    "4. **Abbreviated filenames** should not change through the pipeline (suffixes will reflect current file formats). The dir name should reflect the **Step**, not the filename.\n",
    "6. The function **mkpath(step)** returns a path for a dir **Step**. It will create a dir if need be, but not overwrite an existing dir\n",
    "8. The function **fname(path,sample,suffix)** returns a file name without actually creating the file"
   ]
  },
  {
   "cell_type": "markdown",
   "id": "0852de28-a1f7-4239-a50a-5cba49c7fe72",
   "metadata": {},
   "source": [
    "#### Convert Notebook to Script to Execute from the Command Line"
   ]
  },
  {
   "cell_type": "markdown",
   "id": "f75effe5-1019-43bb-a7fa-43e960656b1b",
   "metadata": {},
   "source": [
    "```\n",
    "# cd workplace/\n",
    "# juptyer nbconvert ubs_basic.ipynb --to script\n",
    "# ipython ubs_basic.py\n",
    "```"
   ]
  },
  {
   "cell_type": "markdown",
   "id": "13e28624-07ae-4a54-ba80-dfde893059bc",
   "metadata": {},
   "source": [
    "#### Environment"
   ]
  },
  {
   "cell_type": "code",
   "execution_count": 2,
   "id": "41e148d2",
   "metadata": {},
   "outputs": [],
   "source": [
    "import os, sys, subprocess\n",
    "import numpy as np\n",
    "import pandas as pd\n",
    "import matplotlib.pyplot as plt \n",
    "from pathlib import Path\n",
    "from IPython.display import display, HTML\n",
    "from snakemake import load_configfile"
   ]
  },
  {
   "cell_type": "code",
   "execution_count": 3,
   "id": "42cc293d-6fe9-45fc-a0cd-59b7dfffb18b",
   "metadata": {},
   "outputs": [],
   "source": [
    "def fname(path, base, sufix):\n",
    "    'Return a path and suffix complete filename'\n",
    "    return Path(path)/f\"{base}.{sufix}\"\n",
    "\n",
    "def mkpath(path):\n",
    "    'Return dir path name; creates (not over-writting) a new dir within the pwd. Also prints date/time executed'\n",
    "    path = Path(path)\n",
    "    if not os.path.exists(path): os.makedirs(path)\n",
    "    date = ! date \"+%H:%M:%S_%m-%d-%Y\"\n",
    "    print(f\">>> {{{path}}} {date[0]}\")\n",
    "    return path"
   ]
  },
  {
   "cell_type": "code",
   "execution_count": 4,
   "id": "e2c24ec3-238a-47d3-99a0-295938a8d597",
   "metadata": {},
   "outputs": [],
   "source": [
    "# Set Java Flag\n",
    "os.environ['_JAVA_OPTIONS'] = '-Xmx8g'"
   ]
  },
  {
   "cell_type": "code",
   "execution_count": 5,
   "id": "889270cf-bf90-4da3-90fe-397d8d0b57f3",
   "metadata": {},
   "outputs": [
    {
     "data": {
      "text/plain": [
       "32"
      ]
     },
     "execution_count": 5,
     "metadata": {},
     "output_type": "execute_result"
    }
   ],
   "source": [
    "# Number of cores                                                                                                                                                                                               \n",
    "nc = get_ipython().getoutput('nproc')                                                                                                                                                                           \n",
    "nc = int(nc[0])                                                                                                                                                                                                 \n",
    "nc  "
   ]
  },
  {
   "cell_type": "code",
   "execution_count": 6,
   "id": "ae9c5015",
   "metadata": {},
   "outputs": [],
   "source": [
    "# Programs added to shell PATH\n",
    "os.environ['PATH'] = f\"{str(home_path)}:\" + os.environ['PATH'] # home_path\n",
    "os.environ['PATH'] = '/home/cdaniels/bin/homer:' + os.environ['PATH'] # homer\n",
    "os.environ['PATH'] = '/home/cdaniels/bin/hisat-3n:' + os.environ['PATH'] # hisat-3n"
   ]
  },
  {
   "cell_type": "markdown",
   "id": "f8499228-734a-4c2c-ad0a-deab43ae64c7",
   "metadata": {},
   "source": [
    "#### Functions"
   ]
  },
  {
   "cell_type": "code",
   "execution_count": 7,
   "id": "46c1ab4f-937a-4b6a-a09d-a34462da366b",
   "metadata": {},
   "outputs": [],
   "source": [
    "def nlines(file):\n",
    "    'Returns fast linecout (fast)'\n",
    "    result = subprocess.run(['wc', '-l', file], stdout=subprocess.PIPE)\n",
    "    n = int(result.stdout.split()[0])\n",
    "    return n"
   ]
  },
  {
   "cell_type": "code",
   "execution_count": 8,
   "id": "ed22df72-94d2-412d-bf77-67e25b974acc",
   "metadata": {},
   "outputs": [],
   "source": [
    "def nseqs(bam_fastq):\n",
    "    'Returns number of sequences in bam, sam, fasta or fastq file'\n",
    "    n = !samtools view -c {bam_fastq}\n",
    "    return int(n[0])"
   ]
  },
  {
   "cell_type": "code",
   "execution_count": 9,
   "id": "db7b2623-6c8a-465f-97af-1cd3e358849b",
   "metadata": {},
   "outputs": [],
   "source": [
    "def samples_string(samples,path,suffix='bam'):\n",
    "    'Returns a space delimited string of sample files'\n",
    "    return \" \".join([str(fname(path,sample,suffix)) for sample in samples])    "
   ]
  },
  {
   "cell_type": "code",
   "execution_count": 10,
   "id": "f9ffe35a",
   "metadata": {},
   "outputs": [],
   "source": [
    "def make_table(ds1, ds2, ds1_name, ds2_name, y_label=None, xs_labels=None, table_label=None):\n",
    "    'Makes a bar graph comparing two datasets and their corresponding names'\n",
    "    assert(len(ds1)==len(ds2))\n",
    "    n = np.arange(len(ds1))\n",
    "    width = 0.35\n",
    "    fig, ax = plt.subplots()\n",
    "    rects1 = ax.bar(n - width/2, ds1, width, label=ds1_name)\n",
    "    rects2 = ax.bar(n + width/2, ds2, width,label=ds2_name)\n",
    "    ax.set_ylabel(y_label)\n",
    "    ax.set_title(table_label)\n",
    "    ax.set_xticks(n)\n",
    "    ax.set_xticklabels(range(1,len(ds1)+1)) if xs_labels == None else ax.set_xticklabels(xs_labels)\n",
    "    ax.legend()\n",
    "    plt.show()"
   ]
  },
  {
   "cell_type": "code",
   "execution_count": 11,
   "id": "a7b59797-ffd0-4d1c-947e-45f07e301a2a",
   "metadata": {},
   "outputs": [],
   "source": [
    "def make_histogram(ds, ds_name, table_label=None, y_label=\"Frequency\", density=True):\n",
    "    'Makes a histogram for a dataset and its name'\n",
    "    fig, ax = plt.subplots()\n",
    "    ax.hist(ds, density=density)\n",
    "    ax.set_ylabel(y_label)\n",
    "    ax.set_xlabel(ds_name)\n",
    "    if table_label is not None:\n",
    "        ax.set_title(table_label)\n",
    "    plt.show()"
   ]
  },
  {
   "cell_type": "markdown",
   "id": "647912d1-4c4a-4469-83b6-4caa53f11ec5",
   "metadata": {},
   "source": [
    "#### Define `references/`"
   ]
  },
  {
   "cell_type": "markdown",
   "id": "8e95cc61-0759-4a6d-b1a4-28bd8f48d20f",
   "metadata": {},
   "source": [
    "Use `config.yaml` to configure `references/`, but not samples in `data/`"
   ]
  },
  {
   "cell_type": "code",
   "execution_count": 235,
   "id": "0e9cbdfe-97bf-4c0d-9e86-ef93ad062c5d",
   "metadata": {
    "jupyter": {
     "source_hidden": true
    },
    "scrolled": true
   },
   "outputs": [],
   "source": [
    "config = load_configfile(home_path/\"config.yaml\")"
   ]
  },
  {
   "cell_type": "code",
   "execution_count": 186,
   "id": "9fd3b929-b9ad-48ed-acf8-e9ec4cfe01dd",
   "metadata": {},
   "outputs": [
    {
     "name": "stdout",
     "output_type": "stream",
     "text": [
      "/home/cdaniels/uofc_data/ubs_seq/UBS-seq_basic/workspace/../reference/genome/Homo_sapiens.GRCh38.genome.fa\n",
      "/home/cdaniels/uofc_data/ubs_seq/UBS-seq_basic/workspace/../reference/index/hisat3n/Homo_sapiens.GRCh38.genome/Homo_sapiens.GRCh38.genome\n",
      "/home/cdaniels/uofc_data/ubs_seq/UBS-seq_basic/workspace/../reference/genome/Homo_sapiens.GRCh38.sncRNA.fa\n",
      "/reference/index/hisat3n/Homo_sapiens.GRCh38.sncRNA/Homo_sapiens.GRCh38.sncRNA\n"
     ]
    }
   ],
   "source": [
    "genome_fa  = home_path/config['reference']['genome']['fa']\n",
    "genome_idx = home_path/config['reference']['genome']['hisat3n']\n",
    "genes_fa   = home_path/config['reference']['genes']['fa']\n",
    "genes_idx  = home_path/config['reference']['genes']['hisat3n']\n",
    "print(genome_fa)\n",
    "print(genome_idx)\n",
    "print(genes_fa)\n",
    "print(genes_idx)"
   ]
  },
  {
   "cell_type": "markdown",
   "id": "a21c1f30-2663-4aa7-9e81-fd90a96b92e5",
   "metadata": {},
   "source": [
    "## Step: select_samples"
   ]
  },
  {
   "cell_type": "markdown",
   "id": "cf0c6fbb-a4b9-4a0c-97d2-80646efb627e",
   "metadata": {},
   "source": [
    "#### Define sample names and link to sample files"
   ]
  },
  {
   "cell_type": "code",
   "execution_count": 14,
   "id": "d73f04c9-8803-4e6f-8336-a53a40d78bab",
   "metadata": {},
   "outputs": [
    {
     "name": "stdout",
     "output_type": "stream",
     "text": [
      ">>> {samples} 01:39:12_03-05-2024\n"
     ]
    }
   ],
   "source": [
    "out_path = mkpath('samples')"
   ]
  },
  {
   "cell_type": "markdown",
   "id": "b09b7658-9cb3-4676-a3a2-abe135391e5e",
   "metadata": {},
   "source": [
    "Samples were obtained from NCBI using the SRR ID"
   ]
  },
  {
   "cell_type": "markdown",
   "id": "30632716-4b92-481c-bef5-f28e710e62ea",
   "metadata": {},
   "source": [
    "|ID|Group  | Description                                             |SRR        |\n",
    "|:-|-------|---------------------------------------------------------|-----------|\n",
    "|t1|treated|WT HeLa polyA+ RNA treated with ultrafast BS, replicate 1|SRR23538292|\n",
    "|t2|treated|WT HeLa polyA+ RNA treated with ultrafast BS, replicate 2|SRR23538291|\n",
    "|c1|control|WT HeLa polyA+ RNA treated with ultrafast BS, replicate 3|SRR23538290|"
   ]
  },
  {
   "cell_type": "markdown",
   "id": "76e1611c-f80b-4c82-becf-c152e7e2de74",
   "metadata": {},
   "source": [
    "Define short sample names for samples in groups {treated, control}"
   ]
  },
  {
   "cell_type": "code",
   "execution_count": 15,
   "id": "67bbf37a-e8c4-4f9f-a267-251bed3f485f",
   "metadata": {},
   "outputs": [
    {
     "name": "stdout",
     "output_type": "stream",
     "text": [
      "['t1', 't2'] ['c1'] ['t1', 't2', 'c1']\n",
      "[['t1', 't2'], ['c1']]\n"
     ]
    }
   ],
   "source": [
    "treated = [\"t1\",\"t2\"] # Edit\n",
    "control = [\"c1\"] # Edit\n",
    "\n",
    "samples = treated + control\n",
    "groups  = [treated, control]\n",
    "\n",
    "print(treated, control, samples)\n",
    "print(groups)"
   ]
  },
  {
   "cell_type": "markdown",
   "id": "e6850be1-3795-47ae-bff8-3a8316a10e11",
   "metadata": {},
   "source": [
    "Sample files"
   ]
  },
  {
   "cell_type": "code",
   "execution_count": 16,
   "id": "5c12b249-03ca-4b09-a34e-a8851b9e7b6b",
   "metadata": {},
   "outputs": [],
   "source": [
    "samples_fn = [home_path/config['samples'][s]['data'][0]['R1'].removeprefix('~/') for s in config['samples'].keys()]"
   ]
  },
  {
   "cell_type": "code",
   "execution_count": 17,
   "id": "ea0dcad9-4579-4754-a07d-b82813772537",
   "metadata": {},
   "outputs": [
    {
     "data": {
      "text/plain": [
       "[PosixPath('/home/cdaniels/uofc_data/ubs_seq/UBS-seq_basic/workspace/../data/test1_R1.fq.gz'),\n",
       " PosixPath('/home/cdaniels/uofc_data/ubs_seq/UBS-seq_basic/workspace/../data/test2_R1.fq.gz'),\n",
       " PosixPath('/home/cdaniels/uofc_data/ubs_seq/UBS-seq_basic/workspace/../data/test3_R1.fq.gz')]"
      ]
     },
     "execution_count": 17,
     "metadata": {},
     "output_type": "execute_result"
    }
   ],
   "source": [
    "samples_fn"
   ]
  },
  {
   "cell_type": "code",
   "execution_count": 18,
   "id": "f98ef3fd-e6fc-442d-9147-d2ab1dc04074",
   "metadata": {},
   "outputs": [
    {
     "data": {
      "text/plain": [
       "{'t1': PosixPath('/home/cdaniels/uofc_data/ubs_seq/UBS-seq_basic/workspace/../data/test1_R1.fq.gz'),\n",
       " 't2': PosixPath('/home/cdaniels/uofc_data/ubs_seq/UBS-seq_basic/workspace/../data/test2_R1.fq.gz'),\n",
       " 'c1': PosixPath('/home/cdaniels/uofc_data/ubs_seq/UBS-seq_basic/workspace/../data/test3_R1.fq.gz')}"
      ]
     },
     "execution_count": 18,
     "metadata": {},
     "output_type": "execute_result"
    }
   ],
   "source": [
    "s2fn = {name: fname for (name,fname) in zip(samples,samples_fn)};\n",
    "s2fn"
   ]
  },
  {
   "cell_type": "markdown",
   "id": "8024d443-1db1-4a81-83dd-73460708d3da",
   "metadata": {},
   "source": [
    "Symbolically link short names with sample files"
   ]
  },
  {
   "cell_type": "code",
   "execution_count": 19,
   "id": "a74a4795-9f35-4591-b99a-d543fb585ff8",
   "metadata": {},
   "outputs": [
    {
     "name": "stdout",
     "output_type": "stream",
     "text": [
      "ln: failed to create symbolic link 'samples/t1.fq.gz': File exists\n",
      "ln: failed to create symbolic link 'samples/t2.fq.gz': File exists\n",
      "ln: failed to create symbolic link 'samples/c1.fq.gz': File exists\n"
     ]
    }
   ],
   "source": [
    "for (s,fn) in s2fn.items():\n",
    "    ! ln -s {fn} {fname(out_path,s,\"fq.gz\")}"
   ]
  },
  {
   "cell_type": "markdown",
   "id": "2e11be53",
   "metadata": {},
   "source": [
    "Check that the files look correct"
   ]
  },
  {
   "cell_type": "code",
   "execution_count": 20,
   "id": "25371f62",
   "metadata": {},
   "outputs": [
    {
     "name": "stdout",
     "output_type": "stream",
     "text": [
      "total 131M\n",
      "-rw-rw-r-- 1 cdaniels cdaniels 47M Mar  2 20:55 c1.fq.gz\n",
      "-rw-rw-r-- 1 cdaniels cdaniels 37M Mar  2 20:54 t1.fq.gz\n",
      "-rw-rw-r-- 1 cdaniels cdaniels 49M Mar  2 20:55 t2.fq.gz\n"
     ]
    }
   ],
   "source": [
    "!ls -lLh {out_path}"
   ]
  },
  {
   "cell_type": "markdown",
   "id": "6c7307e9-bcb8-4515-be28-da83ddd2649a",
   "metadata": {},
   "source": [
    "How many sequence reads do we have per Sample"
   ]
  },
  {
   "cell_type": "code",
   "execution_count": 21,
   "id": "113b16b9-601a-4b74-83e7-12d25a9af329",
   "metadata": {},
   "outputs": [],
   "source": [
    "# Total Reads per Samples\n",
    "\n",
    "#files = [fname(out_path,sample, \"fq.gz\") for sample in samples]\n",
    "#for f in files:\n",
    "#    ns = nseqs(f)\n",
    "#    print(f\"{f}: {ns:,}\")"
   ]
  },
  {
   "cell_type": "markdown",
   "id": "41fb4092-ae2c-4081-8658-300b9f3ffab8",
   "metadata": {},
   "source": [
    "## Step: fastqc_pre"
   ]
  },
  {
   "cell_type": "markdown",
   "id": "e95850c4-5827-459f-bbf9-04cad8347377",
   "metadata": {},
   "source": [
    "#### Pre Trimming Quality Control"
   ]
  },
  {
   "cell_type": "code",
   "execution_count": 76,
   "id": "20a87550-8f06-4d37-9c01-025dc8135790",
   "metadata": {},
   "outputs": [
    {
     "name": "stdout",
     "output_type": "stream",
     "text": [
      ">>> {samples} 07:21:42_03-06-2024\n",
      ">>> {fastqc_pre} 07:21:42_03-06-2024\n"
     ]
    }
   ],
   "source": [
    "in_path = mkpath(\"samples\")\n",
    "out_path = mkpath(\"fastqc_pre\")"
   ]
  },
  {
   "cell_type": "markdown",
   "id": "16857b29-a33c-424a-a224-22142e6d2e13",
   "metadata": {},
   "source": [
    "#### fastqc"
   ]
  },
  {
   "cell_type": "code",
   "execution_count": 270,
   "id": "c0dd3668-5561-44c7-b2ea-b903ebc1737e",
   "metadata": {
    "scrolled": true
   },
   "outputs": [],
   "source": [
    "#! fastqc --help"
   ]
  },
  {
   "cell_type": "markdown",
   "id": "eb840f81-7880-47b5-aab1-b6017da470e3",
   "metadata": {},
   "source": [
    "##### paramaters:\n",
    "- -o output dir"
   ]
  },
  {
   "cell_type": "code",
   "execution_count": 271,
   "id": "f0f6379b-63d0-4ed9-b3c7-c01accd81bb4",
   "metadata": {},
   "outputs": [
    {
     "name": "stdout",
     "output_type": "stream",
     "text": [
      "application/gzip\n",
      "Analysis complete for t1.fq.gz\n",
      "application/gzip\n",
      "Analysis complete for t2.fq.gz\n",
      "application/gzip\n",
      "Analysis complete for c1.fq.gz\n"
     ]
    }
   ],
   "source": [
    "for sample in samples:\n",
    "    ! fastqc {fname(in_path,sample,\"fq.gz\")} -o {out_path} 2> /dev/null"
   ]
  },
  {
   "cell_type": "code",
   "execution_count": 272,
   "id": "f009c6d6-c2d9-4b1c-b628-53e2ce7ba2d9",
   "metadata": {},
   "outputs": [
    {
     "name": "stdout",
     "output_type": "stream",
     "text": [
      "total 3052\n",
      "-rw-rw-r-- 1 cdaniels cdaniels 653096 Mar  4 23:25 c1_fastqc.html\n",
      "-rw-rw-r-- 1 cdaniels cdaniels 400234 Mar  4 23:25 c1_fastqc.zip\n",
      "-rw-rw-r-- 1 cdaniels cdaniels 647152 Mar  4 23:24 t1_fastqc.html\n",
      "-rw-rw-r-- 1 cdaniels cdaniels 383184 Mar  4 23:24 t1_fastqc.zip\n",
      "-rw-rw-r-- 1 cdaniels cdaniels 650105 Mar  4 23:24 t2_fastqc.html\n",
      "-rw-rw-r-- 1 cdaniels cdaniels 382708 Mar  4 23:24 t2_fastqc.zip\n"
     ]
    }
   ],
   "source": [
    "! ls -l {out_path}"
   ]
  },
  {
   "cell_type": "markdown",
   "id": "51157b74",
   "metadata": {},
   "source": [
    "## Step: trim"
   ]
  },
  {
   "cell_type": "markdown",
   "id": "c1731c31-b9b1-4a09-b964-3dece49e1910",
   "metadata": {},
   "source": [
    "#### Trim the adapter and downstream sequence as well as trimmng lower quality downstream sequence"
   ]
  },
  {
   "cell_type": "code",
   "execution_count": 273,
   "id": "8b898be1",
   "metadata": {},
   "outputs": [
    {
     "name": "stdout",
     "output_type": "stream",
     "text": [
      ">>> {samples} 23:25:02_03-04-2024\n",
      ">>> {trim} 23:25:02_03-04-2024\n"
     ]
    }
   ],
   "source": [
    "in_path = mkpath(\"samples\")\n",
    "out_path = mkpath(\"trim\")"
   ]
  },
  {
   "attachments": {},
   "cell_type": "markdown",
   "id": "a15fbf3d-f263-49a6-b36a-90c5edeb3046",
   "metadata": {},
   "source": [
    "![adapter](../img/adapter.png)"
   ]
  },
  {
   "cell_type": "markdown",
   "id": "55fe08bc-dfe3-4066-9574-e5d8c0a53f64",
   "metadata": {},
   "source": [
    "The adapter sequence contains the i7 primer + i7 index + p7 sequence, and all of them can be sequenced in the R1, if the insert fragment is too short. The reason that RNA seq library shows index at the end, and UBS-seq shows index within the sequence, is because UBS-seq library are too short and PE150 sequencing mode can read though the whole index.\n",
    "\n",
    "Q: Where is barcode3?"
   ]
  },
  {
   "cell_type": "code",
   "execution_count": 274,
   "id": "632eaa99",
   "metadata": {},
   "outputs": [],
   "source": [
    "adapter =  \"AGATCGGAAGAGCACACGTCT\"\n",
    "barcode3 = \"ATCACG\""
   ]
  },
  {
   "cell_type": "code",
   "execution_count": 275,
   "id": "e73ebe78-4020-4894-8c0c-3239aee02330",
   "metadata": {},
   "outputs": [
    {
     "name": "stdout",
     "output_type": "stream",
     "text": [
      "c1.fq.gz  t1.fq.gz  t2.fq.gz\n"
     ]
    }
   ],
   "source": [
    "!ls {in_path}"
   ]
  },
  {
   "cell_type": "markdown",
   "id": "ca715978-8029-4cfe-a74c-765eb8ed882f",
   "metadata": {},
   "source": [
    "#### cutadapt"
   ]
  },
  {
   "cell_type": "code",
   "execution_count": 276,
   "id": "bbb14bd9",
   "metadata": {
    "scrolled": true
   },
   "outputs": [],
   "source": [
    "#! cutadapt --help"
   ]
  },
  {
   "cell_type": "markdown",
   "id": "51c5bf75-0af1-40c7-ba4a-1265587753b9",
   "metadata": {
    "scrolled": true
   },
   "source": [
    "```\n",
    "cutadapt -j {threads} \n",
    "            -n 2 \n",
    "            -a \"{params.barcode3}{params.adapter3};e=0.15;o=6;anywhere;\" \n",
    "            --untrimmed-output={output.fastq_untrimmed} \n",
    "            -o - {input} 2>{output.report1} | \n",
    "cutadapt -j {threads} \n",
    "            -u 5 -u -5 \n",
    "            --rename='{{id}}_{{cut_prefix}}{{cut_suffix}} {{comment}}' \n",
    "            --max-n=0 \n",
    "            -q 15 \n",
    "            --nextseq-trim=15 \n",
    "            -m 20 \n",
    "            --too-short-output={output.fastq_tooshort} \n",
    "            -o {output.fastq_cut} - >{output.report2}\n",
    "```"
   ]
  },
  {
   "cell_type": "markdown",
   "id": "61d94569-8947-497c-8641-59e0f790ce60",
   "metadata": {},
   "source": [
    "https://cutadapt.readthedocs.io/en/stable/guide.html"
   ]
  },
  {
   "cell_type": "markdown",
   "id": "cd81c901-05a6-4b85-9dc2-2c2201af649d",
   "metadata": {},
   "source": [
    "##### paramaters:\n",
    "- -j 0, Number of CPU. Use 0 to autodetect\n",
    "- --nextseq-trim=15, is used to trim these low-quality tails of 'G's by introducing a variable quality threshold\n",
    "- --action=trim, trim adapter and downstream sequence\n",
    "- -a '{barcode3}{adapter};e=0.15;o=6;anywhere;', \n",
    "- -n 2, Remove up to COUNT adapters from each read. Default: 1\n",
    "- -u 5 -u -5, Remove LEN bases from each read. If positve, from beginning. If negative, from end\n",
    "- --max-n=0, Discard reads with more than COUNT 'N' bases (here any)\n",
    "- -q 15, Trim low-quality bases from 5' end of eachread before adapter removal.\n",
    "- -m 20, Discard reads shorter than LEN\n",
    "- --rename='{{id}}_{{cut_prefix}}{{cut_suffix}} {{comment}}', rename comment of fastq record\n",
    "- --too-short-output={fname(out_path,sample,\"fastq_tooshort\")},\n",
    "- -o {fname(out_path,sample,\"fq.gz\")}, output file\n",
    "{fname(in_path,sample,\"fq.gz\")}, input file"
   ]
  },
  {
   "cell_type": "markdown",
   "id": "dbf6f13b-0a83-4436-b929-f2000deb241d",
   "metadata": {},
   "source": [
    "**NOTE:** Added `--length 30` to cutoff reads where C begin to become more common. Not in original code"
   ]
  },
  {
   "cell_type": "code",
   "execution_count": 277,
   "id": "c556375c-0e45-402f-b5fe-6418606482ca",
   "metadata": {},
   "outputs": [
    {
     "name": "stdout",
     "output_type": "stream",
     "text": [
      "Done           00:00:00       935,632 reads @   0.9 µs/read;  63.58 M reads/minute\n",
      "Done           00:00:01       910,046 reads @   1.1 µs/read;  53.64 M reads/minute\n",
      "Done           00:00:01     1,365,245 reads @   0.9 µs/read;  69.48 M reads/minute\n",
      "Done           00:00:01     1,335,535 reads @   1.1 µs/read;  56.36 M reads/minute\n",
      "Done           00:00:01     1,183,321 reads @   0.9 µs/read;  66.29 M reads/minute\n",
      "Done           00:00:01     1,158,613 reads @   1.1 µs/read;  56.65 M reads/minute\n"
     ]
    }
   ],
   "source": [
    "for sample in samples:\n",
    "    !cutadapt -j 0 -n 2 \\\n",
    "        -a '{barcode3}{adapter};e=0.15;o=6;anywhere;' \\\n",
    "        --untrimmed-output={fname(out_path,sample,'untrimmed')} \\\n",
    "        -o {fname(out_path,sample,'tmp')}\\\n",
    "        {fname(in_path,sample,'fq.gz')} > {fname (out_path,sample,'report1')} \n",
    "    \n",
    "    !cutadapt -j 0 -u 5 -u -5 --max-n=0 -q 15 -m 20 --length 80 --nextseq-trim=15 \\\n",
    "            --rename='{{id}}_{{cut_prefix}}{{cut_suffix}} {{comment}}'\\\n",
    "            --too-short-output={fname(out_path,sample,'tooshort')} \\\n",
    "            -o {fname(out_path,sample,\"fq.gz\")} \\\n",
    "            {fname(out_path,sample,'tmp')} > {fname(out_path,sample,'report2')}\n",
    "    \n",
    "    !rm {fname(out_path,sample,'tmp')}"
   ]
  },
  {
   "cell_type": "markdown",
   "id": "c0fd27b4-6fb6-43ec-abda-908fe49df9f8",
   "metadata": {},
   "source": [
    "#### Analysis"
   ]
  },
  {
   "cell_type": "markdown",
   "id": "0deddf8f-d88b-4b1f-832b-328714f045f3",
   "metadata": {},
   "source": [
    "Take a look at a FASTQ file"
   ]
  },
  {
   "cell_type": "code",
   "execution_count": 278,
   "id": "e07c75da-35fd-4c4e-b07a-3696595806f4",
   "metadata": {},
   "outputs": [
    {
     "data": {
      "text/plain": [
       "PosixPath('trim/t1.fq.gz')"
      ]
     },
     "execution_count": 278,
     "metadata": {},
     "output_type": "execute_result"
    }
   ],
   "source": [
    "in_fn  = fname(in_path,treated[0],'fq.gz')\n",
    "out_fn = fname(out_path,treated[0],'fq.gz')\n",
    "out_fn"
   ]
  },
  {
   "cell_type": "code",
   "execution_count": 279,
   "id": "c450ef4a-6b0d-4ded-a5f1-d387be292b48",
   "metadata": {
    "scrolled": true
   },
   "outputs": [
    {
     "name": "stdout",
     "output_type": "stream",
     "text": [
      "@SRR23538290.50 50 length=121\n",
      "GGAAATTGTGGTAATTTTAGAGTTAATATATGTTGATGGGTGTTGATTTTTTTTGATGGTATCACGAGATCGGAAGAGCACACGTCTGAACTCCAGTCACCACTCAATCGCGTATTCCGTC\n",
      "+\n",
      "FFFFFFFFF:FFFFFFFFFFFFFFFFFFFFFFFFFFFFFFFFFFFFFFFFFFFFFFFFFFFFFFFFFFFFFFFFFFFFFFFFFFFFFFFFFFFFFFFFFFFFFFFFFFF,FFFFF,FFF:F\n",
      "@SRR23538290.144 144 length=121\n",
      "TTTTTTTGGATATTAGGAAAAAATTTTGTAGAGAGAGTAAAAAATTTACTAGTATCACGAGATCGGAAGAGCACACGTCTGAACTCCAGTCACCACTCAATCTCGTATGCCGTCTTCTGCT\n",
      "+\n",
      "FFFFFFFFFFFFFFFFFFFFFFFFFFFFFFFFFFFFFFFFFFFFFFFF:FF:FFFFFFFFFFFFFFFFFFFFFFFFFFFFFFFFFFFFFFFFFFFFFFFFFF:FFFFF:,FF,F:FFFFFF\n",
      "@SRR23538290.276 276 length=121\n",
      "CCAGGAATTATAGTAATGTTTAGTTTATTGAGTTAAATGTTTGTCGGATGTGTTTGTGAGGGGATGAGGATGATAAGATTTTGTTTAGTATCACGAGATCGGAAGAGCACACGTCTGAACT\n",
      "+\n",
      "FF:,FFF:,FFF,FFF:FFFFFFFFFFFF,F:F:F:F,F,:,FFF,,F,F,,:,:,,FFFFF:FF:F,,F,,FF,F:,,,F,F,F:F::F::FFFFFFF:FFFF:FF,FFFFFFFFF,FFF\n",
      "@SRR23538290.379 379 length=121\n",
      "CCTCAAGAGTTTTAATGTTTTTAATGTAGGTGATGATTGGGAAAACACATCACGAGATCGGAAGAGCACACGTCTGAACTCCAGTCACCACTCAATCTCGTATGCCGTCTTCTTCTTGAAA\n",
      "+\n",
      "FFF,:,FFF:FFFFFFFFFFFFFFF:FF:FFFFFFFFFFF:FFFFFF:FFFFFFFFFF:FFFFFFFFFFFFFFFFFFFFFFFFFFFFFFFFFFFFFF:FFF::,:F:FFF,,,,F,F:,FF\n",
      "\n",
      "gzip: stdout: Broken pipe\n"
     ]
    }
   ],
   "source": [
    "! zcat {in_fn}|head -16"
   ]
  },
  {
   "cell_type": "code",
   "execution_count": 280,
   "id": "bbff0c14-bd75-4988-a235-07400fa4a89b",
   "metadata": {},
   "outputs": [],
   "source": [
    "def show_adapter(reads):\n",
    "    for read in reads.split('\\n'):\n",
    "        read = read.replace(adapter, f'<span style=\"color: blue;\">{barcode3}{adapter}</span>')\n",
    "        display(HTML(read))"
   ]
  },
  {
   "cell_type": "markdown",
   "id": "b131dc87-f706-4aa6-b82d-8fec51b0b7c2",
   "metadata": {},
   "source": [
    "Look for adapter in untrimmed reads"
   ]
  },
  {
   "cell_type": "code",
   "execution_count": 281,
   "id": "c6560944-596a-443c-9f53-d07613ceedbd",
   "metadata": {},
   "outputs": [
    {
     "data": {
      "text/html": [
       "GGAAATTGTGGTAATTTTAGAGTTAATATATGTTGATGGGTGTTGATTTTTTTTGATGGTATCACG<span style=\"color: blue;\">ATCACGAGATCGGAAGAGCACACGTCT</span>GAACTCCAGTCACCACTCAATCGCGTATTCCGTC"
      ],
      "text/plain": [
       "<IPython.core.display.HTML object>"
      ]
     },
     "metadata": {},
     "output_type": "display_data"
    },
    {
     "data": {
      "text/html": [
       "TTTTTTTGGATATTAGGAAAAAATTTTGTAGAGAGAGTAAAAAATTTACTAGTATCACG<span style=\"color: blue;\">ATCACGAGATCGGAAGAGCACACGTCT</span>GAACTCCAGTCACCACTCAATCTCGTATGCCGTCTTCTGCT"
      ],
      "text/plain": [
       "<IPython.core.display.HTML object>"
      ]
     },
     "metadata": {},
     "output_type": "display_data"
    },
    {
     "data": {
      "text/html": [
       "CCAGGAATTATAGTAATGTTTAGTTTATTGAGTTAAATGTTTGTCGGATGTGTTTGTGAGGGGATGAGGATGATAAGATTTTGTTTAGTATCACG<span style=\"color: blue;\">ATCACGAGATCGGAAGAGCACACGTCT</span>GAACT"
      ],
      "text/plain": [
       "<IPython.core.display.HTML object>"
      ]
     },
     "metadata": {},
     "output_type": "display_data"
    },
    {
     "data": {
      "text/html": [
       "CCTCAAGAGTTTTAATGTTTTTAATGTAGGTGATGATTGGGAAAACACATCACG<span style=\"color: blue;\">ATCACGAGATCGGAAGAGCACACGTCT</span>GAACTCCAGTCACCACTCAATCTCGTATGCCGTCTTCTTCTTGAAA"
      ],
      "text/plain": [
       "<IPython.core.display.HTML object>"
      ]
     },
     "metadata": {},
     "output_type": "display_data"
    },
    {
     "data": {
      "text/html": [
       "CAGATTAAAATTAATTTGAAATTTAATCATAAAGATATAGGAAAATAAAACTTATTATCTAAATACAAAAATAAATCGAAAATCACGAGATCTGAATATCACACTTCTGAACTCCAGTCAC"
      ],
      "text/plain": [
       "<IPython.core.display.HTML object>"
      ]
     },
     "metadata": {},
     "output_type": "display_data"
    },
    {
     "data": {
      "text/html": [
       "ACTTTGGTGTTTTATGTTGGGGAGGATGATGAGGAGGATGATGATTTTAATTAGAATCACATATCACG<span style=\"color: blue;\">ATCACGAGATCGGAAGAGCACACGTCT</span>GAACTCCAGTCACCACTCAATCTCGTATGCCG"
      ],
      "text/plain": [
       "<IPython.core.display.HTML object>"
      ]
     },
     "metadata": {},
     "output_type": "display_data"
    },
    {
     "data": {
      "text/html": [
       "CCCAAAAAAAAAAAAAAAAAAAAAAAAAAAAAAAAAAAAAAAAAAAAAAAAAAAAAAAAAAAAACAAAAAACCAAGAGGGAAAGACAAACAGAAAAAAACAAAAACCCAAAAAAACAGAAA"
      ],
      "text/plain": [
       "<IPython.core.display.HTML object>"
      ]
     },
     "metadata": {},
     "output_type": "display_data"
    },
    {
     "data": {
      "text/html": [
       "TTCAAGTAATGAAGGGTAAGATGAAGTGAAAGGTAAAGAATTGTGTGAGGGTGGGATTGTTTATTGAGTAGTCGCCATCACG<span style=\"color: blue;\">ATCACGAGATCGGAAGAGCACACGTCT</span>GAACTCCAGTCACCACTC"
      ],
      "text/plain": [
       "<IPython.core.display.HTML object>"
      ]
     },
     "metadata": {},
     "output_type": "display_data"
    },
    {
     "data": {
      "text/html": [
       "CTGTAAAAATAATGTGGTATTTATGAGTTATTTTTTATAGGGTAGTTGTATCACG<span style=\"color: blue;\">ATCACGAGATCGGAAGAGCACACGTCT</span>GAACTCCAGTCACCACTCAATCTCGTATGCCGTCTTCTGCTTGAA"
      ],
      "text/plain": [
       "<IPython.core.display.HTML object>"
      ]
     },
     "metadata": {},
     "output_type": "display_data"
    }
   ],
   "source": [
    "reads = ! zcat {in_fn} | head -36  | seqtk seq -A |grep -v '>'\n",
    "reads = ('\\n').join(reads)\n",
    "show_adapter(reads)"
   ]
  },
  {
   "cell_type": "markdown",
   "id": "fad1e27a-a3a6-4bfe-9920-203e65654575",
   "metadata": {},
   "source": [
    "Verify that adapters and all downstream elements of reads have been trimmed"
   ]
  },
  {
   "cell_type": "code",
   "execution_count": 282,
   "id": "65a7f174-35a8-4956-bdf3-eb86888a902a",
   "metadata": {},
   "outputs": [
    {
     "data": {
      "text/html": [
       "TTGTGGTAATTTTAGAGTTAATATATGTTGATGGGTGTTGATTTTTTTT"
      ],
      "text/plain": [
       "<IPython.core.display.HTML object>"
      ]
     },
     "metadata": {},
     "output_type": "display_data"
    },
    {
     "data": {
      "text/html": [
       "TTGGATATTAGGAAAAAATTTTGTAGAGAGAGTAAAAAATTTA"
      ],
      "text/plain": [
       "<IPython.core.display.HTML object>"
      ]
     },
     "metadata": {},
     "output_type": "display_data"
    },
    {
     "data": {
      "text/html": [
       "AATTATAGTAATGTTTAGTTTATTGAGTTAAATGTTTGTCGGATGTGTTTGTGAGGGGATGAGGATGATAAGATTT"
      ],
      "text/plain": [
       "<IPython.core.display.HTML object>"
      ]
     },
     "metadata": {},
     "output_type": "display_data"
    },
    {
     "data": {
      "text/html": [
       "AGAGTTTTAATGTTTTTAATGTAGGTGATGATTGGGAA"
      ],
      "text/plain": [
       "<IPython.core.display.HTML object>"
      ]
     },
     "metadata": {},
     "output_type": "display_data"
    },
    {
     "data": {
      "text/html": [
       "TAAAATTAATTTGAAATTTAATCATAAAGATATAGGAAAATAAAACTTATTATCTAAATACAAAAATAAA"
      ],
      "text/plain": [
       "<IPython.core.display.HTML object>"
      ]
     },
     "metadata": {},
     "output_type": "display_data"
    },
    {
     "data": {
      "text/html": [
       "GGTGTTTTATGTTGGGGAGGATGATGAGGAGGATGATGATTTTAATTAGAAT"
      ],
      "text/plain": [
       "<IPython.core.display.HTML object>"
      ]
     },
     "metadata": {},
     "output_type": "display_data"
    },
    {
     "data": {
      "text/html": [
       "GTAATGAAGGGTAAGATGAAGTGAAAGGTAAAGAATTGTGTGAGGGTGGGATTGTTTATTGAGT"
      ],
      "text/plain": [
       "<IPython.core.display.HTML object>"
      ]
     },
     "metadata": {},
     "output_type": "display_data"
    },
    {
     "data": {
      "text/html": [
       "AAAATAATGTGGTATTTATGAGTTATTTTTTATAGGGTA"
      ],
      "text/plain": [
       "<IPython.core.display.HTML object>"
      ]
     },
     "metadata": {},
     "output_type": "display_data"
    },
    {
     "data": {
      "text/html": [
       "TTAGAGATGAAAAATGAGATTATTTGAAGGTTTTTAGTGTAAAGTTATTGTAAT"
      ],
      "text/plain": [
       "<IPython.core.display.HTML object>"
      ]
     },
     "metadata": {},
     "output_type": "display_data"
    }
   ],
   "source": [
    "reads = !zcat {out_fn}| head -36  | seqtk seq -A |grep -v '>'\n",
    "reads = ('\\n').join(reads)\n",
    "show_adapter(reads)"
   ]
  },
  {
   "cell_type": "code",
   "execution_count": 283,
   "id": "27ed8414-eba7-471c-bbde-314fa77492f9",
   "metadata": {},
   "outputs": [
    {
     "name": "stdout",
     "output_type": "stream",
     "text": [
      "c1.fq.gz    c1.tooshort   t1.report1   t1.untrimmed  t2.report2\n",
      "c1.report1  c1.untrimmed  t1.report2   t2.fq.gz      t2.tooshort\n",
      "c1.report2  t1.fq.gz\t  t1.tooshort  t2.report1    t2.untrimmed\n"
     ]
    }
   ],
   "source": [
    "!ls {out_path}"
   ]
  },
  {
   "cell_type": "markdown",
   "id": "b28de976-ebee-4727-a44a-a3379cd8757e",
   "metadata": {},
   "source": [
    "What did `--rename='{{id}}_{{cut_prefix}}{{cut_suffix}} {{comment}}'` do?\n",
    "\n",
    "It appears to has included in the fastq header, an id comprised of the first and last 5 nt cut by `-u 5` and `-u -5`"
   ]
  },
  {
   "cell_type": "code",
   "execution_count": 284,
   "id": "b2c72e26-ecf2-4712-9909-fd202e1eed08",
   "metadata": {
    "scrolled": true
   },
   "outputs": [
    {
     "name": "stdout",
     "output_type": "stream",
     "text": [
      "@SRR23538290.50 50 length=121\n",
      "GGAAATTGTGGTAATTTTAGAGTTAATATATGTTGATGGGTGTTGATTTTTTTTGATGGTATCACGAGATCGGAAGAGCACACGTCTGAACTCCAGTCACCACTCAATCGCGTATTCCGTC\n",
      "\n",
      "gzip: stdout: Broken pipe\n"
     ]
    }
   ],
   "source": [
    "! zcat {in_fn}|head -2  "
   ]
  },
  {
   "cell_type": "code",
   "execution_count": 285,
   "id": "97272d2b-9170-4935-8801-907e7ffcb1f0",
   "metadata": {},
   "outputs": [
    {
     "name": "stdout",
     "output_type": "stream",
     "text": [
      "@SRR23538290.50_GGAAAATGGT 50 length=121\n",
      "TTGTGGTAATTTTAGAGTTAATATATGTTGATGGGTGTTGATTTTTTTT\n",
      "\n",
      "gzip: stdout: Broken pipe\n"
     ]
    }
   ],
   "source": [
    "!zcat {out_fn}| head -2"
   ]
  },
  {
   "cell_type": "markdown",
   "id": "c37417da-f21f-483c-9a02-f84c5be479df",
   "metadata": {},
   "source": [
    "Too slow for large files. Commented out."
   ]
  },
  {
   "cell_type": "code",
   "execution_count": 286,
   "id": "9004da50-f983-496a-8ec4-7e8a45047d22",
   "metadata": {},
   "outputs": [],
   "source": [
    "#files = [fname(in_path,sample, \"fq.gz\") for sample in samples]\n",
    "#res = []\n",
    "#for f in files:\n",
    "#    n = !seqtk seq -A {f}|grep -v '>'|wc -c\n",
    "#    res.append(int(n[0]))\n",
    "#ins = res\n",
    "#ins"
   ]
  },
  {
   "cell_type": "code",
   "execution_count": 287,
   "id": "fb5d33e9-c511-41f2-b8d4-3f7e606fa4ad",
   "metadata": {},
   "outputs": [],
   "source": [
    "#files = [fname(out_path,sample, \"fq.gz\") for sample in samples]\n",
    "#res = []\n",
    "#for f in files:\n",
    "#    n = !seqtk seq -A {f}|grep -v '>'|wc -c\n",
    "#    res.append(int(n[0]))\n",
    "#outs = res\n",
    "#outs"
   ]
  },
  {
   "cell_type": "code",
   "execution_count": 288,
   "id": "34da7817",
   "metadata": {},
   "outputs": [],
   "source": [
    "#make_table(ins, outs, \"Origs\", \"Trimmed\", \"Sum of Total Read Lengths\", samples, \"Sum of Total Reads Per Sample\")"
   ]
  },
  {
   "cell_type": "code",
   "execution_count": 289,
   "id": "728a7038-553c-4428-9112-becd7d1c87cf",
   "metadata": {},
   "outputs": [],
   "source": [
    "#reads = !xargs zcat {out_path}/*.gz | seqtk seq -A  |grep -v \">\" \n",
    "#ds = [len(read) for read in reads]\n",
    "#make_histogram(ds, \"Read Length\", \"Trimmed Reads\")"
   ]
  },
  {
   "cell_type": "markdown",
   "id": "bf68d82c-0200-4613-b5b6-497fde519e16",
   "metadata": {},
   "source": [
    "## Step: fastqc_post"
   ]
  },
  {
   "cell_type": "markdown",
   "id": "8198a2d4-8f2f-46de-ba05-5b335a21bc2e",
   "metadata": {},
   "source": [
    "#### Post Trimming Quality Control"
   ]
  },
  {
   "cell_type": "code",
   "execution_count": 290,
   "id": "140ea0f2-cb1c-48a6-adbd-5264b92c8e1f",
   "metadata": {},
   "outputs": [
    {
     "name": "stdout",
     "output_type": "stream",
     "text": [
      ">>> {trim} 23:25:16_03-04-2024\n",
      ">>> {fastqc_post} 23:25:16_03-04-2024\n"
     ]
    }
   ],
   "source": [
    "in_path = mkpath(\"trim\")\n",
    "out_path = mkpath(\"fastqc_post\")"
   ]
  },
  {
   "cell_type": "code",
   "execution_count": 291,
   "id": "aa72c0a9-9280-4255-b5d6-d0d0258181c0",
   "metadata": {},
   "outputs": [
    {
     "name": "stdout",
     "output_type": "stream",
     "text": [
      "application/gzip\n",
      "Analysis complete for t1.fq.gz\n",
      "application/gzip\n",
      "Analysis complete for t2.fq.gz\n",
      "application/gzip\n",
      "Analysis complete for c1.fq.gz\n"
     ]
    }
   ],
   "source": [
    "for sample in samples:\n",
    "    ! fastqc {fname(in_path,sample,\"fq.gz\")} -o {out_path} 2> /dev/null"
   ]
  },
  {
   "cell_type": "markdown",
   "id": "69de1cf7-fa1b-49f1-ba6a-a14126989904",
   "metadata": {},
   "source": [
    "#### Consolidate fastqc Reports"
   ]
  },
  {
   "cell_type": "code",
   "execution_count": 292,
   "id": "e751dc92-97ee-4f4e-af15-6d05c1fb49ce",
   "metadata": {},
   "outputs": [
    {
     "name": "stdout",
     "output_type": "stream",
     "text": [
      "\n",
      "  \u001b[91m///\u001b[0m \u001b]8;id=424221;https://multiqc.info\u001b\\\u001b[1mMultiQC\u001b[0m\u001b]8;;\u001b\\ 🔍 \u001b[2m| v1.19\u001b[0m\n",
      "\n",
      "\u001b[34m|           multiqc\u001b[0m | \u001b[33mMultiQC Version v1.21 now available!\u001b[0m\n",
      "\u001b[34m|           multiqc\u001b[0m | Only using modules: fastqc\n",
      "\u001b[34m|           multiqc\u001b[0m | Search path : /home/cdaniels/uofc_data/ubs_seq/UBS-seq_basic/workspace/fastqc_post\n",
      "\u001b[2K\u001b[34m|\u001b[0m         \u001b[34msearching\u001b[0m | \u001b[90m━━━━━━━━━━━━━━━━━━━━━━━━━━━━━━━━━━━━━━━━\u001b[0m \u001b[35m100%\u001b[0m \u001b[32m7/7\u001b[0m  0/7\u001b[0m  \n",
      "\u001b[?25h\u001b[34m|            fastqc\u001b[0m | Found 3 reports\n",
      "\u001b[34m|           multiqc\u001b[0m | Report      : fastqc_post/multiqc.html   (overwritten)\n",
      "\u001b[34m|           multiqc\u001b[0m | Data        : fastqc_post/multiqc_data   (overwritten)\n",
      "\u001b[34m|           multiqc\u001b[0m | MultiQC complete\n"
     ]
    }
   ],
   "source": [
    "!multiqc -f -fp -m fastqc -n multiqc -o {out_path} {out_path}"
   ]
  },
  {
   "cell_type": "code",
   "execution_count": 293,
   "id": "bc5b1d72-84a7-4fd3-a8ae-e755b5015a52",
   "metadata": {},
   "outputs": [
    {
     "name": "stdout",
     "output_type": "stream",
     "text": [
      "c1_fastqc.html\tmultiqc_data  t1_fastqc.html  t2_fastqc.html\n",
      "c1_fastqc.zip\tmultiqc.html  t1_fastqc.zip   t2_fastqc.zip\n"
     ]
    }
   ],
   "source": [
    "! ls {out_path}"
   ]
  },
  {
   "cell_type": "markdown",
   "id": "bd28f83d-0595-4b9d-9db8-f56f2fff41da",
   "metadata": {},
   "source": [
    "## Step: Map_genes"
   ]
  },
  {
   "cell_type": "markdown",
   "id": "8e057fd4-bbc7-4b7f-8939-4ba2333a97d0",
   "metadata": {},
   "source": [
    "#### Align Samples to Genes with Hisat-3n"
   ]
  },
  {
   "cell_type": "code",
   "execution_count": 47,
   "id": "93edc8f9-2ceb-45bf-a339-18d905b330b7",
   "metadata": {},
   "outputs": [
    {
     "name": "stdout",
     "output_type": "stream",
     "text": [
      ">>> {trim} 00:12:48_03-05-2024\n",
      ">>> {map_genes} 00:12:48_03-05-2024\n"
     ]
    }
   ],
   "source": [
    "in_path = mkpath(\"trim\")\n",
    "out_path = mkpath(\"map_genes\")"
   ]
  },
  {
   "cell_type": "markdown",
   "id": "3e70384d-dd3d-4d6c-8266-d38d43eaf766",
   "metadata": {},
   "source": [
    "#### hisat-3n"
   ]
  },
  {
   "cell_type": "markdown",
   "id": "ed1ac75b-4c17-4dd2-85bc-ac9ca4e2b750",
   "metadata": {},
   "source": [
    "http://daehwankimlab.github.io/hisat2/hisat-3n/"
   ]
  },
  {
   "cell_type": "code",
   "execution_count": 464,
   "id": "1b39bb8b-aeb9-430a-9fe3-5cf580577024",
   "metadata": {
    "scrolled": true
   },
   "outputs": [],
   "source": [
    "#!hisat-3n --help"
   ]
  },
  {
   "cell_type": "markdown",
   "id": "de01019d-11d5-4fee-b6e9-1c27c8c2ab74",
   "metadata": {
    "scrolled": true
   },
   "source": [
    "```\n",
    "hisat3n --index {params.index} \n",
    "        -p {threads}\n",
    "        --summary-file {output.summary} --new-summary -q -U {input} \n",
    "        {params.mapping} --all --norc --base-change C,T --mp 8,2 \n",
    "        --no-spliced-alignment --un {output.fq} -S {output.sam}\n",
    "```"
   ]
  },
  {
   "cell_type": "markdown",
   "id": "4f1644db-d16b-40fd-8067-f916de6f7cf0",
   "metadata": {},
   "source": [
    "##### paramaters:\n",
    "- --index {params.index}, Index filename prefix (minus trailing .X.ht2) \n",
    "- -p {nc}, number of threads\n",
    "- --summary-file, print alignment summary to this file.\n",
    "- --new-summary, print alignment summary in a new style, which is more machine-friendly.\n",
    "- -q, query input files are FASTQ .fq/.fastq (default)\n",
    "- -U {input}, \n",
    "- --directional-mapping, make directional mapping, please use this option only if your reads are prepared with a strand specific library (off)\n",
    "- --base-change C,T,  the converted nucleotide and converted to nucleotide (C,T)\n",
    "- --pen-noncansplice 20, penalty for a non-canonical splice site (12)\n",
    "- --mp 4,1,  max and min penalties for mismatch; lower qual = lower penalty <6,2>\n",
    "- --un {output.fq}, write unpaired reads that didn't align to <path> \n",
    "- -S {output.sam}, File for SAM output (default: stdout)"
   ]
  },
  {
   "cell_type": "code",
   "execution_count": 34,
   "id": "f4749f0e-a1f0-42c2-9c2d-0f79c91db80d",
   "metadata": {},
   "outputs": [
    {
     "name": "stdout",
     "output_type": "stream",
     "text": [
      "HISAT2 summary stats:\n",
      "\tTotal reads: 894555\n",
      "\t\tAligned 0 time: 869716 (97.22%)\n",
      "\t\tAligned 1 time: 9804 (1.10%)\n",
      "\t\tAligned >1 times: 15035 (1.68%)\n",
      "\tOverall alignment rate: 2.78%\n",
      "HISAT2 summary stats:\n",
      "\tTotal reads: 1306170\n",
      "\t\tAligned 0 time: 1268982 (97.15%)\n",
      "\t\tAligned 1 time: 14344 (1.10%)\n",
      "\t\tAligned >1 times: 22844 (1.75%)\n",
      "\tOverall alignment rate: 2.85%\n",
      "HISAT2 summary stats:\n",
      "\tTotal reads: 1134400\n",
      "\t\tAligned 0 time: 1101752 (97.12%)\n",
      "\t\tAligned 1 time: 11401 (1.01%)\n",
      "\t\tAligned >1 times: 21247 (1.87%)\n",
      "\tOverall alignment rate: 2.88%\n"
     ]
    }
   ],
   "source": [
    "for sample in samples:\n",
    "    !hisat-3n --index {genes_idx}\\\n",
    "        -p {nc}\\\n",
    "        --summary-file {fname(out_path,sample,\"summary\")}\\\n",
    "        --new-summary -q\\\n",
    "        -U {fname(in_path,sample,'fq.gz')}\\\n",
    "        --directional-mapping --all --norc \\\n",
    "        --base-change C,T\\\n",
    "        --no-spliced-alignment --mp 8,2\\\n",
    "        --un {fname(out_path,sample,'unmapped.fq')}\\\n",
    "        -S {fname(out_path,sample,'genes.sam')}"
   ]
  },
  {
   "cell_type": "markdown",
   "id": "bd6b2028-91c8-45fd-bf77-3ec99b0a9079",
   "metadata": {},
   "source": [
    "#### Sort and Index"
   ]
  },
  {
   "cell_type": "markdown",
   "id": "5a173a59-e55e-4cce-975a-6baed7b93978",
   "metadata": {
    "scrolled": true
   },
   "source": [
    "```\n",
    "samtools view\n",
    "    -@ {threads}\n",
    "    -F4 -b {input} |\n",
    "samtools sort\n",
    "    -@ {threads}\n",
    "    --write-index\n",
    "    -m 4G\n",
    "    -O BAM\n",
    "    -o {output} -\n",
    "```"
   ]
  },
  {
   "cell_type": "markdown",
   "id": "fb90abc3-a934-474d-9d8b-f198b4f5fec8",
   "metadata": {},
   "source": [
    "##### paramaters:\n",
    "```\n",
    "samtools view, SAM<->BAM<->CRAM conversion\n",
    "    -@ {nc}, number of threads \n",
    "    -F4 Filter out by Flag (-F 4 filters out unmapped reads)\n",
    "    -b, output a bam file\n",
    "    {input}  |\n",
    "samtools sort, sort alignment file\n",
    "    -@ {nc}, number of threads\n",
    "    --write-index, index the output files\n",
    "    -O BAM, output file format\n",
    "    -o {output} -\n",
    "```"
   ]
  },
  {
   "cell_type": "code",
   "execution_count": 36,
   "id": "26bce56e-42e4-477f-ba69-5f42cde7feca",
   "metadata": {},
   "outputs": [
    {
     "name": "stdout",
     "output_type": "stream",
     "text": [
      "[bam_sort_core] merging from 0 files and 32 in-memory blocks...\n",
      "[bam_sort_core] merging from 0 files and 32 in-memory blocks...\n",
      "[bam_sort_core] merging from 0 files and 32 in-memory blocks...\n"
     ]
    }
   ],
   "source": [
    "for sample in samples:\n",
    "    ! samtools view -@ {nc} -F4 -b {fname(out_path, sample,'genes.sam')}  | \\\n",
    "      samtools sort -@ {nc} --write-index -O BAM -o {fname(out_path,sample,'genes.bam')} - \n",
    "    !rm {fname(out_path, sample,'genes.sam')}"
   ]
  },
  {
   "cell_type": "code",
   "execution_count": 37,
   "id": "10f0bc0e-3985-427c-af5e-882286fc0c20",
   "metadata": {},
   "outputs": [
    {
     "name": "stdout",
     "output_type": "stream",
     "text": [
      "c1.genes.bam\t  c1.unmapped.fq    t1.summary\t      t2.genes.sam\n",
      "c1.genes.bam.csi  t1.genes.bam\t    t1.unmapped.fq    t2.summary\n",
      "c1.genes.sam\t  t1.genes.bam.csi  t2.genes.bam      t2.unmapped.fq\n",
      "c1.summary\t  t1.genes.sam\t    t2.genes.bam.csi\n"
     ]
    }
   ],
   "source": [
    "! ls {out_path}"
   ]
  },
  {
   "cell_type": "markdown",
   "id": "dd222f8b-c131-4a5a-b865-d59c1c5879e7",
   "metadata": {},
   "source": [
    "## Step: Map_genome"
   ]
  },
  {
   "cell_type": "markdown",
   "id": "aa201443-78ec-4c4b-8e68-83f01a3b01f3",
   "metadata": {},
   "source": [
    "#### Align Samples to Genome with Hisat-3n"
   ]
  },
  {
   "cell_type": "code",
   "execution_count": 53,
   "id": "80a6c377-5017-4865-aac4-eacc555b7345",
   "metadata": {},
   "outputs": [
    {
     "name": "stdout",
     "output_type": "stream",
     "text": [
      ">>> {map_genes} 00:16:30_03-05-2024\n",
      ">>> {map_genome} 00:16:30_03-05-2024\n"
     ]
    }
   ],
   "source": [
    "in_path = mkpath(\"map_genes\")\n",
    "out_path = mkpath(\"map_genome\")"
   ]
  },
  {
   "cell_type": "markdown",
   "id": "7fba7ae0-92e6-4435-a5f9-bf6610ba7101",
   "metadata": {},
   "source": [
    "#### hisat-3n"
   ]
  },
  {
   "cell_type": "markdown",
   "id": "41f584e2-8878-4cf9-91c9-49514d1a8ae7",
   "metadata": {},
   "source": [
    "http://daehwankimlab.github.io/hisat2/hisat-3n/"
   ]
  },
  {
   "cell_type": "code",
   "execution_count": 299,
   "id": "98b74e19-5d09-491f-b605-8461a0b95ac4",
   "metadata": {
    "scrolled": true
   },
   "outputs": [],
   "source": [
    "#!hisat-3n --help"
   ]
  },
  {
   "cell_type": "markdown",
   "id": "e1833004-ab6e-43a1-93d9-ae7ce2b17aa3",
   "metadata": {
    "scrolled": true
   },
   "source": [
    "```\n",
    "hisat3n --index {params.index}\n",
    "        -p {threads}\n",
    "        --summary-file {output.summary}\n",
    "        --new-summary\n",
    "        -q\n",
    "        -U {input}\n",
    "        --directional-mapping\n",
    "        --base-change C,T\n",
    "        --pen-noncansplice 20\n",
    "        --mp 4,1\n",
    "        --un {output.fq}\n",
    "        -S {output.sam}\n",
    "```"
   ]
  },
  {
   "cell_type": "markdown",
   "id": "12ef71a2-1e8b-4c06-9953-bad3b25b49e0",
   "metadata": {},
   "source": [
    "##### paramaters:\n",
    "- --index {params.index}, Index filename prefix (minus trailing .X.ht2) \n",
    "- -p {nc}, number of threads\n",
    "- --summary-file, print alignment summary to this file.\n",
    "- --new-summary, print alignment summary in a new style, which is more machine-friendly.\n",
    "- -q, query input files are FASTQ .fq/.fastq (default)\n",
    "- -U {input}, \n",
    "- --directional-mapping, make directional mapping, please use this option only if your reads are prepared with a strand specific library (off)\n",
    "- --base-change C,T,  the converted nucleotide and converted to nucleotide (C,T)\n",
    "- --pen-noncansplice 20, penalty for a non-canonical splice site (12)\n",
    "- --mp 4,1,  max and min penalties for mismatch; lower qual = lower penalty <6,2>\n",
    "- --un {output.fq}, write unpaired reads that didn't align to <path> \n",
    "- -S {output.sam}, File for SAM output (default: stdout)"
   ]
  },
  {
   "cell_type": "code",
   "execution_count": 51,
   "id": "5cdd8492-fa94-4434-9881-9231dba08130",
   "metadata": {},
   "outputs": [
    {
     "name": "stdout",
     "output_type": "stream",
     "text": [
      "HISAT2 summary stats:\n",
      "\tTotal reads: 869716\n",
      "\t\tAligned 0 time: 73714 (8.48%)\n",
      "\t\tAligned 1 time: 651997 (74.97%)\n",
      "\t\tAligned >1 times: 144005 (16.56%)\n",
      "\tOverall alignment rate: 91.52%\n",
      "HISAT2 summary stats:\n",
      "\tTotal reads: 1268982\n",
      "\t\tAligned 0 time: 122558 (9.66%)\n",
      "\t\tAligned 1 time: 920572 (72.54%)\n",
      "\t\tAligned >1 times: 225852 (17.80%)\n",
      "\tOverall alignment rate: 90.34%\n",
      "HISAT2 summary stats:\n",
      "\tTotal reads: 1101752\n",
      "\t\tAligned 0 time: 103501 (9.39%)\n",
      "\t\tAligned 1 time: 805919 (73.15%)\n",
      "\t\tAligned >1 times: 192332 (17.46%)\n",
      "\tOverall alignment rate: 90.61%\n"
     ]
    }
   ],
   "source": [
    "for sample in samples:\n",
    "    !hisat-3n --index {genome_idx}\\\n",
    "        -p {nc}\\\n",
    "        --summary-file {fname(out_path,sample,\"summary\")}\\\n",
    "        --new-summary\\\n",
    "        -q\\\n",
    "        -U {fname(in_path,sample,'unmapped.fq')}\\\n",
    "        --directional-mapping\\\n",
    "        --base-change C,T\\\n",
    "        --pen-noncansplice 20\\\n",
    "        --mp 4,1\\\n",
    "        --un {fname(out_path,sample,'unmapped.fq')}\\\n",
    "        -S {fname(out_path,sample,'genome.sam')}"
   ]
  },
  {
   "cell_type": "markdown",
   "id": "26e804a7-b1c4-429f-bd6a-dce6f5842ab3",
   "metadata": {},
   "source": [
    "#### Sort and Index"
   ]
  },
  {
   "cell_type": "code",
   "execution_count": 57,
   "id": "8e88f32b-f266-43cc-88e9-98179c60a071",
   "metadata": {},
   "outputs": [
    {
     "name": "stdout",
     "output_type": "stream",
     "text": [
      "[bam_sort_core] merging from 0 files and 32 in-memory blocks...\n",
      "[bam_sort_core] merging from 0 files and 32 in-memory blocks...\n",
      "[bam_sort_core] merging from 0 files and 32 in-memory blocks...\n"
     ]
    }
   ],
   "source": [
    "for sample in samples:\n",
    "    ! samtools view -@ {nc} -F4 -b {fname(out_path, sample,'genome.sam')}  | \\\n",
    "      samtools sort -@ {nc} --write-index -O BAM -o {fname(out_path,sample,'genome.bam')} - \n",
    "    !rm {fname(out_path, sample,'genome.sam')}"
   ]
  },
  {
   "cell_type": "markdown",
   "id": "211047f3-5203-4e21-b259-7746b03a936b",
   "metadata": {},
   "source": [
    "#### Analysis"
   ]
  },
  {
   "cell_type": "code",
   "execution_count": 58,
   "id": "1140e2ed-32b3-42f7-a115-5e6cb3175653",
   "metadata": {},
   "outputs": [
    {
     "name": "stdout",
     "output_type": "stream",
     "text": [
      "total 252M\n",
      "-rw-rw-r-- 1 cdaniels cdaniels  71M Mar  5 00:20 c1.genome.bam\n",
      "-rw-rw-r-- 1 cdaniels cdaniels 668K Mar  5 00:20 c1.genome.bam.csi\n",
      "-rw-rw-r-- 1 cdaniels cdaniels  179 Mar  5 00:15 c1.summary\n",
      "-rw-rw-r-- 1 cdaniels cdaniels  15M Mar  5 00:15 c1.unmapped.fq\n",
      "-rw-rw-r-- 1 cdaniels cdaniels  57M Mar  5 00:20 t1.genome.bam\n",
      "-rw-rw-r-- 1 cdaniels cdaniels 565K Mar  5 00:20 t1.genome.bam.csi\n",
      "-rw-rw-r-- 1 cdaniels cdaniels  177 Mar  5 00:15 t1.summary\n",
      "-rw-rw-r-- 1 cdaniels cdaniels  11M Mar  5 00:15 t1.unmapped.fq\n",
      "-rw-rw-r-- 1 cdaniels cdaniels  81M Mar  5 00:20 t2.genome.bam\n",
      "-rw-rw-r-- 1 cdaniels cdaniels 705K Mar  5 00:20 t2.genome.bam.csi\n",
      "-rw-rw-r-- 1 cdaniels cdaniels  179 Mar  5 00:15 t2.summary\n",
      "-rw-rw-r-- 1 cdaniels cdaniels  17M Mar  5 00:15 t2.unmapped.fq\n"
     ]
    }
   ],
   "source": [
    "! ls -lh {out_path}"
   ]
  },
  {
   "cell_type": "markdown",
   "id": "13d1f401-bb09-4e0a-8bfa-c6f4a36c23f7",
   "metadata": {},
   "source": [
    "Flags:\n",
    "- 0: Aligned to Positive Strand\n",
    "- 4: Unaligned\n",
    "- 16: Aligned to Negative Strand"
   ]
  },
  {
   "cell_type": "code",
   "execution_count": 59,
   "id": "5ab989d2-949f-4351-a350-c437af74b335",
   "metadata": {},
   "outputs": [
    {
     "name": "stdout",
     "output_type": "stream",
     "text": [
      "SRR23538290.44462551_ATGGTAATAC\t272\t1\t14476\t1\t40M\t*\t0\t0\tTAAATAAAACCATCCCCCCATAAAACACAAACAAACAAAA\tFFFFFFFFFFFFFFFFFFFFFFFFFFFFFFFFFFFFFFFF\tAS:i:0\tNH:i:7\tXM:i:0\tNM:i:0\tMD:Z:1G0G0G1G0G1G2G9G0G1G4G0G2G3G2\tYZ:A:-\tYf:i:14\tZf:i:0\tZS:i:0\tXN:i:0\tXO:i:0\tXG:i:0\n",
      "SRR23538290.9905044_CATCTCAATC\t272\t1\t14559\t1\t47M\t*\t0\t0\tTTAAGACTAATCTCCACACAATACTAATTCCATCACCCCCACCCAAA\tFFFFFFFFFFFFFFFFFFFFFFFFFFFFFFFFFFFFFFFFFFFFFFF\tAS:i:-7\tNH:i:8\tXM:i:2\tNM:i:2\tMD:Z:2G1A0G2G0G10G1G2G0G4G8T5G0\tYZ:A:-\tYf:i:10\tZf:i:0\tZS:i:-3\tXN:i:0\tXO:i:0\tXG:i:0\n",
      "SRR23538290.59163149_CCCTGGAATT\t272\t1\t14574\t1\t56M\t*\t0\t0\tACACAATACTAATTCCATCACCCCCTCCCAAAAAAATAAATCTAAACAGCTTATCC\tFFFFFFFFFFF,FFFFFFFFFFFFFFFFFFFFFFFFFFFFFFFFFFFFFFFFFFFF\tAS:i:0\tNH:i:3\tXM:i:0\tNM:i:0\tMD:Z:5G1G2G0G4G14G0G2G2G0G3G1G6G3\tYZ:A:-\tYf:i:13\tZf:i:1\tZS:i:0\tXN:i:0\tXO:i:0\tXG:i:0\n",
      "SRR23538290.24390492_TTTATACAAC\t272\t1\t14619\t1\t47M\t*\t0\t0\tACAACTTATCCTAACTATATCCATATCAAAACAACAACCCAAATCTA\tFFF,FFFFFFFFFFFFFFFFFFFFFFFFFFFFFFFFFFFFFFFF:FF\tAS:i:0\tNH:i:8\tXM:i:0\tNM:i:0\tMD:Z:0G2G3G4G0G2G1G5G3G1G4G0G5G3G0\tYZ:A:-\tYf:i:14\tZf:i:0\tZS:i:0\tXN:i:0\tXO:i:0\tXG:i:0\n",
      "samtools view: writing to standard output failed: Broken pipe\n",
      "samtools view: error reading file \"map_genome/t1.genome.bam\": Broken pipe\n",
      "samtools view: error closing standard output: -1\n"
     ]
    }
   ],
   "source": [
    "! samtools view {out_path}/t1.genome.bam |head -4"
   ]
  },
  {
   "cell_type": "markdown",
   "id": "74ad4df6-1fa1-43dc-8302-859affe0690f",
   "metadata": {},
   "source": [
    "## Step: dedup"
   ]
  },
  {
   "cell_type": "markdown",
   "id": "ad8d9bf1-95a8-4198-988c-4cc83db22bad",
   "metadata": {},
   "source": [
    "#### Remove Dulpicate Reads"
   ]
  },
  {
   "cell_type": "code",
   "execution_count": 60,
   "id": "4d6761e7-18a1-48a7-a9a7-17e32f5eec65",
   "metadata": {},
   "outputs": [
    {
     "name": "stdout",
     "output_type": "stream",
     "text": [
      ">>> {map_genome} 00:23:10_03-05-2024\n",
      ">>> {dedup} 00:23:10_03-05-2024\n"
     ]
    }
   ],
   "source": [
    "in_path = mkpath(\"map_genome\")\n",
    "out_path = mkpath(\"dedup\")"
   ]
  },
  {
   "cell_type": "markdown",
   "id": "e58c2685-80da-428c-bdfc-9447ebfc73fe",
   "metadata": {},
   "source": [
    "#### umicollapse"
   ]
  },
  {
   "cell_type": "markdown",
   "id": "9d0f9db8-aaf5-4ee2-9c4f-97e79da12a0a",
   "metadata": {},
   "source": [
    "https://github.com/Daniel-Liu-c0deb0t/UMICollapse"
   ]
  },
  {
   "cell_type": "markdown",
   "id": "e09e2177-b96c-495b-b56c-c1b4689f0634",
   "metadata": {},
   "source": [
    "##### paramaters:\n",
    "```\n",
    "umicollapse bam, use a bam file\n",
    "    --two-pass, use a separate two-pass algorithm for SAM/BAM deduplication.\n",
    "    -i {input.bam}, indexed input bam file\n",
    "    -o {output.bam}, output bam file\n",
    "      > {output.log}\n",
    "```"
   ]
  },
  {
   "cell_type": "code",
   "execution_count": 62,
   "id": "1af0f53c-3277-4745-8a64-63283360815c",
   "metadata": {},
   "outputs": [
    {
     "name": "stdout",
     "output_type": "stream",
     "text": [
      "Picked up _JAVA_OPTIONS: -Xmx8g\n",
      "INFO\t2024-03-05 00:24:36\tSortingCollection\tCreating merging iterator from 3 files\n",
      "Picked up _JAVA_OPTIONS: -Xmx8g\n",
      "INFO\t2024-03-05 00:24:48\tSortingCollection\tCreating merging iterator from 4 files\n",
      "Picked up _JAVA_OPTIONS: -Xmx8g\n",
      "INFO\t2024-03-05 00:25:01\tSortingCollection\tCreating merging iterator from 4 files\n"
     ]
    }
   ],
   "source": [
    "for sample in samples:\n",
    "    !umicollapse bam  \\\n",
    "    --two-pass \\\n",
    "    -i {fname(in_path,sample,'genome.bam')} \\\n",
    "    -o {fname(out_path,sample,'bam')}\\\n",
    "    >  {fname(out_path,sample,'log')}"
   ]
  },
  {
   "cell_type": "markdown",
   "id": "c907e18a-1149-4262-987c-6bde50e586da",
   "metadata": {},
   "source": [
    "Index reads to use with IGV"
   ]
  },
  {
   "cell_type": "code",
   "execution_count": 63,
   "id": "3d489302-6fd5-4c23-b7a2-b12bbc3582ef",
   "metadata": {},
   "outputs": [],
   "source": [
    "for sample in samples:\n",
    "    ! samtools index -@ {nc} -c {fname(out_path,sample,'bam')}"
   ]
  },
  {
   "cell_type": "markdown",
   "id": "1f6fe90e-c8b6-49c6-b21c-e0a0409f37de",
   "metadata": {},
   "source": [
    "#### Analysis"
   ]
  },
  {
   "cell_type": "code",
   "execution_count": 64,
   "id": "a52dc069-dd33-4659-9d68-6824b311f096",
   "metadata": {},
   "outputs": [
    {
     "name": "stdout",
     "output_type": "stream",
     "text": [
      "total 216M\n",
      "-rw-rw-r-- 1 cdaniels cdaniels  73M Mar  5 00:25 c1.bam\n",
      "-rw-rw-r-- 1 cdaniels cdaniels 668K Mar  5 00:25 c1.bam.csi\n",
      "-rw-rw-r-- 1 cdaniels cdaniels  450 Mar  5 00:25 c1.log\n",
      "-rw-rw-r-- 1 cdaniels cdaniels  58M Mar  5 00:24 t1.bam\n",
      "-rw-rw-r-- 1 cdaniels cdaniels 566K Mar  5 00:25 t1.bam.csi\n",
      "-rw-rw-r-- 1 cdaniels cdaniels  448 Mar  5 00:24 t1.log\n",
      "-rw-rw-r-- 1 cdaniels cdaniels  83M Mar  5 00:24 t2.bam\n",
      "-rw-rw-r-- 1 cdaniels cdaniels 705K Mar  5 00:25 t2.bam.csi\n",
      "-rw-rw-r-- 1 cdaniels cdaniels  450 Mar  5 00:24 t2.log\n"
     ]
    }
   ],
   "source": [
    "! ls -lh {out_path}"
   ]
  },
  {
   "cell_type": "code",
   "execution_count": 66,
   "id": "fd112fd3-6634-4648-9a0a-7a44a8efb7cf",
   "metadata": {},
   "outputs": [
    {
     "name": "stdout",
     "output_type": "stream",
     "text": [
      "Arguments\t[bam, --two-pass, -i, map_genome/t1.genome.bam, -o, dedup/t1.bam]\n",
      "Done with the first pass!\n",
      "Number of input reads\t1218571\n",
      "Number of removed unmapped reads\t0\n",
      "Number of unremoved reads\t1218571\n",
      "Number of unique alignment positions\t987193\n",
      "Average number of UMIs per alignment position\t1.2305932072046701\n",
      "Max number of UMIs over all alignment positions\t100\n",
      "Number of reads after deduplicating\t1214301\n",
      "UMI collapsing finished in 9.488 seconds!\n"
     ]
    }
   ],
   "source": [
    "! cat {out_path}/t1.log"
   ]
  },
  {
   "cell_type": "markdown",
   "id": "27f954cc-df3e-4048-ae0e-442526f0b5cf",
   "metadata": {},
   "source": [
    "## Step: Call_converted"
   ]
  },
  {
   "cell_type": "markdown",
   "id": "c45dda76-3ea1-4749-a78e-792080774b53",
   "metadata": {},
   "source": [
    "#### Call Converted bases (Unfiltered)"
   ]
  },
  {
   "cell_type": "code",
   "execution_count": 77,
   "id": "00cab6a3-dba0-42e6-8e9e-8d49894eac70",
   "metadata": {},
   "outputs": [
    {
     "name": "stdout",
     "output_type": "stream",
     "text": [
      ">>> {dedup} 01:19:47_03-05-2024\n",
      ">>> {call_converted} 01:19:47_03-05-2024\n"
     ]
    }
   ],
   "source": [
    "in_path = mkpath(\"dedup\")\n",
    "out_path = mkpath(\"call_converted\")"
   ]
  },
  {
   "cell_type": "markdown",
   "id": "3ac3e272-df75-4b04-85b8-64b7df394d19",
   "metadata": {},
   "source": [
    "#### hisat-3n-table"
   ]
  },
  {
   "cell_type": "markdown",
   "id": "d208fba5-fc27-4274-b416-92b00a6a22da",
   "metadata": {},
   "source": [
    "http://daehwankimlab.github.io/hisat2/hisat-3n/"
   ]
  },
  {
   "cell_type": "markdown",
   "id": "fa8ac256-7407-4efe-9011-3209695d1a87",
   "metadata": {
    "jp-MarkdownHeadingCollapsed": true
   },
   "source": [
    "##### paramaters:\n",
    "```\n",
    "samtools view -e \"rlen<100000\" -h {input} |\n",
    "hisat3ntable\n",
    "    -p {threads}\n",
    "    -u -m --alignments -\n",
    "    --ref {params.fa}\n",
    "    --output-name /dev/stdout\n",
    "    --base-change C,T    |                  \n",
    "    bgzip -@ {threads} -c > {output}\n",
    "```"
   ]
  },
  {
   "cell_type": "markdown",
   "id": "63c8b7da-02f8-4142-94d7-0ec92270be4d",
   "metadata": {},
   "source": [
    "#### Call Converted Bases in Unique Mapped Reads "
   ]
  },
  {
   "cell_type": "code",
   "execution_count": 69,
   "id": "7e03594a-6fb6-4129-a88c-666dddc9ebf0",
   "metadata": {},
   "outputs": [],
   "source": [
    "for sample in samples:\n",
    "    !samtools view -e \"rlen<100000\" -h {fname(in_path,sample,'bam')} |\\\n",
    "    hisat-3n-table\\\n",
    "        -p {nc}\\\n",
    "        -u --alignments -\\\n",
    "        --ref {genome_fa}\\\n",
    "        --output-name /dev/stdout\\\n",
    "        --base-change C,T                          |\\\n",
    "    bgzip \\\n",
    "        -@ {nc} \\\n",
    "        -c > {fname(out_path,sample,'uniq.tsv.gz')}"
   ]
  },
  {
   "cell_type": "markdown",
   "id": "fcc0e85f-ffdd-4342-9aca-0510dcfb7891",
   "metadata": {},
   "source": [
    "#### Call Converted Bases in Multiple Mapped Reads "
   ]
  },
  {
   "cell_type": "code",
   "execution_count": 70,
   "id": "7a707c3c-aa3c-4aef-87c6-d12f16242861",
   "metadata": {},
   "outputs": [],
   "source": [
    "for sample in samples:\n",
    "    !samtools view -e \"rlen<100000\" -h {fname(in_path,sample,'bam')} |\\\n",
    "    hisat-3n-table\\\n",
    "        -p {nc}\\\n",
    "        -m --alignments -\\\n",
    "        --ref {genome_fa}\\\n",
    "        --output-name /dev/stdout\\\n",
    "        --base-change C,T                          |\\\n",
    "    bgzip \\\n",
    "        -@ {nc} \\\n",
    "        -c > {fname(out_path,sample,'multi.tsv.gz')}"
   ]
  },
  {
   "cell_type": "code",
   "execution_count": 78,
   "id": "015ed784-d883-4c44-8a3a-3a24bf380a44",
   "metadata": {},
   "outputs": [
    {
     "name": "stdout",
     "output_type": "stream",
     "text": [
      "total 51M\n",
      "-rw-rw-r-- 1 cdaniels cdaniels 6.8M Mar  5 01:17 c1.multi.tsv.gz\n",
      "-rw-rw-r-- 1 cdaniels cdaniels  11M Mar  5 01:03 c1.uniq.tsv.gz\n",
      "-rw-rw-r-- 1 cdaniels cdaniels 5.3M Mar  5 01:07 t1.multi.tsv.gz\n",
      "-rw-rw-r-- 1 cdaniels cdaniels 9.3M Mar  5 00:50 t1.uniq.tsv.gz\n",
      "-rw-rw-r-- 1 cdaniels cdaniels 7.8M Mar  5 01:12 t2.multi.tsv.gz\n",
      "-rw-rw-r-- 1 cdaniels cdaniels  11M Mar  5 00:57 t2.uniq.tsv.gz\n"
     ]
    }
   ],
   "source": [
    "!ls -lh {out_path}"
   ]
  },
  {
   "cell_type": "markdown",
   "id": "10bb891c-d91f-4e7d-9ffa-1b141ecf8c57",
   "metadata": {},
   "source": [
    "## Step: Call_filtered_converted"
   ]
  },
  {
   "cell_type": "markdown",
   "id": "090b5f03-576d-4c5d-bc5e-2f527e3f8567",
   "metadata": {},
   "source": [
    "#### Call Converted bases Filtered of Clusters"
   ]
  },
  {
   "cell_type": "code",
   "execution_count": 54,
   "id": "0c6dd917-790f-4e8c-9af8-d6c41c0ff26f",
   "metadata": {},
   "outputs": [
    {
     "name": "stdout",
     "output_type": "stream",
     "text": [
      ">>> {dedup} 13:32:03_03-05-2024\n",
      ">>> {call_filtered_converted} 13:32:03_03-05-2024\n"
     ]
    }
   ],
   "source": [
    "in_path = mkpath(\"dedup\")\n",
    "out_path = mkpath(\"call_filtered_converted\")"
   ]
  },
  {
   "cell_type": "markdown",
   "id": "bccce9bd-ad43-4c59-8955-e4aca9c122c0",
   "metadata": {},
   "source": [
    "#### Filter each read to minimize clusters of unconverted C's\n",
    "Clusters of unconverted C's are a source of bias. These clusters are filtered out here."
   ]
  },
  {
   "cell_type": "markdown",
   "id": "065091b4-1c3f-426e-a7f7-67a1c18fecda",
   "metadata": {},
   "source": [
    "```\n",
    " samtools view -@ {threads}\n",
    "    -e \"[XM] * 20 <= (qlen-sclen) && [Zf] <= 3 && 3 * [Zf] <= [Zf] + [Yf]\"\n",
    "     {input.bam} -O BAM -o {output.converted}\n",
    "``` "
   ]
  },
  {
   "cell_type": "markdown",
   "id": "bff389c2-35d4-48a2-8697-ea5a0b427777",
   "metadata": {},
   "source": [
    "- qlen is the length of the read\n",
    "- sclen is the soft-clipped (not aligned) by the aligner\n",
    "- [XM] is the number of mismatches in the alignment\n",
    "- [Zf] is the number of un-converted bases in the read.\n",
    "- [Yf] is the number of converted bases in the read\n",
    "- [YZ] indicates alignment to the (+/-) strand"
   ]
  },
  {
   "cell_type": "code",
   "execution_count": 91,
   "id": "6b9021d0-424e-4d2e-a241-387fa8d1aa76",
   "metadata": {},
   "outputs": [],
   "source": [
    "for sample in samples:\n",
    "    ! samtools view -@ {nc} -e '[XM] * 20 <= (qlen-sclen) && [Zf] <= 3 && 3 * [Zf] <= [Zf] + [Yf]' \\\n",
    "    {fname(in_path,sample,'bam')} -O BAM -o {fname(out_path,sample,'filtered.bam')}"
   ]
  },
  {
   "cell_type": "markdown",
   "id": "3849f952-05a5-46a4-b146-df3886b6678d",
   "metadata": {},
   "source": [
    "#### Call Filtered Unique Mapped Reads "
   ]
  },
  {
   "cell_type": "code",
   "execution_count": null,
   "id": "f919b940-d0f9-457f-aabe-b0e0be3ae06a",
   "metadata": {},
   "outputs": [],
   "source": [
    "for sample in samples:\n",
    "    !samtools view -e \"rlen<100000\" -h {fname(out_path,sample,'filtered.bam')} |\\\n",
    "    hisat-3n-table\\\n",
    "        -p {nc}\\\n",
    "        -u --alignments -\\\n",
    "        --ref {genome_fa}\\\n",
    "        --output-name /dev/stdout\\\n",
    "        --base-change C,T                          |\\\n",
    "    bgzip \\\n",
    "        -@ {nc} \\\n",
    "        -c > {fname(out_path,sample,'filtered.uniq.tsv.gz')}"
   ]
  },
  {
   "cell_type": "markdown",
   "id": "2f322f53-ab7e-4e8b-ac53-e05ae96002d4",
   "metadata": {},
   "source": [
    "#### Call Filtered Multiple Mapped Reads "
   ]
  },
  {
   "cell_type": "code",
   "execution_count": null,
   "id": "a92caff8-e798-41a7-ae34-3393e02dad90",
   "metadata": {},
   "outputs": [],
   "source": [
    "for sample in samples:\n",
    "    !samtools view -e \"rlen<100000\" -h {fname(out_path,sample,'filtered.bam')} |\\\n",
    "    hisat-3n-table\\\n",
    "        -p {nc}\\\n",
    "        -m --alignments -\\\n",
    "        --ref {genome_fa}\\\n",
    "        --output-name /dev/stdout\\\n",
    "        --base-change C,T                          |\\\n",
    "    bgzip \\\n",
    "        -@ {nc} \\\n",
    "        -c > {fname(out_path,sample,'filtered.multi.tsv.gz')}"
   ]
  },
  {
   "cell_type": "markdown",
   "id": "bab28bf7-d45c-4107-8cc6-deda26240337",
   "metadata": {},
   "source": [
    "#### Analysis"
   ]
  },
  {
   "cell_type": "code",
   "execution_count": 25,
   "id": "97dff772-a471-4f81-be4a-d36d362c242b",
   "metadata": {},
   "outputs": [
    {
     "name": "stdout",
     "output_type": "stream",
     "text": [
      "total 257M\n",
      "-rw-rw-r-- 1 cdaniels cdaniels  71M Mar  5 01:30 c1.filtered.bam\n",
      "-rw-rw-r-- 1 cdaniels cdaniels 6.8M Mar  5 02:11 c1.filtered.multi.tsv.gz\n",
      "-rw-rw-r-- 1 cdaniels cdaniels  11M Mar  5 01:57 c1.filtered.uniq.tsv.gz\n",
      "-rw-rw-r-- 1 cdaniels cdaniels  56M Mar  5 01:30 t1.filtered.bam\n",
      "-rw-rw-r-- 1 cdaniels cdaniels 5.3M Mar  5 02:01 t1.filtered.multi.tsv.gz\n",
      "-rw-rw-r-- 1 cdaniels cdaniels 9.2M Mar  5 01:45 t1.filtered.uniq.tsv.gz\n",
      "-rw-rw-r-- 1 cdaniels cdaniels  80M Mar  5 01:30 t2.filtered.bam\n",
      "-rw-rw-r-- 1 cdaniels cdaniels 7.7M Mar  5 02:07 t2.filtered.multi.tsv.gz\n",
      "-rw-rw-r-- 1 cdaniels cdaniels  11M Mar  5 01:51 t2.filtered.uniq.tsv.gz\n"
     ]
    }
   ],
   "source": [
    "! ls -lh {out_path}"
   ]
  },
  {
   "cell_type": "code",
   "execution_count": 34,
   "id": "d85c2597-99cb-4297-a05a-560482cf89a9",
   "metadata": {},
   "outputs": [
    {
     "name": "stdout",
     "output_type": "stream",
     "text": [
      "ref\tpos\tstrand\tconvertedBaseQualities\tconvertedBaseCount\tunconvertedBaseQualities\tunconvertedBaseCount\n",
      "1\t592234\t+\tF\t1\t\t0\n",
      "1\t592238\t+\tF\t1\t\t0\n",
      "1\t592239\t+\tF\t1\t\t0\n",
      "1\t592241\t+\tF\t1\t\t0\n",
      "1\t592242\t+\tF\t1\t\t0\n",
      "1\t626659\t-\t:\t1\t\t0\n",
      "1\t626662\t-\t:\t1\t\t0\n",
      "1\t626663\t-\tF\t1\t\t0\n",
      "1\t629578\t-\tF\t1\t\t0\n",
      "\n",
      "gzip: stdout: Broken pipe\n"
     ]
    }
   ],
   "source": [
    "! zcat {out_path}/t1.filtered.uniq.tsv.gz |head "
   ]
  },
  {
   "cell_type": "markdown",
   "id": "fecf1a0d-ba38-46d3-b87a-045e8c4ccf4f",
   "metadata": {},
   "source": [
    "There are 7 columns in the 3N-conversion-table:\n",
    "\n",
    "1. `ref:` the chromosome name.\n",
    "2. `pos:` 1-based position in ref.\n",
    "3. `strand:` ‘+’ for forward strand. ‘-‘ for reverse strand.\n",
    "4. `convertedBaseQualities:` the qualities for converted base in read-level measurement. Length of this string is equal to the number of converted Base in read-level measurement.\n",
    "5. `convertedBaseCount:` number of distinct read positions where converted base in read-level measurements were found. this number should equal to the length of convertedBaseQualities.\n",
    "6. `unconvertedBaseQualities:` the qualities for unconverted base in read-level measurement. Length of this string is equal to the number of unconverted Base in read-level measurement.\n",
    "7. `unconvertedBaseCount:` number of distinct read positions where unconverted base in read-level measurements were found. this number should equal to the length of unconvertedBaseQualities."
   ]
  },
  {
   "cell_type": "markdown",
   "id": "22d4b97c-7c8e-4198-a08e-6c8522c1690d",
   "metadata": {},
   "source": [
    "Used IGV to look at reads in `t1.tsv.gz`:\n",
    "- Needed to adjust preferences to show all reads\n",
    "- Exactly the first 10,000 nt are all N\n",
    "- The first read was aligned with a C at 10,358\n",
    "- There were 9 C's, all in the positions shown above"
   ]
  },
  {
   "cell_type": "markdown",
   "id": "a5bc146e-6e58-4156-842a-204fad3b13aa",
   "metadata": {},
   "source": [
    "Accordingly, this file appears to include all C's in the genome aligned to at least one read."
   ]
  },
  {
   "cell_type": "markdown",
   "id": "d98521e8-cba8-43cc-90fe-1d8555132ea6",
   "metadata": {},
   "source": [
    "How many C's are in genome?"
   ]
  },
  {
   "cell_type": "code",
   "execution_count": 37,
   "id": "c7251644-8a78-4f2f-8f61-423f6e85670d",
   "metadata": {},
   "outputs": [
    {
     "data": {
      "text/plain": [
       "601243172"
      ]
     },
     "execution_count": 37,
     "metadata": {},
     "output_type": "execute_result"
    }
   ],
   "source": [
    "# Need speed up with parallel\n",
    "C_total = !cat {genome_fa} | parallel --pipe grep -o 'C' | wc -l\n",
    "C_total = int(C_total[0])\n",
    "C_total"
   ]
  },
  {
   "cell_type": "markdown",
   "id": "5ab2d369-545f-406a-bea8-d115d735b2bd",
   "metadata": {},
   "source": [
    "How many C's in genome are covered by at multiple reads?"
   ]
  },
  {
   "cell_type": "code",
   "execution_count": 55,
   "id": "c171e706-a27f-40d2-b4e7-1d276fd9dcd0",
   "metadata": {},
   "outputs": [
    {
     "data": {
      "text/plain": [
       "[1840390, 2682745, 2352895]"
      ]
     },
     "execution_count": 55,
     "metadata": {},
     "output_type": "execute_result"
    }
   ],
   "source": [
    "C_covered = []\n",
    "for sample in samples:\n",
    "    covered = !zcat {fname(out_path, sample, 'filtered.multi.tsv.gz')} | wc -l\n",
    "    covered = int(covered[0])\n",
    "    C_covered.append(covered)\n",
    "C_covered"
   ]
  },
  {
   "cell_type": "markdown",
   "id": "d4115560-476a-447f-a6f7-32bb5f438d2b",
   "metadata": {},
   "source": [
    "#### What is the background of Unconverted C based upon Average ratios of Unconverted to Covered C's?\n",
    "- Remove: Depth < 10\n",
    "- Remove: nuc/(nuc + nc) > 0.20"
   ]
  },
  {
   "cell_type": "code",
   "execution_count": 71,
   "id": "d2ade7ef-62a1-4bf9-aff6-c3174cff15f6",
   "metadata": {},
   "outputs": [
    {
     "data": {
      "text/plain": [
       "[0.0028, 0.0028, 0.0028]"
      ]
     },
     "execution_count": 71,
     "metadata": {},
     "output_type": "execute_result"
    }
   ],
   "source": [
    "nc, nuc = 'convertedBaseCount', 'unconvertedBaseCount'\n",
    "C_back = []\n",
    "for sample in samples:\n",
    "    df = pd.read_csv(fname(out_path, sample,'filtered.multi.tsv.gz'), sep='\\t', compression='gzip', low_memory=False, dtype={4: int, 6: int })\n",
    "    df = df[~df['ref'].str.startswith(('G', 'K'))]                    # Remove: Non chromosomal refs\n",
    "    df = df[(df[nc] + df[nuc]) > 10]                                  # Remove: Depth < 10\n",
    "    df = df[df[nuc]/(df[nuc] + df[nc]) < 0.2]  \t                      # Remove: nuc/(nuc + nc) > 0.20\n",
    "    bg = round(np.mean(df[nuc]/(df[nuc] + df[nc])),4)\n",
    "    C_back.append(bg)\n",
    "C_back"
   ]
  },
  {
   "cell_type": "markdown",
   "id": "da47539c-a032-4454-ba4c-1179ec1729d1",
   "metadata": {},
   "source": [
    "What is the background based upon Total Uncoverted to Total Covered C's"
   ]
  },
  {
   "cell_type": "code",
   "execution_count": 53,
   "id": "a412a572-86b0-4519-b2c2-03b02018636a",
   "metadata": {},
   "outputs": [
    {
     "data": {
      "text/plain": [
       "0.0028"
      ]
     },
     "execution_count": 53,
     "metadata": {},
     "output_type": "execute_result"
    }
   ],
   "source": [
    "round(sum(df[nuc])/(sum(df[nuc]) + sum(df[nc])),4)"
   ]
  },
  {
   "cell_type": "markdown",
   "id": "59afc8ee-d078-4473-8558-fa43c3211e45",
   "metadata": {},
   "source": [
    "## Step: Filter_calls"
   ]
  },
  {
   "cell_type": "markdown",
   "id": "087337ac-6dcb-49f7-b1ad-c5c49aa530bd",
   "metadata": {},
   "source": [
    "#### Filter and Clean Up Calls"
   ]
  },
  {
   "cell_type": "code",
   "execution_count": 215,
   "id": "17578c58-44ed-42db-856c-8d61fb0db02b",
   "metadata": {},
   "outputs": [
    {
     "name": "stdout",
     "output_type": "stream",
     "text": [
      ">>> {hisat3n_call} 14:05:42_03-03-2024\n",
      ">>> {filter_calls} 14:05:42_03-03-2024\n"
     ]
    }
   ],
   "source": [
    "in_path = mkpath(\"hisat3n_call\")\n",
    "out_path = mkpath(\"filter_calls\")"
   ]
  },
  {
   "cell_type": "markdown",
   "id": "97b82fef-6ed4-40fc-afeb-145f9b379564",
   "metadata": {},
   "source": [
    "Filter each row to keep: Only Chromosomal, Depth of at least 20, and Unconverted (Methylated) of {1,2,3}"
   ]
  },
  {
   "cell_type": "code",
   "execution_count": 216,
   "id": "1a2fc162-6fb5-4f0e-b820-be9553a969bc",
   "metadata": {},
   "outputs": [],
   "source": [
    "nc, nuc = 'convertedBaseCount', 'unconvertedBaseCount'\n",
    "for sample in samples:\n",
    "    df = pd.read_csv(fname(in_path, sample,'tsv.gz'), sep='\\t', compression='gzip', low_memory=False, dtype={4: int, 6: int })\n",
    "    df = df[~df['ref'].str.startswith(('G', 'K'))]                    # Remove: Non chromosomal refs\n",
    "    df = df[(df[nc] + df[nuc] > 20) & (df[nuc] < 4) & (3 * df[nuc] < (df[nuc] + df[nc]))] # Remove: Depth < 20 \n",
    "    df.to_csv(fname(out_path,sample,'called.csv'), index=False)       # Remove: 0 < Unconverted < 4"
   ]
  },
  {
   "cell_type": "markdown",
   "id": "355a355b-68e6-43d3-9f54-9d48b360b6b7",
   "metadata": {},
   "source": [
    "#### Analysis"
   ]
  },
  {
   "cell_type": "code",
   "execution_count": 217,
   "id": "68102dfb-f22c-46bb-a5cf-509433f30e90",
   "metadata": {},
   "outputs": [
    {
     "name": "stdout",
     "output_type": "stream",
     "text": [
      "total 18M\n",
      "-rw-rw-r-- 1 cdaniels cdaniels 5.9M Mar  3 14:05 c1.called.csv\n",
      "-rw-rw-r-- 1 cdaniels cdaniels 4.7M Mar  3 14:05 t1.called.csv\n",
      "-rw-rw-r-- 1 cdaniels cdaniels 6.9M Mar  3 14:05 t2.called.csv\n"
     ]
    }
   ],
   "source": [
    "!ls -lh {out_path}"
   ]
  },
  {
   "cell_type": "markdown",
   "id": "ff0842d4-821b-4f14-b5ef-9352252f4e97",
   "metadata": {},
   "source": [
    "##### Assumption: What fraction of ref sites have a depth of coverage of at least 20 and Unconverted C of {1,2,3]"
   ]
  },
  {
   "cell_type": "code",
   "execution_count": 218,
   "id": "dc0ca08d-84a0-4bb9-ad77-55899f58b341",
   "metadata": {},
   "outputs": [
    {
     "data": {
      "text/plain": [
       "[61894, 84327, 74951]"
      ]
     },
     "execution_count": 218,
     "metadata": {},
     "output_type": "execute_result"
    }
   ],
   "source": [
    "C_me = []\n",
    "for sample in samples:\n",
    "    me = !cat {fname(out_path, sample, 'called.csv')} | wc -l\n",
    "    me = int(me[0])\n",
    "    C_me.append(me)\n",
    "C_me"
   ]
  },
  {
   "cell_type": "markdown",
   "id": "6ee92c4e-1743-4176-9efa-0551c31f5fb3",
   "metadata": {},
   "source": [
    "The ratio of 5mC (as defined) to all covered C's in genmome is:"
   ]
  },
  {
   "cell_type": "code",
   "execution_count": 219,
   "id": "ac71995a-2039-4aa4-b430-b6d9c7ec605b",
   "metadata": {},
   "outputs": [
    {
     "data": {
      "text/plain": [
       "array([0.0324, 0.0302, 0.0305])"
      ]
     },
     "execution_count": 219,
     "metadata": {},
     "output_type": "execute_result"
    }
   ],
   "source": [
    "np.round(np.array(C_me)/np.array(C_covered),4)"
   ]
  },
  {
   "cell_type": "markdown",
   "id": "0a2ea1a6-6be8-4aa8-b4a2-ccde222d91bf",
   "metadata": {},
   "source": [
    "What is the distribution of Unconverted C's by postion in each sample? (These distributions look similiar for all samples)"
   ]
  },
  {
   "cell_type": "code",
   "execution_count": 220,
   "id": "38c9a5a3-c99c-498e-aaa2-1a6abd3d4658",
   "metadata": {},
   "outputs": [
    {
     "data": {
      "text/plain": [
       "{0: 63587, 1: 16135, 2: 3696, 3: 908}"
      ]
     },
     "execution_count": 220,
     "metadata": {},
     "output_type": "execute_result"
    }
   ],
   "source": [
    "df = pd.read_csv(fname(out_path,'t2','called.csv'), low_memory=False)\n",
    "ds = df['unconvertedBaseCount'].values\n",
    "{v: n for v,n in zip(*np.unique(ds, return_counts=True))}"
   ]
  },
  {
   "cell_type": "code",
   "execution_count": 221,
   "id": "7a60fe0c-54c4-4634-bde7-7388b5aaab54",
   "metadata": {},
   "outputs": [
    {
     "data": {
      "text/html": [
       "<div>\n",
       "<style scoped>\n",
       "    .dataframe tbody tr th:only-of-type {\n",
       "        vertical-align: middle;\n",
       "    }\n",
       "\n",
       "    .dataframe tbody tr th {\n",
       "        vertical-align: top;\n",
       "    }\n",
       "\n",
       "    .dataframe thead th {\n",
       "        text-align: right;\n",
       "    }\n",
       "</style>\n",
       "<table border=\"1\" class=\"dataframe\">\n",
       "  <thead>\n",
       "    <tr style=\"text-align: right;\">\n",
       "      <th></th>\n",
       "      <th>ref</th>\n",
       "      <th>pos</th>\n",
       "      <th>strand</th>\n",
       "      <th>convertedBaseQualities</th>\n",
       "      <th>convertedBaseCount</th>\n",
       "      <th>unconvertedBaseQualities</th>\n",
       "      <th>unconvertedBaseCount</th>\n",
       "    </tr>\n",
       "  </thead>\n",
       "  <tbody>\n",
       "    <tr>\n",
       "      <th>0</th>\n",
       "      <td>1</td>\n",
       "      <td>258949</td>\n",
       "      <td>-</td>\n",
       "      <td>FFFFFFFFFFFFFFFF:FFFFFFFFFFFFF</td>\n",
       "      <td>30</td>\n",
       "      <td>NaN</td>\n",
       "      <td>0</td>\n",
       "    </tr>\n",
       "    <tr>\n",
       "      <th>1</th>\n",
       "      <td>1</td>\n",
       "      <td>258957</td>\n",
       "      <td>-</td>\n",
       "      <td>FFFFFFFFFFFFFFFFFFFFFFFFFFFFF</td>\n",
       "      <td>29</td>\n",
       "      <td>NaN</td>\n",
       "      <td>0</td>\n",
       "    </tr>\n",
       "    <tr>\n",
       "      <th>2</th>\n",
       "      <td>1</td>\n",
       "      <td>258958</td>\n",
       "      <td>-</td>\n",
       "      <td>FFFFFFFFFFFFFFFFFFFFFFFFFFFFF</td>\n",
       "      <td>29</td>\n",
       "      <td>NaN</td>\n",
       "      <td>0</td>\n",
       "    </tr>\n",
       "    <tr>\n",
       "      <th>3</th>\n",
       "      <td>1</td>\n",
       "      <td>258966</td>\n",
       "      <td>-</td>\n",
       "      <td>FFFFFFFFFFFFFFFFFFFFFFFFFFFFF</td>\n",
       "      <td>29</td>\n",
       "      <td>NaN</td>\n",
       "      <td>0</td>\n",
       "    </tr>\n",
       "    <tr>\n",
       "      <th>4</th>\n",
       "      <td>1</td>\n",
       "      <td>258967</td>\n",
       "      <td>-</td>\n",
       "      <td>FFFFFFFFFFFFFFFFFFFFFFFFFFF</td>\n",
       "      <td>27</td>\n",
       "      <td>NaN</td>\n",
       "      <td>0</td>\n",
       "    </tr>\n",
       "    <tr>\n",
       "      <th>...</th>\n",
       "      <td>...</td>\n",
       "      <td>...</td>\n",
       "      <td>...</td>\n",
       "      <td>...</td>\n",
       "      <td>...</td>\n",
       "      <td>...</td>\n",
       "      <td>...</td>\n",
       "    </tr>\n",
       "    <tr>\n",
       "      <th>84321</th>\n",
       "      <td>Y</td>\n",
       "      <td>25308027</td>\n",
       "      <td>+</td>\n",
       "      <td>FFFFFFFFFFFFFFFFFFFFFFFFFFFFFFFFFFFFFFFFFFFFF:...</td>\n",
       "      <td>56</td>\n",
       "      <td>FFF</td>\n",
       "      <td>3</td>\n",
       "    </tr>\n",
       "    <tr>\n",
       "      <th>84322</th>\n",
       "      <td>Y</td>\n",
       "      <td>25308032</td>\n",
       "      <td>+</td>\n",
       "      <td>FFFFFFFFFFFFFFFFFFFFFFFFFFFFFFFFFFFFFFFFFFFFFF...</td>\n",
       "      <td>54</td>\n",
       "      <td>FF</td>\n",
       "      <td>2</td>\n",
       "    </tr>\n",
       "    <tr>\n",
       "      <th>84323</th>\n",
       "      <td>Y</td>\n",
       "      <td>25308038</td>\n",
       "      <td>+</td>\n",
       "      <td>FFFFFFFFFFFFFFFFFFFFFFFFFFFFFFFFFFFFFFFFFFFFFF...</td>\n",
       "      <td>50</td>\n",
       "      <td>FF</td>\n",
       "      <td>2</td>\n",
       "    </tr>\n",
       "    <tr>\n",
       "      <th>84324</th>\n",
       "      <td>Y</td>\n",
       "      <td>25308054</td>\n",
       "      <td>+</td>\n",
       "      <td>FFFFFFFFFFFFFFFFFFFFFF</td>\n",
       "      <td>22</td>\n",
       "      <td>F</td>\n",
       "      <td>1</td>\n",
       "    </tr>\n",
       "    <tr>\n",
       "      <th>84325</th>\n",
       "      <td>Y</td>\n",
       "      <td>25308055</td>\n",
       "      <td>+</td>\n",
       "      <td>FFFFFFFFFF:FFFFFFFFFFF</td>\n",
       "      <td>22</td>\n",
       "      <td>NaN</td>\n",
       "      <td>0</td>\n",
       "    </tr>\n",
       "  </tbody>\n",
       "</table>\n",
       "<p>84326 rows × 7 columns</p>\n",
       "</div>"
      ],
      "text/plain": [
       "      ref       pos strand                             convertedBaseQualities  \\\n",
       "0       1    258949      -                     FFFFFFFFFFFFFFFF:FFFFFFFFFFFFF   \n",
       "1       1    258957      -                      FFFFFFFFFFFFFFFFFFFFFFFFFFFFF   \n",
       "2       1    258958      -                      FFFFFFFFFFFFFFFFFFFFFFFFFFFFF   \n",
       "3       1    258966      -                      FFFFFFFFFFFFFFFFFFFFFFFFFFFFF   \n",
       "4       1    258967      -                        FFFFFFFFFFFFFFFFFFFFFFFFFFF   \n",
       "...    ..       ...    ...                                                ...   \n",
       "84321   Y  25308027      +  FFFFFFFFFFFFFFFFFFFFFFFFFFFFFFFFFFFFFFFFFFFFF:...   \n",
       "84322   Y  25308032      +  FFFFFFFFFFFFFFFFFFFFFFFFFFFFFFFFFFFFFFFFFFFFFF...   \n",
       "84323   Y  25308038      +  FFFFFFFFFFFFFFFFFFFFFFFFFFFFFFFFFFFFFFFFFFFFFF...   \n",
       "84324   Y  25308054      +                             FFFFFFFFFFFFFFFFFFFFFF   \n",
       "84325   Y  25308055      +                             FFFFFFFFFF:FFFFFFFFFFF   \n",
       "\n",
       "       convertedBaseCount unconvertedBaseQualities  unconvertedBaseCount  \n",
       "0                      30                      NaN                     0  \n",
       "1                      29                      NaN                     0  \n",
       "2                      29                      NaN                     0  \n",
       "3                      29                      NaN                     0  \n",
       "4                      27                      NaN                     0  \n",
       "...                   ...                      ...                   ...  \n",
       "84321                  56                      FFF                     3  \n",
       "84322                  54                       FF                     2  \n",
       "84323                  50                       FF                     2  \n",
       "84324                  22                        F                     1  \n",
       "84325                  22                      NaN                     0  \n",
       "\n",
       "[84326 rows x 7 columns]"
      ]
     },
     "execution_count": 221,
     "metadata": {},
     "output_type": "execute_result"
    }
   ],
   "source": [
    "df"
   ]
  },
  {
   "cell_type": "code",
   "execution_count": 228,
   "id": "40d72471-35fe-48f7-ad85-081834a1c7dd",
   "metadata": {},
   "outputs": [],
   "source": [
    "sample = 't2'\n",
    "chr = '1'\n",
    "bin_size = 100\n",
    "nc, nuc = 'convertedBaseCount', 'unconvertedBaseCount'\n",
    "\n",
    "df = pd.read_csv(fname(out_path,sample,'called.csv'), low_memory=False)\n",
    "df2 = df[df['ref'] == chr].copy()\n",
    "df2 = df2[df2['pos'] > 200000]\n",
    "df2 = df2[df2['pos'] < 1000000]\n",
    "df2['bin'] = (df2['pos'] / bin_size).apply(np.floor)\n",
    "bin_counts = df2.groupby('bin')[nuc].count()"
   ]
  },
  {
   "cell_type": "code",
   "execution_count": 229,
   "id": "550e83d7-ce31-440c-a119-4a435ff1bae9",
   "metadata": {},
   "outputs": [
    {
     "data": {
      "image/png": "[encoded data removed]",
      "text/plain": [
       "<Figure size 1200x400 with 1 Axes>"
      ]
     },
     "metadata": {},
     "output_type": "display_data"
    }
   ],
   "source": [
    "# Plotting\n",
    "plt.style.use('seaborn-v0_8-darkgrid')  # Example style, replace with your preferred style\n",
    "fig, ax = plt.subplots(figsize=(12, 4))\n",
    "\n",
    "# Assuming bin_counts index is what you want on the x-axis and the values are what you want on the y-axis\n",
    "ax.scatter(bin_counts.index, bin_counts.values, s=3, alpha=0.5, color='green')  # s controls the marker size, alpha controls transparency\n",
    "\n",
    "ax.set_xlabel('Bin')  # Assuming 'Bin' is the appropriate label\n",
    "ax.set_ylabel('Count')\n",
    "ax.set_title('Bin Counts Distribution')\n",
    "\n",
    "plt.show()"
   ]
  },
  {
   "cell_type": "code",
   "execution_count": null,
   "id": "27c82b6d-043c-4498-8abe-43b3cfdd5fff",
   "metadata": {},
   "outputs": [],
   "source": []
  }
 ],
 "metadata": {
  "kernelspec": {
   "display_name": "Python 3 (ipykernel)",
   "language": "python",
   "name": "python3"
  },
  "language_info": {
   "codemirror_mode": {
    "name": "ipython",
    "version": 3
   },
   "file_extension": ".py",
   "mimetype": "text/x-python",
   "name": "python",
   "nbconvert_exporter": "python",
   "pygments_lexer": "ipython3",
   "version": "3.10.13"
  }
 },
 "nbformat": 4,
 "nbformat_minor": 5
}
