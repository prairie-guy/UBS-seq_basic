{
 "cells": [
  {
   "cell_type": "markdown",
   "id": "2048b07b-a46c-4b35-ac4e-9ee57e3a9712",
   "metadata": {},
   "source": [
    "#### Template"
   ]
  },
  {
   "cell_type": "markdown",
   "id": "a7555539-391a-450c-96f0-57b46bdeb902",
   "metadata": {},
   "source": [
    "*This Notebook is part of a Github Repository Template defining a Project File Structure. (See README.md)*"
   ]
  },
  {
   "cell_type": "markdown",
   "id": "ddd69300-170b-46a1-9ad9-d2b836fb74d5",
   "metadata": {},
   "source": [
    "```.\n",
    "├── config.yaml\n",
    "├── data\n",
    "│   └── README_data.md\n",
    "├── environment.yaml\n",
    "├── README.md\n",
    "├── scripts\n",
    "│   ├── clean.sh\n",
    "│   ├── downsample.sh\n",
    "│   ├── generate_reference.sh\n",
    "│   ├── nb2py.sh\n",
    "│   ├── README_scripts.md\n",
    "│   └── run_ubs_seq.sh\n",
    "├── src\n",
    "│   └── README_IGV_WEB.md\n",
    "└── workspace\n",
    "    ├── README_workspace.md\n",
    "    ├── ubs_basic.ipynb\n",
    "    └── ubs_basic.py\n",
    "```"
   ]
  },
  {
   "cell_type": "code",
   "execution_count": 3,
   "id": "b02f60de-c362-4078-beba-82c870de2c78",
   "metadata": {},
   "outputs": [],
   "source": [
    "home_path      = Path.cwd()/'..'\n",
    "data_path      = home_path/'data'\n",
    "workspace_path = home_path/'workspace'"
   ]
  },
  {
   "cell_type": "markdown",
   "id": "1336fe2c",
   "metadata": {},
   "source": [
    "# UBS-seq Pipeline\n",
    "## Basic Workflow"
   ]
  },
  {
   "cell_type": "markdown",
   "id": "f4f9191a",
   "metadata": {},
   "source": [
    "**C. Bryan Daniels**\n",
    "\n",
    "**2/1/2024**"
   ]
  },
  {
   "cell_type": "markdown",
   "id": "1153fdea-42ab-4a16-9376-aae40c035695",
   "metadata": {},
   "source": [
    "## Project: UBS-seq Basic Pipeline"
   ]
  },
  {
   "cell_type": "markdown",
   "id": "e1999833",
   "metadata": {},
   "source": [
    "The purpose of this project is run a minimally viable UBS-seq pipline. For simplicity, it will run several single-end samples, mapping only to the genome. The core steps of the pipeline are:\n",
    "- cut_apapter\n",
    "- quality_control\n",
    "- align2ref\n",
    "- sort2ref\n",
    "- dedupe\n",
    "- filter->all_multi_unique\n",
    "- call_peaks\n",
    "- select_groups\n",
    "- analysis_and_annotation\n",
    "\n",
    "This pipeline is based upon the paper by [Qing Dai, etal](https://doi.org/10.1038/s41587-023-02034-w) and the UBS-seq pipeline developed by [Chang Ye](https://github.com/y9c/m5C-UBSseq)\n",
    "\n"
   ]
  },
  {
   "cell_type": "markdown",
   "id": "db5933a4-a627-451d-abe7-7e68204c1d47",
   "metadata": {},
   "source": [
    "## Setup"
   ]
  },
  {
   "cell_type": "markdown",
   "id": "fd477b9e-5c7d-4c3c-8125-89644f367a8d",
   "metadata": {
    "jp-MarkdownHeadingCollapsed": true
   },
   "source": [
    "#### The logic for the Pipeline is defined through a series of Steps using dirs to save intermediate results\n",
    "1. For each **Step** in the pipeline a dir will be created and labeled **Step** and will contain all files created by that **Step**\n",
    "2. Within a **Step**, **in_path** and **out_path** will generically refer to the prior and current **Step**\n",
    "3. Within each **Step**, the appropriate processes will occur. Generally this involves processing files from **in_path** and saving to **out_path**\n",
    "4. **Abbreviated filenames** should not change through the pipeline (suffixes will reflect current file formats). The dir name should reflect the **Step**, not the filename.\n",
    "6. The function **mkpath(step)** returns a path for a dir **Step**. It will create a dir if need be, but not overwrite an existing dir\n",
    "8. The function **fname(path,sample,suffix)** returns a file name without actually creating the file"
   ]
  },
  {
   "cell_type": "markdown",
   "id": "0852de28-a1f7-4239-a50a-5cba49c7fe72",
   "metadata": {},
   "source": [
    "#### Convert Notebook to Script to Execute from the Command Line"
   ]
  },
  {
   "cell_type": "markdown",
   "id": "21bc12e6-1711-424b-b381-66b313c2dbf7",
   "metadata": {},
   "source": [
    "```\n",
    "cd workplace/\n",
    "juptyer nbconvert ubs_basic.ipynb --to script\n",
    "ipython ubs_basic.py\n",
    "```"
   ]
  },
  {
   "cell_type": "markdown",
   "id": "13e28624-07ae-4a54-ba80-dfde893059bc",
   "metadata": {},
   "source": [
    "#### Environment"
   ]
  },
  {
   "cell_type": "code",
   "execution_count": 4,
   "id": "41e148d2",
   "metadata": {},
   "outputs": [],
   "source": [
    "import os, sys, subprocess\n",
    "import numpy as np\n",
    "import pandas as pd\n",
    "import matplotlib.pyplot as plt \n",
    "from pathlib import Path\n",
    "from IPython.display import display, HTML\n",
    "from snakemake import load_configfile"
   ]
  },
  {
   "cell_type": "code",
   "execution_count": 2,
   "id": "42cc293d-6fe9-45fc-a0cd-59b7dfffb18b",
   "metadata": {},
   "outputs": [],
   "source": [
    "def fname(path, base, sufix):\n",
    "    'Return a path and suffix complete filename'\n",
    "    return Path(path)/f\"{base}.{sufix}\"\n",
    "\n",
    "def mkpath(path):\n",
    "    'Return dir path name; creates (not over-writting) a new dir within the pwd. Also prints date/time executed'\n",
    "    path = Path(path)\n",
    "    if not os.path.exists(path): os.makedirs(path)\n",
    "    date = ! date \"+%H:%M:%S_%m-%d-%Y\"\n",
    "    print(f\">>> {{{path}}} {date[0]}\")\n",
    "    return path"
   ]
  },
  {
   "cell_type": "code",
   "execution_count": 5,
   "id": "e2c24ec3-238a-47d3-99a0-295938a8d597",
   "metadata": {},
   "outputs": [],
   "source": [
    "# Set Java Flag\n",
    "os.environ['_JAVA_OPTIONS'] = '-Xmx8g'"
   ]
  },
  {
   "cell_type": "code",
   "execution_count": 6,
   "id": "889270cf-bf90-4da3-90fe-397d8d0b57f3",
   "metadata": {},
   "outputs": [
    {
     "data": {
      "text/plain": [
       "32"
      ]
     },
     "execution_count": 6,
     "metadata": {},
     "output_type": "execute_result"
    }
   ],
   "source": [
    "# Number of cores                                                                                                                                                                                               \n",
    "nc = get_ipython().getoutput('nproc')                                                                                                                                                                           \n",
    "nc = int(nc[0])                                                                                                                                                                                                 \n",
    "nc  "
   ]
  },
  {
   "cell_type": "code",
   "execution_count": 7,
   "id": "ae9c5015",
   "metadata": {},
   "outputs": [],
   "source": [
    "# Programs added to shell PATH\n",
    "os.environ['PATH'] = f\"{str(home_path)}:\" + os.environ['PATH'] # home_path\n",
    "os.environ['PATH'] = '/home/cdaniels/bin/homer:' + os.environ['PATH'] # homer\n",
    "os.environ['PATH'] = '/home/cdaniels/bin/hisat-3n:' + os.environ['PATH'] # hisat-3n"
   ]
  },
  {
   "cell_type": "markdown",
   "id": "f8499228-734a-4c2c-ad0a-deab43ae64c7",
   "metadata": {},
   "source": [
    "#### Functions"
   ]
  },
  {
   "cell_type": "code",
   "execution_count": 10,
   "id": "46c1ab4f-937a-4b6a-a09d-a34462da366b",
   "metadata": {},
   "outputs": [],
   "source": [
    "def nlines(file):\n",
    "    'Returns fast linecout (fast)'\n",
    "    result = subprocess.run(['wc', '-l', file], stdout=subprocess.PIPE)\n",
    "    n = int(result.stdout.split()[0])\n",
    "    return n"
   ]
  },
  {
   "cell_type": "code",
   "execution_count": 11,
   "id": "ed22df72-94d2-412d-bf77-67e25b974acc",
   "metadata": {},
   "outputs": [],
   "source": [
    "def nseqs(bam_fastq):\n",
    "    'Returns number of sequences in bam, sam, fasta or fastq file'\n",
    "    n = !samtools view -c {bam_fastq}\n",
    "    return int(n[0])"
   ]
  },
  {
   "cell_type": "code",
   "execution_count": 12,
   "id": "db7b2623-6c8a-465f-97af-1cd3e358849b",
   "metadata": {},
   "outputs": [],
   "source": [
    "def samples_string(samples,path,suffix='bam'):\n",
    "    'Returns a space delimited string of sample files'\n",
    "    return \" \".join([str(fname(path,sample,suffix)) for sample in samples])    "
   ]
  },
  {
   "cell_type": "code",
   "execution_count": 13,
   "id": "f9ffe35a",
   "metadata": {},
   "outputs": [],
   "source": [
    "def make_table(ds1, ds2, ds1_name, ds2_name, y_label=None, xs_labels=None, table_label=None):\n",
    "    'Makes a bar graph comparing two datasets and their corresponding names'\n",
    "    assert(len(ds1)==len(ds2))\n",
    "    n = np.arange(len(ds1))\n",
    "    width = 0.35\n",
    "    fig, ax = plt.subplots()\n",
    "    rects1 = ax.bar(n - width/2, ds1, width, label=ds1_name)\n",
    "    rects2 = ax.bar(n + width/2, ds2, width,label=ds2_name)\n",
    "    ax.set_ylabel(y_label)\n",
    "    ax.set_title(table_label)\n",
    "    ax.set_xticks(n)\n",
    "    ax.set_xticklabels(range(1,len(ds1)+1)) if xs_labels == None else ax.set_xticklabels(xs_labels)\n",
    "    ax.legend()\n",
    "    plt.show()"
   ]
  },
  {
   "cell_type": "code",
   "execution_count": 14,
   "id": "a7b59797-ffd0-4d1c-947e-45f07e301a2a",
   "metadata": {},
   "outputs": [],
   "source": [
    "def make_histogram(ds, ds_name, table_label=None, y_label=\"Frequency\", density=True):\n",
    "    'Makes a histogram for a dataset and its name'\n",
    "    fig, ax = plt.subplots()\n",
    "    ax.hist(ds, density=density)\n",
    "    ax.set_ylabel(y_label)\n",
    "    ax.set_xlabel(ds_name)\n",
    "    if table_label is not None:\n",
    "        ax.set_title(table_label)\n",
    "    plt.show()"
   ]
  },
  {
   "cell_type": "markdown",
   "id": "647912d1-4c4a-4469-83b6-4caa53f11ec5",
   "metadata": {},
   "source": [
    "#### Define `references/`"
   ]
  },
  {
   "cell_type": "markdown",
   "id": "8e95cc61-0759-4a6d-b1a4-28bd8f48d20f",
   "metadata": {},
   "source": [
    "Use `config.yaml` to configure `references/`, but not samples in `data/`"
   ]
  },
  {
   "cell_type": "code",
   "execution_count": 8,
   "id": "0e9cbdfe-97bf-4c0d-9e86-ef93ad062c5d",
   "metadata": {
    "scrolled": true
   },
   "outputs": [],
   "source": [
    "config = load_configfile(\"../config.yaml\")"
   ]
  },
  {
   "cell_type": "code",
   "execution_count": 9,
   "id": "9fd3b929-b9ad-48ed-acf8-e9ec4cfe01dd",
   "metadata": {},
   "outputs": [],
   "source": [
    "genome_fa  = home_path/config['reference']['genome']['fa'].removeprefix('~/')\n",
    "genome_idx = home_path/config['reference']['genome']['hisat3n'].removeprefix('~/')"
   ]
  },
  {
   "cell_type": "code",
   "execution_count": 6,
   "id": "dbfc6989-8a84-4b33-ae5c-ee507af9442f",
   "metadata": {},
   "outputs": [],
   "source": [
    "#genome_fa = ref_path/'genome/Homo_sapiens.GRCh38.genome.fa'\n",
    "#genome_idx = ref_path/'index/hist3n/Homo_sapiens.GRCh38.genome'"
   ]
  },
  {
   "cell_type": "markdown",
   "id": "a21c1f30-2663-4aa7-9e81-fd90a96b92e5",
   "metadata": {},
   "source": [
    "## Step: select_samples"
   ]
  },
  {
   "cell_type": "markdown",
   "id": "cf0c6fbb-a4b9-4a0c-97d2-80646efb627e",
   "metadata": {},
   "source": [
    "#### Define sample names and link to sample files"
   ]
  },
  {
   "cell_type": "code",
   "execution_count": 13,
   "id": "d73f04c9-8803-4e6f-8336-a53a40d78bab",
   "metadata": {},
   "outputs": [
    {
     "name": "stdout",
     "output_type": "stream",
     "text": [
      ">>> {samples} 21:30:34_02-24-2024\n"
     ]
    }
   ],
   "source": [
    "out_path = mkpath('samples')"
   ]
  },
  {
   "cell_type": "markdown",
   "id": "1245b4d6-d147-423a-8d74-038e689e960e",
   "metadata": {},
   "source": [
    "Define short names for treated samples and control samples"
   ]
  },
  {
   "cell_type": "code",
   "execution_count": 14,
   "id": "67bbf37a-e8c4-4f9f-a267-251bed3f485f",
   "metadata": {},
   "outputs": [
    {
     "name": "stdout",
     "output_type": "stream",
     "text": [
      "['t1', 't2', 't3'] [] ['t1', 't2', 't3']\n"
     ]
    }
   ],
   "source": [
    "treated = [\"t1\",\"t2\",\"t3\"] # Edit\n",
    "control = [] # Edit\n",
    "samples = treated + control\n",
    "print(treated, control, samples)"
   ]
  },
  {
   "cell_type": "markdown",
   "id": "e6850be1-3795-47ae-bff8-3a8316a10e11",
   "metadata": {},
   "source": [
    "Sample files"
   ]
  },
  {
   "cell_type": "code",
   "execution_count": 15,
   "id": "a1738eec-e76c-4104-858a-5319359818a5",
   "metadata": {},
   "outputs": [],
   "source": [
    "samples_fn = [data_path/'test0_R1.fq.gz', data_path/'test1_R1.fq.gz', data_path/'test2_R1.fq.gz']"
   ]
  },
  {
   "cell_type": "code",
   "execution_count": 17,
   "id": "f98ef3fd-e6fc-442d-9147-d2ab1dc04074",
   "metadata": {},
   "outputs": [
    {
     "data": {
      "text/plain": [
       "{'t1': PosixPath('/home/cdaniels/uofc_data/ubs_seq/UBS-seq_basic/workspace/../data/test0_R1.fq.gz'),\n",
       " 't2': PosixPath('/home/cdaniels/uofc_data/ubs_seq/UBS-seq_basic/workspace/../data/test1_R1.fq.gz'),\n",
       " 't3': PosixPath('/home/cdaniels/uofc_data/ubs_seq/UBS-seq_basic/workspace/../data/test2_R1.fq.gz')}"
      ]
     },
     "execution_count": 17,
     "metadata": {},
     "output_type": "execute_result"
    }
   ],
   "source": [
    "s2fn = {name: fname for (name,fname) in zip(samples,samples_fn)};\n",
    "s2fn"
   ]
  },
  {
   "cell_type": "markdown",
   "id": "8024d443-1db1-4a81-83dd-73460708d3da",
   "metadata": {},
   "source": [
    "Symbolically link short names with sample files"
   ]
  },
  {
   "cell_type": "code",
   "execution_count": 18,
   "id": "4c84cd58-777e-4645-bac1-5a3c549ad8dd",
   "metadata": {},
   "outputs": [
    {
     "name": "stdout",
     "output_type": "stream",
     "text": [
      "ln: failed to create symbolic link 'samples/t1.fq.gz': File exists\n",
      "ln: failed to create symbolic link 'samples/t2.fq.gz': File exists\n",
      "ln: failed to create symbolic link 'samples/t3.fq.gz': File exists\n"
     ]
    }
   ],
   "source": [
    "for (s,fn) in s2fn.items():\n",
    "    ! ln -s {data_path/fn} {fname(out_path,s,\"fq.gz\")}"
   ]
  },
  {
   "cell_type": "markdown",
   "id": "2e11be53",
   "metadata": {},
   "source": [
    "Check that the files look correct"
   ]
  },
  {
   "cell_type": "code",
   "execution_count": 19,
   "id": "25371f62",
   "metadata": {},
   "outputs": [
    {
     "name": "stdout",
     "output_type": "stream",
     "text": [
      "total 13G\n",
      "-rw-rw-r-- 1 cdaniels cdaniels 3.4G Feb  5 13:10 t1.fq.gz\n",
      "-rw-rw-r-- 1 cdaniels cdaniels 4.6G Feb  5 13:15 t2.fq.gz\n",
      "-rw-rw-r-- 1 cdaniels cdaniels 4.4G Feb  5 13:15 t3.fq.gz\n"
     ]
    }
   ],
   "source": [
    "!ls -lLh {out_path}"
   ]
  },
  {
   "cell_type": "markdown",
   "id": "6c7307e9-bcb8-4515-be28-da83ddd2649a",
   "metadata": {},
   "source": [
    "How many sequence reads do we have per Sample"
   ]
  },
  {
   "cell_type": "code",
   "execution_count": null,
   "id": "113b16b9-601a-4b74-83e7-12d25a9af329",
   "metadata": {},
   "outputs": [],
   "source": [
    "# Total Reads per Samples\n",
    "\n",
    "#files = [fname(out_path,sample, \"fq.gz\") for sample in samples]\n",
    "#for f in files:\n",
    "#    ns = nseqs(f)\n",
    "#    print(f\"{f}: {ns:,}\")"
   ]
  },
  {
   "cell_type": "markdown",
   "id": "41fb4092-ae2c-4081-8658-300b9f3ffab8",
   "metadata": {},
   "source": [
    "## Step: fastqc_pre"
   ]
  },
  {
   "cell_type": "markdown",
   "id": "e95850c4-5827-459f-bbf9-04cad8347377",
   "metadata": {},
   "source": [
    "#### Pre Trimming Quality Control"
   ]
  },
  {
   "cell_type": "code",
   "execution_count": null,
   "id": "20a87550-8f06-4d37-9c01-025dc8135790",
   "metadata": {},
   "outputs": [],
   "source": [
    "in_path = mkpath(\"samples\")\n",
    "out_path = mkpath(\"fastqc_pre\")"
   ]
  },
  {
   "cell_type": "markdown",
   "id": "16857b29-a33c-424a-a224-22142e6d2e13",
   "metadata": {},
   "source": [
    "#### fastqc"
   ]
  },
  {
   "cell_type": "code",
   "execution_count": null,
   "id": "c0dd3668-5561-44c7-b2ea-b903ebc1737e",
   "metadata": {
    "scrolled": true
   },
   "outputs": [],
   "source": [
    "#! fastqc --help"
   ]
  },
  {
   "cell_type": "markdown",
   "id": "eb840f81-7880-47b5-aab1-b6017da470e3",
   "metadata": {},
   "source": [
    "##### paramaters:\n",
    "- -o output dir"
   ]
  },
  {
   "cell_type": "code",
   "execution_count": null,
   "id": "f0f6379b-63d0-4ed9-b3c7-c01accd81bb4",
   "metadata": {},
   "outputs": [],
   "source": [
    "for sample in samples:\n",
    "    ! fastqc {fname(in_path,sample,\"fq.gz\")} -o {out_path} 2> /dev/null"
   ]
  },
  {
   "cell_type": "code",
   "execution_count": null,
   "id": "f009c6d6-c2d9-4b1c-b628-53e2ce7ba2d9",
   "metadata": {},
   "outputs": [],
   "source": [
    "! ls {out_path}"
   ]
  },
  {
   "cell_type": "markdown",
   "id": "51157b74",
   "metadata": {},
   "source": [
    "## Step: trim"
   ]
  },
  {
   "cell_type": "markdown",
   "id": "c1731c31-b9b1-4a09-b964-3dece49e1910",
   "metadata": {},
   "source": [
    "#### Trim the adapter and downstream sequence as well as trimmng lower quality downstream sequence"
   ]
  },
  {
   "cell_type": "code",
   "execution_count": 20,
   "id": "8b898be1",
   "metadata": {},
   "outputs": [
    {
     "name": "stdout",
     "output_type": "stream",
     "text": [
      ">>> {samples} 21:36:15_02-24-2024\n",
      ">>> {trim} 21:36:15_02-24-2024\n"
     ]
    }
   ],
   "source": [
    "in_path = mkpath(\"samples\")\n",
    "out_path = mkpath(\"trim\")"
   ]
  },
  {
   "cell_type": "code",
   "execution_count": 21,
   "id": "632eaa99",
   "metadata": {},
   "outputs": [],
   "source": [
    "adapter =  \"AGATCGGAAGAGCACACGTCT\"\n",
    "barcode3 = \"ATCACG\""
   ]
  },
  {
   "cell_type": "code",
   "execution_count": 22,
   "id": "e73ebe78-4020-4894-8c0c-3239aee02330",
   "metadata": {},
   "outputs": [
    {
     "name": "stdout",
     "output_type": "stream",
     "text": [
      "t1.fq.gz  t2.fq.gz  t3.fq.gz\n"
     ]
    }
   ],
   "source": [
    "!ls {in_path}"
   ]
  },
  {
   "cell_type": "markdown",
   "id": "ca715978-8029-4cfe-a74c-765eb8ed882f",
   "metadata": {},
   "source": [
    "#### cutadapt"
   ]
  },
  {
   "cell_type": "code",
   "execution_count": null,
   "id": "bbb14bd9",
   "metadata": {
    "scrolled": true
   },
   "outputs": [],
   "source": [
    "#! cutadapt --help"
   ]
  },
  {
   "cell_type": "markdown",
   "id": "51c5bf75-0af1-40c7-ba4a-1265587753b9",
   "metadata": {
    "scrolled": true
   },
   "source": [
    "```\n",
    "cutadapt -j {threads} \n",
    "            -n 2 \n",
    "            -a \"{params.barcode3}{params.adapter3};e=0.15;o=6;anywhere;\" \n",
    "            --untrimmed-output={output.fastq_untrimmed} \n",
    "            -o - {input} 2>{output.report1} | \n",
    "cutadapt -j {threads} \n",
    "            -u 5 -u -5 \n",
    "            --rename='{{id}}_{{cut_prefix}}{{cut_suffix}} {{comment}}' \n",
    "            --max-n=0 \n",
    "            -q 15 \n",
    "            --nextseq-trim=15 \n",
    "            -m 20 \n",
    "            --too-short-output={output.fastq_tooshort} \n",
    "            -o {output.fastq_cut} - >{output.report2}\n",
    "```"
   ]
  },
  {
   "cell_type": "markdown",
   "id": "61d94569-8947-497c-8641-59e0f790ce60",
   "metadata": {},
   "source": [
    "https://cutadapt.readthedocs.io/en/stable/guide.html"
   ]
  },
  {
   "cell_type": "markdown",
   "id": "cd81c901-05a6-4b85-9dc2-2c2201af649d",
   "metadata": {},
   "source": [
    "##### paramaters:\n",
    "- -j 0, Number of CPU. Use 0 to autodetect\n",
    "- --nextseq-trim=15, is used to trim these low-quality tails of 'G's by introducing a variable quality threshold\n",
    "- --action=trim, trim adapter and downstream sequence\n",
    "- -a '{barcode3}{adapter};e=0.15;o=6;anywhere;', \n",
    "- -n 2, Remove up to COUNT adapters from each read. Default: 1\n",
    "- -u 5 -u -5, Remove LEN bases from each read. If positve, from beginning. If negative, from end\n",
    "- --max-n=0, Discard reads with more than COUNT 'N' bases (here any)\n",
    "- -q 15, Trim low-quality bases from 5' end of eachread before adapter removal.\n",
    "- -m 20, Discard reads shorter than LEN\n",
    "- --rename='{{id}}_{{cut_prefix}}{{cut_suffix}} {{comment}}', rename comment of fastq record\n",
    "- --too-short-output={fname(out_path,sample,\"fastq_tooshort\")},\n",
    "- -o {fname(out_path,sample,\"fq.gz\")}, output file\n",
    "{fname(in_path,sample,\"fq.gz\")}, input file"
   ]
  },
  {
   "cell_type": "markdown",
   "id": "dbf6f13b-0a83-4436-b929-f2000deb241d",
   "metadata": {},
   "source": [
    "**NOTE:** Added `--length 30` to cutoff reads where C begin to become more common. Not in original code"
   ]
  },
  {
   "cell_type": "code",
   "execution_count": null,
   "id": "c556375c-0e45-402f-b5fe-6418606482ca",
   "metadata": {},
   "outputs": [],
   "source": [
    "for sample in samples:\n",
    "    !cutadapt -j 0 --nextseq-trim=15 --action=trim -a '{barcode3}{adapter};e=0.15;o=6;anywhere;'\\\n",
    "            -n 2 -u 5 -u -5 --max-n=0 -q 15 -m 20 -l 80\\\n",
    "            --length 30 \\\n",
    "            --rename='{{id}}_{{cut_prefix}}{{cut_suffix}} {{comment}}'\\\n",
    "            --too-short-output={fname(out_path,sample,\"fastq_tooshort\")} \\\n",
    "            -o {fname(out_path,sample,\"fq.gz\")}  \\\n",
    "            {fname(in_path,sample,\"fq.gz\")} > {fname(out_path,sample,\"log\")}"
   ]
  },
  {
   "cell_type": "markdown",
   "id": "c0fd27b4-6fb6-43ec-abda-908fe49df9f8",
   "metadata": {},
   "source": [
    "#### Analysis"
   ]
  },
  {
   "cell_type": "markdown",
   "id": "0deddf8f-d88b-4b1f-832b-328714f045f3",
   "metadata": {},
   "source": [
    "Take a look at a FASTQ file"
   ]
  },
  {
   "cell_type": "code",
   "execution_count": 23,
   "id": "e07c75da-35fd-4c4e-b07a-3696595806f4",
   "metadata": {},
   "outputs": [
    {
     "data": {
      "text/plain": [
       "PosixPath('trim/t1.fq.gz')"
      ]
     },
     "execution_count": 23,
     "metadata": {},
     "output_type": "execute_result"
    }
   ],
   "source": [
    "in_fn  = fname(in_path,treated[0],'fq.gz')\n",
    "out_fn = fname(out_path,treated[0],'fq.gz')\n",
    "out_fn"
   ]
  },
  {
   "cell_type": "code",
   "execution_count": 24,
   "id": "c450ef4a-6b0d-4ded-a5f1-d387be292b48",
   "metadata": {
    "scrolled": true
   },
   "outputs": [
    {
     "name": "stdout",
     "output_type": "stream",
     "text": [
      "@SRR23538290.1 1 length=121\n",
      "GTGTGAGGTTTAGAAATAATAGTAATAGATGTAGAATTTGGGAATGATATTACTACCATCACGAGATCGGAATAGCACACGTCTGAACTCCAGTCACCACTCAATCTCGTATGCCGTCTTC\n",
      "+\n",
      "FF,:FFFFFFFFF:FFFFFFFFFFFFFFFF,FFFFFFFFF,,F,FFFFFFFFFFFFFF:FFFFFFFFFFFFF:FF:FFFFFFFFFFFFFFFFFFFF:FFFFFFFFFFFFFFF,F:,FF:F,\n",
      "@SRR23538290.2 2 length=121\n",
      "CCTATTGTGGGTTTGGTTGGGTGAGTATGGTTAATGTAGGTAAAGATATATAATCACGAGATCGTAAGATCAAACGTCTGAACTCCAGTCACCACTCAATCTCGTATGCCGTCTTCTGATT\n",
      "+\n",
      ":FF,F,FFF:FFF::FFFFFFFFFFFFFF:FFFFFFFFFFFFFFFF:FFFF,FFFFF,FFFFFF:FF,F,:F,F,FFFFFFF:FF,F:FFFFFFFFFFFFFFFFF:F,,F:F,,F,:F,:F\n",
      "@SRR23538290.3 3 length=121\n",
      "ACTAGATTGAGTGTGTTTATTAAAAGTAGTTGATTATTTTTTAAAATAAGAAGAGGGTTTTGTTGGGAGACGGTTATCACGAGATCGGAAGAGCACACGTCTGAACTCCAGTCACCACTCA\n",
      "+\n",
      "FFF,:FFFFFFFFF:FFFFFFFFFFFFFFFFFFFFFFFFFFFFFFFFFFF:FFF,FFFFFFFFF:FFFFFFFFF:FFFFFFF:FF,FFFFFFFFFFFF,FFFFFFFFFFF,FFFFFFFFF:\n",
      "@SRR23538290.4 4 length=121\n",
      "TCGAAAGGTGTTTATTGAATTTGGAGATTTTGAGGAGGAGGAAGAGGAAGATTCGTATCACGAGATCGGAAGAGCACACGTCTGAACTCCAGTCACCACTCAATCTCGTATTCCGTCTTCT\n",
      "+\n",
      "FFFFF:FFFFFFFFFFFFFFFF:FFFFFFFFFFFFFFFFF:FF,FFFFFFF,F:FFFFFFFFFFFF:FFFFFFF:FFFFFFFFFFFFFFFFFFFFFFFFFFFFFFFF,FF:,FFFFFFF,F\n",
      "\n",
      "gzip: stdout: Broken pipe\n"
     ]
    }
   ],
   "source": [
    "! zcat {in_fn}|head -16"
   ]
  },
  {
   "cell_type": "code",
   "execution_count": 25,
   "id": "bbff0c14-bd75-4988-a235-07400fa4a89b",
   "metadata": {},
   "outputs": [],
   "source": [
    "def show_adapter(reads):\n",
    "    for read in reads.split('\\n'):\n",
    "        read = read.replace(adapter, f'<span style=\"color: blue;\">{barcode3}{adapter}</span>')\n",
    "        display(HTML(read))"
   ]
  },
  {
   "cell_type": "markdown",
   "id": "b131dc87-f706-4aa6-b82d-8fec51b0b7c2",
   "metadata": {},
   "source": [
    "Look for adapter in untrimmed reads"
   ]
  },
  {
   "cell_type": "code",
   "execution_count": 26,
   "id": "c6560944-596a-443c-9f53-d07613ceedbd",
   "metadata": {},
   "outputs": [
    {
     "data": {
      "text/html": [
       "GTGTGAGGTTTAGAAATAATAGTAATAGATGTAGAATTTGGGAATGATATTACTACCATCACGAGATCGGAATAGCACACGTCTGAACTCCAGTCACCACTCAATCTCGTATGCCGTCTTC"
      ],
      "text/plain": [
       "<IPython.core.display.HTML object>"
      ]
     },
     "metadata": {},
     "output_type": "display_data"
    },
    {
     "data": {
      "text/html": [
       "CCTATTGTGGGTTTGGTTGGGTGAGTATGGTTAATGTAGGTAAAGATATATAATCACGAGATCGTAAGATCAAACGTCTGAACTCCAGTCACCACTCAATCTCGTATGCCGTCTTCTGATT"
      ],
      "text/plain": [
       "<IPython.core.display.HTML object>"
      ]
     },
     "metadata": {},
     "output_type": "display_data"
    },
    {
     "data": {
      "text/html": [
       "ACTAGATTGAGTGTGTTTATTAAAAGTAGTTGATTATTTTTTAAAATAAGAAGAGGGTTTTGTTGGGAGACGGTTATCACG<span style=\"color: blue;\">ATCACGAGATCGGAAGAGCACACGTCT</span>GAACTCCAGTCACCACTCA"
      ],
      "text/plain": [
       "<IPython.core.display.HTML object>"
      ]
     },
     "metadata": {},
     "output_type": "display_data"
    },
    {
     "data": {
      "text/html": [
       "TCGAAAGGTGTTTATTGAATTTGGAGATTTTGAGGAGGAGGAAGAGGAAGATTCGTATCACG<span style=\"color: blue;\">ATCACGAGATCGGAAGAGCACACGTCT</span>GAACTCCAGTCACCACTCAATCTCGTATTCCGTCTTCT"
      ],
      "text/plain": [
       "<IPython.core.display.HTML object>"
      ]
     },
     "metadata": {},
     "output_type": "display_data"
    },
    {
     "data": {
      "text/html": [
       "TATTAGTTTTTTAATAAGTATAATTGGTTGTATATGAAGGTGTGGTTTTTTTTTGATGAAATCACG<span style=\"color: blue;\">ATCACGAGATCGGAAGAGCACACGTCT</span>GAACTCCAGTCACCACTCAATCTCGTATTCCGTC"
      ],
      "text/plain": [
       "<IPython.core.display.HTML object>"
      ]
     },
     "metadata": {},
     "output_type": "display_data"
    },
    {
     "data": {
      "text/html": [
       "GTGTGGAGAAGGAGAGGTTGTGGTTGAAATAGTAAGAAGTACAATCACG<span style=\"color: blue;\">ATCACGAGATCGGAAGAGCACACGTCT</span>GAACTCCAGTCACCACTCAATCTCGTATGCCGTCTTCTGCTTGAAAAAAAG"
      ],
      "text/plain": [
       "<IPython.core.display.HTML object>"
      ]
     },
     "metadata": {},
     "output_type": "display_data"
    },
    {
     "data": {
      "text/html": [
       "TTAGTGTTATGAAGTTGTTGGATAGATATATGTGGTATTTTTTTGGGTAGGAGAGAACTATCACGAGATCGGAAGAGCACACTTCTGAACTCCAGTCACCACTCAATCTCGTATGCCGTCT"
      ],
      "text/plain": [
       "<IPython.core.display.HTML object>"
      ]
     },
     "metadata": {},
     "output_type": "display_data"
    },
    {
     "data": {
      "text/html": [
       "GTTCTTTATTAATTTTATTATAGAATATATGATTTGTGATATATATTTTGAATTTGGAGGAGTAGTTTAGTACTCAATCACG<span style=\"color: blue;\">ATCACGAGATCGGAAGAGCACACGTCT</span>GAACTCCAGTCACCACTC"
      ],
      "text/plain": [
       "<IPython.core.display.HTML object>"
      ]
     },
     "metadata": {},
     "output_type": "display_data"
    },
    {
     "data": {
      "text/html": [
       "CTATTTGAAAAATATTGAATGTTGGGGTGTATTTTGAAGTTGCATCATCACG<span style=\"color: blue;\">ATCACGAGATCGGAAGAGCACACGTCT</span>GAACTCCAGTCACCACTCAATCTCGTATGCCGTCTTCTGCTTGAAAAA"
      ],
      "text/plain": [
       "<IPython.core.display.HTML object>"
      ]
     },
     "metadata": {},
     "output_type": "display_data"
    }
   ],
   "source": [
    "reads = ! zcat {in_fn} | head -36  | seqtk seq -A |grep -v '>'\n",
    "reads = ('\\n').join(reads)\n",
    "show_adapter(reads)"
   ]
  },
  {
   "cell_type": "markdown",
   "id": "fad1e27a-a3a6-4bfe-9920-203e65654575",
   "metadata": {},
   "source": [
    "Verify that adapters and all downstream elements of reads have been trimmed"
   ]
  },
  {
   "cell_type": "code",
   "execution_count": 27,
   "id": "65a7f174-35a8-4956-bdf3-eb86888a902a",
   "metadata": {},
   "outputs": [
    {
     "data": {
      "text/html": [
       "AGGTTTAGAAATAATAGTAATAGATGTAGA"
      ],
      "text/plain": [
       "<IPython.core.display.HTML object>"
      ]
     },
     "metadata": {},
     "output_type": "display_data"
    },
    {
     "data": {
      "text/html": [
       "TGTGGGTTTGGTTGGGTGAGTATGGTTAAT"
      ],
      "text/plain": [
       "<IPython.core.display.HTML object>"
      ]
     },
     "metadata": {},
     "output_type": "display_data"
    },
    {
     "data": {
      "text/html": [
       "ATTGAGTGTGTTTATTAAAAGTAGTTGATT"
      ],
      "text/plain": [
       "<IPython.core.display.HTML object>"
      ]
     },
     "metadata": {},
     "output_type": "display_data"
    },
    {
     "data": {
      "text/html": [
       "AGGTGTTTATTGAATTTGGAGATTTTGAGG"
      ],
      "text/plain": [
       "<IPython.core.display.HTML object>"
      ]
     },
     "metadata": {},
     "output_type": "display_data"
    },
    {
     "data": {
      "text/html": [
       "GTTTTTTAATAAGTATAATTGGTTGTATAT"
      ],
      "text/plain": [
       "<IPython.core.display.HTML object>"
      ]
     },
     "metadata": {},
     "output_type": "display_data"
    },
    {
     "data": {
      "text/html": [
       "GAGAAGGAGAGGTTGTGGTTGAAATAGTAA"
      ],
      "text/plain": [
       "<IPython.core.display.HTML object>"
      ]
     },
     "metadata": {},
     "output_type": "display_data"
    },
    {
     "data": {
      "text/html": [
       "GTTATGAAGTTGTTGGATAGATATATGTGG"
      ],
      "text/plain": [
       "<IPython.core.display.HTML object>"
      ]
     },
     "metadata": {},
     "output_type": "display_data"
    },
    {
     "data": {
      "text/html": [
       "TTATTAATTTTATTATAGAATATATGATTT"
      ],
      "text/plain": [
       "<IPython.core.display.HTML object>"
      ]
     },
     "metadata": {},
     "output_type": "display_data"
    },
    {
     "data": {
      "text/html": [
       "TGAAAAATATTGAATGTTGGGGTGTATTTT"
      ],
      "text/plain": [
       "<IPython.core.display.HTML object>"
      ]
     },
     "metadata": {},
     "output_type": "display_data"
    }
   ],
   "source": [
    "reads = !zcat {out_fn}| head -36  | seqtk seq -A |grep -v '>'\n",
    "reads = ('\\n').join(reads)\n",
    "show_adapter(reads)"
   ]
  },
  {
   "cell_type": "code",
   "execution_count": 28,
   "id": "27ed8414-eba7-471c-bbde-314fa77492f9",
   "metadata": {},
   "outputs": [
    {
     "name": "stdout",
     "output_type": "stream",
     "text": [
      "t1.fastq_tooshort  t1.log\t      t2.fq.gz\tt3.fastq_tooshort  t3.log\n",
      "t1.fq.gz\t   t2.fastq_tooshort  t2.log\tt3.fq.gz\n"
     ]
    }
   ],
   "source": [
    "!ls {out_path}"
   ]
  },
  {
   "cell_type": "markdown",
   "id": "b28de976-ebee-4727-a44a-a3379cd8757e",
   "metadata": {},
   "source": [
    "What did `--rename='{{id}}_{{cut_prefix}}{{cut_suffix}} {{comment}}'` do?\n",
    "\n",
    "It appears to has included in the fastq header, an id comprised of the first and last 5 nt cut by `-u 5` and `-u -5`"
   ]
  },
  {
   "cell_type": "code",
   "execution_count": 29,
   "id": "b2c72e26-ecf2-4712-9909-fd202e1eed08",
   "metadata": {
    "scrolled": true
   },
   "outputs": [
    {
     "name": "stdout",
     "output_type": "stream",
     "text": [
      "@SRR23538290.1 1 length=121\n",
      "GTGTGAGGTTTAGAAATAATAGTAATAGATGTAGAATTTGGGAATGATATTACTACCATCACGAGATCGGAATAGCACACGTCTGAACTCCAGTCACCACTCAATCTCGTATGCCGTCTTC\n",
      "\n",
      "gzip: stdout: Broken pipe\n"
     ]
    }
   ],
   "source": [
    "! zcat {in_fn}|head -2  "
   ]
  },
  {
   "cell_type": "code",
   "execution_count": 30,
   "id": "97272d2b-9170-4935-8801-907e7ffcb1f0",
   "metadata": {},
   "outputs": [
    {
     "name": "stdout",
     "output_type": "stream",
     "text": [
      "@SRR23538290.1_GTGTGTCTTC 1 length=121\n",
      "AGGTTTAGAAATAATAGTAATAGATGTAGA\n",
      "\n",
      "gzip: stdout: Broken pipe\n"
     ]
    }
   ],
   "source": [
    "!zcat {out_fn}| head -2 "
   ]
  },
  {
   "cell_type": "markdown",
   "id": "c37417da-f21f-483c-9a02-f84c5be479df",
   "metadata": {},
   "source": [
    "Too slow for large files. Commented out."
   ]
  },
  {
   "cell_type": "code",
   "execution_count": null,
   "id": "9004da50-f983-496a-8ec4-7e8a45047d22",
   "metadata": {},
   "outputs": [],
   "source": [
    "#files = [fname(in_path,sample, \"fq.gz\") for sample in samples]\n",
    "#res = []\n",
    "#for f in files:\n",
    "#    n = !seqtk seq -A {f}|grep -v '>'|wc -c\n",
    "#    res.append(int(n[0]))\n",
    "#ins = res\n",
    "#ins"
   ]
  },
  {
   "cell_type": "code",
   "execution_count": null,
   "id": "fb5d33e9-c511-41f2-b8d4-3f7e606fa4ad",
   "metadata": {},
   "outputs": [],
   "source": [
    "#files = [fname(out_path,sample, \"fq.gz\") for sample in samples]\n",
    "#res = []\n",
    "#for f in files:\n",
    "#    n = !seqtk seq -A {f}|grep -v '>'|wc -c\n",
    "#    res.append(int(n[0]))\n",
    "#outs = res\n",
    "#outs"
   ]
  },
  {
   "cell_type": "code",
   "execution_count": null,
   "id": "34da7817",
   "metadata": {},
   "outputs": [],
   "source": [
    "#make_table(ins, outs, \"Origs\", \"Trimmed\", \"Sum of Total Read Lengths\", samples, \"Sum of Total Reads Per Sample\")"
   ]
  },
  {
   "cell_type": "code",
   "execution_count": null,
   "id": "728a7038-553c-4428-9112-becd7d1c87cf",
   "metadata": {},
   "outputs": [],
   "source": [
    "#reads = !xargs zcat {out_path}/*.gz | seqtk seq -A  |grep -v \">\" \n",
    "#ds = [len(read) for read in reads]\n",
    "#make_histogram(ds, \"Read Length\", \"Trimmed Reads\")"
   ]
  },
  {
   "cell_type": "markdown",
   "id": "bf68d82c-0200-4613-b5b6-497fde519e16",
   "metadata": {},
   "source": [
    "## Step: fastqc_post"
   ]
  },
  {
   "cell_type": "markdown",
   "id": "8198a2d4-8f2f-46de-ba05-5b335a21bc2e",
   "metadata": {},
   "source": [
    "#### Post Trimming Quality Control"
   ]
  },
  {
   "cell_type": "code",
   "execution_count": 31,
   "id": "140ea0f2-cb1c-48a6-adbd-5264b92c8e1f",
   "metadata": {},
   "outputs": [
    {
     "name": "stdout",
     "output_type": "stream",
     "text": [
      ">>> {trim} 21:37:28_02-24-2024\n",
      ">>> {fastqc_post} 21:37:28_02-24-2024\n"
     ]
    }
   ],
   "source": [
    "in_path = mkpath(\"trim\")\n",
    "out_path = mkpath(\"fastqc_post\")"
   ]
  },
  {
   "cell_type": "code",
   "execution_count": 32,
   "id": "aa72c0a9-9280-4255-b5d6-d0d0258181c0",
   "metadata": {},
   "outputs": [
    {
     "name": "stdout",
     "output_type": "stream",
     "text": [
      "application/gzip\n",
      "Analysis complete for t1.fq.gz\n",
      "application/gzip\n",
      "Analysis complete for t2.fq.gz\n",
      "application/gzip\n",
      "Analysis complete for t3.fq.gz\n"
     ]
    }
   ],
   "source": [
    "for sample in samples:\n",
    "    ! fastqc {fname(in_path,sample,\"fq.gz\")} -o {out_path} 2> /dev/null"
   ]
  },
  {
   "cell_type": "markdown",
   "id": "69de1cf7-fa1b-49f1-ba6a-a14126989904",
   "metadata": {},
   "source": [
    "#### Consolidate fastqc Reports"
   ]
  },
  {
   "cell_type": "code",
   "execution_count": null,
   "id": "e751dc92-97ee-4f4e-af15-6d05c1fb49ce",
   "metadata": {},
   "outputs": [],
   "source": [
    "!multiqc -f -fp -m fastqc -n multiqc -o {out_path} {out_path}"
   ]
  },
  {
   "cell_type": "code",
   "execution_count": null,
   "id": "bc5b1d72-84a7-4fd3-a8ae-e755b5015a52",
   "metadata": {},
   "outputs": [],
   "source": [
    "! ls {out_path}"
   ]
  },
  {
   "cell_type": "markdown",
   "id": "dd222f8b-c131-4a5a-b865-d59c1c5879e7",
   "metadata": {},
   "source": [
    "## Step: Hisat3n_align"
   ]
  },
  {
   "cell_type": "markdown",
   "id": "aa201443-78ec-4c4b-8e68-83f01a3b01f3",
   "metadata": {},
   "source": [
    "#### Align Samples to Genome with Hisat-3n"
   ]
  },
  {
   "cell_type": "code",
   "execution_count": null,
   "id": "80a6c377-5017-4865-aac4-eacc555b7345",
   "metadata": {},
   "outputs": [],
   "source": [
    "in_path = mkpath(\"trim\")\n",
    "out_path = mkpath(\"hisat3n_align\")"
   ]
  },
  {
   "cell_type": "markdown",
   "id": "7fba7ae0-92e6-4435-a5f9-bf6610ba7101",
   "metadata": {},
   "source": [
    "#### hisat-3n"
   ]
  },
  {
   "cell_type": "markdown",
   "id": "41f584e2-8878-4cf9-91c9-49514d1a8ae7",
   "metadata": {},
   "source": [
    "http://daehwankimlab.github.io/hisat2/hisat-3n/"
   ]
  },
  {
   "cell_type": "code",
   "execution_count": null,
   "id": "98b74e19-5d09-491f-b605-8461a0b95ac4",
   "metadata": {
    "scrolled": true
   },
   "outputs": [],
   "source": [
    "#! hisat-3n --help"
   ]
  },
  {
   "cell_type": "markdown",
   "id": "e1833004-ab6e-43a1-93d9-ae7ce2b17aa3",
   "metadata": {
    "scrolled": true
   },
   "source": [
    "```\n",
    "hisat3n --index {params.index}\n",
    "        -p {threads}\n",
    "        --summary-file {output.summary}\n",
    "        --new-summary\n",
    "        -q\n",
    "        -U {input}\n",
    "        --directional-mapping\n",
    "        --base-change C,T\n",
    "        --pen-noncansplice 20\n",
    "        --mp 4,1\n",
    "        --un {output.fq}\n",
    "        -S {output.sam}\n",
    "```"
   ]
  },
  {
   "cell_type": "markdown",
   "id": "12ef71a2-1e8b-4c06-9953-bad3b25b49e0",
   "metadata": {},
   "source": [
    "##### paramaters:\n",
    "- --index {params.index}, Index filename prefix (minus trailing .X.ht2) \n",
    "- -p {nc}, number of threads\n",
    "- --summary-file, print alignment summary to this file.\n",
    "- --new-summary, print alignment summary in a new style, which is more machine-friendly.\n",
    "- -q, query input files are FASTQ .fq/.fastq (default)\n",
    "- -U {input}, \n",
    "- --directional-mapping, make directional mapping, please use this option only if your reads are prepared with a strand specific library (off)\n",
    "- --base-change C,T,  the converted nucleotide and converted to nucleotide (C,T)\n",
    "- --pen-noncansplice 20, penalty for a non-canonical splice site (12)\n",
    "- --mp 4,1,  max and min penalties for mismatch; lower qual = lower penalty <6,2>\n",
    "- --un {output.fq}, write unpaired reads that didn't align to <path> \n",
    "- -S {output.sam}, File for SAM output (default: stdout)"
   ]
  },
  {
   "cell_type": "code",
   "execution_count": null,
   "id": "5cdd8492-fa94-4434-9881-9231dba08130",
   "metadata": {},
   "outputs": [],
   "source": [
    "for sample in samples:\n",
    "    !hisat-3n --index {genome_idx}\\\n",
    "        -p {nc}\\\n",
    "        --summary-file {fname(out_path,sample,\"summary\")}\\\n",
    "        --new-summary\\\n",
    "        -q\\\n",
    "        -U {fname(in_path,sample,'fq.gz')}\\\n",
    "        --directional-mapping\\\n",
    "        --base-change C,T\\\n",
    "        --pen-noncansplice 20\\\n",
    "        --mp 4,1\\\n",
    "        --un {fname(out_path,sample,'unmapped.fq')}\\\n",
    "        -S {fname(out_path,sample,'sam')}"
   ]
  },
  {
   "cell_type": "markdown",
   "id": "7674f153-02d5-47b8-aaf1-f577584fe698",
   "metadata": {},
   "source": [
    "#### Analysis"
   ]
  },
  {
   "cell_type": "code",
   "execution_count": null,
   "id": "687fd6be-2a5b-49a0-b6a1-af382ed2f3ae",
   "metadata": {},
   "outputs": [],
   "source": [
    "!ls -lh {out_path}"
   ]
  },
  {
   "cell_type": "code",
   "execution_count": null,
   "id": "0452ab50-d295-493d-912e-41cc7115943a",
   "metadata": {},
   "outputs": [],
   "source": [
    "! cat {out_path}/t1.summary"
   ]
  },
  {
   "cell_type": "code",
   "execution_count": null,
   "id": "a9a39eee-1fd7-4304-b980-bbb404d785df",
   "metadata": {},
   "outputs": [],
   "source": [
    "! head -8 {out_path}/t1.unmapped.fq"
   ]
  },
  {
   "cell_type": "code",
   "execution_count": null,
   "id": "f7964202-9104-41f9-b23b-d6d841c66995",
   "metadata": {},
   "outputs": [],
   "source": [
    "! grep -v '@' {out_path}/t1.sam |head -1"
   ]
  },
  {
   "cell_type": "markdown",
   "id": "5a9a42a0-9bf2-44c4-b559-e40d5818bc6a",
   "metadata": {},
   "source": [
    "## Step: Hisat3n_sort"
   ]
  },
  {
   "cell_type": "markdown",
   "id": "640c2ff5-df93-4afb-8b5d-35106e520ece",
   "metadata": {},
   "source": [
    "#### Sort and Index Hisat3n Sam Files"
   ]
  },
  {
   "cell_type": "code",
   "execution_count": null,
   "id": "2ae1a883-efc0-4773-b0c2-e7cfeaf9357e",
   "metadata": {},
   "outputs": [],
   "source": [
    "in_path = mkpath(\"hisat3n_align\")\n",
    "out_path = mkpath(\"hisat3n_sort\")"
   ]
  },
  {
   "cell_type": "markdown",
   "id": "9c040e0f-93a0-49f3-a085-036a0c86c3c2",
   "metadata": {},
   "source": [
    "#### samtools"
   ]
  },
  {
   "cell_type": "markdown",
   "id": "d2f487d0-1389-4878-a5d9-77bf3f1d66dd",
   "metadata": {},
   "source": [
    "http://www.htslib.org/doc/samtools.html"
   ]
  },
  {
   "cell_type": "markdown",
   "id": "3b659402-522a-47c6-89f9-79c62a7f0e02",
   "metadata": {
    "scrolled": true
   },
   "source": [
    "```\n",
    "samtools view\n",
    "    -@ {threads}\n",
    "    -F4 -b {input} |\n",
    "samtools sort\n",
    "    -@ {threads}\n",
    "    --write-index\n",
    "    -m 4G\n",
    "    -O BAM\n",
    "    -o {output} -\n",
    "```"
   ]
  },
  {
   "cell_type": "markdown",
   "id": "1431f54e-5483-4b0e-8c17-08957190476f",
   "metadata": {},
   "source": [
    "##### paramaters:\n",
    "```\n",
    "samtools view, SAM<->BAM<->CRAM conversion\n",
    "    -@ {nc}, number of threads \n",
    "    -F4 Filter out by Flag (-F 4 filters out unmapped reads)\n",
    "    -b, output a bam file\n",
    "    {input}  |\n",
    "samtools sort, sort alignment file\n",
    "    -@ {nc}, number of threads\n",
    "    --write-index, index the output files\n",
    "    -O BAM, output file format\n",
    "    -o {output} -\n",
    "```"
   ]
  },
  {
   "cell_type": "code",
   "execution_count": null,
   "id": "629253cc-154d-4d71-8448-a0bfea40dd18",
   "metadata": {},
   "outputs": [],
   "source": [
    "for sample in samples:\n",
    "    ! samtools view -@ {nc} -F4 -b {fname(in_path, sample,'sam')}  | \\\n",
    "      samtools sort -@ {nc} --write-index -O BAM -o {fname(out_path,sample,'bam')} - "
   ]
  },
  {
   "cell_type": "markdown",
   "id": "211047f3-5203-4e21-b259-7746b03a936b",
   "metadata": {},
   "source": [
    "#### Analysis"
   ]
  },
  {
   "cell_type": "code",
   "execution_count": null,
   "id": "1140e2ed-32b3-42f7-a115-5e6cb3175653",
   "metadata": {},
   "outputs": [],
   "source": [
    "! ls -lh {out_path}"
   ]
  },
  {
   "cell_type": "markdown",
   "id": "74ad4df6-1fa1-43dc-8302-859affe0690f",
   "metadata": {},
   "source": [
    "## Step: Hisat3n_dedup"
   ]
  },
  {
   "cell_type": "markdown",
   "id": "ad8d9bf1-95a8-4198-988c-4cc83db22bad",
   "metadata": {},
   "source": [
    "#### Remove Dulpicate Reads"
   ]
  },
  {
   "cell_type": "code",
   "execution_count": 33,
   "id": "4d6761e7-18a1-48a7-a9a7-17e32f5eec65",
   "metadata": {},
   "outputs": [
    {
     "name": "stdout",
     "output_type": "stream",
     "text": [
      ">>> {hisat3n_sort} 21:45:37_02-24-2024\n",
      ">>> {hisat3n_dedup} 21:45:37_02-24-2024\n"
     ]
    }
   ],
   "source": [
    "in_path = mkpath(\"hisat3n_sort\")\n",
    "out_path = mkpath(\"hisat3n_dedup\")"
   ]
  },
  {
   "cell_type": "markdown",
   "id": "e58c2685-80da-428c-bdfc-9447ebfc73fe",
   "metadata": {},
   "source": [
    "#### umicollapse"
   ]
  },
  {
   "cell_type": "markdown",
   "id": "9d0f9db8-aaf5-4ee2-9c4f-97e79da12a0a",
   "metadata": {},
   "source": [
    "https://github.com/Daniel-Liu-c0deb0t/UMICollapse"
   ]
  },
  {
   "cell_type": "markdown",
   "id": "e09e2177-b96c-495b-b56c-c1b4689f0634",
   "metadata": {},
   "source": [
    "##### paramaters:\n",
    "```\n",
    "umicollapse bam, use a bam file\n",
    "    --two-pass, use a separate two-pass algorithm for SAM/BAM deduplication.\n",
    "    -i {input.bam}, indexed input bam file\n",
    "    -o {output.bam}, output bam file\n",
    "      > {output.log}\n",
    "```"
   ]
  },
  {
   "cell_type": "code",
   "execution_count": null,
   "id": "1af0f53c-3277-4745-8a64-63283360815c",
   "metadata": {},
   "outputs": [],
   "source": [
    "for sample in samples:\n",
    "    !umicollapse bam  \\\n",
    "    --two-pass \\\n",
    "    -i {fname(in_path,sample,'bam')} \\\n",
    "    -o {fname(out_path,sample,'bam')}\\\n",
    "    >  {fname(out_path,sample,'log')}"
   ]
  },
  {
   "cell_type": "markdown",
   "id": "c907e18a-1149-4262-987c-6bde50e586da",
   "metadata": {},
   "source": [
    "Index reads to use with IGV"
   ]
  },
  {
   "cell_type": "code",
   "execution_count": 41,
   "id": "3d489302-6fd5-4c23-b7a2-b12bbc3582ef",
   "metadata": {},
   "outputs": [],
   "source": [
    "for sample in samples:\n",
    "    ! samtools index -@ {nc} -c {fname(out_path,sample,'bam')}"
   ]
  },
  {
   "cell_type": "markdown",
   "id": "1f6fe90e-c8b6-49c6-b21c-e0a0409f37de",
   "metadata": {},
   "source": [
    "#### Analysis"
   ]
  },
  {
   "cell_type": "code",
   "execution_count": 42,
   "id": "a52dc069-dd33-4659-9d68-6824b311f096",
   "metadata": {},
   "outputs": [
    {
     "name": "stdout",
     "output_type": "stream",
     "text": [
      "total 8.9G\n",
      "-rw-rw-r-- 1 cdaniels cdaniels 2.5G Feb  5 16:01 t1.bam\n",
      "-rw-rw-r-- 1 cdaniels cdaniels 574K Feb 14 14:36 t1.bam.csi\n",
      "-rw-rw-r-- 1 cdaniels cdaniels  461 Feb  5 16:01 t1.log\n",
      "-rw-rw-r-- 1 cdaniels cdaniels 3.4G Feb  5 16:16 t2.bam\n",
      "-rw-rw-r-- 1 cdaniels cdaniels 732K Feb 14 14:37 t2.bam.csi\n",
      "-rw-rw-r-- 1 cdaniels cdaniels  462 Feb  5 16:16 t2.log\n",
      "-rw-rw-r-- 1 cdaniels cdaniels 3.1G Feb  5 16:29 t3.bam\n",
      "-rw-rw-r-- 1 cdaniels cdaniels 667K Feb 14 14:37 t3.bam.csi\n",
      "-rw-rw-r-- 1 cdaniels cdaniels  462 Feb  5 16:29 t3.log\n"
     ]
    }
   ],
   "source": [
    "! ls -lh {out_path}"
   ]
  },
  {
   "cell_type": "code",
   "execution_count": 30,
   "id": "fd112fd3-6634-4648-9a0a-7a44a8efb7cf",
   "metadata": {},
   "outputs": [
    {
     "name": "stdout",
     "output_type": "stream",
     "text": [
      "cat: {t_path}/t2.log: No such file or directory\n"
     ]
    }
   ],
   "source": [
    "! cat {t_path}/t2.log"
   ]
  },
  {
   "cell_type": "markdown",
   "id": "27f954cc-df3e-4048-ae0e-442526f0b5cf",
   "metadata": {},
   "source": [
    "## Step: Hisat3n_call"
   ]
  },
  {
   "cell_type": "markdown",
   "id": "c45dda76-3ea1-4749-a78e-792080774b53",
   "metadata": {},
   "source": [
    "#### Call Converted bases"
   ]
  },
  {
   "cell_type": "code",
   "execution_count": 87,
   "id": "00cab6a3-dba0-42e6-8e9e-8d49894eac70",
   "metadata": {},
   "outputs": [
    {
     "name": "stdout",
     "output_type": "stream",
     "text": [
      ">>> {hisat3n_dedup} 09:07:59_02-25-2024\n",
      ">>> {hisat3n_call} 09:07:59_02-25-2024\n"
     ]
    }
   ],
   "source": [
    "in_path = mkpath(\"hisat3n_dedup\")\n",
    "out_path = mkpath(\"hisat3n_call\")"
   ]
  },
  {
   "cell_type": "markdown",
   "id": "3ac3e272-df75-4b04-85b8-64b7df394d19",
   "metadata": {},
   "source": [
    "#### hisat-3n-table"
   ]
  },
  {
   "cell_type": "markdown",
   "id": "d208fba5-fc27-4274-b416-92b00a6a22da",
   "metadata": {},
   "source": [
    "http://daehwankimlab.github.io/hisat2/hisat-3n/"
   ]
  },
  {
   "cell_type": "markdown",
   "id": "fa8ac256-7407-4efe-9011-3209695d1a87",
   "metadata": {},
   "source": [
    "##### paramaters:\n",
    "```\n",
    "samtools view -e \"rlen<100000\" -h {input} |\n",
    "hisat3ntable\n",
    "    -p {threads}\n",
    "    -m --alignments -\n",
    "    --ref {params.fa}\n",
    "    --output-name /dev/stdout\n",
    "    --base-change C,T                      |\n",
    "    bgzip -@ {threads} -c > {output}\n",
    "```"
   ]
  },
  {
   "cell_type": "code",
   "execution_count": null,
   "id": "7e03594a-6fb6-4129-a88c-666dddc9ebf0",
   "metadata": {},
   "outputs": [],
   "source": [
    "for sample in samples:\n",
    "    !samtools view -e \"rlen<100000\" -h {fname(in_path,sample,'bam')} |\\\n",
    "    hisat-3n-table\\\n",
    "        -p {nc}\\\n",
    "        -m --alignments -\\\n",
    "        --ref {genome_fa}\\\n",
    "        --output-name /dev/stdout\\\n",
    "        --base-change C,T                          |\\\n",
    "    bgzip \\\n",
    "        -@ {nc} \\\n",
    "        -c > {fname(out_path,sample,'tsv.gz')}"
   ]
  },
  {
   "cell_type": "markdown",
   "id": "bab28bf7-d45c-4107-8cc6-deda26240337",
   "metadata": {},
   "source": [
    "#### Analysis"
   ]
  },
  {
   "cell_type": "code",
   "execution_count": 78,
   "id": "97dff772-a471-4f81-be4a-d36d362c242b",
   "metadata": {},
   "outputs": [
    {
     "name": "stdout",
     "output_type": "stream",
     "text": [
      "total 938M\n",
      "-rw-rw-r-- 1 cdaniels cdaniels  13M Feb 24 22:56 t1.called.csv\n",
      "-rw-rw-r-- 1 cdaniels cdaniels 290M Feb  5 16:47 t1.tsv.gz\n",
      "-rw-rw-r-- 1 cdaniels cdaniels  18M Feb 24 22:56 t2.called.csv\n",
      "-rw-rw-r-- 1 cdaniels cdaniels 313M Feb  5 17:10 t2.tsv.gz\n",
      "-rw-rw-r-- 1 cdaniels cdaniels  16M Feb 24 22:56 t3.called.csv\n",
      "-rw-rw-r-- 1 cdaniels cdaniels 290M Feb  5 17:31 t3.tsv.gz\n"
     ]
    }
   ],
   "source": [
    "! ls -lh {out_path}"
   ]
  },
  {
   "cell_type": "code",
   "execution_count": 88,
   "id": "d85c2597-99cb-4297-a05a-560482cf89a9",
   "metadata": {},
   "outputs": [
    {
     "name": "stdout",
     "output_type": "stream",
     "text": [
      "ref\tpos\tstrand\tconvertedBaseQualities\tconvertedBaseCount\tunconvertedBaseQualities\tunconvertedBaseCount\n",
      "1\t10538\t+\tF\t1\t\t0\n",
      "1\t10539\t+\tF\t1\t\t0\n",
      "1\t10541\t+\tF\t1\t\t0\n",
      "1\t10542\t+\tF\t1\t\t0\n",
      "1\t10548\t+\tF\t1\t\t0\n",
      "1\t10553\t+\tF\t1\t\t0\n",
      "1\t10560\t+\tF\t1\t\t0\n",
      "1\t10563\t+\tF\t1\t\t0\n",
      "1\t10565\t+\tF\t1\t\t0\n",
      "\n",
      "gzip: stdout: Broken pipe\n"
     ]
    }
   ],
   "source": [
    "! zcat {out_path}/t1.tsv.gz |head "
   ]
  },
  {
   "cell_type": "markdown",
   "id": "22d4b97c-7c8e-4198-a08e-6c8522c1690d",
   "metadata": {},
   "source": [
    "Used IGV to look at reads in `t1.tsv.gz`:\n",
    "- Needed to adjust preferences to show all reads\n",
    "- Exactly the first 10,000 nt are all N\n",
    "- The first read was aligned with a C at 10,358\n",
    "- There were 9 C's, all in the positions shown above"
   ]
  },
  {
   "cell_type": "markdown",
   "id": "a5bc146e-6e58-4156-842a-204fad3b13aa",
   "metadata": {},
   "source": [
    "Accordingly, this file appears to include all C's in the genome aligned to at least one read"
   ]
  },
  {
   "cell_type": "code",
   "execution_count": 134,
   "id": "1c49a351-3158-407b-96a8-a6e97b564e51",
   "metadata": {},
   "outputs": [
    {
     "name": "stdout",
     "output_type": "stream",
     "text": [
      "C\n",
      "CCCCCCCCC\n"
     ]
    }
   ],
   "source": [
    "! head -168 {genome_fa} | sed 's/[^C]//g' | sed '/^$/d'"
   ]
  },
  {
   "cell_type": "code",
   "execution_count": 136,
   "id": "4313dc66-571f-4b6a-b358-1a0c315bb461",
   "metadata": {},
   "outputs": [
    {
     "name": "stdout",
     "output_type": "stream",
     "text": [
      "42\n"
     ]
    }
   ],
   "source": [
    "! echo NNNNNNNNNNNNNNNNNNNNNNNNNNNNNNNNNNNNNNNNT |wc -c"
   ]
  },
  {
   "cell_type": "code",
   "execution_count": 141,
   "id": "25b625d0-6c23-4214-8595-bf662b6bf514",
   "metadata": {},
   "outputs": [
    {
     "name": "stdout",
     "output_type": "stream",
     "text": [
      "10168\n"
     ]
    }
   ],
   "source": [
    "! head -168 {genome_fa} |sed 's/[^N]//g'|wc -c"
   ]
  },
  {
   "cell_type": "markdown",
   "id": "5f423b27-52c9-4d7f-b8fb-d9a5b272109b",
   "metadata": {},
   "source": [
    "There are 7 columns in the 3N-conversion-table:\n",
    "\n",
    "1. `ref:` the chromosome name.\n",
    "2. `pos:` 1-based position in ref.\n",
    "3. `strand:` ‘+’ for forward strand. ‘-‘ for reverse strand.\n",
    "4. `convertedBaseQualities:` the qualities for converted base in read-level measurement. Length of this string is equal to the number of converted Base in read-level measurement.\n",
    "5. `convertedBaseCount:` number of distinct read positions where converted base in read-level measurements were found. this number should equal to the length of convertedBaseQualities.\n",
    "6. `unconvertedBaseQualities:` the qualities for unconverted base in read-level measurement. Length of this string is equal to the number of unconverted Base in read-level measurement.\n",
    "7. `unconvertedBaseCount:` number of distinct read positions where unconverted base in read-level measurements were found. this number should equal to the length of unconvertedBaseQualities."
   ]
  },
  {
   "cell_type": "markdown",
   "id": "59afc8ee-d078-4473-8558-fa43c3211e45",
   "metadata": {},
   "source": [
    "## Step: Filter_calls"
   ]
  },
  {
   "cell_type": "markdown",
   "id": "087337ac-6dcb-49f7-b1ad-c5c49aa530bd",
   "metadata": {},
   "source": [
    "#### Filter and Clean Up Calls"
   ]
  },
  {
   "cell_type": "code",
   "execution_count": 89,
   "id": "17578c58-44ed-42db-856c-8d61fb0db02b",
   "metadata": {},
   "outputs": [
    {
     "name": "stdout",
     "output_type": "stream",
     "text": [
      ">>> {hisat3n_call} 09:11:53_02-25-2024\n",
      ">>> {filter_calls} 09:11:53_02-25-2024\n"
     ]
    }
   ],
   "source": [
    "in_path = mkpath(\"hisat3n_call\")\n",
    "out_path = mkpath(\"filter_calls\")"
   ]
  },
  {
   "cell_type": "markdown",
   "id": "97b82fef-6ed4-40fc-afeb-145f9b379564",
   "metadata": {},
   "source": [
    "Filter and keep calls for which methlyated reads (Unconverted C's) exceed unmethylated reads (Converted T's): `unconvertedBaseCount` > `ConvertedBaseCount`"
   ]
  },
  {
   "cell_type": "code",
   "execution_count": 81,
   "id": "1a2fc162-6fb5-4f0e-b820-be9553a969bc",
   "metadata": {},
   "outputs": [],
   "source": [
    "for sample in samples:\n",
    "    df = pd.read_csv(fname(in_path, sample,'tsv.gz'), sep='\\t', compression='gzip', low_memory=False, dtype={4: int, 6: int })\n",
    "    df_f = df[df['unconvertedBaseCount'] > df['convertedBaseCount']]\n",
    "    df_f.to_csv(fname(out_path,sample,'called.csv'), index=False)  # Set index=False "
   ]
  },
  {
   "cell_type": "markdown",
   "id": "b7bbf580-497c-49fc-b035-00087c0dd964",
   "metadata": {},
   "source": [
    "Filter calls out calls for which field `ref` starts with 'K' or 'G', which are not artifacts associated with scafolding and assembly and are not located on chr 1-22, X, Y or MT"
   ]
  },
  {
   "cell_type": "code",
   "execution_count": 82,
   "id": "1db619ad-3adf-4218-8751-614a6737d7f2",
   "metadata": {},
   "outputs": [],
   "source": [
    "for sample in samples:\n",
    "    ! grep -v '^[G|K]' {fname(out_path, sample,'called.csv')} > {fname(out_path, sample, 'tmp.csv')}\n",
    "    ! mv {fname(out_path, sample, 'tmp.csv')} {fname(out_path, sample,'called.csv')}"
   ]
  },
  {
   "cell_type": "markdown",
   "id": "355a355b-68e6-43d3-9f54-9d48b360b6b7",
   "metadata": {},
   "source": [
    "#### Analysis"
   ]
  },
  {
   "cell_type": "code",
   "execution_count": 83,
   "id": "68102dfb-f22c-46bb-a5cf-509433f30e90",
   "metadata": {},
   "outputs": [
    {
     "name": "stdout",
     "output_type": "stream",
     "text": [
      "total 46M\n",
      "-rw-rw-r-- 1 cdaniels cdaniels 13M Feb 25 08:31 t1.called.csv\n",
      "-rw-rw-r-- 1 cdaniels cdaniels 18M Feb 25 08:31 t2.called.csv\n",
      "-rw-rw-r-- 1 cdaniels cdaniels 16M Feb 25 08:31 t3.called.csv\n"
     ]
    }
   ],
   "source": [
    "!ls -lh {out_path}"
   ]
  },
  {
   "cell_type": "markdown",
   "id": "8a4e9df4-a777-4cc7-bf87-14528290bdb8",
   "metadata": {},
   "source": [
    "Make sure we removed artifacts"
   ]
  },
  {
   "cell_type": "code",
   "execution_count": 85,
   "id": "07644c33-3cc1-418b-99f7-7af707ec6597",
   "metadata": {},
   "outputs": [
    {
     "name": "stdout",
     "output_type": "stream",
     "text": [
      "Y,57213353,+,,0,F,1\n",
      "Y,57214057,-,,0,F,1\n",
      "Y,57216151,+,,0,F,1\n"
     ]
    }
   ],
   "source": [
    "!tail -3 {fname(out_path,'t1','called.csv')}"
   ]
  },
  {
   "cell_type": "markdown",
   "id": "ff0842d4-821b-4f14-b5ef-9352252f4e97",
   "metadata": {},
   "source": [
    "How many original "
   ]
  },
  {
   "cell_type": "code",
   "execution_count": null,
   "id": "0960cebb-5e91-40a5-b55d-49d4bcbc599e",
   "metadata": {},
   "outputs": [],
   "source": []
  },
  {
   "cell_type": "code",
   "execution_count": null,
   "id": "51ea8b79-9417-410a-88e3-69d7a9970044",
   "metadata": {},
   "outputs": [],
   "source": []
  },
  {
   "cell_type": "code",
   "execution_count": null,
   "id": "596e2995-49af-413e-9853-e39e24c1dca2",
   "metadata": {},
   "outputs": [],
   "source": []
  },
  {
   "cell_type": "code",
   "execution_count": null,
   "id": "91c7a8d9-45a2-45d0-8726-c7714bb4ed57",
   "metadata": {},
   "outputs": [],
   "source": []
  }
 ],
 "metadata": {
  "kernelspec": {
   "display_name": "Python 3 (ipykernel)",
   "language": "python",
   "name": "python3"
  },
  "language_info": {
   "codemirror_mode": {
    "name": "ipython",
    "version": 3
   },
   "file_extension": ".py",
   "mimetype": "text/x-python",
   "name": "python",
   "nbconvert_exporter": "python",
   "pygments_lexer": "ipython3",
   "version": "3.10.13"
  }
 },
 "nbformat": 4,
 "nbformat_minor": 5
}
