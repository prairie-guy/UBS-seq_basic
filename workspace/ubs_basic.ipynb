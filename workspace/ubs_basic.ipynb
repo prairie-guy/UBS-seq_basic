{
 "cells": [
  {
   "cell_type": "markdown",
   "id": "1336fe2c",
   "metadata": {},
   "source": [
    "# UBS-seq Pipeline\n",
    "## Basic Workflow"
   ]
  },
  {
   "cell_type": "markdown",
   "id": "f4f9191a",
   "metadata": {},
   "source": [
    "**C. Bryan Daniels**\n",
    "\n",
    "**2/1/2024**"
   ]
  },
  {
   "cell_type": "markdown",
   "id": "1153fdea-42ab-4a16-9376-aae40c035695",
   "metadata": {},
   "source": [
    "## Project: UBS-seq Basic Pipeline"
   ]
  },
  {
   "cell_type": "markdown",
   "id": "e1999833",
   "metadata": {},
   "source": [
    "The purpose of this project is run a minimally viable UBS-seq pipline. For simplicity, it will run several single-end samples, mapping only to the genome. The core steps of the pipeline are:\n",
    "- cut_apapter\n",
    "- quality_control\n",
    "- align2ref\n",
    "- sort2ref\n",
    "- dedupe\n",
    "- filter->all_multi_unique\n",
    "- call_peaks\n",
    "- select_groups\n",
    "- analysis_and_annotation\n",
    "\n",
    "This pipeline is based upon the paper by [Qing Dai, etal](https://doi.org/10.1038/s41587-023-02034-w) and the UBS-seq pipeline developed by [Chang Ye](https://github.com/y9c/m5C-UBSseq)\n",
    "\n"
   ]
  },
  {
   "cell_type": "markdown",
   "id": "db5933a4-a627-451d-abe7-7e68204c1d47",
   "metadata": {},
   "source": [
    "## Setup"
   ]
  },
  {
   "cell_type": "markdown",
   "id": "fd477b9e-5c7d-4c3c-8125-89644f367a8d",
   "metadata": {
    "jp-MarkdownHeadingCollapsed": true
   },
   "source": [
    "#### The logic for the Pipeline is defined through a series of Steps using dirs to save intermediate results\n",
    "1. For each **Step** in the pipeline a dir will be created and labeled **Step** and will contain all files created by that **Step**\n",
    "2. Within a **Step**, **in_path** and **out_path** will generically refer to the prior and current **Step**\n",
    "3. Within each **Step**, the appropriate processes will occur. Generally this involves processing files from **in_path** and saving to **out_path**\n",
    "4. **Abbreviated filenames** should not change through the pipeline (suffixes will reflect current file formats). The dir name should reflect the **Step**, not the filename.\n",
    "6. The function **mkpath(step)** returns a path for a dir **Step**. It will create a dir if need be, but not overwrite an existing dir\n",
    "8. The function **fname(path,sample,suffix)** returns a file name without actually creating the file"
   ]
  },
  {
   "cell_type": "markdown",
   "id": "13e28624-07ae-4a54-ba80-dfde893059bc",
   "metadata": {},
   "source": [
    "#### Environment"
   ]
  },
  {
   "cell_type": "code",
   "execution_count": 1,
   "id": "41e148d2",
   "metadata": {},
   "outputs": [],
   "source": [
    "import os, sys, subprocess\n",
    "import numpy as np\n",
    "import pandas as pd\n",
    "import matplotlib.pyplot as plt \n",
    "from pathlib import Path\n",
    "from IPython.display import display, HTML\n",
    "from snakemake import load_configfile"
   ]
  },
  {
   "cell_type": "code",
   "execution_count": 2,
   "id": "42cc293d-6fe9-45fc-a0cd-59b7dfffb18b",
   "metadata": {},
   "outputs": [],
   "source": [
    "def fname(path, base, sufix):\n",
    "    'Return a path and suffix complete filename'\n",
    "    return Path(path)/f\"{base}.{sufix}\"\n",
    "\n",
    "def mkpath(path):\n",
    "    'Return dir path name; creates (not over-writting) a new dir within the pwd'\n",
    "    path = Path(path)\n",
    "    if not os.path.exists(path): os.makedirs(path)\n",
    "    return path"
   ]
  },
  {
   "cell_type": "markdown",
   "id": "daf19bdc-0368-4ecf-98cf-785917a77577",
   "metadata": {},
   "source": [
    "#### Path References"
   ]
  },
  {
   "cell_type": "markdown",
   "id": "4951cf73-f77f-4bc0-8aab-4c5497aa3049",
   "metadata": {},
   "source": [
    "`Waring:` This notebook should be located and executed from within the directory `home_path/workspace/`\n",
    "\n",
    "`Note:` Github ignores the data/, workspace/ and reference directories, except for `.py` and `.ipynb` files"
   ]
  },
  {
   "cell_type": "code",
   "execution_count": 654,
   "id": "b02f60de-c362-4078-beba-82c870de2c78",
   "metadata": {},
   "outputs": [],
   "source": [
    "home_path      = Path.cwd()/'..'\n",
    "data_path      = home_path/'data'\n",
    "workspace_path = home_path/'workspace'"
   ]
  },
  {
   "cell_type": "markdown",
   "id": "9e069648-6080-4a32-8ade-8a631634a994",
   "metadata": {},
   "source": [
    "Use `config.yaml` to configure `references/`, but not samples in `data/`"
   ]
  },
  {
   "cell_type": "code",
   "execution_count": 655,
   "id": "0e9cbdfe-97bf-4c0d-9e86-ef93ad062c5d",
   "metadata": {
    "scrolled": true
   },
   "outputs": [],
   "source": [
    "config = load_configfile(\"../config.yaml\")"
   ]
  },
  {
   "cell_type": "code",
   "execution_count": 656,
   "id": "9fd3b929-b9ad-48ed-acf8-e9ec4cfe01dd",
   "metadata": {},
   "outputs": [],
   "source": [
    "genome_fa  = home_path/config['reference']['genome']['fa'].removeprefix('~/')\n",
    "genome_idx = home_path/config['reference']['genome']['hisat3n'].removeprefix('~/')"
   ]
  },
  {
   "cell_type": "code",
   "execution_count": 657,
   "id": "dbfc6989-8a84-4b33-ae5c-ee507af9442f",
   "metadata": {},
   "outputs": [],
   "source": [
    "#genome_fa = ref_path/'genome/Homo_sapiens.GRCh38.genome.fa'\n",
    "#genome_idx = ref_path/'index/hist3n/Homo_sapiens.GRCh38.genome'"
   ]
  },
  {
   "cell_type": "code",
   "execution_count": 658,
   "id": "ae9c5015",
   "metadata": {},
   "outputs": [],
   "source": [
    "# Add to shell PATH\n",
    "os.environ['PATH'] = f\"{str(home_path)}:\" + os.environ['PATH'] # home_path\n",
    "os.environ['PATH'] = '/home/cdaniels/bin/homer:' + os.environ['PATH'] # homer\n",
    "os.environ['PATH'] = '/home/cdaniels/bin/hisat-3n:' + os.environ['PATH'] # hisat-3n"
   ]
  },
  {
   "cell_type": "code",
   "execution_count": 659,
   "id": "889270cf-bf90-4da3-90fe-397d8d0b57f3",
   "metadata": {},
   "outputs": [
    {
     "data": {
      "text/plain": [
       "32"
      ]
     },
     "execution_count": 659,
     "metadata": {},
     "output_type": "execute_result"
    }
   ],
   "source": [
    "# Number of cores                                                                                                                                                                                               \n",
    "nc = get_ipython().getoutput('nproc')                                                                                                                                                                           \n",
    "nc = int(nc[0])                                                                                                                                                                                                 \n",
    "nc  "
   ]
  },
  {
   "cell_type": "markdown",
   "id": "f8499228-734a-4c2c-ad0a-deab43ae64c7",
   "metadata": {},
   "source": [
    "#### Functions"
   ]
  },
  {
   "cell_type": "code",
   "execution_count": 9,
   "id": "46c1ab4f-937a-4b6a-a09d-a34462da366b",
   "metadata": {},
   "outputs": [],
   "source": [
    "def nlines(file):\n",
    "    'Returns fast linecout (fast)'\n",
    "    result = subprocess.run(['wc', '-l', file], stdout=subprocess.PIPE)\n",
    "    n = int(result.stdout.split()[0])\n",
    "    return n"
   ]
  },
  {
   "cell_type": "code",
   "execution_count": 10,
   "id": "ed22df72-94d2-412d-bf77-67e25b974acc",
   "metadata": {},
   "outputs": [],
   "source": [
    "def nseqs(bam_fastq):\n",
    "    'Returns number of sequences in bam, sam, fasta or fastq file'\n",
    "    n = !samtools view -c {bam_fastq}\n",
    "    return int(n[0])"
   ]
  },
  {
   "cell_type": "code",
   "execution_count": 11,
   "id": "db7b2623-6c8a-465f-97af-1cd3e358849b",
   "metadata": {},
   "outputs": [],
   "source": [
    "def samples_string(samples,path,suffix='bam'):\n",
    "    'Returns a space delimited string of sample files'\n",
    "    return \" \".join([str(fname(path,sample,suffix)) for sample in samples])    "
   ]
  },
  {
   "cell_type": "code",
   "execution_count": 12,
   "id": "f9ffe35a",
   "metadata": {},
   "outputs": [],
   "source": [
    "def make_table(ds1, ds2, ds1_name, ds2_name, y_label=None, xs_labels=None, table_label=None):\n",
    "    'Makes a bar graph comparing two datasets and their corresponding names'\n",
    "    assert(len(ds1)==len(ds2))\n",
    "    n = np.arange(len(ds1))\n",
    "    width = 0.35\n",
    "    fig, ax = plt.subplots()\n",
    "    rects1 = ax.bar(n - width/2, ds1, width, label=ds1_name)\n",
    "    rects2 = ax.bar(n + width/2, ds2, width,label=ds2_name)\n",
    "    ax.set_ylabel(y_label)\n",
    "    ax.set_title(table_label)\n",
    "    ax.set_xticks(n)\n",
    "    ax.set_xticklabels(range(1,len(ds1)+1)) if xs_labels == None else ax.set_xticklabels(xs_labels)\n",
    "    ax.legend()\n",
    "    plt.show()"
   ]
  },
  {
   "cell_type": "code",
   "execution_count": 13,
   "id": "a7b59797-ffd0-4d1c-947e-45f07e301a2a",
   "metadata": {},
   "outputs": [],
   "source": [
    "def make_histogram(ds, ds_name, table_label=None, y_label=\"Frequency\", density=True):\n",
    "    'Makes a histogram for a dataset and its name'\n",
    "    fig, ax = plt.subplots()\n",
    "    ax.hist(ds, density=density)\n",
    "    ax.set_ylabel(y_label)\n",
    "    ax.set_xlabel(ds_name)\n",
    "    if table_label is not None:\n",
    "        ax.set_title(table_label)\n",
    "    plt.show()"
   ]
  },
  {
   "cell_type": "markdown",
   "id": "a21c1f30-2663-4aa7-9e81-fd90a96b92e5",
   "metadata": {},
   "source": [
    "## Step: select_samples"
   ]
  },
  {
   "cell_type": "markdown",
   "id": "cf0c6fbb-a4b9-4a0c-97d2-80646efb627e",
   "metadata": {},
   "source": [
    "#### Select Samples and Filenames"
   ]
  },
  {
   "cell_type": "code",
   "execution_count": 71,
   "id": "d73f04c9-8803-4e6f-8336-a53a40d78bab",
   "metadata": {
    "scrolled": true
   },
   "outputs": [],
   "source": [
    "out_path = mkpath('samples')"
   ]
  },
  {
   "cell_type": "markdown",
   "id": "1245b4d6-d147-423a-8d74-038e689e960e",
   "metadata": {},
   "source": [
    "#### Project definitions for treated samples, control samples"
   ]
  },
  {
   "cell_type": "code",
   "execution_count": 72,
   "id": "67bbf37a-e8c4-4f9f-a267-251bed3f485f",
   "metadata": {},
   "outputs": [],
   "source": [
    "# short sample names\n",
    "treated = [\"t1\",\"t2\",\"t3\"] # Edit\n",
    "control = [] # Edit\n",
    "samples = treated + control"
   ]
  },
  {
   "cell_type": "code",
   "execution_count": 73,
   "id": "32c7d8e1-0b1b-495e-af19-7de635060e12",
   "metadata": {},
   "outputs": [
    {
     "data": {
      "text/plain": [
       "['t1', 't2', 't3']"
      ]
     },
     "execution_count": 73,
     "metadata": {},
     "output_type": "execute_result"
    }
   ],
   "source": [
    "samples"
   ]
  },
  {
   "cell_type": "code",
   "execution_count": 74,
   "id": "a1738eec-e76c-4104-858a-5319359818a5",
   "metadata": {},
   "outputs": [],
   "source": [
    "# sample filenames\n",
    "samples_fn = [data_path/'test0_R1.fq.gz', data_path/'test1_R1.fq.gz', data_path/'test2_R1.fq.gz']"
   ]
  },
  {
   "cell_type": "code",
   "execution_count": 75,
   "id": "f98ef3fd-e6fc-442d-9147-d2ab1dc04074",
   "metadata": {},
   "outputs": [
    {
     "data": {
      "text/plain": [
       "{'t1': PosixPath('/home/cdaniels/uofc_data/ubs_seq/UBS-seq_basic/workspace/../data/test0_R1.fq.gz'),\n",
       " 't2': PosixPath('/home/cdaniels/uofc_data/ubs_seq/UBS-seq_basic/workspace/../data/test1_R1.fq.gz'),\n",
       " 't3': PosixPath('/home/cdaniels/uofc_data/ubs_seq/UBS-seq_basic/workspace/../data/test2_R1.fq.gz')}"
      ]
     },
     "execution_count": 75,
     "metadata": {},
     "output_type": "execute_result"
    }
   ],
   "source": [
    "# dict\n",
    "s2fn = {name: fname for (name,fname) in zip(samples,samples_fn)};\n",
    "s2fn"
   ]
  },
  {
   "cell_type": "code",
   "execution_count": 81,
   "id": "4c84cd58-777e-4645-bac1-5a3c549ad8dd",
   "metadata": {},
   "outputs": [],
   "source": [
    "for (s,fn) in s2fn.items():\n",
    "    ! ln -s {data_path/fn} {fname(out_path,s,\"fq.gz\")}"
   ]
  },
  {
   "cell_type": "markdown",
   "id": "2e11be53",
   "metadata": {},
   "source": [
    "Check that the files look correct"
   ]
  },
  {
   "cell_type": "code",
   "execution_count": 82,
   "id": "25371f62",
   "metadata": {},
   "outputs": [
    {
     "name": "stdout",
     "output_type": "stream",
     "text": [
      "t1.fq.gz  t2.fq.gz  t3.fq.gz\n"
     ]
    }
   ],
   "source": [
    "!ls  {out_path}"
   ]
  },
  {
   "cell_type": "markdown",
   "id": "6c7307e9-bcb8-4515-be28-da83ddd2649a",
   "metadata": {},
   "source": [
    "How many sequence reads do we have per Sample"
   ]
  },
  {
   "cell_type": "code",
   "execution_count": 83,
   "id": "113b16b9-601a-4b74-83e7-12d25a9af329",
   "metadata": {},
   "outputs": [
    {
     "name": "stdout",
     "output_type": "stream",
     "text": [
      "samples/t1.fq.gz: 935,632\n",
      "samples/t2.fq.gz: 1,365,245\n",
      "samples/t3.fq.gz: 1,183,321\n"
     ]
    }
   ],
   "source": [
    "# Total Reads per Samples\n",
    "files = [fname(out_path,sample, \"fq.gz\") for sample in samples]\n",
    "for f in files:\n",
    "    ns = nseqs(f)\n",
    "    print(f\"{f}: {ns:,}\")"
   ]
  },
  {
   "cell_type": "markdown",
   "id": "41fb4092-ae2c-4081-8658-300b9f3ffab8",
   "metadata": {},
   "source": [
    "## Step: fastqc_pre"
   ]
  },
  {
   "cell_type": "markdown",
   "id": "e95850c4-5827-459f-bbf9-04cad8347377",
   "metadata": {},
   "source": [
    "#### Pre Trimming Quality Control"
   ]
  },
  {
   "cell_type": "code",
   "execution_count": 173,
   "id": "20a87550-8f06-4d37-9c01-025dc8135790",
   "metadata": {},
   "outputs": [],
   "source": [
    "in_path = mkpath(\"samples\")\n",
    "out_path = mkpath(\"fastqc_pre\")"
   ]
  },
  {
   "cell_type": "markdown",
   "id": "16857b29-a33c-424a-a224-22142e6d2e13",
   "metadata": {},
   "source": [
    "#### fastqc"
   ]
  },
  {
   "cell_type": "code",
   "execution_count": 174,
   "id": "c0dd3668-5561-44c7-b2ea-b903ebc1737e",
   "metadata": {
    "scrolled": true
   },
   "outputs": [
    {
     "name": "stdout",
     "output_type": "stream",
     "text": [
      "\n",
      "            FastQC - A high throughput sequence QC analysis tool\n",
      "\n",
      "SYNOPSIS\n",
      "\n",
      "\tfastqc seqfile1 seqfile2 .. seqfileN\n",
      "\n",
      "    fastqc [-o output dir] [--(no)extract] [-f fastq|bam|sam] \n",
      "           [-c contaminant file] seqfile1 .. seqfileN\n",
      "\n",
      "DESCRIPTION\n",
      "\n",
      "    FastQC reads a set of sequence files and produces from each one a quality\n",
      "    control report consisting of a number of different modules, each one of \n",
      "    which will help to identify a different potential type of problem in your\n",
      "    data.\n",
      "    \n",
      "    If no files to process are specified on the command line then the program\n",
      "    will start as an interactive graphical application.  If files are provided\n",
      "    on the command line then the program will run with no user interaction\n",
      "    required.  In this mode it is suitable for inclusion into a standardised\n",
      "    analysis pipeline.\n",
      "    \n",
      "    The options for the program as as follows:\n",
      "    \n",
      "    -h --help       Print this help file and exit\n",
      "    \n",
      "    -v --version    Print the version of the program and exit\n",
      "    \n",
      "    -o --outdir     Create all output files in the specified output directory.\n",
      "                    Please note that this directory must exist as the program\n",
      "                    will not create it.  If this option is not set then the \n",
      "                    output file for each sequence file is created in the same\n",
      "                    directory as the sequence file which was processed.\n",
      "                    \n",
      "    --casava        Files come from raw casava output. Files in the same sample\n",
      "                    group (differing only by the group number) will be analysed\n",
      "                    as a set rather than individually. Sequences with the filter\n",
      "                    flag set in the header will be excluded from the analysis.\n",
      "                    Files must have the same names given to them by casava\n",
      "                    (including being gzipped and ending with .gz) otherwise they\n",
      "                    won't be grouped together correctly.\n",
      "                    \n",
      "    --nano          Files come from nanopore sequences and are in fast5 format. In\n",
      "                    this mode you can pass in directories to process and the program\n",
      "                    will take in all fast5 files within those directories and produce\n",
      "                    a single output file from the sequences found in all files.                    \n",
      "                    \n",
      "    --nofilter      If running with --casava then don't remove read flagged by\n",
      "                    casava as poor quality when performing the QC analysis.\n",
      "                   \n",
      "    --extract       If set then the zipped output file will be uncompressed in\n",
      "                    the same directory after it has been created. If --delete is \n",
      "                    also specified then the zip file will be removed after the \n",
      "                    contents are unzipped. \n",
      "                    \n",
      "    -j --java       Provides the full path to the java binary you want to use to\n",
      "                    launch fastqc. If not supplied then java is assumed to be in\n",
      "                    your path.\n",
      "                   \n",
      "    --noextract     Do not uncompress the output file after creating it.  You\n",
      "                    should set this option if you do not wish to uncompress\n",
      "                    the output when running in non-interactive mode.\n",
      "                    \n",
      "    --nogroup       Disable grouping of bases for reads >50bp. All reports will\n",
      "                    show data for every base in the read.  WARNING: Using this\n",
      "                    option will cause fastqc to crash and burn if you use it on\n",
      "                    really long reads, and your plots may end up a ridiculous size.\n",
      "                    You have been warned!\n",
      "                    \n",
      "    --min_length    Sets an artificial lower limit on the length of the sequence\n",
      "                    to be shown in the report.  As long as you set this to a value\n",
      "                    greater or equal to your longest read length then this will be\n",
      "                    the sequence length used to create your read groups.  This can\n",
      "                    be useful for making directly comaparable statistics from \n",
      "                    datasets with somewhat variable read lengths.\n",
      "\n",
      "    --dup_length    Sets a length to which the sequences will be truncated when \n",
      "                    defining them to be duplicates, affecting the duplication and\n",
      "                    overrepresented sequences plot.  This can be useful if you have\n",
      "                    long reads with higher levels of miscalls, or contamination with\n",
      "                    adapter dimers containing UMI sequences.\n",
      "\n",
      "                    \n",
      "    -f --format     Bypasses the normal sequence file format detection and\n",
      "                    forces the program to use the specified format.  Valid\n",
      "                    formats are bam,sam,bam_mapped,sam_mapped and fastq\n",
      "                    \n",
      "\n",
      "    --memory        Sets the base amount of memory, in Megabytes, used to process \n",
      "                    each file.  Defaults to 512MB.  You may need to increase this if\n",
      "                    you have a file with very long sequences in it.\n",
      "                \n",
      "    --svg           Save the graphs in the report in SVG format.\n",
      "\n",
      "    -t --threads    Specifies the number of files which can be processed\n",
      "                    simultaneously.  Each thread will be allocated 250MB of\n",
      "                    memory so you shouldn't run more threads than your\n",
      "                    available memory will cope with, and not more than\n",
      "                    6 threads on a 32 bit machine\n",
      "                  \n",
      "    -c              Specifies a non-default file which contains the list of\n",
      "    --contaminants  contaminants to screen overrepresented sequences against.\n",
      "                    The file must contain sets of named contaminants in the\n",
      "                    form name[tab]sequence.  Lines prefixed with a hash will\n",
      "                    be ignored.\n",
      "\n",
      "    -a              Specifies a non-default file which contains the list of\n",
      "    --adapters      adapter sequences which will be explicity searched against\n",
      "                    the library. The file must contain sets of named adapters\n",
      "                    in the form name[tab]sequence.  Lines prefixed with a hash\n",
      "                    will be ignored.\n",
      "                    \n",
      "    -l              Specifies a non-default file which contains a set of criteria\n",
      "    --limits        which will be used to determine the warn/error limits for the\n",
      "                    various modules.  This file can also be used to selectively \n",
      "                    remove some modules from the output all together.  The format\n",
      "                    needs to mirror the default limits.txt file found in the\n",
      "                    Configuration folder.\n",
      "                    \n",
      "   -k --kmers       Specifies the length of Kmer to look for in the Kmer content\n",
      "                    module. Specified Kmer length must be between 2 and 10. Default\n",
      "                    length is 7 if not specified.\n",
      "                    \n",
      "   -q --quiet       Suppress all progress messages on stdout and only report errors.\n",
      "   \n",
      "   -d --dir         Selects a directory to be used for temporary files written when\n",
      "                    generating report images. Defaults to system temp directory if\n",
      "                    not specified.\n",
      "                    \n",
      "BUGS\n",
      "\n",
      "    Any bugs in fastqc should be reported either to simon.andrews@babraham.ac.uk\n",
      "    or in www.bioinformatics.babraham.ac.uk/bugzilla/\n",
      "                   \n",
      "    \n"
     ]
    }
   ],
   "source": [
    "! fastqc --help"
   ]
  },
  {
   "cell_type": "markdown",
   "id": "eb840f81-7880-47b5-aab1-b6017da470e3",
   "metadata": {},
   "source": [
    "##### paramaters:\n",
    "- -o output dir"
   ]
  },
  {
   "cell_type": "code",
   "execution_count": 175,
   "id": "f0f6379b-63d0-4ed9-b3c7-c01accd81bb4",
   "metadata": {},
   "outputs": [
    {
     "name": "stdout",
     "output_type": "stream",
     "text": [
      "application/gzip\n",
      "Analysis complete for t1.fq.gz\n",
      "application/gzip\n",
      "Analysis complete for t2.fq.gz\n",
      "application/gzip\n",
      "Analysis complete for t3.fq.gz\n"
     ]
    }
   ],
   "source": [
    "for sample in samples:\n",
    "    ! fastqc {fname(in_path,sample,\"fq.gz\")} -o {out_path} 2> /dev/null"
   ]
  },
  {
   "cell_type": "code",
   "execution_count": 176,
   "id": "f009c6d6-c2d9-4b1c-b628-53e2ce7ba2d9",
   "metadata": {},
   "outputs": [
    {
     "name": "stdout",
     "output_type": "stream",
     "text": [
      "t1_fastqc.html\tt2_fastqc.html\tt3_fastqc.html\n",
      "t1_fastqc.zip\tt2_fastqc.zip\tt3_fastqc.zip\n"
     ]
    }
   ],
   "source": [
    "! ls {out_path}"
   ]
  },
  {
   "cell_type": "markdown",
   "id": "51157b74",
   "metadata": {},
   "source": [
    "## Step: trimmed"
   ]
  },
  {
   "cell_type": "markdown",
   "id": "c1731c31-b9b1-4a09-b964-3dece49e1910",
   "metadata": {},
   "source": [
    "#### Trim the adapter and downstream sequence as well as trimmng lower quality downstream sequence"
   ]
  },
  {
   "cell_type": "code",
   "execution_count": 543,
   "id": "8b898be1",
   "metadata": {},
   "outputs": [],
   "source": [
    "in_path = mkpath(\"samples\")\n",
    "out_path = mkpath(\"trimmed\")"
   ]
  },
  {
   "cell_type": "code",
   "execution_count": 545,
   "id": "632eaa99",
   "metadata": {},
   "outputs": [],
   "source": [
    "adapter =  \"AGATCGGAAGAGCACACGTCT\"\n",
    "barcode3 = \"ATCACG\"\n",
    "#adapter = \"AGATCGGAAGAGCACACGTCTGAACTCCAG\"\n",
    "#barcode3 = \"TATCACGATCACG\""
   ]
  },
  {
   "cell_type": "code",
   "execution_count": 546,
   "id": "e73ebe78-4020-4894-8c0c-3239aee02330",
   "metadata": {},
   "outputs": [
    {
     "name": "stdout",
     "output_type": "stream",
     "text": [
      "t1.fq.gz  t1.fq.gz_trimming_report.txt\tt2.fq.gz  t3.fq.gz\n"
     ]
    }
   ],
   "source": [
    "!ls {in_path}"
   ]
  },
  {
   "cell_type": "markdown",
   "id": "ca715978-8029-4cfe-a74c-765eb8ed882f",
   "metadata": {},
   "source": [
    "#### cutadapt"
   ]
  },
  {
   "cell_type": "markdown",
   "id": "51c5bf75-0af1-40c7-ba4a-1265587753b9",
   "metadata": {
    "scrolled": true
   },
   "source": [
    "```\n",
    "cutadapt -j {threads} \n",
    "            -n 2 \n",
    "            -a \"{params.barcode3}{params.adapter3};e=0.15;o=6;anywhere;\" \n",
    "            --untrimmed-output={output.fastq_untrimmed} \n",
    "            -o - {input} 2>{output.report1} | \n",
    "cutadapt -j {threads} \n",
    "            -u 5 -u -5 \n",
    "            --rename='{{id}}_{{cut_prefix}}{{cut_suffix}} {{comment}}' \n",
    "            --max-n=0 \n",
    "            -q 15 \n",
    "            --nextseq-trim=15 \n",
    "            -m 20 \n",
    "            --too-short-output={output.fastq_tooshort} \n",
    "            -o {output.fastq_cut} - >{output.report2}\n",
    "```"
   ]
  },
  {
   "cell_type": "markdown",
   "id": "61d94569-8947-497c-8641-59e0f790ce60",
   "metadata": {},
   "source": [
    "https://cutadapt.readthedocs.io/en/stable/guide.html"
   ]
  },
  {
   "cell_type": "code",
   "execution_count": 547,
   "id": "bbb14bd9",
   "metadata": {
    "scrolled": true
   },
   "outputs": [
    {
     "name": "stdout",
     "output_type": "stream",
     "text": [
      "cutadapt version 4.6\n",
      "\n",
      "Copyright (C) 2010 Marcel Martin <marcel.martin@scilifelab.se> and contributors\n",
      "\n",
      "Cutadapt removes adapter sequences from high-throughput sequencing reads.\n",
      "\n",
      "Usage:\n",
      "    cutadapt -a ADAPTER [options] [-o output.fastq] input.fastq\n",
      "\n",
      "For paired-end reads:\n",
      "    cutadapt -a ADAPT1 -A ADAPT2 [options] -o out1.fastq -p out2.fastq in1.fastq in2.fastq\n",
      "\n",
      "Replace \"ADAPTER\" with the actual sequence of your 3' adapter. IUPAC wildcard\n",
      "characters are supported. All reads from input.fastq will be written to\n",
      "output.fastq with the adapter sequence removed. Adapter matching is\n",
      "error-tolerant. Multiple adapter sequences can be given (use further -a\n",
      "options), but only the best-matching adapter will be removed.\n",
      "\n",
      "Input may also be in FASTA format. Compressed input and output is supported and\n",
      "auto-detected from the file name (.gz, .xz, .bz2). Use the file name '-' for\n",
      "standard input/output. Without the -o option, output is sent to standard output.\n",
      "\n",
      "Citation:\n",
      "\n",
      "Marcel Martin. Cutadapt removes adapter sequences from high-throughput\n",
      "sequencing reads. EMBnet.Journal, 17(1):10-12, May 2011.\n",
      "http://dx.doi.org/10.14806/ej.17.1.200\n",
      "\n",
      "Run \"cutadapt --help\" to see all command-line options.\n",
      "See https://cutadapt.readthedocs.io/ for full documentation.\n",
      "\n",
      "Options:\n",
      "  -h, --help            Show this help message and exit\n",
      "  --version             Show version number and exit\n",
      "  --debug               Print debug log. Use twice to also print DP matrices\n",
      "  -j CORES, --cores CORES\n",
      "                        Number of CPU cores to use. Use 0 to auto-detect.\n",
      "                        Default: 1\n",
      "\n",
      "Finding adapters:\n",
      "  Parameters -a, -g, -b specify adapters to be removed from each read (or from\n",
      "  R1 if data is paired-end. If specified multiple times, only the best\n",
      "  matching adapter is trimmed (but see the --times option). Use notation\n",
      "  'file:FILE' to read adapter sequences from a FASTA file.\n",
      "\n",
      "  -a ADAPTER, --adapter ADAPTER\n",
      "                        Sequence of an adapter ligated to the 3' end (paired\n",
      "                        data: of the first read). The adapter and subsequent\n",
      "                        bases are trimmed. If a '$' character is appended\n",
      "                        ('anchoring'), the adapter is only found if it is a\n",
      "                        suffix of the read.\n",
      "  -g ADAPTER, --front ADAPTER\n",
      "                        Sequence of an adapter ligated to the 5' end (paired\n",
      "                        data: of the first read). The adapter and any preceding\n",
      "                        bases are trimmed. Partial matches at the 5' end are\n",
      "                        allowed. If a '^' character is prepended ('anchoring'),\n",
      "                        the adapter is only found if it is a prefix of the read.\n",
      "  -b ADAPTER, --anywhere ADAPTER\n",
      "                        Sequence of an adapter that may be ligated to the 5' or\n",
      "                        3' end (paired data: of the first read). Both types of\n",
      "                        matches as described under -a and -g are allowed. If the\n",
      "                        first base of the read is part of the match, the\n",
      "                        behavior is as with -g, otherwise as with -a. This\n",
      "                        option is mostly for rescuing failed library\n",
      "                        preparations - do not use if you know which end your\n",
      "                        adapter was ligated to!\n",
      "  -e E, --error-rate E, --errors E\n",
      "                        Maximum allowed error rate (if 0 <= E < 1), or absolute\n",
      "                        number of errors for full-length adapter match (if E is\n",
      "                        an integer >= 1). Error rate = no. of errors divided by\n",
      "                        length of matching region. Default: 0.1 (10%)\n",
      "  --no-indels           Allow only mismatches in alignments. Default: allow both\n",
      "                        mismatches and indels\n",
      "  -n COUNT, --times COUNT\n",
      "                        Remove up to COUNT adapters from each read. Default: 1\n",
      "  -O MINLENGTH, --overlap MINLENGTH\n",
      "                        Require MINLENGTH overlap between read and adapter for\n",
      "                        an adapter to be found. Default: 3\n",
      "  --match-read-wildcards\n",
      "                        Interpret IUPAC wildcards in reads. Default: False\n",
      "  -N, --no-match-adapter-wildcards\n",
      "                        Do not interpret IUPAC wildcards in adapters.\n",
      "  --action {trim,retain,mask,lowercase,none}\n",
      "                        What to do if a match was found. trim: trim adapter and\n",
      "                        up- or downstream sequence; retain: trim, but retain\n",
      "                        adapter; mask: replace with 'N' characters; lowercase:\n",
      "                        convert to lowercase; none: leave unchanged. Default:\n",
      "                        trim\n",
      "  --rc, --revcomp       Check both the read and its reverse complement for\n",
      "                        adapter matches. If match is on reverse-complemented\n",
      "                        version, output that one. Default: check only read\n",
      "\n",
      "Additional read modifications:\n",
      "  -u LEN, --cut LEN     Remove LEN bases from each read (or R1 if paired; use -U\n",
      "                        option for R2). If LEN is positive, remove bases from\n",
      "                        the beginning. If LEN is negative, remove bases from the\n",
      "                        end. Can be used twice if LENs have different signs.\n",
      "                        Applied *before* adapter trimming.\n",
      "  --nextseq-trim 3'CUTOFF\n",
      "                        NextSeq-specific quality trimming (each read). Trims\n",
      "                        also dark cycles appearing as high-quality G bases.\n",
      "  -q [5'CUTOFF,]3'CUTOFF, --quality-cutoff [5'CUTOFF,]3'CUTOFF\n",
      "                        Trim low-quality bases from 5' and/or 3' ends of each\n",
      "                        read before adapter removal. Applied to both reads if\n",
      "                        data is paired. If one value is given, only the 3' end\n",
      "                        is trimmed. If two comma-separated cutoffs are given,\n",
      "                        the 5' end is trimmed with the first cutoff, the 3' end\n",
      "                        with the second.\n",
      "  --quality-base N      Assume that quality values in FASTQ are encoded as\n",
      "                        ascii(quality + N). This needs to be set to 64 for some\n",
      "                        old Illumina FASTQ files. Default: 33\n",
      "  --poly-a              Trim poly-A tails\n",
      "  --length LENGTH, -l LENGTH\n",
      "                        Shorten reads to LENGTH. Positive values remove bases at\n",
      "                        the end while negative ones remove bases at the\n",
      "                        beginning. This and the following modifications are\n",
      "                        applied after adapter trimming.\n",
      "  --trim-n              Trim N's on ends of reads.\n",
      "  --length-tag TAG      Search for TAG followed by a decimal number in the\n",
      "                        description field of the read. Replace the decimal\n",
      "                        number with the correct length of the trimmed read. For\n",
      "                        example, use --length-tag 'length=' to correct fields\n",
      "                        like 'length=123'.\n",
      "  --strip-suffix STRIP_SUFFIX\n",
      "                        Remove this suffix from read names if present. Can be\n",
      "                        given multiple times.\n",
      "  -x PREFIX, --prefix PREFIX\n",
      "                        Add this prefix to read names. Use {name} to insert the\n",
      "                        name of the matching adapter.\n",
      "  -y SUFFIX, --suffix SUFFIX\n",
      "                        Add this suffix to read names; can also include {name}\n",
      "  --rename TEMPLATE     Rename reads using TEMPLATE containing variables such as\n",
      "                        {id}, {adapter_name} etc. (see documentation)\n",
      "  --zero-cap, -z        Change negative quality values to zero.\n",
      "\n",
      "Filtering of processed reads:\n",
      "  Filters are applied after above read modifications. Paired-end reads are\n",
      "  always discarded pairwise (see also --pair-filter).\n",
      "\n",
      "  -m LEN[:LEN2], --minimum-length LEN[:LEN2]\n",
      "                        Discard reads shorter than LEN. Default: 0\n",
      "  -M LEN[:LEN2], --maximum-length LEN[:LEN2]\n",
      "                        Discard reads longer than LEN. Default: no limit\n",
      "  --max-n COUNT         Discard reads with more than COUNT 'N' bases. If COUNT\n",
      "                        is a number between 0 and 1, it is interpreted as a\n",
      "                        fraction of the read length.\n",
      "  --max-expected-errors ERRORS, --max-ee ERRORS\n",
      "                        Discard reads whose expected number of errors (computed\n",
      "                        from quality values) exceeds ERRORS.\n",
      "  --max-average-error-rate ERROR_RATE, --max-aer ERROR_RATE\n",
      "                        as --max-expected-errors (see above), but divided by\n",
      "                        length to account for reads of varying length.\n",
      "  --discard-trimmed, --discard\n",
      "                        Discard reads that contain an adapter. Use also -O to\n",
      "                        avoid discarding too many randomly matching reads.\n",
      "  --discard-untrimmed, --trimmed-only\n",
      "                        Discard reads that do not contain an adapter.\n",
      "  --discard-casava      Discard reads that did not pass CASAVA filtering (header\n",
      "                        has :Y:).\n",
      "\n",
      "Output:\n",
      "  --quiet               Print only error messages.\n",
      "  --report {full,minimal}\n",
      "                        Which type of report to print: 'full' or 'minimal'.\n",
      "                        Default: full\n",
      "  --json FILE           Dump report in JSON format to FILE\n",
      "  -o FILE, --output FILE\n",
      "                        Write trimmed reads to FILE. FASTQ or FASTA format is\n",
      "                        chosen depending on input. Summary report is sent to\n",
      "                        standard output. Use '{name}' for demultiplexing (see\n",
      "                        docs). Default: write to standard output\n",
      "  --fasta               Output FASTA to standard output even on FASTQ input.\n",
      "  -Z                    Use compression level 1 for gzipped output files\n",
      "                        (faster, but uses more space)\n",
      "  --info-file FILE      Write information about each read and its adapter\n",
      "                        matches into FILE. See the documentation for the file\n",
      "                        format.\n",
      "  -r FILE, --rest-file FILE\n",
      "                        When the adapter matches in the middle of a read, write\n",
      "                        the rest (after the adapter) to FILE.\n",
      "  --wildcard-file FILE  When the adapter has N wildcard bases, write adapter\n",
      "                        bases matching wildcard positions to FILE. (Inaccurate\n",
      "                        with indels.)\n",
      "  --too-short-output FILE\n",
      "                        Write reads that are too short (according to length\n",
      "                        specified by -m) to FILE. Default: discard reads\n",
      "  --too-long-output FILE\n",
      "                        Write reads that are too long (according to length\n",
      "                        specified by -M) to FILE. Default: discard reads\n",
      "  --untrimmed-output FILE\n",
      "                        Write reads that do not contain any adapter to FILE.\n",
      "                        Default: output to same file as trimmed reads\n",
      "\n",
      "Paired-end options:\n",
      "  The -A/-G/-B/-U/-Q options work like their lowercase counterparts, but are\n",
      "  applied to R2 (second read in pair)\n",
      "\n",
      "  -A ADAPTER            3' adapter to be removed from R2\n",
      "  -G ADAPTER            5' adapter to be removed from R2\n",
      "  -B ADAPTER            5'/3 adapter to be removed from R2\n",
      "  -U LENGTH             Remove LENGTH bases from R2\n",
      "  -Q [5'CUTOFF,]3'CUTOFF\n",
      "                        Quality-trimming cutoff for R2. Default: same as for R1\n",
      "  -p FILE, --paired-output FILE\n",
      "                        Write R2 to FILE.\n",
      "  --pair-adapters       Treat adapters given with -a/-A etc. as pairs. Either\n",
      "                        both or none are removed from each read pair.\n",
      "  --pair-filter {any,both,first}\n",
      "                        Which of the reads in a paired-end read have to match\n",
      "                        the filtering criterion in order for the pair to be\n",
      "                        filtered. Default: any\n",
      "  --interleaved         Read and/or write interleaved paired-end reads.\n",
      "  --untrimmed-paired-output FILE\n",
      "                        Write second read in a pair to this FILE when no adapter\n",
      "                        was found. Use with --untrimmed-output. Default: output\n",
      "                        to same file as trimmed reads\n",
      "  --too-short-paired-output FILE\n",
      "                        Write second read in a pair to this file if pair is too\n",
      "                        short.\n",
      "  --too-long-paired-output FILE\n",
      "                        Write second read in a pair to this file if pair is too\n",
      "                        long.\n"
     ]
    }
   ],
   "source": [
    "! cutadapt --help"
   ]
  },
  {
   "cell_type": "markdown",
   "id": "cd81c901-05a6-4b85-9dc2-2c2201af649d",
   "metadata": {},
   "source": [
    "##### paramaters:\n",
    "- -j 0, Number of CPU. Use 0 to autodetect\n",
    "- --nextseq-trim=15, is used to trim these low-quality tails of 'G's by introducing a variable quality threshold\n",
    "- --action=trim, trim adapter and downstream sequence\n",
    "- -a '{barcode3}{adapter};e=0.15;o=6;anywhere;', \n",
    "- -n 2, Remove up to COUNT adapters from each read. Default: 1\n",
    "- -u 5 -u -5, Remove LEN bases from each read. If positve, from beginning. If negative, from end\n",
    "- --max-n=0, Discard reads with more than COUNT 'N' bases (here any)\n",
    "- -q 15, Trim low-quality bases from 5' end of eachread before adapter removal.\n",
    "- -m 20, Discard reads shorter than LEN\n",
    "- --rename='{{id}}_{{cut_prefix}}{{cut_suffix}} {{comment}}', rename comment of fastq record\n",
    "- --too-short-output={fname(out_path,sample,\"fastq_tooshort\")},\n",
    "- -o {fname(out_path,sample,\"fq.gz\")}, output file\n",
    "{fname(in_path,sample,\"fq.gz\")}, input file"
   ]
  },
  {
   "cell_type": "code",
   "execution_count": 548,
   "id": "c556375c-0e45-402f-b5fe-6418606482ca",
   "metadata": {},
   "outputs": [
    {
     "name": "stdout",
     "output_type": "stream",
     "text": [
      "Done           00:00:02     1,872,556 reads @   1.3 µs/read;  46.85 M reads/minute\n",
      "Done           00:00:03     2,732,849 reads @   1.2 µs/read;  51.66 M reads/minute\n",
      "Done           00:00:02     2,368,579 reads @   1.2 µs/read;  50.55 M reads/minute\n"
     ]
    }
   ],
   "source": [
    "for sample in samples:\n",
    "    !cutadapt -j 0 --nextseq-trim=15 --action=trim -a '{barcode3}{adapter};e=0.15;o=6;anywhere;'\\\n",
    "            -n 2 -u 5 -u -5 --max-n=0 -q 15 -m 20 -l 80\\\n",
    "            --rename='{{id}}_{{cut_prefix}}{{cut_suffix}} {{comment}}'\\\n",
    "            --too-short-output={fname(out_path,sample,\"fastq_tooshort\")} \\\n",
    "            -o {fname(out_path,sample,\"fq.gz\")}  \\\n",
    "            {fname(in_path,sample,\"fq.gz\")} > {fname(out_path,sample,\"log\")}"
   ]
  },
  {
   "cell_type": "markdown",
   "id": "c0fd27b4-6fb6-43ec-abda-908fe49df9f8",
   "metadata": {},
   "source": [
    "#### Analysis"
   ]
  },
  {
   "cell_type": "markdown",
   "id": "0deddf8f-d88b-4b1f-832b-328714f045f3",
   "metadata": {},
   "source": [
    "Take a look at a FASTQ file"
   ]
  },
  {
   "cell_type": "code",
   "execution_count": 549,
   "id": "e07c75da-35fd-4c4e-b07a-3696595806f4",
   "metadata": {},
   "outputs": [
    {
     "data": {
      "text/plain": [
       "PosixPath('samples/t1.fq.gz')"
      ]
     },
     "execution_count": 549,
     "metadata": {},
     "output_type": "execute_result"
    }
   ],
   "source": [
    "in_fn  = fname(in_path,treated[0],'fq.gz')\n",
    "out_fn = fname(out_path,treated[0],'fq.gz')\n",
    "in_fn"
   ]
  },
  {
   "cell_type": "code",
   "execution_count": 550,
   "id": "c450ef4a-6b0d-4ded-a5f1-d387be292b48",
   "metadata": {},
   "outputs": [
    {
     "name": "stdout",
     "output_type": "stream",
     "text": [
      "@SRR23538290.50 50 length=121\n",
      "GGAAATTGTGGTAATTTTAGAGTTAATATATGTTGATGGGTGTTGATTTTTTTTGATGGTATCACGAGATCGGAAGAGCACACGTCTGAACTCCAGTCACCACTCAATCGCGTATTCCGTC\n",
      "+\n",
      "FFFFFFFFF:FFFFFFFFFFFFFFFFFFFFFFFFFFFFFFFFFFFFFFFFFFFFFFFFFFFFFFFFFFFFFFFFFFFFFFFFFFFFFFFFFFFFFFFFFFFFFFFFFFF,FFFFF,FFF:F\n",
      "@SRR23538290.52 52 length=121\n",
      "CGTTGTTTATTGTTTGGGGGTTTTAGTTATTTTAGTGGAAGATGAATGATAAATCACGAGATCGGAAGAGCACACGTCTGAACTCCATACACCACTCAATCTCGTATGCATTCTTCTGCTT\n",
      "+\n",
      "FFFFFFFFFFFFFFFFFFFFFFFFFFFFFFFFFFFFFFFF,FF,FFFFFFFFF::FF:F,FFFF,FF:FFFFFFFF,FFFFF::FFF,:FFFFFF:FFF:FFFFFF:,F,,F,FF,FFF:F\n",
      "@SRR23538290.144 144 length=121\n",
      "TTTTTTTGGATATTAGGAAAAAATTTTGTAGAGAGAGTAAAAAATTTACTAGTATCACGAGATCGGAAGAGCACACGTCTGAACTCCAGTCACCACTCAATCTCGTATGCCGTCTTCTGCT\n",
      "+\n",
      "FFFFFFFFFFFFFFFFFFFFFFFFFFFFFFFFFFFFFFFFFFFFFFFF:FF:FFFFFFFFFFFFFFFFFFFFFFFFFFFFFFFFFFFFFFFFFFFFFFFFFF:FFFFF:,FF,F:FFFFFF\n",
      "@SRR23538290.203 203 length=121\n",
      "GGCTATGTTGAAAATGAGATTAAGATAGTGTAATCACGAGATCGGAAGAGCACACGTCTGAACTCCAGTCACCACTCAATCTCGTATGCCGTCTTCTGCTTTAAAAGCTGGGGGGGGGGGG\n",
      "+\n",
      "FFFFFFFFFFFFF,:FFFFFFFFFFFFFF,FFFFFFFFFFFFFFFFFFFFFFFFFFFFFFFFFFFFFFFFFFFFFFFFFFF,FFF:F::F:F:,F::F:,F,,FF:,,,FFFFFFFFFFFF\n",
      "\n",
      "gzip: stdout: Broken pipe\n"
     ]
    }
   ],
   "source": [
    "! zcat {in_fn}|head -16  "
   ]
  },
  {
   "cell_type": "code",
   "execution_count": 551,
   "id": "bbff0c14-bd75-4988-a235-07400fa4a89b",
   "metadata": {},
   "outputs": [],
   "source": [
    "def show_adapter(reads):\n",
    "    for read in reads.split('\\n'):\n",
    "        read = read.replace(adapter, f'<span style=\"color: blue;\">{barcode3}{adapter}</span>')\n",
    "        display(HTML(read))"
   ]
  },
  {
   "cell_type": "markdown",
   "id": "b131dc87-f706-4aa6-b82d-8fec51b0b7c2",
   "metadata": {},
   "source": [
    "Look for adapter in untrimmed reads"
   ]
  },
  {
   "cell_type": "code",
   "execution_count": 552,
   "id": "c6560944-596a-443c-9f53-d07613ceedbd",
   "metadata": {},
   "outputs": [
    {
     "data": {
      "text/html": [
       "GGAAATTGTGGTAATTTTAGAGTTAATATATGTTGATGGGTGTTGATTTTTTTTGATGGTATCACG<span style=\"color: blue;\">ATCACGAGATCGGAAGAGCACACGTCT</span>GAACTCCAGTCACCACTCAATCGCGTATTCCGTC"
      ],
      "text/plain": [
       "<IPython.core.display.HTML object>"
      ]
     },
     "metadata": {},
     "output_type": "display_data"
    },
    {
     "data": {
      "text/html": [
       "CGTTGTTTATTGTTTGGGGGTTTTAGTTATTTTAGTGGAAGATGAATGATAAATCACG<span style=\"color: blue;\">ATCACGAGATCGGAAGAGCACACGTCT</span>GAACTCCATACACCACTCAATCTCGTATGCATTCTTCTGCTT"
      ],
      "text/plain": [
       "<IPython.core.display.HTML object>"
      ]
     },
     "metadata": {},
     "output_type": "display_data"
    },
    {
     "data": {
      "text/html": [
       "TTTTTTTGGATATTAGGAAAAAATTTTGTAGAGAGAGTAAAAAATTTACTAGTATCACG<span style=\"color: blue;\">ATCACGAGATCGGAAGAGCACACGTCT</span>GAACTCCAGTCACCACTCAATCTCGTATGCCGTCTTCTGCT"
      ],
      "text/plain": [
       "<IPython.core.display.HTML object>"
      ]
     },
     "metadata": {},
     "output_type": "display_data"
    },
    {
     "data": {
      "text/html": [
       "GGCTATGTTGAAAATGAGATTAAGATAGTGTAATCACG<span style=\"color: blue;\">ATCACGAGATCGGAAGAGCACACGTCT</span>GAACTCCAGTCACCACTCAATCTCGTATGCCGTCTTCTGCTTTAAAAGCTGGGGGGGGGGGG"
      ],
      "text/plain": [
       "<IPython.core.display.HTML object>"
      ]
     },
     "metadata": {},
     "output_type": "display_data"
    },
    {
     "data": {
      "text/html": [
       "CTATTAAATTAAGTAAATAAGTTTAAATGTTTTTTAAGTTTATAGGGTATTAGTAATTTGTGGTAAATGAAGATAGTGTCTAATCACG<span style=\"color: blue;\">ATCACGAGATCGGAAGAGCACACGTCT</span>GAACTCCAGTCA"
      ],
      "text/plain": [
       "<IPython.core.display.HTML object>"
      ]
     },
     "metadata": {},
     "output_type": "display_data"
    },
    {
     "data": {
      "text/html": [
       "CCAGGAATTATAGTAATGTTTAGTTTATTGAGTTAAATGTTTGTCGGATGTGTTTGTGAGGGGATGAGGATGATAAGATTTTGTTTAGTATCACG<span style=\"color: blue;\">ATCACGAGATCGGAAGAGCACACGTCT</span>GAACT"
      ],
      "text/plain": [
       "<IPython.core.display.HTML object>"
      ]
     },
     "metadata": {},
     "output_type": "display_data"
    },
    {
     "data": {
      "text/html": [
       "CGTTATTAAAAAGATATTTGATATTGATGAAGTTGAAGAAGGTGTAAAGGATTTTAAGATTGAAACTGTTATCACG<span style=\"color: blue;\">ATCACGAGATCGGAAGAGCACACGTCT</span>GAACTCCAGTCACCACTCAATCTC"
      ],
      "text/plain": [
       "<IPython.core.display.HTML object>"
      ]
     },
     "metadata": {},
     "output_type": "display_data"
    },
    {
     "data": {
      "text/html": [
       "CATGAAATGTTTTGGAGTAGAAGTAGAAGGTTTTTAATGTAATCTAATCACG<span style=\"color: blue;\">ATCACGAGATCGGAAGAGCACACGTCT</span>GAACTCCAGTCACCACTCAATCTCGGATGCCCTCTAAAGCATGAAAAA"
      ],
      "text/plain": [
       "<IPython.core.display.HTML object>"
      ]
     },
     "metadata": {},
     "output_type": "display_data"
    },
    {
     "data": {
      "text/html": [
       "CCTCAAGAGTTTTAATGTTTTTAATGTAGGTGATGATTGGGAAAACACATCACG<span style=\"color: blue;\">ATCACGAGATCGGAAGAGCACACGTCT</span>GAACTCCAGTCACCACTCAATCTCGTATGCCGTCTTCTTCTTGAAA"
      ],
      "text/plain": [
       "<IPython.core.display.HTML object>"
      ]
     },
     "metadata": {},
     "output_type": "display_data"
    }
   ],
   "source": [
    "reads = ! zcat {in_fn} | head -36  | seqtk seq -A |grep -v '>'\n",
    "reads = ('\\n').join(reads)\n",
    "show_adapter(reads)"
   ]
  },
  {
   "cell_type": "markdown",
   "id": "fad1e27a-a3a6-4bfe-9920-203e65654575",
   "metadata": {},
   "source": [
    "Verify that adapters and all downstream elements of reads have been trimmed"
   ]
  },
  {
   "cell_type": "code",
   "execution_count": 553,
   "id": "65a7f174-35a8-4956-bdf3-eb86888a902a",
   "metadata": {
    "scrolled": true
   },
   "outputs": [
    {
     "data": {
      "text/html": [
       "TTGTGGTAATTTTAGAGTTAATATATGTTGATGGGTGTTGATTTTTTTTGATGGT"
      ],
      "text/plain": [
       "<IPython.core.display.HTML object>"
      ]
     },
     "metadata": {},
     "output_type": "display_data"
    },
    {
     "data": {
      "text/html": [
       "TTTATTGTTTGGGGGTTTTAGTTATTTTAGTGGAAGATGAATGATAA"
      ],
      "text/plain": [
       "<IPython.core.display.HTML object>"
      ]
     },
     "metadata": {},
     "output_type": "display_data"
    },
    {
     "data": {
      "text/html": [
       "TTGGATATTAGGAAAAAATTTTGTAGAGAGAGTAAAAAATTTACTAGT"
      ],
      "text/plain": [
       "<IPython.core.display.HTML object>"
      ]
     },
     "metadata": {},
     "output_type": "display_data"
    },
    {
     "data": {
      "text/html": [
       "TGTTGAAAATGAGATTAAGATAGTGTA"
      ],
      "text/plain": [
       "<IPython.core.display.HTML object>"
      ]
     },
     "metadata": {},
     "output_type": "display_data"
    },
    {
     "data": {
      "text/html": [
       "AAATTAAGTAAATAAGTTTAAATGTTTTTTAAGTTTATAGGGTATTAGTAATTTGTGGTAAATGAAGATAGTGTCTA"
      ],
      "text/plain": [
       "<IPython.core.display.HTML object>"
      ]
     },
     "metadata": {},
     "output_type": "display_data"
    },
    {
     "data": {
      "text/html": [
       "AATTATAGTAATGTTTAGTTTATTGAGTTAAATGTTTGTCGGATGTGTTTGTGAGGGGATGAGGATGATAAGATTTTGTT"
      ],
      "text/plain": [
       "<IPython.core.display.HTML object>"
      ]
     },
     "metadata": {},
     "output_type": "display_data"
    },
    {
     "data": {
      "text/html": [
       "TTAAAAAGATATTTGATATTGATGAAGTTGAAGAAGGTGTAAAGGATTTTAAGATTGAAACTGTT"
      ],
      "text/plain": [
       "<IPython.core.display.HTML object>"
      ]
     },
     "metadata": {},
     "output_type": "display_data"
    },
    {
     "data": {
      "text/html": [
       "AATGTTTTGGAGTAGAAGTAGAAGGTTTTTAATGTAATCTA"
      ],
      "text/plain": [
       "<IPython.core.display.HTML object>"
      ]
     },
     "metadata": {},
     "output_type": "display_data"
    },
    {
     "data": {
      "text/html": [
       "AGAGTTTTAATGTTTTTAATGTAGGTGATGATTGGGAAAACAC"
      ],
      "text/plain": [
       "<IPython.core.display.HTML object>"
      ]
     },
     "metadata": {},
     "output_type": "display_data"
    },
    {
     "data": {
      "text/html": [
       "TAAAATTAATTTGAAATTTAATCATAAAGATATAGGAAAATAAAACTTATTATCTAAATACAAAAATAAATCGAAA"
      ],
      "text/plain": [
       "<IPython.core.display.HTML object>"
      ]
     },
     "metadata": {},
     "output_type": "display_data"
    },
    {
     "data": {
      "text/html": [
       "GGTGTTTTATGTTGGGGAGGATGATGAGGAGGATGATGATTTTAATTAGAATCACAT"
      ],
      "text/plain": [
       "<IPython.core.display.HTML object>"
      ]
     },
     "metadata": {},
     "output_type": "display_data"
    },
    {
     "data": {
      "text/html": [
       "AAAAAAAAAAAAAAAAAAAAAAAAAAAAAAAAAAAAAAAAAAAAAAAAAAAAAAAAAAACAAAAAACCAAGAGGGAAAGA"
      ],
      "text/plain": [
       "<IPython.core.display.HTML object>"
      ]
     },
     "metadata": {},
     "output_type": "display_data"
    },
    {
     "data": {
      "text/html": [
       "GTAATGAAGGGTAAGATGAAGTGAAAGGTAAAGAATTGTGTGAGGGTGGGATTGTTTATTGAGTAGTCGCC"
      ],
      "text/plain": [
       "<IPython.core.display.HTML object>"
      ]
     },
     "metadata": {},
     "output_type": "display_data"
    },
    {
     "data": {
      "text/html": [
       "TGTTGGTAGAGGTCTATTAAGTGAGGTTTTGGGTATTTTTATCCA"
      ],
      "text/plain": [
       "<IPython.core.display.HTML object>"
      ]
     },
     "metadata": {},
     "output_type": "display_data"
    },
    {
     "data": {
      "text/html": [
       "TTGGTAAAGAATTTAGTATAATATTAAATGTTGATGAAGTTGTTATTTGAGGTTGTGTGTTGTAGTGTGACTAC"
      ],
      "text/plain": [
       "<IPython.core.display.HTML object>"
      ]
     },
     "metadata": {},
     "output_type": "display_data"
    },
    {
     "data": {
      "text/html": [
       "TTGGGTTTAGTGTTATGGTTTTGGTTTGTAATTTTAGTATTTTGGAATAA"
      ],
      "text/plain": [
       "<IPython.core.display.HTML object>"
      ]
     },
     "metadata": {},
     "output_type": "display_data"
    },
    {
     "data": {
      "text/html": [
       "TTTGTTTGTTTTGGTTTTTGAAAGTGTTGGGATTATAGGTGGGTTA"
      ],
      "text/plain": [
       "<IPython.core.display.HTML object>"
      ]
     },
     "metadata": {},
     "output_type": "display_data"
    },
    {
     "data": {
      "text/html": [
       "GAGTTTTGAAATTATAGATGATAGTTTATGAGAATATTTTGAGAAATGGGGTATATTTATAGATTGTGTCTATA"
      ],
      "text/plain": [
       "<IPython.core.display.HTML object>"
      ]
     },
     "metadata": {},
     "output_type": "display_data"
    },
    {
     "data": {
      "text/html": [
       "AAAATAATGTGGTATTTATGAGTTATTTTTTATAGGGTAGTTGT"
      ],
      "text/plain": [
       "<IPython.core.display.HTML object>"
      ]
     },
     "metadata": {},
     "output_type": "display_data"
    },
    {
     "data": {
      "text/html": [
       "AGGGTTTGTTTTGTGGAGAGGTTGTTGTTTTCTACC"
      ],
      "text/plain": [
       "<IPython.core.display.HTML object>"
      ]
     },
     "metadata": {},
     "output_type": "display_data"
    },
    {
     "data": {
      "text/html": [
       "TTAGAGATGAAAAATGAGATTATTTGAAGGTTTTTAGTGTAAAGTTATTGTAATAACAT"
      ],
      "text/plain": [
       "<IPython.core.display.HTML object>"
      ]
     },
     "metadata": {},
     "output_type": "display_data"
    },
    {
     "data": {
      "text/html": [
       "GTTTGGTTGATATTTTGAGTTTTTTTTGCACAT"
      ],
      "text/plain": [
       "<IPython.core.display.HTML object>"
      ]
     },
     "metadata": {},
     "output_type": "display_data"
    },
    {
     "data": {
      "text/html": [
       "TAAATTTATTGGAAATATGGTATTGTTGTTTATTAGAAGTGTGAT"
      ],
      "text/plain": [
       "<IPython.core.display.HTML object>"
      ]
     },
     "metadata": {},
     "output_type": "display_data"
    },
    {
     "data": {
      "text/html": [
       "TAAGGAGGTGGTTATTGTTATTTGTGGGGTTATTATTTTCATAA"
      ],
      "text/plain": [
       "<IPython.core.display.HTML object>"
      ]
     },
     "metadata": {},
     "output_type": "display_data"
    },
    {
     "data": {
      "text/html": [
       "TGTATTTGTTTATATAGTTATGTGAATAGATTAGATAAATATAAAAGGAGGAGATATGTGTT"
      ],
      "text/plain": [
       "<IPython.core.display.HTML object>"
      ]
     },
     "metadata": {},
     "output_type": "display_data"
    },
    {
     "data": {
      "text/html": [
       "GGGAATTTGTTATAAGTGTAGTGTATTCC"
      ],
      "text/plain": [
       "<IPython.core.display.HTML object>"
      ]
     },
     "metadata": {},
     "output_type": "display_data"
    },
    {
     "data": {
      "text/html": [
       "ATTGGTAGGAATAGGTAGTATTGATTTAGTAGTTTTTATGTAAATACACT"
      ],
      "text/plain": [
       "<IPython.core.display.HTML object>"
      ]
     },
     "metadata": {},
     "output_type": "display_data"
    },
    {
     "data": {
      "text/html": [
       "TTGTTGGAGGTGTAATGGATGTTAATATTGTTTTATAAGAGGGTAGA"
      ],
      "text/plain": [
       "<IPython.core.display.HTML object>"
      ]
     },
     "metadata": {},
     "output_type": "display_data"
    },
    {
     "data": {
      "text/html": [
       "TTGTAGAAAAATTTGTTAAGTTATTAGGGAAAATATAATTTGGAATGGATTATTTTTTTATTTTT"
      ],
      "text/plain": [
       "<IPython.core.display.HTML object>"
      ]
     },
     "metadata": {},
     "output_type": "display_data"
    },
    {
     "data": {
      "text/html": [
       "GAATAAATTTTATATTTATGGATTTATGTTTTAGGGGGAAAGGATGTAAATTA"
      ],
      "text/plain": [
       "<IPython.core.display.HTML object>"
      ]
     },
     "metadata": {},
     "output_type": "display_data"
    },
    {
     "data": {
      "text/html": [
       "TTAATATGGATTTGTTTTGGTTTATTATGAAGTTTGTTTAGAAAGTGTTGGGTGAT"
      ],
      "text/plain": [
       "<IPython.core.display.HTML object>"
      ]
     },
     "metadata": {},
     "output_type": "display_data"
    },
    {
     "data": {
      "text/html": [
       "TTAGAAAAAATAAAGATGTTGTAAGAAGGTTTTAGGTAGAATTA"
      ],
      "text/plain": [
       "<IPython.core.display.HTML object>"
      ]
     },
     "metadata": {},
     "output_type": "display_data"
    },
    {
     "data": {
      "text/html": [
       "GAAAAGAGTAAAGGATGAAAGATGAAAAAGGATTGAAGGTGTTAAAGTGGAATTTTATTATTTGATTC"
      ],
      "text/plain": [
       "<IPython.core.display.HTML object>"
      ]
     },
     "metadata": {},
     "output_type": "display_data"
    },
    {
     "data": {
      "text/html": [
       "GTTGTATGTGTGAGATTTTTTTGTTGTTTTTGTTGTAGATGTCGTTGTGATGGAATC"
      ],
      "text/plain": [
       "<IPython.core.display.HTML object>"
      ]
     },
     "metadata": {},
     "output_type": "display_data"
    },
    {
     "data": {
      "text/html": [
       "GTTTATTGTGGTTTTTTTTGATGTGGTTGTTAGTGTAGTGTTGAACT"
      ],
      "text/plain": [
       "<IPython.core.display.HTML object>"
      ]
     },
     "metadata": {},
     "output_type": "display_data"
    },
    {
     "data": {
      "text/html": [
       "AAGAAGAGTAAGAAGTGGAAGTTAAAAAAGGTAGAAACTT"
      ],
      "text/plain": [
       "<IPython.core.display.HTML object>"
      ]
     },
     "metadata": {},
     "output_type": "display_data"
    },
    {
     "data": {
      "text/html": [
       "TTTTGGTTGGAGTTGTTTGGTTTTAGAGTGGTTGTATATCAA"
      ],
      "text/plain": [
       "<IPython.core.display.HTML object>"
      ]
     },
     "metadata": {},
     "output_type": "display_data"
    },
    {
     "data": {
      "text/html": [
       "ATAGATTTTTATGAGGATAGGGTTGTGTTTTTTTTTATTTGGAGTTTTTTGAAGGTAATGGTTGGTTT"
      ],
      "text/plain": [
       "<IPython.core.display.HTML object>"
      ]
     },
     "metadata": {},
     "output_type": "display_data"
    },
    {
     "data": {
      "text/html": [
       "TTAGGAGTTTTATGTTGTAGTGAATTATGATTGTATTATTGTATTTAGTTTGGGTAATAGAGTAAGATTTTGATACA"
      ],
      "text/plain": [
       "<IPython.core.display.HTML object>"
      ]
     },
     "metadata": {},
     "output_type": "display_data"
    },
    {
     "data": {
      "text/html": [
       "ATTGGTTTTTTGGAGATTGGTTATTATATAGTTGTTTTGAAGGGTTAATAT"
      ],
      "text/plain": [
       "<IPython.core.display.HTML object>"
      ]
     },
     "metadata": {},
     "output_type": "display_data"
    },
    {
     "data": {
      "text/html": [
       "AAGAGGAGTTTATTTTATAGGAGTTTTAGTGGAGTTTTTTAAGTAAGGAGTGTGCT"
      ],
      "text/plain": [
       "<IPython.core.display.HTML object>"
      ]
     },
     "metadata": {},
     "output_type": "display_data"
    },
    {
     "data": {
      "text/html": [
       "GTTTAAAGATGAATAGTTTTTTGGATATTAGGAAAAAATTTTGTAGAGAGAGTAAAAAATCTATG"
      ],
      "text/plain": [
       "<IPython.core.display.HTML object>"
      ]
     },
     "metadata": {},
     "output_type": "display_data"
    },
    {
     "data": {
      "text/html": [
       "GAATAATATGGATTAGGTTGAGA"
      ],
      "text/plain": [
       "<IPython.core.display.HTML object>"
      ]
     },
     "metadata": {},
     "output_type": "display_data"
    },
    {
     "data": {
      "text/html": [
       "TAATGAAAAAAGTTGGAAGAAAGGGTGTTATTATGGTAAAGGATGGAAAAATATTGAATGATGAGTTAGAAATTATCATA"
      ],
      "text/plain": [
       "<IPython.core.display.HTML object>"
      ]
     },
     "metadata": {},
     "output_type": "display_data"
    },
    {
     "data": {
      "text/html": [
       "TTTGTTAATATGAGGATAGAAGGATTGGTGTGATTTGGACT"
      ],
      "text/plain": [
       "<IPython.core.display.HTML object>"
      ]
     },
     "metadata": {},
     "output_type": "display_data"
    },
    {
     "data": {
      "text/html": [
       "AATGTATGTTATAGGAAAATTTATTTTTTTTTTAGTTGGGTGTTTTAATATTTTAGTGTGCTAG"
      ],
      "text/plain": [
       "<IPython.core.display.HTML object>"
      ]
     },
     "metadata": {},
     "output_type": "display_data"
    },
    {
     "data": {
      "text/html": [
       "GTTTGTTGAGAAAGGTGAATAAGGATAGTATTTTTAATAGGATGTTAATGAATGTTATACA"
      ],
      "text/plain": [
       "<IPython.core.display.HTML object>"
      ]
     },
     "metadata": {},
     "output_type": "display_data"
    },
    {
     "data": {
      "text/html": [
       "GTGTTTAGTTAGATTGTGGTTTTGAATTATAATGAC"
      ],
      "text/plain": [
       "<IPython.core.display.HTML object>"
      ]
     },
     "metadata": {},
     "output_type": "display_data"
    },
    {
     "data": {
      "text/html": [
       "GTAGTGGGTATTGTTGTTGTTATTTTTGTAGTATTATTATAAGTAGTGTAGGGTGTTTTTATTGAGTACT"
      ],
      "text/plain": [
       "<IPython.core.display.HTML object>"
      ]
     },
     "metadata": {},
     "output_type": "display_data"
    },
    {
     "data": {
      "text/html": [
       "ATGTTGTTTGGTGATGTATGAGTGTAGTTGTGAAGGTTTAAGAAGGAACATT"
      ],
      "text/plain": [
       "<IPython.core.display.HTML object>"
      ]
     },
     "metadata": {},
     "output_type": "display_data"
    },
    {
     "data": {
      "text/html": [
       "AGTTTTTTTAATTTGTAAATGTTAATTTTTTAGTGGATTTTTAAAGGATGTTTATTTTTGGTTATTTGAAAT"
      ],
      "text/plain": [
       "<IPython.core.display.HTML object>"
      ]
     },
     "metadata": {},
     "output_type": "display_data"
    },
    {
     "data": {
      "text/html": [
       "TTTTATAATGGATGAAAGTTTGATGAAGTAATGTTGTGTGAGTGATGGGGCTT"
      ],
      "text/plain": [
       "<IPython.core.display.HTML object>"
      ]
     },
     "metadata": {},
     "output_type": "display_data"
    },
    {
     "data": {
      "text/html": [
       "TGGTGGTGGTGGTGGTCTCGG"
      ],
      "text/plain": [
       "<IPython.core.display.HTML object>"
      ]
     },
     "metadata": {},
     "output_type": "display_data"
    },
    {
     "data": {
      "text/html": [
       "GAGAGAAAAGAGTGTTTTGAGAGTTTGAATATTTAGTGTGAGAAAGAAGAATTGGAATAGAGCTCAT"
      ],
      "text/plain": [
       "<IPython.core.display.HTML object>"
      ]
     },
     "metadata": {},
     "output_type": "display_data"
    },
    {
     "data": {
      "text/html": [
       "ATGGATTATAATAAAGATTAGTTGGAGAAAAAGAGATATAAGTATTAATATTAGTTTTGGTTC"
      ],
      "text/plain": [
       "<IPython.core.display.HTML object>"
      ]
     },
     "metadata": {},
     "output_type": "display_data"
    },
    {
     "data": {
      "text/html": [
       "AAAAAAAAAAAAAAAAAAAAAAAAAAAAAAAAAAAAAAAAAAAAAAAAAAATAAAAAAGAAAAGGGAAAAAAAAACGAAA"
      ],
      "text/plain": [
       "<IPython.core.display.HTML object>"
      ]
     },
     "metadata": {},
     "output_type": "display_data"
    },
    {
     "data": {
      "text/html": [
       "TATATTATTTGAATGAGTAGGTGAAAGTTATTAAAGAATTGGGTGATTATGTGATTAATTTGTGTAAATCAG"
      ],
      "text/plain": [
       "<IPython.core.display.HTML object>"
      ]
     },
     "metadata": {},
     "output_type": "display_data"
    },
    {
     "data": {
      "text/html": [
       "AGTTAAAAGTTTTTATGAAGGGGTTGGGAATTGATGAGGACAATT"
      ],
      "text/plain": [
       "<IPython.core.display.HTML object>"
      ]
     },
     "metadata": {},
     "output_type": "display_data"
    },
    {
     "data": {
      "text/html": [
       "TGATGGTTTAGGTATTTGAGAGTTGTTAGTTGGATAGTATGGTTATTGTGAACTA"
      ],
      "text/plain": [
       "<IPython.core.display.HTML object>"
      ]
     },
     "metadata": {},
     "output_type": "display_data"
    },
    {
     "data": {
      "text/html": [
       "TAATAGAGAAGGGAAAGTAGTTTGTTTTGAATATAGGGATATAAGTTGACTC"
      ],
      "text/plain": [
       "<IPython.core.display.HTML object>"
      ]
     },
     "metadata": {},
     "output_type": "display_data"
    },
    {
     "data": {
      "text/html": [
       "TTTAAATTAATTGGTTATGGTTTTGTAGTTTAGTATTTTTTTTATTTTATTAGTTTGTTGGTTTTGATGCT"
      ],
      "text/plain": [
       "<IPython.core.display.HTML object>"
      ]
     },
     "metadata": {},
     "output_type": "display_data"
    },
    {
     "data": {
      "text/html": [
       "GAATAGTTGGTGTTAGTGAGGAAAATTGTGTGGATTAAATTGATTTTTAGAACATA"
      ],
      "text/plain": [
       "<IPython.core.display.HTML object>"
      ]
     },
     "metadata": {},
     "output_type": "display_data"
    },
    {
     "data": {
      "text/html": [
       "ATTATGAATATAAGGTAAAGAGGAATTGTTGGTTATGAGTATGGGGTGTAGT"
      ],
      "text/plain": [
       "<IPython.core.display.HTML object>"
      ]
     },
     "metadata": {},
     "output_type": "display_data"
    },
    {
     "data": {
      "text/html": [
       "GGAATTGATTGTAAAAAAAAAAAAAAAAAAAAAAAAAAAAAAAAAAAAAAAAAAAAAAAAAAAAAAAAAAAAAAAAAAAA"
      ],
      "text/plain": [
       "<IPython.core.display.HTML object>"
      ]
     },
     "metadata": {},
     "output_type": "display_data"
    }
   ],
   "source": [
    "reads = !zcat {out_fn}| head -256  | seqtk seq -A |grep -v '>'\n",
    "reads = ('\\n').join(reads)\n",
    "show_adapter(reads)"
   ]
  },
  {
   "cell_type": "markdown",
   "id": "b28de976-ebee-4727-a44a-a3379cd8757e",
   "metadata": {},
   "source": [
    "What did `--rename='{{id}}_{{cut_prefix}}{{cut_suffix}} {{comment}}'` do?\n",
    "\n",
    "Looks like "
   ]
  },
  {
   "cell_type": "code",
   "execution_count": 554,
   "id": "183946b6-0828-455e-a317-a2a37261c6b9",
   "metadata": {},
   "outputs": [
    {
     "name": "stdout",
     "output_type": "stream",
     "text": [
      "@SRR23538290.50 50 length=121\n",
      "GGAAATTGTGGTAATTTTAGAGTTAATATATGTTGATGGGTGTTGATTTTTTTTGATGGTATCACGAGATCGGAAGAGCACACGTCTGAACTCCAGTCACCACTCAATCGCGTATTCCGTC\n",
      "\n",
      "gzip: stdout: Broken pipe\n"
     ]
    }
   ],
   "source": [
    "!zcat {in_fn}| head -2 "
   ]
  },
  {
   "cell_type": "code",
   "execution_count": 555,
   "id": "97272d2b-9170-4935-8801-907e7ffcb1f0",
   "metadata": {},
   "outputs": [
    {
     "name": "stdout",
     "output_type": "stream",
     "text": [
      "@SRR23538290.50_GGAAACCGTC 50 length=121\n",
      "TTGTGGTAATTTTAGAGTTAATATATGTTGATGGGTGTTGATTTTTTTTGATGGT\n",
      "\n",
      "gzip: stdout: Broken pipe\n"
     ]
    }
   ],
   "source": [
    "!zcat {out_fn}| head -2 "
   ]
  },
  {
   "cell_type": "markdown",
   "id": "22988563-df9e-471e-ad5c-e2b34d86f94f",
   "metadata": {},
   "source": [
    "Verify that adapters and all downstream elements of reads have been trimmed"
   ]
  },
  {
   "cell_type": "markdown",
   "id": "47d80e80-4f86-421a-bd13-f1b66cb48c48",
   "metadata": {},
   "source": [
    "No reads should have been deleted with cutadapt. Veryify that number of reads before and after cutadapt are the same."
   ]
  },
  {
   "cell_type": "code",
   "execution_count": 556,
   "id": "e03f142f-9d37-4d6c-965d-c17053979e68",
   "metadata": {},
   "outputs": [
    {
     "data": {
      "text/plain": [
       "[1872556, 2732849, 2368579]"
      ]
     },
     "execution_count": 556,
     "metadata": {},
     "output_type": "execute_result"
    }
   ],
   "source": [
    "# Untrimmed\n",
    "files = [fname(in_path,sample, \"fq.gz\") for sample in samples]\n",
    "ins = [nseqs(f) for f in files]\n",
    "ins"
   ]
  },
  {
   "cell_type": "code",
   "execution_count": 557,
   "id": "172a1fac-5cf4-4d31-a7d1-25cc250689f6",
   "metadata": {},
   "outputs": [
    {
     "data": {
      "text/plain": [
       "[1861617, 2712114, 2350874]"
      ]
     },
     "execution_count": 557,
     "metadata": {},
     "output_type": "execute_result"
    }
   ],
   "source": [
    "# Adapter Trimmed Reads\n",
    "files = [fname(out_path,sample, \"fq.gz\") for sample in samples]\n",
    "ins = [nseqs(f) for f in files]\n",
    "ins"
   ]
  },
  {
   "cell_type": "code",
   "execution_count": 558,
   "id": "f0a6990d-1e30-439d-b9dc-bba695c9d82c",
   "metadata": {},
   "outputs": [
    {
     "data": {
      "text/plain": [
       "[10464, 20153, 17094]"
      ]
     },
     "execution_count": 558,
     "metadata": {},
     "output_type": "execute_result"
    }
   ],
   "source": [
    "# Too Short Reads\n",
    "files = [fname(out_path,sample, \"fastq_tooshort\") for sample in samples]\n",
    "ins = [nseqs(f) for f in files]\n",
    "ins"
   ]
  },
  {
   "cell_type": "markdown",
   "id": "ba63237d-b9da-4e19-9b66-0c523efadc17",
   "metadata": {},
   "source": [
    "Compare the sum of read lengths in the original and adapter trimmed files"
   ]
  },
  {
   "cell_type": "code",
   "execution_count": 559,
   "id": "9004da50-f983-496a-8ec4-7e8a45047d22",
   "metadata": {},
   "outputs": [
    {
     "data": {
      "text/plain": [
       "[228451832, 333407578, 288966638]"
      ]
     },
     "execution_count": 559,
     "metadata": {},
     "output_type": "execute_result"
    }
   ],
   "source": [
    "files = [fname(in_path,sample, \"fq.gz\") for sample in samples]\n",
    "res = []\n",
    "for f in files:\n",
    "    n = !seqtk seq -A {f}|grep -v '>'|wc -c\n",
    "    res.append(int(n[0]))\n",
    "ins = res\n",
    "ins"
   ]
  },
  {
   "cell_type": "code",
   "execution_count": 560,
   "id": "fb5d33e9-c511-41f2-b8d4-3f7e606fa4ad",
   "metadata": {},
   "outputs": [
    {
     "data": {
      "text/plain": [
       "[105937612, 142131260, 125540805]"
      ]
     },
     "execution_count": 560,
     "metadata": {},
     "output_type": "execute_result"
    }
   ],
   "source": [
    "files = [fname(out_path,sample, \"fq.gz\") for sample in samples]\n",
    "res = []\n",
    "for f in files:\n",
    "    n = !seqtk seq -A {f}|grep -v '>'|wc -c\n",
    "    res.append(int(n[0]))\n",
    "outs = res\n",
    "outs"
   ]
  },
  {
   "cell_type": "code",
   "execution_count": 561,
   "id": "34da7817",
   "metadata": {},
   "outputs": [
    {
     "data": {
      "image/png": "[encoded data removed]",
      "text/plain": [
       "<Figure size 640x480 with 1 Axes>"
      ]
     },
     "metadata": {},
     "output_type": "display_data"
    }
   ],
   "source": [
    "make_table(ins, outs, \"Origs\", \"Trimmed\", \"Sum of Total Read Lengths\", samples, \"Sum of Total Reads Per Sample\")"
   ]
  },
  {
   "cell_type": "code",
   "execution_count": 562,
   "id": "728a7038-553c-4428-9112-becd7d1c87cf",
   "metadata": {},
   "outputs": [
    {
     "data": {
      "image/png": "[encoded data removed]",
      "text/plain": [
       "<Figure size 640x480 with 1 Axes>"
      ]
     },
     "metadata": {},
     "output_type": "display_data"
    }
   ],
   "source": [
    "reads = !xargs zcat {out_path}/*.gz | seqtk seq -A  |grep -v \">\" \n",
    "ds = [len(read) for read in reads]\n",
    "make_histogram(ds, \"Read Length\", \"Trimmed Reads\")"
   ]
  },
  {
   "cell_type": "markdown",
   "id": "bf68d82c-0200-4613-b5b6-497fde519e16",
   "metadata": {},
   "source": [
    "## Step: fastqc_post"
   ]
  },
  {
   "cell_type": "markdown",
   "id": "8198a2d4-8f2f-46de-ba05-5b335a21bc2e",
   "metadata": {},
   "source": [
    "#### Post Trimming Quality Control"
   ]
  },
  {
   "cell_type": "code",
   "execution_count": 580,
   "id": "140ea0f2-cb1c-48a6-adbd-5264b92c8e1f",
   "metadata": {},
   "outputs": [],
   "source": [
    "in_path = mkpath(\"trimmed\")\n",
    "out_path = mkpath(\"fastqc_post\")"
   ]
  },
  {
   "cell_type": "code",
   "execution_count": 581,
   "id": "aa72c0a9-9280-4255-b5d6-d0d0258181c0",
   "metadata": {},
   "outputs": [
    {
     "name": "stdout",
     "output_type": "stream",
     "text": [
      "application/gzip\n",
      "Analysis complete for t1.fq.gz\n",
      "application/gzip\n",
      "Analysis complete for t2.fq.gz\n",
      "application/gzip\n",
      "Analysis complete for t3.fq.gz\n"
     ]
    }
   ],
   "source": [
    "for sample in samples:\n",
    "    ! fastqc {fname(in_path,sample,\"fq.gz\")} -o {out_path} 2> /dev/null"
   ]
  },
  {
   "cell_type": "markdown",
   "id": "69de1cf7-fa1b-49f1-ba6a-a14126989904",
   "metadata": {},
   "source": [
    "#### Consolidate fastqc Reports"
   ]
  },
  {
   "cell_type": "code",
   "execution_count": 587,
   "id": "e751dc92-97ee-4f4e-af15-6d05c1fb49ce",
   "metadata": {
    "jupyter": {
     "source_hidden": true
    }
   },
   "outputs": [
    {
     "name": "stdout",
     "output_type": "stream",
     "text": [
      "\n",
      "  \u001b[91m///\u001b[0m \u001b]8;id=511003;https://multiqc.info\u001b\\\u001b[1mMultiQC\u001b[0m\u001b]8;;\u001b\\ 🔍 \u001b[2m| v1.19\u001b[0m\n",
      "\n",
      "\u001b[34m|           multiqc\u001b[0m | Only using modules: fastqc\n",
      "\u001b[34m|           multiqc\u001b[0m | Search path : /home/cdaniels/uofc_data/ubs_seq/UBS-seq_basic/workspace/fastqc_post\n",
      "\u001b[2K\u001b[34m|\u001b[0m         \u001b[34msearching\u001b[0m | \u001b[90m━━━━━━━━━━━━━━━━━━━━━━━━━━━━━━━━━━━━━━━━\u001b[0m \u001b[35m100%\u001b[0m \u001b[32m7/7\u001b[0m  0/7\u001b[0m  \n",
      "\u001b[?25h\u001b[34m|            fastqc\u001b[0m | Found 3 reports\n",
      "\u001b[34m|           multiqc\u001b[0m | Report      : fastqc_post/multiqc.html\n",
      "\u001b[34m|           multiqc\u001b[0m | Data        : fastqc_post/multiqc_data\n",
      "\u001b[34m|           multiqc\u001b[0m | MultiQC complete\n"
     ]
    }
   ],
   "source": [
    "!multiqc -f -fp -m fastqc -n multiqc -o {out_path} {out_path}"
   ]
  },
  {
   "cell_type": "code",
   "execution_count": 588,
   "id": "bc5b1d72-84a7-4fd3-a8ae-e755b5015a52",
   "metadata": {},
   "outputs": [
    {
     "name": "stdout",
     "output_type": "stream",
     "text": [
      "multiqc_data  t1_fastqc.html  t2_fastqc.html  t3_fastqc.html\n",
      "multiqc.html  t1_fastqc.zip   t2_fastqc.zip   t3_fastqc.zip\n"
     ]
    }
   ],
   "source": [
    "! ls {out_path}"
   ]
  },
  {
   "cell_type": "markdown",
   "id": "dd222f8b-c131-4a5a-b865-d59c1c5879e7",
   "metadata": {},
   "source": [
    "## Step: Hisat3n_align"
   ]
  },
  {
   "cell_type": "markdown",
   "id": "aa201443-78ec-4c4b-8e68-83f01a3b01f3",
   "metadata": {},
   "source": [
    "#### Align Samples to Genome with Hisat-3n"
   ]
  },
  {
   "cell_type": "code",
   "execution_count": 682,
   "id": "80a6c377-5017-4865-aac4-eacc555b7345",
   "metadata": {},
   "outputs": [],
   "source": [
    "in_path = mkpath(\"trimmed\")\n",
    "out_path = mkpath(\"hisat3n_align\")"
   ]
  },
  {
   "cell_type": "markdown",
   "id": "7fba7ae0-92e6-4435-a5f9-bf6610ba7101",
   "metadata": {},
   "source": [
    "#### hisat-3n"
   ]
  },
  {
   "cell_type": "markdown",
   "id": "41f584e2-8878-4cf9-91c9-49514d1a8ae7",
   "metadata": {},
   "source": [
    "http://daehwankimlab.github.io/hisat2/hisat-3n/"
   ]
  },
  {
   "cell_type": "code",
   "execution_count": 589,
   "id": "98b74e19-5d09-491f-b605-8461a0b95ac4",
   "metadata": {
    "scrolled": true
   },
   "outputs": [
    {
     "name": "stdout",
     "output_type": "stream",
     "text": [
      "HISAT2 version 2.2.1-3n-0.0.3 by Daehwan Kim (infphilo@gmail.com, www.ccb.jhu.edu/people/infphilo)\n",
      "Usage: \n",
      "  hisat2 [options]* -x <ht2-idx> {-1 <m1> -2 <m2> | -U <r>} [-S <sam>]\n",
      "\n",
      "  <ht2-idx>  Index filename prefix (minus trailing .X.ht2).\n",
      "  <m1>       Files with #1 mates, paired with files in <m2>.\n",
      "             Could be gzip'ed (extension: .gz) or bzip2'ed (extension: .bz2).\n",
      "  <m2>       Files with #2 mates, paired with files in <m1>.\n",
      "             Could be gzip'ed (extension: .gz) or bzip2'ed (extension: .bz2).\n",
      "  <r>        Files with unpaired reads.\n",
      "             Could be gzip'ed (extension: .gz) or bzip2'ed (extension: .bz2).\n",
      "  <sam>      File for SAM output (default: stdout)\n",
      "\n",
      "  <m1>, <m2>, <r> can be comma-separated lists (no whitespace) and can be\n",
      "  specified many times.  E.g. '-U file1.fq,file2.fq -U file3.fq'.\n",
      "\n",
      "Options (defaults in parentheses):\n",
      "\n",
      " Input:\n",
      "  -q                 query input files are FASTQ .fq/.fastq (default)\n",
      "  --qseq             query input files are in Illumina's qseq format\n",
      "  -f                 query input files are (multi-)FASTA .fa/.mfa\n",
      "  -r                 query input files are raw one-sequence-per-line\n",
      "  -c                 <m1>, <m2>, <r> are sequences themselves, not files\n",
      "  -s/--skip <int>    skip the first <int> reads/pairs in the input (none)\n",
      "  -u/--upto <int>    stop after first <int> reads/pairs (no limit)\n",
      "  -5/--trim5 <int>   trim <int> bases from 5'/left end of reads (0)\n",
      "  -3/--trim3 <int>   trim <int> bases from 3'/right end of reads (0)\n",
      "  --phred33          qualities are Phred+33 (default)\n",
      "  --phred64          qualities are Phred+64\n",
      "  --int-quals        qualities encoded as space-delimited integers\n",
      "\n",
      " Presets:                 Same as:\n",
      "   --fast                 --no-repeat-index\n",
      "   --sensitive            --bowtie2-dp 1 -k 30 --score-min L,0,-0.5\n",
      "   --very-sensitive       --bowtie2-dp 2 -k 50 --score-min L,0,-1\n",
      "\n",
      " Alignment:\n",
      "  --bowtie2-dp <int> use Bowtie2's dynamic programming alignment algorithm (0) - 0: no dynamic programming, 1: conditional dynamic programming, and 2: unconditional dynamic programming (slowest)\n",
      "  --n-ceil <func>    func for max # non-A/C/G/Ts permitted in aln (L,0,0.15)\n",
      "  --ignore-quals     treat all quality values as 30 on Phred scale (off)\n",
      "  --nofw             do not align forward (original) version of read (off)\n",
      "  --norc             do not align reverse-complement version of read (off)\n",
      "  --no-repeat-index  do not use repeat index\n",
      "\n",
      " 3N-Alignment:\n",
      "  --base-change <chr,chr>     the converted nucleotide and converted to nucleotide (C,T)\n",
      "  --directional-mapping       make directional mapping, please use this option only if your reads are prepared with a strand specific library (off)\n",
      "  --repeat-limit <int>        maximum number of repeat will be expanded for repeat alignment (1000)\n",
      "  --unique-only               only output the reads have unique alignment (off)\n",
      "\n",
      " Spliced Alignment:\n",
      "  --pen-cansplice <int>              penalty for a canonical splice site (0)\n",
      "  --pen-noncansplice <int>           penalty for a non-canonical splice site (12)\n",
      "  --pen-canintronlen <func>          penalty for long introns (G,-8,1) with canonical splice sites\n",
      "  --pen-noncanintronlen <func>       penalty for long introns (G,-8,1) with noncanonical splice sites\n",
      "  --min-intronlen <int>              minimum intron length (20)\n",
      "  --max-intronlen <int>              maximum intron length (500000)\n",
      "  --known-splicesite-infile <path>   provide a list of known splice sites\n",
      "  --novel-splicesite-outfile <path>  report a list of splice sites\n",
      "  --novel-splicesite-infile <path>   provide a list of novel splice sites\n",
      "  --no-temp-splicesite               disable the use of splice sites found\n",
      "  --no-spliced-alignment             disable spliced alignment\n",
      "  --rna-strandness <string>          specify strand-specific information (unstranded)\n",
      "  --tmo                              reports only those alignments within known transcriptome\n",
      "  --dta                              reports alignments tailored for transcript assemblers\n",
      "  --dta-cufflinks                    reports alignments tailored specifically for cufflinks\n",
      "  --avoid-pseudogene                 tries to avoid aligning reads to pseudogenes (experimental option)\n",
      "  --no-templatelen-adjustment        disables template length adjustment for RNA-seq reads\n",
      "\n",
      " Scoring:\n",
      "  --mp <int>,<int>   max and min penalties for mismatch; lower qual = lower penalty <6,2>\n",
      "  --sp <int>,<int>   max and min penalties for soft-clipping; lower qual = lower penalty <2,1>\n",
      "  --no-softclip      no soft-clipping\n",
      "  --np <int>         penalty for non-A/C/G/Ts in read/ref (1)\n",
      "  --rdg <int>,<int>  read gap open, extend penalties (5,3)\n",
      "  --rfg <int>,<int>  reference gap open, extend penalties (5,3)\n",
      "  --score-min <func> min acceptable alignment score w/r/t read length\n",
      "                     (L,0.0,-0.2)\n",
      "\n",
      " Reporting:\n",
      "  -k <int>           It searches for at most <int> distinct, primary alignments for each read. Primary alignments mean \n",
      "                     alignments whose alignment score is equal to or higher than any other alignments. The search terminates \n",
      "                     when it cannot find more distinct valid alignments, or when it finds <int>, whichever happens first. \n",
      "                     The alignment score for a paired-end alignment equals the sum of the alignment scores of \n",
      "                     the individual mates. Each reported read or pair alignment beyond the first has the SAM ‘secondary’ bit \n",
      "                     (which equals 256) set in its FLAGS field. For reads that have more than <int> distinct, \n",
      "                     valid alignments, hisat2 does not guarantee that the <int> alignments reported are the best possible \n",
      "                     in terms of alignment score. Default: 5 (linear index) or 10 (graph index).\n",
      "                     Note: HISAT2 is not designed with large values for -k in mind, and when aligning reads to long, \n",
      "                     repetitive genomes, large -k could make alignment much slower.\n",
      "  --max-seeds <int>  HISAT2, like other aligners, uses seed-and-extend approaches. HISAT2 tries to extend seeds to \n",
      "                     full-length alignments. In HISAT2, --max-seeds is used to control the maximum number of seeds that \n",
      "                     will be extended. For DNA-read alignment (--no-spliced-alignment), HISAT2 extends up to these many seeds\n",
      "                     and skips the rest of the seeds. For RNA-read alignment, HISAT2 skips extending seeds and reports \n",
      "                     no alignments if the number of seeds is larger than the number specified with the option, \n",
      "                     to be compatible with previous versions of HISAT2. Large values for --max-seeds may improve alignment \n",
      "                     sensitivity, but HISAT2 is not designed with large values for --max-seeds in mind, and when aligning \n",
      "                     reads to long, repetitive genomes, large --max-seeds could make alignment much slower. \n",
      "                     The default value is the maximum of 5 and the value that comes with -k times 2.\n",
      "  -a/--all           HISAT2 reports all alignments it can find. Using the option is equivalent to using both --max-seeds \n",
      "                     and -k with the maximum value that a 64-bit signed integer can represent (9,223,372,036,854,775,807).\n",
      "  --repeat           report alignments to repeat sequences directly\n",
      "\n",
      " Paired-end:\n",
      "  -I/--minins <int>  minimum fragment length (0), only valid with --no-spliced-alignment\n",
      "  -X/--maxins <int>  maximum fragment length (500), only valid with --no-spliced-alignment\n",
      "  --fr/--rf/--ff     -1, -2 mates align fw/rev, rev/fw, fw/fw (--fr)\n",
      "  --no-mixed         suppress unpaired alignments for paired reads\n",
      "  --no-discordant    suppress discordant alignments for paired reads\n",
      "\n",
      " Output:\n",
      "  -t/--time          print wall-clock time taken by search phases\n",
      "  --un <path>           write unpaired reads that didn't align to <path>\n",
      "  --al <path>           write unpaired reads that aligned at least once to <path>\n",
      "  --un-conc <path>      write pairs that didn't align concordantly to <path>\n",
      "  --al-conc <path>      write pairs that aligned concordantly at least once to <path>\n",
      "  (Note: for --un, --al, --un-conc, or --al-conc, add '-gz' to the option name, e.g.\n",
      "  --un-gz <path>, to gzip compress output, or add '-bz2' to bzip2 compress output.)\n",
      "  --summary-file <path> print alignment summary to this file.\n",
      "  --new-summary         print alignment summary in a new style, which is more machine-friendly.\n",
      "  --quiet               print nothing to stderr except serious errors\n",
      "  --met-file <path>     send metrics to file at <path> (off)\n",
      "  --met-stderr          send metrics to stderr (off)\n",
      "  --met <int>           report internal counters & metrics every <int> secs (1)\n",
      "  --no-head             suppress header lines, i.e. lines starting with @\n",
      "  --no-sq               suppress @SQ header lines\n",
      "  --rg-id <text>        set read group id, reflected in @RG line and RG:Z: opt field\n",
      "  --rg <text>           add <text> (\"lab:value\") to @RG line of SAM header.\n",
      "                        Note: @RG line only printed when --rg-id is set.\n",
      "  --omit-sec-seq        put '*' in SEQ and QUAL fields for secondary alignments.\n",
      "\n",
      " Performance:\n",
      "  -o/--offrate <int> override offrate of index; must be >= index's offrate\n",
      "  -p/--threads <int> number of alignment threads to launch (1)\n",
      "  --reorder          force SAM output order to match order of input reads\n",
      "  --mm               use memory-mapped I/O for index; many 'hisat2's can share\n",
      "\n",
      " Other:\n",
      "  --qc-filter        filter out reads that are bad according to QSEQ filter\n",
      "  --seed <int>       seed for random number generator (0)\n",
      "  --non-deterministic seed rand. gen. arbitrarily instead of using read attributes\n",
      "  --remove-chrname   remove 'chr' from reference names in alignment\n",
      "  --add-chrname      add 'chr' to reference names in alignment \n",
      "  --version          print version information and quit\n",
      "  -h/--help          print this usage message\n"
     ]
    }
   ],
   "source": [
    "! hisat-3n --help"
   ]
  },
  {
   "cell_type": "markdown",
   "id": "e1833004-ab6e-43a1-93d9-ae7ce2b17aa3",
   "metadata": {
    "scrolled": true
   },
   "source": [
    "```\n",
    "hisat3n --index {params.index}\n",
    "        -p {threads}\n",
    "        --summary-file {output.summary}\n",
    "        --new-summary\n",
    "        -q\n",
    "        -U {input}\n",
    "        --directional-mapping\n",
    "        --base-change C,T\n",
    "        --pen-noncansplice 20\n",
    "        --mp 4,1\n",
    "        --un {output.fq}\n",
    "        -S {output.sam}\n",
    "```"
   ]
  },
  {
   "cell_type": "markdown",
   "id": "12ef71a2-1e8b-4c06-9953-bad3b25b49e0",
   "metadata": {},
   "source": [
    "##### paramaters:\n",
    "- --index {params.index}, Index filename prefix (minus trailing .X.ht2) \n",
    "- -p {nc}, number of threads\n",
    "- --summary-file, print alignment summary to this file.\n",
    "- --new-summary, print alignment summary in a new style, which is more machine-friendly.\n",
    "- -q, query input files are FASTQ .fq/.fastq (default)\n",
    "- -U {input}, \n",
    "- --directional-mapping, make directional mapping, please use this option only if your reads are prepared with a strand specific library (off)\n",
    "- --base-change C,T,  the converted nucleotide and converted to nucleotide (C,T)\n",
    "- --pen-noncansplice 20, penalty for a non-canonical splice site (12)\n",
    "- --mp 4,1,  max and min penalties for mismatch; lower qual = lower penalty <6,2>\n",
    "- --un {output.fq}, write unpaired reads that didn't align to <path> \n",
    "- -S {output.sam}, File for SAM output (default: stdout)"
   ]
  },
  {
   "cell_type": "code",
   "execution_count": 667,
   "id": "5cdd8492-fa94-4434-9881-9231dba08130",
   "metadata": {},
   "outputs": [
    {
     "name": "stdout",
     "output_type": "stream",
     "text": [
      "HISAT2 summary stats:\n",
      "\tTotal reads: 1861617\n",
      "\t\tAligned 0 time: 377535 (20.28%)\n",
      "\t\tAligned 1 time: 1211399 (65.07%)\n",
      "\t\tAligned >1 times: 272683 (14.65%)\n",
      "\tOverall alignment rate: 79.72%\n",
      "HISAT2 summary stats:\n",
      "\tTotal reads: 2712114\n",
      "\t\tAligned 0 time: 670236 (24.71%)\n",
      "\t\tAligned 1 time: 1645757 (60.68%)\n",
      "\t\tAligned >1 times: 396121 (14.61%)\n",
      "\tOverall alignment rate: 75.29%\n",
      "HISAT2 summary stats:\n",
      "\tTotal reads: 2350874\n",
      "\t\tAligned 0 time: 566527 (24.10%)\n",
      "\t\tAligned 1 time: 1444626 (61.45%)\n",
      "\t\tAligned >1 times: 339721 (14.45%)\n",
      "\tOverall alignment rate: 75.90%\n"
     ]
    }
   ],
   "source": [
    "for sample in samples:\n",
    "    !hisat-3n --index {genome_idx}\\\n",
    "        -p {nc}\\\n",
    "        --summary-file {fname(out_path,sample,\"summary\")}\\\n",
    "        --new-summary\\\n",
    "        -q\\\n",
    "        -U {fname(in_path,sample,'fq.gz')}\\\n",
    "        --directional-mapping\\\n",
    "        --base-change C,T\\\n",
    "        --pen-noncansplice 20\\\n",
    "        --mp 4,1\\\n",
    "        --un {fname(out_path,sample,'unmapped.fq')}\\\n",
    "        -S {fname(out_path,sample,'sam')}"
   ]
  },
  {
   "cell_type": "markdown",
   "id": "7674f153-02d5-47b8-aaf1-f577584fe698",
   "metadata": {},
   "source": [
    "#### Analysis"
   ]
  },
  {
   "cell_type": "code",
   "execution_count": 679,
   "id": "687fd6be-2a5b-49a0-b6a1-af382ed2f3ae",
   "metadata": {},
   "outputs": [
    {
     "name": "stdout",
     "output_type": "stream",
     "text": [
      "total 2.6G\n",
      "-rw-rw-r-- 1 cdaniels cdaniels 653M Jan 31 16:42 t1.sam\n",
      "-rw-rw-r-- 1 cdaniels cdaniels  181 Jan 31 16:42 t1.summary\n",
      "-rw-rw-r-- 1 cdaniels cdaniels  58M Jan 31 16:42 t1.unmapped.fq\n",
      "-rw-rw-r-- 1 cdaniels cdaniels 905M Jan 31 16:43 t2.sam\n",
      "-rw-rw-r-- 1 cdaniels cdaniels  181 Jan 31 16:43 t2.summary\n",
      "-rw-rw-r-- 1 cdaniels cdaniels  97M Jan 31 16:43 t2.unmapped.fq\n",
      "-rw-rw-r-- 1 cdaniels cdaniels 792M Jan 31 16:43 t3.sam\n",
      "-rw-rw-r-- 1 cdaniels cdaniels  181 Jan 31 16:43 t3.summary\n",
      "-rw-rw-r-- 1 cdaniels cdaniels  82M Jan 31 16:43 t3.unmapped.fq\n"
     ]
    }
   ],
   "source": [
    "!ls -lh {out_path}"
   ]
  },
  {
   "cell_type": "code",
   "execution_count": 683,
   "id": "0452ab50-d295-493d-912e-41cc7115943a",
   "metadata": {},
   "outputs": [
    {
     "name": "stdout",
     "output_type": "stream",
     "text": [
      "HISAT2 summary stats:\n",
      "\tTotal reads: 1861617\n",
      "\t\tAligned 0 time: 377535 (20.28%)\n",
      "\t\tAligned 1 time: 1211399 (65.07%)\n",
      "\t\tAligned >1 times: 272683 (14.65%)\n",
      "\tOverall alignment rate: 79.72%\n"
     ]
    }
   ],
   "source": [
    "! cat {out_path}/t1.summary"
   ]
  },
  {
   "cell_type": "code",
   "execution_count": 676,
   "id": "a9a39eee-1fd7-4304-b980-bbb404d785df",
   "metadata": {},
   "outputs": [
    {
     "name": "stdout",
     "output_type": "stream",
     "text": [
      "@SRR23538290.1281_GTTTTGGGGG 1281 length=121\n",
      "GTTTGGTTGATATTTTGAGTTTTTTTTGCACAT\n",
      "+\n",
      ",FFFFFF:FFFFFFFFFFFF:FFFFFFFFFFFF\n",
      "@SRR23538290.1398_TACCTGGGGG 1398 length=121\n",
      "GGGAATTTGTTATAAGTGTAGTGTATTCC\n",
      "+\n",
      "FFFFFFFFFFFFFFFFFFFFFFFFFFFFF\n"
     ]
    }
   ],
   "source": [
    "! head -8 {out_path}/t1.unmapped.fq"
   ]
  },
  {
   "cell_type": "code",
   "execution_count": 692,
   "id": "f7964202-9104-41f9-b23b-d6d841c66995",
   "metadata": {},
   "outputs": [
    {
     "name": "stdout",
     "output_type": "stream",
     "text": [
      "SRR23538290.1281_GTTTTGGGGG\t4\t*\t0\t0\t*\t*\t0\t0\tGTTTGGTTGATATTTTGAGTTTTTTTTGCACAT\t,FFFFFF:FFFFFFFFFFFF:FFFFFFFFFFFF\tYT:Z:UU\n",
      "grep: write error: Broken pipe\n"
     ]
    }
   ],
   "source": [
    "! grep -v '@' {out_path}/t1.sam |head -1"
   ]
  },
  {
   "cell_type": "markdown",
   "id": "5a9a42a0-9bf2-44c4-b559-e40d5818bc6a",
   "metadata": {},
   "source": [
    "## Step: Hisat3n_sort"
   ]
  },
  {
   "cell_type": "markdown",
   "id": "640c2ff5-df93-4afb-8b5d-35106e520ece",
   "metadata": {},
   "source": [
    "#### Sort and Index Hisat3n Sam Files"
   ]
  },
  {
   "cell_type": "code",
   "execution_count": 728,
   "id": "2ae1a883-efc0-4773-b0c2-e7cfeaf9357e",
   "metadata": {},
   "outputs": [],
   "source": [
    "in_path = mkpath(\"hisat3n_align\")\n",
    "out_path = mkpath(\"hisat3n_sort\")"
   ]
  },
  {
   "cell_type": "markdown",
   "id": "9c040e0f-93a0-49f3-a085-036a0c86c3c2",
   "metadata": {},
   "source": [
    "#### samtools"
   ]
  },
  {
   "cell_type": "markdown",
   "id": "d2f487d0-1389-4878-a5d9-77bf3f1d66dd",
   "metadata": {},
   "source": [
    "http://www.htslib.org/doc/samtools.html"
   ]
  },
  {
   "cell_type": "markdown",
   "id": "3b659402-522a-47c6-89f9-79c62a7f0e02",
   "metadata": {
    "scrolled": true
   },
   "source": [
    "```\n",
    "samtools view\n",
    "    -@ {threads}\n",
    "    -F4 -b {input} |\n",
    "samtools sort\n",
    "    -@ {threads}\n",
    "    --write-index\n",
    "    -m 4G\n",
    "    -O BAM\n",
    "    -o {output} -\n",
    "```"
   ]
  },
  {
   "cell_type": "markdown",
   "id": "1431f54e-5483-4b0e-8c17-08957190476f",
   "metadata": {},
   "source": [
    "##### paramaters:\n",
    "```\n",
    "samtools view, SAM<->BAM<->CRAM conversion\n",
    "    -@ {nc}, number of threads \n",
    "    -F4, have none of the FLAGs present (-F 4 filters out unmapped reads) \n",
    "    -b, output a bam file\n",
    "    {input}  |\n",
    "samtools sort, sort alignment file\n",
    "    -@ {nc}, number of threads\n",
    "    --write-index, index the output files\n",
    "    -O BAM, output file format\n",
    "    -o {output} -\n",
    "```"
   ]
  },
  {
   "cell_type": "code",
   "execution_count": 729,
   "id": "629253cc-154d-4d71-8448-a0bfea40dd18",
   "metadata": {},
   "outputs": [
    {
     "name": "stdout",
     "output_type": "stream",
     "text": [
      "[bam_sort_core] merging from 0 files and 32 in-memory blocks...\n",
      "[bam_sort_core] merging from 0 files and 32 in-memory blocks...\n",
      "[bam_sort_core] merging from 0 files and 32 in-memory blocks...\n"
     ]
    }
   ],
   "source": [
    "for sample in samples:\n",
    "    ! samtools view -@ {nc} -F4 -b {fname(in_path, sample,'sam')}  | \\\n",
    "      samtools sort -@ {nc} --write-index -O BAM -o {fname(out_path,sample,'bam')} - "
   ]
  },
  {
   "cell_type": "markdown",
   "id": "211047f3-5203-4e21-b259-7746b03a936b",
   "metadata": {},
   "source": [
    "#### Analysis"
   ]
  },
  {
   "cell_type": "code",
   "execution_count": 724,
   "id": "1140e2ed-32b3-42f7-a115-5e6cb3175653",
   "metadata": {},
   "outputs": [
    {
     "name": "stdout",
     "output_type": "stream",
     "text": [
      "total 380M\n",
      "-rw-rw-r-- 1 cdaniels cdaniels 2.7M Jan 31 20:33 t1.bai\n",
      "-rw-rw-r-- 1 cdaniels cdaniels 102M Jan 31 20:35 t1.bam\n",
      "-rw-rw-r-- 1 cdaniels cdaniels 2.7M Jan 31 20:35 t1.bam.bai\n",
      "-rw-rw-r-- 1 cdaniels cdaniels 479K Jan 31 20:35 t1.bam.csi\n",
      "-rw-rw-r-- 1 cdaniels cdaniels 3.0M Jan 31 20:33 t2.bai\n",
      "-rw-rw-r-- 1 cdaniels cdaniels 138M Jan 31 20:35 t2.bam\n",
      "-rw-rw-r-- 1 cdaniels cdaniels 3.0M Jan 31 20:35 t2.bam.bai\n",
      "-rw-rw-r-- 1 cdaniels cdaniels 567K Jan 31 20:35 t2.bam.csi\n",
      "-rw-rw-r-- 1 cdaniels cdaniels 2.9M Jan 31 20:33 t3.bai\n",
      "-rw-rw-r-- 1 cdaniels cdaniels 122M Jan 31 20:35 t3.bam\n",
      "-rw-rw-r-- 1 cdaniels cdaniels 2.9M Jan 31 20:35 t3.bam.bai\n",
      "-rw-rw-r-- 1 cdaniels cdaniels 540K Jan 31 20:35 t3.bam.csi\n",
      "-rw-rw-r-- 1 cdaniels cdaniels  16K Jan 31 19:22 umi.txt\n"
     ]
    }
   ],
   "source": [
    "! ls -lh {out_path}"
   ]
  },
  {
   "cell_type": "markdown",
   "id": "74ad4df6-1fa1-43dc-8302-859affe0690f",
   "metadata": {},
   "source": [
    "## Step: Hisat3n_dedup"
   ]
  },
  {
   "cell_type": "markdown",
   "id": "ad8d9bf1-95a8-4198-988c-4cc83db22bad",
   "metadata": {},
   "source": [
    "#### Remove Dulpicate Reads"
   ]
  },
  {
   "cell_type": "code",
   "execution_count": 730,
   "id": "4d6761e7-18a1-48a7-a9a7-17e32f5eec65",
   "metadata": {},
   "outputs": [],
   "source": [
    "in_path = mkpath(\"hisat3n_sort\")\n",
    "out_path = mkpath(\"hisat3n_dedup\")"
   ]
  },
  {
   "cell_type": "markdown",
   "id": "e58c2685-80da-428c-bdfc-9447ebfc73fe",
   "metadata": {},
   "source": [
    "#### umicollapse"
   ]
  },
  {
   "cell_type": "markdown",
   "id": "9d0f9db8-aaf5-4ee2-9c4f-97e79da12a0a",
   "metadata": {},
   "source": [
    "https://github.com/Daniel-Liu-c0deb0t/UMICollapse"
   ]
  },
  {
   "cell_type": "markdown",
   "id": "e09e2177-b96c-495b-b56c-c1b4689f0634",
   "metadata": {},
   "source": [
    "##### paramaters:\n",
    "```\n",
    "umicollapse bam, use a bam file\n",
    "    --two-pass, use a separate two-pass algorithm for SAM/BAM deduplication.\n",
    "    -i {input.bam}, indexed input bam file\n",
    "    -o {output.bam}, output bam file\n",
    "      > {output.log}\n",
    "```"
   ]
  },
  {
   "cell_type": "code",
   "execution_count": 731,
   "id": "1af0f53c-3277-4745-8a64-63283360815c",
   "metadata": {},
   "outputs": [
    {
     "name": "stdout",
     "output_type": "stream",
     "text": [
      "Picked up _JAVA_OPTIONS: -Xmx4096m\n",
      "WARNING: BAM index file /home/cdaniels/uofc_data/ubs_seq/UBS-seq_basic/workspace/hisat3n_sort/t1.bam.csi is older than BAM /home/cdaniels/uofc_data/ubs_seq/UBS-seq_basic/workspace/hisat3n_sort/t1.bam\n",
      "INFO\t2024-01-31 20:42:47\tSortingCollection\tCreating merging iterator from 5 files\n",
      "Picked up _JAVA_OPTIONS: -Xmx4096m\n",
      "INFO\t2024-01-31 20:43:06\tSortingCollection\tCreating merging iterator from 7 files\n",
      "Picked up _JAVA_OPTIONS: -Xmx4096m\n",
      "INFO\t2024-01-31 20:43:27\tSortingCollection\tCreating merging iterator from 6 files\n"
     ]
    }
   ],
   "source": [
    "for sample in samples:\n",
    "    !umicollapse bam  \\\n",
    "    -i {fname(in_path,sample,'bam')} \\\n",
    "    -o {fname(out_path,sample,'bam')}\\\n",
    "    >  {fname(out_path,sample,'log')}"
   ]
  },
  {
   "cell_type": "markdown",
   "id": "1f6fe90e-c8b6-49c6-b21c-e0a0409f37de",
   "metadata": {},
   "source": [
    "#### Analysis"
   ]
  },
  {
   "cell_type": "code",
   "execution_count": 732,
   "id": "a52dc069-dd33-4659-9d68-6824b311f096",
   "metadata": {},
   "outputs": [
    {
     "name": "stdout",
     "output_type": "stream",
     "text": [
      "t1.bam\tt1.log\tt2.bam\tt2.log\tt3.bam\tt3.log\n"
     ]
    }
   ],
   "source": [
    "! ls -h {out_path}"
   ]
  },
  {
   "cell_type": "code",
   "execution_count": null,
   "id": "fd112fd3-6634-4648-9a0a-7a44a8efb7cf",
   "metadata": {},
   "outputs": [],
   "source": []
  },
  {
   "cell_type": "markdown",
   "id": "2af7b272",
   "metadata": {},
   "source": [
    "## Step: dedup OLD OLD"
   ]
  },
  {
   "cell_type": "markdown",
   "id": "d57fa5ba-4e41-40ca-97c9-9c2553ff0d1d",
   "metadata": {},
   "source": [
    "#### Remove duplicate pcr reads"
   ]
  },
  {
   "cell_type": "code",
   "execution_count": 78,
   "id": "d6391aaa",
   "metadata": {},
   "outputs": [],
   "source": [
    "in_path= mkpath(\"align\")\n",
    "out_path = mkpath(\"dedup\")"
   ]
  },
  {
   "cell_type": "markdown",
   "id": "68cf4a9c-5da0-448d-b0b4-82479f32a16f",
   "metadata": {},
   "source": [
    "#### umi_tools"
   ]
  },
  {
   "cell_type": "markdown",
   "id": "058f7378-c4ca-4cc9-a778-7e07df98ceec",
   "metadata": {
    "scrolled": true
   },
   "source": [
    "https://umi-tools.readthedocs.io/en/latest/index.html"
   ]
  },
  {
   "cell_type": "markdown",
   "id": "c399b23d-89e9-4187-a006-3ead12c827b1",
   "metadata": {},
   "source": [
    "pip install umi_tools"
   ]
  },
  {
   "cell_type": "code",
   "execution_count": 79,
   "id": "bdeeb064-8c8b-4da5-8ee3-b28345777337",
   "metadata": {
    "scrolled": true
   },
   "outputs": [
    {
     "name": "stdout",
     "output_type": "stream",
     "text": [
      "For full UMI-tools documentation, see: https://umi-tools.readthedocs.io/en/latest/\n",
      "\n",
      "\n",
      "umi_tools.py - Tools for UMI analyses\n",
      "=====================================\n",
      "\n",
      ":Author: Tom Smith & Ian Sudbury, CGAT\n",
      ":Tags: Genomics UMI\n",
      "\n",
      "There are 6 tools:\n",
      "\n",
      "  - whitelist\n",
      "  - extract\n",
      "  - group\n",
      "  - dedup\n",
      "  - count\n",
      "  - count_tab\n",
      "\n",
      "To get help on a specific tool, type:\n",
      "\n",
      "    umi_tools <tool> --help\n",
      "\n",
      "To use a specific tool, type::\n",
      "\n",
      "    umi_tools <tool> [tool options] [tool arguments]\n",
      "\n"
     ]
    }
   ],
   "source": [
    "! umi_tools -h"
   ]
  },
  {
   "cell_type": "code",
   "execution_count": 80,
   "id": "82326ae9-28e6-4aa7-b28f-c56d061ade25",
   "metadata": {},
   "outputs": [
    {
     "name": "stdout",
     "output_type": "stream",
     "text": [
      "\n",
      "dedup - Deduplicate reads using UMI and mapping coordinates\n",
      "\n",
      "Usage: umi_tools dedup [OPTIONS] [--stdin=IN_BAM] [--stdout=OUT_BAM]\n",
      "\n",
      "       note: If --stdout is ommited, standard out is output. To\n",
      "             generate a valid BAM file on standard out, please\n",
      "             redirect log with --log=LOGFILE or --log2stderr \n",
      "\n",
      "For full UMI-tools documentation, see https://umi-tools.readthedocs.io/en/latest/\n",
      "\n",
      "Required options missing, see --help for more details\n"
     ]
    }
   ],
   "source": [
    "! umi_tools dedup"
   ]
  },
  {
   "cell_type": "markdown",
   "id": "a1cdeb9c-4bb3-4f94-b342-9ea841fbb743",
   "metadata": {},
   "source": [
    "##### paramaters\n",
    "- dedup, deduplicate reads using UMI and mapping coordinates\n",
    "- --method directional, specifies the algorithm used for selecting a representative read from a group of reads that share the same alignment position and UMI (after accounting for potential sequencing errors in the UMI).\n",
    "- -I {in_fn}, indexed BAM file for deduplication\n",
    "- --output-stats {stats_fn}, filename where the deduplication statistics will be saved\n",
    "- -L {log_fn}, filename where log output should be written\n",
    "- --temp-dir {temp_dir}, path to temporary directory\n",
    "- S {out_fn}, stdout for BAM file with deduplicated reads"
   ]
  },
  {
   "cell_type": "code",
   "execution_count": 81,
   "id": "d0c238ea",
   "metadata": {
    "scrolled": true
   },
   "outputs": [],
   "source": [
    "for sample in samples:\n",
    "    !umi_tools dedup --method directional              \\\n",
    "        -I {fname(in_path,sample,\"bam\")}               \\\n",
    "        --output-stats={out_path}/dedup.stats          \\\n",
    "        -L {out_path}/umitools.log                     \\\n",
    "        --temp-dir={out_path}/                         \\\n",
    "        -S {fname(out_path,sample,\"bam\")} 2> /dev/null"
   ]
  },
  {
   "cell_type": "code",
   "execution_count": 82,
   "id": "b1a38da9-6c53-4c14-82bc-252bdca96bfe",
   "metadata": {},
   "outputs": [
    {
     "name": "stdout",
     "output_type": "stream",
     "text": [
      "total 324M\n",
      "-rw-rw-r-- 1 cdaniels cdaniels  61M Oct 14 00:04 a4_1.bam\n",
      "-rw-rw-r-- 1 cdaniels cdaniels  17M Oct 14 00:04 a4_2.bam\n",
      "-rw-rw-r-- 1 cdaniels cdaniels  51M Oct 14 00:05 a4_3.bam\n",
      "-rw-rw-r-- 1 cdaniels cdaniels  38M Oct 14 00:05 a4_4.bam\n",
      "-rw-rw-r-- 1 cdaniels cdaniels  300 Oct 14 00:07 dedup.stats_edit_distance.tsv\n",
      "-rw-rw-r-- 1 cdaniels cdaniels 1.4K Oct 14 00:07 dedup.stats_per_umi_per_position.tsv\n",
      "-rw-rw-r-- 1 cdaniels cdaniels 1.5M Oct 14 00:07 dedup.stats_per_umi.tsv\n",
      "-rw-rw-r-- 1 cdaniels cdaniels  42M Oct 14 00:06 no_1.bam\n",
      "-rw-rw-r-- 1 cdaniels cdaniels  43M Oct 14 00:06 no_2.bam\n",
      "-rw-rw-r-- 1 cdaniels cdaniels  31M Oct 14 00:07 no_3.bam\n",
      "-rw-rw-r-- 1 cdaniels cdaniels  44M Oct 14 00:07 no_4.bam\n",
      "-rw-rw-r-- 1 cdaniels cdaniels  36K Oct 14 00:07 umitools.log\n"
     ]
    }
   ],
   "source": [
    "! ls -lh {out_path}"
   ]
  },
  {
   "cell_type": "markdown",
   "id": "94a15938-2c5e-4f6d-81e0-cb27eabecc79",
   "metadata": {},
   "source": [
    "#### Analysis"
   ]
  },
  {
   "cell_type": "code",
   "execution_count": 83,
   "id": "839a5e4e-1d77-4b00-80f8-24ec426cc9dd",
   "metadata": {},
   "outputs": [
    {
     "data": {
      "text/plain": [
       "[2595303, 819585, 1630323, 1176367, 1766129, 1290541, 967229, 1417404]"
      ]
     },
     "execution_count": 83,
     "metadata": {},
     "output_type": "execute_result"
    }
   ],
   "source": [
    "# Pre dedup\n",
    "ins = [nseqs(fname(in_path,sample,'bam')) for sample in samples]\n",
    "ins"
   ]
  },
  {
   "cell_type": "code",
   "execution_count": 84,
   "id": "4e3a8104-5eb3-4781-8d41-20567f55d7ff",
   "metadata": {},
   "outputs": [
    {
     "data": {
      "text/plain": [
       "[1479247, 379872, 1263524, 919344, 978142, 997874, 767642, 1090610]"
      ]
     },
     "execution_count": 84,
     "metadata": {},
     "output_type": "execute_result"
    }
   ],
   "source": [
    "# Post dedup\n",
    "outs = [nseqs(fname(out_path,sample,'bam')) for sample in samples]\n",
    "outs"
   ]
  },
  {
   "cell_type": "code",
   "execution_count": 85,
   "id": "0a869095-5214-4a7f-905a-a7af72eced51",
   "metadata": {},
   "outputs": [
    {
     "data": {
      "image/png": "[encoded data removed]",
      "text/plain": [
       "<Figure size 640x480 with 1 Axes>"
      ]
     },
     "metadata": {},
     "output_type": "display_data"
    }
   ],
   "source": [
    "make_table(ins, outs, \"Pre Depup\", \"Post Dedup\", \"Number of Reads\", samples, \"Remove Duplicate PCR Reads\")"
   ]
  },
  {
   "cell_type": "markdown",
   "id": "5cb41ed9",
   "metadata": {
    "jp-MarkdownHeadingCollapsed": true
   },
   "source": [
    "## Step: split_fwd"
   ]
  },
  {
   "cell_type": "markdown",
   "id": "8e3bb70a-e471-4e48-ac98-fb800b30c9b8",
   "metadata": {},
   "source": [
    "#### Split forward reads"
   ]
  },
  {
   "cell_type": "code",
   "execution_count": 86,
   "id": "8e7f2f40",
   "metadata": {},
   "outputs": [],
   "source": [
    "in_path  = mkpath(\"dedup\")\n",
    "out_path = mkpath(\"split_fwd\")"
   ]
  },
  {
   "cell_type": "markdown",
   "id": "87fb1071-811c-4441-93e1-5fbf2025812e",
   "metadata": {},
   "source": [
    "#### samtools view"
   ]
  },
  {
   "cell_type": "markdown",
   "id": "01814e9d-279b-46c9-85d6-a6c2933c07c7",
   "metadata": {},
   "source": [
    "https://www.htslib.org"
   ]
  },
  {
   "cell_type": "code",
   "execution_count": 87,
   "id": "f7f26c58",
   "metadata": {
    "scrolled": true
   },
   "outputs": [
    {
     "name": "stdout",
     "output_type": "stream",
     "text": [
      "\n",
      "Usage: samtools view [options] <in.bam>|<in.sam>|<in.cram> [region ...]\n",
      "\n",
      "Output options:\n",
      "  -b, --bam                  Output BAM\n",
      "  -C, --cram                 Output CRAM (requires -T)\n",
      "  -1, --fast                 Use fast BAM compression (and default to --bam)\n",
      "  -u, --uncompressed         Uncompressed BAM output (and default to --bam)\n",
      "  -h, --with-header          Include header in SAM output\n",
      "  -H, --header-only          Print SAM header only (no alignments)\n",
      "      --no-header            Print SAM alignment records only [default]\n",
      "  -c, --count                Print only the count of matching records\n",
      "  -o, --output FILE          Write output to FILE [standard output]\n",
      "  -U, --unoutput FILE, --output-unselected FILE\n",
      "                             Output reads not selected by filters to FILE\n",
      "  -p, --unmap                Set flag to UNMAP on reads not selected\n",
      "                             then write to output file.\n",
      "  -P, --fetch-pairs          Retrieve complete pairs even when outside of region\n",
      "Input options:\n",
      "  -t, --fai-reference FILE   FILE listing reference names and lengths\n",
      "  -M, --use-index            Use index and multi-region iterator for regions\n",
      "      --region[s]-file FILE  Use index to include only reads overlapping FILE\n",
      "  -X, --customized-index     Expect extra index file argument after <in.bam>\n",
      "\n",
      "Filtering options (Only include in output reads that...):\n",
      "  -L, --target[s]-file FILE  ...overlap (BED) regions in FILE\n",
      "  -r, --read-group STR       ...are in read group STR\n",
      "  -R, --read-group-file FILE ...are in a read group listed in FILE\n",
      "  -N, --qname-file FILE      ...whose read name is listed in FILE\n",
      "  -d, --tag STR1[:STR2]      ...have a tag STR1 (with associated value STR2)\n",
      "  -D, --tag-file STR:FILE    ...have a tag STR whose value is listed in FILE\n",
      "  -q, --min-MQ INT           ...have mapping quality >= INT\n",
      "  -l, --library STR          ...are in library STR\n",
      "  -m, --min-qlen INT         ...cover >= INT query bases (as measured via CIGAR)\n",
      "  -e, --expr STR             ...match the filter expression STR\n",
      "  -f, --require-flags FLAG   ...have all of the FLAGs present\n",
      "  -F, --excl[ude]-flags FLAG ...have none of the FLAGs present\n",
      "      --rf, --incl-flags, --include-flags FLAG\n",
      "                             ...have some of the FLAGs present\n",
      "  -G FLAG                    EXCLUDE reads with all of the FLAGs present\n",
      "      --subsample FLOAT      Keep only FLOAT fraction of templates/read pairs\n",
      "      --subsample-seed INT   Influence WHICH reads are kept in subsampling [0]\n",
      "  -s INT.FRAC                Same as --subsample 0.FRAC --subsample-seed INT\n",
      "\n",
      "Processing options:\n",
      "      --add-flags FLAG       Add FLAGs to reads\n",
      "      --remove-flags FLAG    Remove FLAGs from reads\n",
      "  -x, --remove-tag STR\n",
      "               Comma-separated read tags to strip (repeatable) [null]\n",
      "      --keep-tag STR\n",
      "               Comma-separated read tags to preserve (repeatable) [null].\n",
      "               Equivalent to \"-x ^STR\"\n",
      "  -B, --remove-B             Collapse the backward CIGAR operation\n",
      "  -z, --sanitize FLAGS       Perform sanitity checking and fixing on records.\n",
      "                             FLAGS is comma separated (see manual). [off]\n",
      "\n",
      "General options:\n",
      "  -?, --help   Print long help, including note about region specification\n",
      "  -S           Ignored (input format is auto-detected)\n",
      "      --no-PG  Do not add a PG line\n",
      "      --input-fmt-option OPT[=VAL]\n",
      "               Specify a single input file format option in the form\n",
      "               of OPTION or OPTION=VALUE\n",
      "  -O, --output-fmt FORMAT[,OPT[=VAL]]...\n",
      "               Specify output format (SAM, BAM, CRAM)\n",
      "      --output-fmt-option OPT[=VAL]\n",
      "               Specify a single output file format option in the form\n",
      "               of OPTION or OPTION=VALUE\n",
      "  -T, --reference FILE\n",
      "               Reference sequence FASTA FILE [null]\n",
      "  -@, --threads INT\n",
      "               Number of additional threads to use [0]\n",
      "      --write-index\n",
      "               Automatically index the output files [off]\n",
      "      --verbosity INT\n",
      "               Set level of verbosity\n",
      "\n"
     ]
    }
   ],
   "source": [
    "!samtools view "
   ]
  },
  {
   "cell_type": "markdown",
   "id": "a19e8c26-9b8e-4dc8-b04a-287837fc9ffd",
   "metadata": {},
   "source": [
    "##### paramaters\n",
    "- view,\n",
    "- -@ {nc}, number of threads\n",
    "- -F 16, excludes `flag 16`, meaning select forward reads (-f 16, selects reverse reads)\n",
    "- -b,\n",
    "- {in_fn}, input bam file \n",
    "- -o, ouput bam file with forward reads"
   ]
  },
  {
   "cell_type": "markdown",
   "id": "4b10ad99-8063-4824-803a-395ca908affb",
   "metadata": {},
   "source": [
    "#### samtools index"
   ]
  },
  {
   "cell_type": "markdown",
   "id": "6eae2694-4b7c-4829-8ecc-20922373e867",
   "metadata": {},
   "source": [
    "https://www.htslib.org"
   ]
  },
  {
   "cell_type": "code",
   "execution_count": 88,
   "id": "50b827f2",
   "metadata": {
    "scrolled": true
   },
   "outputs": [
    {
     "name": "stdout",
     "output_type": "stream",
     "text": [
      "Usage: samtools index -M [-bc] [-m INT] <in1.bam> <in2.bam>...\n",
      "   or: samtools index [-bc] [-m INT] <in.bam> [out.index]\n",
      "Options:\n",
      "  -b       Generate BAI-format index for BAM files [default]\n",
      "  -c       Generate CSI-format index for BAM files\n",
      "  -m INT   Set minimum interval size for CSI indices to 2^INT [14]\n",
      "  -M       Interpret all filename arguments as files to be indexed\n",
      "  -o FILE  Write index to FILE [alternative to <out.index> as an argument]\n",
      "  -@ INT   Sets the number of threads [none]\n"
     ]
    }
   ],
   "source": [
    "!samtools index"
   ]
  },
  {
   "cell_type": "markdown",
   "id": "5e5782f3-d12e-484b-8ce9-d071d4fa65ff",
   "metadata": {},
   "source": [
    "##### paramters\n",
    "- index, creates a bam index file for a bam file\n",
    "- -@ {nc}, number of threads\n",
    "- {in_fn}, input sorted bam file and ouputs an index; *.bam -> *.bam.bai"
   ]
  },
  {
   "cell_type": "code",
   "execution_count": 89,
   "id": "39fb914c",
   "metadata": {},
   "outputs": [],
   "source": [
    "for sample in samples:\n",
    "    !samtools view  -@ {nc} -F 16 {fname(in_path,sample,\"bam\")} -b -o {fname(out_path,sample,\"bam\")} \n",
    "    !samtools index -@ {nc} {fname(out_path,sample,\"bam\")}"
   ]
  },
  {
   "cell_type": "code",
   "execution_count": 90,
   "id": "3bd84be6-eae8-4cfc-bc57-f254d3474716",
   "metadata": {},
   "outputs": [
    {
     "name": "stdout",
     "output_type": "stream",
     "text": [
      "total 324M\n",
      "-rw-rw-r-- 1 cdaniels cdaniels  61M Oct 14 00:04 a4_1.bam\n",
      "-rw-rw-r-- 1 cdaniels cdaniels  17M Oct 14 00:04 a4_2.bam\n",
      "-rw-rw-r-- 1 cdaniels cdaniels  51M Oct 14 00:05 a4_3.bam\n",
      "-rw-rw-r-- 1 cdaniels cdaniels  38M Oct 14 00:05 a4_4.bam\n",
      "-rw-rw-r-- 1 cdaniels cdaniels  300 Oct 14 00:07 dedup.stats_edit_distance.tsv\n",
      "-rw-rw-r-- 1 cdaniels cdaniels 1.4K Oct 14 00:07 dedup.stats_per_umi_per_position.tsv\n",
      "-rw-rw-r-- 1 cdaniels cdaniels 1.5M Oct 14 00:07 dedup.stats_per_umi.tsv\n",
      "-rw-rw-r-- 1 cdaniels cdaniels  42M Oct 14 00:06 no_1.bam\n",
      "-rw-rw-r-- 1 cdaniels cdaniels  43M Oct 14 00:06 no_2.bam\n",
      "-rw-rw-r-- 1 cdaniels cdaniels  31M Oct 14 00:07 no_3.bam\n",
      "-rw-rw-r-- 1 cdaniels cdaniels  44M Oct 14 00:07 no_4.bam\n",
      "-rw-rw-r-- 1 cdaniels cdaniels  36K Oct 14 00:07 umitools.log\n"
     ]
    }
   ],
   "source": [
    "!ls -lh {in_path}"
   ]
  },
  {
   "cell_type": "markdown",
   "id": "360074b8-d88d-4971-a8b3-0c053fc626bf",
   "metadata": {},
   "source": [
    "#### Analysis"
   ]
  },
  {
   "cell_type": "code",
   "execution_count": 91,
   "id": "e54d1f81-c5d4-471e-b9c4-a68c4811352d",
   "metadata": {},
   "outputs": [
    {
     "data": {
      "text/plain": [
       "PosixPath('dedup/a4_2.bam')"
      ]
     },
     "execution_count": 91,
     "metadata": {},
     "output_type": "execute_result"
    }
   ],
   "source": [
    "in_fn  = fname(in_path,treated[1], 'bam')\n",
    "out_fn = fname(out_path,treated[1],'bam')\n",
    "in_fn"
   ]
  },
  {
   "cell_type": "markdown",
   "id": "b8a90a2a-c5a8-4be5-8a21-8b9463db29ed",
   "metadata": {},
   "source": [
    "Look at the format of a bam file"
   ]
  },
  {
   "cell_type": "code",
   "execution_count": 92,
   "id": "07000b50",
   "metadata": {
    "scrolled": true
   },
   "outputs": [
    {
     "name": "stdout",
     "output_type": "stream",
     "text": [
      "VH01331:96:AACYNKFM5:1:2306:27131:33336_TTTTTTTA\t16\tchr1\t405127\t255\t31M2D23M\t*\t0\t0\tGGGTAAAGAGGCAAAGAGGCACCTTTTATTTTTTTTTTTTTTTTTTTTTTGAGT\tCCC--CC--CC;CCC---C--;--CC;-;CCCCCCCCCCCCCCCCCC;C;CCC;\tNH:i:1\tHI:i:1\tAS:i:43\tnM:i:2\tNM:i:4\tMD:Z:20T6C3^TC23\tjM:B:c,-1\tjI:B:i,-1\n",
      "VH01331:96:AACYNKFM5:1:2606:44911:40284_TGCACAAC\t16\tchr1\t607282\t255\t54M\t*\t0\t0\tGACAGAAAGGCAGGAGGAAGAGGAGGAGGAGAATCTTTGCACAGGGGGTGTCAG\tC-CCCC---;CC-CC;;CCC-C;CCCCCC;CC;CCCCCC;CCCCCCCCCC-CCC\tNH:i:1\tHI:i:1\tAS:i:53\tnM:i:0\tNM:i:0\tMD:Z:54\tjM:B:c,-1\tjI:B:i,-1\n",
      "samtools view: writing to standard output failed: Broken pipe\n",
      "samtools view: error closing standard output: -1\n"
     ]
    }
   ],
   "source": [
    "!samtools view {in_fn} |head -2"
   ]
  },
  {
   "cell_type": "markdown",
   "id": "4cb34f22-da56-4555-9755-a309920d3a86",
   "metadata": {},
   "source": [
    "Number of forward and reverse reads should equal total reads"
   ]
  },
  {
   "cell_type": "code",
   "execution_count": 93,
   "id": "5058f7a0",
   "metadata": {},
   "outputs": [
    {
     "name": "stdout",
     "output_type": "stream",
     "text": [
      "233566\n",
      "146306\n",
      "379872\n"
     ]
    }
   ],
   "source": [
    "!samtools view -c {in_fn} -F 16\n",
    "!samtools view -c {in_fn} -f 16\n",
    "!samtools view -c {in_fn}"
   ]
  },
  {
   "cell_type": "markdown",
   "id": "151516de",
   "metadata": {
    "jp-MarkdownHeadingCollapsed": true
   },
   "source": [
    "## Step: split_rev"
   ]
  },
  {
   "cell_type": "markdown",
   "id": "7299fd66-f718-4c46-abd1-4f2504338ab8",
   "metadata": {},
   "source": [
    "#### Split reverse reads"
   ]
  },
  {
   "cell_type": "code",
   "execution_count": 95,
   "id": "a7bda4bf",
   "metadata": {},
   "outputs": [],
   "source": [
    "in_path  = mkpath(\"dedup\")\n",
    "out_path = mkpath(\"split_rev\")"
   ]
  },
  {
   "cell_type": "markdown",
   "id": "8d07bbab-303e-4978-949a-f1cc979b12d0",
   "metadata": {},
   "source": [
    "#### samtools view"
   ]
  },
  {
   "cell_type": "markdown",
   "id": "f6340272-8e6c-4aed-9a2f-fb502b0769e4",
   "metadata": {},
   "source": [
    "##### paramaters\n",
    "- view,\n",
    "- -@ {nc}, number of threads\n",
    "- -F 16, excludes `flag 16`, meaning select forward reads (-f 16, selects reverse reads)\n",
    "- -b,\n",
    "- {in_fn}, input bam file \n",
    "- -o, ouput bam file with forward reads"
   ]
  },
  {
   "cell_type": "markdown",
   "id": "915ae262-106a-4b62-962c-cb9f40204138",
   "metadata": {},
   "source": [
    "#### samtools index"
   ]
  },
  {
   "cell_type": "markdown",
   "id": "a2591337-70f1-403c-b9b7-a84bf3a64730",
   "metadata": {},
   "source": [
    "##### paramters\n",
    "- index, creates a bam index file for a bam file\n",
    "- -@ {nc}, number of threads\n",
    "- {in_fn}, input sorted bam file and ouputs an index; *.bam -> *.bam.bai"
   ]
  },
  {
   "cell_type": "code",
   "execution_count": 96,
   "id": "35f8c90f",
   "metadata": {},
   "outputs": [],
   "source": [
    "for sample in samples:\n",
    "    !samtools view  -@ {nc} -f 16 {fname(in_path,sample,\"bam\")} -b -o {fname(out_path,sample,\"bam\")} \n",
    "    !samtools index -@ {nc} {fname(out_path,sample,\"bam\")}"
   ]
  },
  {
   "cell_type": "markdown",
   "id": "3147326e",
   "metadata": {},
   "source": [
    "## Step: peak_fwd"
   ]
  },
  {
   "cell_type": "markdown",
   "id": "55001850-9733-48ff-8645-43dea137e873",
   "metadata": {},
   "source": [
    "#### Call peaks from forward reads"
   ]
  },
  {
   "cell_type": "code",
   "execution_count": 97,
   "id": "569fd44e",
   "metadata": {},
   "outputs": [],
   "source": [
    "in_path   = mkpath(\"split_fwd\")\n",
    "out_path  = mkpath(\"peak_fwd\")"
   ]
  },
  {
   "cell_type": "markdown",
   "id": "6fc1e3aa-37cc-4344-865c-de9b0d1d97df",
   "metadata": {},
   "source": [
    "#### macs3"
   ]
  },
  {
   "cell_type": "markdown",
   "id": "bbdd8d47-19df-4697-b707-c825f15a5a0b",
   "metadata": {},
   "source": [
    "https://macs3-project.github.io/MACS/"
   ]
  },
  {
   "cell_type": "code",
   "execution_count": 98,
   "id": "49d758aa",
   "metadata": {
    "scrolled": true
   },
   "outputs": [
    {
     "name": "stdout",
     "output_type": "stream",
     "text": [
      "usage: macs3 callpeak [-h] -t TFILE [TFILE ...] [-c [CFILE ...]]\n",
      "                      [-f {AUTO,BAM,SAM,BED,ELAND,ELANDMULTI,ELANDEXPORT,BOWTIE,BAMPE,BEDPE}]\n",
      "                      [-g GSIZE] [-s TSIZE] [--keep-dup KEEPDUPLICATES]\n",
      "                      [--outdir OUTDIR] [-n NAME] [-B] [--verbose VERBOSE]\n",
      "                      [--trackline] [--SPMR] [--nomodel] [--shift SHIFT]\n",
      "                      [--extsize EXTSIZE] [--bw BW] [--d-min D_MIN]\n",
      "                      [-m MFOLD MFOLD] [--fix-bimodal] [-q QVALUE | -p PVALUE]\n",
      "                      [--scale-to {large,small}] [--down-sample] [--seed SEED]\n",
      "                      [--tempdir TEMPDIR] [--nolambda] [--slocal SMALLLOCAL]\n",
      "                      [--llocal LARGELOCAL] [--max-gap MAXGAP]\n",
      "                      [--min-length MINLEN] [--broad]\n",
      "                      [--broad-cutoff BROADCUTOFF] [--cutoff-analysis]\n",
      "                      [--call-summits] [--fe-cutoff FECUTOFF] [--to-large]\n",
      "                      [--ratio RATIO] [--buffer-size BUFFER_SIZE]\n",
      "\n",
      "options:\n",
      "  -h, --help            show this help message and exit\n",
      "\n",
      "Input files arguments:\n",
      "  -t TFILE [TFILE ...], --treatment TFILE [TFILE ...]\n",
      "                        ChIP-seq treatment file. If multiple files are given\n",
      "                        as '-t A B C', then they will all be read and pooled\n",
      "                        together. REQUIRED.\n",
      "  -c [CFILE ...], --control [CFILE ...]\n",
      "                        Control file. If multiple files are given as '-c A B\n",
      "                        C', they will be pooled to estimate ChIP-seq\n",
      "                        background noise.\n",
      "  -f {AUTO,BAM,SAM,BED,ELAND,ELANDMULTI,ELANDEXPORT,BOWTIE,BAMPE,BEDPE}, --format {AUTO,BAM,SAM,BED,ELAND,ELANDMULTI,ELANDEXPORT,BOWTIE,BAMPE,BEDPE}\n",
      "                        Format of tag file, \"AUTO\", \"BED\" or \"ELAND\" or\n",
      "                        \"ELANDMULTI\" or \"ELANDEXPORT\" or \"SAM\" or \"BAM\" or\n",
      "                        \"BOWTIE\" or \"BAMPE\" or \"BEDPE\". The default AUTO\n",
      "                        option will let MACS decide which format (except for\n",
      "                        BAMPE and BEDPE which should be implicitly set) the\n",
      "                        file is. Please check the definition in README. Please\n",
      "                        note that if the format is set as BAMPE or BEDPE,\n",
      "                        MACS3 will call its special Paired-end mode to call\n",
      "                        peaks by piling up the actual ChIPed fragments defined\n",
      "                        by both aligned ends, instead of predicting the\n",
      "                        fragment size first and extending reads. Also please\n",
      "                        note that the BEDPE only contains three columns, and\n",
      "                        is NOT the same BEDPE format used by BEDTOOLS.\n",
      "                        DEFAULT: \"AUTO\"\n",
      "  -g GSIZE, --gsize GSIZE\n",
      "                        Effective genome size. It can be 1.0e+9 or 1000000000,\n",
      "                        or shortcuts:'hs' for human (2.9e9), 'mm' for mouse\n",
      "                        (2.6e9), 'ce' for C. elegans (1e8) and 'dm' for\n",
      "                        fruitfly (1.4e8), Default:hs. The effective genome\n",
      "                        size numbers are collected from Deeptools https://deep\n",
      "                        tools.readthedocs.io/en/develop/content/feature/effect\n",
      "                        iveGenomeSize.html Please refer to deeptools to define\n",
      "                        the best genome size you plan to use.\n",
      "  -s TSIZE, --tsize TSIZE\n",
      "                        Tag size/read length. This will override the auto\n",
      "                        detected tag size. DEFAULT: Not set\n",
      "  --keep-dup KEEPDUPLICATES\n",
      "                        It controls the behavior towards duplicate tags at the\n",
      "                        exact same location -- the same coordination and the\n",
      "                        same strand. The 'auto' option makes MACS calculate\n",
      "                        the maximum tags at the exact same location based on\n",
      "                        binomal distribution using 1e-5 as pvalue cutoff; and\n",
      "                        the 'all' option keeps every tags. If an integer is\n",
      "                        given, at most this number of tags will be kept at the\n",
      "                        same location. Note, if you've used samtools or picard\n",
      "                        to flag reads as 'PCR/Optical duplicate' in bit 1024,\n",
      "                        MACS3 will still read them although the reads may be\n",
      "                        decided by MACS3 as duplicate later. If you plan to\n",
      "                        rely on samtools/picard/any other tool to filter\n",
      "                        duplicates, please remove those duplicate reads and\n",
      "                        save a new alignment file then ask MACS3 to keep all\n",
      "                        by '--keep-dup all'. The default is to keep one tag at\n",
      "                        the same location. Default: 1\n",
      "\n",
      "Output arguments:\n",
      "  --outdir OUTDIR       If specified all output files will be written to that\n",
      "                        directory. Default: the current working directory\n",
      "  -n NAME, --name NAME  Experiment name, which will be used to generate output\n",
      "                        file names. DEFAULT: \"NA\"\n",
      "  -B, --bdg             Whether or not to save extended fragment pileup, and\n",
      "                        local lambda tracks (two files) at every bp into a\n",
      "                        bedGraph file. DEFAULT: False\n",
      "  --verbose VERBOSE     Set verbose level of runtime message. 0: only show\n",
      "                        critical message, 1: show additional warning message,\n",
      "                        2: show process information, 3: show debug messages.\n",
      "                        DEFAULT:2\n",
      "  --trackline           Tells MACS to include trackline with bedGraph files.\n",
      "                        To include this trackline while displaying bedGraph at\n",
      "                        UCSC genome browser, can show name and description of\n",
      "                        the file as well. However my suggestion is to convert\n",
      "                        bedGraph to bigWig, then show the smaller and faster\n",
      "                        binary bigWig file at UCSC genome browser, as well as\n",
      "                        downstream analysis. Require -B to be set. Default:\n",
      "                        Not include trackline.\n",
      "  --SPMR                If True, MACS will SAVE signal per million reads for\n",
      "                        fragment pileup profiles. It won't interfere with\n",
      "                        computing pvalue/qvalue during peak calling, since\n",
      "                        internally MACS3 keeps using the raw pileup and\n",
      "                        scaling factors between larger and smaller dataset to\n",
      "                        calculate statistics measurements. If you plan to use\n",
      "                        the signal output in bedGraph to call peaks using\n",
      "                        bdgcmp and bdgpeakcall, you shouldn't use this option\n",
      "                        because you will end up with different results.\n",
      "                        However, this option is recommended for displaying\n",
      "                        normalized pileup tracks across many datasets. Require\n",
      "                        -B to be set. Default: False\n",
      "\n",
      "Shifting model arguments:\n",
      "  --nomodel             Whether or not to build the shifting model. If True,\n",
      "                        MACS will not build model. by default it means\n",
      "                        shifting size = 100, try to set extsize to change it.\n",
      "                        It's highly recommended that while you have many\n",
      "                        datasets to process and you plan to compare different\n",
      "                        conditions, aka differential calling, use both\n",
      "                        'nomodel' and 'extsize' to make signal files from\n",
      "                        different datasets comparable. DEFAULT: False\n",
      "  --shift SHIFT         (NOT the legacy --shiftsize option!) The arbitrary\n",
      "                        shift in bp. Use discretion while setting it other\n",
      "                        than default value. When NOMODEL is set, MACS will use\n",
      "                        this value to move cutting ends (5') towards 5'->3'\n",
      "                        direction then apply EXTSIZE to extend them to\n",
      "                        fragments. When this value is negative, ends will be\n",
      "                        moved toward 3'->5' direction. Recommended to keep it\n",
      "                        as default 0 for ChIP-Seq datasets, or -1 * half of\n",
      "                        EXTSIZE together with EXTSIZE option for detecting\n",
      "                        enriched cutting loci such as certain DNAseI-Seq\n",
      "                        datasets. Note, you can't set values other than 0 if\n",
      "                        format is BAMPE or BEDPE for paired-end data. DEFAULT:\n",
      "                        0.\n",
      "  --extsize EXTSIZE     The arbitrary extension size in bp. When nomodel is\n",
      "                        true, MACS will use this value as fragment size to\n",
      "                        extend each read towards 3' end, then pile them up.\n",
      "                        It's exactly twice the number of obsolete SHIFTSIZE.\n",
      "                        In previous language, each read is moved 5'->3'\n",
      "                        direction to middle of fragment by 1/2 d, then\n",
      "                        extended to both direction with 1/2 d. This is\n",
      "                        equivalent to say each read is extended towards 5'->3'\n",
      "                        into a d size fragment. DEFAULT: 200. EXTSIZE and\n",
      "                        SHIFT can be combined when necessary. Check SHIFT\n",
      "                        option.\n",
      "  --bw BW               Band width for picking regions to compute fragment\n",
      "                        size. This value is only used while building the\n",
      "                        shifting model. Tweaking this is not recommended.\n",
      "                        DEFAULT: 300\n",
      "  --d-min D_MIN         Minimum fragment size in basepair. Any predicted\n",
      "                        fragment size less than this will be excluded.\n",
      "                        DEFAULT: 20\n",
      "  -m MFOLD MFOLD, --mfold MFOLD MFOLD\n",
      "                        Select the regions within MFOLD range of high-\n",
      "                        confidence enrichment ratio against background to\n",
      "                        build model. Fold-enrichment in regions must be lower\n",
      "                        than upper limit, and higher than the lower limit. Use\n",
      "                        as \"-m 10 30\". This setting is only used while\n",
      "                        building the shifting model. Tweaking it is not\n",
      "                        recommended. DEFAULT:5 50\n",
      "  --fix-bimodal         Whether turn on the auto pair model process. If set,\n",
      "                        when MACS failed to build paired model, it will use\n",
      "                        the nomodel settings, the --exsize parameter to extend\n",
      "                        each tags towards 3' direction. Not to use this\n",
      "                        automate fixation is a default behavior now. DEFAULT:\n",
      "                        False\n",
      "\n",
      "Peak calling arguments:\n",
      "  -q QVALUE, --qvalue QVALUE\n",
      "                        Minimum FDR (q-value) cutoff for peak detection.\n",
      "                        DEFAULT: 0.05. -q, and -p are mutually exclusive.\n",
      "  -p PVALUE, --pvalue PVALUE\n",
      "                        Pvalue cutoff for peak detection. DEFAULT: not set.\n",
      "                        -q, and -p are mutually exclusive. If pvalue cutoff is\n",
      "                        set, qvalue will not be calculated and reported as -1\n",
      "                        in the final .xls file.\n",
      "  --scale-to {large,small}\n",
      "                        When set to 'small', scale the larger sample up to the\n",
      "                        smaller sample. When set to 'larger', scale the\n",
      "                        smaller sample up to the bigger sample. By default,\n",
      "                        scale to 'small'. This option replaces the obsolete '\n",
      "                        --to-large' option. The default behavior is\n",
      "                        recommended since it will lead to less significant\n",
      "                        p/q-values in general but more specific results. Keep\n",
      "                        in mind that scaling down will influence control/input\n",
      "                        sample more. DEFAULT: 'small', the choice is either\n",
      "                        'small' or 'large'.\n",
      "  --down-sample         When set, random sampling method will scale down the\n",
      "                        bigger sample. By default, MACS uses linear scaling.\n",
      "                        Warning: This option will make your result unstable\n",
      "                        and irreproducible since each time, random reads would\n",
      "                        be selected. Consider to use 'randsample' script\n",
      "                        instead. <not implmented>If used together with --SPMR,\n",
      "                        1 million unique reads will be randomly picked.</not\n",
      "                        implemented> Caution: due to the implementation, the\n",
      "                        final number of selected reads may not be as you\n",
      "                        expected! DEFAULT: False\n",
      "  --seed SEED           Set the random seed while down sampling data. Must be\n",
      "                        a non-negative integer in order to be effective.\n",
      "                        DEFAULT: not set\n",
      "  --tempdir TEMPDIR     Optional directory to store temp files. DEFAULT: /tmp\n",
      "  --nolambda            If True, MACS will use fixed background lambda as\n",
      "                        local lambda for every peak region. Normally, MACS\n",
      "                        calculates a dynamic local lambda to reflect the local\n",
      "                        bias due to the potential chromatin accessibility.\n",
      "  --slocal SMALLLOCAL   The small nearby region in basepairs to calculate\n",
      "                        dynamic lambda. This is used to capture the bias near\n",
      "                        the peak summit region. Invalid if there is no control\n",
      "                        data. If you set this to 0, MACS will skip slocal\n",
      "                        lambda calculation. *Note* that MACS will always\n",
      "                        perform a d-size local lambda calculation while the\n",
      "                        control data is available. The final local bias would\n",
      "                        be the maximum of the lambda value from d, slocal, and\n",
      "                        llocal size windows. While control is not available, d\n",
      "                        and slocal lambda won't be considered. DEFAULT: 1000\n",
      "  --llocal LARGELOCAL   The large nearby region in basepairs to calculate\n",
      "                        dynamic lambda. This is used to capture the surround\n",
      "                        bias. If you set this to 0, MACS will skip llocal\n",
      "                        lambda calculation. *Note* that MACS will always\n",
      "                        perform a d-size local lambda calculation while the\n",
      "                        control data is available. The final local bias would\n",
      "                        be the maximum of the lambda value from d, slocal, and\n",
      "                        llocal size windows. While control is not available, d\n",
      "                        and slocal lambda won't be considered. DEFAULT: 10000.\n",
      "  --max-gap MAXGAP      Maximum gap between significant sites to cluster them\n",
      "                        together. The DEFAULT value is the detected read\n",
      "                        length/tag size.\n",
      "  --min-length MINLEN   Minimum length of a peak. The DEFAULT value is the\n",
      "                        predicted fragment size d. Note, if you set a value\n",
      "                        smaller than the fragment size, it may have NO effect\n",
      "                        on the result. For BROAD peak calling, try to set a\n",
      "                        large value such as 500bps. You can also use '--\n",
      "                        cutoff-analysis' option with default setting, and\n",
      "                        check the column 'avelpeak' under different cutoff\n",
      "                        values to decide a reasonable minlen value.\n",
      "  --broad               If set, MACS will try to call broad peaks using the\n",
      "                        --broad-cutoff setting. Please tweak '--broad-cutoff'\n",
      "                        setting to control the peak calling behavior. At the\n",
      "                        meantime, either -q or -p cutoff will be used to\n",
      "                        define regions with 'stronger enrichment' inside of\n",
      "                        broad peaks. The maximum gap is expanded to 4 * MAXGAP\n",
      "                        (--max-gap parameter). As a result, MACS will output a\n",
      "                        'gappedPeak' and a 'broadPeak' file instead of\n",
      "                        'narrowPeak' file. Note, a broad peak will be reported\n",
      "                        even if there is no 'stronger enrichment' inside.\n",
      "                        DEFAULT: False\n",
      "  --broad-cutoff BROADCUTOFF\n",
      "                        Cutoff for broad region. This option is not available\n",
      "                        unless --broad is set. If -p is set, this is a pvalue\n",
      "                        cutoff, otherwise, it's a qvalue cutoff. Please note\n",
      "                        that in broad peakcalling mode, MACS3 uses this\n",
      "                        setting to control the overall peak calling behavior,\n",
      "                        then uses -q or -p setting to define regions inside\n",
      "                        broad region as 'stronger' enrichment. DEFAULT: 0.1\n",
      "  --cutoff-analysis     While set, MACS3 will analyze number or total length\n",
      "                        of peaks that can be called by different p-value\n",
      "                        cutoff then output a summary table to help user decide\n",
      "                        a better cutoff. The table will be saved in\n",
      "                        NAME_cutoff_analysis.txt file. Note, minlen and maxgap\n",
      "                        may affect the results. WARNING: May take ~30 folds\n",
      "                        longer time to finish. The result can be useful for\n",
      "                        users to decide a reasonable cutoff value. DEFAULT:\n",
      "                        False\n",
      "\n",
      "Post-processing options:\n",
      "  --call-summits        If set, MACS will use a more sophisticated signal\n",
      "                        processing approach to find subpeak summits in each\n",
      "                        enriched peak region. DEFAULT: False\n",
      "  --fe-cutoff FECUTOFF  When set, the value will be used as the minimum\n",
      "                        requirement to filter out peaks with low fold-\n",
      "                        enrichment. Note, MACS3 adds one as pseudocount while\n",
      "                        calculating fold-enrichment. By default, it is set as\n",
      "                        1 so there is no filtering. DEFAULT: 1.0\n",
      "\n",
      "Obsolete options:\n",
      "  --to-large            Obsolete option. Please use '--scale-to large'\n",
      "                        instead.\n",
      "  --ratio RATIO         Obsolete option. Originally designed to normalize\n",
      "                        treatment and control with customized ratio, now it\n",
      "                        won't have any effect.\n",
      "\n",
      "Other options:\n",
      "  --buffer-size BUFFER_SIZE\n",
      "                        Buffer size for incrementally increasing internal\n",
      "                        array size to store reads alignment information. In\n",
      "                        most cases, you don't have to change this parameter.\n",
      "                        However, if there are large number of\n",
      "                        chromosomes/contigs/scaffolds in your alignment, it's\n",
      "                        recommended to specify a smaller buffer size in order\n",
      "                        to decrease memory usage (but it will take longer time\n",
      "                        to read alignment files). Minimum memory requested for\n",
      "                        reading an alignment file is about # of CHROMOSOME *\n",
      "                        BUFFER_SIZE * 8 Bytes. DEFAULT: 100000\n",
      "\n",
      "Examples:\n",
      "1. Peak calling for regular TF ChIP-seq:\n",
      "    $ macs3 callpeak -t ChIP.bam -c Control.bam -f BAM -g hs -n test -B -q 0.01\n",
      "2. Broad peak calling on Histone Mark ChIP-seq:\n",
      "    $ macs3 callpeak -t ChIP.bam -c Control.bam --broad -g hs --broad-cutoff 0.1\n",
      "3. Peak calling on ATAC-seq (paired-end mode):\n",
      "    $ macs3 callpeak -f BAMPE -t ATAC.bam -g hs -n test -B -q 0.01\n",
      "4. Peak calling on ATAC-seq ( focusing on insertion sites, and using single-end mode):\n",
      "    $ macs3 callpeak -f BAM -t ATAC.bam -g hs -n test -B -q 0.01 --shift -50 --extension 100\n"
     ]
    }
   ],
   "source": [
    "! macs3 callpeak -h"
   ]
  },
  {
   "cell_type": "markdown",
   "id": "34ef50d5-10cd-4224-9b76-c8f1ec4b77ab",
   "metadata": {},
   "source": [
    "##### paramaters\n",
    "- --treatment, space delimited list of treated sample bam files\n",
    "- --control, space delimited list of control sample bam files\n",
    "- -f BAM, file type is BAM\n",
    "- -n fwd, prefix name for files\n",
    "- -g hs, genome size, where hs means Homo sapiens (human) ~ 2.7e9\n",
    "- --keep-dup all, how to handle duplicate tags aligned to the exact same position in the genome. all means don't discard any\n",
    "- --outdir {out_path}, path of output\n",
    "- --nomodel, do not build the shifting model from the data. The default is to model the shift size by considering distances reads positive and negative strands of reads\n",
    "- --extsize 30, extend reads from 5' end by 30"
   ]
  },
  {
   "cell_type": "markdown",
   "id": "8a182d25-23e6-4820-9b4e-42d8719801d1",
   "metadata": {},
   "source": [
    "Need a space delimted list of samples for **mac3**"
   ]
  },
  {
   "cell_type": "code",
   "execution_count": 99,
   "id": "af9ef914-16d6-48b1-b607-890d36c1c4e8",
   "metadata": {},
   "outputs": [
    {
     "name": "stdout",
     "output_type": "stream",
     "text": [
      "split_fwd/a4_1.bam split_fwd/a4_2.bam split_fwd/a4_3.bam split_fwd/a4_4.bam\n",
      "split_fwd/no_1.bam split_fwd/no_2.bam split_fwd/no_3.bam split_fwd/no_4.bam\n"
     ]
    }
   ],
   "source": [
    "print(samples_string(treated,in_path))\n",
    "print(samples_string(control,in_path))"
   ]
  },
  {
   "cell_type": "code",
   "execution_count": 100,
   "id": "ccdf9906-6d4d-4403-b6c8-c02e01f1002f",
   "metadata": {
    "scrolled": true
   },
   "outputs": [
    {
     "name": "stdout",
     "output_type": "stream",
     "text": [
      "INFO  @ 14 Oct 2023 00:13:43: [38 MB] \n",
      "# Command line: callpeak --treatment split_fwd/a4_1.bam split_fwd/a4_2.bam split_fwd/a4_3.bam split_fwd/a4_4.bam --control split_fwd/no_1.bam split_fwd/no_2.bam split_fwd/no_3.bam split_fwd/no_4.bam -f BAM -n fwd -g hs --keep-dup all --outdir peak_fwd --nomodel --extsize 30\n",
      "# ARGUMENTS LIST:\n",
      "# name = fwd\n",
      "# format = BAM\n",
      "# ChIP-seq file = ['split_fwd/a4_1.bam', 'split_fwd/a4_2.bam', 'split_fwd/a4_3.bam', 'split_fwd/a4_4.bam']\n",
      "# control file = ['split_fwd/no_1.bam', 'split_fwd/no_2.bam', 'split_fwd/no_3.bam', 'split_fwd/no_4.bam']\n",
      "# effective genome size = 2.91e+09\n",
      "# band width = 300\n",
      "# model fold = [5, 50]\n",
      "# qvalue cutoff = 5.00e-02\n",
      "# The maximum gap between significant sites is assigned as the read length/tag size.\n",
      "# The minimum length of peaks is assigned as the predicted fragment length \"d\".\n",
      "# Larger dataset will be scaled towards smaller dataset.\n",
      "# Range for calculating regional lambda is: 1000 bps and 10000 bps\n",
      "# Broad region calling is off\n",
      "# Paired-End mode is off\n",
      " \n",
      "INFO  @ 14 Oct 2023 00:13:43: [38 MB] #1 read tag files... \n",
      "INFO  @ 14 Oct 2023 00:13:43: [38 MB] #1 read treatment tags... \n",
      "INFO  @ 14 Oct 2023 00:13:44: [85 MB] 869510 reads have been read. \n",
      "INFO  @ 14 Oct 2023 00:13:44: [96 MB] 233566 reads have been read. \n",
      "INFO  @ 14 Oct 2023 00:13:44: [96 MB] 703905 reads have been read. \n",
      "INFO  @ 14 Oct 2023 00:13:45: [99 MB] 520846 reads have been read. \n",
      "INFO  @ 14 Oct 2023 00:13:45: [99 MB] #1.2 read input tags... \n",
      "INFO  @ 14 Oct 2023 00:13:45: [115 MB] 557795 reads have been read. \n",
      "INFO  @ 14 Oct 2023 00:13:46: [126 MB] 555966 reads have been read. \n",
      "INFO  @ 14 Oct 2023 00:13:46: [132 MB] 431273 reads have been read. \n",
      "INFO  @ 14 Oct 2023 00:13:47: [139 MB] 615633 reads have been read. \n",
      "INFO  @ 14 Oct 2023 00:13:47: [139 MB] #1 tag size is determined as 50 bps \n",
      "INFO  @ 14 Oct 2023 00:13:47: [139 MB] #1 tag size = 50.0 \n",
      "INFO  @ 14 Oct 2023 00:13:47: [139 MB] #1  total tags in treatment: 2327827 \n",
      "INFO  @ 14 Oct 2023 00:13:47: [139 MB] #1  total tags in control: 2160667 \n",
      "INFO  @ 14 Oct 2023 00:13:47: [139 MB] #1 finished! \n",
      "INFO  @ 14 Oct 2023 00:13:47: [139 MB] #2 Build Peak Model... \n",
      "INFO  @ 14 Oct 2023 00:13:47: [139 MB] #2 Skipped... \n",
      "INFO  @ 14 Oct 2023 00:13:47: [139 MB] #2 Use 30 as fragment length \n",
      "INFO  @ 14 Oct 2023 00:13:47: [139 MB] #3 Call peaks... \n",
      "INFO  @ 14 Oct 2023 00:13:47: [139 MB] #3 Pre-compute pvalue-qvalue table... \n",
      "INFO  @ 14 Oct 2023 00:13:52: [180 MB] #3 Call peaks for each chromosome... \n",
      "INFO  @ 14 Oct 2023 00:13:53: [180 MB] #4 Write output xls file... peak_fwd/fwd_peaks.xls \n",
      "INFO  @ 14 Oct 2023 00:13:53: [180 MB] #4 Write peak in narrowPeak format file... peak_fwd/fwd_peaks.narrowPeak \n",
      "INFO  @ 14 Oct 2023 00:13:53: [180 MB] #4 Write summits bed file... peak_fwd/fwd_summits.bed \n",
      "INFO  @ 14 Oct 2023 00:13:53: [180 MB] Done! \n"
     ]
    }
   ],
   "source": [
    "! macs3 callpeak                                  \\\n",
    "    --treatment {samples_string(treated,in_path)} \\\n",
    "    --control   {samples_string(control,in_path)} \\\n",
    "    -f BAM                                        \\\n",
    "    -n fwd                                        \\\n",
    "    -g hs                                         \\\n",
    "    --keep-dup all                                \\\n",
    "    --outdir {out_path}                           \\\n",
    "    --nomodel --extsize 30"
   ]
  },
  {
   "cell_type": "markdown",
   "id": "65c223a7",
   "metadata": {},
   "source": [
    "#### Mark 6th column with a **+** to indicate a `fwd` peak (sed is 0 based)"
   ]
  },
  {
   "cell_type": "code",
   "execution_count": 101,
   "id": "833ba700",
   "metadata": {},
   "outputs": [],
   "source": [
    "!sed -i 's/\\t[^\\t]*/\\t+/5' {out_path}/*.narrowPeak"
   ]
  },
  {
   "cell_type": "code",
   "execution_count": 102,
   "id": "769377b5",
   "metadata": {},
   "outputs": [
    {
     "name": "stdout",
     "output_type": "stream",
     "text": [
      "chr1\t629931\t629961\tfwd_peak_1\t95\t+\t2.29353\t14.6044\t9.56511\t4\n",
      "chr1\t630717\t630752\tfwd_peak_2\t1066\t+\t2.4527\t112.872\t106.653\t10\n",
      "chr1\t634027\t634058\tfwd_peak_3\t142\t+\t1.36338\t19.4755\t14.2459\t1\n",
      "chr1\t2059577\t2059607\tfwd_peak_4\t93\t+\t7.27896\t14.374\t9.34693\t9\n",
      "chr1\t7780948\t7780978\tfwd_peak_5\t17\t+\t3.96276\t6.17368\t1.75758\t0\n",
      "chr1\t11022187\t11022217\tfwd_peak_6\t114\t+\t2.5373\t16.5636\t11.4402\t5\n",
      "chr1\t11908168\t11908218\tfwd_peak_7\t71\t+\t4.80762\t12.0029\t7.10054\t8\n",
      "chr1\t20651168\t20651198\tfwd_peak_8\t30\t+\t3.45782\t7.60524\t3.02988\t2\n",
      "chr1\t23693852\t23693908\tfwd_peak_9\t139\t+\t2.01178\t19.1214\t13.9047\t5\n",
      "chr1\t24669246\t24669316\tfwd_peak_10\t135\t+\t9.87106\t18.7609\t13.5553\t62\n"
     ]
    }
   ],
   "source": [
    "!head -10 {out_path}/*.narrowPeak"
   ]
  },
  {
   "cell_type": "markdown",
   "id": "7f7c6bb7",
   "metadata": {
    "jp-MarkdownHeadingCollapsed": true
   },
   "source": [
    "## Step: peak_rev"
   ]
  },
  {
   "cell_type": "markdown",
   "id": "6b778cfa-72a5-4830-acc8-744486e5752a",
   "metadata": {},
   "source": [
    "#### Call peaks from reverse reads"
   ]
  },
  {
   "cell_type": "code",
   "execution_count": 103,
   "id": "91b2d3d8",
   "metadata": {},
   "outputs": [],
   "source": [
    "in_path   = mkpath(\"split_rev\")\n",
    "out_path  = mkpath(\"peak_rev\")"
   ]
  },
  {
   "cell_type": "markdown",
   "id": "926abaf5-3aa8-4b42-a572-81765b61b470",
   "metadata": {},
   "source": [
    "#### macs3"
   ]
  },
  {
   "cell_type": "markdown",
   "id": "7749eec4-9912-473c-b68a-3223a86ed090",
   "metadata": {},
   "source": [
    "##### paramaters\n",
    "- --treatment, space delimited list of treated sample bam files\n",
    "- --control, space delimited list of control sample bam files\n",
    "- -f BAM, file type is BAM\n",
    "- -n fwd, prefix name for files\n",
    "- -g hs, genome size, where hs means Homo sapiens (human) ~ 2.7e9\n",
    "- --keep-dup all, how to handle duplicate tags aligned to the exact same position in the genome. all means don't discard any\n",
    "- --outdir {out_path}, path of output\n",
    "- --nomodel, do not build the shifting model from the data. The default is to model the shift size by considering distances reads positive and negative strands of reads\n",
    "- --extsize 30, extend reads from 5' end by 30"
   ]
  },
  {
   "cell_type": "markdown",
   "id": "6f7f8b74-ddc4-4fb9-b2fd-be438e38a719",
   "metadata": {},
   "source": [
    "Need a space delimted list of samples for **mac3**"
   ]
  },
  {
   "cell_type": "code",
   "execution_count": 104,
   "id": "be3f6268-9e8f-40d6-95f9-3b4fd7b8ef1f",
   "metadata": {},
   "outputs": [
    {
     "name": "stdout",
     "output_type": "stream",
     "text": [
      "split_rev/a4_1.bam split_rev/a4_2.bam split_rev/a4_3.bam split_rev/a4_4.bam\n",
      "split_rev/no_1.bam split_rev/no_2.bam split_rev/no_3.bam split_rev/no_4.bam\n"
     ]
    }
   ],
   "source": [
    "print(samples_string(treated,in_path))\n",
    "print(samples_string(control,in_path))"
   ]
  },
  {
   "cell_type": "code",
   "execution_count": 105,
   "id": "fa6bad3c-7174-4433-8de5-b6f4e0a1877a",
   "metadata": {
    "scrolled": true
   },
   "outputs": [
    {
     "name": "stdout",
     "output_type": "stream",
     "text": [
      "INFO  @ 14 Oct 2023 00:14:38: [38 MB] \n",
      "# Command line: callpeak --treatment split_rev/a4_1.bam split_rev/a4_2.bam split_rev/a4_3.bam split_rev/a4_4.bam --control split_rev/no_1.bam split_rev/no_2.bam split_rev/no_3.bam split_rev/no_4.bam -f BAM -n fwd -g hs --keep-dup all --outdir peak_rev --nomodel --extsize 30\n",
      "# ARGUMENTS LIST:\n",
      "# name = fwd\n",
      "# format = BAM\n",
      "# ChIP-seq file = ['split_rev/a4_1.bam', 'split_rev/a4_2.bam', 'split_rev/a4_3.bam', 'split_rev/a4_4.bam']\n",
      "# control file = ['split_rev/no_1.bam', 'split_rev/no_2.bam', 'split_rev/no_3.bam', 'split_rev/no_4.bam']\n",
      "# effective genome size = 2.91e+09\n",
      "# band width = 300\n",
      "# model fold = [5, 50]\n",
      "# qvalue cutoff = 5.00e-02\n",
      "# The maximum gap between significant sites is assigned as the read length/tag size.\n",
      "# The minimum length of peaks is assigned as the predicted fragment length \"d\".\n",
      "# Larger dataset will be scaled towards smaller dataset.\n",
      "# Range for calculating regional lambda is: 1000 bps and 10000 bps\n",
      "# Broad region calling is off\n",
      "# Paired-End mode is off\n",
      " \n",
      "INFO  @ 14 Oct 2023 00:14:38: [38 MB] #1 read tag files... \n",
      "INFO  @ 14 Oct 2023 00:14:38: [38 MB] #1 read treatment tags... \n",
      "INFO  @ 14 Oct 2023 00:14:39: [76 MB] 609737 reads have been read. \n",
      "INFO  @ 14 Oct 2023 00:14:39: [87 MB] 146306 reads have been read. \n",
      "INFO  @ 14 Oct 2023 00:14:40: [90 MB] 559619 reads have been read. \n",
      "INFO  @ 14 Oct 2023 00:14:40: [92 MB] 398498 reads have been read. \n",
      "INFO  @ 14 Oct 2023 00:14:40: [92 MB] #1.2 read input tags... \n",
      "INFO  @ 14 Oct 2023 00:14:41: [111 MB] 420347 reads have been read. \n",
      "INFO  @ 14 Oct 2023 00:14:41: [121 MB] 441908 reads have been read. \n",
      "INFO  @ 14 Oct 2023 00:14:41: [125 MB] 336369 reads have been read. \n",
      "INFO  @ 14 Oct 2023 00:14:42: [126 MB] 474977 reads have been read. \n",
      "INFO  @ 14 Oct 2023 00:14:42: [126 MB] #1 tag size is determined as 45 bps \n",
      "INFO  @ 14 Oct 2023 00:14:42: [126 MB] #1 tag size = 45.0 \n",
      "INFO  @ 14 Oct 2023 00:14:42: [126 MB] #1  total tags in treatment: 1714160 \n",
      "INFO  @ 14 Oct 2023 00:14:42: [126 MB] #1  total tags in control: 1673601 \n",
      "INFO  @ 14 Oct 2023 00:14:42: [126 MB] #1 finished! \n",
      "INFO  @ 14 Oct 2023 00:14:42: [126 MB] #2 Build Peak Model... \n",
      "INFO  @ 14 Oct 2023 00:14:42: [126 MB] #2 Skipped... \n",
      "INFO  @ 14 Oct 2023 00:14:42: [126 MB] #2 Use 30 as fragment length \n",
      "INFO  @ 14 Oct 2023 00:14:42: [126 MB] #3 Call peaks... \n",
      "INFO  @ 14 Oct 2023 00:14:42: [126 MB] #3 Pre-compute pvalue-qvalue table... \n",
      "INFO  @ 14 Oct 2023 00:14:46: [174 MB] #3 Call peaks for each chromosome... \n",
      "INFO  @ 14 Oct 2023 00:14:46: [174 MB] #4 Write output xls file... peak_rev/fwd_peaks.xls \n",
      "INFO  @ 14 Oct 2023 00:14:46: [174 MB] #4 Write peak in narrowPeak format file... peak_rev/fwd_peaks.narrowPeak \n",
      "INFO  @ 14 Oct 2023 00:14:46: [174 MB] #4 Write summits bed file... peak_rev/fwd_summits.bed \n",
      "INFO  @ 14 Oct 2023 00:14:46: [174 MB] Done! \n"
     ]
    }
   ],
   "source": [
    "! macs3 callpeak                                  \\\n",
    "    --treatment {samples_string(treated,in_path)} \\\n",
    "    --control   {samples_string(control,in_path)} \\\n",
    "    -f BAM                                        \\\n",
    "    -n fwd                                        \\\n",
    "    -g hs                                         \\\n",
    "    --keep-dup all                                \\\n",
    "    --outdir {out_path}                           \\\n",
    "    --nomodel --extsize 30"
   ]
  },
  {
   "cell_type": "markdown",
   "id": "0e5e0517-82a0-4ac1-9295-6cde3f0ea4f7",
   "metadata": {},
   "source": [
    "#### Mark 6th column with a **-** to indicate a `rev` peak (sed is 0 based)"
   ]
  },
  {
   "cell_type": "code",
   "execution_count": 106,
   "id": "78b4e1b7",
   "metadata": {},
   "outputs": [],
   "source": [
    "!sed -i 's/\\t[^\\t]*/\\t-/5' {out_path}/*.narrowPeak"
   ]
  },
  {
   "cell_type": "code",
   "execution_count": 107,
   "id": "1bba2765",
   "metadata": {},
   "outputs": [
    {
     "name": "stdout",
     "output_type": "stream",
     "text": [
      "chr1\t1255454\t1255484\tfwd_peak_1\t132\t-\t11.2836\t18.3822\t13.26\t8\n",
      "chr1\t1543848\t1543880\tfwd_peak_2\t203\t-\t2.71643\t25.7131\t20.375\t22\n",
      "chr1\t1839165\t1839198\tfwd_peak_3\t562\t-\t2.14733\t62.1373\t56.2356\t26\n",
      "chr1\t8868002\t8868036\tfwd_peak_4\t823\t-\t2.84089\t88.4886\t82.3552\t27\n",
      "chr1\t11088120\t11088151\tfwd_peak_5\t53\t-\t2.23231\t10.1232\t5.3919\t28\n"
     ]
    }
   ],
   "source": [
    "!head -5 {out_path}/*.narrowPeak"
   ]
  },
  {
   "cell_type": "markdown",
   "id": "3742bac7",
   "metadata": {
    "jp-MarkdownHeadingCollapsed": true
   },
   "source": [
    "## Step: peak_all"
   ]
  },
  {
   "cell_type": "markdown",
   "id": "d473727b-1bce-4a7b-ab4b-767cd5ca1d40",
   "metadata": {},
   "source": [
    "#### Combine the forward and reverese reads and extend peak sizes"
   ]
  },
  {
   "cell_type": "code",
   "execution_count": 146,
   "id": "65eea53c",
   "metadata": {},
   "outputs": [],
   "source": [
    "in_fwd_path = mkpath(\"peak_fwd\")\n",
    "in_rev_path = mkpath(\"peak_rev\")\n",
    "out_path    = mkpath(\"peak_all\")"
   ]
  },
  {
   "cell_type": "code",
   "execution_count": 147,
   "id": "152cf773-d7cc-4538-9ec5-84ecf5c9d1ff",
   "metadata": {},
   "outputs": [
    {
     "name": "stdout",
     "output_type": "stream",
     "text": [
      "all.narrowPeak\n"
     ]
    }
   ],
   "source": [
    "!ls {out_path}"
   ]
  },
  {
   "cell_type": "markdown",
   "id": "0fc927c9-89c1-4fea-b760-4a3a2246eb29",
   "metadata": {},
   "source": [
    "##### Combine peaks"
   ]
  },
  {
   "cell_type": "code",
   "execution_count": 148,
   "id": "8589f5eb",
   "metadata": {},
   "outputs": [],
   "source": [
    "all_peaks    = out_path/\"all.narrowPeak\""
   ]
  },
  {
   "cell_type": "code",
   "execution_count": 149,
   "id": "5fd925e9",
   "metadata": {},
   "outputs": [],
   "source": [
    "!cat {in_fwd_path}/*peaks.narrowPeak {in_rev_path}/*peaks.narrowPeak > {all_peaks}"
   ]
  },
  {
   "cell_type": "code",
   "execution_count": 150,
   "id": "8cc32762-abdf-43fb-9615-0da8adbf9dd6",
   "metadata": {},
   "outputs": [
    {
     "name": "stdout",
     "output_type": "stream",
     "text": [
      "1484 peak_all/all.narrowPeak\n"
     ]
    }
   ],
   "source": [
    "!  wc -l {all_peaks} "
   ]
  },
  {
   "cell_type": "markdown",
   "id": "a2483650",
   "metadata": {},
   "source": [
    "##### Extend peaks by 20 nt in each direction"
   ]
  },
  {
   "cell_type": "code",
   "execution_count": 151,
   "id": "a5fb8d9a",
   "metadata": {},
   "outputs": [
    {
     "data": {
      "text/html": [
       "<div>\n",
       "<style scoped>\n",
       "    .dataframe tbody tr th:only-of-type {\n",
       "        vertical-align: middle;\n",
       "    }\n",
       "\n",
       "    .dataframe tbody tr th {\n",
       "        vertical-align: top;\n",
       "    }\n",
       "\n",
       "    .dataframe thead th {\n",
       "        text-align: right;\n",
       "    }\n",
       "</style>\n",
       "<table border=\"1\" class=\"dataframe\">\n",
       "  <thead>\n",
       "    <tr style=\"text-align: right;\">\n",
       "      <th></th>\n",
       "      <th>0</th>\n",
       "      <th>1</th>\n",
       "      <th>2</th>\n",
       "      <th>3</th>\n",
       "      <th>4</th>\n",
       "      <th>5</th>\n",
       "      <th>6</th>\n",
       "      <th>7</th>\n",
       "      <th>8</th>\n",
       "      <th>9</th>\n",
       "    </tr>\n",
       "  </thead>\n",
       "  <tbody>\n",
       "    <tr>\n",
       "      <th>0</th>\n",
       "      <td>chr1</td>\n",
       "      <td>629931</td>\n",
       "      <td>629961</td>\n",
       "      <td>fwd_peak_1</td>\n",
       "      <td>95</td>\n",
       "      <td>+</td>\n",
       "      <td>2.29353</td>\n",
       "      <td>14.6044</td>\n",
       "      <td>9.56511</td>\n",
       "      <td>4</td>\n",
       "    </tr>\n",
       "    <tr>\n",
       "      <th>1</th>\n",
       "      <td>chr1</td>\n",
       "      <td>630717</td>\n",
       "      <td>630752</td>\n",
       "      <td>fwd_peak_2</td>\n",
       "      <td>1066</td>\n",
       "      <td>+</td>\n",
       "      <td>2.45270</td>\n",
       "      <td>112.8720</td>\n",
       "      <td>106.65300</td>\n",
       "      <td>10</td>\n",
       "    </tr>\n",
       "  </tbody>\n",
       "</table>\n",
       "</div>"
      ],
      "text/plain": [
       "      0       1       2           3     4  5        6         7          8   9\n",
       "0  chr1  629931  629961  fwd_peak_1    95  +  2.29353   14.6044    9.56511   4\n",
       "1  chr1  630717  630752  fwd_peak_2  1066  +  2.45270  112.8720  106.65300  10"
      ]
     },
     "execution_count": 151,
     "metadata": {},
     "output_type": "execute_result"
    }
   ],
   "source": [
    "import pandas as pd\n",
    "df = pd.read_csv(all_peaks, header = None, sep='\\t')\n",
    "df[:2]"
   ]
  },
  {
   "cell_type": "code",
   "execution_count": 152,
   "id": "41c4b3f2",
   "metadata": {},
   "outputs": [
    {
     "data": {
      "text/html": [
       "<div>\n",
       "<style scoped>\n",
       "    .dataframe tbody tr th:only-of-type {\n",
       "        vertical-align: middle;\n",
       "    }\n",
       "\n",
       "    .dataframe tbody tr th {\n",
       "        vertical-align: top;\n",
       "    }\n",
       "\n",
       "    .dataframe thead th {\n",
       "        text-align: right;\n",
       "    }\n",
       "</style>\n",
       "<table border=\"1\" class=\"dataframe\">\n",
       "  <thead>\n",
       "    <tr style=\"text-align: right;\">\n",
       "      <th></th>\n",
       "      <th>0</th>\n",
       "      <th>1</th>\n",
       "      <th>2</th>\n",
       "      <th>3</th>\n",
       "      <th>4</th>\n",
       "      <th>5</th>\n",
       "      <th>6</th>\n",
       "      <th>7</th>\n",
       "      <th>8</th>\n",
       "      <th>9</th>\n",
       "    </tr>\n",
       "  </thead>\n",
       "  <tbody>\n",
       "    <tr>\n",
       "      <th>0</th>\n",
       "      <td>chr1</td>\n",
       "      <td>629911</td>\n",
       "      <td>629981</td>\n",
       "      <td>fwd_peak_1</td>\n",
       "      <td>95</td>\n",
       "      <td>+</td>\n",
       "      <td>2.29353</td>\n",
       "      <td>14.6044</td>\n",
       "      <td>9.56511</td>\n",
       "      <td>4</td>\n",
       "    </tr>\n",
       "    <tr>\n",
       "      <th>1</th>\n",
       "      <td>chr1</td>\n",
       "      <td>630697</td>\n",
       "      <td>630772</td>\n",
       "      <td>fwd_peak_2</td>\n",
       "      <td>1066</td>\n",
       "      <td>+</td>\n",
       "      <td>2.45270</td>\n",
       "      <td>112.8720</td>\n",
       "      <td>106.65300</td>\n",
       "      <td>10</td>\n",
       "    </tr>\n",
       "  </tbody>\n",
       "</table>\n",
       "</div>"
      ],
      "text/plain": [
       "      0       1       2           3     4  5        6         7          8   9\n",
       "0  chr1  629911  629981  fwd_peak_1    95  +  2.29353   14.6044    9.56511   4\n",
       "1  chr1  630697  630772  fwd_peak_2  1066  +  2.45270  112.8720  106.65300  10"
      ]
     },
     "execution_count": 152,
     "metadata": {},
     "output_type": "execute_result"
    }
   ],
   "source": [
    "df[1] = df[1]-20\n",
    "df[2] = df[2]+20\n",
    "df.to_csv(all_peaks, sep='\\t', header=False,index=False)\n",
    "df = pd.read_csv(all_peaks, header = None, sep='\\t')\n",
    "df[:2]"
   ]
  },
  {
   "cell_type": "code",
   "execution_count": 153,
   "id": "c5baa235-a81f-462c-8275-d5785bf13671",
   "metadata": {},
   "outputs": [
    {
     "name": "stdout",
     "output_type": "stream",
     "text": [
      "chr1\t629911\t629981\tfwd_peak_1\t95\t+\t2.29353\t14.6044\t9.56511\t4\n",
      "chr1\t630697\t630772\tfwd_peak_2\t1066\t+\t2.4527\t112.872\t106.653\t10\n",
      "chr1\t634007\t634078\tfwd_peak_3\t142\t+\t1.36338\t19.4755\t14.2459\t1\n",
      "chr1\t2059557\t2059627\tfwd_peak_4\t93\t+\t7.27896\t14.374\t9.34693\t9\n",
      "chr1\t7780928\t7780998\tfwd_peak_5\t17\t+\t3.96276\t6.17368\t1.75758\t0\n",
      "chr1\t11022167\t11022237\tfwd_peak_6\t114\t+\t2.5373\t16.5636\t11.4402\t5\n",
      "chr1\t11908148\t11908238\tfwd_peak_7\t71\t+\t4.80762\t12.0029\t7.10054\t8\n",
      "chr1\t20651148\t20651218\tfwd_peak_8\t30\t+\t3.45782\t7.60524\t3.02988\t2\n",
      "chr1\t23693832\t23693928\tfwd_peak_9\t139\t+\t2.01178\t19.1214\t13.9047\t5\n",
      "chr1\t24669226\t24669336\tfwd_peak_10\t135\t+\t9.87106\t18.7609\t13.5553\t62\n"
     ]
    }
   ],
   "source": [
    "!head -10 {all_peaks}"
   ]
  },
  {
   "cell_type": "markdown",
   "id": "7add86d0",
   "metadata": {
    "jp-MarkdownHeadingCollapsed": true
   },
   "source": [
    "## Step: call motif"
   ]
  },
  {
   "cell_type": "markdown",
   "id": "754e098d-2092-4e4b-bea8-01ed2379fa00",
   "metadata": {},
   "source": [
    "#### Find motifs from peaks"
   ]
  },
  {
   "cell_type": "code",
   "execution_count": 154,
   "id": "e416882f",
   "metadata": {},
   "outputs": [],
   "source": [
    "in_path =  mkpath(\"peak_all\")\n",
    "out_path = mkpath(\"motif\")"
   ]
  },
  {
   "cell_type": "markdown",
   "id": "a2b0bb2c-3574-48d1-ad61-4c320dcf9eb8",
   "metadata": {},
   "source": [
    "#### Homer"
   ]
  },
  {
   "cell_type": "markdown",
   "id": "54cc177f-854c-4974-a5f4-b046f5322be6",
   "metadata": {},
   "source": [
    "http://homer.ucsd.edu/homer/introduction/install.html"
   ]
  },
  {
   "cell_type": "markdown",
   "id": "b2ccc580-2c83-4e2d-b457-9c8ea483643b",
   "metadata": {},
   "source": [
    "Install **homer** :\n",
    "- wget http://homer.ucsd.edu/homer/configureHomer.pl\n",
    "- mv configureHomer.pl homer/.\n",
    "- chmod +x configureHomer.pl\n",
    "- ./configureHomer.pl -install\n",
    "- ./configureHomer.pl -install hg19\n",
    "- Update .bashrc to include homer/run in $PATH"
   ]
  },
  {
   "cell_type": "code",
   "execution_count": 155,
   "id": "170c8a94",
   "metadata": {
    "scrolled": true
   },
   "outputs": [
    {
     "name": "stdout",
     "output_type": "stream",
     "text": [
      "\n",
      "\tProgram will find de novo and known motifs in regions in the genome\n",
      "\n",
      "\tUsage: findMotifsGenome.pl <pos file> <genome> <output directory> [additional options]\n",
      "\tExample: findMotifsGenome.pl peaks.txt mm8r peakAnalysis -size 200 -len 8\n",
      "\n",
      "\tPossible Genomes:\n",
      "\t\thg38\thuman\n",
      "\t\t\t-- or --\n",
      "\t\tCustom: provide the path to genome FASTA files (directory or single file)\n",
      "\t\t\tHeads up: will create the directory \"preparsed/\" in same location.\n",
      "\n",
      "\tBasic options:\n",
      "\t\t-mask (mask repeats/lower case sequence, can also add 'r' to genome, i.e. mm9r)\n",
      "\t\t-bg <background position file> (genomic positions to be used as background, default=automatic)\n",
      "\t\t\tremoves background positions overlapping with target positions unless -keepOverlappingBg is used\n",
      "\t\t\t-chopify (chop up large background regions to the avg size of target regions)\n",
      "\t\t-len <#>[,<#>,<#>...] (motif length, default=8,10,12) [NOTE: values greater 12 may cause the program\n",
      "\t\t\tto run out of memory - in these cases decrease the number of sequences analyzed (-N),\n",
      "\t\t\tor try analyzing shorter sequence regions (i.e. -size 100)]\n",
      "\t\t-size <#> (fragment size to use for motif finding, default=200)\n",
      "\t\t\t-size <#,#> (i.e. -size -100,50 will get sequences from -100 to +50 relative from center)\n",
      "\t\t\t-size given (uses the exact regions you give it)\n",
      "\t\t-S <#> (Number of motifs to optimize, default: 25)\n",
      "\t\t-mis <#> (global optimization: searches for strings with # mismatches, default: 2)\n",
      "\t\t-norevopp (don't search reverse strand for motifs)\n",
      "\t\t-nomotif (don't search for de novo motif enrichment)\n",
      "\t\t-rna (output RNA motif logos and compare to RNA motif database, automatically sets -norevopp)\n",
      "\n",
      "\tScanning sequence for motifs\n",
      "\t\t-find <motif file> (This will cause the program to only scan for motifs)\n",
      "\n",
      "\tKnown Motif Options/Visualization\n",
      "\t\t-mset <vertebrates|insects|worms|plants|yeast|all> (check against motif collects, default: auto)\n",
      "\t\t-basic (just visualize de novo motifs, don't check similarity with known motifs)\n",
      "\t\t-bits (scale sequence logos by information content, default: doesn't scale)\n",
      "\t\t-nocheck (don't search for de novo vs. known motif similarity)\n",
      "\t\t-mcheck <motif file> (known motifs to check against de novo motifs,\n",
      "\t\t-float (allow adjustment of the degeneracy threshold for known motifs to improve p-value[dangerous])\n",
      "\t\t-noknown (don't search for known motif enrichment, default: -known)\n",
      "\t\t-mknown <motif file> (known motifs to check for enrichment,\n",
      "\t\t-nofacts (omit humor)\n",
      "\t\t-seqlogo (use weblogo/seqlogo/ghostscript to generate logos, default uses SVG now)\n",
      "\n",
      "\tSequence normalization options:\n",
      "\t\t-gc (use GC% for sequence content normalization, now the default)\n",
      "\t\t-cpg (use CpG% instead of GC% for sequence content normalization)\n",
      "\t\t-noweight (no CG correction)\n",
      "\t\tAlso -nlen <#>, -olen <#>, see homer2 section below.\n",
      "\n",
      "\tAdvanced options:\n",
      "\t\t-h (use hypergeometric for p-values, binomial is default)\n",
      "\t\t-N <#> (Number of sequences to use for motif finding, default=max(50k, 2x input)\n",
      "\t\t-local <#> (use local background, # of equal size regions around peaks to use i.e. 2)\n",
      "\t\t-redundant <#> (Remove redundant sequences matching greater than # percent, i.e. -redundant 0.5)\n",
      "\t\t-maxN <#> (maximum percentage of N's in sequence to consider for motif finding, default: 0.7)\n",
      "\t\t-maskMotif <motif file1> [motif file 2]... (motifs to mask before motif finding)\n",
      "\t\t-opt <motif file1> [motif file 2]... (motifs to optimize or change length of)\n",
      "\t\t-rand (randomize target and background sequences labels)\n",
      "\t\t-ref <peak file> (use file for target and background - first argument is list of peak ids for targets)\n",
      "\t\t-oligo (perform analysis of individual oligo enrichment)\n",
      "\t\t-dumpFasta (Dump fasta files for target and background sequences for use with other programs)\n",
      "\t\t-preparse (force new background files to be created)\n",
      "\t\t-preparsedDir <directory> (location to search for preparsed file and/or place new files)\n",
      "\t\t-keepFiles (keep temporary files)\n",
      "\t\t-fdr <#> (Calculate empirical FDR for de novo discovery #=number of randomizations)\n",
      "\n",
      "\thomer2 specific options:\n",
      "\t\t-homer2 (use homer2 instead of original homer, default)\n",
      "\t\t-nlen <#> (length of lower-order oligos to normalize in background, default: -nlen 3)\n",
      "\t\t\t-nmax <#> (Max normalization iterations, default: 160)\n",
      "\t\t\t-neutral (weight sequences to neutral frequencies, i.e. 25%, 6.25%, etc.)\n",
      "\t\t-olen <#> (lower-order oligo normalization for oligo table, use if -nlen isn't working well)\n",
      "\t\t-p <#> (Number of processors to use, default: 1)\n",
      "\t\t-e <#> (Maximum expected motif instance per bp in random sequence, default: 0.01)\n",
      "\t\t-cache <#> (size in MB for statistics cache, default: 500)\n",
      "\t\t-quickMask (skip full masking after finding motifs, similar to original homer)\n",
      "\t\t-minlp <#> (stop looking for motifs when seed logp score gets above #, default: -10)\n",
      "\n",
      "\tOriginal homer specific options:\n",
      "\t\t-homer1 (to force the use of the original homer)\n",
      "\t\t-depth [low|med|high|allnight] (time spent on local optimization default: med)\n",
      "\n"
     ]
    }
   ],
   "source": [
    "!findMotifsGenome.pl -h"
   ]
  },
  {
   "cell_type": "markdown",
   "id": "e3fc7490-9498-40eb-9004-6eb26fa93f78",
   "metadata": {
    "scrolled": true
   },
   "source": [
    "##### paramaters\n",
    "- {in_fn}, file containing all.narrowPeak\n",
    "- {out_path}, output dir\n",
    "- hg38, use hg38 human genome\n",
    "- p {nc}, number of processors\n",
    "- rna, output RNA motif logos and compare to RNA motif database, automatically sets -norevopp\n",
    "- S 10, number of motifs to optimize, default: 20\n",
    "- -len 5,6,7,8,9,10, motif length, default=8,10,12\n",
    "- bg {genome_bed12}, background position file; removes background positions overlapping with target positions "
   ]
  },
  {
   "cell_type": "code",
   "execution_count": 157,
   "id": "92a6605b",
   "metadata": {
    "scrolled": true
   },
   "outputs": [
    {
     "name": "stdout",
     "output_type": "stream",
     "text": [
      "\n",
      "\tPosition file = peak_all/all.narrowPeak\n",
      "\tGenome = hg38\n",
      "\tOutput Directory = motif\n",
      "\tUsing 32 CPUs\n",
      "\tOperating in RNA mode\n",
      "\tMotif length set at 5,6,7,8,9,\n",
      "\tbackground position file: /home/cdaniels/uofc_data/ref/homo_sapian_39/gencode.v39.annotation.bed12\n",
      "\tFound mset for \"human\", will check against vertebrates motifs\n",
      "\tPeak/BED file conversion summary:\n",
      "\t\tBED/Header formatted lines: 1484\n",
      "\t\tpeakfile formatted lines: 0\n",
      "\n",
      "\tPeak File Statistics:\n",
      "\t\tTotal Peaks: 1484\n",
      "\t\tRedundant Peak IDs: 687\n",
      "\t\tPeaks lacking information: 0 (need at least 5 columns per peak)\n",
      "\t\tPeaks with misformatted coordinates: 0 (should be integer)\n",
      "\t\tPeaks with misformatted strand: 0 (should be either +/- or 0/1)\n",
      "\n",
      "\tRedunant Peaks found: Remove or rename these or some programs may have trouble...\n",
      "\n",
      "\t687 duplicate peak IDs out of 1484 total peaks\n",
      "\tPeak/BED file conversion summary:\n",
      "\t\tBED/Header formatted lines: 244939\n",
      "\t\tpeakfile formatted lines: 0\n",
      "\tMax distance to merge: 200 bp\n",
      "\tCalculating co-bound peaks relative to reference: motif/bg.clean.pos\n",
      "\n",
      "\tComparing peaks: (peakfile, overlapping peaks, logRatio(obs/expected), logP)\n",
      "\t**\tmotif/target.clean..pos\t338\t2.06\t-433.38\n",
      "\n",
      "\t**\tPairwise stats are approx with fixed distance (-d 200) and -cobound #\n",
      "\t\tThey get worse as the size increases and peaks from a single file start overlapping\n",
      "\t\tTo get accurate ones, adjust peak sizes first with adjustPeakFile.pl and\n",
      "\t\tthen rerun mergePeaks with the \"-d given\" option (only applies to -cobound #)\n",
      "\n",
      "\tCo-bound by 0 peaks: 244601\n",
      "\tCo-bound by 1 peaks: 338 (max: 338 effective total)\n",
      "\tCustom genome sequence directory: /home/cdaniels/bin/homer/.//data/genomes/hg38//\n",
      "\n",
      "\tExtracting sequences from file: /home/cdaniels/bin/homer/.//data/genomes/hg38///genome.fa\n",
      "\tLooking for peak sequences in a single file (/home/cdaniels/bin/homer/.//data/genomes/hg38///genome.fa)\n",
      "\tExtracting 21671 sequences from chr1\n",
      "\tExtracting 8858 sequences from chr10\n",
      "\tExtracting 14536 sequences from chr11\n",
      "\tExtracting 13567 sequences from chr12\n",
      "\tExtracting 4587 sequences from chr13\n",
      "\tExtracting 8874 sequences from chr14\n",
      "\tExtracting 8939 sequences from chr15\n",
      "\tExtracting 11483 sequences from chr16\n",
      "\tExtracting 14234 sequences from chr17\n",
      "\tExtracting 4748 sequences from chr18\n",
      "\tExtracting 14103 sequences from chr19\n",
      "\tExtracting 18316 sequences from chr2\n",
      "\tExtracting 5868 sequences from chr20\n",
      "\tExtracting 3125 sequences from chr21\n",
      "\tExtracting 5267 sequences from chr22\n",
      "\tExtracting 15501 sequences from chr3\n",
      "\tExtracting 10104 sequences from chr4\n",
      "\tExtracting 11676 sequences from chr5\n",
      "\tExtracting 11471 sequences from chr6\n",
      "\tExtracting 11761 sequences from chr7\n",
      "\tExtracting 10054 sequences from chr8\n",
      "\tExtracting 8486 sequences from chr9\n",
      "\tExtracting 57 sequences from chrM\n",
      "\tExtracting 7788 sequences from chrX\n",
      "\tExtracting 1011 sequences from chrY\n",
      "\t\t45 of 246085 removed because they had >70.00% Ns (i.e. masked repeats)\n",
      "\n",
      "\tNot removing redundant sequences\n",
      "\n",
      "\n",
      "\tSequences processed:\n",
      "\t\tAuto detected maximum sequence length of 201 bp\n",
      "\t\t100000\n",
      "\t\t200000\n",
      "\t\t246040 total\n",
      "\n",
      "\tFrequency Bins: 0.2 0.25 0.3 0.35 0.4 0.45 0.5 0.6 0.7 0.8\n",
      "\tFreq\tBin\tCount\n",
      "\t0.2\t0\t301\n",
      "\t0.25\t1\t2544\n",
      "\t0.3\t2\t13271\n",
      "\t0.35\t3\t29294\n",
      "\t0.4\t4\t38037\n",
      "\t0.45\t5\t40475\n",
      "\t0.5\t6\t40310\n",
      "\t0.6\t7\t58963\n",
      "\t0.7\t8\t20053\n",
      "\t0.8\t9\t2603\n",
      "\t10\t10\t189\n",
      "\tBin\t# Targets\t# Background\tBackground Weight\n",
      "\t1\t6\t2538\t0.389\n",
      "\t2\t59\t13212\t0.735\n",
      "\t3\t205\t29089\t1.160\n",
      "\t4\t336\t37701\t1.467\n",
      "\t5\t281\t40194\t1.151\n",
      "\t6\t230\t40080\t0.944\n",
      "\t7\t276\t58687\t0.774\n",
      "\t8\t76\t19977\t0.626\n",
      "\t9\t14\t2589\t0.890\n",
      "\tNormalizing lower order oligos using homer2\n",
      "\n",
      "\tReading input files...\n",
      "\t245550 total sequences read\n",
      "\tAutonormalization: 1-mers (4 total)\n",
      "\t\tA\t29.26%\t27.21%\t1.075\n",
      "\t\tC\t21.16%\t21.42%\t0.988\n",
      "\t\tG\t22.68%\t22.32%\t1.016\n",
      "\t\tT\t26.90%\t29.05%\t0.926\n",
      "\tAutonormalization: 2-mers (16 total)\n",
      "\t\tAA\t9.57%\t8.41%\t1.139\n",
      "\t\tCA\t7.05%\t7.02%\t1.005\n",
      "\t\tGA\t7.24%\t6.07%\t1.194\n",
      "\t\tTA\t5.40%\t5.75%\t0.939\n",
      "\t\tAC\t5.29%\t4.81%\t1.098\n",
      "\t\tCC\t5.61%\t5.80%\t0.967\n",
      "\t\tGC\t4.65%\t4.83%\t0.964\n",
      "\t\tTC\t5.61%\t5.97%\t0.939\n",
      "\t\tAG\t7.77%\t7.23%\t1.075\n",
      "\t\tCG\t2.02%\t1.31%\t1.542\n",
      "\t\tGG\t5.73%\t6.02%\t0.950\n",
      "\t\tTG\t7.15%\t7.77%\t0.921\n",
      "\t\tAT\t6.63%\t6.79%\t0.976\n",
      "\t\tCT\t6.48%\t7.28%\t0.889\n",
      "\t\tGT\t5.06%\t5.42%\t0.934\n",
      "\t\tTT\t8.73%\t9.52%\t0.917\n",
      "\tAutonormalization: 3-mers (64 total)\n",
      "\tNormalization weights can be found in file: motif/seq.autonorm.tsv\n",
      "\tConverging on autonormalization solution:\n",
      "\t...............................................................................\n",
      "\tFinal normalization:\tAutonormalization: 1-mers (4 total)\n",
      "\t\tA\t29.26%\t29.06%\t1.007\n",
      "\t\tC\t21.16%\t21.19%\t0.999\n",
      "\t\tG\t22.68%\t22.76%\t0.997\n",
      "\t\tT\t26.90%\t26.99%\t0.997\n",
      "\tAutonormalization: 2-mers (16 total)\n",
      "\t\tAA\t9.57%\t9.51%\t1.007\n",
      "\t\tCA\t7.05%\t7.12%\t0.991\n",
      "\t\tGA\t7.24%\t6.94%\t1.044\n",
      "\t\tTA\t5.40%\t5.50%\t0.981\n",
      "\t\tAC\t5.29%\t5.15%\t1.026\n",
      "\t\tCC\t5.61%\t5.65%\t0.993\n",
      "\t\tGC\t4.65%\t4.80%\t0.970\n",
      "\t\tTC\t5.61%\t5.59%\t1.003\n",
      "\t\tAG\t7.77%\t7.74%\t1.005\n",
      "\t\tCG\t2.02%\t1.81%\t1.118\n",
      "\t\tGG\t5.73%\t5.95%\t0.962\n",
      "\t\tTG\t7.15%\t7.25%\t0.986\n",
      "\t\tAT\t6.63%\t6.67%\t0.994\n",
      "\t\tCT\t6.48%\t6.61%\t0.980\n",
      "\t\tGT\t5.06%\t5.07%\t0.999\n",
      "\t\tTT\t8.73%\t8.64%\t1.010\n",
      "\tAutonormalization: 3-mers (64 total)\n",
      "\tFinished preparing sequence/group files\n",
      "\n",
      "\t----------------------------------------------------------\n",
      "\tKnown motif enrichment\n",
      "\t----------------------------------------------------------\n",
      "\tDe novo motif finding (HOMER)\n",
      "\n",
      "\tNumber of Trial motifs (-T) set to 32 (from 10) to work well with 32 CPUs\n",
      "\tScanning input files...\n",
      "\tParsing sequences...\n",
      "\t|0%                                   50%                                  100%|\n",
      "\t================================================================================\n",
      "\tTotal number of Oligos: 1024\n",
      "\tAutoadjustment for sequence coverage in background: 1.00x\n",
      "\n",
      "\tOligos: 1024 of 1034 max\n",
      "\tTree  : 1364 of 5170 max\n",
      "\tOptimizing memory usage...\n",
      "\tCache length = 11180\n",
      "\tUsing binomial scoring\n",
      "\n",
      "\tGlobal Optimization Phase: Looking for enriched oligos with up to 2 mismatches...\n",
      "\n",
      "\tScreening oligos 1024 (allowing 0 mismatches):\n",
      "\t|0%                                   50%                                  100%|\n",
      "\t=====================================================================================\n",
      "\t\t0.00% skipped, 100.00% checked (1024 of 1024), of those checked:\n",
      "\t\t0.00% not in target, 0.00% increased p-value, 0.00% high p-value\n",
      "\n",
      "\tScreening oligos 1024 (allowing 1 mismatches):\n",
      "\t|0%                                   50%                                  100%|\n",
      "\t=====================================================================================\n",
      "\t\t0.00% skipped, 100.00% checked (1024 of 1024), of those checked:\n",
      "\t\t0.00% not in target, 54.39% increased p-value, 54.00% high p-value\n",
      "\n",
      "\tScreening oligos 1024 (allowing 2 mismatches):\n",
      "\t|0%                                   50%                                  100%|\n",
      "\t=====================================================================================\n",
      "\t\t86.62% skipped, 13.38% checked (137 of 1024), of those checked:\n",
      "\t\t0.00% not in target, 2.34% increased p-value, 0.00% high p-value\n",
      "\tReading input files...\n",
      "\t245550 total sequences read\n",
      "\tCache length = 11180\n",
      "\tUsing binomial scoring\n",
      "\n",
      "\tLocal Optimization Phase:\n",
      "\t1 of 25 Initial Sequence: GAAGA... (-134.585)\n",
      "\t\tRound 1: -134.59 GAAGA T:1303.0(58.48%),B:103735.9(37.65%),P:1e-58\n",
      "\t\tRound 2: -134.59 GAAGA T:1303.0(58.48%),B:103735.9(37.65%),P:1e-58\n",
      "\t\t=Final=: -104.92 GAAGA T:762.0(51.38%),B:73260.4(33.37%),P:1e-45\n",
      "\t\tPerforming exhaustive masking of motif...\n",
      "\t\tReprioritizing potential motifs...\n",
      "\t2 of 25 Initial Sequence: GGTAA... (-88.080)\n",
      "\t\tRound 1: -88.08 GGTAA T:462.0(26.78%),B:32774.0(13.87%),P:1e-38\n",
      "\t\tRound 2: -88.08 GGTAA T:462.0(26.78%),B:32774.0(13.87%),P:1e-38\n",
      "\t\t=Final=: -101.07 GGTAA T:409.0(27.58%),B:30079.7(13.70%),P:1e-43\n",
      "\t\tPerforming exhaustive masking of motif...\n",
      "\t\tReprioritizing potential motifs...\n",
      "\t3 of 25 Initial Sequence: CGGAA... (-30.221)\n",
      "\t\tRound 1: -40.76 CGGAA T:351.0(21.08%),B:30289.9(12.89%),P:1e-17\n",
      "\t\tRound 2: -40.76 CGGAA T:351.0(21.08%),B:30289.9(12.89%),P:1e-17\n",
      "\t\t=Final=: -38.65 CGGAA T:296.0(19.96%),B:26800.7(12.21%),P:1e-16\n",
      "\t\tPerforming exhaustive masking of motif...\n",
      "\t\tReprioritizing potential motifs...\n",
      "\t4 of 25 Initial Sequence: GTAAG... (-21.980)\n",
      "\t\tRound 1: -28.45 GTAAG T:565.0(31.69%),B:58689.8(23.46%),P:1e-12\n",
      "\t\tRound 2: -41.43 GTACG T:823.0(42.60%),B:83631.5(31.68%),P:1e-17\n",
      "\t\tRound 3: -54.28 GATCG T:791.0(41.35%),B:75179.5(28.99%),P:1e-23\n",
      "\t\tRound 4: -54.28 GATCG T:791.0(41.35%),B:75179.5(28.99%),P:1e-23\n",
      "\t\t=Final=: -50.48 GATCG T:566.0(38.17%),B:58299.7(26.55%),P:1e-21\n",
      "\t\tPerforming exhaustive masking of motif...\n",
      "\t\tReprioritizing potential motifs...\n",
      "\t5 of 25 Initial Sequence: GATGA... (-19.742)\n",
      "\t\tRound 1: -27.45 GATGA T:1109.0(52.67%),B:125584.2(43.56%),P:1e-11\n",
      "\t\tRound 2: -30.27 GACGA T:1209.0(55.76%),B:135600.9(46.08%),P:1e-13\n",
      "\t\tRound 3: -30.27 GACGA T:1209.0(55.76%),B:135600.9(46.08%),P:1e-13\n",
      "\t\t=Final=: -18.07 GACGA T:454.0(30.61%),B:53225.2(24.24%),P:1e-7\n",
      "\t\tPerforming exhaustive masking of motif...\n",
      "\t\tReprioritizing potential motifs...\n",
      "\t6 of 25 Initial Sequence: CTGCT... (-12.655)\n",
      "\t\tRound 1: -15.54 CTGCT T:581.0(32.42%),B:67254.1(26.38%),P:1e-6\n",
      "\t\tRound 2: -15.54 CTGCT T:581.0(32.42%),B:67254.1(26.38%),P:1e-6\n",
      "\t\t=Final=: -14.42 CTGCT T:442.0(29.80%),B:53184.7(24.22%),P:1e-6\n",
      "\t\tPerforming exhaustive masking of motif...\n",
      "\t\tReprioritizing potential motifs...\n",
      "\t7 of 25 Initial Sequence: TCCGA... (-12.021)\n",
      "\t\tRound 1: -19.38 TCCGA T:224.0(14.02%),B:21411.5(9.29%),P:1e-8\n",
      "\t\tRound 2: -19.38 TCCGA T:224.0(14.02%),B:21411.5(9.29%),P:1e-8\n",
      "\t\t=Final=: -19.93 TCCGA T:205.0(13.82%),B:20013.4(9.12%),P:1e-8\n",
      "\t\tPerforming exhaustive masking of motif...\n",
      "\t\tReprioritizing potential motifs...\n",
      "\t8 of 25 Initial Sequence: CTTTT... (-10.079)\n",
      "\t\tRound 1: -10.08 CTTTT T:746.0(39.54%),B:93160.1(34.58%),P:1e-4\n",
      "\t\tRound 2: -10.08 CTTTT T:746.0(39.54%),B:93160.1(34.58%),P:1e-4\n",
      "\t\t=Final=: -15.36 CTTTT T:558.0(37.63%),B:68948.1(31.40%),P:1e-6\n",
      "\t\tPerforming exhaustive masking of motif...\n",
      "\t\tReprioritizing potential motifs...\n",
      "\t9 of 25 Initial Sequence: GAGGA... (-9.941)\n",
      "\t\tRound 1: -15.00 GAGSA T:922.0(46.31%),B:111561.1(39.84%),P:1e-6\n",
      "\t\tRound 2: -15.00 GAGSA T:922.0(46.31%),B:111561.1(39.84%),P:1e-6\n",
      "\t\t=Final=: -17.39 GAGSA T:639.0(43.09%),B:79478.9(36.20%),P:1e-7\n",
      "\t\tPerforming exhaustive masking of motif...\n",
      "\t\tReprioritizing potential motifs...\n",
      "\t10 of 25 Initial Sequence: GATGC... (-10.016)\n",
      "\t\tRound 1: -10.02 GATGC T:244.0(15.18%),B:27432.3(11.75%),P:1e-4\n",
      "\t\tRound 2: -10.02 GATGC T:244.0(15.18%),B:27432.3(11.75%),P:1e-4\n",
      "\t\t=Final=: -10.82 GATGC T:223.0(15.04%),B:25190.6(11.47%),P:1e-4\n",
      "\t\tPerforming exhaustive masking of motif...\n",
      "\t\tReprioritizing potential motifs...\n",
      "\t11 of 25 Initial Sequence: GTATG... (-9.774)\n",
      "\t\tRound 1: -25.46 GTAAG T:493.0(28.29%),B:51362.9(20.86%),P:1e-11\n",
      "\t\tRound 2: -25.46 GTAAG T:493.0(28.29%),B:51362.9(20.86%),P:1e-11\n",
      "\t\t=Final=: -33.05 GTAAG T:423.0(28.52%),B:44048.4(20.06%),P:1e-14\n",
      "\t\tPerforming exhaustive masking of motif...\n",
      "\t\tReprioritizing potential motifs...\n",
      "\tRemaining seeds don't look promising (After initial 5 motifs, logp -9.008 > -9.171)\n",
      "\n",
      "\tFinalizing Enrichment Statistics (new in v3.4)\n",
      "\tReading input files...\n",
      "\t245550 total sequences read\n",
      "\tCache length = 11180\n",
      "\tUsing binomial scoring\n",
      "\tChecking enrichment of 11 motif(s)\n",
      "\t|0%                                    50%                                  100%|\n",
      "\t=================================================================================\n",
      "\tOutput in file: motif/homerMotifs.motifs5\n",
      "\n",
      "\n",
      "\tNumber of Trial motifs (-T) set to 32 (from 10) to work well with 32 CPUs\n",
      "\tScanning input files...\n",
      "\tParsing sequences...\n",
      "\t|0%                                   50%                                  100%|\n",
      "\t================================================================================\n",
      "\tTotal number of Oligos: 4096\n",
      "\tAutoadjustment for sequence coverage in background: 1.00x\n",
      "\n",
      "\tOligos: 4096 of 4106 max\n",
      "\tTree  : 5460 of 20530 max\n",
      "\tOptimizing memory usage...\n",
      "\tCache length = 11180\n",
      "\tUsing binomial scoring\n",
      "\n",
      "\tGlobal Optimization Phase: Looking for enriched oligos with up to 2 mismatches...\n",
      "\n",
      "\tScreening oligos 4096 (allowing 0 mismatches):\n",
      "\t|0%                                   50%                                  100%|\n",
      "\t================================================================================\n",
      "\t\t0.00% skipped, 100.00% checked (4096 of 4096), of those checked:\n",
      "\t\t0.00% not in target, 0.00% increased p-value, 0.00% high p-value\n",
      "\n",
      "\tScreening oligos 4096 (allowing 1 mismatches):\n",
      "\t|0%                                   50%                                  100%|\n",
      "\t================================================================================\n",
      "\t\t0.00% skipped, 100.00% checked (4096 of 4096), of those checked:\n",
      "\t\t0.00% not in target, 50.32% increased p-value, 50.39% high p-value\n",
      "\n",
      "\tScreening oligos 4096 (allowing 2 mismatches):\n",
      "\t|0%                                   50%                                  100%|\n",
      "\t================================================================================\n",
      "\t\t72.00% skipped, 28.00% checked (1147 of 4096), of those checked:\n",
      "\t\t0.00% not in target, 13.84% increased p-value, 0.00% high p-value\n",
      "\tReading input files...\n",
      "\t245550 total sequences read\n",
      "\tCache length = 11180\n",
      "\tUsing binomial scoring\n",
      "\n",
      "\tLocal Optimization Phase:\n",
      "\t1 of 25 Initial Sequence: CGAAGA... (-96.941)\n",
      "\t\tRound 1: -133.09 NGAAGA T:1294.0(58.22%),B:103232.1(37.51%),P:1e-57\n",
      "\t\tRound 2: -133.09 NGAAGA T:1294.0(58.22%),B:103232.1(37.51%),P:1e-57\n",
      "\t\t=Final=: -104.08 NGAAGA T:759.0(51.18%),B:73004.8(33.25%),P:1e-45\n",
      "\t\tPerforming exhaustive masking of motif...\n",
      "\t\tReprioritizing potential motifs...\n",
      "\t2 of 25 Initial Sequence: GTAAGT... (-89.305)\n",
      "\t\tRound 1: -107.29 GTAAGT T:352.0(21.14%),B:20243.3(8.81%),P:1e-46\n",
      "\t\tRound 2: -107.29 GTAAGT T:352.0(21.14%),B:20243.3(8.81%),P:1e-46\n",
      "\t\t=Final=: -137.12 GTAAGT T:337.0(22.72%),B:18986.9(8.65%),P:1e-59\n",
      "\t\tPerforming exhaustive masking of motif...\n",
      "\t\tReprioritizing potential motifs...\n",
      "\t3 of 25 Initial Sequence: AGGTAA... (-62.794)\n",
      "\t\tRound 1: -71.28 AGGTAA T:317.0(19.25%),B:21423.7(9.30%),P:1e-30\n",
      "\t\tRound 2: -71.28 AGGTAA T:317.0(19.25%),B:21423.7(9.30%),P:1e-30\n",
      "\t\t=Final=: -81.66 AGGTAA T:296.0(19.96%),B:20315.1(9.25%),P:1e-35\n",
      "\t\tPerforming exhaustive masking of motif...\n",
      "\t\tReprioritizing potential motifs...\n",
      "\t4 of 25 Initial Sequence: CGACGA... (-35.106)\n",
      "\t\tRound 1: -43.97 CGACGA T:598.0(33.19%),B:56961.1(22.85%),P:1e-19\n",
      "\t\tRound 2: -43.97 CGACGA T:598.0(33.19%),B:56961.1(22.85%),P:1e-19\n",
      "\t\t=Final=: -42.34 CGACGA T:438.0(29.53%),B:43587.1(19.85%),P:1e-18\n",
      "\t\tPerforming exhaustive masking of motif...\n",
      "\t\tReprioritizing potential motifs...\n",
      "\t5 of 25 Initial Sequence: CGGAAA... (-24.457)\n",
      "\t\tRound 1: -44.11 CGGAAA T:187.0(11.85%),B:12698.7(5.62%),P:1e-19\n",
      "\t\tRound 2: -44.11 CGGAAA T:187.0(11.85%),B:12698.7(5.62%),P:1e-19\n",
      "\t\t=Final=: -44.53 CGGAAA T:173.0(11.67%),B:12078.2(5.50%),P:1e-19\n",
      "\t\tPerforming exhaustive masking of motif...\n",
      "\t\tReprioritizing potential motifs...\n",
      "\t6 of 25 Initial Sequence: GAGGAG... (-19.747)\n",
      "\t\tRound 1: -20.37 GAGGAG T:222.0(13.91%),B:20997.3(9.12%),P:1e-8\n",
      "\t\tRound 2: -20.37 GAGGAG T:222.0(13.91%),B:20997.3(9.12%),P:1e-8\n",
      "\t\t=Final=: -15.37 GAGGAG T:175.0(11.80%),B:17535.0(7.99%),P:1e-6\n",
      "\t\tPerforming exhaustive masking of motif...\n",
      "\t\tReprioritizing potential motifs...\n",
      "\t7 of 25 Initial Sequence: GGTTCG... (-18.591)\n",
      "\t\tRound 1: -30.92 GGTACG T:162.0(10.35%),B:12165.5(5.39%),P:1e-13\n",
      "\t\tRound 2: -30.92 GGTACG T:162.0(10.35%),B:12165.5(5.39%),P:1e-13\n",
      "\t\t=Final=: -33.74 GGTACG T:156.0(10.52%),B:11739.3(5.35%),P:1e-14\n",
      "\t\tPerforming exhaustive masking of motif...\n",
      "\t\tReprioritizing potential motifs...\n",
      "\t8 of 25 Initial Sequence: GCACAC... (-15.733)\n",
      "\t\tRound 1: -22.45 GCRCAC T:219.0(13.73%),B:20046.9(8.73%),P:1e-9\n",
      "\t\tRound 2: -22.45 GCRCAC T:219.0(13.73%),B:20046.9(8.73%),P:1e-9\n",
      "\t\t=Final=: -10.17 GCRCAC T:183.0(12.34%),B:20216.9(9.21%),P:1e-4\n",
      "\t\tPerforming exhaustive masking of motif...\n",
      "\t\tReprioritizing potential motifs...\n",
      "\t9 of 25 Initial Sequence: CATCGA... (-15.507)\n",
      "\t\tRound 1: -29.71 CATCGA T:799.0(41.66%),B:86270.6(32.49%),P:1e-12\n",
      "\t\tRound 2: -29.71 CATCGA T:799.0(41.66%),B:86270.6(32.49%),P:1e-12\n",
      "\t\t=Final=: -35.47 CATCGA T:564.0(38.03%),B:62133.6(28.30%),P:1e-15\n",
      "\t\tPerforming exhaustive masking of motif...\n",
      "\t\tReprioritizing potential motifs...\n",
      "\t10 of 25 Initial Sequence: ATCCGA... (-12.901)\n",
      "\t\tRound 1: -21.15 ATCCGA T:151.0(9.68%),B:12750.9(5.64%),P:1e-9\n",
      "\t\tRound 2: -21.15 ATCCGA T:151.0(9.68%),B:12750.9(5.64%),P:1e-9\n",
      "\t\t=Final=: -19.94 ATCCGA T:123.0(8.29%),B:10346.4(4.71%),P:1e-8\n",
      "\t\tPerforming exhaustive masking of motif...\n",
      "\t\tReprioritizing potential motifs...\n",
      "\t11 of 25 Initial Sequence: GCCAAT... (-12.211)\n",
      "\t\tRound 1: -16.36 GCCAAC T:902.0(45.58%),B:107778.0(38.79%),P:1e-7\n",
      "\t\tRound 2: -16.36 GCCAAC T:902.0(45.58%),B:107778.0(38.79%),P:1e-7\n",
      "\t\t=Final=: -16.27 GCCAAC T:660.0(44.50%),B:83046.1(37.83%),P:1e-7\n",
      "\t\tPerforming exhaustive masking of motif...\n",
      "\t\tReprioritizing potential motifs...\n",
      "\t12 of 25 Initial Sequence: TACTAC... (-12.991)\n",
      "\t\tRound 1: -24.55 TACTAC T:402.0(23.75%),B:40864.5(16.98%),P:1e-10\n",
      "\t\tRound 2: -24.55 TACTAC T:402.0(23.75%),B:40864.5(16.98%),P:1e-10\n",
      "\t\t=Final=: -22.88 TACTAC T:334.0(22.52%),B:35462.7(16.15%),P:1e-9\n",
      "\t\tPerforming exhaustive masking of motif...\n",
      "\t\tReprioritizing potential motifs...\n",
      "\t13 of 25 Initial Sequence: TGCCAA... (-10.514)\n",
      "\t\tRound 1: -14.55 TGCCAA T:66.0(4.35%),B:4863.0(2.19%),P:1e-6\n",
      "\t\tRound 2: -14.62 TGCGAA T:95.0(6.21%),B:7993.4(3.57%),P:1e-6\n",
      "\t\tRound 3: -15.59 CGCCAA T:48.0(3.19%),B:2996.6(1.36%),P:1e-6\n",
      "\t\tRound 4: -15.59 CGCCAA T:48.0(3.19%),B:2996.6(1.36%),P:1e-6\n",
      "\t\t=Final=: -16.50 CGCCAA T:48.0(3.24%),B:2974.8(1.35%),P:1e-7\n",
      "\t\tPerforming exhaustive masking of motif...\n",
      "\t\tReprioritizing potential motifs...\n",
      "\t14 of 25 Initial Sequence: TCGCCT... (-9.674)\n",
      "\t\tRound 1: -9.92 TCGCCT T:50.0(3.32%),B:3960.2(1.79%),P:1e-4\n",
      "\t\tRound 2: -12.14 NCGGAM T:158.0(10.11%),B:15789.5(6.94%),P:1e-5\n",
      "\t\tRound 3: -12.14 NCGGAM T:158.0(10.11%),B:15789.5(6.94%),P:1e-5\n",
      "\t\t=Final=: -14.31 NCGGAM T:146.0(9.84%),B:14265.3(6.50%),P:1e-6\n",
      "\t\tPerforming exhaustive masking of motif...\n",
      "\t\tReprioritizing potential motifs...\n",
      "\t15 of 25 Initial Sequence: TTCGCG... (-9.683)\n",
      "\t\tRound 1: -18.92 TTCGCG T:202.0(12.74%),B:18993.3(8.29%),P:1e-8\n",
      "\t\tRound 2: -18.92 TTCGCG T:202.0(12.74%),B:18993.3(8.29%),P:1e-8\n",
      "\t\t=Final=: -16.93 TTCGCG T:167.0(11.26%),B:16143.2(7.35%),P:1e-7\n",
      "\t\tPerforming exhaustive masking of motif...\n",
      "\t\tReprioritizing potential motifs...\n",
      "\t16 of 25 Initial Sequence: CCCCCT... (-9.564)\n",
      "\t\tRound 1: -18.46 CCCCCT T:383.0(22.77%),B:40904.6(17.00%),P:1e-8\n",
      "\t\tRound 2: -18.46 CCCCCT T:383.0(22.77%),B:40904.6(17.00%),P:1e-8\n",
      "\t\t=Final=: -16.38 CCCCCT T:273.0(18.41%),B:29663.9(13.51%),P:1e-7\n",
      "\t\tPerforming exhaustive masking of motif...\n",
      "\t\tReprioritizing potential motifs...\n",
      "\tRemaining seeds don't look promising (After initial 5 motifs, logp -8.761 > -9.171)\n",
      "\n",
      "\tFinalizing Enrichment Statistics (new in v3.4)\n",
      "\tReading input files...\n",
      "\t245550 total sequences read\n",
      "\tCache length = 11180\n",
      "\tUsing binomial scoring\n",
      "\tChecking enrichment of 16 motif(s)\n",
      "\t|0%                                    50%                                  100%|\n",
      "\t=================================================================================\n",
      "\tOutput in file: motif/homerMotifs.motifs6\n",
      "\n",
      "\n",
      "\tNumber of Trial motifs (-T) set to 32 (from 10) to work well with 32 CPUs\n",
      "\tScanning input files...\n",
      "\tParsing sequences...\n",
      "\t|0%                                   50%                                  100%|\n",
      "\t================================================================================\n",
      "\tTotal number of Oligos: 16384\n",
      "\tAutoadjustment for sequence coverage in background: 1.00x\n",
      "\n",
      "\tOligos: 16384 of 16394 max\n",
      "\tTree  : 21844 of 81970 max\n",
      "\tOptimizing memory usage...\n",
      "\tCache length = 11180\n",
      "\tUsing binomial scoring\n",
      "\n",
      "\tGlobal Optimization Phase: Looking for enriched oligos with up to 2 mismatches...\n",
      "\n",
      "\tScreening oligos 16384 (allowing 0 mismatches):\n",
      "\t|0%                                   50%                                  100%|\n",
      "\t================================================================================\n",
      "\t\t0.74% skipped, 99.26% checked (16263 of 16384), of those checked:\n",
      "\t\t0.74% not in target, 0.00% increased p-value, 0.00% high p-value\n",
      "\n",
      "\tScreening oligos 16384 (allowing 1 mismatches):\n",
      "\t|0%                                   50%                                  100%|\n",
      "\t================================================================================\n",
      "\t\t0.74% skipped, 99.26% checked (16263 of 16384), of those checked:\n",
      "\t\t0.00% not in target, 42.85% increased p-value, 53.81% high p-value\n",
      "\n",
      "\tScreening oligos 16384 (allowing 2 mismatches):\n",
      "\t|0%                                   50%                                  100%|\n",
      "\t================================================================================\n",
      "\t\t67.54% skipped, 32.46% checked (5319 of 16384), of those checked:\n",
      "\t\t0.00% not in target, 26.97% increased p-value, 0.00% high p-value\n",
      "\tReading input files...\n",
      "\t245550 total sequences read\n",
      "\tCache length = 11180\n",
      "\tUsing binomial scoring\n",
      "\n",
      "\tLocal Optimization Phase:\n",
      "\t1 of 25 Initial Sequence: GGTAAGT... (-115.548)\n",
      "\t\tRound 1: -164.36 GGTAAGT T:461.0(26.73%),B:23567.5(10.18%),P:1e-71\n",
      "\t\tRound 2: -164.36 GGTAAGT T:461.0(26.73%),B:23567.5(10.18%),P:1e-71\n",
      "\t\t=Final=: -222.30 GGTAAGT T:440.0(29.67%),B:22124.2(10.08%),P:1e-96\n",
      "\t\tPerforming exhaustive masking of motif...\n",
      "\t\tReprioritizing potential motifs...\n",
      "\t2 of 25 Initial Sequence: GAAGAAG... (-108.635)\n",
      "\t\tRound 1: -193.04 GAAGADG T:924.0(46.38%),B:58004.9(23.22%),P:1e-83\n",
      "\t\tRound 2: -193.04 GAAGADG T:924.0(46.38%),B:58004.9(23.22%),P:1e-83\n",
      "\t\t=Final=: -131.75 GAAGADG T:501.0(33.78%),B:36565.9(16.66%),P:1e-57\n",
      "\t\tPerforming exhaustive masking of motif...\n",
      "\t\tReprioritizing potential motifs...\n",
      "\t3 of 25 Initial Sequence: ACGACGA... (-30.635)\n",
      "\t\tRound 1: -45.38 ACGACGA T:526.0(29.87%),B:48333.9(19.76%),P:1e-19\n",
      "\t\tRound 2: -49.95 ACGASGA T:1043.0(50.52%),B:105296.8(38.10%),P:1e-21\n",
      "\t\tRound 3: -49.95 ACGASGA T:1043.0(50.52%),B:105296.8(38.10%),P:1e-21\n",
      "\t\t=Final=: -35.68 ACGASGA T:655.0(44.17%),B:74643.6(34.00%),P:1e-15\n",
      "\t\tPerforming exhaustive masking of motif...\n",
      "\t\tReprioritizing potential motifs...\n",
      "\t4 of 25 Initial Sequence: GGTTCGA... (-25.998)\n",
      "\t\tRound 1: -38.77 NVTTCGA T:515.0(29.35%),B:49214.1(20.08%),P:1e-16\n",
      "\t\tRound 2: -38.77 NVTTCGA T:515.0(29.35%),B:49214.1(20.08%),P:1e-16\n",
      "\t\t=Final=: -32.65 NVTTCGA T:411.0(27.71%),B:42598.2(19.40%),P:1e-14\n",
      "\t\tPerforming exhaustive masking of motif...\n",
      "\t\tReprioritizing potential motifs...\n",
      "\t5 of 25 Initial Sequence: CAGGTAA... (-25.536)\n",
      "\t\tRound 1: -44.29 MAGGTAM T:145.0(9.32%),B:8809.9(3.93%),P:1e-19\n",
      "\t\tRound 2: -44.29 MAGGTAM T:145.0(9.32%),B:8809.9(3.93%),P:1e-19\n",
      "\t\t=Final=: -48.18 MAGGTAM T:142.0(9.58%),B:8622.6(3.93%),P:1e-20\n",
      "\t\tPerforming exhaustive masking of motif...\n",
      "\t\tReprioritizing potential motifs...\n",
      "\t6 of 25 Initial Sequence: AGCACAC... (-22.305)\n",
      "\t\tRound 1: -27.31 AGCACAC T:74.0(4.87%),B:4180.6(1.89%),P:1e-11\n",
      "\t\tRound 2: -27.31 AGCACAC T:74.0(4.87%),B:4180.6(1.89%),P:1e-11\n",
      "\t\t=Final=: -15.87 AGCACAC T:121.0(8.16%),B:10919.1(4.97%),P:1e-6\n",
      "\t\tPerforming exhaustive masking of motif...\n",
      "\t\tReprioritizing potential motifs...\n",
      "\t7 of 25 Initial Sequence: CGGAAGA... (-19.382)\n",
      "\t\tRound 1: -24.24 CGGAAGA T:242.0(15.06%),B:22242.4(9.63%),P:1e-10\n",
      "\t\tRound 2: -33.91 CGGAAWR T:142.0(9.13%),B:9740.0(4.34%),P:1e-14\n",
      "\t\tRound 3: -37.14 CGCAAAR T:126.0(8.15%),B:7793.5(3.49%),P:1e-16\n",
      "\t\tRound 4: -37.14 CGCAAAR T:126.0(8.15%),B:7793.5(3.49%),P:1e-16\n",
      "\t\t=Final=: -36.32 CGCAAAR T:118.0(7.96%),B:7550.1(3.44%),P:1e-15\n",
      "\t\tPerforming exhaustive masking of motif...\n",
      "\t\tReprioritizing potential motifs...\n",
      "\t8 of 25 Initial Sequence: AGGTGAG... (-15.638)\n",
      "\t\tRound 1: -20.92 AGGTGAG T:123.0(7.96%),B:9838.0(4.38%),P:1e-9\n",
      "\t\tRound 2: -21.06 ASGTGCG T:94.0(6.14%),B:6805.6(3.05%),P:1e-9\n",
      "\t\tRound 3: -21.06 ASGTGCG T:94.0(6.14%),B:6805.6(3.05%),P:1e-9\n",
      "\t\t=Final=: -19.61 ASGTGCG T:88.0(5.93%),B:6592.6(3.00%),P:1e-8\n",
      "\t\tPerforming exhaustive masking of motif...\n",
      "\t\tReprioritizing potential motifs...\n",
      "\t9 of 25 Initial Sequence: CTTCTAC... (-15.353)\n",
      "\t\tRound 1: -23.68 CTTCTAC T:807.0(41.98%),B:90705.5(33.84%),P:1e-10\n",
      "\t\tRound 2: -24.80 CWWCYMC T:393.0(23.29%),B:39685.7(16.54%),P:1e-10\n",
      "\t\tRound 3: -31.04 CAACACC T:624.0(34.36%),B:64720.3(25.53%),P:1e-13\n",
      "\t\tRound 4: -31.04 CAACACC T:624.0(34.36%),B:64720.3(25.53%),P:1e-13\n",
      "\t\t=Final=: -22.10 CAACACC T:443.0(29.87%),B:50162.9(22.85%),P:1e-9\n",
      "\t\tPerforming exhaustive masking of motif...\n",
      "\t\tReprioritizing potential motifs...\n",
      "\t10 of 25 Initial Sequence: CCAACGA... (-13.063)\n",
      "\t\tRound 1: -24.07 CCAACGA T:490.0(28.15%),B:51605.5(20.95%),P:1e-10\n",
      "\t\tRound 2: -24.07 CCAACGA T:490.0(28.15%),B:51605.5(20.95%),P:1e-10\n",
      "\t\t=Final=: -35.63 CCAACGA T:585.0(39.45%),B:64954.9(29.59%),P:1e-15\n",
      "\t\tPerforming exhaustive masking of motif...\n",
      "\t\tReprioritizing potential motifs...\n",
      "\t11 of 25 Initial Sequence: AAGTAAG... (-11.463)\n",
      "\t\tRound 1: -16.52 AAGTAWG T:86.0(5.64%),B:6629.1(2.97%),P:1e-7\n",
      "\t\tRound 2: -16.52 AAGTAWG T:86.0(5.64%),B:6629.1(2.97%),P:1e-7\n",
      "\t\t=Final=: -16.75 AAGTAWG T:83.0(5.60%),B:6491.2(2.96%),P:1e-7\n",
      "\t\tPerforming exhaustive masking of motif...\n",
      "\t\tReprioritizing potential motifs...\n",
      "\t12 of 25 Initial Sequence: TTATGTT... (-10.695)\n",
      "\t\tRound 1: -10.69 TTATGTT T:56.0(3.71%),B:4383.5(1.98%),P:1e-4\n",
      "\t\tRound 2: -10.69 TTATGTT T:56.0(3.71%),B:4383.5(1.98%),P:1e-4\n",
      "\t\t=Final=: -12.40 TTATGTT T:56.0(3.78%),B:4286.0(1.95%),P:1e-5\n",
      "\t\tPerforming exhaustive masking of motif...\n",
      "\t\tReprioritizing potential motifs...\n",
      "\t13 of 25 Initial Sequence: TGCTTTT... (-9.880)\n",
      "\t\tRound 1: -16.20 TGCTTTT T:622.0(34.27%),B:72193.9(28.02%),P:1e-7\n",
      "\t\tRound 2: -16.20 TGCTTTT T:622.0(34.27%),B:72193.9(28.02%),P:1e-7\n",
      "\t\t=Final=: -20.56 TGCTTTT T:693.0(46.73%),B:85755.6(39.06%),P:1e-8\n",
      "\t\tPerforming exhaustive masking of motif...\n",
      "\t\tReprioritizing potential motifs...\n",
      "\t14 of 25 Initial Sequence: GGAGAGC... (-9.920)\n",
      "\t\tRound 1: -18.22 GGAGAGC T:92.0(6.02%),B:7017.2(3.15%),P:1e-7\n",
      "\t\tRound 2: -18.22 GGAGAGC T:92.0(6.02%),B:7017.2(3.15%),P:1e-7\n",
      "\t\t=Final=: -16.70 GGAGAGC T:86.0(5.80%),B:6823.9(3.11%),P:1e-7\n",
      "\t\tPerforming exhaustive masking of motif...\n",
      "\t\tReprioritizing potential motifs...\n",
      "\t15 of 25 Initial Sequence: TTCGTGG... (-9.431)\n",
      "\t\tRound 1: -14.97 TTCGTGG T:182.0(11.55%),B:17860.5(7.81%),P:1e-6\n",
      "\t\tRound 2: -14.97 TTCGTGG T:182.0(11.55%),B:17860.5(7.81%),P:1e-6\n",
      "\t\t=Final=: -16.35 TTCGTGG T:172.0(11.60%),B:16900.1(7.70%),P:1e-7\n",
      "\t\tPerforming exhaustive masking of motif...\n",
      "\t\tReprioritizing potential motifs...\n",
      "\t16 of 25 Initial Sequence: CGCGGTA... (-9.283)\n",
      "\t\tRound 1: -9.47 CGCGGTA T:88.0(5.76%),B:8299.5(3.71%),P:1e-4\n",
      "\t\tRound 2: -11.09 CGCGAWA T:33.0(2.20%),B:2038.2(0.92%),P:1e-4\n",
      "\t\tRound 3: -11.09 CGCGAWA T:33.0(2.20%),B:2038.2(0.92%),P:1e-4\n",
      "\t\t=Final=: -10.43 CGCGAWA T:31.0(2.09%),B:2004.8(0.91%),P:1e-4\n",
      "\t\tPerforming exhaustive masking of motif...\n",
      "\t\tReprioritizing potential motifs...\n",
      "\tRemaining seeds don't look promising (After initial 5 motifs, logp -9.046 > -9.171)\n",
      "\n",
      "\tFinalizing Enrichment Statistics (new in v3.4)\n",
      "\tReading input files...\n",
      "\t245550 total sequences read\n",
      "\tCache length = 11180\n",
      "\tUsing binomial scoring\n",
      "\tChecking enrichment of 16 motif(s)\n",
      "\t|0%                                    50%                                  100%|\n",
      "\t=================================================================================\n",
      "\tOutput in file: motif/homerMotifs.motifs7\n",
      "\n",
      "\n",
      "\tNumber of Trial motifs (-T) set to 32 (from 10) to work well with 32 CPUs\n",
      "\tScanning input files...\n",
      "\tParsing sequences...\n",
      "\t|0%                                   50%                                  100%|\n",
      "\t================================================================================\n",
      "\tTotal number of Oligos: 65536\n",
      "\tAutoadjustment for sequence coverage in background: 1.00x\n",
      "\n",
      "\tOligos: 65536 of 65546 max\n",
      "\tTree  : 87380 of 327730 max\n",
      "\tOptimizing memory usage...\n",
      "\tCache length = 11180\n",
      "\tUsing binomial scoring\n",
      "\n",
      "\tGlobal Optimization Phase: Looking for enriched oligos with up to 2 mismatches...\n",
      "\n",
      "\tScreening oligos 65536 (allowing 0 mismatches):\n",
      "\t|0%                                   50%                                  100%|\n",
      "\t================================================================================\n",
      "\t\t13.03% skipped, 86.97% checked (56994 of 65536), of those checked:\n",
      "\t\t13.03% not in target, 0.00% increased p-value, 0.00% high p-value\n",
      "\n",
      "\tScreening oligos 65536 (allowing 1 mismatches):\n",
      "\t|0%                                   50%                                  100%|\n",
      "\t================================================================================\n",
      "\t\t13.03% skipped, 86.97% checked (56994 of 65536), of those checked:\n",
      "\t\t0.00% not in target, 33.89% increased p-value, 52.26% high p-value\n",
      "\n",
      "\tScreening oligos 65536 (allowing 2 mismatches):\n",
      "\t|0%                                   50%                                  100%|\n",
      "\t================================================================================\n",
      "\t\t72.65% skipped, 27.35% checked (17924 of 65536), of those checked:\n",
      "\t\t0.00% not in target, 16.76% increased p-value, 0.00% high p-value\n",
      "\tReading input files...\n",
      "\t245550 total sequences read\n",
      "\tCache length = 11180\n",
      "\tUsing binomial scoring\n",
      "\n",
      "\tLocal Optimization Phase:\n",
      "\t1 of 25 Initial Sequence: GAAGAAGA... (-155.525)\n",
      "\t\tRound 1: -224.47 GAAGAAGA T:852.0(43.71%),B:48029.9(19.65%),P:1e-97\n",
      "\t\tRound 2: -224.47 GAAGAAGA T:852.0(43.71%),B:48029.9(19.65%),P:1e-97\n",
      "\t\t=Final=: -120.24 GAAGAAGA T:669.0(45.11%),B:58379.3(26.59%),P:1e-52\n",
      "\t\tPerforming exhaustive masking of motif...\n",
      "\t\tReprioritizing potential motifs...\n",
      "\t2 of 25 Initial Sequence: AGGTAAGT... (-111.138)\n",
      "\t\tRound 1: -161.63 AGGTAAGT T:457.0(26.53%),B:23498.0(10.15%),P:1e-70\n",
      "\t\tRound 2: -161.63 AGGTAAGT T:457.0(26.53%),B:23498.0(10.15%),P:1e-70\n",
      "\t\t=Final=: -234.12 AGGTAAGT T:567.0(38.23%),B:33544.9(15.28%),P:1e-101\n",
      "\t\tPerforming exhaustive masking of motif...\n",
      "\t\tReprioritizing potential motifs...\n",
      "\t3 of 25 Initial Sequence: TCGACGAC... (-26.011)\n",
      "\t\tRound 1: -42.65 TCGACGAC T:246.0(15.29%),B:18785.7(8.20%),P:1e-18\n",
      "\t\tRound 2: -43.11 TCGACGAC T:318.0(19.31%),B:26273.3(11.28%),P:1e-18\n",
      "\t\tRound 3: -43.11 TCGACGAC T:318.0(19.31%),B:26273.3(11.28%),P:1e-18\n",
      "\t\t=Final=: -32.17 TCGACGAC T:293.0(19.76%),B:27829.6(12.68%),P:1e-13\n",
      "\t\tPerforming exhaustive masking of motif...\n",
      "\t\tReprioritizing potential motifs...\n",
      "\t4 of 25 Initial Sequence: TGAAGAGC... (-24.567)\n",
      "\t\tRound 1: -42.46 TGAAGAGC T:294.0(17.99%),B:23805.9(10.27%),P:1e-18\n",
      "\t\tRound 2: -47.62 TGAAGAGC T:251.0(15.58%),B:18446.0(8.06%),P:1e-20\n",
      "\t\tRound 3: -47.62 TGAAGAGC T:251.0(15.58%),B:18446.0(8.06%),P:1e-20\n",
      "\t\t=Final=: -50.10 TGAAGAGC T:230.0(15.51%),B:17335.1(7.90%),P:1e-21\n",
      "\t\tPerforming exhaustive masking of motif...\n",
      "\t\tReprioritizing potential motifs...\n",
      "\t5 of 25 Initial Sequence: AGCACACA... (-23.947)\n",
      "\t\tRound 1: -29.86 AGCACACA T:55.0(3.64%),B:2438.8(1.10%),P:1e-12\n",
      "\t\tRound 2: -29.86 AGCACACA T:55.0(3.64%),B:2438.8(1.10%),P:1e-12\n",
      "\t\t=Final=: -8.86 AGCACACA T:32.0(2.16%),B:2291.8(1.04%),P:1e-3\n",
      "\t\tPerforming exhaustive masking of motif...\n",
      "\t\tReprioritizing potential motifs...\n",
      "\t6 of 25 Initial Sequence: GGGTTCGA... (-17.860)\n",
      "\t\tRound 1: -30.42 KGGTTCGA T:53.0(3.51%),B:2248.1(1.02%),P:1e-13\n",
      "\t\tRound 2: -39.17 HBSKACGA T:456.0(26.48%),B:42334.3(17.54%),P:1e-17\n",
      "\t\tRound 3: -41.82 YCCATCGA T:426.0(24.98%),B:38299.3(16.01%),P:1e-18\n",
      "\t\tRound 4: -43.50 HRCATCGA T:244.0(15.18%),B:18521.9(8.09%),P:1e-18\n",
      "\t\tRound 5: -43.56 CGSTTCGA T:274.0(16.87%),B:21569.2(9.36%),P:1e-18\n",
      "\t\tRound 6: -43.56 CGSTTCGA T:274.0(16.87%),B:21569.2(9.36%),P:1e-18\n",
      "\t\t=Final=: -38.88 CGSTTCGA T:230.0(15.51%),B:19066.9(8.68%),P:1e-16\n",
      "\t\tPerforming exhaustive masking of motif...\n",
      "\t\tReprioritizing potential motifs...\n",
      "\t7 of 25 Initial Sequence: CGCGGAAA... (-15.123)\n",
      "\t\tRound 1: -27.65 CGCGGAAA T:42.0(2.79%),B:1587.0(0.72%),P:1e-12\n",
      "\t\tRound 2: -31.47 CACGGWAA T:72.0(4.74%),B:3647.6(1.65%),P:1e-13\n",
      "\t\tRound 3: -31.47 CACGGWAA T:72.0(4.74%),B:3647.6(1.65%),P:1e-13\n",
      "\t\t=Final=: -31.28 CACGGWAA T:64.0(4.32%),B:3129.4(1.43%),P:1e-13\n",
      "\t\tPerforming exhaustive masking of motif...\n",
      "\t\tReprioritizing potential motifs...\n",
      "\t8 of 25 Initial Sequence: CGCGGTAC... (-14.968)\n",
      "\t\tRound 1: -14.97 CGCGGTAC T:7.0(0.47%),B:39.5(0.02%),P:1e-6\n",
      "\t\tRound 2: -14.97 CGCGGTAC T:7.0(0.47%),B:39.5(0.02%),P:1e-6\n",
      "\t\t=Final=: -11.68 CGCGGTAC T:5.0(0.34%),B:39.5(0.02%),P:1e-5\n",
      "\t\tPerforming exhaustive masking of motif...\n",
      "\t\tReprioritizing potential motifs...\n",
      "\t9 of 25 Initial Sequence: TACTACTA... (-14.774)\n",
      "\t\tRound 1: -19.37 TACTACTA T:27.0(1.80%),B:945.2(0.43%),P:1e-8\n",
      "\t\tRound 2: -21.36 TACKATTA T:70.0(4.61%),B:4403.6(1.99%),P:1e-9\n",
      "\t\tRound 3: -25.73 TACTATTA T:103.0(6.71%),B:7014.6(3.14%),P:1e-11\n",
      "\t\tRound 4: -25.73 TACTATTA T:103.0(6.71%),B:7014.6(3.14%),P:1e-11\n",
      "\t\t=Final=: -19.33 TACTATTA T:89.0(6.00%),B:6738.8(3.07%),P:1e-8\n",
      "\t\tPerforming exhaustive masking of motif...\n",
      "\t\tReprioritizing potential motifs...\n",
      "\t10 of 25 Initial Sequence: ACAACCCC... (-13.637)\n",
      "\t\tRound 1: -21.01 ACAACCCC T:108.0(7.03%),B:8236.0(3.68%),P:1e-9\n",
      "\t\tRound 2: -21.01 ACAACCCC T:108.0(7.03%),B:8236.0(3.68%),P:1e-9\n",
      "\t\t=Final=: -21.11 ACAACCCC T:102.0(6.88%),B:7853.0(3.58%),P:1e-9\n",
      "\t\tPerforming exhaustive masking of motif...\n",
      "\t\tReprioritizing potential motifs...\n",
      "\t11 of 25 Initial Sequence: CCATTGGC... (-12.545)\n",
      "\t\tRound 1: -25.21 CCATTGGC T:207.0(13.03%),B:18087.8(7.91%),P:1e-10\n",
      "\t\tRound 2: -25.21 CCATTGGC T:207.0(13.03%),B:18087.8(7.91%),P:1e-10\n",
      "\t\t=Final=: -27.04 CCATTGGC T:194.0(13.08%),B:17107.3(7.79%),P:1e-11\n",
      "\t\tPerforming exhaustive masking of motif...\n",
      "\t\tReprioritizing potential motifs...\n",
      "\t12 of 25 Initial Sequence: GTCAGTAT... (-12.681)\n",
      "\t\tRound 1: -23.03 GTCAGTAT T:88.0(5.76%),B:5911.2(2.66%),P:1e-10\n",
      "\t\tRound 2: -23.03 GTCAGTAT T:88.0(5.76%),B:5911.2(2.66%),P:1e-10\n",
      "\t\t=Final=: -22.34 GTCAGTAT T:84.0(5.66%),B:5816.0(2.65%),P:1e-9\n",
      "\t\tPerforming exhaustive masking of motif...\n",
      "\t\tReprioritizing potential motifs...\n",
      "\t13 of 25 Initial Sequence: CAACAGCC... (-12.163)\n",
      "\t\tRound 1: -22.44 CAACAGCC T:120.0(7.78%),B:9235.9(4.12%),P:1e-9\n",
      "\t\tRound 2: -22.44 CAACAGCC T:120.0(7.78%),B:9235.9(4.12%),P:1e-9\n",
      "\t\t=Final=: -22.58 CAACAGCC T:122.0(8.23%),B:9780.4(4.45%),P:1e-9\n",
      "\t\tPerforming exhaustive masking of motif...\n",
      "\t\tReprioritizing potential motifs...\n",
      "\t14 of 25 Initial Sequence: CCGTGAAG... (-12.305)\n",
      "\t\tRound 1: -20.38 CCGTGAAG T:166.0(10.59%),B:14637.0(6.45%),P:1e-8\n",
      "\t\tRound 2: -20.38 CCGTGAAG T:166.0(10.59%),B:14637.0(6.45%),P:1e-8\n",
      "\t\t=Final=: -22.00 CCGTGAAG T:160.0(10.79%),B:14171.0(6.45%),P:1e-9\n",
      "\t\tPerforming exhaustive masking of motif...\n",
      "\t\tReprioritizing potential motifs...\n",
      "\t15 of 25 Initial Sequence: TGCTGCTG... (-12.114)\n",
      "\t\tRound 1: -15.40 TGCTGCTG T:82.0(5.38%),B:6369.6(2.86%),P:1e-6\n",
      "\t\tRound 2: -18.14 TDCTGCTT T:142.0(9.13%),B:12412.8(5.50%),P:1e-7\n",
      "\t\tRound 3: -18.14 TDCTGCTT T:142.0(9.13%),B:12412.8(5.50%),P:1e-7\n",
      "\t\t=Final=: -13.49 TDCTGCTT T:141.0(9.51%),B:13870.9(6.32%),P:1e-5\n",
      "\t\tPerforming exhaustive masking of motif...\n",
      "\t\tReprioritizing potential motifs...\n",
      "\t16 of 25 Initial Sequence: ACGGAAGA... (-10.981)\n",
      "\t\tRound 1: -18.83 ACGGAAGA T:133.0(8.58%),B:11294.2(5.01%),P:1e-8\n",
      "\t\tRound 2: -22.96 ACGGAAGA T:271.0(16.71%),B:25871.7(11.12%),P:1e-9\n",
      "\t\tRound 3: -22.96 ACGGAAGA T:271.0(16.71%),B:25871.7(11.12%),P:1e-9\n",
      "\t\t=Final=: -24.20 ACGGAAGA T:245.0(16.52%),B:23843.4(10.86%),P:1e-10\n",
      "\t\tPerforming exhaustive masking of motif...\n",
      "\t\tReprioritizing potential motifs...\n",
      "\t17 of 25 Initial Sequence: AAAGGCGG... (-11.015)\n",
      "\t\tRound 1: -11.02 AAAGGCGG T:10.0(0.67%),B:209.6(0.10%),P:1e-4\n",
      "\t\tRound 2: -11.02 AAAGGCGG T:10.0(0.67%),B:209.6(0.10%),P:1e-4\n",
      "\t\t=Final=: -12.95 AAAGGCGG T:10.0(0.67%),B:209.6(0.10%),P:1e-5\n",
      "\t\tPerforming exhaustive masking of motif...\n",
      "\t\tReprioritizing potential motifs...\n",
      "\t18 of 25 Initial Sequence: ACAGGTAA... (-10.986)\n",
      "\t\tRound 1: -21.67 ACAGGTAA T:73.0(4.80%),B:4664.5(2.10%),P:1e-9\n",
      "\t\tRound 2: -25.35 DVCGGTAM T:191.0(12.09%),B:16294.6(7.15%),P:1e-11\n",
      "\t\tRound 3: -26.52 HCCGGTAC T:87.0(5.70%),B:5401.3(2.43%),P:1e-11\n",
      "\t\tRound 4: -27.16 CCAGGTAA T:89.0(5.83%),B:5526.4(2.49%),P:1e-11\n",
      "\t\tRound 5: -27.16 CCAGGTAA T:89.0(5.83%),B:5526.4(2.49%),P:1e-11\n",
      "\t\t=Final=: -28.95 CCAGGTAA T:88.0(5.93%),B:5460.5(2.49%),P:1e-12\n",
      "\t\tPerforming exhaustive masking of motif...\n",
      "\t\tReprioritizing potential motifs...\n",
      "\t19 of 25 Initial Sequence: TGTAAGTA... (-10.831)\n",
      "\t\tRound 1: -17.56 TGTAAGTA T:25.0(1.67%),B:893.9(0.41%),P:1e-7\n",
      "\t\tRound 2: -17.86 CGTAAGTA T:27.0(1.80%),B:1020.7(0.46%),P:1e-7\n",
      "\t\tRound 3: -17.86 CGTAAGTA T:27.0(1.80%),B:1020.7(0.46%),P:1e-7\n",
      "\t\t=Final=: -19.25 CGTAAGTA T:27.0(1.82%),B:1017.0(0.46%),P:1e-8\n",
      "\t\tPerforming exhaustive masking of motif...\n",
      "\t\tReprioritizing potential motifs...\n",
      "\t20 of 25 Initial Sequence: TAGCTCAG... (-10.704)\n",
      "\t\tRound 1: -10.91 TAGCTCAG T:18.0(1.21%),B:740.3(0.34%),P:1e-4\n",
      "\t\tRound 2: -15.45 TCGCTCAG T:33.0(2.20%),B:1645.4(0.75%),P:1e-6\n",
      "\t\tRound 3: -15.45 TCGCTCAG T:33.0(2.20%),B:1645.4(0.75%),P:1e-6\n",
      "\t\t=Final=: -16.64 TCGCTCAG T:32.0(2.16%),B:1551.9(0.71%),P:1e-7\n",
      "\t\tPerforming exhaustive masking of motif...\n",
      "\t\tReprioritizing potential motifs...\n",
      "\t21 of 25 Initial Sequence: CAGGAACT... (-10.549)\n",
      "\t\tRound 1: -13.09 CAGGAACT T:32.0(2.14%),B:1751.2(0.79%),P:1e-5\n",
      "\t\tRound 2: -15.32 CAAGAACT T:38.0(2.53%),B:2091.9(0.95%),P:1e-6\n",
      "\t\tRound 3: -15.32 CAAGAACT T:38.0(2.53%),B:2091.9(0.95%),P:1e-6\n",
      "\t\t=Final=: -16.34 CAAGAACT T:38.0(2.56%),B:2081.1(0.95%),P:1e-7\n",
      "\t\tPerforming exhaustive masking of motif...\n",
      "\t\tReprioritizing potential motifs...\n",
      "\t22 of 25 Initial Sequence: TTGCCAAT... (-10.366)\n",
      "\t\tRound 1: -11.62 TTGCCAAT T:26.0(1.74%),B:1347.5(0.61%),P:1e-5\n",
      "\t\tRound 2: -13.17 TCGCCAAT T:30.0(2.00%),B:1568.2(0.71%),P:1e-5\n",
      "\t\tRound 3: -18.34 GCGCCAAT T:32.0(2.14%),B:1366.2(0.62%),P:1e-7\n",
      "\t\tRound 4: -18.34 GCGCCAAT T:32.0(2.14%),B:1366.2(0.62%),P:1e-7\n",
      "\t\t=Final=: -19.58 GCGCCAAT T:32.0(2.16%),B:1363.3(0.62%),P:1e-8\n",
      "\t\tPerforming exhaustive masking of motif...\n",
      "\t\tReprioritizing potential motifs...\n",
      "\t23 of 25 Initial Sequence: ATTATGTT... (-10.099)\n",
      "\t\tRound 1: -13.39 ATTATGTT T:55.0(3.64%),B:3970.5(1.79%),P:1e-5\n",
      "\t\tRound 2: -13.39 ATTATGTT T:55.0(3.64%),B:3970.5(1.79%),P:1e-5\n",
      "\t\t=Final=: -14.37 ATTATGTT T:55.0(3.71%),B:3906.9(1.78%),P:1e-6\n",
      "\t\tPerforming exhaustive masking of motif...\n",
      "\t\tReprioritizing potential motifs...\n",
      "\t24 of 25 Initial Sequence: CTCTCACG... (-9.938)\n",
      "\t\tRound 1: -14.94 CTCTCACG T:54.0(3.58%),B:3664.8(1.65%),P:1e-6\n",
      "\t\tRound 2: -14.94 CTCTCACG T:54.0(3.58%),B:3664.8(1.65%),P:1e-6\n",
      "\t\t=Final=: -15.30 CTCTCACG T:53.0(3.57%),B:3589.5(1.63%),P:1e-6\n",
      "\t\tPerforming exhaustive masking of motif...\n",
      "\t\tReprioritizing potential motifs...\n",
      "\t25 of 25 Initial Sequence: CTCTTTTT... (-9.779)\n",
      "\t\tRound 1: -13.07 CTCTTTTT T:100.0(6.52%),B:8789.5(3.92%),P:1e-5\n",
      "\t\tRound 2: -13.07 CTCTTTTT T:100.0(6.52%),B:8789.5(3.92%),P:1e-5\n",
      "\t\t=Final=: -15.91 CTCTTTTT T:100.0(6.74%),B:8506.4(3.87%),P:1e-6\n",
      "\t\tPerforming exhaustive masking of motif...\n",
      "\t\tReprioritizing potential motifs...\n",
      "\n",
      "\tFinalizing Enrichment Statistics (new in v3.4)\n",
      "\tReading input files...\n",
      "\t245550 total sequences read\n",
      "\tCache length = 11180\n",
      "\tUsing binomial scoring\n",
      "\tChecking enrichment of 25 motif(s)\n",
      "\t|0%                                    50%                                  100%|\n",
      "\t=================================================================================\n",
      "\tOutput in file: motif/homerMotifs.motifs8\n",
      "\n",
      "\n",
      "\tNumber of Trial motifs (-T) set to 32 (from 10) to work well with 32 CPUs\n",
      "\tScanning input files...\n",
      "\tParsing sequences...\n",
      "\t|0%                                   50%                                  100%|\n",
      "\t================================================================================\n",
      "\tTotal number of Oligos: 261886\n",
      "\tAutoadjustment for sequence coverage in background: 1.00x\n",
      "\n",
      "\tOligos: 261886 of 262154 max\n",
      "\tTree  : 349516 of 1310770 max\n",
      "\tOptimizing memory usage...\n",
      "\tCache length = 11180\n",
      "\tUsing binomial scoring\n",
      "\n",
      "\tGlobal Optimization Phase: Looking for enriched oligos with up to 2 mismatches...\n",
      "\n",
      "\tScreening oligos 261886 (allowing 0 mismatches):\n",
      "\t|0%                                   50%                                  100%|\n",
      "\t================================================================================\n",
      "\t\t46.66% skipped, 53.34% checked (139694 of 261886), of those checked:\n",
      "\t\t46.66% not in target, 0.00% increased p-value, 0.00% high p-value\n",
      "\n",
      "\tScreening oligos 261886 (allowing 1 mismatches):\n",
      "\t|0%                                   50%                                  100%|\n",
      "\t================================================================================\n",
      "\t\t46.66% skipped, 53.34% checked (139694 of 261886), of those checked:\n",
      "\t\t0.00% not in target, 25.39% increased p-value, 31.67% high p-value\n",
      "\n",
      "\tScreening oligos 261886 (allowing 2 mismatches):\n",
      "\t|0%                                   50%                                  100%|\n",
      "\t================================================================================\n",
      "\t\t84.95% skipped, 15.05% checked (39424 of 261886), of those checked:\n",
      "\t\t0.00% not in target, 8.51% increased p-value, 0.00% high p-value\n",
      "\tReading input files...\n",
      "\t245550 total sequences read\n",
      "\tCache length = 11180\n",
      "\tUsing binomial scoring\n",
      "\n",
      "\tLocal Optimization Phase:\n",
      "\t1 of 25 Initial Sequence: CGAAGAAGA... (-137.674)\n",
      "\t\tRound 1: -209.93 AGAAGAAGA T:1251.0(56.99%),B:82628.2(31.36%),P:1e-91\n",
      "\t\tRound 2: -209.93 AGAAGAAGA T:1251.0(56.99%),B:82628.2(31.36%),P:1e-91\n",
      "\t\t=Final=: -98.92 AGAAGAAGA T:593.0(39.99%),B:52163.7(23.76%),P:1e-42\n",
      "\t\tPerforming exhaustive masking of motif...\n",
      "\t\tReprioritizing potential motifs...\n",
      "\t2 of 25 Initial Sequence: AAGGTAAGT... (-96.067)\n",
      "\t\tRound 1: -176.96 AAGGTAAGT T:364.0(21.77%),B:15316.2(6.74%),P:1e-76\n",
      "\t\tRound 2: -179.50 VAGGTAAGT T:354.0(21.24%),B:14531.5(6.40%),P:1e-77\n",
      "\t\tRound 3: -179.50 VAGGTAAGT T:354.0(21.24%),B:14531.5(6.40%),P:1e-77\n",
      "\t\t=Final=: -225.22 VAGGTAAGT T:390.0(26.30%),B:17563.1(8.00%),P:1e-97\n",
      "\t\tPerforming exhaustive masking of motif...\n",
      "\t\tReprioritizing potential motifs...\n",
      "\t3 of 25 Initial Sequence: CGGAAGAAC... (-34.946)\n",
      "\t\tRound 1: -48.76 CGGAAGAAC T:165.0(10.53%),B:10132.6(4.51%),P:1e-21\n",
      "\t\tRound 2: -57.45 CGGAAGAGC T:538.0(30.43%),B:46517.3(19.09%),P:1e-24\n",
      "\t\tRound 3: -69.01 CDGAAGARC T:362.0(21.67%),B:26106.5(11.21%),P:1e-29\n",
      "\t\tRound 4: -69.01 CDGAAGARC T:362.0(21.67%),B:26106.5(11.21%),P:1e-29\n",
      "\t\t=Final=: -60.58 CDGAAGARC T:306.0(20.63%),B:24163.7(11.01%),P:1e-26\n",
      "\t\tPerforming exhaustive masking of motif...\n",
      "\t\tReprioritizing potential motifs...\n",
      "\t4 of 25 Initial Sequence: ATCGACAGC... (-26.937)\n",
      "\t\tRound 1: -39.08 ATCGACAGC T:165.0(10.53%),B:11306.8(5.02%),P:1e-16\n",
      "\t\tRound 2: -41.03 ATCGACAGC T:313.0(19.03%),B:26181.9(11.24%),P:1e-17\n",
      "\t\tRound 3: -44.73 ATCGACAMC T:381.0(22.66%),B:32701.3(13.84%),P:1e-19\n",
      "\t\tRound 4: -44.73 ATCGACAMC T:381.0(22.66%),B:32701.3(13.84%),P:1e-19\n",
      "\t\t=Final=: -45.09 ATCGACAMC T:325.0(21.92%),B:28991.8(13.21%),P:1e-19\n",
      "\t\tPerforming exhaustive masking of motif...\n",
      "\t\tReprioritizing potential motifs...\n",
      "\t5 of 25 Initial Sequence: TACTACTAC... (-21.427)\n",
      "\t\tRound 1: -23.97 TACTACTAC T:13.0(0.87%),B:114.1(0.05%),P:1e-10\n",
      "\t\tRound 2: -23.97 TACTACTAC T:13.0(0.87%),B:114.1(0.05%),P:1e-10\n",
      "\t\t=Final=: -7.14 TACTACTAC T:5.0(0.34%),B:104.2(0.05%),P:1e-3\n",
      "\t\tPerforming exhaustive masking of motif...\n",
      "\t\tReprioritizing potential motifs...\n",
      "\t6 of 25 Initial Sequence: TCGGTAAGT... (-18.424)\n",
      "\t\tRound 1: -24.02 TCGGTAAGT T:133.0(8.58%),B:10332.1(4.60%),P:1e-10\n",
      "\t\tRound 2: -34.50 TCGGTAAGT T:209.0(13.15%),B:16475.4(7.23%),P:1e-14\n",
      "\t\tRound 3: -34.50 TCGGTAAGT T:209.0(13.15%),B:16475.4(7.23%),P:1e-14\n",
      "\t\t=Final=: -42.29 TCGGTAAGT T:204.0(13.76%),B:15647.6(7.13%),P:1e-18\n",
      "\t\tPerforming exhaustive masking of motif...\n",
      "\t\tReprioritizing potential motifs...\n",
      "\t7 of 25 Initial Sequence: CACAAACGC... (-18.106)\n",
      "\t\tRound 1: -21.46 CACAAACGC T:10.0(0.67%),B:60.0(0.03%),P:1e-9\n",
      "\t\tRound 2: -21.80 CACAATCGC T:24.0(1.61%),B:654.6(0.30%),P:1e-9\n",
      "\t\tRound 3: -22.89 CACATACGC T:12.0(0.81%),B:97.5(0.04%),P:1e-9\n",
      "\t\tRound 4: -22.89 CACATACGC T:12.0(0.81%),B:97.5(0.04%),P:1e-9\n",
      "\t\t=Final=: -12.07 CACATACGC T:7.0(0.47%),B:97.5(0.04%),P:1e-5\n",
      "\t\tPerforming exhaustive masking of motif...\n",
      "\t\tReprioritizing potential motifs...\n",
      "\t8 of 25 Initial Sequence: GGTAGAGCG... (-17.605)\n",
      "\t\tRound 1: -17.73 GGTAGAGCG T:12.0(0.81%),B:160.7(0.07%),P:1e-7\n",
      "\t\tRound 2: -19.34 GGTMGAGCA T:16.0(1.07%),B:299.1(0.14%),P:1e-8\n",
      "\t\tRound 3: -21.05 GGTCGAGCT T:18.0(1.21%),B:354.4(0.16%),P:1e-9\n",
      "\t\tRound 4: -22.10 GGTCGAGCA T:15.0(1.01%),B:204.8(0.09%),P:1e-9\n",
      "\t\tRound 5: -22.10 GGTCGAGCA T:15.0(1.01%),B:204.8(0.09%),P:1e-9\n",
      "\t\t=Final=: -24.44 GGTCGAGCA T:15.0(1.01%),B:204.8(0.09%),P:1e-10\n",
      "\t\tPerforming exhaustive masking of motif...\n",
      "\t\tReprioritizing potential motifs...\n",
      "\t9 of 25 Initial Sequence: TGCTGATGA... (-16.606)\n",
      "\t\tRound 1: -23.64 TGCTGATGA T:263.0(16.26%),B:24849.3(10.70%),P:1e-10\n",
      "\t\tRound 2: -28.76 TGCTGHTGM T:505.0(28.87%),B:51555.9(20.93%),P:1e-12\n",
      "\t\tRound 3: -33.67 TGCTGMTGA T:407.0(24.01%),B:38486.9(16.08%),P:1e-14\n",
      "\t\tRound 4: -35.96 WGCTGMTGA T:609.0(33.69%),B:60971.0(24.25%),P:1e-15\n",
      "\t\tRound 5: -38.79 WGYWGMTGA T:333.0(20.12%),B:28825.3(12.30%),P:1e-16\n",
      "\t\tRound 6: -38.79 WGYWGMTGA T:333.0(20.12%),B:28825.3(12.30%),P:1e-16\n",
      "\t\t=Final=: -34.16 WGYWGMTGA T:271.0(18.27%),B:24734.3(11.27%),P:1e-14\n",
      "\t\tPerforming exhaustive masking of motif...\n",
      "\t\tReprioritizing potential motifs...\n",
      "\t10 of 25 Initial Sequence: CGATCCGGA... (-17.312)\n",
      "\t\tRound 1: -17.31 CGATCCGGA T:166.0(10.59%),B:15372.5(6.76%),P:1e-7\n",
      "\t\tRound 2: -17.31 CGATCCGGA T:166.0(10.59%),B:15372.5(6.76%),P:1e-7\n",
      "\t\t=Final=: -18.17 CGATCCGGA T:154.0(10.38%),B:14288.4(6.51%),P:1e-7\n",
      "\t\tPerforming exhaustive masking of motif...\n",
      "\t\tReprioritizing potential motifs...\n",
      "\t11 of 25 Initial Sequence: ACCATCAAC... (-14.578)\n",
      "\t\tRound 1: -26.81 ACCATCAAC T:121.0(7.84%),B:8675.8(3.87%),P:1e-11\n",
      "\t\tRound 2: -29.72 ACCATCAAC T:466.0(26.97%),B:46614.8(19.13%),P:1e-12\n",
      "\t\tRound 3: -30.70 ACCATCAAC T:580.0(32.38%),B:59689.1(23.80%),P:1e-13\n",
      "\t\tRound 4: -30.70 ACCATCAAC T:580.0(32.38%),B:59689.1(23.80%),P:1e-13\n",
      "\t\t=Final=: -27.26 ACCATCAAC T:391.0(26.37%),B:41542.7(18.92%),P:1e-11\n",
      "\t\tPerforming exhaustive masking of motif...\n",
      "\t\tReprioritizing potential motifs...\n",
      "\t12 of 25 Initial Sequence: TACTCTTTT... (-13.226)\n",
      "\t\tRound 1: -20.35 TACTCTTTT T:69.0(4.55%),B:4419.7(1.99%),P:1e-8\n",
      "\t\tRound 2: -20.35 TACTCTTTT T:69.0(4.55%),B:4419.7(1.99%),P:1e-8\n",
      "\t\t=Final=: -21.57 TACTCTTTT T:68.0(4.59%),B:4335.6(1.97%),P:1e-9\n",
      "\t\tPerforming exhaustive masking of motif...\n",
      "\t\tReprioritizing potential motifs...\n",
      "\t13 of 25 Initial Sequence: CGCTAACCC... (-12.148)\n",
      "\t\tRound 1: -18.31 CGCTAACCC T:12.0(0.81%),B:151.6(0.07%),P:1e-7\n",
      "\t\tRound 2: -18.31 CGCTAACCC T:12.0(0.81%),B:151.6(0.07%),P:1e-7\n",
      "\t\t=Final=: -20.73 CGCTAACCC T:12.0(0.81%),B:151.6(0.07%),P:1e-9\n",
      "\t\tPerforming exhaustive masking of motif...\n",
      "\t\tReprioritizing potential motifs...\n",
      "\t14 of 25 Initial Sequence: GGCGCTCTC... (-11.682)\n",
      "\t\tRound 1: -11.85 GGCGCTCTC T:10.0(0.67%),B:188.1(0.09%),P:1e-5\n",
      "\t\tRound 2: -16.01 GGCGCTCTC T:74.0(4.87%),B:5505.1(2.48%),P:1e-6\n",
      "\t\tRound 3: -18.79 GGCGBTCTH T:51.0(3.38%),B:2954.6(1.34%),P:1e-8\n",
      "\t\tRound 4: -18.79 GGCGBTCTH T:51.0(3.38%),B:2954.6(1.34%),P:1e-8\n",
      "\t\t=Final=: -16.34 GGCGBTCTH T:45.0(3.03%),B:2711.3(1.23%),P:1e-7\n",
      "\t\tPerforming exhaustive masking of motif...\n",
      "\t\tReprioritizing potential motifs...\n",
      "\t15 of 25 Initial Sequence: GACTATGAC... (-11.637)\n",
      "\t\tRound 1: -21.60 GACTATGAC T:195.0(12.33%),B:17520.2(7.67%),P:1e-9\n",
      "\t\tRound 2: -22.34 GACTATGAC T:139.0(8.95%),B:11207.3(4.98%),P:1e-9\n",
      "\t\tRound 3: -22.34 GACTATGAC T:139.0(8.95%),B:11207.3(4.98%),P:1e-9\n",
      "\t\t=Final=: -22.77 GACTATGAC T:131.0(8.83%),B:10739.4(4.89%),P:1e-9\n",
      "\t\tPerforming exhaustive masking of motif...\n",
      "\t\tReprioritizing potential motifs...\n",
      "\t16 of 25 Initial Sequence: TAACAGGTA... (-11.747)\n",
      "\t\tRound 1: -22.32 TAACAGGTA T:37.0(2.46%),B:1510.7(0.69%),P:1e-9\n",
      "\t\tRound 2: -22.32 TAACAGGTA T:37.0(2.46%),B:1510.7(0.69%),P:1e-9\n",
      "\t\t=Final=: -23.71 TAACAGGTA T:37.0(2.49%),B:1501.0(0.68%),P:1e-10\n",
      "\t\tPerforming exhaustive masking of motif...\n",
      "\t\tReprioritizing potential motifs...\n",
      "\t17 of 25 Initial Sequence: TCATACCCC... (-11.500)\n",
      "\t\tRound 1: -27.06 TCATACCCC T:63.0(4.16%),B:3218.5(1.45%),P:1e-11\n",
      "\t\tRound 2: -27.06 TCATACCCC T:63.0(4.16%),B:3218.5(1.45%),P:1e-11\n",
      "\t\t=Final=: -29.81 TCATACCCC T:63.0(4.25%),B:3153.3(1.44%),P:1e-12\n",
      "\t\tPerforming exhaustive masking of motif...\n",
      "\t\tReprioritizing potential motifs...\n",
      "\t18 of 25 Initial Sequence: ATATCGCTC... (-11.307)\n",
      "\t\tRound 1: -17.76 ATATCGCTC T:35.0(2.33%),B:1642.2(0.75%),P:1e-7\n",
      "\t\tRound 2: -17.76 ATATCGCTC T:35.0(2.33%),B:1642.2(0.75%),P:1e-7\n",
      "\t\t=Final=: -17.78 ATATCGCTC T:34.0(2.29%),B:1634.4(0.74%),P:1e-7\n",
      "\t\tPerforming exhaustive masking of motif...\n",
      "\t\tReprioritizing potential motifs...\n",
      "\t19 of 25 Initial Sequence: AGTACACGC... (-11.190)\n",
      "\t\tRound 1: -21.88 AGTACACGC T:20.0(1.34%),B:432.6(0.20%),P:1e-9\n",
      "\t\tRound 2: -21.88 AGTACACGC T:20.0(1.34%),B:432.6(0.20%),P:1e-9\n",
      "\t\t=Final=: -23.78 AGTACACGC T:20.0(1.35%),B:432.6(0.20%),P:1e-10\n",
      "\t\tPerforming exhaustive masking of motif...\n",
      "\t\tReprioritizing potential motifs...\n",
      "\t20 of 25 Initial Sequence: TTTTAGAGC... (-10.838)\n",
      "\t\tRound 1: -22.15 TTTTAGAGC T:42.0(2.79%),B:1908.1(0.87%),P:1e-9\n",
      "\t\tRound 2: -22.15 TTTTAGAGC T:42.0(2.79%),B:1908.1(0.87%),P:1e-9\n",
      "\t\t=Final=: -23.48 TTTTAGAGC T:42.0(2.83%),B:1892.7(0.86%),P:1e-10\n",
      "\t\tPerforming exhaustive masking of motif...\n",
      "\t\tReprioritizing potential motifs...\n",
      "\t21 of 25 Initial Sequence: AGCGGACCA... (-10.794)\n",
      "\t\tRound 1: -20.59 AGCGGACCA T:76.0(5.00%),B:5092.8(2.29%),P:1e-8\n",
      "\t\tRound 2: -20.98 AGCGKACCA T:51.0(3.38%),B:2757.3(1.25%),P:1e-9\n",
      "\t\tRound 3: -22.73 AGCGKAMMW T:53.0(3.51%),B:2786.0(1.26%),P:1e-9\n",
      "\t\tRound 4: -22.73 AGCGKAMMW T:53.0(3.51%),B:2786.0(1.26%),P:1e-9\n",
      "\t\t=Final=: -22.75 AGCGKAMMW T:52.0(3.51%),B:2766.6(1.26%),P:1e-9\n",
      "\t\tPerforming exhaustive masking of motif...\n",
      "\t\tReprioritizing potential motifs...\n",
      "\t22 of 25 Initial Sequence: TTTACAGGG... (-10.828)\n",
      "\t\tRound 1: -18.48 TTTACAGGG T:53.0(3.51%),B:3171.1(1.43%),P:1e-8\n",
      "\t\tRound 2: -18.48 TTTACAGGG T:53.0(3.51%),B:3171.1(1.43%),P:1e-8\n",
      "\t\t=Final=: -17.79 TTTACAGGG T:43.0(2.90%),B:2396.0(1.09%),P:1e-7\n",
      "\t\tPerforming exhaustive masking of motif...\n",
      "\t\tReprioritizing potential motifs...\n",
      "\t23 of 25 Initial Sequence: CGCGGTACT... (-10.693)\n",
      "\t\tRound 1: -18.33 CGCGGTACT T:6.0(0.40%),B:11.4(0.01%),P:1e-7\n",
      "\t\tRound 2: -18.47 CGCAGTACC T:9.0(0.61%),B:59.0(0.03%),P:1e-8\n",
      "\t\tRound 3: -20.05 CGCGGTAMC T:11.0(0.74%),B:97.6(0.04%),P:1e-8\n",
      "\t\tRound 4: -20.05 CGCGGTAMC T:11.0(0.74%),B:97.6(0.04%),P:1e-8\n",
      "\t\t=Final=: -14.58 CGCGGTAMC T:8.0(0.54%),B:97.6(0.04%),P:1e-6\n",
      "\t\tPerforming exhaustive masking of motif...\n",
      "\t\tReprioritizing potential motifs...\n",
      "\t24 of 25 Initial Sequence: CACGCGAAA... (-10.613)\n",
      "\t\tRound 1: -18.82 CACGCGAAA T:18.0(1.21%),B:412.6(0.19%),P:1e-8\n",
      "\t\tRound 2: -20.71 CACGGTAAA T:23.0(1.54%),B:634.0(0.29%),P:1e-8\n",
      "\t\tRound 3: -20.71 CACGGTAAA T:23.0(1.54%),B:634.0(0.29%),P:1e-8\n",
      "\t\t=Final=: -22.60 CACGGTAAA T:23.0(1.55%),B:626.8(0.29%),P:1e-9\n",
      "\t\tPerforming exhaustive masking of motif...\n",
      "\t\tReprioritizing potential motifs...\n",
      "\t25 of 25 Initial Sequence: AGATCGAAG... (-10.341)\n",
      "\t\tRound 1: -23.24 AGATCGAAG T:64.0(4.23%),B:3639.3(1.64%),P:1e-10\n",
      "\t\tRound 2: -27.26 AGATCGAAG T:49.0(3.25%),B:2132.1(0.97%),P:1e-11\n",
      "\t\tRound 3: -28.93 AGAYCGWAR T:72.0(4.74%),B:3854.6(1.74%),P:1e-12\n",
      "\t\tRound 4: -28.93 AGAYCGWAR T:72.0(4.74%),B:3854.6(1.74%),P:1e-12\n",
      "\t\t=Final=: -28.97 AGAYCGWAR T:70.0(4.72%),B:3817.4(1.74%),P:1e-12\n",
      "\t\tPerforming exhaustive masking of motif...\n",
      "\t\tReprioritizing potential motifs...\n",
      "\n",
      "\tFinalizing Enrichment Statistics (new in v3.4)\n",
      "\tReading input files...\n",
      "\t245550 total sequences read\n",
      "\tCache length = 11180\n",
      "\tUsing binomial scoring\n",
      "\tChecking enrichment of 25 motif(s)\n",
      "\t|0%                                    50%                                  100%|\n",
      "\t=================================================================================\n",
      "\tOutput in file: motif/homerMotifs.motifs9\n",
      "\n",
      "\t(Motifs in homer2 format)\n",
      "\tDetermining similar motifs... 93 reduced to 34 motifs\n",
      "\tOutputing HTML and sequence logos for motif comparison...\n",
      "\tChecking de novo motifs against known motifs...\n",
      "\tFormatting HTML page...\n",
      "\t\t1 of 34 (1e-113) similar to hsa-miR-200a* MIMAT0001620 Homo sapiens miR-200a* Targets (miRBase)(0.655)\n",
      "\t\t2 of 34 (1e-58) similar to hsa-miR-4778-3p MIMAT0019937 Homo sapiens miR-4778-3p Targets (miRBase)(0.786)\n",
      "\t\t3 of 34 (1e-27) similar to hsa-miR-29c* MIMAT0004673 Homo sapiens miR-29c* Targets (miRBase)(0.565)\n",
      "\t\t4 of 34 (1e-26) similar to hsa-miR-497 MIMAT0002820 Homo sapiens miR-497 Targets (miRBase)(0.670)\n",
      "\t\t5 of 34 (1e-25) similar to hsa-miR-1306 MIMAT0005950 Homo sapiens miR-1306 Targets (miRBase)(0.743)\n",
      "\t\t6 of 34 (1e-21) similar to hsa-miR-3610 MIMAT0017987 Homo sapiens miR-3610 Targets (miRBase)(0.719)\n",
      "\t\t7 of 34 (1e-19) similar to hsa-miR-1180 MIMAT0005825 Homo sapiens miR-1180 Targets (miRBase)(0.708)\n",
      "\t\t8 of 34 (1e-15) similar to hsa-miR-4440 MIMAT0018958 Homo sapiens miR-4440 Targets (miRBase)(0.637)\n",
      "\t\t9 of 34 (1e-14) similar to hsa-miR-3144-3p MIMAT0015015 Homo sapiens miR-3144-3p Targets (miRBase)(0.699)\n",
      "\t\t10 of 34 (1e-13) similar to hsa-miR-412 MIMAT0002170 Homo sapiens miR-412 Targets (miRBase)(0.608)\n",
      "\t\t11 of 34 (1e-13) similar to hsa-miR-3201 MIMAT0015086 Homo sapiens miR-3201 Targets (miRBase)(0.712)\n",
      "\t\t12 of 34 (1e-13) similar to hsa-miR-4252 MIMAT0016886 Homo sapiens miR-4252 Targets (miRBase)(0.673)\n",
      "\t\t13 of 34 (1e-12) similar to hsa-miR-103b MIMAT0007402 Homo sapiens miR-103b Targets (miRBase)(0.588)\n",
      "\t\t14 of 34 (1e-11) similar to hsa-miR-671-3p MIMAT0004819 Homo sapiens miR-671-3p Targets (miRBase)(0.650)\n",
      "\t\t15 of 34 (1e-10) similar to hsa-miR-18b* MIMAT0004751 Homo sapiens miR-18b* Targets (miRBase)(0.672)\n",
      "\t\t16 of 34 (1e-10) similar to hsa-miR-20b* MIMAT0004752 Homo sapiens miR-20b* Targets (miRBase)(0.712)\n",
      "\t\t17 of 34 (1e-10) similar to hsa-miR-4687-3p MIMAT0019775 Homo sapiens miR-4687-3p Targets (miRBase)(0.844)\n",
      "\t\t18 of 34 (1e-10) similar to hsa-miR-369-5p MIMAT0001621 Homo sapiens miR-369-5p Targets (miRBase)(0.645)\n",
      "\t\t19 of 34 (1e-10) similar to hsa-miR-223* MIMAT0004570 Homo sapiens miR-223* Targets (miRBase)(0.630)\n",
      "\t\t20 of 34 (1e-9) similar to hsa-miR-4422 MIMAT0018935 Homo sapiens miR-4422 Targets (miRBase)(0.796)\n",
      "\t\t21 of 34 (1e-9) similar to hsa-miR-4278 MIMAT0016910 Homo sapiens miR-4278 Targets (miRBase)(0.812)\n",
      "\t\t22 of 34 (1e-9) similar to hsa-miR-583 MIMAT0003248 Homo sapiens miR-583 Targets (miRBase)(0.642)\n",
      "\t\t23 of 34 (1e-8) similar to hsa-miR-125b-1* MIMAT0004592 Homo sapiens miR-125b-1* Targets (miRBase)(0.691)\n",
      "\t\t24 of 34 (1e-8) similar to hsa-miR-1271 MIMAT0005796 Homo sapiens miR-1271 Targets (miRBase)(0.693)\n",
      "\t\t25 of 34 (1e-8) similar to hsa-miR-4681 MIMAT0019766 Homo sapiens miR-4681 Targets (miRBase)(0.619)\n",
      "\t\t26 of 34 (1e-8) similar to hsa-miR-4486 MIMAT0019020 Homo sapiens miR-4486 Targets (miRBase)(0.714)\n",
      "\t\t27 of 34 (1e-6) similar to hsa-miR-339-3p MIMAT0004702 Homo sapiens miR-339-3p Targets (miRBase)(0.690)\n",
      "\t\t28 of 34 (1e-6) similar to hsa-miR-4324 MIMAT0016876 Homo sapiens miR-4324 Targets (miRBase)(0.666)\n",
      "\t\t29 of 34 (1e-5) similar to hsa-miR-4803 MIMAT0019983 Homo sapiens miR-4803 Targets (miRBase)(0.869)\n",
      "\t\t30 of 34 (1e-5) similar to hsa-miR-4642 MIMAT0019702 Homo sapiens miR-4642 Targets (miRBase)(0.729)\n",
      "\t\t31 of 34 (1e-5) similar to hsa-miR-648 MIMAT0003318 Homo sapiens miR-648 Targets (miRBase)(0.724)\n",
      "\t\t32 of 34 (1e-5) similar to hsa-miR-126 MIMAT0000445 Homo sapiens miR-126 Targets (miRBase)(0.722)\n",
      "\t\t33 of 34 (1e-4) similar to hsa-miR-585 MIMAT0003250 Homo sapiens miR-585 Targets (miRBase)(0.642)\n",
      "\t\t34 of 34 (1e-4) similar to hsa-miR-1249 MIMAT0005901 Homo sapiens miR-1249 Targets (miRBase)(0.637)\n",
      "\tJob finished - if results look good, please send beer to ..\n",
      "\n",
      "\tCleaning up tmp files...\n",
      "\n"
     ]
    }
   ],
   "source": [
    "# -S 10 is changed to -S {nc} = 32\n",
    "# -len 5,6,7,8,9\n",
    "# -bg {genome_bed12}\n",
    "!findMotifsGenome.pl {in_path}/all.narrowPeak hg38 {out_path} \\\n",
    "                     -p {nc}                                  \\\n",
    "                     -rna                                     \\\n",
    "                     -len 5,6,7,8,9                           \\\n",
    "                     -bg {genome_bed12}"
   ]
  },
  {
   "cell_type": "markdown",
   "id": "545934f0-bbe2-4e91-bd2f-5f3a577d77ac",
   "metadata": {},
   "source": [
    "#### Analysis"
   ]
  },
  {
   "cell_type": "code",
   "execution_count": 158,
   "id": "cb64988d",
   "metadata": {},
   "outputs": [
    {
     "name": "stdout",
     "output_type": "stream",
     "text": [
      "total 264K\n",
      "-rw-rw-r-- 1 cdaniels cdaniels  25K Oct 14 00:45 0.0830720188832892.2.tmp.coBoundBy1.txt\n",
      "-rw-rw-r-- 1 cdaniels cdaniels  25K Oct 14 00:27 0.311316585707576.2.tmp.coBoundBy1.txt\n",
      "-rw-rw-r-- 1 cdaniels cdaniels  31K Oct 14 00:51 homerMotifs.all.motifs\n",
      "-rw-rw-r-- 1 cdaniels cdaniels 3.0K Oct 14 00:47 homerMotifs.motifs5\n",
      "-rw-rw-r-- 1 cdaniels cdaniels 4.7K Oct 14 00:47 homerMotifs.motifs6\n",
      "-rw-rw-r-- 1 cdaniels cdaniels 5.1K Oct 14 00:48 homerMotifs.motifs7\n",
      "-rw-rw-r-- 1 cdaniels cdaniels 8.6K Oct 14 00:49 homerMotifs.motifs8\n",
      "-rw-rw-r-- 1 cdaniels cdaniels 9.2K Oct 14 00:51 homerMotifs.motifs9\n",
      "drwxrwxr-x 2 cdaniels cdaniels  12K Oct 14 00:51 homerResults\n",
      "-rw-rw-r-- 1 cdaniels cdaniels 112K Oct 14 00:51 homerResults.html\n",
      "-rw-rw-r-- 1 cdaniels cdaniels  144 Oct 14 00:45 motifFindingParameters.txt\n",
      "-rw-rw-r-- 1 cdaniels cdaniels 1.9K Oct 14 00:45 seq.autonorm.tsv\n"
     ]
    }
   ],
   "source": [
    "!ls -lh {out_path}"
   ]
  },
  {
   "cell_type": "markdown",
   "id": "855de52b",
   "metadata": {},
   "source": [
    "**Warning:** Motif Results are not fully rendered in Jupyter. A browser is better."
   ]
  },
  {
   "cell_type": "code",
   "execution_count": 159,
   "id": "4a4c2c44",
   "metadata": {},
   "outputs": [
    {
     "data": {
      "text/html": [
       "<HTML><HEAD><TITLE>motif/ - Homer de novo Motif Results</TITLE></HEAD>\n",
       "<BODY>\n",
       "<H1>Homer <i>de novo</i> Motif Results (motif/)</H1>\n",
       "<A HREF=\"knownResults.html\">Known Motif Enrichment Results</A><BR/>\n",
       "<A HREF=\"geneOntology.html\">Gene Ontology Enrichment Results</A><BR/>\n",
       "If Homer is having trouble matching a motif to a known motif, try copy/pasting the matrix file into \n",
       "<A HREF=\"http://www.benoslab.pitt.edu/stamp/\">STAMP</A><BR/>\n",
       "More information on motif finding results: <A HREF=\"http://biowhat.ucsd.edu/homer/\">HOMER</A>\n",
       " | <A HREF=\"http://biowhat.ucsd.edu/homer/motif/index.html\">Description of Results</A>\n",
       " | <A HREF=\"http://biowhat.ucsd.edu/homer/motif/practicalTips.html\">Tips</A>\n",
       "<BR/>\n",
       "Total target sequences = 1483<BR/>\n",
       "Total background sequences = 219540<BR/>\n",
       "<FONT color=\"red\">* - possible false positive</FONT><BR/>\n",
       "<TABLE border=\"1\" cellpading=\"0\" cellspacing=\"0\">\n",
       "<TR><TD>Rank</TD><TD>Motif</TD><TD>P-value</TD><TD>log P-pvalue</TD><TD>% of Targets</TD><TD>% of Background</TD>\n",
       "<TD>STD(Bg STD)</TD>\n",
       "<TD>Best Match/Details</TD><TD>Motif File</TD></TR>\n",
       "<TR><TD>1\n",
       "</TD><TD><svg width=\"205\" height=\"50\">\n",
       " <g font-family=\"Arial\" font-weight=\"bold\" font-size=\"66.5\">\n",
       "  <text fill=\"#F9A500\" x=\"0\" y=\"0\"  transform=\"matrix(0.55,0,0,0.070,0,49)\">G</text>\n",
       "  <text fill=\"#0000EE\" x=\"0\" y=\"0\"  transform=\"matrix(0.59,0,0,0.140,0,45.5)\">C</text>\n",
       "  <text fill=\"#DD0000\" x=\"0\" y=\"0\"  transform=\"matrix(0.65,0,0,0.256,-1.5,38.5)\">U</text>\n",
       "  <text fill=\"#00BB00\" x=\"0\" y=\"0\"  transform=\"matrix(0.53,0,0,0.534,2,25.7)\">A</text>\n",
       "  \n",
       "  <text fill=\"#DD0000\" x=\"0\" y=\"0\"  transform=\"matrix(0.65,0,0,0.070,23.5,49)\">U</text>\n",
       "  <text fill=\"#0000EE\" x=\"0\" y=\"0\"  transform=\"matrix(0.59,0,0,0.074,25,45.5)\">C</text>\n",
       "  <text fill=\"#00BB00\" x=\"0\" y=\"0\"  transform=\"matrix(0.53,0,0,0.163,27,41.8)\">A</text>\n",
       "  <text fill=\"#F9A500\" x=\"0\" y=\"0\"  transform=\"matrix(0.55,0,0,0.693,25,33.65)\">G</text>\n",
       "  \n",
       "  <text fill=\"#DD0000\" x=\"0\" y=\"0\"  transform=\"matrix(0.65,0,0,0.001,48.5,49)\">U</text>\n",
       "  <text fill=\"#00BB00\" x=\"0\" y=\"0\"  transform=\"matrix(0.53,0,0,0.032,52,48.95)\">A</text>\n",
       "  <text fill=\"#0000EE\" x=\"0\" y=\"0\"  transform=\"matrix(0.59,0,0,0.047,50,47.35)\">C</text>\n",
       "  <text fill=\"#F9A500\" x=\"0\" y=\"0\"  transform=\"matrix(0.55,0,0,0.920,50,45)\">G</text>\n",
       "  \n",
       "  <text fill=\"#F9A500\" x=\"0\" y=\"0\"  transform=\"matrix(0.55,0,0,0.001,75,49)\">G</text>\n",
       "  <text fill=\"#00BB00\" x=\"0\" y=\"0\"  transform=\"matrix(0.53,0,0,0.025,77,48.95)\">A</text>\n",
       "  <text fill=\"#0000EE\" x=\"0\" y=\"0\"  transform=\"matrix(0.59,0,0,0.046,75,47.7)\">C</text>\n",
       "  <text fill=\"#DD0000\" x=\"0\" y=\"0\"  transform=\"matrix(0.65,0,0,0.928,73.5,45.4)\">U</text>\n",
       "  \n",
       "  <text fill=\"#DD0000\" x=\"0\" y=\"0\"  transform=\"matrix(0.65,0,0,0.001,98.5,49)\">U</text>\n",
       "  <text fill=\"#0000EE\" x=\"0\" y=\"0\"  transform=\"matrix(0.59,0,0,0.066,100,48.95)\">C</text>\n",
       "  <text fill=\"#F9A500\" x=\"0\" y=\"0\"  transform=\"matrix(0.55,0,0,0.197,100,45.65)\">G</text>\n",
       "  <text fill=\"#00BB00\" x=\"0\" y=\"0\"  transform=\"matrix(0.53,0,0,0.736,102,35.8)\">A</text>\n",
       "  \n",
       "  <text fill=\"#F9A500\" x=\"0\" y=\"0\"  transform=\"matrix(0.55,0,0,0.034,125,49)\">G</text>\n",
       "  <text fill=\"#0000EE\" x=\"0\" y=\"0\"  transform=\"matrix(0.59,0,0,0.060,125,47.3)\">C</text>\n",
       "  <text fill=\"#DD0000\" x=\"0\" y=\"0\"  transform=\"matrix(0.65,0,0,0.106,123.5,44.3)\">U</text>\n",
       "  <text fill=\"#00BB00\" x=\"0\" y=\"0\"  transform=\"matrix(0.53,0,0,0.800,127,39)\">A</text>\n",
       "  \n",
       "  <text fill=\"#0000EE\" x=\"0\" y=\"0\"  transform=\"matrix(0.59,0,0,0.028,150,49)\">C</text>\n",
       "  <text fill=\"#DD0000\" x=\"0\" y=\"0\"  transform=\"matrix(0.65,0,0,0.039,148.5,47.6)\">U</text>\n",
       "  <text fill=\"#00BB00\" x=\"0\" y=\"0\"  transform=\"matrix(0.53,0,0,0.093,152,45.65)\">A</text>\n",
       "  <text fill=\"#F9A500\" x=\"0\" y=\"0\"  transform=\"matrix(0.55,0,0,0.840,150,41)\">G</text>\n",
       "  \n",
       "  <text fill=\"#00BB00\" x=\"0\" y=\"0\"  transform=\"matrix(0.53,0,0,0.127,177,49)\">A</text>\n",
       "  <text fill=\"#0000EE\" x=\"0\" y=\"0\"  transform=\"matrix(0.59,0,0,0.142,175,42.65)\">C</text>\n",
       "  <text fill=\"#F9A500\" x=\"0\" y=\"0\"  transform=\"matrix(0.55,0,0,0.177,175,35.55)\">G</text>\n",
       "  <text fill=\"#DD0000\" x=\"0\" y=\"0\"  transform=\"matrix(0.65,0,0,0.554,173.5,26.7)\">U</text>\n",
       "  \n",
       " </g>\n",
       "</svg>\n",
       "</TD><TD>1e-113</TD><TD>-2.602e+02</TD><TD>40.32%</TD><TD>15.76%</TD><TD>39.5bp (68.3bp)</TD><TD>hsa-miR-200a* MIMAT0001620 Homo sapiens miR-200a* Targets (miRBase)(0.655)<BR/><A target=\"_blank\" HREF=\"homerResults/motif1.info.html\">More Information</A> | <A target=\"blank\" HREF=\"homerResults/motif1.similar.html\">Similar Motifs Found</A></TD><TD><A target=\"_blank\" HREF=\"homerResults/motif1.motif\">motif file (matrix)</A></TD></TR>\n",
       "<TR><TD>2\n",
       "</TD><TD><svg width=\"180\" height=\"50\">\n",
       " <g font-family=\"Arial\" font-weight=\"bold\" font-size=\"66.5\">\n",
       "  <text fill=\"#DD0000\" x=\"0\" y=\"0\"  transform=\"matrix(0.65,0,0,0.001,-1.5,49)\">U</text>\n",
       "  <text fill=\"#00BB00\" x=\"0\" y=\"0\"  transform=\"matrix(0.53,0,0,0.025,2,48.95)\">A</text>\n",
       "  <text fill=\"#0000EE\" x=\"0\" y=\"0\"  transform=\"matrix(0.59,0,0,0.099,0,47.7)\">C</text>\n",
       "  <text fill=\"#F9A500\" x=\"0\" y=\"0\"  transform=\"matrix(0.55,0,0,0.875,0,42.75)\">G</text>\n",
       "  \n",
       "  <text fill=\"#DD0000\" x=\"0\" y=\"0\"  transform=\"matrix(0.65,0,0,0.019,23.5,49)\">U</text>\n",
       "  <text fill=\"#0000EE\" x=\"0\" y=\"0\"  transform=\"matrix(0.59,0,0,0.064,25,48.05)\">C</text>\n",
       "  <text fill=\"#F9A500\" x=\"0\" y=\"0\"  transform=\"matrix(0.55,0,0,0.149,25,44.85)\">G</text>\n",
       "  <text fill=\"#00BB00\" x=\"0\" y=\"0\"  transform=\"matrix(0.53,0,0,0.768,27,37.4)\">A</text>\n",
       "  \n",
       "  <text fill=\"#0000EE\" x=\"0\" y=\"0\"  transform=\"matrix(0.59,0,0,0.076,50,49)\">C</text>\n",
       "  <text fill=\"#F9A500\" x=\"0\" y=\"0\"  transform=\"matrix(0.55,0,0,0.079,50,45.2)\">G</text>\n",
       "  <text fill=\"#DD0000\" x=\"0\" y=\"0\"  transform=\"matrix(0.65,0,0,0.184,48.5,41.25)\">U</text>\n",
       "  <text fill=\"#00BB00\" x=\"0\" y=\"0\"  transform=\"matrix(0.53,0,0,0.661,52,32.05)\">A</text>\n",
       "  \n",
       "  <text fill=\"#00BB00\" x=\"0\" y=\"0\"  transform=\"matrix(0.53,0,0,0.001,77,49)\">A</text>\n",
       "  <text fill=\"#DD0000\" x=\"0\" y=\"0\"  transform=\"matrix(0.65,0,0,0.001,73.5,48.95)\">U</text>\n",
       "  <text fill=\"#0000EE\" x=\"0\" y=\"0\"  transform=\"matrix(0.59,0,0,0.089,75,48.9)\">C</text>\n",
       "  <text fill=\"#F9A500\" x=\"0\" y=\"0\"  transform=\"matrix(0.55,0,0,0.909,75,44.45)\">G</text>\n",
       "  \n",
       "  <text fill=\"#DD0000\" x=\"0\" y=\"0\"  transform=\"matrix(0.65,0,0,0.021,98.5,49)\">U</text>\n",
       "  <text fill=\"#0000EE\" x=\"0\" y=\"0\"  transform=\"matrix(0.59,0,0,0.038,100,47.95)\">C</text>\n",
       "  <text fill=\"#F9A500\" x=\"0\" y=\"0\"  transform=\"matrix(0.55,0,0,0.101,100,46.05)\">G</text>\n",
       "  <text fill=\"#00BB00\" x=\"0\" y=\"0\"  transform=\"matrix(0.53,0,0,0.840,102,41)\">A</text>\n",
       "  \n",
       "  <text fill=\"#0000EE\" x=\"0\" y=\"0\"  transform=\"matrix(0.59,0,0,0.108,125,49)\">C</text>\n",
       "  <text fill=\"#F9A500\" x=\"0\" y=\"0\"  transform=\"matrix(0.55,0,0,0.254,125,43.6)\">G</text>\n",
       "  <text fill=\"#DD0000\" x=\"0\" y=\"0\"  transform=\"matrix(0.65,0,0,0.292,123.5,30.9)\">U</text>\n",
       "  <text fill=\"#00BB00\" x=\"0\" y=\"0\"  transform=\"matrix(0.53,0,0,0.346,127,16.3)\">A</text>\n",
       "  \n",
       "  <text fill=\"#DD0000\" x=\"0\" y=\"0\"  transform=\"matrix(0.65,0,0,0.033,148.5,49)\">U</text>\n",
       "  <text fill=\"#00BB00\" x=\"0\" y=\"0\"  transform=\"matrix(0.53,0,0,0.047,152,47.35)\">A</text>\n",
       "  <text fill=\"#0000EE\" x=\"0\" y=\"0\"  transform=\"matrix(0.59,0,0,0.316,150,45)\">C</text>\n",
       "  <text fill=\"#F9A500\" x=\"0\" y=\"0\"  transform=\"matrix(0.55,0,0,0.604,150,29.2)\">G</text>\n",
       "  \n",
       " </g>\n",
       "</svg>\n",
       "</TD><TD>1e-58</TD><TD>-1.355e+02</TD><TD>34.12%</TD><TD>16.71%</TD><TD>45.2bp (80.8bp)</TD><TD>hsa-miR-4778-3p MIMAT0019937 Homo sapiens miR-4778-3p Targets (miRBase)(0.786)<BR/><A target=\"_blank\" HREF=\"homerResults/motif2.info.html\">More Information</A> | <A target=\"blank\" HREF=\"homerResults/motif2.similar.html\">Similar Motifs Found</A></TD><TD><A target=\"_blank\" HREF=\"homerResults/motif2.motif\">motif file (matrix)</A></TD></TR>\n",
       "<TR><TD>3\n",
       "</TD><TD><svg width=\"130\" height=\"50\">\n",
       " <g font-family=\"Arial\" font-weight=\"bold\" font-size=\"66.5\">\n",
       "  <text fill=\"#00BB00\" x=\"0\" y=\"0\"  transform=\"matrix(0.53,0,0,0.001,2,49)\">A</text>\n",
       "  <text fill=\"#DD0000\" x=\"0\" y=\"0\"  transform=\"matrix(0.65,0,0,0.001,-1.5,48.95)\">U</text>\n",
       "  <text fill=\"#0000EE\" x=\"0\" y=\"0\"  transform=\"matrix(0.59,0,0,0.142,0,48.9)\">C</text>\n",
       "  <text fill=\"#F9A500\" x=\"0\" y=\"0\"  transform=\"matrix(0.55,0,0,0.856,0,41.8)\">G</text>\n",
       "  \n",
       "  <text fill=\"#0000EE\" x=\"0\" y=\"0\"  transform=\"matrix(0.59,0,0,0.001,25,49)\">C</text>\n",
       "  <text fill=\"#F9A500\" x=\"0\" y=\"0\"  transform=\"matrix(0.55,0,0,0.001,25,48.95)\">G</text>\n",
       "  <text fill=\"#DD0000\" x=\"0\" y=\"0\"  transform=\"matrix(0.65,0,0,0.144,23.5,48.9)\">U</text>\n",
       "  <text fill=\"#00BB00\" x=\"0\" y=\"0\"  transform=\"matrix(0.53,0,0,0.854,27,41.7)\">A</text>\n",
       "  \n",
       "  <text fill=\"#0000EE\" x=\"0\" y=\"0\"  transform=\"matrix(0.59,0,0,0.001,50,49)\">C</text>\n",
       "  <text fill=\"#F9A500\" x=\"0\" y=\"0\"  transform=\"matrix(0.55,0,0,0.001,50,48.95)\">G</text>\n",
       "  <text fill=\"#00BB00\" x=\"0\" y=\"0\"  transform=\"matrix(0.53,0,0,0.156,52,48.9)\">A</text>\n",
       "  <text fill=\"#DD0000\" x=\"0\" y=\"0\"  transform=\"matrix(0.65,0,0,0.842,48.5,41.1)\">U</text>\n",
       "  \n",
       "  <text fill=\"#00BB00\" x=\"0\" y=\"0\"  transform=\"matrix(0.53,0,0,0.001,77,49)\">A</text>\n",
       "  <text fill=\"#F9A500\" x=\"0\" y=\"0\"  transform=\"matrix(0.55,0,0,0.001,75,48.95)\">G</text>\n",
       "  <text fill=\"#DD0000\" x=\"0\" y=\"0\"  transform=\"matrix(0.65,0,0,0.001,73.5,48.9)\">U</text>\n",
       "  <text fill=\"#0000EE\" x=\"0\" y=\"0\"  transform=\"matrix(0.59,0,0,0.997,75,48.85)\">C</text>\n",
       "  \n",
       "  <text fill=\"#00BB00\" x=\"0\" y=\"0\"  transform=\"matrix(0.53,0,0,0.001,102,49)\">A</text>\n",
       "  <text fill=\"#0000EE\" x=\"0\" y=\"0\"  transform=\"matrix(0.59,0,0,0.001,100,48.95)\">C</text>\n",
       "  <text fill=\"#DD0000\" x=\"0\" y=\"0\"  transform=\"matrix(0.65,0,0,0.001,98.5,48.9)\">U</text>\n",
       "  <text fill=\"#F9A500\" x=\"0\" y=\"0\"  transform=\"matrix(0.55,0,0,0.997,100,48.85)\">G</text>\n",
       "  \n",
       " </g>\n",
       "</svg>\n",
       "</TD><TD>1e-27</TD><TD>-6.233e+01</TD><TD>40.80%</TD><TD>27.65%</TD><TD>52.7bp (77.2bp)</TD><TD>hsa-miR-29c* MIMAT0004673 Homo sapiens miR-29c* Targets (miRBase)(0.565)<BR/><A target=\"_blank\" HREF=\"homerResults/motif3.info.html\">More Information</A> | <A target=\"blank\" HREF=\"homerResults/motif3.similar.html\">Similar Motifs Found</A></TD><TD><A target=\"_blank\" HREF=\"homerResults/motif3.motif\">motif file (matrix)</A></TD></TR>\n",
       "<TR><TD>4\n",
       "</TD><TD><svg width=\"230\" height=\"50\">\n",
       " <g font-family=\"Arial\" font-weight=\"bold\" font-size=\"66.5\">\n",
       "  <text fill=\"#0000EE\" x=\"0\" y=\"0\"  transform=\"matrix(0.59,0,0,0.001,0,49)\">C</text>\n",
       "  <text fill=\"#F9A500\" x=\"0\" y=\"0\"  transform=\"matrix(0.55,0,0,0.048,0,48.95)\">G</text>\n",
       "  <text fill=\"#00BB00\" x=\"0\" y=\"0\"  transform=\"matrix(0.53,0,0,0.414,2,46.55)\">A</text>\n",
       "  <text fill=\"#DD0000\" x=\"0\" y=\"0\"  transform=\"matrix(0.65,0,0,0.537,-1.5,25.85)\">U</text>\n",
       "  \n",
       "  <text fill=\"#0000EE\" x=\"0\" y=\"0\"  transform=\"matrix(0.59,0,0,0.007,25,49)\">C</text>\n",
       "  <text fill=\"#DD0000\" x=\"0\" y=\"0\"  transform=\"matrix(0.65,0,0,0.009,23.5,48.65)\">U</text>\n",
       "  <text fill=\"#00BB00\" x=\"0\" y=\"0\"  transform=\"matrix(0.53,0,0,0.219,27,48.2)\">A</text>\n",
       "  <text fill=\"#F9A500\" x=\"0\" y=\"0\"  transform=\"matrix(0.55,0,0,0.765,25,37.25)\">G</text>\n",
       "  \n",
       "  <text fill=\"#F9A500\" x=\"0\" y=\"0\"  transform=\"matrix(0.55,0,0,0.001,50,49)\">G</text>\n",
       "  <text fill=\"#00BB00\" x=\"0\" y=\"0\"  transform=\"matrix(0.53,0,0,0.198,52,48.95)\">A</text>\n",
       "  <text fill=\"#DD0000\" x=\"0\" y=\"0\"  transform=\"matrix(0.65,0,0,0.352,48.5,39.05)\">U</text>\n",
       "  <text fill=\"#0000EE\" x=\"0\" y=\"0\"  transform=\"matrix(0.59,0,0,0.449,50,21.45)\">C</text>\n",
       "  \n",
       "  <text fill=\"#0000EE\" x=\"0\" y=\"0\"  transform=\"matrix(0.59,0,0,0.001,75,49)\">C</text>\n",
       "  <text fill=\"#F9A500\" x=\"0\" y=\"0\"  transform=\"matrix(0.55,0,0,0.001,75,48.95)\">G</text>\n",
       "  <text fill=\"#00BB00\" x=\"0\" y=\"0\"  transform=\"matrix(0.53,0,0,0.466,77,48.9)\">A</text>\n",
       "  <text fill=\"#DD0000\" x=\"0\" y=\"0\"  transform=\"matrix(0.65,0,0,0.532,73.5,25.6)\">U</text>\n",
       "  \n",
       "  <text fill=\"#DD0000\" x=\"0\" y=\"0\"  transform=\"matrix(0.65,0,0,0.001,98.5,49)\">U</text>\n",
       "  <text fill=\"#0000EE\" x=\"0\" y=\"0\"  transform=\"matrix(0.59,0,0,0.046,100,48.95)\">C</text>\n",
       "  <text fill=\"#00BB00\" x=\"0\" y=\"0\"  transform=\"matrix(0.53,0,0,0.073,102,46.65)\">A</text>\n",
       "  <text fill=\"#F9A500\" x=\"0\" y=\"0\"  transform=\"matrix(0.55,0,0,0.880,100,43)\">G</text>\n",
       "  \n",
       "  <text fill=\"#F9A500\" x=\"0\" y=\"0\"  transform=\"matrix(0.55,0,0,0.085,125,49)\">G</text>\n",
       "  <text fill=\"#DD0000\" x=\"0\" y=\"0\"  transform=\"matrix(0.65,0,0,0.196,123.5,44.75)\">U</text>\n",
       "  <text fill=\"#00BB00\" x=\"0\" y=\"0\"  transform=\"matrix(0.53,0,0,0.308,127,34.95)\">A</text>\n",
       "  <text fill=\"#0000EE\" x=\"0\" y=\"0\"  transform=\"matrix(0.59,0,0,0.412,125,19.55)\">C</text>\n",
       "  \n",
       "  <text fill=\"#0000EE\" x=\"0\" y=\"0\"  transform=\"matrix(0.59,0,0,0.001,150,49)\">C</text>\n",
       "  <text fill=\"#F9A500\" x=\"0\" y=\"0\"  transform=\"matrix(0.55,0,0,0.137,150,48.95)\">G</text>\n",
       "  <text fill=\"#00BB00\" x=\"0\" y=\"0\"  transform=\"matrix(0.53,0,0,0.250,152,42.1)\">A</text>\n",
       "  <text fill=\"#DD0000\" x=\"0\" y=\"0\"  transform=\"matrix(0.65,0,0,0.612,148.5,29.6)\">U</text>\n",
       "  \n",
       "  <text fill=\"#00BB00\" x=\"0\" y=\"0\"  transform=\"matrix(0.53,0,0,0.037,177,49)\">A</text>\n",
       "  <text fill=\"#DD0000\" x=\"0\" y=\"0\"  transform=\"matrix(0.65,0,0,0.164,173.5,47.15)\">U</text>\n",
       "  <text fill=\"#0000EE\" x=\"0\" y=\"0\"  transform=\"matrix(0.59,0,0,0.233,175,38.95)\">C</text>\n",
       "  <text fill=\"#F9A500\" x=\"0\" y=\"0\"  transform=\"matrix(0.55,0,0,0.566,175,27.3)\">G</text>\n",
       "  \n",
       "  <text fill=\"#DD0000\" x=\"0\" y=\"0\"  transform=\"matrix(0.65,0,0,0.013,198.5,49)\">U</text>\n",
       "  <text fill=\"#F9A500\" x=\"0\" y=\"0\"  transform=\"matrix(0.55,0,0,0.073,200,48.35)\">G</text>\n",
       "  <text fill=\"#0000EE\" x=\"0\" y=\"0\"  transform=\"matrix(0.59,0,0,0.351,200,44.7)\">C</text>\n",
       "  <text fill=\"#00BB00\" x=\"0\" y=\"0\"  transform=\"matrix(0.53,0,0,0.563,202,27.15)\">A</text>\n",
       "  \n",
       " </g>\n",
       "</svg>\n",
       "</TD><TD>1e-26</TD><TD>-6.046e+01</TD><TD>24.75%</TD><TD>14.20%</TD><TD>52.3bp (68.8bp)</TD><TD>hsa-miR-497 MIMAT0002820 Homo sapiens miR-497 Targets (miRBase)(0.670)<BR/><A target=\"_blank\" HREF=\"homerResults/motif4.info.html\">More Information</A> | <A target=\"blank\" HREF=\"homerResults/motif4.similar.html\">Similar Motifs Found</A></TD><TD><A target=\"_blank\" HREF=\"homerResults/motif4.motif\">motif file (matrix)</A></TD></TR>\n",
       "<TR><TD>5\n",
       "</TD><TD><svg width=\"180\" height=\"50\">\n",
       " <g font-family=\"Arial\" font-weight=\"bold\" font-size=\"66.5\">\n",
       "  <text fill=\"#00BB00\" x=\"0\" y=\"0\"  transform=\"matrix(0.53,0,0,0.041,2,49)\">A</text>\n",
       "  <text fill=\"#F9A500\" x=\"0\" y=\"0\"  transform=\"matrix(0.55,0,0,0.071,0,46.95)\">G</text>\n",
       "  <text fill=\"#DD0000\" x=\"0\" y=\"0\"  transform=\"matrix(0.65,0,0,0.099,-1.5,43.4)\">U</text>\n",
       "  <text fill=\"#0000EE\" x=\"0\" y=\"0\"  transform=\"matrix(0.59,0,0,0.789,0,38.45)\">C</text>\n",
       "  \n",
       "  <text fill=\"#00BB00\" x=\"0\" y=\"0\"  transform=\"matrix(0.53,0,0,0.040,27,49)\">A</text>\n",
       "  <text fill=\"#F9A500\" x=\"0\" y=\"0\"  transform=\"matrix(0.55,0,0,0.132,25,47)\">G</text>\n",
       "  <text fill=\"#DD0000\" x=\"0\" y=\"0\"  transform=\"matrix(0.65,0,0,0.145,23.5,40.4)\">U</text>\n",
       "  <text fill=\"#0000EE\" x=\"0\" y=\"0\"  transform=\"matrix(0.59,0,0,0.683,25,33.15)\">C</text>\n",
       "  \n",
       "  <text fill=\"#0000EE\" x=\"0\" y=\"0\"  transform=\"matrix(0.59,0,0,0.039,50,49)\">C</text>\n",
       "  <text fill=\"#F9A500\" x=\"0\" y=\"0\"  transform=\"matrix(0.55,0,0,0.081,50,47.05)\">G</text>\n",
       "  <text fill=\"#DD0000\" x=\"0\" y=\"0\"  transform=\"matrix(0.65,0,0,0.130,48.5,43)\">U</text>\n",
       "  <text fill=\"#00BB00\" x=\"0\" y=\"0\"  transform=\"matrix(0.53,0,0,0.750,52,36.5)\">A</text>\n",
       "  \n",
       "  <text fill=\"#0000EE\" x=\"0\" y=\"0\"  transform=\"matrix(0.59,0,0,0.036,75,49)\">C</text>\n",
       "  <text fill=\"#F9A500\" x=\"0\" y=\"0\"  transform=\"matrix(0.55,0,0,0.047,75,47.2)\">G</text>\n",
       "  <text fill=\"#DD0000\" x=\"0\" y=\"0\"  transform=\"matrix(0.65,0,0,0.172,73.5,44.85)\">U</text>\n",
       "  <text fill=\"#00BB00\" x=\"0\" y=\"0\"  transform=\"matrix(0.53,0,0,0.745,77,36.25)\">A</text>\n",
       "  \n",
       "  <text fill=\"#F9A500\" x=\"0\" y=\"0\"  transform=\"matrix(0.55,0,0,0.034,100,49)\">G</text>\n",
       "  <text fill=\"#00BB00\" x=\"0\" y=\"0\"  transform=\"matrix(0.53,0,0,0.103,102,47.3)\">A</text>\n",
       "  <text fill=\"#DD0000\" x=\"0\" y=\"0\"  transform=\"matrix(0.65,0,0,0.142,98.5,42.15)\">U</text>\n",
       "  <text fill=\"#0000EE\" x=\"0\" y=\"0\"  transform=\"matrix(0.59,0,0,0.721,100,35.05)\">C</text>\n",
       "  \n",
       "  <text fill=\"#DD0000\" x=\"0\" y=\"0\"  transform=\"matrix(0.65,0,0,0.087,123.5,49)\">U</text>\n",
       "  <text fill=\"#0000EE\" x=\"0\" y=\"0\"  transform=\"matrix(0.59,0,0,0.131,125,44.65)\">C</text>\n",
       "  <text fill=\"#00BB00\" x=\"0\" y=\"0\"  transform=\"matrix(0.53,0,0,0.149,127,38.1)\">A</text>\n",
       "  <text fill=\"#F9A500\" x=\"0\" y=\"0\"  transform=\"matrix(0.55,0,0,0.633,125,30.65)\">G</text>\n",
       "  \n",
       "  <text fill=\"#DD0000\" x=\"0\" y=\"0\"  transform=\"matrix(0.65,0,0,0.067,148.5,49)\">U</text>\n",
       "  <text fill=\"#F9A500\" x=\"0\" y=\"0\"  transform=\"matrix(0.55,0,0,0.106,150,45.65)\">G</text>\n",
       "  <text fill=\"#0000EE\" x=\"0\" y=\"0\"  transform=\"matrix(0.59,0,0,0.141,150,40.35)\">C</text>\n",
       "  <text fill=\"#00BB00\" x=\"0\" y=\"0\"  transform=\"matrix(0.53,0,0,0.686,152,33.3)\">A</text>\n",
       "  \n",
       " </g>\n",
       "</svg>\n",
       "</TD><TD>1e-25</TD><TD>-5.984e+01</TD><TD>49.09%</TD><TD>35.56%</TD><TD>53.1bp (72.7bp)</TD><TD>hsa-miR-1306 MIMAT0005950 Homo sapiens miR-1306 Targets (miRBase)(0.743)<BR/><A target=\"_blank\" HREF=\"homerResults/motif5.info.html\">More Information</A> | <A target=\"blank\" HREF=\"homerResults/motif5.similar.html\">Similar Motifs Found</A></TD><TD><A target=\"_blank\" HREF=\"homerResults/motif5.motif\">motif file (matrix)</A></TD></TR>\n",
       "<TR><TD>6\n",
       "</TD><TD><svg width=\"130\" height=\"50\">\n",
       " <g font-family=\"Arial\" font-weight=\"bold\" font-size=\"66.5\">\n",
       "  <text fill=\"#0000EE\" x=\"0\" y=\"0\"  transform=\"matrix(0.59,0,0,0.001,0,49)\">C</text>\n",
       "  <text fill=\"#F9A500\" x=\"0\" y=\"0\"  transform=\"matrix(0.55,0,0,0.001,0,48.95)\">G</text>\n",
       "  <text fill=\"#00BB00\" x=\"0\" y=\"0\"  transform=\"matrix(0.53,0,0,0.296,2,48.9)\">A</text>\n",
       "  <text fill=\"#DD0000\" x=\"0\" y=\"0\"  transform=\"matrix(0.65,0,0,0.702,-1.5,34.1)\">U</text>\n",
       "  \n",
       "  <text fill=\"#00BB00\" x=\"0\" y=\"0\"  transform=\"matrix(0.53,0,0,0.001,27,49)\">A</text>\n",
       "  <text fill=\"#F9A500\" x=\"0\" y=\"0\"  transform=\"matrix(0.55,0,0,0.001,25,48.95)\">G</text>\n",
       "  <text fill=\"#DD0000\" x=\"0\" y=\"0\"  transform=\"matrix(0.65,0,0,0.177,23.5,48.9)\">U</text>\n",
       "  <text fill=\"#0000EE\" x=\"0\" y=\"0\"  transform=\"matrix(0.59,0,0,0.821,25,40.05)\">C</text>\n",
       "  \n",
       "  <text fill=\"#00BB00\" x=\"0\" y=\"0\"  transform=\"matrix(0.53,0,0,0.001,52,49)\">A</text>\n",
       "  <text fill=\"#F9A500\" x=\"0\" y=\"0\"  transform=\"matrix(0.55,0,0,0.001,50,48.95)\">G</text>\n",
       "  <text fill=\"#DD0000\" x=\"0\" y=\"0\"  transform=\"matrix(0.65,0,0,0.001,48.5,48.9)\">U</text>\n",
       "  <text fill=\"#0000EE\" x=\"0\" y=\"0\"  transform=\"matrix(0.59,0,0,0.997,50,48.85)\">C</text>\n",
       "  \n",
       "  <text fill=\"#00BB00\" x=\"0\" y=\"0\"  transform=\"matrix(0.53,0,0,0.001,77,49)\">A</text>\n",
       "  <text fill=\"#0000EE\" x=\"0\" y=\"0\"  transform=\"matrix(0.59,0,0,0.001,75,48.95)\">C</text>\n",
       "  <text fill=\"#DD0000\" x=\"0\" y=\"0\"  transform=\"matrix(0.65,0,0,0.001,73.5,48.9)\">U</text>\n",
       "  <text fill=\"#F9A500\" x=\"0\" y=\"0\"  transform=\"matrix(0.55,0,0,0.997,75,48.85)\">G</text>\n",
       "  \n",
       "  <text fill=\"#0000EE\" x=\"0\" y=\"0\"  transform=\"matrix(0.59,0,0,0.001,100,49)\">C</text>\n",
       "  <text fill=\"#F9A500\" x=\"0\" y=\"0\"  transform=\"matrix(0.55,0,0,0.001,100,48.95)\">G</text>\n",
       "  <text fill=\"#DD0000\" x=\"0\" y=\"0\"  transform=\"matrix(0.65,0,0,0.001,98.5,48.9)\">U</text>\n",
       "  <text fill=\"#00BB00\" x=\"0\" y=\"0\"  transform=\"matrix(0.53,0,0,0.997,102,48.85)\">A</text>\n",
       "  \n",
       " </g>\n",
       "</svg>\n",
       "</TD><TD>1e-21</TD><TD>-4.917e+01</TD><TD>26.23%</TD><TD>16.36%</TD><TD>50.2bp (78.4bp)</TD><TD>hsa-miR-3610 MIMAT0017987 Homo sapiens miR-3610 Targets (miRBase)(0.719)<BR/><A target=\"_blank\" HREF=\"homerResults/motif6.info.html\">More Information</A> | <A target=\"blank\" HREF=\"homerResults/motif6.similar.html\">Similar Motifs Found</A></TD><TD><A target=\"_blank\" HREF=\"homerResults/motif6.motif\">motif file (matrix)</A></TD></TR>\n",
       "<TR><TD>7\n",
       "</TD><TD><svg width=\"155\" height=\"50\">\n",
       " <g font-family=\"Arial\" font-weight=\"bold\" font-size=\"66.5\">\n",
       "  <text fill=\"#00BB00\" x=\"0\" y=\"0\"  transform=\"matrix(0.53,0,0,0.001,2,49)\">A</text>\n",
       "  <text fill=\"#F9A500\" x=\"0\" y=\"0\"  transform=\"matrix(0.55,0,0,0.001,0,48.95)\">G</text>\n",
       "  <text fill=\"#DD0000\" x=\"0\" y=\"0\"  transform=\"matrix(0.65,0,0,0.001,-1.5,48.9)\">U</text>\n",
       "  <text fill=\"#0000EE\" x=\"0\" y=\"0\"  transform=\"matrix(0.59,0,0,0.997,0,48.85)\">C</text>\n",
       "  \n",
       "  <text fill=\"#00BB00\" x=\"0\" y=\"0\"  transform=\"matrix(0.53,0,0,0.001,27,49)\">A</text>\n",
       "  <text fill=\"#0000EE\" x=\"0\" y=\"0\"  transform=\"matrix(0.59,0,0,0.001,25,48.95)\">C</text>\n",
       "  <text fill=\"#DD0000\" x=\"0\" y=\"0\"  transform=\"matrix(0.65,0,0,0.001,23.5,48.9)\">U</text>\n",
       "  <text fill=\"#F9A500\" x=\"0\" y=\"0\"  transform=\"matrix(0.55,0,0,0.997,25,48.85)\">G</text>\n",
       "  \n",
       "  <text fill=\"#00BB00\" x=\"0\" y=\"0\"  transform=\"matrix(0.53,0,0,0.001,52,49)\">A</text>\n",
       "  <text fill=\"#DD0000\" x=\"0\" y=\"0\"  transform=\"matrix(0.65,0,0,0.001,48.5,48.95)\">U</text>\n",
       "  <text fill=\"#0000EE\" x=\"0\" y=\"0\"  transform=\"matrix(0.59,0,0,0.192,50,48.9)\">C</text>\n",
       "  <text fill=\"#F9A500\" x=\"0\" y=\"0\"  transform=\"matrix(0.55,0,0,0.806,50,39.3)\">G</text>\n",
       "  \n",
       "  <text fill=\"#0000EE\" x=\"0\" y=\"0\"  transform=\"matrix(0.59,0,0,0.001,75,49)\">C</text>\n",
       "  <text fill=\"#F9A500\" x=\"0\" y=\"0\"  transform=\"matrix(0.55,0,0,0.001,75,48.95)\">G</text>\n",
       "  <text fill=\"#DD0000\" x=\"0\" y=\"0\"  transform=\"matrix(0.65,0,0,0.001,73.5,48.9)\">U</text>\n",
       "  <text fill=\"#00BB00\" x=\"0\" y=\"0\"  transform=\"matrix(0.53,0,0,0.997,77,48.85)\">A</text>\n",
       "  \n",
       "  <text fill=\"#0000EE\" x=\"0\" y=\"0\"  transform=\"matrix(0.59,0,0,0.001,100,49)\">C</text>\n",
       "  <text fill=\"#DD0000\" x=\"0\" y=\"0\"  transform=\"matrix(0.65,0,0,0.038,98.5,48.95)\">U</text>\n",
       "  <text fill=\"#F9A500\" x=\"0\" y=\"0\"  transform=\"matrix(0.55,0,0,0.204,100,47.05)\">G</text>\n",
       "  <text fill=\"#00BB00\" x=\"0\" y=\"0\"  transform=\"matrix(0.53,0,0,0.757,102,36.85)\">A</text>\n",
       "  \n",
       "  <text fill=\"#0000EE\" x=\"0\" y=\"0\"  transform=\"matrix(0.59,0,0,0.001,125,49)\">C</text>\n",
       "  <text fill=\"#F9A500\" x=\"0\" y=\"0\"  transform=\"matrix(0.55,0,0,0.001,125,48.95)\">G</text>\n",
       "  <text fill=\"#DD0000\" x=\"0\" y=\"0\"  transform=\"matrix(0.65,0,0,0.113,123.5,48.9)\">U</text>\n",
       "  <text fill=\"#00BB00\" x=\"0\" y=\"0\"  transform=\"matrix(0.53,0,0,0.885,127,43.25)\">A</text>\n",
       "  \n",
       " </g>\n",
       "</svg>\n",
       "</TD><TD>1e-19</TD><TD>-4.400e+01</TD><TD>11.87%</TD><TD>5.67%</TD><TD>48.8bp (79.1bp)</TD><TD>hsa-miR-1180 MIMAT0005825 Homo sapiens miR-1180 Targets (miRBase)(0.708)<BR/><A target=\"_blank\" HREF=\"homerResults/motif7.info.html\">More Information</A> | <A target=\"blank\" HREF=\"homerResults/motif7.similar.html\">Similar Motifs Found</A></TD><TD><A target=\"_blank\" HREF=\"homerResults/motif7.motif\">motif file (matrix)</A></TD></TR>\n",
       "<TR><TD>8\n",
       "</TD><TD><svg width=\"205\" height=\"50\">\n",
       " <g font-family=\"Arial\" font-weight=\"bold\" font-size=\"66.5\">\n",
       "  <text fill=\"#00BB00\" x=\"0\" y=\"0\"  transform=\"matrix(0.53,0,0,0.041,2,49)\">A</text>\n",
       "  <text fill=\"#F9A500\" x=\"0\" y=\"0\"  transform=\"matrix(0.55,0,0,0.116,0,46.95)\">G</text>\n",
       "  <text fill=\"#0000EE\" x=\"0\" y=\"0\"  transform=\"matrix(0.59,0,0,0.120,0,41.15)\">C</text>\n",
       "  <text fill=\"#DD0000\" x=\"0\" y=\"0\"  transform=\"matrix(0.65,0,0,0.723,-1.5,35.15)\">U</text>\n",
       "  \n",
       "  <text fill=\"#00BB00\" x=\"0\" y=\"0\"  transform=\"matrix(0.53,0,0,0.001,27,49)\">A</text>\n",
       "  <text fill=\"#F9A500\" x=\"0\" y=\"0\"  transform=\"matrix(0.55,0,0,0.044,25,48.95)\">G</text>\n",
       "  <text fill=\"#DD0000\" x=\"0\" y=\"0\"  transform=\"matrix(0.65,0,0,0.195,23.5,46.75)\">U</text>\n",
       "  <text fill=\"#0000EE\" x=\"0\" y=\"0\"  transform=\"matrix(0.59,0,0,0.760,25,37)\">C</text>\n",
       "  \n",
       "  <text fill=\"#DD0000\" x=\"0\" y=\"0\"  transform=\"matrix(0.65,0,0,0.001,48.5,49)\">U</text>\n",
       "  <text fill=\"#0000EE\" x=\"0\" y=\"0\"  transform=\"matrix(0.59,0,0,0.080,50,48.95)\">C</text>\n",
       "  <text fill=\"#00BB00\" x=\"0\" y=\"0\"  transform=\"matrix(0.53,0,0,0.229,52,44.95)\">A</text>\n",
       "  <text fill=\"#F9A500\" x=\"0\" y=\"0\"  transform=\"matrix(0.55,0,0,0.690,50,33.5)\">G</text>\n",
       "  \n",
       "  <text fill=\"#0000EE\" x=\"0\" y=\"0\"  transform=\"matrix(0.59,0,0,0.014,75,49)\">C</text>\n",
       "  <text fill=\"#F9A500\" x=\"0\" y=\"0\"  transform=\"matrix(0.55,0,0,0.017,75,48.3)\">G</text>\n",
       "  <text fill=\"#DD0000\" x=\"0\" y=\"0\"  transform=\"matrix(0.65,0,0,0.111,73.5,47.45)\">U</text>\n",
       "  <text fill=\"#00BB00\" x=\"0\" y=\"0\"  transform=\"matrix(0.53,0,0,0.858,77,41.9)\">A</text>\n",
       "  \n",
       "  <text fill=\"#00BB00\" x=\"0\" y=\"0\"  transform=\"matrix(0.53,0,0,0.035,102,49)\">A</text>\n",
       "  <text fill=\"#DD0000\" x=\"0\" y=\"0\"  transform=\"matrix(0.65,0,0,0.060,98.5,47.25)\">U</text>\n",
       "  <text fill=\"#F9A500\" x=\"0\" y=\"0\"  transform=\"matrix(0.55,0,0,0.201,100,44.25)\">G</text>\n",
       "  <text fill=\"#0000EE\" x=\"0\" y=\"0\"  transform=\"matrix(0.59,0,0,0.704,100,34.2)\">C</text>\n",
       "  \n",
       "  <text fill=\"#DD0000\" x=\"0\" y=\"0\"  transform=\"matrix(0.65,0,0,0.071,123.5,49)\">U</text>\n",
       "  <text fill=\"#0000EE\" x=\"0\" y=\"0\"  transform=\"matrix(0.59,0,0,0.097,125,45.45)\">C</text>\n",
       "  <text fill=\"#00BB00\" x=\"0\" y=\"0\"  transform=\"matrix(0.53,0,0,0.250,127,40.6)\">A</text>\n",
       "  <text fill=\"#F9A500\" x=\"0\" y=\"0\"  transform=\"matrix(0.55,0,0,0.582,125,28.1)\">G</text>\n",
       "  \n",
       "  <text fill=\"#0000EE\" x=\"0\" y=\"0\"  transform=\"matrix(0.59,0,0,0.001,150,49)\">C</text>\n",
       "  <text fill=\"#F9A500\" x=\"0\" y=\"0\"  transform=\"matrix(0.55,0,0,0.030,150,48.95)\">G</text>\n",
       "  <text fill=\"#DD0000\" x=\"0\" y=\"0\"  transform=\"matrix(0.65,0,0,0.060,148.5,47.45)\">U</text>\n",
       "  <text fill=\"#00BB00\" x=\"0\" y=\"0\"  transform=\"matrix(0.53,0,0,0.909,152,44.45)\">A</text>\n",
       "  \n",
       "  <text fill=\"#DD0000\" x=\"0\" y=\"0\"  transform=\"matrix(0.65,0,0,0.006,173.5,49)\">U</text>\n",
       "  <text fill=\"#00BB00\" x=\"0\" y=\"0\"  transform=\"matrix(0.53,0,0,0.082,177,48.7)\">A</text>\n",
       "  <text fill=\"#F9A500\" x=\"0\" y=\"0\"  transform=\"matrix(0.55,0,0,0.139,175,44.6)\">G</text>\n",
       "  <text fill=\"#0000EE\" x=\"0\" y=\"0\"  transform=\"matrix(0.59,0,0,0.773,175,37.65)\">C</text>\n",
       "  \n",
       " </g>\n",
       "</svg>\n",
       "</TD><TD>1e-15</TD><TD>-3.620e+01</TD><TD>20.70%</TD><TD>13.05%</TD><TD>49.9bp (75.1bp)</TD><TD>hsa-miR-4440 MIMAT0018958 Homo sapiens miR-4440 Targets (miRBase)(0.637)<BR/><A target=\"_blank\" HREF=\"homerResults/motif8.info.html\">More Information</A> | <A target=\"blank\" HREF=\"homerResults/motif8.similar.html\">Similar Motifs Found</A></TD><TD><A target=\"_blank\" HREF=\"homerResults/motif8.motif\">motif file (matrix)</A></TD></TR>\n",
       "<TR><TD>9\n",
       "</TD><TD><svg width=\"230\" height=\"50\">\n",
       " <g font-family=\"Arial\" font-weight=\"bold\" font-size=\"66.5\">\n",
       "  <text fill=\"#00BB00\" x=\"0\" y=\"0\"  transform=\"matrix(0.53,0,0,0.014,2,49)\">A</text>\n",
       "  <text fill=\"#0000EE\" x=\"0\" y=\"0\"  transform=\"matrix(0.59,0,0,0.079,0,48.3)\">C</text>\n",
       "  <text fill=\"#F9A500\" x=\"0\" y=\"0\"  transform=\"matrix(0.55,0,0,0.250,0,44.35)\">G</text>\n",
       "  <text fill=\"#DD0000\" x=\"0\" y=\"0\"  transform=\"matrix(0.65,0,0,0.657,-1.5,31.85)\">U</text>\n",
       "  \n",
       "  <text fill=\"#F9A500\" x=\"0\" y=\"0\"  transform=\"matrix(0.55,0,0,0.001,25,49)\">G</text>\n",
       "  <text fill=\"#DD0000\" x=\"0\" y=\"0\"  transform=\"matrix(0.65,0,0,0.031,23.5,48.95)\">U</text>\n",
       "  <text fill=\"#0000EE\" x=\"0\" y=\"0\"  transform=\"matrix(0.59,0,0,0.061,25,47.4)\">C</text>\n",
       "  <text fill=\"#00BB00\" x=\"0\" y=\"0\"  transform=\"matrix(0.53,0,0,0.907,27,44.35)\">A</text>\n",
       "  \n",
       "  <text fill=\"#0000EE\" x=\"0\" y=\"0\"  transform=\"matrix(0.59,0,0,0.001,50,49)\">C</text>\n",
       "  <text fill=\"#DD0000\" x=\"0\" y=\"0\"  transform=\"matrix(0.65,0,0,0.001,48.5,48.95)\">U</text>\n",
       "  <text fill=\"#F9A500\" x=\"0\" y=\"0\"  transform=\"matrix(0.55,0,0,0.038,50,48.9)\">G</text>\n",
       "  <text fill=\"#00BB00\" x=\"0\" y=\"0\"  transform=\"matrix(0.53,0,0,0.960,52,47)\">A</text>\n",
       "  \n",
       "  <text fill=\"#F9A500\" x=\"0\" y=\"0\"  transform=\"matrix(0.55,0,0,0.001,75,49)\">G</text>\n",
       "  <text fill=\"#DD0000\" x=\"0\" y=\"0\"  transform=\"matrix(0.65,0,0,0.024,73.5,48.95)\">U</text>\n",
       "  <text fill=\"#00BB00\" x=\"0\" y=\"0\"  transform=\"matrix(0.53,0,0,0.123,77,47.75)\">A</text>\n",
       "  <text fill=\"#0000EE\" x=\"0\" y=\"0\"  transform=\"matrix(0.59,0,0,0.852,75,41.6)\">C</text>\n",
       "  \n",
       "  <text fill=\"#0000EE\" x=\"0\" y=\"0\"  transform=\"matrix(0.59,0,0,0.001,100,49)\">C</text>\n",
       "  <text fill=\"#F9A500\" x=\"0\" y=\"0\"  transform=\"matrix(0.55,0,0,0.001,100,48.95)\">G</text>\n",
       "  <text fill=\"#DD0000\" x=\"0\" y=\"0\"  transform=\"matrix(0.65,0,0,0.032,98.5,48.9)\">U</text>\n",
       "  <text fill=\"#00BB00\" x=\"0\" y=\"0\"  transform=\"matrix(0.53,0,0,0.966,102,47.3)\">A</text>\n",
       "  \n",
       "  <text fill=\"#00BB00\" x=\"0\" y=\"0\"  transform=\"matrix(0.53,0,0,0.001,127,49)\">A</text>\n",
       "  <text fill=\"#0000EE\" x=\"0\" y=\"0\"  transform=\"matrix(0.59,0,0,0.001,125,48.95)\">C</text>\n",
       "  <text fill=\"#DD0000\" x=\"0\" y=\"0\"  transform=\"matrix(0.65,0,0,0.001,123.5,48.9)\">U</text>\n",
       "  <text fill=\"#F9A500\" x=\"0\" y=\"0\"  transform=\"matrix(0.55,0,0,0.997,125,48.85)\">G</text>\n",
       "  \n",
       "  <text fill=\"#00BB00\" x=\"0\" y=\"0\"  transform=\"matrix(0.53,0,0,0.001,152,49)\">A</text>\n",
       "  <text fill=\"#DD0000\" x=\"0\" y=\"0\"  transform=\"matrix(0.65,0,0,0.001,148.5,48.95)\">U</text>\n",
       "  <text fill=\"#0000EE\" x=\"0\" y=\"0\"  transform=\"matrix(0.59,0,0,0.063,150,48.9)\">C</text>\n",
       "  <text fill=\"#F9A500\" x=\"0\" y=\"0\"  transform=\"matrix(0.55,0,0,0.935,150,45.75)\">G</text>\n",
       "  \n",
       "  <text fill=\"#0000EE\" x=\"0\" y=\"0\"  transform=\"matrix(0.59,0,0,0.001,175,49)\">C</text>\n",
       "  <text fill=\"#F9A500\" x=\"0\" y=\"0\"  transform=\"matrix(0.55,0,0,0.001,175,48.95)\">G</text>\n",
       "  <text fill=\"#00BB00\" x=\"0\" y=\"0\"  transform=\"matrix(0.53,0,0,0.092,177,48.9)\">A</text>\n",
       "  <text fill=\"#DD0000\" x=\"0\" y=\"0\"  transform=\"matrix(0.65,0,0,0.906,173.5,44.3)\">U</text>\n",
       "  \n",
       "  <text fill=\"#DD0000\" x=\"0\" y=\"0\"  transform=\"matrix(0.65,0,0,0.001,198.5,49)\">U</text>\n",
       "  <text fill=\"#F9A500\" x=\"0\" y=\"0\"  transform=\"matrix(0.55,0,0,0.021,200,48.95)\">G</text>\n",
       "  <text fill=\"#0000EE\" x=\"0\" y=\"0\"  transform=\"matrix(0.59,0,0,0.114,200,47.9)\">C</text>\n",
       "  <text fill=\"#00BB00\" x=\"0\" y=\"0\"  transform=\"matrix(0.53,0,0,0.864,202,42.2)\">A</text>\n",
       "  \n",
       " </g>\n",
       "</svg>\n",
       "</TD><TD>1e-14</TD><TD>-3.447e+01</TD><TD>3.44%</TD><TD>0.88%</TD><TD>52.0bp (69.4bp)</TD><TD>hsa-miR-3144-3p MIMAT0015015 Homo sapiens miR-3144-3p Targets (miRBase)(0.699)<BR/><A target=\"_blank\" HREF=\"homerResults/motif9.info.html\">More Information</A> | <A target=\"blank\" HREF=\"homerResults/motif9.similar.html\">Similar Motifs Found</A></TD><TD><A target=\"_blank\" HREF=\"homerResults/motif9.motif\">motif file (matrix)</A></TD></TR>\n",
       "<TR><TD>10\n",
       "</TD><TD><svg width=\"205\" height=\"50\">\n",
       " <g font-family=\"Arial\" font-weight=\"bold\" font-size=\"66.5\">\n",
       "  <text fill=\"#DD0000\" x=\"0\" y=\"0\"  transform=\"matrix(0.65,0,0,0.055,-1.5,49)\">U</text>\n",
       "  <text fill=\"#F9A500\" x=\"0\" y=\"0\"  transform=\"matrix(0.55,0,0,0.060,0,46.25)\">G</text>\n",
       "  <text fill=\"#00BB00\" x=\"0\" y=\"0\"  transform=\"matrix(0.53,0,0,0.089,2,43.25)\">A</text>\n",
       "  <text fill=\"#0000EE\" x=\"0\" y=\"0\"  transform=\"matrix(0.59,0,0,0.796,0,38.8)\">C</text>\n",
       "  \n",
       "  <text fill=\"#DD0000\" x=\"0\" y=\"0\"  transform=\"matrix(0.65,0,0,0.047,23.5,49)\">U</text>\n",
       "  <text fill=\"#00BB00\" x=\"0\" y=\"0\"  transform=\"matrix(0.53,0,0,0.053,27,46.65)\">A</text>\n",
       "  <text fill=\"#F9A500\" x=\"0\" y=\"0\"  transform=\"matrix(0.55,0,0,0.101,25,44)\">G</text>\n",
       "  <text fill=\"#0000EE\" x=\"0\" y=\"0\"  transform=\"matrix(0.59,0,0,0.799,25,38.95)\">C</text>\n",
       "  \n",
       "  <text fill=\"#DD0000\" x=\"0\" y=\"0\"  transform=\"matrix(0.65,0,0,0.037,48.5,49)\">U</text>\n",
       "  <text fill=\"#0000EE\" x=\"0\" y=\"0\"  transform=\"matrix(0.59,0,0,0.050,50,47.15)\">C</text>\n",
       "  <text fill=\"#00BB00\" x=\"0\" y=\"0\"  transform=\"matrix(0.53,0,0,0.080,52,44.65)\">A</text>\n",
       "  <text fill=\"#F9A500\" x=\"0\" y=\"0\"  transform=\"matrix(0.55,0,0,0.833,50,40.65)\">G</text>\n",
       "  \n",
       "  <text fill=\"#F9A500\" x=\"0\" y=\"0\"  transform=\"matrix(0.55,0,0,0.066,75,49)\">G</text>\n",
       "  <text fill=\"#0000EE\" x=\"0\" y=\"0\"  transform=\"matrix(0.59,0,0,0.085,75,45.7)\">C</text>\n",
       "  <text fill=\"#00BB00\" x=\"0\" y=\"0\"  transform=\"matrix(0.53,0,0,0.122,77,41.45)\">A</text>\n",
       "  <text fill=\"#DD0000\" x=\"0\" y=\"0\"  transform=\"matrix(0.65,0,0,0.727,73.5,35.35)\">U</text>\n",
       "  \n",
       "  <text fill=\"#DD0000\" x=\"0\" y=\"0\"  transform=\"matrix(0.65,0,0,0.069,98.5,49)\">U</text>\n",
       "  <text fill=\"#00BB00\" x=\"0\" y=\"0\"  transform=\"matrix(0.53,0,0,0.136,102,45.55)\">A</text>\n",
       "  <text fill=\"#0000EE\" x=\"0\" y=\"0\"  transform=\"matrix(0.59,0,0,0.186,100,38.75)\">C</text>\n",
       "  <text fill=\"#F9A500\" x=\"0\" y=\"0\"  transform=\"matrix(0.55,0,0,0.609,100,29.45)\">G</text>\n",
       "  \n",
       "  <text fill=\"#F9A500\" x=\"0\" y=\"0\"  transform=\"matrix(0.55,0,0,0.067,125,49)\">G</text>\n",
       "  <text fill=\"#DD0000\" x=\"0\" y=\"0\"  transform=\"matrix(0.65,0,0,0.080,123.5,45.65)\">U</text>\n",
       "  <text fill=\"#0000EE\" x=\"0\" y=\"0\"  transform=\"matrix(0.59,0,0,0.111,125,41.65)\">C</text>\n",
       "  <text fill=\"#00BB00\" x=\"0\" y=\"0\"  transform=\"matrix(0.53,0,0,0.742,127,36.1)\">A</text>\n",
       "  \n",
       "  <text fill=\"#F9A500\" x=\"0\" y=\"0\"  transform=\"matrix(0.55,0,0,0.050,150,49)\">G</text>\n",
       "  <text fill=\"#DD0000\" x=\"0\" y=\"0\"  transform=\"matrix(0.65,0,0,0.077,148.5,46.5)\">U</text>\n",
       "  <text fill=\"#0000EE\" x=\"0\" y=\"0\"  transform=\"matrix(0.59,0,0,0.139,150,42.65)\">C</text>\n",
       "  <text fill=\"#00BB00\" x=\"0\" y=\"0\"  transform=\"matrix(0.53,0,0,0.734,152,35.7)\">A</text>\n",
       "  \n",
       "  <text fill=\"#0000EE\" x=\"0\" y=\"0\"  transform=\"matrix(0.59,0,0,0.039,175,49)\">C</text>\n",
       "  <text fill=\"#DD0000\" x=\"0\" y=\"0\"  transform=\"matrix(0.65,0,0,0.074,173.5,47.05)\">U</text>\n",
       "  <text fill=\"#00BB00\" x=\"0\" y=\"0\"  transform=\"matrix(0.53,0,0,0.116,177,43.35)\">A</text>\n",
       "  <text fill=\"#F9A500\" x=\"0\" y=\"0\"  transform=\"matrix(0.55,0,0,0.771,175,37.55)\">G</text>\n",
       "  \n",
       " </g>\n",
       "</svg>\n",
       "</TD><TD>1e-13</TD><TD>-3.163e+01</TD><TD>13.42%</TD><TD>7.66%</TD><TD>54.4bp (75.8bp)</TD><TD>hsa-miR-412 MIMAT0002170 Homo sapiens miR-412 Targets (miRBase)(0.608)<BR/><A target=\"_blank\" HREF=\"homerResults/motif10.info.html\">More Information</A> | <A target=\"blank\" HREF=\"homerResults/motif10.similar.html\">Similar Motifs Found</A></TD><TD><A target=\"_blank\" HREF=\"homerResults/motif10.motif\">motif file (matrix)</A></TD></TR>\n",
       "<TR><TD>11\n",
       "</TD><TD><svg width=\"230\" height=\"50\">\n",
       " <g font-family=\"Arial\" font-weight=\"bold\" font-size=\"66.5\">\n",
       "  <text fill=\"#F9A500\" x=\"0\" y=\"0\"  transform=\"matrix(0.55,0,0,0.001,0,49)\">G</text>\n",
       "  <text fill=\"#00BB00\" x=\"0\" y=\"0\"  transform=\"matrix(0.53,0,0,0.031,2,48.95)\">A</text>\n",
       "  <text fill=\"#0000EE\" x=\"0\" y=\"0\"  transform=\"matrix(0.59,0,0,0.234,0,47.4)\">C</text>\n",
       "  <text fill=\"#DD0000\" x=\"0\" y=\"0\"  transform=\"matrix(0.65,0,0,0.734,-1.5,35.7)\">U</text>\n",
       "  \n",
       "  <text fill=\"#F9A500\" x=\"0\" y=\"0\"  transform=\"matrix(0.55,0,0,0.001,25,49)\">G</text>\n",
       "  <text fill=\"#DD0000\" x=\"0\" y=\"0\"  transform=\"matrix(0.65,0,0,0.001,23.5,48.95)\">U</text>\n",
       "  <text fill=\"#00BB00\" x=\"0\" y=\"0\"  transform=\"matrix(0.53,0,0,0.049,27,48.9)\">A</text>\n",
       "  <text fill=\"#0000EE\" x=\"0\" y=\"0\"  transform=\"matrix(0.59,0,0,0.949,25,46.45)\">C</text>\n",
       "  \n",
       "  <text fill=\"#DD0000\" x=\"0\" y=\"0\"  transform=\"matrix(0.65,0,0,0.024,48.5,49)\">U</text>\n",
       "  <text fill=\"#F9A500\" x=\"0\" y=\"0\"  transform=\"matrix(0.55,0,0,0.088,50,47.8)\">G</text>\n",
       "  <text fill=\"#0000EE\" x=\"0\" y=\"0\"  transform=\"matrix(0.59,0,0,0.146,50,43.4)\">C</text>\n",
       "  <text fill=\"#00BB00\" x=\"0\" y=\"0\"  transform=\"matrix(0.53,0,0,0.742,52,36.1)\">A</text>\n",
       "  \n",
       "  <text fill=\"#00BB00\" x=\"0\" y=\"0\"  transform=\"matrix(0.53,0,0,0.001,77,49)\">A</text>\n",
       "  <text fill=\"#0000EE\" x=\"0\" y=\"0\"  transform=\"matrix(0.59,0,0,0.001,75,48.95)\">C</text>\n",
       "  <text fill=\"#F9A500\" x=\"0\" y=\"0\"  transform=\"matrix(0.55,0,0,0.001,75,48.9)\">G</text>\n",
       "  <text fill=\"#DD0000\" x=\"0\" y=\"0\"  transform=\"matrix(0.65,0,0,0.997,73.5,48.85)\">U</text>\n",
       "  \n",
       "  <text fill=\"#F9A500\" x=\"0\" y=\"0\"  transform=\"matrix(0.55,0,0,0.001,100,49)\">G</text>\n",
       "  <text fill=\"#DD0000\" x=\"0\" y=\"0\"  transform=\"matrix(0.65,0,0,0.001,98.5,48.95)\">U</text>\n",
       "  <text fill=\"#0000EE\" x=\"0\" y=\"0\"  transform=\"matrix(0.59,0,0,0.050,100,48.9)\">C</text>\n",
       "  <text fill=\"#00BB00\" x=\"0\" y=\"0\"  transform=\"matrix(0.53,0,0,0.948,102,46.4)\">A</text>\n",
       "  \n",
       "  <text fill=\"#00BB00\" x=\"0\" y=\"0\"  transform=\"matrix(0.53,0,0,0.001,127,49)\">A</text>\n",
       "  <text fill=\"#F9A500\" x=\"0\" y=\"0\"  transform=\"matrix(0.55,0,0,0.001,125,48.95)\">G</text>\n",
       "  <text fill=\"#DD0000\" x=\"0\" y=\"0\"  transform=\"matrix(0.65,0,0,0.001,123.5,48.9)\">U</text>\n",
       "  <text fill=\"#0000EE\" x=\"0\" y=\"0\"  transform=\"matrix(0.59,0,0,0.997,125,48.85)\">C</text>\n",
       "  \n",
       "  <text fill=\"#DD0000\" x=\"0\" y=\"0\"  transform=\"matrix(0.65,0,0,0.027,148.5,49)\">U</text>\n",
       "  <text fill=\"#00BB00\" x=\"0\" y=\"0\"  transform=\"matrix(0.53,0,0,0.032,152,47.65)\">A</text>\n",
       "  <text fill=\"#F9A500\" x=\"0\" y=\"0\"  transform=\"matrix(0.55,0,0,0.138,150,46.05)\">G</text>\n",
       "  <text fill=\"#0000EE\" x=\"0\" y=\"0\"  transform=\"matrix(0.59,0,0,0.803,150,39.15)\">C</text>\n",
       "  \n",
       "  <text fill=\"#00BB00\" x=\"0\" y=\"0\"  transform=\"matrix(0.53,0,0,0.001,177,49)\">A</text>\n",
       "  <text fill=\"#F9A500\" x=\"0\" y=\"0\"  transform=\"matrix(0.55,0,0,0.001,175,48.95)\">G</text>\n",
       "  <text fill=\"#DD0000\" x=\"0\" y=\"0\"  transform=\"matrix(0.65,0,0,0.029,173.5,48.9)\">U</text>\n",
       "  <text fill=\"#0000EE\" x=\"0\" y=\"0\"  transform=\"matrix(0.59,0,0,0.969,175,47.45)\">C</text>\n",
       "  \n",
       "  <text fill=\"#00BB00\" x=\"0\" y=\"0\"  transform=\"matrix(0.53,0,0,0.001,202,49)\">A</text>\n",
       "  <text fill=\"#F9A500\" x=\"0\" y=\"0\"  transform=\"matrix(0.55,0,0,0.001,200,48.95)\">G</text>\n",
       "  <text fill=\"#DD0000\" x=\"0\" y=\"0\"  transform=\"matrix(0.65,0,0,0.066,198.5,48.9)\">U</text>\n",
       "  <text fill=\"#0000EE\" x=\"0\" y=\"0\"  transform=\"matrix(0.59,0,0,0.932,200,45.6)\">C</text>\n",
       "  \n",
       " </g>\n",
       "</svg>\n",
       "</TD><TD>1e-13</TD><TD>-3.126e+01</TD><TD>4.52%</TD><TD>1.54%</TD><TD>55.6bp (64.4bp)</TD><TD>hsa-miR-3201 MIMAT0015086 Homo sapiens miR-3201 Targets (miRBase)(0.712)<BR/><A target=\"_blank\" HREF=\"homerResults/motif11.info.html\">More Information</A> | <A target=\"blank\" HREF=\"homerResults/motif11.similar.html\">Similar Motifs Found</A></TD><TD><A target=\"_blank\" HREF=\"homerResults/motif11.motif\">motif file (matrix)</A></TD></TR>\n",
       "<TR><TD>12\n",
       "</TD><TD><svg width=\"205\" height=\"50\">\n",
       " <g font-family=\"Arial\" font-weight=\"bold\" font-size=\"66.5\">\n",
       "  <text fill=\"#F9A500\" x=\"0\" y=\"0\"  transform=\"matrix(0.55,0,0,0.099,0,49)\">G</text>\n",
       "  <text fill=\"#00BB00\" x=\"0\" y=\"0\"  transform=\"matrix(0.53,0,0,0.105,2,44.05)\">A</text>\n",
       "  <text fill=\"#DD0000\" x=\"0\" y=\"0\"  transform=\"matrix(0.65,0,0,0.188,-1.5,38.8)\">U</text>\n",
       "  <text fill=\"#0000EE\" x=\"0\" y=\"0\"  transform=\"matrix(0.59,0,0,0.608,0,29.4)\">C</text>\n",
       "  \n",
       "  <text fill=\"#DD0000\" x=\"0\" y=\"0\"  transform=\"matrix(0.65,0,0,0.050,23.5,49)\">U</text>\n",
       "  <text fill=\"#F9A500\" x=\"0\" y=\"0\"  transform=\"matrix(0.55,0,0,0.058,25,46.5)\">G</text>\n",
       "  <text fill=\"#00BB00\" x=\"0\" y=\"0\"  transform=\"matrix(0.53,0,0,0.064,27,43.6)\">A</text>\n",
       "  <text fill=\"#0000EE\" x=\"0\" y=\"0\"  transform=\"matrix(0.59,0,0,0.828,25,40.4)\">C</text>\n",
       "  \n",
       "  <text fill=\"#F9A500\" x=\"0\" y=\"0\"  transform=\"matrix(0.55,0,0,0.054,50,49)\">G</text>\n",
       "  <text fill=\"#0000EE\" x=\"0\" y=\"0\"  transform=\"matrix(0.59,0,0,0.072,50,46.3)\">C</text>\n",
       "  <text fill=\"#DD0000\" x=\"0\" y=\"0\"  transform=\"matrix(0.65,0,0,0.107,48.5,42.7)\">U</text>\n",
       "  <text fill=\"#00BB00\" x=\"0\" y=\"0\"  transform=\"matrix(0.53,0,0,0.767,52,37.35)\">A</text>\n",
       "  \n",
       "  <text fill=\"#F9A500\" x=\"0\" y=\"0\"  transform=\"matrix(0.55,0,0,0.046,75,49)\">G</text>\n",
       "  <text fill=\"#00BB00\" x=\"0\" y=\"0\"  transform=\"matrix(0.53,0,0,0.073,77,46.7)\">A</text>\n",
       "  <text fill=\"#0000EE\" x=\"0\" y=\"0\"  transform=\"matrix(0.59,0,0,0.103,75,43.05)\">C</text>\n",
       "  <text fill=\"#DD0000\" x=\"0\" y=\"0\"  transform=\"matrix(0.65,0,0,0.778,73.5,37.9)\">U</text>\n",
       "  \n",
       "  <text fill=\"#00BB00\" x=\"0\" y=\"0\"  transform=\"matrix(0.53,0,0,0.023,102,49)\">A</text>\n",
       "  <text fill=\"#F9A500\" x=\"0\" y=\"0\"  transform=\"matrix(0.55,0,0,0.030,100,47.85)\">G</text>\n",
       "  <text fill=\"#0000EE\" x=\"0\" y=\"0\"  transform=\"matrix(0.59,0,0,0.074,100,46.35)\">C</text>\n",
       "  <text fill=\"#DD0000\" x=\"0\" y=\"0\"  transform=\"matrix(0.65,0,0,0.873,98.5,42.65)\">U</text>\n",
       "  \n",
       "  <text fill=\"#DD0000\" x=\"0\" y=\"0\"  transform=\"matrix(0.65,0,0,0.050,123.5,49)\">U</text>\n",
       "  <text fill=\"#00BB00\" x=\"0\" y=\"0\"  transform=\"matrix(0.53,0,0,0.073,127,46.5)\">A</text>\n",
       "  <text fill=\"#0000EE\" x=\"0\" y=\"0\"  transform=\"matrix(0.59,0,0,0.092,125,42.85)\">C</text>\n",
       "  <text fill=\"#F9A500\" x=\"0\" y=\"0\"  transform=\"matrix(0.55,0,0,0.785,125,38.25)\">G</text>\n",
       "  \n",
       "  <text fill=\"#DD0000\" x=\"0\" y=\"0\"  transform=\"matrix(0.65,0,0,0.043,148.5,49)\">U</text>\n",
       "  <text fill=\"#00BB00\" x=\"0\" y=\"0\"  transform=\"matrix(0.53,0,0,0.130,152,46.85)\">A</text>\n",
       "  <text fill=\"#0000EE\" x=\"0\" y=\"0\"  transform=\"matrix(0.59,0,0,0.134,150,40.35)\">C</text>\n",
       "  <text fill=\"#F9A500\" x=\"0\" y=\"0\"  transform=\"matrix(0.55,0,0,0.693,150,33.65)\">G</text>\n",
       "  \n",
       "  <text fill=\"#F9A500\" x=\"0\" y=\"0\"  transform=\"matrix(0.55,0,0,0.090,175,49)\">G</text>\n",
       "  <text fill=\"#00BB00\" x=\"0\" y=\"0\"  transform=\"matrix(0.53,0,0,0.105,177,44.5)\">A</text>\n",
       "  <text fill=\"#DD0000\" x=\"0\" y=\"0\"  transform=\"matrix(0.65,0,0,0.125,173.5,39.25)\">U</text>\n",
       "  <text fill=\"#0000EE\" x=\"0\" y=\"0\"  transform=\"matrix(0.59,0,0,0.680,175,33)\">C</text>\n",
       "  \n",
       " </g>\n",
       "</svg>\n",
       "</TD><TD>1e-13</TD><TD>-3.053e+01</TD><TD>13.96%</TD><TD>8.17%</TD><TD>57.9bp (64.6bp)</TD><TD>hsa-miR-4252 MIMAT0016886 Homo sapiens miR-4252 Targets (miRBase)(0.673)<BR/><A target=\"_blank\" HREF=\"homerResults/motif12.info.html\">More Information</A> | <A target=\"blank\" HREF=\"homerResults/motif12.similar.html\">Similar Motifs Found</A></TD><TD><A target=\"_blank\" HREF=\"homerResults/motif12.motif\">motif file (matrix)</A></TD></TR>\n",
       "<TR><TD>13\n",
       "</TD><TD><svg width=\"230\" height=\"50\">\n",
       " <g font-family=\"Arial\" font-weight=\"bold\" font-size=\"66.5\">\n",
       "  <text fill=\"#DD0000\" x=\"0\" y=\"0\"  transform=\"matrix(0.65,0,0,0.003,-1.5,49)\">U</text>\n",
       "  <text fill=\"#0000EE\" x=\"0\" y=\"0\"  transform=\"matrix(0.59,0,0,0.042,0,48.85)\">C</text>\n",
       "  <text fill=\"#00BB00\" x=\"0\" y=\"0\"  transform=\"matrix(0.53,0,0,0.116,2,46.75)\">A</text>\n",
       "  <text fill=\"#F9A500\" x=\"0\" y=\"0\"  transform=\"matrix(0.55,0,0,0.839,0,40.95)\">G</text>\n",
       "  \n",
       "  <text fill=\"#F9A500\" x=\"0\" y=\"0\"  transform=\"matrix(0.55,0,0,0.003,25,49)\">G</text>\n",
       "  <text fill=\"#0000EE\" x=\"0\" y=\"0\"  transform=\"matrix(0.59,0,0,0.059,25,48.85)\">C</text>\n",
       "  <text fill=\"#DD0000\" x=\"0\" y=\"0\"  transform=\"matrix(0.65,0,0,0.061,23.5,45.9)\">U</text>\n",
       "  <text fill=\"#00BB00\" x=\"0\" y=\"0\"  transform=\"matrix(0.53,0,0,0.877,27,42.85)\">A</text>\n",
       "  \n",
       "  <text fill=\"#00BB00\" x=\"0\" y=\"0\"  transform=\"matrix(0.53,0,0,0.010,52,49)\">A</text>\n",
       "  <text fill=\"#DD0000\" x=\"0\" y=\"0\"  transform=\"matrix(0.65,0,0,0.081,48.5,48.5)\">U</text>\n",
       "  <text fill=\"#F9A500\" x=\"0\" y=\"0\"  transform=\"matrix(0.55,0,0,0.184,50,44.45)\">G</text>\n",
       "  <text fill=\"#0000EE\" x=\"0\" y=\"0\"  transform=\"matrix(0.59,0,0,0.725,50,35.25)\">C</text>\n",
       "  \n",
       "  <text fill=\"#0000EE\" x=\"0\" y=\"0\"  transform=\"matrix(0.59,0,0,0.098,75,49)\">C</text>\n",
       "  <text fill=\"#F9A500\" x=\"0\" y=\"0\"  transform=\"matrix(0.55,0,0,0.132,75,44.1)\">G</text>\n",
       "  <text fill=\"#00BB00\" x=\"0\" y=\"0\"  transform=\"matrix(0.53,0,0,0.253,77,37.5)\">A</text>\n",
       "  <text fill=\"#DD0000\" x=\"0\" y=\"0\"  transform=\"matrix(0.65,0,0,0.517,73.5,24.85)\">U</text>\n",
       "  \n",
       "  <text fill=\"#F9A500\" x=\"0\" y=\"0\"  transform=\"matrix(0.55,0,0,0.003,100,49)\">G</text>\n",
       "  <text fill=\"#DD0000\" x=\"0\" y=\"0\"  transform=\"matrix(0.65,0,0,0.142,98.5,48.85)\">U</text>\n",
       "  <text fill=\"#0000EE\" x=\"0\" y=\"0\"  transform=\"matrix(0.59,0,0,0.166,100,41.75)\">C</text>\n",
       "  <text fill=\"#00BB00\" x=\"0\" y=\"0\"  transform=\"matrix(0.53,0,0,0.689,102,33.45)\">A</text>\n",
       "  \n",
       "  <text fill=\"#00BB00\" x=\"0\" y=\"0\"  transform=\"matrix(0.53,0,0,0.003,127,49)\">A</text>\n",
       "  <text fill=\"#F9A500\" x=\"0\" y=\"0\"  transform=\"matrix(0.55,0,0,0.142,125,48.85)\">G</text>\n",
       "  <text fill=\"#0000EE\" x=\"0\" y=\"0\"  transform=\"matrix(0.59,0,0,0.158,125,41.75)\">C</text>\n",
       "  <text fill=\"#DD0000\" x=\"0\" y=\"0\"  transform=\"matrix(0.65,0,0,0.697,123.5,33.85)\">U</text>\n",
       "  \n",
       "  <text fill=\"#DD0000\" x=\"0\" y=\"0\"  transform=\"matrix(0.65,0,0,0.044,148.5,49)\">U</text>\n",
       "  <text fill=\"#00BB00\" x=\"0\" y=\"0\"  transform=\"matrix(0.53,0,0,0.060,152,46.8)\">A</text>\n",
       "  <text fill=\"#0000EE\" x=\"0\" y=\"0\"  transform=\"matrix(0.59,0,0,0.107,150,43.8)\">C</text>\n",
       "  <text fill=\"#F9A500\" x=\"0\" y=\"0\"  transform=\"matrix(0.55,0,0,0.789,150,38.45)\">G</text>\n",
       "  \n",
       "  <text fill=\"#F9A500\" x=\"0\" y=\"0\"  transform=\"matrix(0.55,0,0,0.025,175,49)\">G</text>\n",
       "  <text fill=\"#DD0000\" x=\"0\" y=\"0\"  transform=\"matrix(0.65,0,0,0.089,173.5,47.75)\">U</text>\n",
       "  <text fill=\"#0000EE\" x=\"0\" y=\"0\"  transform=\"matrix(0.59,0,0,0.108,175,43.3)\">C</text>\n",
       "  <text fill=\"#00BB00\" x=\"0\" y=\"0\"  transform=\"matrix(0.53,0,0,0.778,177,37.9)\">A</text>\n",
       "  \n",
       "  <text fill=\"#F9A500\" x=\"0\" y=\"0\"  transform=\"matrix(0.55,0,0,0.007,200,49)\">G</text>\n",
       "  <text fill=\"#DD0000\" x=\"0\" y=\"0\"  transform=\"matrix(0.65,0,0,0.107,198.5,48.65)\">U</text>\n",
       "  <text fill=\"#00BB00\" x=\"0\" y=\"0\"  transform=\"matrix(0.53,0,0,0.236,202,43.3)\">A</text>\n",
       "  <text fill=\"#0000EE\" x=\"0\" y=\"0\"  transform=\"matrix(0.59,0,0,0.650,200,31.5)\">C</text>\n",
       "  \n",
       " </g>\n",
       "</svg>\n",
       "</TD><TD>1e-12</TD><TD>-2.894e+01</TD><TD>10.52%</TD><TD>5.68%</TD><TD>54.6bp (73.0bp)</TD><TD>hsa-miR-103b MIMAT0007402 Homo sapiens miR-103b Targets (miRBase)(0.588)<BR/><A target=\"_blank\" HREF=\"homerResults/motif13.info.html\">More Information</A> | <A target=\"blank\" HREF=\"homerResults/motif13.similar.html\">Similar Motifs Found</A></TD><TD><A target=\"_blank\" HREF=\"homerResults/motif13.motif\">motif file (matrix)</A></TD></TR>\n",
       "<TR><TD>14\n",
       "<FONT color=\"red\">*</FONT></TD><TD><svg width=\"230\" height=\"50\">\n",
       " <g font-family=\"Arial\" font-weight=\"bold\" font-size=\"66.5\">\n",
       "  <text fill=\"#00BB00\" x=\"0\" y=\"0\"  transform=\"matrix(0.53,0,0,0.100,2,49)\">A</text>\n",
       "  <text fill=\"#F9A500\" x=\"0\" y=\"0\"  transform=\"matrix(0.55,0,0,0.100,0,44)\">G</text>\n",
       "  <text fill=\"#DD0000\" x=\"0\" y=\"0\"  transform=\"matrix(0.65,0,0,0.100,-1.5,39)\">U</text>\n",
       "  <text fill=\"#0000EE\" x=\"0\" y=\"0\"  transform=\"matrix(0.59,0,0,0.700,0,34)\">C</text>\n",
       "  \n",
       "  <text fill=\"#00BB00\" x=\"0\" y=\"0\"  transform=\"matrix(0.53,0,0,0.100,27,49)\">A</text>\n",
       "  <text fill=\"#0000EE\" x=\"0\" y=\"0\"  transform=\"matrix(0.59,0,0,0.100,25,44)\">C</text>\n",
       "  <text fill=\"#DD0000\" x=\"0\" y=\"0\"  transform=\"matrix(0.65,0,0,0.100,23.5,39)\">U</text>\n",
       "  <text fill=\"#F9A500\" x=\"0\" y=\"0\"  transform=\"matrix(0.55,0,0,0.700,25,34)\">G</text>\n",
       "  \n",
       "  <text fill=\"#0000EE\" x=\"0\" y=\"0\"  transform=\"matrix(0.59,0,0,0.100,50,49)\">C</text>\n",
       "  <text fill=\"#F9A500\" x=\"0\" y=\"0\"  transform=\"matrix(0.55,0,0,0.100,50,44)\">G</text>\n",
       "  <text fill=\"#DD0000\" x=\"0\" y=\"0\"  transform=\"matrix(0.65,0,0,0.100,48.5,39)\">U</text>\n",
       "  <text fill=\"#00BB00\" x=\"0\" y=\"0\"  transform=\"matrix(0.53,0,0,0.700,52,34)\">A</text>\n",
       "  \n",
       "  <text fill=\"#00BB00\" x=\"0\" y=\"0\"  transform=\"matrix(0.53,0,0,0.100,77,49)\">A</text>\n",
       "  <text fill=\"#0000EE\" x=\"0\" y=\"0\"  transform=\"matrix(0.59,0,0,0.100,75,44)\">C</text>\n",
       "  <text fill=\"#F9A500\" x=\"0\" y=\"0\"  transform=\"matrix(0.55,0,0,0.100,75,39)\">G</text>\n",
       "  <text fill=\"#DD0000\" x=\"0\" y=\"0\"  transform=\"matrix(0.65,0,0,0.700,73.5,34)\">U</text>\n",
       "  \n",
       "  <text fill=\"#00BB00\" x=\"0\" y=\"0\"  transform=\"matrix(0.53,0,0,0.100,102,49)\">A</text>\n",
       "  <text fill=\"#F9A500\" x=\"0\" y=\"0\"  transform=\"matrix(0.55,0,0,0.100,100,44)\">G</text>\n",
       "  <text fill=\"#DD0000\" x=\"0\" y=\"0\"  transform=\"matrix(0.65,0,0,0.100,98.5,39)\">U</text>\n",
       "  <text fill=\"#0000EE\" x=\"0\" y=\"0\"  transform=\"matrix(0.59,0,0,0.700,100,34)\">C</text>\n",
       "  \n",
       "  <text fill=\"#00BB00\" x=\"0\" y=\"0\"  transform=\"matrix(0.53,0,0,0.100,127,49)\">A</text>\n",
       "  <text fill=\"#F9A500\" x=\"0\" y=\"0\"  transform=\"matrix(0.55,0,0,0.100,125,44)\">G</text>\n",
       "  <text fill=\"#DD0000\" x=\"0\" y=\"0\"  transform=\"matrix(0.65,0,0,0.100,123.5,39)\">U</text>\n",
       "  <text fill=\"#0000EE\" x=\"0\" y=\"0\"  transform=\"matrix(0.59,0,0,0.700,125,34)\">C</text>\n",
       "  \n",
       "  <text fill=\"#00BB00\" x=\"0\" y=\"0\"  transform=\"matrix(0.53,0,0,0.100,152,49)\">A</text>\n",
       "  <text fill=\"#0000EE\" x=\"0\" y=\"0\"  transform=\"matrix(0.59,0,0,0.100,150,44)\">C</text>\n",
       "  <text fill=\"#DD0000\" x=\"0\" y=\"0\"  transform=\"matrix(0.65,0,0,0.100,148.5,39)\">U</text>\n",
       "  <text fill=\"#F9A500\" x=\"0\" y=\"0\"  transform=\"matrix(0.55,0,0,0.700,150,34)\">G</text>\n",
       "  \n",
       "  <text fill=\"#00BB00\" x=\"0\" y=\"0\"  transform=\"matrix(0.53,0,0,0.100,177,49)\">A</text>\n",
       "  <text fill=\"#0000EE\" x=\"0\" y=\"0\"  transform=\"matrix(0.59,0,0,0.100,175,44)\">C</text>\n",
       "  <text fill=\"#DD0000\" x=\"0\" y=\"0\"  transform=\"matrix(0.65,0,0,0.100,173.5,39)\">U</text>\n",
       "  <text fill=\"#F9A500\" x=\"0\" y=\"0\"  transform=\"matrix(0.55,0,0,0.700,175,34)\">G</text>\n",
       "  \n",
       "  <text fill=\"#0000EE\" x=\"0\" y=\"0\"  transform=\"matrix(0.59,0,0,0.100,200,49)\">C</text>\n",
       "  <text fill=\"#F9A500\" x=\"0\" y=\"0\"  transform=\"matrix(0.55,0,0,0.100,200,44)\">G</text>\n",
       "  <text fill=\"#DD0000\" x=\"0\" y=\"0\"  transform=\"matrix(0.65,0,0,0.100,198.5,39)\">U</text>\n",
       "  <text fill=\"#00BB00\" x=\"0\" y=\"0\"  transform=\"matrix(0.53,0,0,0.700,202,34)\">A</text>\n",
       "  \n",
       " </g>\n",
       "</svg>\n",
       "</TD><TD>1e-11</TD><TD>-2.752e+01</TD><TD>12.68%</TD><TD>7.43%</TD><TD>51.6bp (75.3bp)</TD><TD>hsa-miR-671-3p MIMAT0004819 Homo sapiens miR-671-3p Targets (miRBase)(0.650)<BR/><A target=\"_blank\" HREF=\"homerResults/motif14.info.html\">More Information</A> | <A target=\"blank\" HREF=\"homerResults/motif14.similar.html\">Similar Motifs Found</A></TD><TD><A target=\"_blank\" HREF=\"homerResults/motif14.motif\">motif file (matrix)</A></TD></TR>\n",
       "<TR><TD>15\n",
       "<FONT color=\"red\">*</FONT></TD><TD><svg width=\"230\" height=\"50\">\n",
       " <g font-family=\"Arial\" font-weight=\"bold\" font-size=\"66.5\">\n",
       "  <text fill=\"#0000EE\" x=\"0\" y=\"0\"  transform=\"matrix(0.59,0,0,0.001,0,49)\">C</text>\n",
       "  <text fill=\"#F9A500\" x=\"0\" y=\"0\"  transform=\"matrix(0.55,0,0,0.001,0,48.95)\">G</text>\n",
       "  <text fill=\"#00BB00\" x=\"0\" y=\"0\"  transform=\"matrix(0.53,0,0,0.278,2,48.9)\">A</text>\n",
       "  <text fill=\"#DD0000\" x=\"0\" y=\"0\"  transform=\"matrix(0.65,0,0,0.720,-1.5,35)\">U</text>\n",
       "  \n",
       "  <text fill=\"#0000EE\" x=\"0\" y=\"0\"  transform=\"matrix(0.59,0,0,0.001,25,49)\">C</text>\n",
       "  <text fill=\"#F9A500\" x=\"0\" y=\"0\"  transform=\"matrix(0.55,0,0,0.023,25,48.95)\">G</text>\n",
       "  <text fill=\"#00BB00\" x=\"0\" y=\"0\"  transform=\"matrix(0.53,0,0,0.026,27,47.8)\">A</text>\n",
       "  <text fill=\"#DD0000\" x=\"0\" y=\"0\"  transform=\"matrix(0.65,0,0,0.950,23.5,46.5)\">U</text>\n",
       "  \n",
       "  <text fill=\"#0000EE\" x=\"0\" y=\"0\"  transform=\"matrix(0.59,0,0,0.001,50,49)\">C</text>\n",
       "  <text fill=\"#F9A500\" x=\"0\" y=\"0\"  transform=\"matrix(0.55,0,0,0.001,50,48.95)\">G</text>\n",
       "  <text fill=\"#00BB00\" x=\"0\" y=\"0\"  transform=\"matrix(0.53,0,0,0.106,52,48.9)\">A</text>\n",
       "  <text fill=\"#DD0000\" x=\"0\" y=\"0\"  transform=\"matrix(0.65,0,0,0.892,48.5,43.6)\">U</text>\n",
       "  \n",
       "  <text fill=\"#F9A500\" x=\"0\" y=\"0\"  transform=\"matrix(0.55,0,0,0.009,75,49)\">G</text>\n",
       "  <text fill=\"#00BB00\" x=\"0\" y=\"0\"  transform=\"matrix(0.53,0,0,0.065,77,48.55)\">A</text>\n",
       "  <text fill=\"#0000EE\" x=\"0\" y=\"0\"  transform=\"matrix(0.59,0,0,0.081,75,45.3)\">C</text>\n",
       "  <text fill=\"#DD0000\" x=\"0\" y=\"0\"  transform=\"matrix(0.65,0,0,0.845,73.5,41.25)\">U</text>\n",
       "  \n",
       "  <text fill=\"#0000EE\" x=\"0\" y=\"0\"  transform=\"matrix(0.59,0,0,0.001,100,49)\">C</text>\n",
       "  <text fill=\"#DD0000\" x=\"0\" y=\"0\"  transform=\"matrix(0.65,0,0,0.055,98.5,48.95)\">U</text>\n",
       "  <text fill=\"#F9A500\" x=\"0\" y=\"0\"  transform=\"matrix(0.55,0,0,0.061,100,46.2)\">G</text>\n",
       "  <text fill=\"#00BB00\" x=\"0\" y=\"0\"  transform=\"matrix(0.53,0,0,0.883,102,43.15)\">A</text>\n",
       "  \n",
       "  <text fill=\"#00BB00\" x=\"0\" y=\"0\"  transform=\"matrix(0.53,0,0,0.001,127,49)\">A</text>\n",
       "  <text fill=\"#0000EE\" x=\"0\" y=\"0\"  transform=\"matrix(0.59,0,0,0.009,125,48.95)\">C</text>\n",
       "  <text fill=\"#DD0000\" x=\"0\" y=\"0\"  transform=\"matrix(0.65,0,0,0.026,123.5,48.5)\">U</text>\n",
       "  <text fill=\"#F9A500\" x=\"0\" y=\"0\"  transform=\"matrix(0.55,0,0,0.964,125,47.2)\">G</text>\n",
       "  \n",
       "  <text fill=\"#0000EE\" x=\"0\" y=\"0\"  transform=\"matrix(0.59,0,0,0.001,150,49)\">C</text>\n",
       "  <text fill=\"#F9A500\" x=\"0\" y=\"0\"  transform=\"matrix(0.55,0,0,0.001,150,48.95)\">G</text>\n",
       "  <text fill=\"#DD0000\" x=\"0\" y=\"0\"  transform=\"matrix(0.65,0,0,0.132,148.5,48.9)\">U</text>\n",
       "  <text fill=\"#00BB00\" x=\"0\" y=\"0\"  transform=\"matrix(0.53,0,0,0.866,152,42.3)\">A</text>\n",
       "  \n",
       "  <text fill=\"#0000EE\" x=\"0\" y=\"0\"  transform=\"matrix(0.59,0,0,0.001,175,49)\">C</text>\n",
       "  <text fill=\"#00BB00\" x=\"0\" y=\"0\"  transform=\"matrix(0.53,0,0,0.016,177,48.95)\">A</text>\n",
       "  <text fill=\"#DD0000\" x=\"0\" y=\"0\"  transform=\"matrix(0.65,0,0,0.079,173.5,48.15)\">U</text>\n",
       "  <text fill=\"#F9A500\" x=\"0\" y=\"0\"  transform=\"matrix(0.55,0,0,0.904,175,44.2)\">G</text>\n",
       "  \n",
       "  <text fill=\"#00BB00\" x=\"0\" y=\"0\"  transform=\"matrix(0.53,0,0,0.001,202,49)\">A</text>\n",
       "  <text fill=\"#F9A500\" x=\"0\" y=\"0\"  transform=\"matrix(0.55,0,0,0.001,200,48.95)\">G</text>\n",
       "  <text fill=\"#DD0000\" x=\"0\" y=\"0\"  transform=\"matrix(0.65,0,0,0.001,198.5,48.9)\">U</text>\n",
       "  <text fill=\"#0000EE\" x=\"0\" y=\"0\"  transform=\"matrix(0.59,0,0,0.997,200,48.85)\">C</text>\n",
       "  \n",
       " </g>\n",
       "</svg>\n",
       "</TD><TD>1e-10</TD><TD>-2.510e+01</TD><TD>3.03%</TD><TD>0.92%</TD><TD>54.2bp (65.7bp)</TD><TD>hsa-miR-18b* MIMAT0004751 Homo sapiens miR-18b* Targets (miRBase)(0.672)<BR/><A target=\"_blank\" HREF=\"homerResults/motif15.info.html\">More Information</A> | <A target=\"blank\" HREF=\"homerResults/motif15.similar.html\">Similar Motifs Found</A></TD><TD><A target=\"_blank\" HREF=\"homerResults/motif15.motif\">motif file (matrix)</A></TD></TR>\n",
       "<TR><TD>16\n",
       "<FONT color=\"red\">*</FONT></TD><TD><svg width=\"155\" height=\"50\">\n",
       " <g font-family=\"Arial\" font-weight=\"bold\" font-size=\"66.5\">\n",
       "  <text fill=\"#0000EE\" x=\"0\" y=\"0\"  transform=\"matrix(0.59,0,0,0.001,0,49)\">C</text>\n",
       "  <text fill=\"#F9A500\" x=\"0\" y=\"0\"  transform=\"matrix(0.55,0,0,0.001,0,48.95)\">G</text>\n",
       "  <text fill=\"#00BB00\" x=\"0\" y=\"0\"  transform=\"matrix(0.53,0,0,0.124,2,48.9)\">A</text>\n",
       "  <text fill=\"#DD0000\" x=\"0\" y=\"0\"  transform=\"matrix(0.65,0,0,0.874,-1.5,42.7)\">U</text>\n",
       "  \n",
       "  <text fill=\"#F9A500\" x=\"0\" y=\"0\"  transform=\"matrix(0.55,0,0,0.001,25,49)\">G</text>\n",
       "  <text fill=\"#DD0000\" x=\"0\" y=\"0\"  transform=\"matrix(0.65,0,0,0.001,23.5,48.95)\">U</text>\n",
       "  <text fill=\"#0000EE\" x=\"0\" y=\"0\"  transform=\"matrix(0.59,0,0,0.111,25,48.9)\">C</text>\n",
       "  <text fill=\"#00BB00\" x=\"0\" y=\"0\"  transform=\"matrix(0.53,0,0,0.887,27,43.35)\">A</text>\n",
       "  \n",
       "  <text fill=\"#00BB00\" x=\"0\" y=\"0\"  transform=\"matrix(0.53,0,0,0.001,52,49)\">A</text>\n",
       "  <text fill=\"#F9A500\" x=\"0\" y=\"0\"  transform=\"matrix(0.55,0,0,0.001,50,48.95)\">G</text>\n",
       "  <text fill=\"#DD0000\" x=\"0\" y=\"0\"  transform=\"matrix(0.65,0,0,0.179,48.5,48.9)\">U</text>\n",
       "  <text fill=\"#0000EE\" x=\"0\" y=\"0\"  transform=\"matrix(0.59,0,0,0.819,50,39.95)\">C</text>\n",
       "  \n",
       "  <text fill=\"#0000EE\" x=\"0\" y=\"0\"  transform=\"matrix(0.59,0,0,0.001,75,49)\">C</text>\n",
       "  <text fill=\"#F9A500\" x=\"0\" y=\"0\"  transform=\"matrix(0.55,0,0,0.001,75,48.95)\">G</text>\n",
       "  <text fill=\"#00BB00\" x=\"0\" y=\"0\"  transform=\"matrix(0.53,0,0,0.112,77,48.9)\">A</text>\n",
       "  <text fill=\"#DD0000\" x=\"0\" y=\"0\"  transform=\"matrix(0.65,0,0,0.886,73.5,43.3)\">U</text>\n",
       "  \n",
       "  <text fill=\"#0000EE\" x=\"0\" y=\"0\"  transform=\"matrix(0.59,0,0,0.001,100,49)\">C</text>\n",
       "  <text fill=\"#F9A500\" x=\"0\" y=\"0\"  transform=\"matrix(0.55,0,0,0.001,100,48.95)\">G</text>\n",
       "  <text fill=\"#DD0000\" x=\"0\" y=\"0\"  transform=\"matrix(0.65,0,0,0.125,98.5,48.9)\">U</text>\n",
       "  <text fill=\"#00BB00\" x=\"0\" y=\"0\"  transform=\"matrix(0.53,0,0,0.873,102,42.65)\">A</text>\n",
       "  \n",
       "  <text fill=\"#00BB00\" x=\"0\" y=\"0\"  transform=\"matrix(0.53,0,0,0.001,127,49)\">A</text>\n",
       "  <text fill=\"#F9A500\" x=\"0\" y=\"0\"  transform=\"matrix(0.55,0,0,0.001,125,48.95)\">G</text>\n",
       "  <text fill=\"#DD0000\" x=\"0\" y=\"0\"  transform=\"matrix(0.65,0,0,0.001,123.5,48.9)\">U</text>\n",
       "  <text fill=\"#0000EE\" x=\"0\" y=\"0\"  transform=\"matrix(0.59,0,0,0.997,125,48.85)\">C</text>\n",
       "  \n",
       " </g>\n",
       "</svg>\n",
       "</TD><TD>1e-10</TD><TD>-2.476e+01</TD><TD>24.34%</TD><TD>17.49%</TD><TD>53.8bp (68.9bp)</TD><TD>hsa-miR-20b* MIMAT0004752 Homo sapiens miR-20b* Targets (miRBase)(0.712)<BR/><A target=\"_blank\" HREF=\"homerResults/motif16.info.html\">More Information</A> | <A target=\"blank\" HREF=\"homerResults/motif16.similar.html\">Similar Motifs Found</A></TD><TD><A target=\"_blank\" HREF=\"homerResults/motif16.motif\">motif file (matrix)</A></TD></TR>\n",
       "<TR><TD>17\n",
       "<FONT color=\"red\">*</FONT></TD><TD><svg width=\"205\" height=\"50\">\n",
       " <g font-family=\"Arial\" font-weight=\"bold\" font-size=\"66.5\">\n",
       "  <text fill=\"#00BB00\" x=\"0\" y=\"0\"  transform=\"matrix(0.53,0,0,0.001,2,49)\">A</text>\n",
       "  <text fill=\"#F9A500\" x=\"0\" y=\"0\"  transform=\"matrix(0.55,0,0,0.001,0,48.95)\">G</text>\n",
       "  <text fill=\"#DD0000\" x=\"0\" y=\"0\"  transform=\"matrix(0.65,0,0,0.065,-1.5,48.9)\">U</text>\n",
       "  <text fill=\"#0000EE\" x=\"0\" y=\"0\"  transform=\"matrix(0.59,0,0,0.933,0,45.65)\">C</text>\n",
       "  \n",
       "  <text fill=\"#F9A500\" x=\"0\" y=\"0\"  transform=\"matrix(0.55,0,0,0.001,25,49)\">G</text>\n",
       "  <text fill=\"#DD0000\" x=\"0\" y=\"0\"  transform=\"matrix(0.65,0,0,0.069,23.5,48.95)\">U</text>\n",
       "  <text fill=\"#0000EE\" x=\"0\" y=\"0\"  transform=\"matrix(0.59,0,0,0.093,25,45.5)\">C</text>\n",
       "  <text fill=\"#00BB00\" x=\"0\" y=\"0\"  transform=\"matrix(0.53,0,0,0.837,27,40.85)\">A</text>\n",
       "  \n",
       "  <text fill=\"#DD0000\" x=\"0\" y=\"0\"  transform=\"matrix(0.65,0,0,0.001,48.5,49)\">U</text>\n",
       "  <text fill=\"#0000EE\" x=\"0\" y=\"0\"  transform=\"matrix(0.59,0,0,0.031,50,48.95)\">C</text>\n",
       "  <text fill=\"#F9A500\" x=\"0\" y=\"0\"  transform=\"matrix(0.55,0,0,0.063,50,47.4)\">G</text>\n",
       "  <text fill=\"#00BB00\" x=\"0\" y=\"0\"  transform=\"matrix(0.53,0,0,0.905,52,44.25)\">A</text>\n",
       "  \n",
       "  <text fill=\"#00BB00\" x=\"0\" y=\"0\"  transform=\"matrix(0.53,0,0,0.001,77,49)\">A</text>\n",
       "  <text fill=\"#DD0000\" x=\"0\" y=\"0\"  transform=\"matrix(0.65,0,0,0.006,73.5,48.95)\">U</text>\n",
       "  <text fill=\"#F9A500\" x=\"0\" y=\"0\"  transform=\"matrix(0.55,0,0,0.031,75,48.65)\">G</text>\n",
       "  <text fill=\"#0000EE\" x=\"0\" y=\"0\"  transform=\"matrix(0.59,0,0,0.962,75,47.1)\">C</text>\n",
       "  \n",
       "  <text fill=\"#F9A500\" x=\"0\" y=\"0\"  transform=\"matrix(0.55,0,0,0.019,100,49)\">G</text>\n",
       "  <text fill=\"#0000EE\" x=\"0\" y=\"0\"  transform=\"matrix(0.59,0,0,0.044,100,48.05)\">C</text>\n",
       "  <text fill=\"#DD0000\" x=\"0\" y=\"0\"  transform=\"matrix(0.65,0,0,0.052,98.5,45.85)\">U</text>\n",
       "  <text fill=\"#00BB00\" x=\"0\" y=\"0\"  transform=\"matrix(0.53,0,0,0.885,102,43.25)\">A</text>\n",
       "  \n",
       "  <text fill=\"#00BB00\" x=\"0\" y=\"0\"  transform=\"matrix(0.53,0,0,0.001,127,49)\">A</text>\n",
       "  <text fill=\"#DD0000\" x=\"0\" y=\"0\"  transform=\"matrix(0.65,0,0,0.069,123.5,48.95)\">U</text>\n",
       "  <text fill=\"#0000EE\" x=\"0\" y=\"0\"  transform=\"matrix(0.59,0,0,0.154,125,45.5)\">C</text>\n",
       "  <text fill=\"#F9A500\" x=\"0\" y=\"0\"  transform=\"matrix(0.55,0,0,0.776,125,37.8)\">G</text>\n",
       "  \n",
       "  <text fill=\"#00BB00\" x=\"0\" y=\"0\"  transform=\"matrix(0.53,0,0,0.001,152,49)\">A</text>\n",
       "  <text fill=\"#DD0000\" x=\"0\" y=\"0\"  transform=\"matrix(0.65,0,0,0.001,148.5,48.95)\">U</text>\n",
       "  <text fill=\"#F9A500\" x=\"0\" y=\"0\"  transform=\"matrix(0.55,0,0,0.032,150,48.9)\">G</text>\n",
       "  <text fill=\"#0000EE\" x=\"0\" y=\"0\"  transform=\"matrix(0.59,0,0,0.966,150,47.3)\">C</text>\n",
       "  \n",
       "  <text fill=\"#F9A500\" x=\"0\" y=\"0\"  transform=\"matrix(0.55,0,0,0.001,175,49)\">G</text>\n",
       "  <text fill=\"#00BB00\" x=\"0\" y=\"0\"  transform=\"matrix(0.53,0,0,0.062,177,48.95)\">A</text>\n",
       "  <text fill=\"#DD0000\" x=\"0\" y=\"0\"  transform=\"matrix(0.65,0,0,0.178,173.5,45.85)\">U</text>\n",
       "  <text fill=\"#0000EE\" x=\"0\" y=\"0\"  transform=\"matrix(0.59,0,0,0.759,175,36.95)\">C</text>\n",
       "  \n",
       " </g>\n",
       "</svg>\n",
       "</TD><TD>1e-10</TD><TD>-2.432e+01</TD><TD>9.78%</TD><TD>5.48%</TD><TD>50.3bp (67.0bp)</TD><TD>hsa-miR-4687-3p MIMAT0019775 Homo sapiens miR-4687-3p Targets (miRBase)(0.844)<BR/><A target=\"_blank\" HREF=\"homerResults/motif17.info.html\">More Information</A> | <A target=\"blank\" HREF=\"homerResults/motif17.similar.html\">Similar Motifs Found</A></TD><TD><A target=\"_blank\" HREF=\"homerResults/motif17.motif\">motif file (matrix)</A></TD></TR>\n",
       "<TR><TD>18\n",
       "<FONT color=\"red\">*</FONT></TD><TD><svg width=\"230\" height=\"50\">\n",
       " <g font-family=\"Arial\" font-weight=\"bold\" font-size=\"66.5\">\n",
       "  <text fill=\"#00BB00\" x=\"0\" y=\"0\"  transform=\"matrix(0.53,0,0,0.001,2,49)\">A</text>\n",
       "  <text fill=\"#0000EE\" x=\"0\" y=\"0\"  transform=\"matrix(0.59,0,0,0.001,0,48.95)\">C</text>\n",
       "  <text fill=\"#DD0000\" x=\"0\" y=\"0\"  transform=\"matrix(0.65,0,0,0.001,-1.5,48.9)\">U</text>\n",
       "  <text fill=\"#F9A500\" x=\"0\" y=\"0\"  transform=\"matrix(0.55,0,0,0.997,0,48.85)\">G</text>\n",
       "  \n",
       "  <text fill=\"#00BB00\" x=\"0\" y=\"0\"  transform=\"matrix(0.53,0,0,0.001,27,49)\">A</text>\n",
       "  <text fill=\"#0000EE\" x=\"0\" y=\"0\"  transform=\"matrix(0.59,0,0,0.001,25,48.95)\">C</text>\n",
       "  <text fill=\"#DD0000\" x=\"0\" y=\"0\"  transform=\"matrix(0.65,0,0,0.001,23.5,48.9)\">U</text>\n",
       "  <text fill=\"#F9A500\" x=\"0\" y=\"0\"  transform=\"matrix(0.55,0,0,0.997,25,48.85)\">G</text>\n",
       "  \n",
       "  <text fill=\"#00BB00\" x=\"0\" y=\"0\"  transform=\"matrix(0.53,0,0,0.001,52,49)\">A</text>\n",
       "  <text fill=\"#0000EE\" x=\"0\" y=\"0\"  transform=\"matrix(0.59,0,0,0.001,50,48.95)\">C</text>\n",
       "  <text fill=\"#F9A500\" x=\"0\" y=\"0\"  transform=\"matrix(0.55,0,0,0.001,50,48.9)\">G</text>\n",
       "  <text fill=\"#DD0000\" x=\"0\" y=\"0\"  transform=\"matrix(0.65,0,0,0.997,48.5,48.85)\">U</text>\n",
       "  \n",
       "  <text fill=\"#F9A500\" x=\"0\" y=\"0\"  transform=\"matrix(0.55,0,0,0.001,75,49)\">G</text>\n",
       "  <text fill=\"#DD0000\" x=\"0\" y=\"0\"  transform=\"matrix(0.65,0,0,0.001,73.5,48.95)\">U</text>\n",
       "  <text fill=\"#00BB00\" x=\"0\" y=\"0\"  transform=\"matrix(0.53,0,0,0.294,77,48.9)\">A</text>\n",
       "  <text fill=\"#0000EE\" x=\"0\" y=\"0\"  transform=\"matrix(0.59,0,0,0.704,75,34.2)\">C</text>\n",
       "  \n",
       "  <text fill=\"#00BB00\" x=\"0\" y=\"0\"  transform=\"matrix(0.53,0,0,0.001,102,49)\">A</text>\n",
       "  <text fill=\"#0000EE\" x=\"0\" y=\"0\"  transform=\"matrix(0.59,0,0,0.001,100,48.95)\">C</text>\n",
       "  <text fill=\"#DD0000\" x=\"0\" y=\"0\"  transform=\"matrix(0.65,0,0,0.001,98.5,48.9)\">U</text>\n",
       "  <text fill=\"#F9A500\" x=\"0\" y=\"0\"  transform=\"matrix(0.55,0,0,0.997,100,48.85)\">G</text>\n",
       "  \n",
       "  <text fill=\"#0000EE\" x=\"0\" y=\"0\"  transform=\"matrix(0.59,0,0,0.001,125,49)\">C</text>\n",
       "  <text fill=\"#F9A500\" x=\"0\" y=\"0\"  transform=\"matrix(0.55,0,0,0.001,125,48.95)\">G</text>\n",
       "  <text fill=\"#DD0000\" x=\"0\" y=\"0\"  transform=\"matrix(0.65,0,0,0.001,123.5,48.9)\">U</text>\n",
       "  <text fill=\"#00BB00\" x=\"0\" y=\"0\"  transform=\"matrix(0.53,0,0,0.997,127,48.85)\">A</text>\n",
       "  \n",
       "  <text fill=\"#00BB00\" x=\"0\" y=\"0\"  transform=\"matrix(0.53,0,0,0.001,152,49)\">A</text>\n",
       "  <text fill=\"#0000EE\" x=\"0\" y=\"0\"  transform=\"matrix(0.59,0,0,0.001,150,48.95)\">C</text>\n",
       "  <text fill=\"#DD0000\" x=\"0\" y=\"0\"  transform=\"matrix(0.65,0,0,0.001,148.5,48.9)\">U</text>\n",
       "  <text fill=\"#F9A500\" x=\"0\" y=\"0\"  transform=\"matrix(0.55,0,0,0.997,150,48.85)\">G</text>\n",
       "  \n",
       "  <text fill=\"#00BB00\" x=\"0\" y=\"0\"  transform=\"matrix(0.53,0,0,0.001,177,49)\">A</text>\n",
       "  <text fill=\"#F9A500\" x=\"0\" y=\"0\"  transform=\"matrix(0.55,0,0,0.001,175,48.95)\">G</text>\n",
       "  <text fill=\"#DD0000\" x=\"0\" y=\"0\"  transform=\"matrix(0.65,0,0,0.001,173.5,48.9)\">U</text>\n",
       "  <text fill=\"#0000EE\" x=\"0\" y=\"0\"  transform=\"matrix(0.59,0,0,0.997,175,48.85)\">C</text>\n",
       "  \n",
       "  <text fill=\"#0000EE\" x=\"0\" y=\"0\"  transform=\"matrix(0.59,0,0,0.001,200,49)\">C</text>\n",
       "  <text fill=\"#DD0000\" x=\"0\" y=\"0\"  transform=\"matrix(0.65,0,0,0.016,198.5,48.95)\">U</text>\n",
       "  <text fill=\"#F9A500\" x=\"0\" y=\"0\"  transform=\"matrix(0.55,0,0,0.288,200,48.15)\">G</text>\n",
       "  <text fill=\"#00BB00\" x=\"0\" y=\"0\"  transform=\"matrix(0.53,0,0,0.695,202,33.75)\">A</text>\n",
       "  \n",
       " </g>\n",
       "</svg>\n",
       "</TD><TD>1e-10</TD><TD>-2.417e+01</TD><TD>1.01%</TD><TD>0.09%</TD><TD>35.1bp (69.0bp)</TD><TD>hsa-miR-369-5p MIMAT0001621 Homo sapiens miR-369-5p Targets (miRBase)(0.645)<BR/><A target=\"_blank\" HREF=\"homerResults/motif18.info.html\">More Information</A> | <A target=\"blank\" HREF=\"homerResults/motif18.similar.html\">Similar Motifs Found</A></TD><TD><A target=\"_blank\" HREF=\"homerResults/motif18.motif\">motif file (matrix)</A></TD></TR>\n",
       "<TR><TD>19\n",
       "<FONT color=\"red\">*</FONT></TD><TD><svg width=\"230\" height=\"50\">\n",
       " <g font-family=\"Arial\" font-weight=\"bold\" font-size=\"66.5\">\n",
       "  <text fill=\"#0000EE\" x=\"0\" y=\"0\"  transform=\"matrix(0.59,0,0,0.001,0,49)\">C</text>\n",
       "  <text fill=\"#F9A500\" x=\"0\" y=\"0\"  transform=\"matrix(0.55,0,0,0.001,0,48.95)\">G</text>\n",
       "  <text fill=\"#DD0000\" x=\"0\" y=\"0\"  transform=\"matrix(0.65,0,0,0.001,-1.5,48.9)\">U</text>\n",
       "  <text fill=\"#00BB00\" x=\"0\" y=\"0\"  transform=\"matrix(0.53,0,0,0.997,2,48.85)\">A</text>\n",
       "  \n",
       "  <text fill=\"#00BB00\" x=\"0\" y=\"0\"  transform=\"matrix(0.53,0,0,0.001,27,49)\">A</text>\n",
       "  <text fill=\"#DD0000\" x=\"0\" y=\"0\"  transform=\"matrix(0.65,0,0,0.001,23.5,48.95)\">U</text>\n",
       "  <text fill=\"#0000EE\" x=\"0\" y=\"0\"  transform=\"matrix(0.59,0,0,0.077,25,48.9)\">C</text>\n",
       "  <text fill=\"#F9A500\" x=\"0\" y=\"0\"  transform=\"matrix(0.55,0,0,0.921,25,45.05)\">G</text>\n",
       "  \n",
       "  <text fill=\"#00BB00\" x=\"0\" y=\"0\"  transform=\"matrix(0.53,0,0,0.001,52,49)\">A</text>\n",
       "  <text fill=\"#F9A500\" x=\"0\" y=\"0\"  transform=\"matrix(0.55,0,0,0.051,50,48.95)\">G</text>\n",
       "  <text fill=\"#0000EE\" x=\"0\" y=\"0\"  transform=\"matrix(0.59,0,0,0.074,50,46.4)\">C</text>\n",
       "  <text fill=\"#DD0000\" x=\"0\" y=\"0\"  transform=\"matrix(0.65,0,0,0.874,48.5,42.7)\">U</text>\n",
       "  \n",
       "  <text fill=\"#0000EE\" x=\"0\" y=\"0\"  transform=\"matrix(0.59,0,0,0.001,75,49)\">C</text>\n",
       "  <text fill=\"#F9A500\" x=\"0\" y=\"0\"  transform=\"matrix(0.55,0,0,0.001,75,48.95)\">G</text>\n",
       "  <text fill=\"#DD0000\" x=\"0\" y=\"0\"  transform=\"matrix(0.65,0,0,0.072,73.5,48.9)\">U</text>\n",
       "  <text fill=\"#00BB00\" x=\"0\" y=\"0\"  transform=\"matrix(0.53,0,0,0.926,77,45.3)\">A</text>\n",
       "  \n",
       "  <text fill=\"#00BB00\" x=\"0\" y=\"0\"  transform=\"matrix(0.53,0,0,0.001,102,49)\">A</text>\n",
       "  <text fill=\"#DD0000\" x=\"0\" y=\"0\"  transform=\"matrix(0.65,0,0,0.001,98.5,48.95)\">U</text>\n",
       "  <text fill=\"#F9A500\" x=\"0\" y=\"0\"  transform=\"matrix(0.55,0,0,0.093,100,48.9)\">G</text>\n",
       "  <text fill=\"#0000EE\" x=\"0\" y=\"0\"  transform=\"matrix(0.59,0,0,0.905,100,44.25)\">C</text>\n",
       "  \n",
       "  <text fill=\"#F9A500\" x=\"0\" y=\"0\"  transform=\"matrix(0.55,0,0,0.001,125,49)\">G</text>\n",
       "  <text fill=\"#0000EE\" x=\"0\" y=\"0\"  transform=\"matrix(0.59,0,0,0.076,125,48.95)\">C</text>\n",
       "  <text fill=\"#DD0000\" x=\"0\" y=\"0\"  transform=\"matrix(0.65,0,0,0.137,123.5,45.15)\">U</text>\n",
       "  <text fill=\"#00BB00\" x=\"0\" y=\"0\"  transform=\"matrix(0.53,0,0,0.786,127,38.3)\">A</text>\n",
       "  \n",
       "  <text fill=\"#F9A500\" x=\"0\" y=\"0\"  transform=\"matrix(0.55,0,0,0.019,150,49)\">G</text>\n",
       "  <text fill=\"#00BB00\" x=\"0\" y=\"0\"  transform=\"matrix(0.53,0,0,0.042,152,48.05)\">A</text>\n",
       "  <text fill=\"#DD0000\" x=\"0\" y=\"0\"  transform=\"matrix(0.65,0,0,0.138,148.5,45.95)\">U</text>\n",
       "  <text fill=\"#0000EE\" x=\"0\" y=\"0\"  transform=\"matrix(0.59,0,0,0.801,150,39.05)\">C</text>\n",
       "  \n",
       "  <text fill=\"#0000EE\" x=\"0\" y=\"0\"  transform=\"matrix(0.59,0,0,0.001,175,49)\">C</text>\n",
       "  <text fill=\"#DD0000\" x=\"0\" y=\"0\"  transform=\"matrix(0.65,0,0,0.052,173.5,48.95)\">U</text>\n",
       "  <text fill=\"#00BB00\" x=\"0\" y=\"0\"  transform=\"matrix(0.53,0,0,0.080,177,46.35)\">A</text>\n",
       "  <text fill=\"#F9A500\" x=\"0\" y=\"0\"  transform=\"matrix(0.55,0,0,0.867,175,42.35)\">G</text>\n",
       "  \n",
       "  <text fill=\"#00BB00\" x=\"0\" y=\"0\"  transform=\"matrix(0.53,0,0,0.001,202,49)\">A</text>\n",
       "  <text fill=\"#F9A500\" x=\"0\" y=\"0\"  transform=\"matrix(0.55,0,0,0.001,200,48.95)\">G</text>\n",
       "  <text fill=\"#DD0000\" x=\"0\" y=\"0\"  transform=\"matrix(0.65,0,0,0.001,198.5,48.9)\">U</text>\n",
       "  <text fill=\"#0000EE\" x=\"0\" y=\"0\"  transform=\"matrix(0.59,0,0,0.997,200,48.85)\">C</text>\n",
       "  \n",
       " </g>\n",
       "</svg>\n",
       "</TD><TD>1e-10</TD><TD>-2.335e+01</TD><TD>1.42%</TD><TD>0.23%</TD><TD>53.6bp (68.4bp)</TD><TD>hsa-miR-223* MIMAT0004570 Homo sapiens miR-223* Targets (miRBase)(0.630)<BR/><A target=\"_blank\" HREF=\"homerResults/motif19.info.html\">More Information</A> | <A target=\"blank\" HREF=\"homerResults/motif19.similar.html\">Similar Motifs Found</A></TD><TD><A target=\"_blank\" HREF=\"homerResults/motif19.motif\">motif file (matrix)</A></TD></TR>\n",
       "<TR><TD>20\n",
       "<FONT color=\"red\">*</FONT></TD><TD><svg width=\"180\" height=\"50\">\n",
       " <g font-family=\"Arial\" font-weight=\"bold\" font-size=\"66.5\">\n",
       "  <text fill=\"#0000EE\" x=\"0\" y=\"0\"  transform=\"matrix(0.59,0,0,0.001,0,49)\">C</text>\n",
       "  <text fill=\"#F9A500\" x=\"0\" y=\"0\"  transform=\"matrix(0.55,0,0,0.051,0,48.95)\">G</text>\n",
       "  <text fill=\"#00BB00\" x=\"0\" y=\"0\"  transform=\"matrix(0.53,0,0,0.065,2,46.4)\">A</text>\n",
       "  <text fill=\"#DD0000\" x=\"0\" y=\"0\"  transform=\"matrix(0.65,0,0,0.883,-1.5,43.15)\">U</text>\n",
       "  \n",
       "  <text fill=\"#00BB00\" x=\"0\" y=\"0\"  transform=\"matrix(0.53,0,0,0.001,27,49)\">A</text>\n",
       "  <text fill=\"#0000EE\" x=\"0\" y=\"0\"  transform=\"matrix(0.59,0,0,0.039,25,48.95)\">C</text>\n",
       "  <text fill=\"#DD0000\" x=\"0\" y=\"0\"  transform=\"matrix(0.65,0,0,0.110,23.5,47)\">U</text>\n",
       "  <text fill=\"#F9A500\" x=\"0\" y=\"0\"  transform=\"matrix(0.55,0,0,0.850,25,41.5)\">G</text>\n",
       "  \n",
       "  <text fill=\"#DD0000\" x=\"0\" y=\"0\"  transform=\"matrix(0.65,0,0,0.001,48.5,49)\">U</text>\n",
       "  <text fill=\"#F9A500\" x=\"0\" y=\"0\"  transform=\"matrix(0.55,0,0,0.057,50,48.95)\">G</text>\n",
       "  <text fill=\"#00BB00\" x=\"0\" y=\"0\"  transform=\"matrix(0.53,0,0,0.133,52,46.1)\">A</text>\n",
       "  <text fill=\"#0000EE\" x=\"0\" y=\"0\"  transform=\"matrix(0.59,0,0,0.809,50,39.45)\">C</text>\n",
       "  \n",
       "  <text fill=\"#00BB00\" x=\"0\" y=\"0\"  transform=\"matrix(0.53,0,0,0.001,77,49)\">A</text>\n",
       "  <text fill=\"#F9A500\" x=\"0\" y=\"0\"  transform=\"matrix(0.55,0,0,0.035,75,48.95)\">G</text>\n",
       "  <text fill=\"#0000EE\" x=\"0\" y=\"0\"  transform=\"matrix(0.59,0,0,0.052,75,47.2)\">C</text>\n",
       "  <text fill=\"#DD0000\" x=\"0\" y=\"0\"  transform=\"matrix(0.65,0,0,0.912,73.5,44.6)\">U</text>\n",
       "  \n",
       "  <text fill=\"#00BB00\" x=\"0\" y=\"0\"  transform=\"matrix(0.53,0,0,0.001,102,49)\">A</text>\n",
       "  <text fill=\"#0000EE\" x=\"0\" y=\"0\"  transform=\"matrix(0.59,0,0,0.048,100,48.95)\">C</text>\n",
       "  <text fill=\"#F9A500\" x=\"0\" y=\"0\"  transform=\"matrix(0.55,0,0,0.071,100,46.55)\">G</text>\n",
       "  <text fill=\"#DD0000\" x=\"0\" y=\"0\"  transform=\"matrix(0.65,0,0,0.880,98.5,43)\">U</text>\n",
       "  \n",
       "  <text fill=\"#00BB00\" x=\"0\" y=\"0\"  transform=\"matrix(0.53,0,0,0.001,127,49)\">A</text>\n",
       "  <text fill=\"#0000EE\" x=\"0\" y=\"0\"  transform=\"matrix(0.59,0,0,0.001,125,48.95)\">C</text>\n",
       "  <text fill=\"#F9A500\" x=\"0\" y=\"0\"  transform=\"matrix(0.55,0,0,0.080,125,48.9)\">G</text>\n",
       "  <text fill=\"#DD0000\" x=\"0\" y=\"0\"  transform=\"matrix(0.65,0,0,0.918,123.5,44.9)\">U</text>\n",
       "  \n",
       "  <text fill=\"#00BB00\" x=\"0\" y=\"0\"  transform=\"matrix(0.53,0,0,0.001,152,49)\">A</text>\n",
       "  <text fill=\"#0000EE\" x=\"0\" y=\"0\"  transform=\"matrix(0.59,0,0,0.060,150,48.95)\">C</text>\n",
       "  <text fill=\"#F9A500\" x=\"0\" y=\"0\"  transform=\"matrix(0.55,0,0,0.125,150,45.95)\">G</text>\n",
       "  <text fill=\"#DD0000\" x=\"0\" y=\"0\"  transform=\"matrix(0.65,0,0,0.814,148.5,39.7)\">U</text>\n",
       "  \n",
       " </g>\n",
       "</svg>\n",
       "</TD><TD>1e-9</TD><TD>-2.180e+01</TD><TD>47.67%</TD><TD>39.73%</TD><TD>63.9bp (63.4bp)</TD><TD>hsa-miR-4422 MIMAT0018935 Homo sapiens miR-4422 Targets (miRBase)(0.796)<BR/><A target=\"_blank\" HREF=\"homerResults/motif20.info.html\">More Information</A> | <A target=\"blank\" HREF=\"homerResults/motif20.similar.html\">Similar Motifs Found</A></TD><TD><A target=\"_blank\" HREF=\"homerResults/motif20.motif\">motif file (matrix)</A></TD></TR>\n",
       "<TR><TD>21\n",
       "<FONT color=\"red\">*</FONT></TD><TD><svg width=\"155\" height=\"50\">\n",
       " <g font-family=\"Arial\" font-weight=\"bold\" font-size=\"66.5\">\n",
       "  <text fill=\"#00BB00\" x=\"0\" y=\"0\"  transform=\"matrix(0.53,0,0,0.001,2,49)\">A</text>\n",
       "  <text fill=\"#F9A500\" x=\"0\" y=\"0\"  transform=\"matrix(0.55,0,0,0.001,0,48.95)\">G</text>\n",
       "  <text fill=\"#DD0000\" x=\"0\" y=\"0\"  transform=\"matrix(0.65,0,0,0.001,-1.5,48.9)\">U</text>\n",
       "  <text fill=\"#0000EE\" x=\"0\" y=\"0\"  transform=\"matrix(0.59,0,0,0.997,0,48.85)\">C</text>\n",
       "  \n",
       "  <text fill=\"#F9A500\" x=\"0\" y=\"0\"  transform=\"matrix(0.55,0,0,0.001,25,49)\">G</text>\n",
       "  <text fill=\"#DD0000\" x=\"0\" y=\"0\"  transform=\"matrix(0.65,0,0,0.001,23.5,48.95)\">U</text>\n",
       "  <text fill=\"#00BB00\" x=\"0\" y=\"0\"  transform=\"matrix(0.53,0,0,0.176,27,48.9)\">A</text>\n",
       "  <text fill=\"#0000EE\" x=\"0\" y=\"0\"  transform=\"matrix(0.59,0,0,0.822,25,40.1)\">C</text>\n",
       "  \n",
       "  <text fill=\"#00BB00\" x=\"0\" y=\"0\"  transform=\"matrix(0.53,0,0,0.001,52,49)\">A</text>\n",
       "  <text fill=\"#F9A500\" x=\"0\" y=\"0\"  transform=\"matrix(0.55,0,0,0.001,50,48.95)\">G</text>\n",
       "  <text fill=\"#DD0000\" x=\"0\" y=\"0\"  transform=\"matrix(0.65,0,0,0.001,48.5,48.9)\">U</text>\n",
       "  <text fill=\"#0000EE\" x=\"0\" y=\"0\"  transform=\"matrix(0.59,0,0,0.997,50,48.85)\">C</text>\n",
       "  \n",
       "  <text fill=\"#00BB00\" x=\"0\" y=\"0\"  transform=\"matrix(0.53,0,0,0.001,77,49)\">A</text>\n",
       "  <text fill=\"#DD0000\" x=\"0\" y=\"0\"  transform=\"matrix(0.65,0,0,0.001,73.5,48.95)\">U</text>\n",
       "  <text fill=\"#F9A500\" x=\"0\" y=\"0\"  transform=\"matrix(0.55,0,0,0.117,75,48.9)\">G</text>\n",
       "  <text fill=\"#0000EE\" x=\"0\" y=\"0\"  transform=\"matrix(0.59,0,0,0.881,75,43.05)\">C</text>\n",
       "  \n",
       "  <text fill=\"#00BB00\" x=\"0\" y=\"0\"  transform=\"matrix(0.53,0,0,0.001,102,49)\">A</text>\n",
       "  <text fill=\"#F9A500\" x=\"0\" y=\"0\"  transform=\"matrix(0.55,0,0,0.001,100,48.95)\">G</text>\n",
       "  <text fill=\"#DD0000\" x=\"0\" y=\"0\"  transform=\"matrix(0.65,0,0,0.181,98.5,48.9)\">U</text>\n",
       "  <text fill=\"#0000EE\" x=\"0\" y=\"0\"  transform=\"matrix(0.59,0,0,0.817,100,39.85)\">C</text>\n",
       "  \n",
       "  <text fill=\"#00BB00\" x=\"0\" y=\"0\"  transform=\"matrix(0.53,0,0,0.001,127,49)\">A</text>\n",
       "  <text fill=\"#F9A500\" x=\"0\" y=\"0\"  transform=\"matrix(0.55,0,0,0.001,125,48.95)\">G</text>\n",
       "  <text fill=\"#0000EE\" x=\"0\" y=\"0\"  transform=\"matrix(0.59,0,0,0.173,125,48.9)\">C</text>\n",
       "  <text fill=\"#DD0000\" x=\"0\" y=\"0\"  transform=\"matrix(0.65,0,0,0.825,123.5,40.25)\">U</text>\n",
       "  \n",
       " </g>\n",
       "</svg>\n",
       "</TD><TD>1e-9</TD><TD>-2.121e+01</TD><TD>20.16%</TD><TD>14.33%</TD><TD>58.3bp (65.1bp)</TD><TD>hsa-miR-4278 MIMAT0016910 Homo sapiens miR-4278 Targets (miRBase)(0.812)<BR/><A target=\"_blank\" HREF=\"homerResults/motif21.info.html\">More Information</A> | <A target=\"blank\" HREF=\"homerResults/motif21.similar.html\">Similar Motifs Found</A></TD><TD><A target=\"_blank\" HREF=\"homerResults/motif21.motif\">motif file (matrix)</A></TD></TR>\n",
       "<TR><TD>22\n",
       "<FONT color=\"red\">*</FONT></TD><TD><svg width=\"230\" height=\"50\">\n",
       " <g font-family=\"Arial\" font-weight=\"bold\" font-size=\"66.5\">\n",
       "  <text fill=\"#0000EE\" x=\"0\" y=\"0\"  transform=\"matrix(0.59,0,0,0.001,0,49)\">C</text>\n",
       "  <text fill=\"#F9A500\" x=\"0\" y=\"0\"  transform=\"matrix(0.55,0,0,0.001,0,48.95)\">G</text>\n",
       "  <text fill=\"#00BB00\" x=\"0\" y=\"0\"  transform=\"matrix(0.53,0,0,0.052,2,48.9)\">A</text>\n",
       "  <text fill=\"#DD0000\" x=\"0\" y=\"0\"  transform=\"matrix(0.65,0,0,0.946,-1.5,46.3)\">U</text>\n",
       "  \n",
       "  <text fill=\"#0000EE\" x=\"0\" y=\"0\"  transform=\"matrix(0.59,0,0,0.001,25,49)\">C</text>\n",
       "  <text fill=\"#F9A500\" x=\"0\" y=\"0\"  transform=\"matrix(0.55,0,0,0.099,25,48.95)\">G</text>\n",
       "  <text fill=\"#DD0000\" x=\"0\" y=\"0\"  transform=\"matrix(0.65,0,0,0.148,23.5,44)\">U</text>\n",
       "  <text fill=\"#00BB00\" x=\"0\" y=\"0\"  transform=\"matrix(0.53,0,0,0.752,27,36.6)\">A</text>\n",
       "  \n",
       "  <text fill=\"#DD0000\" x=\"0\" y=\"0\"  transform=\"matrix(0.65,0,0,0.001,48.5,49)\">U</text>\n",
       "  <text fill=\"#F9A500\" x=\"0\" y=\"0\"  transform=\"matrix(0.55,0,0,0.034,50,48.95)\">G</text>\n",
       "  <text fill=\"#00BB00\" x=\"0\" y=\"0\"  transform=\"matrix(0.53,0,0,0.096,52,47.25)\">A</text>\n",
       "  <text fill=\"#0000EE\" x=\"0\" y=\"0\"  transform=\"matrix(0.59,0,0,0.869,50,42.45)\">C</text>\n",
       "  \n",
       "  <text fill=\"#00BB00\" x=\"0\" y=\"0\"  transform=\"matrix(0.53,0,0,0.001,77,49)\">A</text>\n",
       "  <text fill=\"#0000EE\" x=\"0\" y=\"0\"  transform=\"matrix(0.59,0,0,0.001,75,48.95)\">C</text>\n",
       "  <text fill=\"#F9A500\" x=\"0\" y=\"0\"  transform=\"matrix(0.55,0,0,0.118,75,48.9)\">G</text>\n",
       "  <text fill=\"#DD0000\" x=\"0\" y=\"0\"  transform=\"matrix(0.65,0,0,0.880,73.5,43)\">U</text>\n",
       "  \n",
       "  <text fill=\"#DD0000\" x=\"0\" y=\"0\"  transform=\"matrix(0.65,0,0,0.001,98.5,49)\">U</text>\n",
       "  <text fill=\"#00BB00\" x=\"0\" y=\"0\"  transform=\"matrix(0.53,0,0,0.040,102,48.95)\">A</text>\n",
       "  <text fill=\"#F9A500\" x=\"0\" y=\"0\"  transform=\"matrix(0.55,0,0,0.140,100,46.95)\">G</text>\n",
       "  <text fill=\"#0000EE\" x=\"0\" y=\"0\"  transform=\"matrix(0.59,0,0,0.819,100,39.95)\">C</text>\n",
       "  \n",
       "  <text fill=\"#F9A500\" x=\"0\" y=\"0\"  transform=\"matrix(0.55,0,0,0.001,125,49)\">G</text>\n",
       "  <text fill=\"#00BB00\" x=\"0\" y=\"0\"  transform=\"matrix(0.53,0,0,0.007,127,48.95)\">A</text>\n",
       "  <text fill=\"#0000EE\" x=\"0\" y=\"0\"  transform=\"matrix(0.59,0,0,0.010,125,48.6)\">C</text>\n",
       "  <text fill=\"#DD0000\" x=\"0\" y=\"0\"  transform=\"matrix(0.65,0,0,0.982,123.5,48.1)\">U</text>\n",
       "  \n",
       "  <text fill=\"#00BB00\" x=\"0\" y=\"0\"  transform=\"matrix(0.53,0,0,0.001,152,49)\">A</text>\n",
       "  <text fill=\"#F9A500\" x=\"0\" y=\"0\"  transform=\"matrix(0.55,0,0,0.001,150,48.95)\">G</text>\n",
       "  <text fill=\"#0000EE\" x=\"0\" y=\"0\"  transform=\"matrix(0.59,0,0,0.019,150,48.9)\">C</text>\n",
       "  <text fill=\"#DD0000\" x=\"0\" y=\"0\"  transform=\"matrix(0.65,0,0,0.979,148.5,47.95)\">U</text>\n",
       "  \n",
       "  <text fill=\"#00BB00\" x=\"0\" y=\"0\"  transform=\"matrix(0.53,0,0,0.023,177,49)\">A</text>\n",
       "  <text fill=\"#F9A500\" x=\"0\" y=\"0\"  transform=\"matrix(0.55,0,0,0.052,175,47.85)\">G</text>\n",
       "  <text fill=\"#0000EE\" x=\"0\" y=\"0\"  transform=\"matrix(0.59,0,0,0.058,175,45.25)\">C</text>\n",
       "  <text fill=\"#DD0000\" x=\"0\" y=\"0\"  transform=\"matrix(0.65,0,0,0.867,173.5,42.35)\">U</text>\n",
       "  \n",
       "  <text fill=\"#0000EE\" x=\"0\" y=\"0\"  transform=\"matrix(0.59,0,0,0.001,200,49)\">C</text>\n",
       "  <text fill=\"#F9A500\" x=\"0\" y=\"0\"  transform=\"matrix(0.55,0,0,0.011,200,48.95)\">G</text>\n",
       "  <text fill=\"#00BB00\" x=\"0\" y=\"0\"  transform=\"matrix(0.53,0,0,0.012,202,48.4)\">A</text>\n",
       "  <text fill=\"#DD0000\" x=\"0\" y=\"0\"  transform=\"matrix(0.65,0,0,0.976,198.5,47.8)\">U</text>\n",
       "  \n",
       " </g>\n",
       "</svg>\n",
       "</TD><TD>1e-9</TD><TD>-2.088e+01</TD><TD>4.59%</TD><TD>2.01%</TD><TD>65.4bp (65.1bp)</TD><TD>hsa-miR-583 MIMAT0003248 Homo sapiens miR-583 Targets (miRBase)(0.642)<BR/><A target=\"_blank\" HREF=\"homerResults/motif22.info.html\">More Information</A> | <A target=\"blank\" HREF=\"homerResults/motif22.similar.html\">Similar Motifs Found</A></TD><TD><A target=\"_blank\" HREF=\"homerResults/motif22.motif\">motif file (matrix)</A></TD></TR>\n",
       "<TR><TD>23\n",
       "<FONT color=\"red\">*</FONT></TD><TD><svg width=\"230\" height=\"50\">\n",
       " <g font-family=\"Arial\" font-weight=\"bold\" font-size=\"66.5\">\n",
       "  <text fill=\"#DD0000\" x=\"0\" y=\"0\"  transform=\"matrix(0.65,0,0,0.032,-1.5,49)\">U</text>\n",
       "  <text fill=\"#F9A500\" x=\"0\" y=\"0\"  transform=\"matrix(0.55,0,0,0.044,0,47.4)\">G</text>\n",
       "  <text fill=\"#00BB00\" x=\"0\" y=\"0\"  transform=\"matrix(0.53,0,0,0.187,2,45.2)\">A</text>\n",
       "  <text fill=\"#0000EE\" x=\"0\" y=\"0\"  transform=\"matrix(0.59,0,0,0.737,0,35.85)\">C</text>\n",
       "  \n",
       "  <text fill=\"#DD0000\" x=\"0\" y=\"0\"  transform=\"matrix(0.65,0,0,0.001,23.5,49)\">U</text>\n",
       "  <text fill=\"#0000EE\" x=\"0\" y=\"0\"  transform=\"matrix(0.59,0,0,0.037,25,48.95)\">C</text>\n",
       "  <text fill=\"#00BB00\" x=\"0\" y=\"0\"  transform=\"matrix(0.53,0,0,0.043,27,47.1)\">A</text>\n",
       "  <text fill=\"#F9A500\" x=\"0\" y=\"0\"  transform=\"matrix(0.55,0,0,0.919,25,44.95)\">G</text>\n",
       "  \n",
       "  <text fill=\"#00BB00\" x=\"0\" y=\"0\"  transform=\"matrix(0.53,0,0,0.001,52,49)\">A</text>\n",
       "  <text fill=\"#F9A500\" x=\"0\" y=\"0\"  transform=\"matrix(0.55,0,0,0.001,50,48.95)\">G</text>\n",
       "  <text fill=\"#DD0000\" x=\"0\" y=\"0\"  transform=\"matrix(0.65,0,0,0.173,48.5,48.9)\">U</text>\n",
       "  <text fill=\"#0000EE\" x=\"0\" y=\"0\"  transform=\"matrix(0.59,0,0,0.825,50,40.25)\">C</text>\n",
       "  \n",
       "  <text fill=\"#00BB00\" x=\"0\" y=\"0\"  transform=\"matrix(0.53,0,0,0.001,77,49)\">A</text>\n",
       "  <text fill=\"#0000EE\" x=\"0\" y=\"0\"  transform=\"matrix(0.59,0,0,0.001,75,48.95)\">C</text>\n",
       "  <text fill=\"#F9A500\" x=\"0\" y=\"0\"  transform=\"matrix(0.55,0,0,0.001,75,48.9)\">G</text>\n",
       "  <text fill=\"#DD0000\" x=\"0\" y=\"0\"  transform=\"matrix(0.65,0,0,0.997,73.5,48.85)\">U</text>\n",
       "  \n",
       "  <text fill=\"#F9A500\" x=\"0\" y=\"0\"  transform=\"matrix(0.55,0,0,0.001,100,49)\">G</text>\n",
       "  <text fill=\"#0000EE\" x=\"0\" y=\"0\"  transform=\"matrix(0.59,0,0,0.037,100,48.95)\">C</text>\n",
       "  <text fill=\"#DD0000\" x=\"0\" y=\"0\"  transform=\"matrix(0.65,0,0,0.058,98.5,47.1)\">U</text>\n",
       "  <text fill=\"#00BB00\" x=\"0\" y=\"0\"  transform=\"matrix(0.53,0,0,0.904,102,44.2)\">A</text>\n",
       "  \n",
       "  <text fill=\"#F9A500\" x=\"0\" y=\"0\"  transform=\"matrix(0.55,0,0,0.001,125,49)\">G</text>\n",
       "  <text fill=\"#DD0000\" x=\"0\" y=\"0\"  transform=\"matrix(0.65,0,0,0.001,123.5,48.95)\">U</text>\n",
       "  <text fill=\"#0000EE\" x=\"0\" y=\"0\"  transform=\"matrix(0.59,0,0,0.048,125,48.9)\">C</text>\n",
       "  <text fill=\"#00BB00\" x=\"0\" y=\"0\"  transform=\"matrix(0.53,0,0,0.950,127,46.5)\">A</text>\n",
       "  \n",
       "  <text fill=\"#00BB00\" x=\"0\" y=\"0\"  transform=\"matrix(0.53,0,0,0.001,152,49)\">A</text>\n",
       "  <text fill=\"#F9A500\" x=\"0\" y=\"0\"  transform=\"matrix(0.55,0,0,0.001,150,48.95)\">G</text>\n",
       "  <text fill=\"#DD0000\" x=\"0\" y=\"0\"  transform=\"matrix(0.65,0,0,0.084,148.5,48.9)\">U</text>\n",
       "  <text fill=\"#0000EE\" x=\"0\" y=\"0\"  transform=\"matrix(0.59,0,0,0.914,150,44.7)\">C</text>\n",
       "  \n",
       "  <text fill=\"#00BB00\" x=\"0\" y=\"0\"  transform=\"matrix(0.53,0,0,0.001,177,49)\">A</text>\n",
       "  <text fill=\"#F9A500\" x=\"0\" y=\"0\"  transform=\"matrix(0.55,0,0,0.001,175,48.95)\">G</text>\n",
       "  <text fill=\"#DD0000\" x=\"0\" y=\"0\"  transform=\"matrix(0.65,0,0,0.077,173.5,48.9)\">U</text>\n",
       "  <text fill=\"#0000EE\" x=\"0\" y=\"0\"  transform=\"matrix(0.59,0,0,0.921,175,45.05)\">C</text>\n",
       "  \n",
       "  <text fill=\"#00BB00\" x=\"0\" y=\"0\"  transform=\"matrix(0.53,0,0,0.001,202,49)\">A</text>\n",
       "  <text fill=\"#F9A500\" x=\"0\" y=\"0\"  transform=\"matrix(0.55,0,0,0.001,200,48.95)\">G</text>\n",
       "  <text fill=\"#DD0000\" x=\"0\" y=\"0\"  transform=\"matrix(0.65,0,0,0.073,198.5,48.9)\">U</text>\n",
       "  <text fill=\"#0000EE\" x=\"0\" y=\"0\"  transform=\"matrix(0.59,0,0,0.925,200,45.25)\">C</text>\n",
       "  \n",
       " </g>\n",
       "</svg>\n",
       "</TD><TD>1e-8</TD><TD>-2.002e+01</TD><TD>0.81%</TD><TD>0.07%</TD><TD>57.8bp (71.2bp)</TD><TD>hsa-miR-125b-1* MIMAT0004592 Homo sapiens miR-125b-1* Targets (miRBase)(0.691)<BR/><A target=\"_blank\" HREF=\"homerResults/motif23.info.html\">More Information</A> | <A target=\"blank\" HREF=\"homerResults/motif23.similar.html\">Similar Motifs Found</A></TD><TD><A target=\"_blank\" HREF=\"homerResults/motif23.motif\">motif file (matrix)</A></TD></TR>\n",
       "<TR><TD>24\n",
       "<FONT color=\"red\">*</FONT></TD><TD><svg width=\"205\" height=\"50\">\n",
       " <g font-family=\"Arial\" font-weight=\"bold\" font-size=\"66.5\">\n",
       "  <text fill=\"#00BB00\" x=\"0\" y=\"0\"  transform=\"matrix(0.53,0,0,0.001,2,49)\">A</text>\n",
       "  <text fill=\"#0000EE\" x=\"0\" y=\"0\"  transform=\"matrix(0.59,0,0,0.001,0,48.95)\">C</text>\n",
       "  <text fill=\"#DD0000\" x=\"0\" y=\"0\"  transform=\"matrix(0.65,0,0,0.389,-1.5,48.9)\">U</text>\n",
       "  <text fill=\"#F9A500\" x=\"0\" y=\"0\"  transform=\"matrix(0.55,0,0,0.609,0,29.45)\">G</text>\n",
       "  \n",
       "  <text fill=\"#00BB00\" x=\"0\" y=\"0\"  transform=\"matrix(0.53,0,0,0.001,27,49)\">A</text>\n",
       "  <text fill=\"#F9A500\" x=\"0\" y=\"0\"  transform=\"matrix(0.55,0,0,0.001,25,48.95)\">G</text>\n",
       "  <text fill=\"#DD0000\" x=\"0\" y=\"0\"  transform=\"matrix(0.65,0,0,0.356,23.5,48.9)\">U</text>\n",
       "  <text fill=\"#0000EE\" x=\"0\" y=\"0\"  transform=\"matrix(0.59,0,0,0.642,25,31.1)\">C</text>\n",
       "  \n",
       "  <text fill=\"#00BB00\" x=\"0\" y=\"0\"  transform=\"matrix(0.53,0,0,0.001,52,49)\">A</text>\n",
       "  <text fill=\"#0000EE\" x=\"0\" y=\"0\"  transform=\"matrix(0.59,0,0,0.001,50,48.95)\">C</text>\n",
       "  <text fill=\"#DD0000\" x=\"0\" y=\"0\"  transform=\"matrix(0.65,0,0,0.001,48.5,48.9)\">U</text>\n",
       "  <text fill=\"#F9A500\" x=\"0\" y=\"0\"  transform=\"matrix(0.55,0,0,0.997,50,48.85)\">G</text>\n",
       "  \n",
       "  <text fill=\"#00BB00\" x=\"0\" y=\"0\"  transform=\"matrix(0.53,0,0,0.001,77,49)\">A</text>\n",
       "  <text fill=\"#F9A500\" x=\"0\" y=\"0\"  transform=\"matrix(0.55,0,0,0.001,75,48.95)\">G</text>\n",
       "  <text fill=\"#DD0000\" x=\"0\" y=\"0\"  transform=\"matrix(0.65,0,0,0.001,73.5,48.9)\">U</text>\n",
       "  <text fill=\"#0000EE\" x=\"0\" y=\"0\"  transform=\"matrix(0.59,0,0,0.997,75,48.85)\">C</text>\n",
       "  \n",
       "  <text fill=\"#F9A500\" x=\"0\" y=\"0\"  transform=\"matrix(0.55,0,0,0.001,100,49)\">G</text>\n",
       "  <text fill=\"#DD0000\" x=\"0\" y=\"0\"  transform=\"matrix(0.65,0,0,0.002,98.5,48.95)\">U</text>\n",
       "  <text fill=\"#00BB00\" x=\"0\" y=\"0\"  transform=\"matrix(0.53,0,0,0.003,102,48.85)\">A</text>\n",
       "  <text fill=\"#0000EE\" x=\"0\" y=\"0\"  transform=\"matrix(0.59,0,0,0.994,100,48.7)\">C</text>\n",
       "  \n",
       "  <text fill=\"#0000EE\" x=\"0\" y=\"0\"  transform=\"matrix(0.59,0,0,0.001,125,49)\">C</text>\n",
       "  <text fill=\"#F9A500\" x=\"0\" y=\"0\"  transform=\"matrix(0.55,0,0,0.001,125,48.95)\">G</text>\n",
       "  <text fill=\"#DD0000\" x=\"0\" y=\"0\"  transform=\"matrix(0.65,0,0,0.001,123.5,48.9)\">U</text>\n",
       "  <text fill=\"#00BB00\" x=\"0\" y=\"0\"  transform=\"matrix(0.53,0,0,0.997,127,48.85)\">A</text>\n",
       "  \n",
       "  <text fill=\"#0000EE\" x=\"0\" y=\"0\"  transform=\"matrix(0.59,0,0,0.001,150,49)\">C</text>\n",
       "  <text fill=\"#F9A500\" x=\"0\" y=\"0\"  transform=\"matrix(0.55,0,0,0.001,150,48.95)\">G</text>\n",
       "  <text fill=\"#DD0000\" x=\"0\" y=\"0\"  transform=\"matrix(0.65,0,0,0.001,148.5,48.9)\">U</text>\n",
       "  <text fill=\"#00BB00\" x=\"0\" y=\"0\"  transform=\"matrix(0.53,0,0,0.997,152,48.85)\">A</text>\n",
       "  \n",
       "  <text fill=\"#00BB00\" x=\"0\" y=\"0\"  transform=\"matrix(0.53,0,0,0.001,177,49)\">A</text>\n",
       "  <text fill=\"#0000EE\" x=\"0\" y=\"0\"  transform=\"matrix(0.59,0,0,0.001,175,48.95)\">C</text>\n",
       "  <text fill=\"#F9A500\" x=\"0\" y=\"0\"  transform=\"matrix(0.55,0,0,0.027,175,48.9)\">G</text>\n",
       "  <text fill=\"#DD0000\" x=\"0\" y=\"0\"  transform=\"matrix(0.65,0,0,0.971,173.5,47.55)\">U</text>\n",
       "  \n",
       " </g>\n",
       "</svg>\n",
       "</TD><TD>1e-8</TD><TD>-1.899e+01</TD><TD>2.23%</TD><TD>0.67%</TD><TD>56.9bp (73.8bp)</TD><TD>hsa-miR-1271 MIMAT0005796 Homo sapiens miR-1271 Targets (miRBase)(0.693)<BR/><A target=\"_blank\" HREF=\"homerResults/motif24.info.html\">More Information</A> | <A target=\"blank\" HREF=\"homerResults/motif24.similar.html\">Similar Motifs Found</A></TD><TD><A target=\"_blank\" HREF=\"homerResults/motif24.motif\">motif file (matrix)</A></TD></TR>\n",
       "<TR><TD>25\n",
       "<FONT color=\"red\">*</FONT></TD><TD><svg width=\"155\" height=\"50\">\n",
       " <g font-family=\"Arial\" font-weight=\"bold\" font-size=\"66.5\">\n",
       "  <text fill=\"#00BB00\" x=\"0\" y=\"0\"  transform=\"matrix(0.53,0,0,0.001,2,49)\">A</text>\n",
       "  <text fill=\"#0000EE\" x=\"0\" y=\"0\"  transform=\"matrix(0.59,0,0,0.001,0,48.95)\">C</text>\n",
       "  <text fill=\"#F9A500\" x=\"0\" y=\"0\"  transform=\"matrix(0.55,0,0,0.001,0,48.9)\">G</text>\n",
       "  <text fill=\"#DD0000\" x=\"0\" y=\"0\"  transform=\"matrix(0.65,0,0,0.997,-1.5,48.85)\">U</text>\n",
       "  \n",
       "  <text fill=\"#00BB00\" x=\"0\" y=\"0\"  transform=\"matrix(0.53,0,0,0.001,27,49)\">A</text>\n",
       "  <text fill=\"#0000EE\" x=\"0\" y=\"0\"  transform=\"matrix(0.59,0,0,0.001,25,48.95)\">C</text>\n",
       "  <text fill=\"#F9A500\" x=\"0\" y=\"0\"  transform=\"matrix(0.55,0,0,0.001,25,48.9)\">G</text>\n",
       "  <text fill=\"#DD0000\" x=\"0\" y=\"0\"  transform=\"matrix(0.65,0,0,0.997,23.5,48.85)\">U</text>\n",
       "  \n",
       "  <text fill=\"#F9A500\" x=\"0\" y=\"0\"  transform=\"matrix(0.55,0,0,0.048,50,49)\">G</text>\n",
       "  <text fill=\"#00BB00\" x=\"0\" y=\"0\"  transform=\"matrix(0.53,0,0,0.067,52,46.6)\">A</text>\n",
       "  <text fill=\"#DD0000\" x=\"0\" y=\"0\"  transform=\"matrix(0.65,0,0,0.211,48.5,43.25)\">U</text>\n",
       "  <text fill=\"#0000EE\" x=\"0\" y=\"0\"  transform=\"matrix(0.59,0,0,0.674,50,32.7)\">C</text>\n",
       "  \n",
       "  <text fill=\"#00BB00\" x=\"0\" y=\"0\"  transform=\"matrix(0.53,0,0,0.001,77,49)\">A</text>\n",
       "  <text fill=\"#DD0000\" x=\"0\" y=\"0\"  transform=\"matrix(0.65,0,0,0.086,73.5,48.95)\">U</text>\n",
       "  <text fill=\"#0000EE\" x=\"0\" y=\"0\"  transform=\"matrix(0.59,0,0,0.101,75,44.65)\">C</text>\n",
       "  <text fill=\"#F9A500\" x=\"0\" y=\"0\"  transform=\"matrix(0.55,0,0,0.812,75,39.6)\">G</text>\n",
       "  \n",
       "  <text fill=\"#00BB00\" x=\"0\" y=\"0\"  transform=\"matrix(0.53,0,0,0.001,102,49)\">A</text>\n",
       "  <text fill=\"#DD0000\" x=\"0\" y=\"0\"  transform=\"matrix(0.65,0,0,0.141,98.5,48.95)\">U</text>\n",
       "  <text fill=\"#F9A500\" x=\"0\" y=\"0\"  transform=\"matrix(0.55,0,0,0.156,100,41.9)\">G</text>\n",
       "  <text fill=\"#0000EE\" x=\"0\" y=\"0\"  transform=\"matrix(0.59,0,0,0.702,100,34.1)\">C</text>\n",
       "  \n",
       "  <text fill=\"#0000EE\" x=\"0\" y=\"0\"  transform=\"matrix(0.59,0,0,0.001,125,49)\">C</text>\n",
       "  <text fill=\"#DD0000\" x=\"0\" y=\"0\"  transform=\"matrix(0.65,0,0,0.036,123.5,48.95)\">U</text>\n",
       "  <text fill=\"#00BB00\" x=\"0\" y=\"0\"  transform=\"matrix(0.53,0,0,0.113,127,47.15)\">A</text>\n",
       "  <text fill=\"#F9A500\" x=\"0\" y=\"0\"  transform=\"matrix(0.55,0,0,0.850,125,41.5)\">G</text>\n",
       "  \n",
       " </g>\n",
       "</svg>\n",
       "</TD><TD>1e-8</TD><TD>-1.874e+01</TD><TD>12.74%</TD><TD>8.36%</TD><TD>58.0bp (72.1bp)</TD><TD>hsa-miR-4681 MIMAT0019766 Homo sapiens miR-4681 Targets (miRBase)(0.619)<BR/><A target=\"_blank\" HREF=\"homerResults/motif25.info.html\">More Information</A> | <A target=\"blank\" HREF=\"homerResults/motif25.similar.html\">Similar Motifs Found</A></TD><TD><A target=\"_blank\" HREF=\"homerResults/motif25.motif\">motif file (matrix)</A></TD></TR>\n",
       "<TR><TD>26\n",
       "<FONT color=\"red\">*</FONT></TD><TD><svg width=\"205\" height=\"50\">\n",
       " <g font-family=\"Arial\" font-weight=\"bold\" font-size=\"66.5\">\n",
       "  <text fill=\"#0000EE\" x=\"0\" y=\"0\"  transform=\"matrix(0.59,0,0,0.001,0,49)\">C</text>\n",
       "  <text fill=\"#F9A500\" x=\"0\" y=\"0\"  transform=\"matrix(0.55,0,0,0.001,0,48.95)\">G</text>\n",
       "  <text fill=\"#00BB00\" x=\"0\" y=\"0\"  transform=\"matrix(0.53,0,0,0.101,2,48.9)\">A</text>\n",
       "  <text fill=\"#DD0000\" x=\"0\" y=\"0\"  transform=\"matrix(0.65,0,0,0.897,-1.5,43.85)\">U</text>\n",
       "  \n",
       "  <text fill=\"#F9A500\" x=\"0\" y=\"0\"  transform=\"matrix(0.55,0,0,0.001,25,49)\">G</text>\n",
       "  <text fill=\"#DD0000\" x=\"0\" y=\"0\"  transform=\"matrix(0.65,0,0,0.001,23.5,48.95)\">U</text>\n",
       "  <text fill=\"#00BB00\" x=\"0\" y=\"0\"  transform=\"matrix(0.53,0,0,0.116,27,48.9)\">A</text>\n",
       "  <text fill=\"#0000EE\" x=\"0\" y=\"0\"  transform=\"matrix(0.59,0,0,0.882,25,43.1)\">C</text>\n",
       "  \n",
       "  <text fill=\"#00BB00\" x=\"0\" y=\"0\"  transform=\"matrix(0.53,0,0,0.001,52,49)\">A</text>\n",
       "  <text fill=\"#0000EE\" x=\"0\" y=\"0\"  transform=\"matrix(0.59,0,0,0.001,50,48.95)\">C</text>\n",
       "  <text fill=\"#DD0000\" x=\"0\" y=\"0\"  transform=\"matrix(0.65,0,0,0.001,48.5,48.9)\">U</text>\n",
       "  <text fill=\"#F9A500\" x=\"0\" y=\"0\"  transform=\"matrix(0.55,0,0,0.997,50,48.85)\">G</text>\n",
       "  \n",
       "  <text fill=\"#00BB00\" x=\"0\" y=\"0\"  transform=\"matrix(0.53,0,0,0.001,77,49)\">A</text>\n",
       "  <text fill=\"#F9A500\" x=\"0\" y=\"0\"  transform=\"matrix(0.55,0,0,0.001,75,48.95)\">G</text>\n",
       "  <text fill=\"#DD0000\" x=\"0\" y=\"0\"  transform=\"matrix(0.65,0,0,0.001,73.5,48.9)\">U</text>\n",
       "  <text fill=\"#0000EE\" x=\"0\" y=\"0\"  transform=\"matrix(0.59,0,0,0.997,75,48.85)\">C</text>\n",
       "  \n",
       "  <text fill=\"#0000EE\" x=\"0\" y=\"0\"  transform=\"matrix(0.59,0,0,0.001,100,49)\">C</text>\n",
       "  <text fill=\"#F9A500\" x=\"0\" y=\"0\"  transform=\"matrix(0.55,0,0,0.001,100,48.95)\">G</text>\n",
       "  <text fill=\"#00BB00\" x=\"0\" y=\"0\"  transform=\"matrix(0.53,0,0,0.184,102,48.9)\">A</text>\n",
       "  <text fill=\"#DD0000\" x=\"0\" y=\"0\"  transform=\"matrix(0.65,0,0,0.814,98.5,39.7)\">U</text>\n",
       "  \n",
       "  <text fill=\"#F9A500\" x=\"0\" y=\"0\"  transform=\"matrix(0.55,0,0,0.001,125,49)\">G</text>\n",
       "  <text fill=\"#00BB00\" x=\"0\" y=\"0\"  transform=\"matrix(0.53,0,0,0.117,127,48.95)\">A</text>\n",
       "  <text fill=\"#DD0000\" x=\"0\" y=\"0\"  transform=\"matrix(0.65,0,0,0.129,123.5,43.1)\">U</text>\n",
       "  <text fill=\"#0000EE\" x=\"0\" y=\"0\"  transform=\"matrix(0.59,0,0,0.753,125,36.65)\">C</text>\n",
       "  \n",
       "  <text fill=\"#0000EE\" x=\"0\" y=\"0\"  transform=\"matrix(0.59,0,0,0.001,150,49)\">C</text>\n",
       "  <text fill=\"#F9A500\" x=\"0\" y=\"0\"  transform=\"matrix(0.55,0,0,0.001,150,48.95)\">G</text>\n",
       "  <text fill=\"#DD0000\" x=\"0\" y=\"0\"  transform=\"matrix(0.65,0,0,0.001,148.5,48.9)\">U</text>\n",
       "  <text fill=\"#00BB00\" x=\"0\" y=\"0\"  transform=\"matrix(0.53,0,0,0.997,152,48.85)\">A</text>\n",
       "  \n",
       "  <text fill=\"#00BB00\" x=\"0\" y=\"0\"  transform=\"matrix(0.53,0,0,0.001,177,49)\">A</text>\n",
       "  <text fill=\"#0000EE\" x=\"0\" y=\"0\"  transform=\"matrix(0.59,0,0,0.117,175,48.95)\">C</text>\n",
       "  <text fill=\"#DD0000\" x=\"0\" y=\"0\"  transform=\"matrix(0.65,0,0,0.223,173.5,43.1)\">U</text>\n",
       "  <text fill=\"#F9A500\" x=\"0\" y=\"0\"  transform=\"matrix(0.55,0,0,0.659,175,31.95)\">G</text>\n",
       "  \n",
       " </g>\n",
       "</svg>\n",
       "</TD><TD>1e-8</TD><TD>-1.853e+01</TD><TD>2.36%</TD><TD>0.76%</TD><TD>38.3bp (71.0bp)</TD><TD>hsa-miR-4486 MIMAT0019020 Homo sapiens miR-4486 Targets (miRBase)(0.714)<BR/><A target=\"_blank\" HREF=\"homerResults/motif26.info.html\">More Information</A> | <A target=\"blank\" HREF=\"homerResults/motif26.similar.html\">Similar Motifs Found</A></TD><TD><A target=\"_blank\" HREF=\"homerResults/motif26.motif\">motif file (matrix)</A></TD></TR>\n",
       "<TR><TD>27\n",
       "<FONT color=\"red\">*</FONT></TD><TD><svg width=\"230\" height=\"50\">\n",
       " <g font-family=\"Arial\" font-weight=\"bold\" font-size=\"66.5\">\n",
       "  <text fill=\"#0000EE\" x=\"0\" y=\"0\"  transform=\"matrix(0.59,0,0,0.105,0,49)\">C</text>\n",
       "  <text fill=\"#DD0000\" x=\"0\" y=\"0\"  transform=\"matrix(0.65,0,0,0.187,-1.5,43.75)\">U</text>\n",
       "  <text fill=\"#00BB00\" x=\"0\" y=\"0\"  transform=\"matrix(0.53,0,0,0.200,2,34.4)\">A</text>\n",
       "  <text fill=\"#F9A500\" x=\"0\" y=\"0\"  transform=\"matrix(0.55,0,0,0.508,0,24.4)\">G</text>\n",
       "  \n",
       "  <text fill=\"#00BB00\" x=\"0\" y=\"0\"  transform=\"matrix(0.53,0,0,0.098,27,49)\">A</text>\n",
       "  <text fill=\"#0000EE\" x=\"0\" y=\"0\"  transform=\"matrix(0.59,0,0,0.140,25,44.1)\">C</text>\n",
       "  <text fill=\"#DD0000\" x=\"0\" y=\"0\"  transform=\"matrix(0.65,0,0,0.295,23.5,37.1)\">U</text>\n",
       "  <text fill=\"#F9A500\" x=\"0\" y=\"0\"  transform=\"matrix(0.55,0,0,0.466,25,22.35)\">G</text>\n",
       "  \n",
       "  <text fill=\"#00BB00\" x=\"0\" y=\"0\"  transform=\"matrix(0.53,0,0,0.005,52,49)\">A</text>\n",
       "  <text fill=\"#F9A500\" x=\"0\" y=\"0\"  transform=\"matrix(0.55,0,0,0.027,50,48.75)\">G</text>\n",
       "  <text fill=\"#DD0000\" x=\"0\" y=\"0\"  transform=\"matrix(0.65,0,0,0.068,48.5,47.4)\">U</text>\n",
       "  <text fill=\"#0000EE\" x=\"0\" y=\"0\"  transform=\"matrix(0.59,0,0,0.900,50,44)\">C</text>\n",
       "  \n",
       "  <text fill=\"#DD0000\" x=\"0\" y=\"0\"  transform=\"matrix(0.65,0,0,0.114,73.5,49)\">U</text>\n",
       "  <text fill=\"#00BB00\" x=\"0\" y=\"0\"  transform=\"matrix(0.53,0,0,0.143,77,43.3)\">A</text>\n",
       "  <text fill=\"#0000EE\" x=\"0\" y=\"0\"  transform=\"matrix(0.59,0,0,0.204,75,36.15)\">C</text>\n",
       "  <text fill=\"#F9A500\" x=\"0\" y=\"0\"  transform=\"matrix(0.55,0,0,0.539,75,25.95)\">G</text>\n",
       "  \n",
       "  <text fill=\"#00BB00\" x=\"0\" y=\"0\"  transform=\"matrix(0.53,0,0,0.163,102,49)\">A</text>\n",
       "  <text fill=\"#F9A500\" x=\"0\" y=\"0\"  transform=\"matrix(0.55,0,0,0.245,100,40.85)\">G</text>\n",
       "  <text fill=\"#DD0000\" x=\"0\" y=\"0\"  transform=\"matrix(0.65,0,0,0.255,98.5,28.6)\">U</text>\n",
       "  <text fill=\"#0000EE\" x=\"0\" y=\"0\"  transform=\"matrix(0.59,0,0,0.337,100,15.85)\">C</text>\n",
       "  \n",
       "  <text fill=\"#F9A500\" x=\"0\" y=\"0\"  transform=\"matrix(0.55,0,0,0.100,125,49)\">G</text>\n",
       "  <text fill=\"#00BB00\" x=\"0\" y=\"0\"  transform=\"matrix(0.53,0,0,0.126,127,44)\">A</text>\n",
       "  <text fill=\"#0000EE\" x=\"0\" y=\"0\"  transform=\"matrix(0.59,0,0,0.233,125,37.7)\">C</text>\n",
       "  <text fill=\"#DD0000\" x=\"0\" y=\"0\"  transform=\"matrix(0.65,0,0,0.541,123.5,26.05)\">U</text>\n",
       "  \n",
       "  <text fill=\"#F9A500\" x=\"0\" y=\"0\"  transform=\"matrix(0.55,0,0,0.013,150,49)\">G</text>\n",
       "  <text fill=\"#DD0000\" x=\"0\" y=\"0\"  transform=\"matrix(0.65,0,0,0.173,148.5,48.35)\">U</text>\n",
       "  <text fill=\"#00BB00\" x=\"0\" y=\"0\"  transform=\"matrix(0.53,0,0,0.181,152,39.7)\">A</text>\n",
       "  <text fill=\"#0000EE\" x=\"0\" y=\"0\"  transform=\"matrix(0.59,0,0,0.633,150,30.65)\">C</text>\n",
       "  \n",
       "  <text fill=\"#0000EE\" x=\"0\" y=\"0\"  transform=\"matrix(0.59,0,0,0.128,175,49)\">C</text>\n",
       "  <text fill=\"#F9A500\" x=\"0\" y=\"0\"  transform=\"matrix(0.55,0,0,0.139,175,42.6)\">G</text>\n",
       "  <text fill=\"#00BB00\" x=\"0\" y=\"0\"  transform=\"matrix(0.53,0,0,0.202,177,35.65)\">A</text>\n",
       "  <text fill=\"#DD0000\" x=\"0\" y=\"0\"  transform=\"matrix(0.65,0,0,0.531,173.5,25.55)\">U</text>\n",
       "  \n",
       "  <text fill=\"#F9A500\" x=\"0\" y=\"0\"  transform=\"matrix(0.55,0,0,0.110,200,49)\">G</text>\n",
       "  <text fill=\"#00BB00\" x=\"0\" y=\"0\"  transform=\"matrix(0.53,0,0,0.238,202,43.5)\">A</text>\n",
       "  <text fill=\"#DD0000\" x=\"0\" y=\"0\"  transform=\"matrix(0.65,0,0,0.273,198.5,31.6)\">U</text>\n",
       "  <text fill=\"#0000EE\" x=\"0\" y=\"0\"  transform=\"matrix(0.59,0,0,0.379,200,17.95)\">C</text>\n",
       "  \n",
       " </g>\n",
       "</svg>\n",
       "</TD><TD>1e-6</TD><TD>-1.599e+01</TD><TD>3.10%</TD><TD>1.29%</TD><TD>57.6bp (65.0bp)</TD><TD>hsa-miR-339-3p MIMAT0004702 Homo sapiens miR-339-3p Targets (miRBase)(0.690)<BR/><A target=\"_blank\" HREF=\"homerResults/motif27.info.html\">More Information</A> | <A target=\"blank\" HREF=\"homerResults/motif27.similar.html\">Similar Motifs Found</A></TD><TD><A target=\"_blank\" HREF=\"homerResults/motif27.motif\">motif file (matrix)</A></TD></TR>\n",
       "<TR><TD>28\n",
       "<FONT color=\"red\">*</FONT></TD><TD><svg width=\"205\" height=\"50\">\n",
       " <g font-family=\"Arial\" font-weight=\"bold\" font-size=\"66.5\">\n",
       "  <text fill=\"#00BB00\" x=\"0\" y=\"0\"  transform=\"matrix(0.53,0,0,0.001,2,49)\">A</text>\n",
       "  <text fill=\"#DD0000\" x=\"0\" y=\"0\"  transform=\"matrix(0.65,0,0,0.001,-1.5,48.95)\">U</text>\n",
       "  <text fill=\"#F9A500\" x=\"0\" y=\"0\"  transform=\"matrix(0.55,0,0,0.184,0,48.9)\">G</text>\n",
       "  <text fill=\"#0000EE\" x=\"0\" y=\"0\"  transform=\"matrix(0.59,0,0,0.814,0,39.7)\">C</text>\n",
       "  \n",
       "  <text fill=\"#00BB00\" x=\"0\" y=\"0\"  transform=\"matrix(0.53,0,0,0.001,27,49)\">A</text>\n",
       "  <text fill=\"#F9A500\" x=\"0\" y=\"0\"  transform=\"matrix(0.55,0,0,0.001,25,48.95)\">G</text>\n",
       "  <text fill=\"#0000EE\" x=\"0\" y=\"0\"  transform=\"matrix(0.59,0,0,0.087,25,48.9)\">C</text>\n",
       "  <text fill=\"#DD0000\" x=\"0\" y=\"0\"  transform=\"matrix(0.65,0,0,0.911,23.5,44.55)\">U</text>\n",
       "  \n",
       "  <text fill=\"#DD0000\" x=\"0\" y=\"0\"  transform=\"matrix(0.65,0,0,0.001,48.5,49)\">U</text>\n",
       "  <text fill=\"#F9A500\" x=\"0\" y=\"0\"  transform=\"matrix(0.55,0,0,0.015,50,48.95)\">G</text>\n",
       "  <text fill=\"#00BB00\" x=\"0\" y=\"0\"  transform=\"matrix(0.53,0,0,0.030,52,48.2)\">A</text>\n",
       "  <text fill=\"#0000EE\" x=\"0\" y=\"0\"  transform=\"matrix(0.59,0,0,0.954,50,46.7)\">C</text>\n",
       "  \n",
       "  <text fill=\"#0000EE\" x=\"0\" y=\"0\"  transform=\"matrix(0.59,0,0,0.001,75,49)\">C</text>\n",
       "  <text fill=\"#F9A500\" x=\"0\" y=\"0\"  transform=\"matrix(0.55,0,0,0.050,75,48.95)\">G</text>\n",
       "  <text fill=\"#00BB00\" x=\"0\" y=\"0\"  transform=\"matrix(0.53,0,0,0.112,77,46.45)\">A</text>\n",
       "  <text fill=\"#DD0000\" x=\"0\" y=\"0\"  transform=\"matrix(0.65,0,0,0.837,73.5,40.85)\">U</text>\n",
       "  \n",
       "  <text fill=\"#F9A500\" x=\"0\" y=\"0\"  transform=\"matrix(0.55,0,0,0.001,100,49)\">G</text>\n",
       "  <text fill=\"#DD0000\" x=\"0\" y=\"0\"  transform=\"matrix(0.65,0,0,0.001,98.5,48.95)\">U</text>\n",
       "  <text fill=\"#00BB00\" x=\"0\" y=\"0\"  transform=\"matrix(0.53,0,0,0.042,102,48.9)\">A</text>\n",
       "  <text fill=\"#0000EE\" x=\"0\" y=\"0\"  transform=\"matrix(0.59,0,0,0.956,100,46.8)\">C</text>\n",
       "  \n",
       "  <text fill=\"#0000EE\" x=\"0\" y=\"0\"  transform=\"matrix(0.59,0,0,0.019,125,49)\">C</text>\n",
       "  <text fill=\"#DD0000\" x=\"0\" y=\"0\"  transform=\"matrix(0.65,0,0,0.029,123.5,48.05)\">U</text>\n",
       "  <text fill=\"#F9A500\" x=\"0\" y=\"0\"  transform=\"matrix(0.55,0,0,0.036,125,46.6)\">G</text>\n",
       "  <text fill=\"#00BB00\" x=\"0\" y=\"0\"  transform=\"matrix(0.53,0,0,0.916,127,44.8)\">A</text>\n",
       "  \n",
       "  <text fill=\"#F9A500\" x=\"0\" y=\"0\"  transform=\"matrix(0.55,0,0,0.028,150,49)\">G</text>\n",
       "  <text fill=\"#00BB00\" x=\"0\" y=\"0\"  transform=\"matrix(0.53,0,0,0.047,152,47.6)\">A</text>\n",
       "  <text fill=\"#DD0000\" x=\"0\" y=\"0\"  transform=\"matrix(0.65,0,0,0.078,148.5,45.25)\">U</text>\n",
       "  <text fill=\"#0000EE\" x=\"0\" y=\"0\"  transform=\"matrix(0.59,0,0,0.847,150,41.35)\">C</text>\n",
       "  \n",
       "  <text fill=\"#DD0000\" x=\"0\" y=\"0\"  transform=\"matrix(0.65,0,0,0.001,173.5,49)\">U</text>\n",
       "  <text fill=\"#00BB00\" x=\"0\" y=\"0\"  transform=\"matrix(0.53,0,0,0.109,177,48.95)\">A</text>\n",
       "  <text fill=\"#0000EE\" x=\"0\" y=\"0\"  transform=\"matrix(0.59,0,0,0.129,175,43.5)\">C</text>\n",
       "  <text fill=\"#F9A500\" x=\"0\" y=\"0\"  transform=\"matrix(0.55,0,0,0.761,175,37.05)\">G</text>\n",
       "  \n",
       " </g>\n",
       "</svg>\n",
       "</TD><TD>1e-6</TD><TD>-1.592e+01</TD><TD>3.84%</TD><TD>1.78%</TD><TD>51.1bp (66.6bp)</TD><TD>hsa-miR-4324 MIMAT0016876 Homo sapiens miR-4324 Targets (miRBase)(0.666)<BR/><A target=\"_blank\" HREF=\"homerResults/motif28.info.html\">More Information</A> | <A target=\"blank\" HREF=\"homerResults/motif28.similar.html\">Similar Motifs Found</A></TD><TD><A target=\"_blank\" HREF=\"homerResults/motif28.motif\">motif file (matrix)</A></TD></TR>\n",
       "<TR><TD>29\n",
       "<FONT color=\"red\">*</FONT></TD><TD><svg width=\"205\" height=\"50\">\n",
       " <g font-family=\"Arial\" font-weight=\"bold\" font-size=\"66.5\">\n",
       "  <text fill=\"#0000EE\" x=\"0\" y=\"0\"  transform=\"matrix(0.59,0,0,0.001,0,49)\">C</text>\n",
       "  <text fill=\"#F9A500\" x=\"0\" y=\"0\"  transform=\"matrix(0.55,0,0,0.001,0,48.95)\">G</text>\n",
       "  <text fill=\"#DD0000\" x=\"0\" y=\"0\"  transform=\"matrix(0.65,0,0,0.247,-1.5,48.9)\">U</text>\n",
       "  <text fill=\"#00BB00\" x=\"0\" y=\"0\"  transform=\"matrix(0.53,0,0,0.751,2,36.55)\">A</text>\n",
       "  \n",
       "  <text fill=\"#00BB00\" x=\"0\" y=\"0\"  transform=\"matrix(0.53,0,0,0.001,27,49)\">A</text>\n",
       "  <text fill=\"#0000EE\" x=\"0\" y=\"0\"  transform=\"matrix(0.59,0,0,0.001,25,48.95)\">C</text>\n",
       "  <text fill=\"#F9A500\" x=\"0\" y=\"0\"  transform=\"matrix(0.55,0,0,0.001,25,48.9)\">G</text>\n",
       "  <text fill=\"#DD0000\" x=\"0\" y=\"0\"  transform=\"matrix(0.65,0,0,0.997,23.5,48.85)\">U</text>\n",
       "  \n",
       "  <text fill=\"#00BB00\" x=\"0\" y=\"0\"  transform=\"matrix(0.53,0,0,0.001,52,49)\">A</text>\n",
       "  <text fill=\"#0000EE\" x=\"0\" y=\"0\"  transform=\"matrix(0.59,0,0,0.001,50,48.95)\">C</text>\n",
       "  <text fill=\"#F9A500\" x=\"0\" y=\"0\"  transform=\"matrix(0.55,0,0,0.001,50,48.9)\">G</text>\n",
       "  <text fill=\"#DD0000\" x=\"0\" y=\"0\"  transform=\"matrix(0.65,0,0,0.997,48.5,48.85)\">U</text>\n",
       "  \n",
       "  <text fill=\"#0000EE\" x=\"0\" y=\"0\"  transform=\"matrix(0.59,0,0,0.001,75,49)\">C</text>\n",
       "  <text fill=\"#DD0000\" x=\"0\" y=\"0\"  transform=\"matrix(0.65,0,0,0.001,73.5,48.95)\">U</text>\n",
       "  <text fill=\"#F9A500\" x=\"0\" y=\"0\"  transform=\"matrix(0.55,0,0,0.128,75,48.9)\">G</text>\n",
       "  <text fill=\"#00BB00\" x=\"0\" y=\"0\"  transform=\"matrix(0.53,0,0,0.870,77,42.5)\">A</text>\n",
       "  \n",
       "  <text fill=\"#00BB00\" x=\"0\" y=\"0\"  transform=\"matrix(0.53,0,0,0.001,102,49)\">A</text>\n",
       "  <text fill=\"#0000EE\" x=\"0\" y=\"0\"  transform=\"matrix(0.59,0,0,0.001,100,48.95)\">C</text>\n",
       "  <text fill=\"#F9A500\" x=\"0\" y=\"0\"  transform=\"matrix(0.55,0,0,0.001,100,48.9)\">G</text>\n",
       "  <text fill=\"#DD0000\" x=\"0\" y=\"0\"  transform=\"matrix(0.65,0,0,0.997,98.5,48.85)\">U</text>\n",
       "  \n",
       "  <text fill=\"#00BB00\" x=\"0\" y=\"0\"  transform=\"matrix(0.53,0,0,0.001,127,49)\">A</text>\n",
       "  <text fill=\"#0000EE\" x=\"0\" y=\"0\"  transform=\"matrix(0.59,0,0,0.001,125,48.95)\">C</text>\n",
       "  <text fill=\"#DD0000\" x=\"0\" y=\"0\"  transform=\"matrix(0.65,0,0,0.001,123.5,48.9)\">U</text>\n",
       "  <text fill=\"#F9A500\" x=\"0\" y=\"0\"  transform=\"matrix(0.55,0,0,0.997,125,48.85)\">G</text>\n",
       "  \n",
       "  <text fill=\"#00BB00\" x=\"0\" y=\"0\"  transform=\"matrix(0.53,0,0,0.001,152,49)\">A</text>\n",
       "  <text fill=\"#0000EE\" x=\"0\" y=\"0\"  transform=\"matrix(0.59,0,0,0.001,150,48.95)\">C</text>\n",
       "  <text fill=\"#F9A500\" x=\"0\" y=\"0\"  transform=\"matrix(0.55,0,0,0.001,150,48.9)\">G</text>\n",
       "  <text fill=\"#DD0000\" x=\"0\" y=\"0\"  transform=\"matrix(0.65,0,0,0.997,148.5,48.85)\">U</text>\n",
       "  \n",
       "  <text fill=\"#00BB00\" x=\"0\" y=\"0\"  transform=\"matrix(0.53,0,0,0.001,177,49)\">A</text>\n",
       "  <text fill=\"#0000EE\" x=\"0\" y=\"0\"  transform=\"matrix(0.59,0,0,0.001,175,48.95)\">C</text>\n",
       "  <text fill=\"#F9A500\" x=\"0\" y=\"0\"  transform=\"matrix(0.55,0,0,0.001,175,48.9)\">G</text>\n",
       "  <text fill=\"#DD0000\" x=\"0\" y=\"0\"  transform=\"matrix(0.65,0,0,0.997,173.5,48.85)\">U</text>\n",
       "  \n",
       " </g>\n",
       "</svg>\n",
       "</TD><TD>1e-5</TD><TD>-1.371e+01</TD><TD>3.71%</TD><TD>1.82%</TD><TD>62.8bp (63.6bp)</TD><TD>hsa-miR-4803 MIMAT0019983 Homo sapiens miR-4803 Targets (miRBase)(0.869)<BR/><A target=\"_blank\" HREF=\"homerResults/motif29.info.html\">More Information</A> | <A target=\"blank\" HREF=\"homerResults/motif29.similar.html\">Similar Motifs Found</A></TD><TD><A target=\"_blank\" HREF=\"homerResults/motif29.motif\">motif file (matrix)</A></TD></TR>\n",
       "<TR><TD>30\n",
       "<FONT color=\"red\">*</FONT></TD><TD><svg width=\"130\" height=\"50\">\n",
       " <g font-family=\"Arial\" font-weight=\"bold\" font-size=\"66.5\">\n",
       "  <text fill=\"#00BB00\" x=\"0\" y=\"0\"  transform=\"matrix(0.53,0,0,0.100,2,49)\">A</text>\n",
       "  <text fill=\"#0000EE\" x=\"0\" y=\"0\"  transform=\"matrix(0.59,0,0,0.100,0,44)\">C</text>\n",
       "  <text fill=\"#DD0000\" x=\"0\" y=\"0\"  transform=\"matrix(0.65,0,0,0.100,-1.5,39)\">U</text>\n",
       "  <text fill=\"#F9A500\" x=\"0\" y=\"0\"  transform=\"matrix(0.55,0,0,0.700,0,34)\">G</text>\n",
       "  \n",
       "  <text fill=\"#0000EE\" x=\"0\" y=\"0\"  transform=\"matrix(0.59,0,0,0.100,25,49)\">C</text>\n",
       "  <text fill=\"#F9A500\" x=\"0\" y=\"0\"  transform=\"matrix(0.55,0,0,0.100,25,44)\">G</text>\n",
       "  <text fill=\"#DD0000\" x=\"0\" y=\"0\"  transform=\"matrix(0.65,0,0,0.100,23.5,39)\">U</text>\n",
       "  <text fill=\"#00BB00\" x=\"0\" y=\"0\"  transform=\"matrix(0.53,0,0,0.700,27,34)\">A</text>\n",
       "  \n",
       "  <text fill=\"#00BB00\" x=\"0\" y=\"0\"  transform=\"matrix(0.53,0,0,0.100,52,49)\">A</text>\n",
       "  <text fill=\"#0000EE\" x=\"0\" y=\"0\"  transform=\"matrix(0.59,0,0,0.100,50,44)\">C</text>\n",
       "  <text fill=\"#F9A500\" x=\"0\" y=\"0\"  transform=\"matrix(0.55,0,0,0.100,50,39)\">G</text>\n",
       "  <text fill=\"#DD0000\" x=\"0\" y=\"0\"  transform=\"matrix(0.65,0,0,0.700,48.5,34)\">U</text>\n",
       "  \n",
       "  <text fill=\"#00BB00\" x=\"0\" y=\"0\"  transform=\"matrix(0.53,0,0,0.100,77,49)\">A</text>\n",
       "  <text fill=\"#0000EE\" x=\"0\" y=\"0\"  transform=\"matrix(0.59,0,0,0.100,75,44)\">C</text>\n",
       "  <text fill=\"#DD0000\" x=\"0\" y=\"0\"  transform=\"matrix(0.65,0,0,0.100,73.5,39)\">U</text>\n",
       "  <text fill=\"#F9A500\" x=\"0\" y=\"0\"  transform=\"matrix(0.55,0,0,0.700,75,34)\">G</text>\n",
       "  \n",
       "  <text fill=\"#00BB00\" x=\"0\" y=\"0\"  transform=\"matrix(0.53,0,0,0.100,102,49)\">A</text>\n",
       "  <text fill=\"#F9A500\" x=\"0\" y=\"0\"  transform=\"matrix(0.55,0,0,0.100,100,44)\">G</text>\n",
       "  <text fill=\"#DD0000\" x=\"0\" y=\"0\"  transform=\"matrix(0.65,0,0,0.100,98.5,39)\">U</text>\n",
       "  <text fill=\"#0000EE\" x=\"0\" y=\"0\"  transform=\"matrix(0.59,0,0,0.700,100,34)\">C</text>\n",
       "  \n",
       " </g>\n",
       "</svg>\n",
       "</TD><TD>1e-5</TD><TD>-1.268e+01</TD><TD>17.19%</TD><TD>13.05%</TD><TD>56.0bp (71.8bp)</TD><TD>hsa-miR-4642 MIMAT0019702 Homo sapiens miR-4642 Targets (miRBase)(0.729)<BR/><A target=\"_blank\" HREF=\"homerResults/motif30.info.html\">More Information</A> | <A target=\"blank\" HREF=\"homerResults/motif30.similar.html\">Similar Motifs Found</A></TD><TD><A target=\"_blank\" HREF=\"homerResults/motif30.motif\">motif file (matrix)</A></TD></TR>\n",
       "<TR><TD>31\n",
       "<FONT color=\"red\">*</FONT></TD><TD><svg width=\"155\" height=\"50\">\n",
       " <g font-family=\"Arial\" font-weight=\"bold\" font-size=\"66.5\">\n",
       "  <text fill=\"#DD0000\" x=\"0\" y=\"0\"  transform=\"matrix(0.65,0,0,0.001,-1.5,49)\">U</text>\n",
       "  <text fill=\"#00BB00\" x=\"0\" y=\"0\"  transform=\"matrix(0.53,0,0,0.188,2,48.95)\">A</text>\n",
       "  <text fill=\"#0000EE\" x=\"0\" y=\"0\"  transform=\"matrix(0.59,0,0,0.244,0,39.55)\">C</text>\n",
       "  <text fill=\"#F9A500\" x=\"0\" y=\"0\"  transform=\"matrix(0.55,0,0,0.567,0,27.35)\">G</text>\n",
       "  \n",
       "  <text fill=\"#F9A500\" x=\"0\" y=\"0\"  transform=\"matrix(0.55,0,0,0.027,25,49)\">G</text>\n",
       "  <text fill=\"#DD0000\" x=\"0\" y=\"0\"  transform=\"matrix(0.65,0,0,0.045,23.5,47.65)\">U</text>\n",
       "  <text fill=\"#00BB00\" x=\"0\" y=\"0\"  transform=\"matrix(0.53,0,0,0.290,27,45.4)\">A</text>\n",
       "  <text fill=\"#0000EE\" x=\"0\" y=\"0\"  transform=\"matrix(0.59,0,0,0.638,25,30.9)\">C</text>\n",
       "  \n",
       "  <text fill=\"#0000EE\" x=\"0\" y=\"0\"  transform=\"matrix(0.59,0,0,0.094,50,49)\">C</text>\n",
       "  <text fill=\"#DD0000\" x=\"0\" y=\"0\"  transform=\"matrix(0.65,0,0,0.136,48.5,44.3)\">U</text>\n",
       "  <text fill=\"#00BB00\" x=\"0\" y=\"0\"  transform=\"matrix(0.53,0,0,0.372,52,37.5)\">A</text>\n",
       "  <text fill=\"#F9A500\" x=\"0\" y=\"0\"  transform=\"matrix(0.55,0,0,0.398,50,18.9)\">G</text>\n",
       "  \n",
       "  <text fill=\"#00BB00\" x=\"0\" y=\"0\"  transform=\"matrix(0.53,0,0,0.001,77,49)\">A</text>\n",
       "  <text fill=\"#F9A500\" x=\"0\" y=\"0\"  transform=\"matrix(0.55,0,0,0.062,75,48.95)\">G</text>\n",
       "  <text fill=\"#DD0000\" x=\"0\" y=\"0\"  transform=\"matrix(0.65,0,0,0.217,73.5,45.85)\">U</text>\n",
       "  <text fill=\"#0000EE\" x=\"0\" y=\"0\"  transform=\"matrix(0.59,0,0,0.720,75,35)\">C</text>\n",
       "  \n",
       "  <text fill=\"#F9A500\" x=\"0\" y=\"0\"  transform=\"matrix(0.55,0,0,0.051,100,49)\">G</text>\n",
       "  <text fill=\"#0000EE\" x=\"0\" y=\"0\"  transform=\"matrix(0.59,0,0,0.055,100,46.45)\">C</text>\n",
       "  <text fill=\"#DD0000\" x=\"0\" y=\"0\"  transform=\"matrix(0.65,0,0,0.073,98.5,43.7)\">U</text>\n",
       "  <text fill=\"#00BB00\" x=\"0\" y=\"0\"  transform=\"matrix(0.53,0,0,0.821,102,40.05)\">A</text>\n",
       "  \n",
       "  <text fill=\"#F9A500\" x=\"0\" y=\"0\"  transform=\"matrix(0.55,0,0,0.001,125,49)\">G</text>\n",
       "  <text fill=\"#DD0000\" x=\"0\" y=\"0\"  transform=\"matrix(0.65,0,0,0.026,123.5,48.95)\">U</text>\n",
       "  <text fill=\"#00BB00\" x=\"0\" y=\"0\"  transform=\"matrix(0.53,0,0,0.068,127,47.65)\">A</text>\n",
       "  <text fill=\"#0000EE\" x=\"0\" y=\"0\"  transform=\"matrix(0.59,0,0,0.905,125,44.25)\">C</text>\n",
       "  \n",
       " </g>\n",
       "</svg>\n",
       "</TD><TD>1e-5</TD><TD>-1.221e+01</TD><TD>13.08%</TD><TD>9.52%</TD><TD>46.4bp (70.3bp)</TD><TD>hsa-miR-648 MIMAT0003318 Homo sapiens miR-648 Targets (miRBase)(0.724)<BR/><A target=\"_blank\" HREF=\"homerResults/motif31.info.html\">More Information</A> | <A target=\"blank\" HREF=\"homerResults/motif31.similar.html\">Similar Motifs Found</A></TD><TD><A target=\"_blank\" HREF=\"homerResults/motif31.motif\">motif file (matrix)</A></TD></TR>\n",
       "<TR><TD>32\n",
       "<FONT color=\"red\">*</FONT></TD><TD><svg width=\"205\" height=\"50\">\n",
       " <g font-family=\"Arial\" font-weight=\"bold\" font-size=\"66.5\">\n",
       "  <text fill=\"#00BB00\" x=\"0\" y=\"0\"  transform=\"matrix(0.53,0,0,0.100,2,49)\">A</text>\n",
       "  <text fill=\"#F9A500\" x=\"0\" y=\"0\"  transform=\"matrix(0.55,0,0,0.100,0,44)\">G</text>\n",
       "  <text fill=\"#DD0000\" x=\"0\" y=\"0\"  transform=\"matrix(0.65,0,0,0.100,-1.5,39)\">U</text>\n",
       "  <text fill=\"#0000EE\" x=\"0\" y=\"0\"  transform=\"matrix(0.59,0,0,0.700,0,34)\">C</text>\n",
       "  \n",
       "  <text fill=\"#00BB00\" x=\"0\" y=\"0\"  transform=\"matrix(0.53,0,0,0.100,27,49)\">A</text>\n",
       "  <text fill=\"#0000EE\" x=\"0\" y=\"0\"  transform=\"matrix(0.59,0,0,0.100,25,44)\">C</text>\n",
       "  <text fill=\"#DD0000\" x=\"0\" y=\"0\"  transform=\"matrix(0.65,0,0,0.100,23.5,39)\">U</text>\n",
       "  <text fill=\"#F9A500\" x=\"0\" y=\"0\"  transform=\"matrix(0.55,0,0,0.700,25,34)\">G</text>\n",
       "  \n",
       "  <text fill=\"#00BB00\" x=\"0\" y=\"0\"  transform=\"matrix(0.53,0,0,0.100,52,49)\">A</text>\n",
       "  <text fill=\"#F9A500\" x=\"0\" y=\"0\"  transform=\"matrix(0.55,0,0,0.100,50,44)\">G</text>\n",
       "  <text fill=\"#DD0000\" x=\"0\" y=\"0\"  transform=\"matrix(0.65,0,0,0.100,48.5,39)\">U</text>\n",
       "  <text fill=\"#0000EE\" x=\"0\" y=\"0\"  transform=\"matrix(0.59,0,0,0.700,50,34)\">C</text>\n",
       "  \n",
       "  <text fill=\"#00BB00\" x=\"0\" y=\"0\"  transform=\"matrix(0.53,0,0,0.100,77,49)\">A</text>\n",
       "  <text fill=\"#0000EE\" x=\"0\" y=\"0\"  transform=\"matrix(0.59,0,0,0.100,75,44)\">C</text>\n",
       "  <text fill=\"#DD0000\" x=\"0\" y=\"0\"  transform=\"matrix(0.65,0,0,0.100,73.5,39)\">U</text>\n",
       "  <text fill=\"#F9A500\" x=\"0\" y=\"0\"  transform=\"matrix(0.55,0,0,0.700,75,34)\">G</text>\n",
       "  \n",
       "  <text fill=\"#00BB00\" x=\"0\" y=\"0\"  transform=\"matrix(0.53,0,0,0.100,102,49)\">A</text>\n",
       "  <text fill=\"#0000EE\" x=\"0\" y=\"0\"  transform=\"matrix(0.59,0,0,0.100,100,44)\">C</text>\n",
       "  <text fill=\"#DD0000\" x=\"0\" y=\"0\"  transform=\"matrix(0.65,0,0,0.100,98.5,39)\">U</text>\n",
       "  <text fill=\"#F9A500\" x=\"0\" y=\"0\"  transform=\"matrix(0.55,0,0,0.700,100,34)\">G</text>\n",
       "  \n",
       "  <text fill=\"#00BB00\" x=\"0\" y=\"0\"  transform=\"matrix(0.53,0,0,0.100,127,49)\">A</text>\n",
       "  <text fill=\"#0000EE\" x=\"0\" y=\"0\"  transform=\"matrix(0.59,0,0,0.100,125,44)\">C</text>\n",
       "  <text fill=\"#F9A500\" x=\"0\" y=\"0\"  transform=\"matrix(0.55,0,0,0.100,125,39)\">G</text>\n",
       "  <text fill=\"#DD0000\" x=\"0\" y=\"0\"  transform=\"matrix(0.65,0,0,0.700,123.5,34)\">U</text>\n",
       "  \n",
       "  <text fill=\"#0000EE\" x=\"0\" y=\"0\"  transform=\"matrix(0.59,0,0,0.100,150,49)\">C</text>\n",
       "  <text fill=\"#F9A500\" x=\"0\" y=\"0\"  transform=\"matrix(0.55,0,0,0.100,150,44)\">G</text>\n",
       "  <text fill=\"#DD0000\" x=\"0\" y=\"0\"  transform=\"matrix(0.65,0,0,0.100,148.5,39)\">U</text>\n",
       "  <text fill=\"#00BB00\" x=\"0\" y=\"0\"  transform=\"matrix(0.53,0,0,0.700,152,34)\">A</text>\n",
       "  \n",
       "  <text fill=\"#00BB00\" x=\"0\" y=\"0\"  transform=\"matrix(0.53,0,0,0.100,177,49)\">A</text>\n",
       "  <text fill=\"#F9A500\" x=\"0\" y=\"0\"  transform=\"matrix(0.55,0,0,0.100,175,44)\">G</text>\n",
       "  <text fill=\"#DD0000\" x=\"0\" y=\"0\"  transform=\"matrix(0.65,0,0,0.100,173.5,39)\">U</text>\n",
       "  <text fill=\"#0000EE\" x=\"0\" y=\"0\"  transform=\"matrix(0.59,0,0,0.700,175,34)\">C</text>\n",
       "  \n",
       " </g>\n",
       "</svg>\n",
       "</TD><TD>1e-5</TD><TD>-1.168e+01</TD><TD>0.34%</TD><TD>0.02%</TD><TD>40.8bp (70.3bp)</TD><TD>hsa-miR-126 MIMAT0000445 Homo sapiens miR-126 Targets (miRBase)(0.722)<BR/><A target=\"_blank\" HREF=\"homerResults/motif32.info.html\">More Information</A> | <A target=\"blank\" HREF=\"homerResults/motif32.similar.html\">Similar Motifs Found</A></TD><TD><A target=\"_blank\" HREF=\"homerResults/motif32.motif\">motif file (matrix)</A></TD></TR>\n",
       "<TR><TD>33\n",
       "<FONT color=\"red\">*</FONT></TD><TD><svg width=\"230\" height=\"50\">\n",
       " <g font-family=\"Arial\" font-weight=\"bold\" font-size=\"66.5\">\n",
       "  <text fill=\"#F9A500\" x=\"0\" y=\"0\"  transform=\"matrix(0.55,0,0,0.001,0,49)\">G</text>\n",
       "  <text fill=\"#00BB00\" x=\"0\" y=\"0\"  transform=\"matrix(0.53,0,0,0.002,2,48.95)\">A</text>\n",
       "  <text fill=\"#DD0000\" x=\"0\" y=\"0\"  transform=\"matrix(0.65,0,0,0.035,-1.5,48.85)\">U</text>\n",
       "  <text fill=\"#0000EE\" x=\"0\" y=\"0\"  transform=\"matrix(0.59,0,0,0.962,0,47.1)\">C</text>\n",
       "  \n",
       "  <text fill=\"#0000EE\" x=\"0\" y=\"0\"  transform=\"matrix(0.59,0,0,0.001,25,49)\">C</text>\n",
       "  <text fill=\"#F9A500\" x=\"0\" y=\"0\"  transform=\"matrix(0.55,0,0,0.001,25,48.95)\">G</text>\n",
       "  <text fill=\"#DD0000\" x=\"0\" y=\"0\"  transform=\"matrix(0.65,0,0,0.001,23.5,48.9)\">U</text>\n",
       "  <text fill=\"#00BB00\" x=\"0\" y=\"0\"  transform=\"matrix(0.53,0,0,0.997,27,48.85)\">A</text>\n",
       "  \n",
       "  <text fill=\"#00BB00\" x=\"0\" y=\"0\"  transform=\"matrix(0.53,0,0,0.001,52,49)\">A</text>\n",
       "  <text fill=\"#F9A500\" x=\"0\" y=\"0\"  transform=\"matrix(0.55,0,0,0.001,50,48.95)\">G</text>\n",
       "  <text fill=\"#DD0000\" x=\"0\" y=\"0\"  transform=\"matrix(0.65,0,0,0.008,48.5,48.9)\">U</text>\n",
       "  <text fill=\"#0000EE\" x=\"0\" y=\"0\"  transform=\"matrix(0.59,0,0,0.990,50,48.5)\">C</text>\n",
       "  \n",
       "  <text fill=\"#F9A500\" x=\"0\" y=\"0\"  transform=\"matrix(0.55,0,0,0.001,75,49)\">G</text>\n",
       "  <text fill=\"#DD0000\" x=\"0\" y=\"0\"  transform=\"matrix(0.65,0,0,0.001,73.5,48.95)\">U</text>\n",
       "  <text fill=\"#0000EE\" x=\"0\" y=\"0\"  transform=\"matrix(0.59,0,0,0.037,75,48.9)\">C</text>\n",
       "  <text fill=\"#00BB00\" x=\"0\" y=\"0\"  transform=\"matrix(0.53,0,0,0.961,77,47.05)\">A</text>\n",
       "  \n",
       "  <text fill=\"#0000EE\" x=\"0\" y=\"0\"  transform=\"matrix(0.59,0,0,0.001,100,49)\">C</text>\n",
       "  <text fill=\"#F9A500\" x=\"0\" y=\"0\"  transform=\"matrix(0.55,0,0,0.006,100,48.95)\">G</text>\n",
       "  <text fill=\"#00BB00\" x=\"0\" y=\"0\"  transform=\"matrix(0.53,0,0,0.387,102,48.65)\">A</text>\n",
       "  <text fill=\"#DD0000\" x=\"0\" y=\"0\"  transform=\"matrix(0.65,0,0,0.606,98.5,29.3)\">U</text>\n",
       "  \n",
       "  <text fill=\"#F9A500\" x=\"0\" y=\"0\"  transform=\"matrix(0.55,0,0,0.001,125,49)\">G</text>\n",
       "  <text fill=\"#0000EE\" x=\"0\" y=\"0\"  transform=\"matrix(0.59,0,0,0.007,125,48.95)\">C</text>\n",
       "  <text fill=\"#DD0000\" x=\"0\" y=\"0\"  transform=\"matrix(0.65,0,0,0.047,123.5,48.6)\">U</text>\n",
       "  <text fill=\"#00BB00\" x=\"0\" y=\"0\"  transform=\"matrix(0.53,0,0,0.945,127,46.25)\">A</text>\n",
       "  \n",
       "  <text fill=\"#00BB00\" x=\"0\" y=\"0\"  transform=\"matrix(0.53,0,0,0.001,152,49)\">A</text>\n",
       "  <text fill=\"#F9A500\" x=\"0\" y=\"0\"  transform=\"matrix(0.55,0,0,0.001,150,48.95)\">G</text>\n",
       "  <text fill=\"#DD0000\" x=\"0\" y=\"0\"  transform=\"matrix(0.65,0,0,0.001,148.5,48.9)\">U</text>\n",
       "  <text fill=\"#0000EE\" x=\"0\" y=\"0\"  transform=\"matrix(0.59,0,0,0.997,150,48.85)\">C</text>\n",
       "  \n",
       "  <text fill=\"#00BB00\" x=\"0\" y=\"0\"  transform=\"matrix(0.53,0,0,0.001,177,49)\">A</text>\n",
       "  <text fill=\"#0000EE\" x=\"0\" y=\"0\"  transform=\"matrix(0.59,0,0,0.001,175,48.95)\">C</text>\n",
       "  <text fill=\"#DD0000\" x=\"0\" y=\"0\"  transform=\"matrix(0.65,0,0,0.001,173.5,48.9)\">U</text>\n",
       "  <text fill=\"#F9A500\" x=\"0\" y=\"0\"  transform=\"matrix(0.55,0,0,0.997,175,48.85)\">G</text>\n",
       "  \n",
       "  <text fill=\"#00BB00\" x=\"0\" y=\"0\"  transform=\"matrix(0.53,0,0,0.001,202,49)\">A</text>\n",
       "  <text fill=\"#F9A500\" x=\"0\" y=\"0\"  transform=\"matrix(0.55,0,0,0.001,200,48.95)\">G</text>\n",
       "  <text fill=\"#DD0000\" x=\"0\" y=\"0\"  transform=\"matrix(0.65,0,0,0.001,198.5,48.9)\">U</text>\n",
       "  <text fill=\"#0000EE\" x=\"0\" y=\"0\"  transform=\"matrix(0.59,0,0,0.997,200,48.85)\">C</text>\n",
       "  \n",
       " </g>\n",
       "</svg>\n",
       "</TD><TD>1e-4</TD><TD>-1.138e+01</TD><TD>0.47%</TD><TD>0.05%</TD><TD>38.8bp (61.6bp)</TD><TD>hsa-miR-585 MIMAT0003250 Homo sapiens miR-585 Targets (miRBase)(0.642)<BR/><A target=\"_blank\" HREF=\"homerResults/motif33.info.html\">More Information</A> | <A target=\"blank\" HREF=\"homerResults/motif33.similar.html\">Similar Motifs Found</A></TD><TD><A target=\"_blank\" HREF=\"homerResults/motif33.motif\">motif file (matrix)</A></TD></TR>\n",
       "<TR><TD>34\n",
       "<FONT color=\"red\">*</FONT></TD><TD><svg width=\"205\" height=\"50\">\n",
       " <g font-family=\"Arial\" font-weight=\"bold\" font-size=\"66.5\">\n",
       "  <text fill=\"#0000EE\" x=\"0\" y=\"0\"  transform=\"matrix(0.59,0,0,0.100,0,49)\">C</text>\n",
       "  <text fill=\"#F9A500\" x=\"0\" y=\"0\"  transform=\"matrix(0.55,0,0,0.100,0,44)\">G</text>\n",
       "  <text fill=\"#DD0000\" x=\"0\" y=\"0\"  transform=\"matrix(0.65,0,0,0.100,-1.5,39)\">U</text>\n",
       "  <text fill=\"#00BB00\" x=\"0\" y=\"0\"  transform=\"matrix(0.53,0,0,0.700,2,34)\">A</text>\n",
       "  \n",
       "  <text fill=\"#0000EE\" x=\"0\" y=\"0\"  transform=\"matrix(0.59,0,0,0.100,25,49)\">C</text>\n",
       "  <text fill=\"#F9A500\" x=\"0\" y=\"0\"  transform=\"matrix(0.55,0,0,0.100,25,44)\">G</text>\n",
       "  <text fill=\"#DD0000\" x=\"0\" y=\"0\"  transform=\"matrix(0.65,0,0,0.100,23.5,39)\">U</text>\n",
       "  <text fill=\"#00BB00\" x=\"0\" y=\"0\"  transform=\"matrix(0.53,0,0,0.700,27,34)\">A</text>\n",
       "  \n",
       "  <text fill=\"#0000EE\" x=\"0\" y=\"0\"  transform=\"matrix(0.59,0,0,0.100,50,49)\">C</text>\n",
       "  <text fill=\"#F9A500\" x=\"0\" y=\"0\"  transform=\"matrix(0.55,0,0,0.100,50,44)\">G</text>\n",
       "  <text fill=\"#DD0000\" x=\"0\" y=\"0\"  transform=\"matrix(0.65,0,0,0.100,48.5,39)\">U</text>\n",
       "  <text fill=\"#00BB00\" x=\"0\" y=\"0\"  transform=\"matrix(0.53,0,0,0.700,52,34)\">A</text>\n",
       "  \n",
       "  <text fill=\"#00BB00\" x=\"0\" y=\"0\"  transform=\"matrix(0.53,0,0,0.100,77,49)\">A</text>\n",
       "  <text fill=\"#0000EE\" x=\"0\" y=\"0\"  transform=\"matrix(0.59,0,0,0.100,75,44)\">C</text>\n",
       "  <text fill=\"#DD0000\" x=\"0\" y=\"0\"  transform=\"matrix(0.65,0,0,0.100,73.5,39)\">U</text>\n",
       "  <text fill=\"#F9A500\" x=\"0\" y=\"0\"  transform=\"matrix(0.55,0,0,0.700,75,34)\">G</text>\n",
       "  \n",
       "  <text fill=\"#00BB00\" x=\"0\" y=\"0\"  transform=\"matrix(0.53,0,0,0.100,102,49)\">A</text>\n",
       "  <text fill=\"#0000EE\" x=\"0\" y=\"0\"  transform=\"matrix(0.59,0,0,0.100,100,44)\">C</text>\n",
       "  <text fill=\"#DD0000\" x=\"0\" y=\"0\"  transform=\"matrix(0.65,0,0,0.100,98.5,39)\">U</text>\n",
       "  <text fill=\"#F9A500\" x=\"0\" y=\"0\"  transform=\"matrix(0.55,0,0,0.700,100,34)\">G</text>\n",
       "  \n",
       "  <text fill=\"#00BB00\" x=\"0\" y=\"0\"  transform=\"matrix(0.53,0,0,0.100,127,49)\">A</text>\n",
       "  <text fill=\"#F9A500\" x=\"0\" y=\"0\"  transform=\"matrix(0.55,0,0,0.100,125,44)\">G</text>\n",
       "  <text fill=\"#DD0000\" x=\"0\" y=\"0\"  transform=\"matrix(0.65,0,0,0.100,123.5,39)\">U</text>\n",
       "  <text fill=\"#0000EE\" x=\"0\" y=\"0\"  transform=\"matrix(0.59,0,0,0.700,125,34)\">C</text>\n",
       "  \n",
       "  <text fill=\"#00BB00\" x=\"0\" y=\"0\"  transform=\"matrix(0.53,0,0,0.100,152,49)\">A</text>\n",
       "  <text fill=\"#0000EE\" x=\"0\" y=\"0\"  transform=\"matrix(0.59,0,0,0.100,150,44)\">C</text>\n",
       "  <text fill=\"#DD0000\" x=\"0\" y=\"0\"  transform=\"matrix(0.65,0,0,0.100,148.5,39)\">U</text>\n",
       "  <text fill=\"#F9A500\" x=\"0\" y=\"0\"  transform=\"matrix(0.55,0,0,0.700,150,34)\">G</text>\n",
       "  \n",
       "  <text fill=\"#00BB00\" x=\"0\" y=\"0\"  transform=\"matrix(0.53,0,0,0.100,177,49)\">A</text>\n",
       "  <text fill=\"#0000EE\" x=\"0\" y=\"0\"  transform=\"matrix(0.59,0,0,0.100,175,44)\">C</text>\n",
       "  <text fill=\"#DD0000\" x=\"0\" y=\"0\"  transform=\"matrix(0.65,0,0,0.100,173.5,39)\">U</text>\n",
       "  <text fill=\"#F9A500\" x=\"0\" y=\"0\"  transform=\"matrix(0.55,0,0,0.700,175,34)\">G</text>\n",
       "  \n",
       " </g>\n",
       "</svg>\n",
       "</TD><TD>1e-4</TD><TD>-1.070e+01</TD><TD>0.67%</TD><TD>0.12%</TD><TD>55.4bp (74.6bp)</TD><TD>hsa-miR-1249 MIMAT0005901 Homo sapiens miR-1249 Targets (miRBase)(0.637)<BR/><A target=\"_blank\" HREF=\"homerResults/motif34.info.html\">More Information</A> | <A target=\"blank\" HREF=\"homerResults/motif34.similar.html\">Similar Motifs Found</A></TD><TD><A target=\"_blank\" HREF=\"homerResults/motif34.motif\">motif file (matrix)</A></TD></TR>\n",
       "</TABLE>\n",
       "<P></P>\n",
       "</BODY></HTML>\n"
      ],
      "text/plain": [
       "<IPython.core.display.HTML object>"
      ]
     },
     "execution_count": 159,
     "metadata": {},
     "output_type": "execute_result"
    }
   ],
   "source": [
    "from IPython.display import HTML\n",
    "HTML(filename=out_path/\"homerResults.html\")"
   ]
  },
  {
   "cell_type": "markdown",
   "id": "cdf35e2b-9420-4b27-89e1-3c09b1102610",
   "metadata": {
    "jp-MarkdownHeadingCollapsed": true
   },
   "source": [
    "# Combination Analysis"
   ]
  },
  {
   "cell_type": "code",
   "execution_count": 554,
   "id": "68167f2a-13bb-48f7-96d6-a0d01f6e0aca",
   "metadata": {},
   "outputs": [],
   "source": [
    "# Original bbbreviated sample names\n",
    "#treated = [\"a4_1\",\"a4_2\",\"a4_3\",\"a4_4\"] # Edit\n",
    "#control = [\"no_1\",\"no_2\",\"no_3\",\"no_4\"] # Edit"
   ]
  },
  {
   "cell_type": "code",
   "execution_count": 555,
   "id": "10d5f46f-db19-4829-b67e-4e53b12633a0",
   "metadata": {},
   "outputs": [],
   "source": [
    "#Original samples\n",
    "#samples = treated + control\n",
    "#samples"
   ]
  },
  {
   "cell_type": "code",
   "execution_count": 730,
   "id": "6d38fcbc-0a18-47f8-8f4e-7b91f71570bd",
   "metadata": {
    "scrolled": true
   },
   "outputs": [
    {
     "name": "stdout",
     "output_type": "stream",
     "text": [
      "['a4_1', 'a4_2', 'a4_3', 'a4_4']\n",
      "['no_1', 'no_2', 'no_3', 'no_4']\n",
      "['a4_1', 'a4_2', 'a4_3', 'a4_4', 'no_1', 'no_2', 'no_3', 'no_4']\n",
      "_1234@10-12-14\n"
     ]
    }
   ],
   "source": [
    "# Use these for creating combinations\n",
    "treated = [\"a4_1\",\"a4_2\",\"a4_3\",\"a4_4\"]\n",
    "control = [\"no_1\",\"no_2\",\"no_3\",\"no_4\"]\n",
    "samples = treated + control\n",
    "tag = \"1234@10-12-14\" # Tags should be of form: \"1\", \"234\", \"12_12\", \"1_12; 1234@10-12-14 means samples 1,2,3,4 w/len=10-12-14\"\n",
    "\n",
    "###############\n",
    "tag = \"_\" + tag\n",
    "print(treated)\n",
    "print(control)\n",
    "print(samples)\n",
    "print(tag)"
   ]
  },
  {
   "cell_type": "markdown",
   "id": "0791bfab-7193-4b90-a802-88140005f8c3",
   "metadata": {},
   "source": [
    "## Step: peak_fwd"
   ]
  },
  {
   "cell_type": "markdown",
   "id": "bc08cddf-198a-438b-bc42-3fe7c73afd9a",
   "metadata": {},
   "source": [
    "#### Call peaks from forward reads"
   ]
  },
  {
   "cell_type": "code",
   "execution_count": 731,
   "id": "857ccc16-071b-42fe-a292-19b743ee915b",
   "metadata": {},
   "outputs": [],
   "source": [
    "in_path   = mkpath(\"split_fwd\")\n",
    "out_path  = mkpath(f\"peak_fwd{tag}\")"
   ]
  },
  {
   "cell_type": "code",
   "execution_count": 732,
   "id": "17dba4a6-0d7b-428d-8691-c85e6b8e760f",
   "metadata": {},
   "outputs": [
    {
     "name": "stdout",
     "output_type": "stream",
     "text": [
      "peak_fwd_1234@10-12-14\n"
     ]
    }
   ],
   "source": [
    "print(out_path)"
   ]
  },
  {
   "cell_type": "code",
   "execution_count": 733,
   "id": "3975418d-8bbe-4e2f-939a-a97f1d51d45c",
   "metadata": {},
   "outputs": [
    {
     "name": "stdout",
     "output_type": "stream",
     "text": [
      "split_fwd/a4_1.bam split_fwd/a4_2.bam split_fwd/a4_3.bam split_fwd/a4_4.bam\n",
      "split_fwd/no_1.bam split_fwd/no_2.bam split_fwd/no_3.bam split_fwd/no_4.bam\n"
     ]
    }
   ],
   "source": [
    "print(samples_string(treated,in_path))\n",
    "print(samples_string(control,in_path))"
   ]
  },
  {
   "cell_type": "code",
   "execution_count": 734,
   "id": "69501e11-430c-475e-b5da-ff055be6a563",
   "metadata": {
    "scrolled": true
   },
   "outputs": [
    {
     "name": "stdout",
     "output_type": "stream",
     "text": [
      "INFO  @ 14 Oct 2023 05:24:02: [61 MB] \n",
      "# Command line: callpeak --treatment split_fwd/a4_1.bam split_fwd/a4_2.bam split_fwd/a4_3.bam split_fwd/a4_4.bam --control split_fwd/no_1.bam split_fwd/no_2.bam split_fwd/no_3.bam split_fwd/no_4.bam -f BAM -n fwd -g hs --keep-dup all --outdir peak_fwd_1234@10-12-14 --nomodel --extsize 30\n",
      "# ARGUMENTS LIST:\n",
      "# name = fwd\n",
      "# format = BAM\n",
      "# ChIP-seq file = ['split_fwd/a4_1.bam', 'split_fwd/a4_2.bam', 'split_fwd/a4_3.bam', 'split_fwd/a4_4.bam']\n",
      "# control file = ['split_fwd/no_1.bam', 'split_fwd/no_2.bam', 'split_fwd/no_3.bam', 'split_fwd/no_4.bam']\n",
      "# effective genome size = 2.91e+09\n",
      "# band width = 300\n",
      "# model fold = [5, 50]\n",
      "# qvalue cutoff = 5.00e-02\n",
      "# The maximum gap between significant sites is assigned as the read length/tag size.\n",
      "# The minimum length of peaks is assigned as the predicted fragment length \"d\".\n",
      "# Larger dataset will be scaled towards smaller dataset.\n",
      "# Range for calculating regional lambda is: 1000 bps and 10000 bps\n",
      "# Broad region calling is off\n",
      "# Paired-End mode is off\n",
      " \n",
      "INFO  @ 14 Oct 2023 05:24:02: [61 MB] #1 read tag files... \n",
      "INFO  @ 14 Oct 2023 05:24:02: [61 MB] #1 read treatment tags... \n",
      "INFO  @ 14 Oct 2023 05:24:02: [85 MB] 869510 reads have been read. \n",
      "INFO  @ 14 Oct 2023 05:24:03: [96 MB] 233566 reads have been read. \n",
      "INFO  @ 14 Oct 2023 05:24:03: [96 MB] 703905 reads have been read. \n",
      "INFO  @ 14 Oct 2023 05:24:04: [99 MB] 520846 reads have been read. \n",
      "INFO  @ 14 Oct 2023 05:24:04: [99 MB] #1.2 read input tags... \n",
      "INFO  @ 14 Oct 2023 05:24:04: [116 MB] 557795 reads have been read. \n",
      "INFO  @ 14 Oct 2023 05:24:05: [127 MB] 555966 reads have been read. \n",
      "INFO  @ 14 Oct 2023 05:24:05: [133 MB] 431273 reads have been read. \n",
      "INFO  @ 14 Oct 2023 05:24:06: [140 MB] 615633 reads have been read. \n",
      "INFO  @ 14 Oct 2023 05:24:06: [140 MB] #1 tag size is determined as 50 bps \n",
      "INFO  @ 14 Oct 2023 05:24:06: [140 MB] #1 tag size = 50.0 \n",
      "INFO  @ 14 Oct 2023 05:24:06: [140 MB] #1  total tags in treatment: 2327827 \n",
      "INFO  @ 14 Oct 2023 05:24:06: [140 MB] #1  total tags in control: 2160667 \n",
      "INFO  @ 14 Oct 2023 05:24:06: [140 MB] #1 finished! \n",
      "INFO  @ 14 Oct 2023 05:24:06: [140 MB] #2 Build Peak Model... \n",
      "INFO  @ 14 Oct 2023 05:24:06: [140 MB] #2 Skipped... \n",
      "INFO  @ 14 Oct 2023 05:24:06: [140 MB] #2 Use 30 as fragment length \n",
      "INFO  @ 14 Oct 2023 05:24:06: [140 MB] #3 Call peaks... \n",
      "INFO  @ 14 Oct 2023 05:24:06: [140 MB] #3 Pre-compute pvalue-qvalue table... \n",
      "INFO  @ 14 Oct 2023 05:24:11: [181 MB] #3 Call peaks for each chromosome... \n",
      "INFO  @ 14 Oct 2023 05:24:11: [181 MB] #4 Write output xls file... peak_fwd_1234@10-12-14/fwd_peaks.xls \n",
      "INFO  @ 14 Oct 2023 05:24:11: [181 MB] #4 Write peak in narrowPeak format file... peak_fwd_1234@10-12-14/fwd_peaks.narrowPeak \n",
      "INFO  @ 14 Oct 2023 05:24:11: [181 MB] #4 Write summits bed file... peak_fwd_1234@10-12-14/fwd_summits.bed \n",
      "INFO  @ 14 Oct 2023 05:24:11: [181 MB] Done! \n"
     ]
    }
   ],
   "source": [
    "! macs3 callpeak                                  \\\n",
    "    --treatment {samples_string(treated,in_path)} \\\n",
    "    --control   {samples_string(control,in_path)} \\\n",
    "    -f BAM                                        \\\n",
    "    -n fwd                                        \\\n",
    "    -g hs                                         \\\n",
    "    --keep-dup all                                \\\n",
    "    --outdir {out_path}                           \\\n",
    "    --nomodel --extsize 30"
   ]
  },
  {
   "cell_type": "markdown",
   "id": "c055fc30-8280-4a84-8356-ac8287dd3849",
   "metadata": {},
   "source": [
    "#### Mark 6th column with a **+** to indicate a `fwd` peak (sed is 0 based)"
   ]
  },
  {
   "cell_type": "code",
   "execution_count": 735,
   "id": "a921df2c-a853-4c72-a581-c1c91cc15853",
   "metadata": {},
   "outputs": [],
   "source": [
    "!sed -i 's/\\t[^\\t]*/\\t+/5' {out_path}/*.narrowPeak"
   ]
  },
  {
   "cell_type": "markdown",
   "id": "f4dd288b-d5b1-4325-b9e0-7070b4e23ffd",
   "metadata": {},
   "source": [
    "## Step: peak_rev"
   ]
  },
  {
   "cell_type": "markdown",
   "id": "78711214-b7f7-442d-90b8-358b311be6fa",
   "metadata": {},
   "source": [
    "#### Call peaks from reverse reads"
   ]
  },
  {
   "cell_type": "code",
   "execution_count": 736,
   "id": "1f03ae25-b184-456e-a11d-c6e636f6105f",
   "metadata": {},
   "outputs": [],
   "source": [
    "in_path   = mkpath(\"split_rev\")\n",
    "out_path  = mkpath(f\"peak_rev{tag}\")"
   ]
  },
  {
   "cell_type": "code",
   "execution_count": 737,
   "id": "bdce4fcb-c6ed-4cac-bc79-d94e894cc337",
   "metadata": {},
   "outputs": [
    {
     "name": "stdout",
     "output_type": "stream",
     "text": [
      "split_rev/a4_1.bam split_rev/a4_2.bam split_rev/a4_3.bam split_rev/a4_4.bam\n",
      "split_rev/no_1.bam split_rev/no_2.bam split_rev/no_3.bam split_rev/no_4.bam\n"
     ]
    }
   ],
   "source": [
    "print(samples_string(treated,in_path))\n",
    "print(samples_string(control,in_path))"
   ]
  },
  {
   "cell_type": "code",
   "execution_count": 738,
   "id": "24d099fa-fa05-42d1-95f9-379d17bbf346",
   "metadata": {
    "scrolled": true
   },
   "outputs": [
    {
     "name": "stdout",
     "output_type": "stream",
     "text": [
      "INFO  @ 14 Oct 2023 05:24:12: [61 MB] \n",
      "# Command line: callpeak --treatment split_rev/a4_1.bam split_rev/a4_2.bam split_rev/a4_3.bam split_rev/a4_4.bam --control split_rev/no_1.bam split_rev/no_2.bam split_rev/no_3.bam split_rev/no_4.bam -f BAM -n fwd -g hs --keep-dup all --outdir peak_rev_1234@10-12-14 --nomodel --extsize 30\n",
      "# ARGUMENTS LIST:\n",
      "# name = fwd\n",
      "# format = BAM\n",
      "# ChIP-seq file = ['split_rev/a4_1.bam', 'split_rev/a4_2.bam', 'split_rev/a4_3.bam', 'split_rev/a4_4.bam']\n",
      "# control file = ['split_rev/no_1.bam', 'split_rev/no_2.bam', 'split_rev/no_3.bam', 'split_rev/no_4.bam']\n",
      "# effective genome size = 2.91e+09\n",
      "# band width = 300\n",
      "# model fold = [5, 50]\n",
      "# qvalue cutoff = 5.00e-02\n",
      "# The maximum gap between significant sites is assigned as the read length/tag size.\n",
      "# The minimum length of peaks is assigned as the predicted fragment length \"d\".\n",
      "# Larger dataset will be scaled towards smaller dataset.\n",
      "# Range for calculating regional lambda is: 1000 bps and 10000 bps\n",
      "# Broad region calling is off\n",
      "# Paired-End mode is off\n",
      " \n",
      "INFO  @ 14 Oct 2023 05:24:12: [61 MB] #1 read tag files... \n",
      "INFO  @ 14 Oct 2023 05:24:12: [61 MB] #1 read treatment tags... \n",
      "INFO  @ 14 Oct 2023 05:24:12: [76 MB] 609737 reads have been read. \n",
      "INFO  @ 14 Oct 2023 05:24:12: [87 MB] 146306 reads have been read. \n",
      "INFO  @ 14 Oct 2023 05:24:13: [90 MB] 559619 reads have been read. \n",
      "INFO  @ 14 Oct 2023 05:24:13: [92 MB] 398498 reads have been read. \n",
      "INFO  @ 14 Oct 2023 05:24:13: [92 MB] #1.2 read input tags... \n",
      "INFO  @ 14 Oct 2023 05:24:14: [111 MB] 420347 reads have been read. \n",
      "INFO  @ 14 Oct 2023 05:24:14: [121 MB] 441908 reads have been read. \n",
      "INFO  @ 14 Oct 2023 05:24:15: [124 MB] 336369 reads have been read. \n",
      "INFO  @ 14 Oct 2023 05:24:15: [126 MB] 474977 reads have been read. \n",
      "INFO  @ 14 Oct 2023 05:24:15: [126 MB] #1 tag size is determined as 45 bps \n",
      "INFO  @ 14 Oct 2023 05:24:15: [126 MB] #1 tag size = 45.0 \n",
      "INFO  @ 14 Oct 2023 05:24:15: [126 MB] #1  total tags in treatment: 1714160 \n",
      "INFO  @ 14 Oct 2023 05:24:15: [126 MB] #1  total tags in control: 1673601 \n",
      "INFO  @ 14 Oct 2023 05:24:15: [126 MB] #1 finished! \n",
      "INFO  @ 14 Oct 2023 05:24:15: [126 MB] #2 Build Peak Model... \n",
      "INFO  @ 14 Oct 2023 05:24:15: [126 MB] #2 Skipped... \n",
      "INFO  @ 14 Oct 2023 05:24:15: [126 MB] #2 Use 30 as fragment length \n",
      "INFO  @ 14 Oct 2023 05:24:15: [126 MB] #3 Call peaks... \n",
      "INFO  @ 14 Oct 2023 05:24:15: [126 MB] #3 Pre-compute pvalue-qvalue table... \n",
      "INFO  @ 14 Oct 2023 05:24:19: [174 MB] #3 Call peaks for each chromosome... \n",
      "INFO  @ 14 Oct 2023 05:24:20: [174 MB] #4 Write output xls file... peak_rev_1234@10-12-14/fwd_peaks.xls \n",
      "INFO  @ 14 Oct 2023 05:24:20: [174 MB] #4 Write peak in narrowPeak format file... peak_rev_1234@10-12-14/fwd_peaks.narrowPeak \n",
      "INFO  @ 14 Oct 2023 05:24:20: [174 MB] #4 Write summits bed file... peak_rev_1234@10-12-14/fwd_summits.bed \n",
      "INFO  @ 14 Oct 2023 05:24:20: [174 MB] Done! \n"
     ]
    }
   ],
   "source": [
    "! macs3 callpeak                                  \\\n",
    "    --treatment {samples_string(treated,in_path)} \\\n",
    "    --control   {samples_string(control,in_path)} \\\n",
    "    -f BAM                                        \\\n",
    "    -n fwd                                        \\\n",
    "    -g hs                                         \\\n",
    "    --keep-dup all                                \\\n",
    "    --outdir {out_path}                           \\\n",
    "    --nomodel --extsize 30"
   ]
  },
  {
   "cell_type": "markdown",
   "id": "670aa93b-1bb1-4cbf-bba8-4ded097828e5",
   "metadata": {},
   "source": [
    "#### Mark 6th column with a **-** to indicate a `rev` peak (sed is 0 based)"
   ]
  },
  {
   "cell_type": "code",
   "execution_count": 739,
   "id": "975f46fc-49c9-4736-a37f-81a4b2a43f41",
   "metadata": {},
   "outputs": [],
   "source": [
    "!sed -i 's/\\t[^\\t]*/\\t-/5' {out_path}/*.narrowPeak"
   ]
  },
  {
   "cell_type": "markdown",
   "id": "0abca181-9402-4f65-b444-29a4cb58020d",
   "metadata": {},
   "source": [
    "## Step: peak_all"
   ]
  },
  {
   "cell_type": "markdown",
   "id": "749f3f0a-18d2-4af7-8f6b-055338f79964",
   "metadata": {},
   "source": [
    "#### Combine the forward and reverese reads and extend peak sizes"
   ]
  },
  {
   "cell_type": "code",
   "execution_count": 740,
   "id": "9d8810c6-12e0-4921-ba58-b35df1476494",
   "metadata": {},
   "outputs": [],
   "source": [
    "in_fwd_path = mkpath(f\"peak_fwd{tag}\")\n",
    "in_rev_path = mkpath(f\"peak_rev{tag}\")\n",
    "out_path    = mkpath(f\"peak_all{tag}\")"
   ]
  },
  {
   "cell_type": "markdown",
   "id": "69b6d8e2-5302-4410-9dd6-3095b5a6cda0",
   "metadata": {},
   "source": [
    "##### Combine peaks"
   ]
  },
  {
   "cell_type": "code",
   "execution_count": 741,
   "id": "d4779841-b8fe-43cd-8b34-7214d981e593",
   "metadata": {},
   "outputs": [],
   "source": [
    "all_peaks    = out_path/\"all.narrowPeak\""
   ]
  },
  {
   "cell_type": "code",
   "execution_count": 742,
   "id": "191101f4-8c41-4336-aa99-b79355288c33",
   "metadata": {},
   "outputs": [],
   "source": [
    "!cat {in_fwd_path}/*peaks.narrowPeak {in_rev_path}/*peaks.narrowPeak > {all_peaks}"
   ]
  },
  {
   "cell_type": "code",
   "execution_count": 743,
   "id": "78879d4c-c704-4602-a962-a19b6ebd5f3a",
   "metadata": {},
   "outputs": [
    {
     "name": "stdout",
     "output_type": "stream",
     "text": [
      "1484 peak_all_1234@10-12-14/all.narrowPeak\n"
     ]
    }
   ],
   "source": [
    "!  wc -l {all_peaks} "
   ]
  },
  {
   "cell_type": "markdown",
   "id": "70804ec3-31f5-4fd4-8213-2d725f15c95c",
   "metadata": {},
   "source": [
    "##### Extend peaks by 20 nt in each direction"
   ]
  },
  {
   "cell_type": "code",
   "execution_count": 744,
   "id": "f7de2f61-34a4-40c6-8682-8b6f6ef4adbe",
   "metadata": {},
   "outputs": [
    {
     "data": {
      "text/html": [
       "<div>\n",
       "<style scoped>\n",
       "    .dataframe tbody tr th:only-of-type {\n",
       "        vertical-align: middle;\n",
       "    }\n",
       "\n",
       "    .dataframe tbody tr th {\n",
       "        vertical-align: top;\n",
       "    }\n",
       "\n",
       "    .dataframe thead th {\n",
       "        text-align: right;\n",
       "    }\n",
       "</style>\n",
       "<table border=\"1\" class=\"dataframe\">\n",
       "  <thead>\n",
       "    <tr style=\"text-align: right;\">\n",
       "      <th></th>\n",
       "      <th>0</th>\n",
       "      <th>1</th>\n",
       "      <th>2</th>\n",
       "      <th>3</th>\n",
       "      <th>4</th>\n",
       "      <th>5</th>\n",
       "      <th>6</th>\n",
       "      <th>7</th>\n",
       "      <th>8</th>\n",
       "      <th>9</th>\n",
       "    </tr>\n",
       "  </thead>\n",
       "  <tbody>\n",
       "    <tr>\n",
       "      <th>0</th>\n",
       "      <td>chr1</td>\n",
       "      <td>629931</td>\n",
       "      <td>629961</td>\n",
       "      <td>fwd_peak_1</td>\n",
       "      <td>95</td>\n",
       "      <td>+</td>\n",
       "      <td>2.29353</td>\n",
       "      <td>14.6044</td>\n",
       "      <td>9.56511</td>\n",
       "      <td>4</td>\n",
       "    </tr>\n",
       "    <tr>\n",
       "      <th>1</th>\n",
       "      <td>chr1</td>\n",
       "      <td>630717</td>\n",
       "      <td>630752</td>\n",
       "      <td>fwd_peak_2</td>\n",
       "      <td>1066</td>\n",
       "      <td>+</td>\n",
       "      <td>2.45270</td>\n",
       "      <td>112.8720</td>\n",
       "      <td>106.65300</td>\n",
       "      <td>10</td>\n",
       "    </tr>\n",
       "  </tbody>\n",
       "</table>\n",
       "</div>"
      ],
      "text/plain": [
       "      0       1       2           3     4  5        6         7          8   9\n",
       "0  chr1  629931  629961  fwd_peak_1    95  +  2.29353   14.6044    9.56511   4\n",
       "1  chr1  630717  630752  fwd_peak_2  1066  +  2.45270  112.8720  106.65300  10"
      ]
     },
     "execution_count": 744,
     "metadata": {},
     "output_type": "execute_result"
    }
   ],
   "source": [
    "import pandas as pd\n",
    "df = pd.read_csv(all_peaks, header = None, sep='\\t')\n",
    "df[:2]"
   ]
  },
  {
   "cell_type": "markdown",
   "id": "ebda2528-3984-483e-ac7a-3547117b4125",
   "metadata": {},
   "source": [
    "## Step: call motif"
   ]
  },
  {
   "cell_type": "markdown",
   "id": "41807c6d-6364-4dae-9f23-22e4cbc729ae",
   "metadata": {},
   "source": [
    "#### Find motifs from peaks"
   ]
  },
  {
   "cell_type": "code",
   "execution_count": 745,
   "id": "5927b046-2a44-425c-9796-0ee9392f1fe4",
   "metadata": {},
   "outputs": [],
   "source": [
    "in_path =  mkpath(f\"peak_all{tag}\")\n",
    "out_path = mkpath(f\"motif{tag}\")"
   ]
  },
  {
   "cell_type": "code",
   "execution_count": null,
   "id": "1c27f04a-1e17-4553-8eb6-5d4266a0c364",
   "metadata": {
    "scrolled": true
   },
   "outputs": [
    {
     "name": "stdout",
     "output_type": "stream",
     "text": [
      "\n",
      "\tPosition file = peak_all_1234@10-12-14/all.narrowPeak\n",
      "\tGenome = hg38\n",
      "\tOutput Directory = motif_1234@10-12-14\n",
      "\tUsing 32 CPUs\n",
      "\tOperating in RNA mode\n",
      "\tMotif length set at 10,12,14,*** might want to hit ctrl+C to quit if it takes too long!\n",
      "*** If you run out of memmory try reducing the number background sequences\n",
      "\n",
      "\tFound mset for \"human\", will check against vertebrates motifs\n",
      "\tPeak/BED file conversion summary:\n",
      "\t\tBED/Header formatted lines: 1484\n",
      "\t\tpeakfile formatted lines: 0\n",
      "\n",
      "\tPeak File Statistics:\n",
      "\t\tTotal Peaks: 1484\n",
      "\t\tRedundant Peak IDs: 687\n",
      "\t\tPeaks lacking information: 0 (need at least 5 columns per peak)\n",
      "\t\tPeaks with misformatted coordinates: 0 (should be integer)\n",
      "\t\tPeaks with misformatted strand: 0 (should be either +/- or 0/1)\n",
      "\n",
      "\tRedunant Peaks found: Remove or rename these or some programs may have trouble...\n",
      "\n",
      "\t687 duplicate peak IDs out of 1484 total peaks\n",
      "\tBackground files for 200 bp fragments found.\n",
      "\tCustom genome sequence directory: /home/cdaniels/bin/homer/.//data/genomes/hg38//\n",
      "\n",
      "\tExtracting sequences from file: /home/cdaniels/bin/homer/.//data/genomes/hg38///genome.fa\n",
      "\tLooking for peak sequences in a single file (/home/cdaniels/bin/homer/.//data/genomes/hg38///genome.fa)\n",
      "\tExtracting 111 sequences from chr1\n",
      "\tExtracting 43 sequences from chr10\n",
      "\tExtracting 77 sequences from chr11\n",
      "\tExtracting 100 sequences from chr12\n",
      "\tExtracting 31 sequences from chr13\n",
      "\tExtracting 52 sequences from chr14\n",
      "\tExtracting 35 sequences from chr15\n",
      "\tExtracting 52 sequences from chr16\n",
      "\tExtracting 105 sequences from chr17\n",
      "\tExtracting 18 sequences from chr18\n",
      "\tExtracting 59 sequences from chr19\n",
      "\tExtracting 218 sequences from chr2\n",
      "\tExtracting 52 sequences from chr20\n",
      "\tExtracting 8 sequences from chr21\n",
      "\tExtracting 26 sequences from chr22\n",
      "\tExtracting 68 sequences from chr3\n",
      "\tExtracting 68 sequences from chr4\n",
      "\tExtracting 70 sequences from chr5\n",
      "\tExtracting 78 sequences from chr6\n",
      "\tExtracting 56 sequences from chr7\n",
      "\tExtracting 31 sequences from chr8\n",
      "\tExtracting 44 sequences from chr9\n",
      "\tExtracting 47 sequences from chrM\n",
      "\tExtracting 34 sequences from chrX\n",
      "\tExtracting 1 sequences from chrY\n",
      "\t\t1 of 1484 removed because they had >70.00% Ns (i.e. masked repeats)\n",
      "\n",
      "\tNot removing redundant sequences\n",
      "\n",
      "\n",
      "\tSequences processed:\n",
      "\t\tAuto detected maximum sequence length of 201 bp\n",
      "\t\t1483 total\n",
      "\n",
      "\tFrequency Bins: 0.2 0.25 0.3 0.35 0.4 0.45 0.5 0.6 0.7 0.8\n",
      "\tFreq\tBin\tCount\n",
      "\t0.25\t1\t6\n",
      "\t0.3\t2\t59\n",
      "\t0.35\t3\t205\n",
      "\t0.4\t4\t336\n",
      "\t0.45\t5\t281\n",
      "\t0.5\t6\t230\n",
      "\t0.6\t7\t276\n",
      "\t0.7\t8\t76\n",
      "\t0.8\t9\t14\n",
      "\n",
      "\tTotal sequences set to 50000\n",
      "\n",
      "\tChoosing background that matches in CpG/GC content...\n",
      "\tBin\t# Targets\t# Background\tBackground Weight\n",
      "\t1\t6\t196\t1.001\n",
      "\t2\t59\t1930\t1.000\n",
      "\t3\t205\t6707\t1.000\n",
      "\t4\t336\t10992\t1.000\n",
      "\t5\t281\t9193\t1.000\n",
      "\t6\t230\t7525\t1.000\n",
      "\t7\t276\t9029\t1.000\n",
      "\t8\t76\t2486\t1.000\n",
      "\t9\t14\t458\t1.000\n",
      "\tAssembling sequence file...\n",
      "\tNormalizing lower order oligos using homer2\n",
      "\n",
      "\tReading input files...\n",
      "\t49999 total sequences read\n",
      "\tAutonormalization: 1-mers (4 total)\n",
      "\t\tA\t29.26%\t27.51%\t1.063\n",
      "\t\tC\t21.16%\t21.62%\t0.979\n",
      "\t\tG\t22.68%\t22.16%\t1.024\n",
      "\t\tT\t26.90%\t28.71%\t0.937\n",
      "\tAutonormalization: 2-mers (16 total)\n",
      "\t\tAA\t9.57%\t8.67%\t1.105\n",
      "\t\tCA\t7.05%\t7.06%\t0.998\n",
      "\t\tGA\t7.24%\t6.06%\t1.195\n",
      "\t\tTA\t5.40%\t5.76%\t0.937\n",
      "\t\tAC\t5.29%\t4.90%\t1.078\n",
      "\t\tCC\t5.61%\t5.85%\t0.959\n",
      "\t\tGC\t4.65%\t4.81%\t0.968\n",
      "\t\tTC\t5.61%\t6.04%\t0.928\n",
      "\t\tAG\t7.77%\t7.17%\t1.085\n",
      "\t\tCG\t2.02%\t1.46%\t1.382\n",
      "\t\tGG\t5.73%\t6.04%\t0.948\n",
      "\t\tTG\t7.15%\t7.51%\t0.953\n",
      "\t\tAT\t6.63%\t6.81%\t0.973\n",
      "\t\tCT\t6.48%\t7.23%\t0.896\n",
      "\t\tGT\t5.06%\t5.26%\t0.962\n",
      "\t\tTT\t8.73%\t9.36%\t0.932\n",
      "\tAutonormalization: 3-mers (64 total)\n",
      "\tNormalization weights can be found in file: motif_1234@10-12-14/seq.autonorm.tsv\n",
      "\tConverging on autonormalization solution:\n",
      "\t...............................................................................\n",
      "\tFinal normalization:\tAutonormalization: 1-mers (4 total)\n",
      "\t\tA\t29.26%\t29.13%\t1.004\n",
      "\t\tC\t21.16%\t21.18%\t0.999\n",
      "\t\tG\t22.68%\t22.71%\t0.999\n",
      "\t\tT\t26.90%\t26.98%\t0.997\n",
      "\tAutonormalization: 2-mers (16 total)\n",
      "\t\tAA\t9.57%\t9.57%\t1.000\n",
      "\t\tCA\t7.05%\t7.10%\t0.993\n",
      "\t\tGA\t7.24%\t6.96%\t1.041\n",
      "\t\tTA\t5.40%\t5.50%\t0.981\n",
      "\t\tAC\t5.29%\t5.18%\t1.020\n",
      "\t\tCC\t5.61%\t5.62%\t0.999\n",
      "\t\tGC\t4.65%\t4.74%\t0.981\n",
      "\t\tTC\t5.61%\t5.63%\t0.995\n",
      "\t\tAG\t7.77%\t7.73%\t1.006\n",
      "\t\tCG\t2.02%\t1.87%\t1.085\n",
      "\t\tGG\t5.73%\t5.94%\t0.963\n",
      "\t\tTG\t7.15%\t7.17%\t0.998\n",
      "\t\tAT\t6.63%\t6.66%\t0.996\n",
      "\t\tCT\t6.48%\t6.59%\t0.983\n",
      "\t\tGT\t5.06%\t5.06%\t1.001\n",
      "\t\tTT\t8.73%\t8.67%\t1.006\n",
      "\tAutonormalization: 3-mers (64 total)\n",
      "\tFinished preparing sequence/group files\n",
      "\n",
      "\t----------------------------------------------------------\n",
      "\tKnown motif enrichment\n",
      "\t----------------------------------------------------------\n",
      "\tDe novo motif finding (HOMER)\n",
      "\n",
      "\tNumber of Trial motifs (-T) set to 32 (from 10) to work well with 32 CPUs\n",
      "\tScanning input files...\n",
      "\tParsing sequences...\n",
      "\t|0%                                   50%                                  100%|\n",
      "\t================================================================================\n",
      "\tTotal number of Oligos: 922025\n",
      "\tAutoadjustment for sequence coverage in background: 1.00x\n",
      "\n",
      "\tOligos: 922025 of 1048586 max\n",
      "\tTree  : 1346736 of 5242930 max\n",
      "\tOptimizing memory usage...\n",
      "\tCache length = 11180\n",
      "\tUsing binomial scoring\n",
      "\n",
      "\tGlobal Optimization Phase: Looking for enriched oligos with up to 2 mismatches...\n",
      "\n",
      "\tScreening oligos 922025 (allowing 0 mismatches):\n",
      "\t|0%                                   50%                                  100%|\n",
      "\t================================================================================\n",
      "\t\t76.50% skipped, 23.50% checked (216715 of 922025), of those checked:\n",
      "\t\t76.50% not in target, 0.00% increased p-value, 0.00% high p-value\n",
      "\n",
      "\tScreening oligos 922025 (allowing 1 mismatches):\n",
      "\t|0%                                   50%                                  100%|\n",
      "\t================================================================================\n",
      "\t\t76.50% skipped, 23.50% checked (216715 of 922025), of those checked:\n",
      "\t\t0.00% not in target, 17.00% increased p-value, 8.64% high p-value\n",
      "\n",
      "\tScreening oligos 922025 (allowing 2 mismatches):\n",
      "\t|0%                                   50%                                  100%|\n",
      "\t================================================================================\n",
      "\t\t95.03% skipped, 4.97% checked (45857 of 922025), of those checked:\n",
      "\t\t0.00% not in target, 2.72% increased p-value, 0.00% high p-value\n",
      "\tReading input files...\n",
      "\t49999 total sequences read\n",
      "\tCache length = 11180\n",
      "\tUsing binomial scoring\n",
      "\n",
      "\tLocal Optimization Phase:\n",
      "\t1 of 25 Initial Sequence: GAAGATGAAG... (-220.128)\n",
      "\t\tRound 1: -310.45 GAAGAWGAAG T:686.0(37.04%),B:5683.1(11.98%),P:1e-134\n",
      "\t\tRound 2: -322.82 GAWGAWGAAG T:766.0(40.35%),B:6562.5(13.70%),P:1e-140\n",
      "\t\tRound 3: -343.89 GAAGAWGAAG T:729.0(38.84%),B:5780.4(12.17%),P:1e-149\n",
      "\t\tRound 4: -343.89 GAAGAWGAAG T:729.0(38.84%),B:5780.4(12.17%),P:1e-149\n",
      "\t\t=Final=: -152.21 GAAGAWGAAG T:400.0(26.97%),B:4822.6(10.83%),P:1e-66\n",
      "\t\tPerforming exhaustive masking of motif...\n",
      "\t\tReprioritizing potential motifs...\n",
      "\t2 of 25 Initial Sequence: AAGGTAAGTT... (-76.344)\n",
      "\t\tRound 1: -137.15 AAGGTAAGTT T:192.0(12.15%),B:1252.7(2.77%),P:1e-59\n",
      "\t\tRound 2: -154.81 AAGGTAAGTN T:281.0(17.27%),B:2239.7(4.90%),P:1e-67\n",
      "\t\tRound 3: -161.65 MWGGTRAGTN T:390.0(23.13%),B:3731.7(8.03%),P:1e-70\n",
      "\t\tRound 4: -161.65 MWGGTRAGTN T:390.0(23.13%),B:3731.7(8.03%),P:1e-70\n",
      "\t\t=Final=: -206.51 MWGGTRAGTN T:398.0(26.84%),B:3942.4(8.85%),P:1e-89\n",
      "\t\tPerforming exhaustive masking of motif...\n",
      "\t\tReprioritizing potential motifs...\n",
      "\t3 of 25 Initial Sequence: CACAGCACAC... (-43.802)\n",
      "\t\tRound 1: -50.28 CACAGCACAC T:21.0(1.41%),B:22.4(0.05%),P:1e-21\n",
      "\t\tRound 2: -50.28 CACAGCACAC T:21.0(1.41%),B:22.4(0.05%),P:1e-21\n",
      "\t\t=Final=: -5.33 CACAGCACAC T:4.0(0.27%),B:20.4(0.05%),P:1e-2\n",
      "\t\tPerforming exhaustive masking of motif...\n",
      "\t\tReprioritizing potential motifs...\n",
      "\t4 of 25 Initial Sequence: ACGACGAGGA... (-39.510)\n",
      "\t\tRound 1: -56.57 ACGACGAGGA T:519.0(29.54%),B:9079.6(18.44%),P:1e-24\n",
      "\t\tRound 2: -56.57 ACGACGAGGA T:519.0(29.54%),B:9079.6(18.44%),P:1e-24\n",
      "\t\t=Final=: -29.88 ACGACGAGGA T:530.0(35.74%),B:12026.2(27.00%),P:1e-12\n",
      "\t\tPerforming exhaustive masking of motif...\n",
      "\t\tReprioritizing potential motifs...\n",
      "\t5 of 25 Initial Sequence: CATATACTAA... (-32.386)\n",
      "\t\tRound 1: -37.87 CATATACTAA T:9.0(0.61%),B:2.5(0.00%),P:1e-16\n",
      "\t\tRound 2: -37.87 CATATACTAA T:9.0(0.61%),B:2.5(0.00%),P:1e-16\n",
      "\t\t=Final=: -37.87 CATATACTAA T:8.0(0.54%),B:1.4(0.00%),P:1e-16\n",
      "\t\tPerforming exhaustive masking of motif...\n",
      "\t\tReprioritizing potential motifs...\n",
      "\t6 of 25 Initial Sequence: TGGTAGAGCG... (-32.386)\n",
      "\t\tRound 1: -37.27 TGGTAGAGCG T:10.0(0.67%),B:3.5(0.01%),P:1e-16\n",
      "\t\tRound 2: -41.07 TGGAAGAGCG T:85.0(5.57%),B:802.4(1.78%),P:1e-17\n",
      "\t\tRound 3: -54.08 TBGAAGAGCK T:98.0(6.40%),B:826.4(1.84%),P:1e-23\n",
      "\t\tRound 4: -61.65 TNGAAGAGCB T:151.0(9.68%),B:1555.5(3.43%),P:1e-26\n",
      "\t\tRound 5: -61.65 TNGAAGAGCB T:151.0(9.68%),B:1555.5(3.43%),P:1e-26\n",
      "\t\t=Final=: -59.03 TNGAAGAGCB T:137.0(9.24%),B:1464.9(3.29%),P:1e-25\n",
      "\t\tPerforming exhaustive masking of motif...\n",
      "\t\tReprioritizing potential motifs...\n",
      "\t7 of 25 Initial Sequence: GGAACGATAC... (-27.033)\n",
      "\t\tRound 1: -43.48 GGAACGATAC T:10.0(0.67%),B:2.2(0.00%),P:1e-18\n",
      "\t\tRound 2: -48.66 GGWWCGATWC T:17.0(1.14%),B:11.5(0.02%),P:1e-21\n",
      "\t\tRound 3: -48.66 GGWWCGATWC T:17.0(1.14%),B:11.5(0.02%),P:1e-21\n",
      "\t\t=Final=: -51.02 GGWWCGATWC T:17.0(1.15%),B:11.5(0.03%),P:1e-22\n",
      "\t\tPerforming exhaustive masking of motif...\n",
      "\t\tReprioritizing potential motifs...\n",
      "\t8 of 25 Initial Sequence: CAACGAGATC... (-24.971)\n",
      "\t\tRound 1: -44.00 CAACGAGATC T:385.0(22.87%),B:6755.7(14.07%),P:1e-19\n",
      "\t\tRound 2: -53.62 CAACVAGATC T:358.0(21.45%),B:5762.8(12.13%),P:1e-23\n",
      "\t\tRound 3: -58.20 CAACVAGATC T:473.0(27.32%),B:8008.7(16.45%),P:1e-25\n",
      "\t\tRound 4: -59.99 CAHCVASAWC T:479.0(27.61%),B:8045.7(16.52%),P:1e-26\n",
      "\t\tRound 5: -66.99 CAHCAAGAWC T:697.0(37.51%),B:12385.4(24.27%),P:1e-29\n",
      "\t\tRound 6: -66.99 CAHCAAGAWC T:697.0(37.51%),B:12385.4(24.27%),P:1e-29\n",
      "\t\t=Final=: -50.90 CAHCAAGAWC T:514.0(34.66%),B:10421.0(23.39%),P:1e-22\n",
      "\t\tPerforming exhaustive masking of motif...\n",
      "\t\tReprioritizing potential motifs...\n",
      "\t9 of 25 Initial Sequence: ACTACTACTA... (-24.753)\n",
      "\t\tRound 1: -31.09 ACTACTACTA T:10.0(0.67%),B:5.9(0.01%),P:1e-13\n",
      "\t\tRound 2: -33.22 ACTACGACTA T:11.0(0.74%),B:6.7(0.01%),P:1e-14\n",
      "\t\tRound 3: -33.22 ACTACGACTA T:11.0(0.74%),B:6.7(0.01%),P:1e-14\n",
      "\t\t=Final=: -11.63 ACTACGACTA T:5.0(0.34%),B:8.5(0.02%),P:1e-5\n",
      "\t\tPerforming exhaustive masking of motif...\n",
      "\t\tReprioritizing potential motifs...\n",
      "\t10 of 25 Initial Sequence: GCTGCTGATG... (-20.383)\n",
      "\t\tRound 1: -27.51 GCTGCTGATG T:69.0(4.55%),B:753.8(1.68%),P:1e-11\n",
      "\t\tRound 2: -31.62 GCTACTGATG T:58.0(3.84%),B:504.9(1.13%),P:1e-13\n",
      "\t\tRound 3: -35.03 GMTRCTGMTG T:57.0(3.77%),B:449.5(1.00%),P:1e-15\n",
      "\t\tRound 4: -35.03 GMTRCTGMTG T:57.0(3.77%),B:449.5(1.00%),P:1e-15\n",
      "\t\t=Final=: -23.99 GMTRCTGMTG T:44.0(2.97%),B:409.4(0.92%),P:1e-10\n",
      "\t\tPerforming exhaustive masking of motif...\n",
      "\t\tReprioritizing potential motifs...\n",
      "\t11 of 25 Initial Sequence: AACAAAAAAA... (-19.740)\n",
      "\t\tRound 1: -20.22 AAMAAAAAAA T:562.0(31.55%),B:12613.4(24.66%),P:1e-8\n",
      "\t\tRound 2: -24.28 AAMAAAAAAA T:552.0(31.09%),B:11992.7(23.60%),P:1e-10\n",
      "\t\tRound 3: -32.53 AMMMAAAAAA T:91.0(5.95%),B:1050.8(2.33%),P:1e-14\n",
      "\t\tRound 4: -32.53 AMMMAAAAAA T:91.0(5.95%),B:1050.8(2.33%),P:1e-14\n",
      "\t\t=Final=: -2.94 AMMMAAAAAA T:2.0(0.13%),B:11.6(0.03%),P:1e-1\n",
      "\t\tPerforming exhaustive masking of motif...\n",
      "\t\tReprioritizing potential motifs...\n",
      "\t12 of 25 Initial Sequence: TCGAATCCCA... (-18.396)\n",
      "\t\tRound 1: -29.14 TCGAATCCCA T:9.0(0.61%),B:4.2(0.01%),P:1e-12\n",
      "\t\tRound 2: -29.14 TCGAATCCCA T:9.0(0.61%),B:4.2(0.01%),P:1e-12\n",
      "\t\t=Final=: -26.87 TCGAATCCCA T:8.0(0.54%),B:4.2(0.01%),P:1e-11\n",
      "\t\tPerforming exhaustive masking of motif...\n",
      "\t\tReprioritizing potential motifs...\n",
      "\t13 of 25 Initial Sequence: ACAAAAAAAA... (-17.084)\n",
      "\t\tRound 1: -28.16 AAAAAAAAAA T:483.0(27.81%),B:9969.4(20.05%),P:1e-12\n",
      "\t\tRound 2: -30.74 AMAAAAAAAA T:537.0(30.39%),B:11057.4(21.98%),P:1e-13\n",
      "\t\tRound 3: -31.34 AMAAAAMAAA T:529.0(30.01%),B:10839.4(21.60%),P:1e-13\n",
      "\t\tRound 4: -31.34 AMAAAAMAAA T:529.0(30.01%),B:10839.4(21.60%),P:1e-13\n",
      "\t\t=Final=: -0.01 AMAAAAMAAA T:692.0(46.66%),B:22259.8(49.97%),P:1e0\n",
      "\t\tPerforming exhaustive masking of motif...\n",
      "\t\tReprioritizing potential motifs...\n",
      "\t14 of 25 Initial Sequence: GGTTCGAATC... (-16.818)\n",
      "\t\tRound 1: -13.99 GGTTCGAATC T:18.0(1.21%),B:119.1(0.27%),P:1e-6\n",
      "\t\tRound 2: -18.80 GGTTCAAWTC T:12.0(0.81%),B:30.6(0.07%),P:1e-8\n",
      "\t\tRound 3: -19.72 GGTTCRATYC T:9.0(0.61%),B:11.9(0.02%),P:1e-8\n",
      "\t\tRound 4: -21.16 GGTTCGRTYC T:19.0(1.27%),B:82.2(0.18%),P:1e-9\n",
      "\t\tRound 5: -21.16 GGTTCGRTYC T:19.0(1.27%),B:82.2(0.18%),P:1e-9\n",
      "\t\t=Final=: -23.13 GGTTCGRTYC T:19.0(1.28%),B:81.6(0.18%),P:1e-10\n",
      "\t\tPerforming exhaustive masking of motif...\n",
      "\t\tReprioritizing potential motifs...\n",
      "\t15 of 25 Initial Sequence: AGTAAGTAAG... (-16.818)\n",
      "\t\tRound 1: -37.87 AGTAAGTAAG T:9.0(0.61%),B:2.9(0.00%),P:1e-16\n",
      "\t\tRound 2: -37.87 AGTAAGTAAG T:9.0(0.61%),B:2.9(0.00%),P:1e-16\n",
      "\t\t=Final=: -32.36 AGTAAGTAAG T:8.0(0.54%),B:2.9(0.01%),P:1e-14\n",
      "\t\tPerforming exhaustive masking of motif...\n",
      "\t\tReprioritizing potential motifs...\n",
      "\t16 of 25 Initial Sequence: GAAAGGTACT... (-16.818)\n",
      "\t\tRound 1: -16.82 GAAAGGTACT T:5.0(0.34%),B:1.2(0.00%),P:1e-7\n",
      "\t\tRound 2: -16.82 GAAAGGTACT T:5.0(0.34%),B:1.2(0.00%),P:1e-7\n",
      "\t\t=Final=: -21.83 GAAAGGTACT T:5.0(0.34%),B:1.2(0.00%),P:1e-9\n",
      "\t\tPerforming exhaustive masking of motif...\n",
      "\t\tReprioritizing potential motifs...\n",
      "\t17 of 25 Initial Sequence: TGGTTATCAC... (-16.818)\n",
      "\t\tRound 1: -21.83 TGGTTATCAC T:6.0(0.40%),B:0.9(0.00%),P:1e-9\n",
      "\t\tRound 2: -21.83 TGGTTATCAC T:6.0(0.40%),B:0.9(0.00%),P:1e-9\n",
      "\t\t=Final=: -27.03 TGGTTATCAC T:6.0(0.40%),B:0.9(0.00%),P:1e-11\n",
      "\t\tPerforming exhaustive masking of motif...\n",
      "\t\tReprioritizing potential motifs...\n",
      "\t18 of 25 Initial Sequence: CGAGACCCGC... (-16.818)\n",
      "\t\tRound 1: -18.40 CGAGACCCGC T:6.0(0.40%),B:3.7(0.01%),P:1e-7\n",
      "\t\tRound 2: -18.40 CGAGACCCGC T:6.0(0.40%),B:3.7(0.01%),P:1e-7\n",
      "\t\t=Final=: -16.40 CGAGACCCGC T:5.0(0.34%),B:3.7(0.01%),P:1e-7\n",
      "\t\tPerforming exhaustive masking of motif...\n",
      "\t\tReprioritizing potential motifs...\n",
      "\t19 of 25 Initial Sequence: GAAGATCATC... (-16.519)\n",
      "\t\tRound 1: -27.95 GAAGATCATC T:91.0(5.95%),B:1144.3(2.54%),P:1e-12\n",
      "\t\tRound 2: -27.95 GAAGATCATC T:91.0(5.95%),B:1144.3(2.54%),P:1e-12\n",
      "\t\t=Final=: -30.76 GAAGATCATC T:88.0(5.93%),B:1071.8(2.41%),P:1e-13\n",
      "\t\tPerforming exhaustive masking of motif...\n",
      "\t\tReprioritizing potential motifs...\n",
      "\t20 of 25 Initial Sequence: CTTCGGCAGC... (-16.396)\n",
      "\t\tRound 1: -21.85 CTTCGGCAGC T:15.0(1.01%),B:43.1(0.10%),P:1e-9\n",
      "\t\tRound 2: -29.14 CTTCGGYAGT T:14.0(0.94%),B:20.6(0.04%),P:1e-12\n",
      "\t\tRound 3: -29.14 CTTCGGYAGT T:14.0(0.94%),B:20.6(0.04%),P:1e-12\n",
      "\t\t=Final=: -31.56 CTTCGGYAGT T:14.0(0.94%),B:20.6(0.05%),P:1e-13\n",
      "\t\tPerforming exhaustive masking of motif...\n",
      "\t\tReprioritizing potential motifs...\n",
      "\t21 of 25 Initial Sequence: ATGTGAGTAC... (-14.985)\n",
      "\t\tRound 1: -17.69 ATGTGAGTAC T:67.0(4.42%),B:921.4(2.05%),P:1e-7\n",
      "\t\tRound 2: -24.53 ATGTGATTAS T:28.0(1.87%),B:162.1(0.36%),P:1e-10\n",
      "\t\tRound 3: -28.06 ATGTGAGTAG T:45.0(2.99%),B:362.1(0.81%),P:1e-12\n",
      "\t\tRound 4: -28.06 ATGTGAGTAG T:45.0(2.99%),B:362.1(0.81%),P:1e-12\n",
      "\t\t=Final=: -28.33 ATGTGAGTAG T:44.0(2.97%),B:357.9(0.80%),P:1e-12\n",
      "\t\tPerforming exhaustive masking of motif...\n",
      "\t\tReprioritizing potential motifs...\n",
      "\t22 of 25 Initial Sequence: TGAAGAAGAC... (-14.985)\n",
      "\t\tRound 1: -18.03 TGAAGAAGAC T:8.0(0.54%),B:9.3(0.02%),P:1e-7\n",
      "\t\tRound 2: -18.45 YGAAGAAGGC T:10.0(0.67%),B:18.5(0.04%),P:1e-8\n",
      "\t\tRound 3: -19.16 CGTAGAAGAC T:12.0(0.81%),B:29.6(0.07%),P:1e-8\n",
      "\t\tRound 4: -19.16 CGTAGAAGAC T:12.0(0.81%),B:29.6(0.07%),P:1e-8\n",
      "\t\t=Final=: -21.83 CGTAGAAGAC T:5.0(0.34%),B:0.9(0.00%),P:1e-9\n",
      "\t\tPerforming exhaustive masking of motif...\n",
      "\t\tReprioritizing potential motifs...\n",
      "\t23 of 25 Initial Sequence: TTGCCAATAC... (-14.149)\n",
      "\t\tRound 1: -22.90 TTGCCAATAC T:24.0(1.61%),B:126.6(0.28%),P:1e-9\n",
      "\t\tRound 2: -22.90 TTGCCAATAC T:24.0(1.61%),B:126.6(0.28%),P:1e-9\n",
      "\t\t=Final=: -24.51 TTGCCAATAC T:24.0(1.62%),B:126.6(0.28%),P:1e-10\n",
      "\t\tPerforming exhaustive masking of motif...\n",
      "\t\tReprioritizing potential motifs...\n",
      "\t24 of 25 Initial Sequence: TTTTTTTAGG... (-13.436)\n",
      "\t\tRound 1: -24.64 TTTTTTTAGG T:146.0(9.38%),B:2356.3(5.15%),P:1e-10\n",
      "\t\tRound 2: -24.64 TTTTTTTAGG T:146.0(9.38%),B:2356.3(5.15%),P:1e-10\n",
      "\t\t=Final=: -24.51 TTTTTTTAGG T:140.0(9.44%),B:2321.3(5.21%),P:1e-10\n",
      "\t\tPerforming exhaustive masking of motif...\n",
      "\t\tReprioritizing potential motifs...\n",
      "\t25 of 25 Initial Sequence: CGGAAGACCA... (-12.929)\n",
      "\t\tRound 1: -22.70 CGGAAGACCA T:63.0(4.16%),B:730.7(1.63%),P:1e-9\n",
      "\t\tRound 2: -22.97 CGGAAGACCA T:50.0(3.32%),B:509.8(1.14%),P:1e-9\n",
      "\t\tRound 3: -23.04 CGGAAGAMCA T:54.0(3.58%),B:578.2(1.29%),P:1e-10\n",
      "\t\tRound 4: -23.04 CGGAAGAMCA T:54.0(3.58%),B:578.2(1.29%),P:1e-10\n",
      "\t\t=Final=: -22.05 CGGAAGAMCA T:52.0(3.51%),B:573.2(1.29%),P:1e-9\n",
      "\t\tPerforming exhaustive masking of motif...\n",
      "\t\tReprioritizing potential motifs...\n",
      "\n",
      "\tFinalizing Enrichment Statistics (new in v3.4)\n",
      "\tReading input files...\n",
      "\t49999 total sequences read\n",
      "\tCache length = 11180\n",
      "\tUsing binomial scoring\n",
      "\tChecking enrichment of 25 motif(s)\n",
      "\t|0%                                    50%                                  100%|\n",
      "\t=================================================================================\n",
      "\tOutput in file: motif_1234@10-12-14/homerMotifs.motifs10\n",
      "\n",
      "\n",
      "\tNumber of Trial motifs (-T) set to 32 (from 10) to work well with 32 CPUs\n",
      "\t-blen automatically set to 2\n",
      "\tScanning input files...\n",
      "\tParsing sequences...\n",
      "\t|0%                                   50%                                  100%|\n",
      "\t================================================================================\n",
      "\tTotal number of Oligos: 5163522\n",
      "\tAutoadjustment for sequence coverage in background: 1.00x\n",
      "\n",
      "\tOligos: 5163522 of 9499604 max\n",
      "\tTree  : 10679144 of 47498020 max\n",
      "\tOptimizing memory usage...\n",
      "\tCache length = 11180\n",
      "\tUsing binomial scoring\n",
      "\n",
      "\tGlobal Optimization Phase: Looking for enriched oligos with up to 2 mismatches...\n",
      "\n",
      "\tScreening oligos 5163522 (allowing 0 mismatches):\n",
      "\t|0%                                   50%                                  100%|\n",
      "\t================================================================================\n",
      "\t\t94.79% skipped, 5.21% checked (269016 of 5163522), of those checked:\n",
      "\t\t94.79% not in target, 0.00% increased p-value, 0.00% high p-value\n",
      "\n",
      "\tScreening oligos 5163522 (allowing 1 mismatches):\n",
      "\t|0%                                   50%                                  100%|\n",
      "\t================================================================================\n",
      "\t\t94.79% skipped, 5.21% checked (269016 of 5163522), of those checked:\n",
      "\t\t0.00% not in target, 4.88% increased p-value, 0.07% high p-value\n",
      "\n",
      "\tScreening oligos 5163522 (allowing 2 mismatches):\n",
      "\t|0%                                   50%                                  100%|\n",
      "\t================================================================================\n",
      "\t\t99.68% skipped, 0.32% checked (16558 of 5163522), of those checked:\n",
      "\t\t0.00% not in target, 0.20% increased p-value, 0.00% high p-value\n",
      "\tReading input files...\n",
      "\t49999 total sequences read\n",
      "\tCache length = 11180\n",
      "\tUsing binomial scoring\n",
      "\n",
      "\tLocal Optimization Phase:\n",
      "\t1 of 25 Initial Sequence: AGAAGAAGAAGA... (-193.860)\n",
      "\t\tRound 1: -279.22 AGAAGAAGAAGA T:716.0(38.31%),B:6585.4(13.74%),P:1e-121\n",
      "\t\tRound 2: -345.76 WGAWGADGAWGA T:622.0(34.27%),B:4423.0(9.45%),P:1e-150\n",
      "\t\tRound 3: -345.76 WGAWGADGAWGA T:622.0(34.27%),B:4423.0(9.45%),P:1e-150\n",
      "\t\t=Final=: -142.88 WGAWGADGAWGA T:308.0(20.77%),B:3222.5(7.23%),P:1e-62\n",
      "\t\tPerforming exhaustive masking of motif...\n",
      "\t\tReprioritizing potential motifs...\n",
      "\t2 of 25 Initial Sequence: GGGTTCGATTCC... (-55.020)\n",
      "\t\tRound 1: -79.04 GGGTTCGATTCC T:16.0(1.07%),B:1.3(0.00%),P:1e-34\n",
      "\t\tRound 2: -80.89 GGGTTCGATCCC T:23.0(1.54%),B:8.2(0.02%),P:1e-35\n",
      "\t\tRound 3: -80.89 GGGTTCGATCCC T:23.0(1.54%),B:8.2(0.02%),P:1e-35\n",
      "\t\t=Final=: -82.46 GGGTTCGATCCC T:23.0(1.55%),B:8.2(0.02%),P:1e-35\n",
      "\t\tPerforming exhaustive masking of motif...\n",
      "\t\tReprioritizing potential motifs...\n",
      "\t3 of 25 Initial Sequence: CGCACAGCACAC... (-44.443)\n",
      "\t\tRound 1: -64.84 CACACAGCACAC T:20.0(1.34%),B:9.3(0.02%),P:1e-28\n",
      "\t\tRound 2: -68.93 MGCACRGCACAC T:19.0(1.27%),B:6.4(0.01%),P:1e-29\n",
      "\t\tRound 3: -68.93 MGCACRGCACAC T:19.0(1.27%),B:6.4(0.01%),P:1e-29\n",
      "\t\t=Final=: -7.52 MGCACRGCACAC T:2.0(0.13%),B:1.1(0.00%),P:1e-3\n",
      "\t\tPerforming exhaustive masking of motif...\n",
      "\t\tReprioritizing potential motifs...\n",
      "\t4 of 25 Initial Sequence: GAAGGTAAGTTT... (-44.261)\n",
      "\t\tRound 1: -94.17 GAAGGTAAGTTT T:195.0(12.33%),B:1759.1(3.87%),P:1e-40\n",
      "\t\tRound 2: -96.71 VAAGGTAAGTTT T:247.0(15.35%),B:2541.1(5.54%),P:1e-42\n"
     ]
    }
   ],
   "source": [
    "# -S 10 is changed to -S {nc} = 32\n",
    "# -len 5,6,7,8,9\n",
    "# -bg {genome_bed12}\n",
    "!findMotifsGenome.pl {in_path}/all.narrowPeak hg38 {out_path} \\\n",
    "                     -p {nc}                                  \\\n",
    "                     -rna                                     \\\n",
    "                     -len 10,12,14                          "
   ]
  },
  {
   "cell_type": "markdown",
   "id": "5ea5d205-5c98-4e5d-b148-3c2bc185d048",
   "metadata": {},
   "source": [
    "#### Analysis"
   ]
  },
  {
   "cell_type": "code",
   "execution_count": null,
   "id": "8ef107b1-8e31-4483-af95-77e563bcc172",
   "metadata": {},
   "outputs": [],
   "source": [
    "!ls -lh {out_path}"
   ]
  },
  {
   "cell_type": "markdown",
   "id": "f60a3b69-8e84-45a3-854d-9f4cec558b6e",
   "metadata": {},
   "source": [
    "**Warning:** Motif Results are not fully rendered in Jupyter. A browser is better."
   ]
  },
  {
   "cell_type": "code",
   "execution_count": 727,
   "id": "8cdeea89-a60c-41d6-9a9c-c1842ce8a851",
   "metadata": {},
   "outputs": [
    {
     "data": {
      "text/html": [
       "<HTML><HEAD><TITLE>motif_23_12/ - Homer de novo Motif Results</TITLE></HEAD>\n",
       "<BODY>\n",
       "<H1>Homer <i>de novo</i> Motif Results (motif_23_12/)</H1>\n",
       "<A HREF=\"knownResults.html\">Known Motif Enrichment Results</A><BR/>\n",
       "<A HREF=\"geneOntology.html\">Gene Ontology Enrichment Results</A><BR/>\n",
       "If Homer is having trouble matching a motif to a known motif, try copy/pasting the matrix file into \n",
       "<A HREF=\"http://www.benoslab.pitt.edu/stamp/\">STAMP</A><BR/>\n",
       "More information on motif finding results: <A HREF=\"http://biowhat.ucsd.edu/homer/\">HOMER</A>\n",
       " | <A HREF=\"http://biowhat.ucsd.edu/homer/motif/index.html\">Description of Results</A>\n",
       " | <A HREF=\"http://biowhat.ucsd.edu/homer/motif/practicalTips.html\">Tips</A>\n",
       "<BR/>\n",
       "Total target sequences = 2597<BR/>\n",
       "Total background sequences = 44805<BR/>\n",
       "<FONT color=\"red\">* - possible false positive</FONT><BR/>\n",
       "<TABLE border=\"1\" cellpading=\"0\" cellspacing=\"0\">\n",
       "<TR><TD>Rank</TD><TD>Motif</TD><TD>P-value</TD><TD>log P-pvalue</TD><TD>% of Targets</TD><TD>% of Background</TD>\n",
       "<TD>STD(Bg STD)</TD>\n",
       "<TD>Best Match/Details</TD><TD>Motif File</TD></TR>\n",
       "<TR><TD>1\n",
       "</TD><TD><svg width=\"205\" height=\"50\">\n",
       " <g font-family=\"Arial\" font-weight=\"bold\" font-size=\"66.5\">\n",
       "  <text fill=\"#F9A500\" x=\"0\" y=\"0\"  transform=\"matrix(0.55,0,0,0.053,0,49)\">G</text>\n",
       "  <text fill=\"#0000EE\" x=\"0\" y=\"0\"  transform=\"matrix(0.59,0,0,0.128,0,46.35)\">C</text>\n",
       "  <text fill=\"#DD0000\" x=\"0\" y=\"0\"  transform=\"matrix(0.65,0,0,0.168,-1.5,39.95)\">U</text>\n",
       "  <text fill=\"#00BB00\" x=\"0\" y=\"0\"  transform=\"matrix(0.53,0,0,0.651,2,31.55)\">A</text>\n",
       "  \n",
       "  <text fill=\"#DD0000\" x=\"0\" y=\"0\"  transform=\"matrix(0.65,0,0,0.040,23.5,49)\">U</text>\n",
       "  <text fill=\"#0000EE\" x=\"0\" y=\"0\"  transform=\"matrix(0.59,0,0,0.066,25,47)\">C</text>\n",
       "  <text fill=\"#00BB00\" x=\"0\" y=\"0\"  transform=\"matrix(0.53,0,0,0.127,27,43.7)\">A</text>\n",
       "  <text fill=\"#F9A500\" x=\"0\" y=\"0\"  transform=\"matrix(0.55,0,0,0.767,25,37.35)\">G</text>\n",
       "  \n",
       "  <text fill=\"#DD0000\" x=\"0\" y=\"0\"  transform=\"matrix(0.65,0,0,0.019,48.5,49)\">U</text>\n",
       "  <text fill=\"#00BB00\" x=\"0\" y=\"0\"  transform=\"matrix(0.53,0,0,0.022,52,48.05)\">A</text>\n",
       "  <text fill=\"#0000EE\" x=\"0\" y=\"0\"  transform=\"matrix(0.59,0,0,0.038,50,46.95)\">C</text>\n",
       "  <text fill=\"#F9A500\" x=\"0\" y=\"0\"  transform=\"matrix(0.55,0,0,0.921,50,45.05)\">G</text>\n",
       "  \n",
       "  <text fill=\"#0000EE\" x=\"0\" y=\"0\"  transform=\"matrix(0.59,0,0,0.018,75,49)\">C</text>\n",
       "  <text fill=\"#00BB00\" x=\"0\" y=\"0\"  transform=\"matrix(0.53,0,0,0.030,77,48.1)\">A</text>\n",
       "  <text fill=\"#F9A500\" x=\"0\" y=\"0\"  transform=\"matrix(0.55,0,0,0.031,75,46.6)\">G</text>\n",
       "  <text fill=\"#DD0000\" x=\"0\" y=\"0\"  transform=\"matrix(0.65,0,0,0.921,73.5,45.05)\">U</text>\n",
       "  \n",
       "  <text fill=\"#0000EE\" x=\"0\" y=\"0\"  transform=\"matrix(0.59,0,0,0.020,100,49)\">C</text>\n",
       "  <text fill=\"#DD0000\" x=\"0\" y=\"0\"  transform=\"matrix(0.65,0,0,0.056,98.5,48)\">U</text>\n",
       "  <text fill=\"#F9A500\" x=\"0\" y=\"0\"  transform=\"matrix(0.55,0,0,0.267,100,45.2)\">G</text>\n",
       "  <text fill=\"#00BB00\" x=\"0\" y=\"0\"  transform=\"matrix(0.53,0,0,0.657,102,31.85)\">A</text>\n",
       "  \n",
       "  <text fill=\"#F9A500\" x=\"0\" y=\"0\"  transform=\"matrix(0.55,0,0,0.056,125,49)\">G</text>\n",
       "  <text fill=\"#0000EE\" x=\"0\" y=\"0\"  transform=\"matrix(0.59,0,0,0.057,125,46.2)\">C</text>\n",
       "  <text fill=\"#DD0000\" x=\"0\" y=\"0\"  transform=\"matrix(0.65,0,0,0.121,123.5,43.35)\">U</text>\n",
       "  <text fill=\"#00BB00\" x=\"0\" y=\"0\"  transform=\"matrix(0.53,0,0,0.766,127,37.3)\">A</text>\n",
       "  \n",
       "  <text fill=\"#0000EE\" x=\"0\" y=\"0\"  transform=\"matrix(0.59,0,0,0.062,150,49)\">C</text>\n",
       "  <text fill=\"#00BB00\" x=\"0\" y=\"0\"  transform=\"matrix(0.53,0,0,0.098,152,45.9)\">A</text>\n",
       "  <text fill=\"#DD0000\" x=\"0\" y=\"0\"  transform=\"matrix(0.65,0,0,0.103,148.5,41)\">U</text>\n",
       "  <text fill=\"#F9A500\" x=\"0\" y=\"0\"  transform=\"matrix(0.55,0,0,0.737,150,35.85)\">G</text>\n",
       "  \n",
       "  <text fill=\"#0000EE\" x=\"0\" y=\"0\"  transform=\"matrix(0.59,0,0,0.120,175,49)\">C</text>\n",
       "  <text fill=\"#F9A500\" x=\"0\" y=\"0\"  transform=\"matrix(0.55,0,0,0.141,175,43)\">G</text>\n",
       "  <text fill=\"#00BB00\" x=\"0\" y=\"0\"  transform=\"matrix(0.53,0,0,0.151,177,35.95)\">A</text>\n",
       "  <text fill=\"#DD0000\" x=\"0\" y=\"0\"  transform=\"matrix(0.65,0,0,0.588,173.5,28.4)\">U</text>\n",
       "  \n",
       " </g>\n",
       "</svg>\n",
       "</TD><TD>1e-75</TD><TD>-1.743e+02</TD><TD>33.08%</TD><TD>17.95%</TD><TD>44.4bp (64.4bp)</TD><TD>hsa-miR-3124-3p MIMAT0019200 Homo sapiens miR-3124-3p Targets (miRBase)(0.648)<BR/><A target=\"_blank\" HREF=\"homerResults/motif1.info.html\">More Information</A> | <A target=\"blank\" HREF=\"homerResults/motif1.similar.html\">Similar Motifs Found</A></TD><TD><A target=\"_blank\" HREF=\"homerResults/motif1.motif\">motif file (matrix)</A></TD></TR>\n",
       "<TR><TD>2\n",
       "</TD><TD><svg width=\"180\" height=\"50\">\n",
       " <g font-family=\"Arial\" font-weight=\"bold\" font-size=\"66.5\">\n",
       "  <text fill=\"#DD0000\" x=\"0\" y=\"0\"  transform=\"matrix(0.65,0,0,0.001,-1.5,49)\">U</text>\n",
       "  <text fill=\"#00BB00\" x=\"0\" y=\"0\"  transform=\"matrix(0.53,0,0,0.061,2,48.95)\">A</text>\n",
       "  <text fill=\"#0000EE\" x=\"0\" y=\"0\"  transform=\"matrix(0.59,0,0,0.074,0,45.9)\">C</text>\n",
       "  <text fill=\"#F9A500\" x=\"0\" y=\"0\"  transform=\"matrix(0.55,0,0,0.864,0,42.2)\">G</text>\n",
       "  \n",
       "  <text fill=\"#DD0000\" x=\"0\" y=\"0\"  transform=\"matrix(0.65,0,0,0.001,23.5,49)\">U</text>\n",
       "  <text fill=\"#0000EE\" x=\"0\" y=\"0\"  transform=\"matrix(0.59,0,0,0.057,25,48.95)\">C</text>\n",
       "  <text fill=\"#F9A500\" x=\"0\" y=\"0\"  transform=\"matrix(0.55,0,0,0.101,25,46.1)\">G</text>\n",
       "  <text fill=\"#00BB00\" x=\"0\" y=\"0\"  transform=\"matrix(0.53,0,0,0.841,27,41.05)\">A</text>\n",
       "  \n",
       "  <text fill=\"#F9A500\" x=\"0\" y=\"0\"  transform=\"matrix(0.55,0,0,0.001,50,49)\">G</text>\n",
       "  <text fill=\"#0000EE\" x=\"0\" y=\"0\"  transform=\"matrix(0.59,0,0,0.007,50,48.95)\">C</text>\n",
       "  <text fill=\"#DD0000\" x=\"0\" y=\"0\"  transform=\"matrix(0.65,0,0,0.045,48.5,48.6)\">U</text>\n",
       "  <text fill=\"#00BB00\" x=\"0\" y=\"0\"  transform=\"matrix(0.53,0,0,0.947,52,46.35)\">A</text>\n",
       "  \n",
       "  <text fill=\"#00BB00\" x=\"0\" y=\"0\"  transform=\"matrix(0.53,0,0,0.001,77,49)\">A</text>\n",
       "  <text fill=\"#DD0000\" x=\"0\" y=\"0\"  transform=\"matrix(0.65,0,0,0.001,73.5,48.95)\">U</text>\n",
       "  <text fill=\"#0000EE\" x=\"0\" y=\"0\"  transform=\"matrix(0.59,0,0,0.017,75,48.9)\">C</text>\n",
       "  <text fill=\"#F9A500\" x=\"0\" y=\"0\"  transform=\"matrix(0.55,0,0,0.981,75,48.05)\">G</text>\n",
       "  \n",
       "  <text fill=\"#0000EE\" x=\"0\" y=\"0\"  transform=\"matrix(0.59,0,0,0.001,100,49)\">C</text>\n",
       "  <text fill=\"#F9A500\" x=\"0\" y=\"0\"  transform=\"matrix(0.55,0,0,0.020,100,48.95)\">G</text>\n",
       "  <text fill=\"#DD0000\" x=\"0\" y=\"0\"  transform=\"matrix(0.65,0,0,0.021,98.5,47.95)\">U</text>\n",
       "  <text fill=\"#00BB00\" x=\"0\" y=\"0\"  transform=\"matrix(0.53,0,0,0.958,102,46.9)\">A</text>\n",
       "  \n",
       "  <text fill=\"#0000EE\" x=\"0\" y=\"0\"  transform=\"matrix(0.59,0,0,0.009,125,49)\">C</text>\n",
       "  <text fill=\"#00BB00\" x=\"0\" y=\"0\"  transform=\"matrix(0.53,0,0,0.015,127,48.55)\">A</text>\n",
       "  <text fill=\"#F9A500\" x=\"0\" y=\"0\"  transform=\"matrix(0.55,0,0,0.330,125,47.8)\">G</text>\n",
       "  <text fill=\"#DD0000\" x=\"0\" y=\"0\"  transform=\"matrix(0.65,0,0,0.646,123.5,31.3)\">U</text>\n",
       "  \n",
       "  <text fill=\"#00BB00\" x=\"0\" y=\"0\"  transform=\"matrix(0.53,0,0,0.001,152,49)\">A</text>\n",
       "  <text fill=\"#F9A500\" x=\"0\" y=\"0\"  transform=\"matrix(0.55,0,0,0.035,150,48.95)\">G</text>\n",
       "  <text fill=\"#DD0000\" x=\"0\" y=\"0\"  transform=\"matrix(0.65,0,0,0.112,148.5,47.2)\">U</text>\n",
       "  <text fill=\"#0000EE\" x=\"0\" y=\"0\"  transform=\"matrix(0.59,0,0,0.852,150,41.6)\">C</text>\n",
       "  \n",
       " </g>\n",
       "</svg>\n",
       "</TD><TD>1e-68</TD><TD>-1.581e+02</TD><TD>32.65%</TD><TD>18.24%</TD><TD>46.9bp (69.3bp)</TD><TD>hsa-miR-22* MIMAT0004495 Homo sapiens miR-22* Targets (miRBase)(0.718)<BR/><A target=\"_blank\" HREF=\"homerResults/motif2.info.html\">More Information</A> | <A target=\"blank\" HREF=\"homerResults/motif2.similar.html\">Similar Motifs Found</A></TD><TD><A target=\"_blank\" HREF=\"homerResults/motif2.motif\">motif file (matrix)</A></TD></TR>\n",
       "<TR><TD>3\n",
       "</TD><TD><svg width=\"230\" height=\"50\">\n",
       " <g font-family=\"Arial\" font-weight=\"bold\" font-size=\"66.5\">\n",
       "  <text fill=\"#DD0000\" x=\"0\" y=\"0\"  transform=\"matrix(0.65,0,0,0.083,-1.5,49)\">U</text>\n",
       "  <text fill=\"#F9A500\" x=\"0\" y=\"0\"  transform=\"matrix(0.55,0,0,0.129,0,44.85)\">G</text>\n",
       "  <text fill=\"#00BB00\" x=\"0\" y=\"0\"  transform=\"matrix(0.53,0,0,0.195,2,38.4)\">A</text>\n",
       "  <text fill=\"#0000EE\" x=\"0\" y=\"0\"  transform=\"matrix(0.59,0,0,0.593,0,28.65)\">C</text>\n",
       "  \n",
       "  <text fill=\"#0000EE\" x=\"0\" y=\"0\"  transform=\"matrix(0.59,0,0,0.001,25,49)\">C</text>\n",
       "  <text fill=\"#DD0000\" x=\"0\" y=\"0\"  transform=\"matrix(0.65,0,0,0.072,23.5,48.95)\">U</text>\n",
       "  <text fill=\"#00BB00\" x=\"0\" y=\"0\"  transform=\"matrix(0.53,0,0,0.283,27,45.35)\">A</text>\n",
       "  <text fill=\"#F9A500\" x=\"0\" y=\"0\"  transform=\"matrix(0.55,0,0,0.644,25,31.2)\">G</text>\n",
       "  \n",
       "  <text fill=\"#0000EE\" x=\"0\" y=\"0\"  transform=\"matrix(0.59,0,0,0.001,50,49)\">C</text>\n",
       "  <text fill=\"#DD0000\" x=\"0\" y=\"0\"  transform=\"matrix(0.65,0,0,0.001,48.5,48.95)\">U</text>\n",
       "  <text fill=\"#F9A500\" x=\"0\" y=\"0\"  transform=\"matrix(0.55,0,0,0.095,50,48.9)\">G</text>\n",
       "  <text fill=\"#00BB00\" x=\"0\" y=\"0\"  transform=\"matrix(0.53,0,0,0.903,52,44.15)\">A</text>\n",
       "  \n",
       "  <text fill=\"#DD0000\" x=\"0\" y=\"0\"  transform=\"matrix(0.65,0,0,0.047,73.5,49)\">U</text>\n",
       "  <text fill=\"#0000EE\" x=\"0\" y=\"0\"  transform=\"matrix(0.59,0,0,0.073,75,46.65)\">C</text>\n",
       "  <text fill=\"#00BB00\" x=\"0\" y=\"0\"  transform=\"matrix(0.53,0,0,0.137,77,43)\">A</text>\n",
       "  <text fill=\"#F9A500\" x=\"0\" y=\"0\"  transform=\"matrix(0.55,0,0,0.743,75,36.15)\">G</text>\n",
       "  \n",
       "  <text fill=\"#DD0000\" x=\"0\" y=\"0\"  transform=\"matrix(0.65,0,0,0.088,98.5,49)\">U</text>\n",
       "  <text fill=\"#00BB00\" x=\"0\" y=\"0\"  transform=\"matrix(0.53,0,0,0.170,102,44.6)\">A</text>\n",
       "  <text fill=\"#F9A500\" x=\"0\" y=\"0\"  transform=\"matrix(0.55,0,0,0.317,100,36.1)\">G</text>\n",
       "  <text fill=\"#0000EE\" x=\"0\" y=\"0\"  transform=\"matrix(0.59,0,0,0.425,100,20.25)\">C</text>\n",
       "  \n",
       "  <text fill=\"#0000EE\" x=\"0\" y=\"0\"  transform=\"matrix(0.59,0,0,0.001,125,49)\">C</text>\n",
       "  <text fill=\"#DD0000\" x=\"0\" y=\"0\"  transform=\"matrix(0.65,0,0,0.001,123.5,48.95)\">U</text>\n",
       "  <text fill=\"#F9A500\" x=\"0\" y=\"0\"  transform=\"matrix(0.55,0,0,0.032,125,48.9)\">G</text>\n",
       "  <text fill=\"#00BB00\" x=\"0\" y=\"0\"  transform=\"matrix(0.53,0,0,0.966,127,47.3)\">A</text>\n",
       "  \n",
       "  <text fill=\"#DD0000\" x=\"0\" y=\"0\"  transform=\"matrix(0.65,0,0,0.001,148.5,49)\">U</text>\n",
       "  <text fill=\"#00BB00\" x=\"0\" y=\"0\"  transform=\"matrix(0.53,0,0,0.047,152,48.95)\">A</text>\n",
       "  <text fill=\"#0000EE\" x=\"0\" y=\"0\"  transform=\"matrix(0.59,0,0,0.363,150,46.6)\">C</text>\n",
       "  <text fill=\"#F9A500\" x=\"0\" y=\"0\"  transform=\"matrix(0.55,0,0,0.589,150,28.45)\">G</text>\n",
       "  \n",
       "  <text fill=\"#F9A500\" x=\"0\" y=\"0\"  transform=\"matrix(0.55,0,0,0.001,175,49)\">G</text>\n",
       "  <text fill=\"#DD0000\" x=\"0\" y=\"0\"  transform=\"matrix(0.65,0,0,0.001,173.5,48.95)\">U</text>\n",
       "  <text fill=\"#0000EE\" x=\"0\" y=\"0\"  transform=\"matrix(0.59,0,0,0.042,175,48.9)\">C</text>\n",
       "  <text fill=\"#00BB00\" x=\"0\" y=\"0\"  transform=\"matrix(0.53,0,0,0.956,177,46.8)\">A</text>\n",
       "  \n",
       "  <text fill=\"#F9A500\" x=\"0\" y=\"0\"  transform=\"matrix(0.55,0,0,0.001,200,49)\">G</text>\n",
       "  <text fill=\"#00BB00\" x=\"0\" y=\"0\"  transform=\"matrix(0.53,0,0,0.214,202,48.95)\">A</text>\n",
       "  <text fill=\"#DD0000\" x=\"0\" y=\"0\"  transform=\"matrix(0.65,0,0,0.388,198.5,38.25)\">U</text>\n",
       "  <text fill=\"#0000EE\" x=\"0\" y=\"0\"  transform=\"matrix(0.59,0,0,0.397,200,18.85)\">C</text>\n",
       "  \n",
       " </g>\n",
       "</svg>\n",
       "</TD><TD>1e-32</TD><TD>-7.554e+01</TD><TD>18.17%</TD><TD>10.32%</TD><TD>45.5bp (69.2bp)</TD><TD>hsa-miR-4279 MIMAT0016909 Homo sapiens miR-4279 Targets (miRBase)(0.730)<BR/><A target=\"_blank\" HREF=\"homerResults/motif3.info.html\">More Information</A> | <A target=\"blank\" HREF=\"homerResults/motif3.similar.html\">Similar Motifs Found</A></TD><TD><A target=\"_blank\" HREF=\"homerResults/motif3.motif\">motif file (matrix)</A></TD></TR>\n",
       "<TR><TD>4\n",
       "</TD><TD><svg width=\"180\" height=\"50\">\n",
       " <g font-family=\"Arial\" font-weight=\"bold\" font-size=\"66.5\">\n",
       "  <text fill=\"#0000EE\" x=\"0\" y=\"0\"  transform=\"matrix(0.59,0,0,0.001,0,49)\">C</text>\n",
       "  <text fill=\"#00BB00\" x=\"0\" y=\"0\"  transform=\"matrix(0.53,0,0,0.039,2,48.95)\">A</text>\n",
       "  <text fill=\"#F9A500\" x=\"0\" y=\"0\"  transform=\"matrix(0.55,0,0,0.270,0,47)\">G</text>\n",
       "  <text fill=\"#DD0000\" x=\"0\" y=\"0\"  transform=\"matrix(0.65,0,0,0.690,-1.5,33.5)\">U</text>\n",
       "  \n",
       "  <text fill=\"#00BB00\" x=\"0\" y=\"0\"  transform=\"matrix(0.53,0,0,0.001,27,49)\">A</text>\n",
       "  <text fill=\"#DD0000\" x=\"0\" y=\"0\"  transform=\"matrix(0.65,0,0,0.001,23.5,48.95)\">U</text>\n",
       "  <text fill=\"#0000EE\" x=\"0\" y=\"0\"  transform=\"matrix(0.59,0,0,0.234,25,48.9)\">C</text>\n",
       "  <text fill=\"#F9A500\" x=\"0\" y=\"0\"  transform=\"matrix(0.55,0,0,0.764,25,37.2)\">G</text>\n",
       "  \n",
       "  <text fill=\"#0000EE\" x=\"0\" y=\"0\"  transform=\"matrix(0.59,0,0,0.001,50,49)\">C</text>\n",
       "  <text fill=\"#F9A500\" x=\"0\" y=\"0\"  transform=\"matrix(0.55,0,0,0.001,50,48.95)\">G</text>\n",
       "  <text fill=\"#00BB00\" x=\"0\" y=\"0\"  transform=\"matrix(0.53,0,0,0.322,52,48.9)\">A</text>\n",
       "  <text fill=\"#DD0000\" x=\"0\" y=\"0\"  transform=\"matrix(0.65,0,0,0.676,48.5,32.8)\">U</text>\n",
       "  \n",
       "  <text fill=\"#F9A500\" x=\"0\" y=\"0\"  transform=\"matrix(0.55,0,0,0.001,75,49)\">G</text>\n",
       "  <text fill=\"#DD0000\" x=\"0\" y=\"0\"  transform=\"matrix(0.65,0,0,0.201,73.5,48.95)\">U</text>\n",
       "  <text fill=\"#0000EE\" x=\"0\" y=\"0\"  transform=\"matrix(0.59,0,0,0.233,75,38.9)\">C</text>\n",
       "  <text fill=\"#00BB00\" x=\"0\" y=\"0\"  transform=\"matrix(0.53,0,0,0.565,77,27.25)\">A</text>\n",
       "  \n",
       "  <text fill=\"#00BB00\" x=\"0\" y=\"0\"  transform=\"matrix(0.53,0,0,0.001,102,49)\">A</text>\n",
       "  <text fill=\"#F9A500\" x=\"0\" y=\"0\"  transform=\"matrix(0.55,0,0,0.001,100,48.95)\">G</text>\n",
       "  <text fill=\"#DD0000\" x=\"0\" y=\"0\"  transform=\"matrix(0.65,0,0,0.001,98.5,48.9)\">U</text>\n",
       "  <text fill=\"#0000EE\" x=\"0\" y=\"0\"  transform=\"matrix(0.59,0,0,0.997,100,48.85)\">C</text>\n",
       "  \n",
       "  <text fill=\"#00BB00\" x=\"0\" y=\"0\"  transform=\"matrix(0.53,0,0,0.001,127,49)\">A</text>\n",
       "  <text fill=\"#0000EE\" x=\"0\" y=\"0\"  transform=\"matrix(0.59,0,0,0.001,125,48.95)\">C</text>\n",
       "  <text fill=\"#DD0000\" x=\"0\" y=\"0\"  transform=\"matrix(0.65,0,0,0.001,123.5,48.9)\">U</text>\n",
       "  <text fill=\"#F9A500\" x=\"0\" y=\"0\"  transform=\"matrix(0.55,0,0,0.997,125,48.85)\">G</text>\n",
       "  \n",
       "  <text fill=\"#0000EE\" x=\"0\" y=\"0\"  transform=\"matrix(0.59,0,0,0.001,150,49)\">C</text>\n",
       "  <text fill=\"#DD0000\" x=\"0\" y=\"0\"  transform=\"matrix(0.65,0,0,0.001,148.5,48.95)\">U</text>\n",
       "  <text fill=\"#F9A500\" x=\"0\" y=\"0\"  transform=\"matrix(0.55,0,0,0.235,150,48.9)\">G</text>\n",
       "  <text fill=\"#00BB00\" x=\"0\" y=\"0\"  transform=\"matrix(0.53,0,0,0.763,152,37.15)\">A</text>\n",
       "  \n",
       " </g>\n",
       "</svg>\n",
       "</TD><TD>1e-27</TD><TD>-6.303e+01</TD><TD>27.92%</TD><TD>19.05%</TD><TD>51.7bp (69.7bp)</TD><TD>hsa-miR-487b MIMAT0003180 Homo sapiens miR-487b Targets (miRBase)(0.742)<BR/><A target=\"_blank\" HREF=\"homerResults/motif4.info.html\">More Information</A> | <A target=\"blank\" HREF=\"homerResults/motif4.similar.html\">Similar Motifs Found</A></TD><TD><A target=\"_blank\" HREF=\"homerResults/motif4.motif\">motif file (matrix)</A></TD></TR>\n",
       "<TR><TD>5\n",
       "</TD><TD><svg width=\"155\" height=\"50\">\n",
       " <g font-family=\"Arial\" font-weight=\"bold\" font-size=\"66.5\">\n",
       "  <text fill=\"#00BB00\" x=\"0\" y=\"0\"  transform=\"matrix(0.53,0,0,0.001,2,49)\">A</text>\n",
       "  <text fill=\"#F9A500\" x=\"0\" y=\"0\"  transform=\"matrix(0.55,0,0,0.001,0,48.95)\">G</text>\n",
       "  <text fill=\"#DD0000\" x=\"0\" y=\"0\"  transform=\"matrix(0.65,0,0,0.001,-1.5,48.9)\">U</text>\n",
       "  <text fill=\"#0000EE\" x=\"0\" y=\"0\"  transform=\"matrix(0.59,0,0,0.997,0,48.85)\">C</text>\n",
       "  \n",
       "  <text fill=\"#00BB00\" x=\"0\" y=\"0\"  transform=\"matrix(0.53,0,0,0.001,27,49)\">A</text>\n",
       "  <text fill=\"#0000EE\" x=\"0\" y=\"0\"  transform=\"matrix(0.59,0,0,0.001,25,48.95)\">C</text>\n",
       "  <text fill=\"#DD0000\" x=\"0\" y=\"0\"  transform=\"matrix(0.65,0,0,0.001,23.5,48.9)\">U</text>\n",
       "  <text fill=\"#F9A500\" x=\"0\" y=\"0\"  transform=\"matrix(0.55,0,0,0.997,25,48.85)\">G</text>\n",
       "  \n",
       "  <text fill=\"#DD0000\" x=\"0\" y=\"0\"  transform=\"matrix(0.65,0,0,0.001,48.5,49)\">U</text>\n",
       "  <text fill=\"#00BB00\" x=\"0\" y=\"0\"  transform=\"matrix(0.53,0,0,0.151,52,48.95)\">A</text>\n",
       "  <text fill=\"#0000EE\" x=\"0\" y=\"0\"  transform=\"matrix(0.59,0,0,0.313,50,41.4)\">C</text>\n",
       "  <text fill=\"#F9A500\" x=\"0\" y=\"0\"  transform=\"matrix(0.55,0,0,0.535,50,25.75)\">G</text>\n",
       "  \n",
       "  <text fill=\"#0000EE\" x=\"0\" y=\"0\"  transform=\"matrix(0.59,0,0,0.001,75,49)\">C</text>\n",
       "  <text fill=\"#F9A500\" x=\"0\" y=\"0\"  transform=\"matrix(0.55,0,0,0.001,75,48.95)\">G</text>\n",
       "  <text fill=\"#DD0000\" x=\"0\" y=\"0\"  transform=\"matrix(0.65,0,0,0.001,73.5,48.9)\">U</text>\n",
       "  <text fill=\"#00BB00\" x=\"0\" y=\"0\"  transform=\"matrix(0.53,0,0,0.997,77,48.85)\">A</text>\n",
       "  \n",
       "  <text fill=\"#0000EE\" x=\"0\" y=\"0\"  transform=\"matrix(0.59,0,0,0.001,100,49)\">C</text>\n",
       "  <text fill=\"#DD0000\" x=\"0\" y=\"0\"  transform=\"matrix(0.65,0,0,0.001,98.5,48.95)\">U</text>\n",
       "  <text fill=\"#F9A500\" x=\"0\" y=\"0\"  transform=\"matrix(0.55,0,0,0.031,100,48.9)\">G</text>\n",
       "  <text fill=\"#00BB00\" x=\"0\" y=\"0\"  transform=\"matrix(0.53,0,0,0.967,102,47.35)\">A</text>\n",
       "  \n",
       "  <text fill=\"#0000EE\" x=\"0\" y=\"0\"  transform=\"matrix(0.59,0,0,0.001,125,49)\">C</text>\n",
       "  <text fill=\"#DD0000\" x=\"0\" y=\"0\"  transform=\"matrix(0.65,0,0,0.204,123.5,48.95)\">U</text>\n",
       "  <text fill=\"#F9A500\" x=\"0\" y=\"0\"  transform=\"matrix(0.55,0,0,0.278,125,38.75)\">G</text>\n",
       "  <text fill=\"#00BB00\" x=\"0\" y=\"0\"  transform=\"matrix(0.53,0,0,0.517,127,24.85)\">A</text>\n",
       "  \n",
       " </g>\n",
       "</svg>\n",
       "</TD><TD>1e-21</TD><TD>-4.921e+01</TD><TD>19.64%</TD><TD>12.91%</TD><TD>51.1bp (70.4bp)</TD><TD>hsa-miR-1180 MIMAT0005825 Homo sapiens miR-1180 Targets (miRBase)(0.703)<BR/><A target=\"_blank\" HREF=\"homerResults/motif5.info.html\">More Information</A> | <A target=\"blank\" HREF=\"homerResults/motif5.similar.html\">Similar Motifs Found</A></TD><TD><A target=\"_blank\" HREF=\"homerResults/motif5.motif\">motif file (matrix)</A></TD></TR>\n",
       "<TR><TD>6\n",
       "</TD><TD><svg width=\"180\" height=\"50\">\n",
       " <g font-family=\"Arial\" font-weight=\"bold\" font-size=\"66.5\">\n",
       "  <text fill=\"#DD0000\" x=\"0\" y=\"0\"  transform=\"matrix(0.65,0,0,0.012,-1.5,49)\">U</text>\n",
       "  <text fill=\"#0000EE\" x=\"0\" y=\"0\"  transform=\"matrix(0.59,0,0,0.020,0,48.4)\">C</text>\n",
       "  <text fill=\"#F9A500\" x=\"0\" y=\"0\"  transform=\"matrix(0.55,0,0,0.043,0,47.4)\">G</text>\n",
       "  <text fill=\"#00BB00\" x=\"0\" y=\"0\"  transform=\"matrix(0.53,0,0,0.925,2,45.25)\">A</text>\n",
       "  \n",
       "  <text fill=\"#DD0000\" x=\"0\" y=\"0\"  transform=\"matrix(0.65,0,0,0.001,23.5,49)\">U</text>\n",
       "  <text fill=\"#F9A500\" x=\"0\" y=\"0\"  transform=\"matrix(0.55,0,0,0.052,25,48.95)\">G</text>\n",
       "  <text fill=\"#00BB00\" x=\"0\" y=\"0\"  transform=\"matrix(0.53,0,0,0.062,27,46.35)\">A</text>\n",
       "  <text fill=\"#0000EE\" x=\"0\" y=\"0\"  transform=\"matrix(0.59,0,0,0.885,25,43.25)\">C</text>\n",
       "  \n",
       "  <text fill=\"#00BB00\" x=\"0\" y=\"0\"  transform=\"matrix(0.53,0,0,0.001,52,49)\">A</text>\n",
       "  <text fill=\"#0000EE\" x=\"0\" y=\"0\"  transform=\"matrix(0.59,0,0,0.086,50,48.95)\">C</text>\n",
       "  <text fill=\"#DD0000\" x=\"0\" y=\"0\"  transform=\"matrix(0.65,0,0,0.156,48.5,44.65)\">U</text>\n",
       "  <text fill=\"#F9A500\" x=\"0\" y=\"0\"  transform=\"matrix(0.55,0,0,0.757,50,36.85)\">G</text>\n",
       "  \n",
       "  <text fill=\"#0000EE\" x=\"0\" y=\"0\"  transform=\"matrix(0.59,0,0,0.001,75,49)\">C</text>\n",
       "  <text fill=\"#DD0000\" x=\"0\" y=\"0\"  transform=\"matrix(0.65,0,0,0.001,73.5,48.95)\">U</text>\n",
       "  <text fill=\"#F9A500\" x=\"0\" y=\"0\"  transform=\"matrix(0.55,0,0,0.026,75,48.9)\">G</text>\n",
       "  <text fill=\"#00BB00\" x=\"0\" y=\"0\"  transform=\"matrix(0.53,0,0,0.972,77,47.6)\">A</text>\n",
       "  \n",
       "  <text fill=\"#00BB00\" x=\"0\" y=\"0\"  transform=\"matrix(0.53,0,0,0.036,102,49)\">A</text>\n",
       "  <text fill=\"#DD0000\" x=\"0\" y=\"0\"  transform=\"matrix(0.65,0,0,0.086,98.5,47.2)\">U</text>\n",
       "  <text fill=\"#F9A500\" x=\"0\" y=\"0\"  transform=\"matrix(0.55,0,0,0.222,100,42.9)\">G</text>\n",
       "  <text fill=\"#0000EE\" x=\"0\" y=\"0\"  transform=\"matrix(0.59,0,0,0.656,100,31.8)\">C</text>\n",
       "  \n",
       "  <text fill=\"#0000EE\" x=\"0\" y=\"0\"  transform=\"matrix(0.59,0,0,0.001,125,49)\">C</text>\n",
       "  <text fill=\"#00BB00\" x=\"0\" y=\"0\"  transform=\"matrix(0.53,0,0,0.023,127,48.95)\">A</text>\n",
       "  <text fill=\"#DD0000\" x=\"0\" y=\"0\"  transform=\"matrix(0.65,0,0,0.053,123.5,47.8)\">U</text>\n",
       "  <text fill=\"#F9A500\" x=\"0\" y=\"0\"  transform=\"matrix(0.55,0,0,0.923,125,45.15)\">G</text>\n",
       "  \n",
       "  <text fill=\"#0000EE\" x=\"0\" y=\"0\"  transform=\"matrix(0.59,0,0,0.001,150,49)\">C</text>\n",
       "  <text fill=\"#F9A500\" x=\"0\" y=\"0\"  transform=\"matrix(0.55,0,0,0.001,150,48.95)\">G</text>\n",
       "  <text fill=\"#DD0000\" x=\"0\" y=\"0\"  transform=\"matrix(0.65,0,0,0.022,148.5,48.9)\">U</text>\n",
       "  <text fill=\"#00BB00\" x=\"0\" y=\"0\"  transform=\"matrix(0.53,0,0,0.976,152,47.8)\">A</text>\n",
       "  \n",
       " </g>\n",
       "</svg>\n",
       "</TD><TD>1e-20</TD><TD>-4.805e+01</TD><TD>23.22%</TD><TD>16.02%</TD><TD>52.4bp (71.8bp)</TD><TD>hsa-miR-1238 MIMAT0005593 Homo sapiens miR-1238 Targets (miRBase)(0.694)<BR/><A target=\"_blank\" HREF=\"homerResults/motif6.info.html\">More Information</A> | <A target=\"blank\" HREF=\"homerResults/motif6.similar.html\">Similar Motifs Found</A></TD><TD><A target=\"_blank\" HREF=\"homerResults/motif6.motif\">motif file (matrix)</A></TD></TR>\n",
       "<TR><TD>7\n",
       "</TD><TD><svg width=\"130\" height=\"50\">\n",
       " <g font-family=\"Arial\" font-weight=\"bold\" font-size=\"66.5\">\n",
       "  <text fill=\"#0000EE\" x=\"0\" y=\"0\"  transform=\"matrix(0.59,0,0,0.001,0,49)\">C</text>\n",
       "  <text fill=\"#DD0000\" x=\"0\" y=\"0\"  transform=\"matrix(0.65,0,0,0.045,-1.5,48.95)\">U</text>\n",
       "  <text fill=\"#F9A500\" x=\"0\" y=\"0\"  transform=\"matrix(0.55,0,0,0.174,0,46.7)\">G</text>\n",
       "  <text fill=\"#00BB00\" x=\"0\" y=\"0\"  transform=\"matrix(0.53,0,0,0.780,2,38)\">A</text>\n",
       "  \n",
       "  <text fill=\"#00BB00\" x=\"0\" y=\"0\"  transform=\"matrix(0.53,0,0,0.001,27,49)\">A</text>\n",
       "  <text fill=\"#0000EE\" x=\"0\" y=\"0\"  transform=\"matrix(0.59,0,0,0.150,25,48.95)\">C</text>\n",
       "  <text fill=\"#F9A500\" x=\"0\" y=\"0\"  transform=\"matrix(0.55,0,0,0.296,25,41.45)\">G</text>\n",
       "  <text fill=\"#DD0000\" x=\"0\" y=\"0\"  transform=\"matrix(0.65,0,0,0.553,23.5,26.65)\">U</text>\n",
       "  \n",
       "  <text fill=\"#00BB00\" x=\"0\" y=\"0\"  transform=\"matrix(0.53,0,0,0.001,52,49)\">A</text>\n",
       "  <text fill=\"#F9A500\" x=\"0\" y=\"0\"  transform=\"matrix(0.55,0,0,0.001,50,48.95)\">G</text>\n",
       "  <text fill=\"#DD0000\" x=\"0\" y=\"0\"  transform=\"matrix(0.65,0,0,0.123,48.5,48.9)\">U</text>\n",
       "  <text fill=\"#0000EE\" x=\"0\" y=\"0\"  transform=\"matrix(0.59,0,0,0.875,50,42.75)\">C</text>\n",
       "  \n",
       "  <text fill=\"#DD0000\" x=\"0\" y=\"0\"  transform=\"matrix(0.65,0,0,0.001,73.5,49)\">U</text>\n",
       "  <text fill=\"#00BB00\" x=\"0\" y=\"0\"  transform=\"matrix(0.53,0,0,0.043,77,48.95)\">A</text>\n",
       "  <text fill=\"#0000EE\" x=\"0\" y=\"0\"  transform=\"matrix(0.59,0,0,0.064,75,46.8)\">C</text>\n",
       "  <text fill=\"#F9A500\" x=\"0\" y=\"0\"  transform=\"matrix(0.55,0,0,0.892,75,43.6)\">G</text>\n",
       "  \n",
       "  <text fill=\"#0000EE\" x=\"0\" y=\"0\"  transform=\"matrix(0.59,0,0,0.001,100,49)\">C</text>\n",
       "  <text fill=\"#DD0000\" x=\"0\" y=\"0\"  transform=\"matrix(0.65,0,0,0.024,98.5,48.95)\">U</text>\n",
       "  <text fill=\"#00BB00\" x=\"0\" y=\"0\"  transform=\"matrix(0.53,0,0,0.047,102,47.75)\">A</text>\n",
       "  <text fill=\"#F9A500\" x=\"0\" y=\"0\"  transform=\"matrix(0.55,0,0,0.928,100,45.4)\">G</text>\n",
       "  \n",
       " </g>\n",
       "</svg>\n",
       "</TD><TD>1e-19</TD><TD>-4.502e+01</TD><TD>22.64%</TD><TD>15.74%</TD><TD>54.6bp (68.2bp)</TD><TD>hsa-miR-29c* MIMAT0004673 Homo sapiens miR-29c* Targets (miRBase)(0.696)<BR/><A target=\"_blank\" HREF=\"homerResults/motif7.info.html\">More Information</A> | <A target=\"blank\" HREF=\"homerResults/motif7.similar.html\">Similar Motifs Found</A></TD><TD><A target=\"_blank\" HREF=\"homerResults/motif7.motif\">motif file (matrix)</A></TD></TR>\n",
       "<TR><TD>8\n",
       "</TD><TD><svg width=\"230\" height=\"50\">\n",
       " <g font-family=\"Arial\" font-weight=\"bold\" font-size=\"66.5\">\n",
       "  <text fill=\"#00BB00\" x=\"0\" y=\"0\"  transform=\"matrix(0.53,0,0,0.047,2,49)\">A</text>\n",
       "  <text fill=\"#F9A500\" x=\"0\" y=\"0\"  transform=\"matrix(0.55,0,0,0.056,0,46.65)\">G</text>\n",
       "  <text fill=\"#DD0000\" x=\"0\" y=\"0\"  transform=\"matrix(0.65,0,0,0.076,-1.5,43.85)\">U</text>\n",
       "  <text fill=\"#0000EE\" x=\"0\" y=\"0\"  transform=\"matrix(0.59,0,0,0.821,0,40.05)\">C</text>\n",
       "  \n",
       "  <text fill=\"#0000EE\" x=\"0\" y=\"0\"  transform=\"matrix(0.59,0,0,0.071,25,49)\">C</text>\n",
       "  <text fill=\"#F9A500\" x=\"0\" y=\"0\"  transform=\"matrix(0.55,0,0,0.097,25,45.45)\">G</text>\n",
       "  <text fill=\"#DD0000\" x=\"0\" y=\"0\"  transform=\"matrix(0.65,0,0,0.132,23.5,40.6)\">U</text>\n",
       "  <text fill=\"#00BB00\" x=\"0\" y=\"0\"  transform=\"matrix(0.53,0,0,0.700,27,34)\">A</text>\n",
       "  \n",
       "  <text fill=\"#DD0000\" x=\"0\" y=\"0\"  transform=\"matrix(0.65,0,0,0.058,48.5,49)\">U</text>\n",
       "  <text fill=\"#00BB00\" x=\"0\" y=\"0\"  transform=\"matrix(0.53,0,0,0.063,52,46.1)\">A</text>\n",
       "  <text fill=\"#0000EE\" x=\"0\" y=\"0\"  transform=\"matrix(0.59,0,0,0.079,50,42.95)\">C</text>\n",
       "  <text fill=\"#F9A500\" x=\"0\" y=\"0\"  transform=\"matrix(0.55,0,0,0.800,50,39)\">G</text>\n",
       "  \n",
       "  <text fill=\"#00BB00\" x=\"0\" y=\"0\"  transform=\"matrix(0.53,0,0,0.059,77,49)\">A</text>\n",
       "  <text fill=\"#F9A500\" x=\"0\" y=\"0\"  transform=\"matrix(0.55,0,0,0.059,75,46.05)\">G</text>\n",
       "  <text fill=\"#DD0000\" x=\"0\" y=\"0\"  transform=\"matrix(0.65,0,0,0.082,73.5,43.1)\">U</text>\n",
       "  <text fill=\"#0000EE\" x=\"0\" y=\"0\"  transform=\"matrix(0.59,0,0,0.800,75,39)\">C</text>\n",
       "  \n",
       "  <text fill=\"#0000EE\" x=\"0\" y=\"0\"  transform=\"matrix(0.59,0,0,0.053,100,49)\">C</text>\n",
       "  <text fill=\"#F9A500\" x=\"0\" y=\"0\"  transform=\"matrix(0.55,0,0,0.074,100,46.35)\">G</text>\n",
       "  <text fill=\"#00BB00\" x=\"0\" y=\"0\"  transform=\"matrix(0.53,0,0,0.158,102,42.65)\">A</text>\n",
       "  <text fill=\"#DD0000\" x=\"0\" y=\"0\"  transform=\"matrix(0.65,0,0,0.715,98.5,34.75)\">U</text>\n",
       "  \n",
       "  <text fill=\"#DD0000\" x=\"0\" y=\"0\"  transform=\"matrix(0.65,0,0,0.055,123.5,49)\">U</text>\n",
       "  <text fill=\"#0000EE\" x=\"0\" y=\"0\"  transform=\"matrix(0.59,0,0,0.058,125,46.25)\">C</text>\n",
       "  <text fill=\"#00BB00\" x=\"0\" y=\"0\"  transform=\"matrix(0.53,0,0,0.075,127,43.35)\">A</text>\n",
       "  <text fill=\"#F9A500\" x=\"0\" y=\"0\"  transform=\"matrix(0.55,0,0,0.812,125,39.6)\">G</text>\n",
       "  \n",
       "  <text fill=\"#DD0000\" x=\"0\" y=\"0\"  transform=\"matrix(0.65,0,0,0.047,148.5,49)\">U</text>\n",
       "  <text fill=\"#F9A500\" x=\"0\" y=\"0\"  transform=\"matrix(0.55,0,0,0.070,150,46.65)\">G</text>\n",
       "  <text fill=\"#00BB00\" x=\"0\" y=\"0\"  transform=\"matrix(0.53,0,0,0.104,152,43.15)\">A</text>\n",
       "  <text fill=\"#0000EE\" x=\"0\" y=\"0\"  transform=\"matrix(0.59,0,0,0.779,150,37.95)\">C</text>\n",
       "  \n",
       "  <text fill=\"#0000EE\" x=\"0\" y=\"0\"  transform=\"matrix(0.59,0,0,0.045,175,49)\">C</text>\n",
       "  <text fill=\"#F9A500\" x=\"0\" y=\"0\"  transform=\"matrix(0.55,0,0,0.080,175,46.75)\">G</text>\n",
       "  <text fill=\"#DD0000\" x=\"0\" y=\"0\"  transform=\"matrix(0.65,0,0,0.142,173.5,42.75)\">U</text>\n",
       "  <text fill=\"#00BB00\" x=\"0\" y=\"0\"  transform=\"matrix(0.53,0,0,0.733,177,35.65)\">A</text>\n",
       "  \n",
       "  <text fill=\"#DD0000\" x=\"0\" y=\"0\"  transform=\"matrix(0.65,0,0,0.048,198.5,49)\">U</text>\n",
       "  <text fill=\"#0000EE\" x=\"0\" y=\"0\"  transform=\"matrix(0.59,0,0,0.051,200,46.6)\">C</text>\n",
       "  <text fill=\"#00BB00\" x=\"0\" y=\"0\"  transform=\"matrix(0.53,0,0,0.060,202,44.05)\">A</text>\n",
       "  <text fill=\"#F9A500\" x=\"0\" y=\"0\"  transform=\"matrix(0.55,0,0,0.841,200,41.05)\">G</text>\n",
       "  \n",
       " </g>\n",
       "</svg>\n",
       "</TD><TD>1e-17</TD><TD>-4.116e+01</TD><TD>24.34%</TD><TD>17.52%</TD><TD>53.8bp (64.7bp)</TD><TD>hsa-miR-5047 MIMAT0020541 Homo sapiens miR-5047 Targets (miRBase)(0.772)<BR/><A target=\"_blank\" HREF=\"homerResults/motif8.info.html\">More Information</A> | <A target=\"blank\" HREF=\"homerResults/motif8.similar.html\">Similar Motifs Found</A></TD><TD><A target=\"_blank\" HREF=\"homerResults/motif8.motif\">motif file (matrix)</A></TD></TR>\n",
       "<TR><TD>9\n",
       "</TD><TD><svg width=\"230\" height=\"50\">\n",
       " <g font-family=\"Arial\" font-weight=\"bold\" font-size=\"66.5\">\n",
       "  <text fill=\"#F9A500\" x=\"0\" y=\"0\"  transform=\"matrix(0.55,0,0,0.051,0,49)\">G</text>\n",
       "  <text fill=\"#00BB00\" x=\"0\" y=\"0\"  transform=\"matrix(0.53,0,0,0.064,2,46.45)\">A</text>\n",
       "  <text fill=\"#DD0000\" x=\"0\" y=\"0\"  transform=\"matrix(0.65,0,0,0.066,-1.5,43.25)\">U</text>\n",
       "  <text fill=\"#0000EE\" x=\"0\" y=\"0\"  transform=\"matrix(0.59,0,0,0.819,0,39.95)\">C</text>\n",
       "  \n",
       "  <text fill=\"#F9A500\" x=\"0\" y=\"0\"  transform=\"matrix(0.55,0,0,0.050,25,49)\">G</text>\n",
       "  <text fill=\"#DD0000\" x=\"0\" y=\"0\"  transform=\"matrix(0.65,0,0,0.078,23.5,46.5)\">U</text>\n",
       "  <text fill=\"#0000EE\" x=\"0\" y=\"0\"  transform=\"matrix(0.59,0,0,0.082,25,42.6)\">C</text>\n",
       "  <text fill=\"#00BB00\" x=\"0\" y=\"0\"  transform=\"matrix(0.53,0,0,0.790,27,38.5)\">A</text>\n",
       "  \n",
       "  <text fill=\"#F9A500\" x=\"0\" y=\"0\"  transform=\"matrix(0.55,0,0,0.069,50,49)\">G</text>\n",
       "  <text fill=\"#00BB00\" x=\"0\" y=\"0\"  transform=\"matrix(0.53,0,0,0.083,52,45.55)\">A</text>\n",
       "  <text fill=\"#0000EE\" x=\"0\" y=\"0\"  transform=\"matrix(0.59,0,0,0.125,50,41.4)\">C</text>\n",
       "  <text fill=\"#DD0000\" x=\"0\" y=\"0\"  transform=\"matrix(0.65,0,0,0.723,48.5,35.15)\">U</text>\n",
       "  \n",
       "  <text fill=\"#F9A500\" x=\"0\" y=\"0\"  transform=\"matrix(0.55,0,0,0.039,75,49)\">G</text>\n",
       "  <text fill=\"#0000EE\" x=\"0\" y=\"0\"  transform=\"matrix(0.59,0,0,0.058,75,47.05)\">C</text>\n",
       "  <text fill=\"#00BB00\" x=\"0\" y=\"0\"  transform=\"matrix(0.53,0,0,0.105,77,44.15)\">A</text>\n",
       "  <text fill=\"#DD0000\" x=\"0\" y=\"0\"  transform=\"matrix(0.65,0,0,0.798,73.5,38.9)\">U</text>\n",
       "  \n",
       "  <text fill=\"#0000EE\" x=\"0\" y=\"0\"  transform=\"matrix(0.59,0,0,0.040,100,49)\">C</text>\n",
       "  <text fill=\"#DD0000\" x=\"0\" y=\"0\"  transform=\"matrix(0.65,0,0,0.040,98.5,47)\">U</text>\n",
       "  <text fill=\"#00BB00\" x=\"0\" y=\"0\"  transform=\"matrix(0.53,0,0,0.061,102,45)\">A</text>\n",
       "  <text fill=\"#F9A500\" x=\"0\" y=\"0\"  transform=\"matrix(0.55,0,0,0.859,100,41.95)\">G</text>\n",
       "  \n",
       "  <text fill=\"#F9A500\" x=\"0\" y=\"0\"  transform=\"matrix(0.55,0,0,0.032,125,49)\">G</text>\n",
       "  <text fill=\"#DD0000\" x=\"0\" y=\"0\"  transform=\"matrix(0.65,0,0,0.076,123.5,47.4)\">U</text>\n",
       "  <text fill=\"#0000EE\" x=\"0\" y=\"0\"  transform=\"matrix(0.59,0,0,0.129,125,43.6)\">C</text>\n",
       "  <text fill=\"#00BB00\" x=\"0\" y=\"0\"  transform=\"matrix(0.53,0,0,0.763,127,37.15)\">A</text>\n",
       "  \n",
       "  <text fill=\"#00BB00\" x=\"0\" y=\"0\"  transform=\"matrix(0.53,0,0,0.051,152,49)\">A</text>\n",
       "  <text fill=\"#F9A500\" x=\"0\" y=\"0\"  transform=\"matrix(0.55,0,0,0.071,150,46.45)\">G</text>\n",
       "  <text fill=\"#0000EE\" x=\"0\" y=\"0\"  transform=\"matrix(0.59,0,0,0.118,150,42.9)\">C</text>\n",
       "  <text fill=\"#DD0000\" x=\"0\" y=\"0\"  transform=\"matrix(0.65,0,0,0.760,148.5,37)\">U</text>\n",
       "  \n",
       "  <text fill=\"#DD0000\" x=\"0\" y=\"0\"  transform=\"matrix(0.65,0,0,0.050,173.5,49)\">U</text>\n",
       "  <text fill=\"#00BB00\" x=\"0\" y=\"0\"  transform=\"matrix(0.53,0,0,0.092,177,46.5)\">A</text>\n",
       "  <text fill=\"#F9A500\" x=\"0\" y=\"0\"  transform=\"matrix(0.55,0,0,0.107,175,41.9)\">G</text>\n",
       "  <text fill=\"#0000EE\" x=\"0\" y=\"0\"  transform=\"matrix(0.59,0,0,0.751,175,36.55)\">C</text>\n",
       "  \n",
       "  <text fill=\"#F9A500\" x=\"0\" y=\"0\"  transform=\"matrix(0.55,0,0,0.058,200,49)\">G</text>\n",
       "  <text fill=\"#0000EE\" x=\"0\" y=\"0\"  transform=\"matrix(0.59,0,0,0.098,200,46.1)\">C</text>\n",
       "  <text fill=\"#DD0000\" x=\"0\" y=\"0\"  transform=\"matrix(0.65,0,0,0.101,198.5,41.2)\">U</text>\n",
       "  <text fill=\"#00BB00\" x=\"0\" y=\"0\"  transform=\"matrix(0.53,0,0,0.743,202,36.15)\">A</text>\n",
       "  \n",
       " </g>\n",
       "</svg>\n",
       "</TD><TD>1e-14</TD><TD>-3.344e+01</TD><TD>14.17%</TD><TD>9.39%</TD><TD>58.2bp (61.9bp)</TD><TD>hsa-miR-3908 MIMAT0018182 Homo sapiens miR-3908 Targets (miRBase)(0.681)<BR/><A target=\"_blank\" HREF=\"homerResults/motif9.info.html\">More Information</A> | <A target=\"blank\" HREF=\"homerResults/motif9.similar.html\">Similar Motifs Found</A></TD><TD><A target=\"_blank\" HREF=\"homerResults/motif9.motif\">motif file (matrix)</A></TD></TR>\n",
       "<TR><TD>10\n",
       "</TD><TD><svg width=\"180\" height=\"50\">\n",
       " <g font-family=\"Arial\" font-weight=\"bold\" font-size=\"66.5\">\n",
       "  <text fill=\"#00BB00\" x=\"0\" y=\"0\"  transform=\"matrix(0.53,0,0,0.001,2,49)\">A</text>\n",
       "  <text fill=\"#F9A500\" x=\"0\" y=\"0\"  transform=\"matrix(0.55,0,0,0.001,0,48.95)\">G</text>\n",
       "  <text fill=\"#DD0000\" x=\"0\" y=\"0\"  transform=\"matrix(0.65,0,0,0.001,-1.5,48.9)\">U</text>\n",
       "  <text fill=\"#0000EE\" x=\"0\" y=\"0\"  transform=\"matrix(0.59,0,0,0.997,0,48.85)\">C</text>\n",
       "  \n",
       "  <text fill=\"#0000EE\" x=\"0\" y=\"0\"  transform=\"matrix(0.59,0,0,0.001,25,49)\">C</text>\n",
       "  <text fill=\"#F9A500\" x=\"0\" y=\"0\"  transform=\"matrix(0.55,0,0,0.001,25,48.95)\">G</text>\n",
       "  <text fill=\"#DD0000\" x=\"0\" y=\"0\"  transform=\"matrix(0.65,0,0,0.001,23.5,48.9)\">U</text>\n",
       "  <text fill=\"#00BB00\" x=\"0\" y=\"0\"  transform=\"matrix(0.53,0,0,0.997,27,48.85)\">A</text>\n",
       "  \n",
       "  <text fill=\"#0000EE\" x=\"0\" y=\"0\"  transform=\"matrix(0.59,0,0,0.001,50,49)\">C</text>\n",
       "  <text fill=\"#DD0000\" x=\"0\" y=\"0\"  transform=\"matrix(0.65,0,0,0.001,48.5,48.95)\">U</text>\n",
       "  <text fill=\"#F9A500\" x=\"0\" y=\"0\"  transform=\"matrix(0.55,0,0,0.026,50,48.9)\">G</text>\n",
       "  <text fill=\"#00BB00\" x=\"0\" y=\"0\"  transform=\"matrix(0.53,0,0,0.972,52,47.6)\">A</text>\n",
       "  \n",
       "  <text fill=\"#00BB00\" x=\"0\" y=\"0\"  transform=\"matrix(0.53,0,0,0.001,77,49)\">A</text>\n",
       "  <text fill=\"#F9A500\" x=\"0\" y=\"0\"  transform=\"matrix(0.55,0,0,0.001,75,48.95)\">G</text>\n",
       "  <text fill=\"#DD0000\" x=\"0\" y=\"0\"  transform=\"matrix(0.65,0,0,0.001,73.5,48.9)\">U</text>\n",
       "  <text fill=\"#0000EE\" x=\"0\" y=\"0\"  transform=\"matrix(0.59,0,0,0.997,75,48.85)\">C</text>\n",
       "  \n",
       "  <text fill=\"#0000EE\" x=\"0\" y=\"0\"  transform=\"matrix(0.59,0,0,0.001,100,49)\">C</text>\n",
       "  <text fill=\"#DD0000\" x=\"0\" y=\"0\"  transform=\"matrix(0.65,0,0,0.001,98.5,48.95)\">U</text>\n",
       "  <text fill=\"#F9A500\" x=\"0\" y=\"0\"  transform=\"matrix(0.55,0,0,0.165,100,48.9)\">G</text>\n",
       "  <text fill=\"#00BB00\" x=\"0\" y=\"0\"  transform=\"matrix(0.53,0,0,0.833,102,40.65)\">A</text>\n",
       "  \n",
       "  <text fill=\"#DD0000\" x=\"0\" y=\"0\"  transform=\"matrix(0.65,0,0,0.001,123.5,49)\">U</text>\n",
       "  <text fill=\"#0000EE\" x=\"0\" y=\"0\"  transform=\"matrix(0.59,0,0,0.002,125,48.95)\">C</text>\n",
       "  <text fill=\"#F9A500\" x=\"0\" y=\"0\"  transform=\"matrix(0.55,0,0,0.195,125,48.85)\">G</text>\n",
       "  <text fill=\"#00BB00\" x=\"0\" y=\"0\"  transform=\"matrix(0.53,0,0,0.802,127,39.1)\">A</text>\n",
       "  \n",
       "  <text fill=\"#00BB00\" x=\"0\" y=\"0\"  transform=\"matrix(0.53,0,0,0.001,152,49)\">A</text>\n",
       "  <text fill=\"#F9A500\" x=\"0\" y=\"0\"  transform=\"matrix(0.55,0,0,0.001,150,48.95)\">G</text>\n",
       "  <text fill=\"#DD0000\" x=\"0\" y=\"0\"  transform=\"matrix(0.65,0,0,0.001,148.5,48.9)\">U</text>\n",
       "  <text fill=\"#0000EE\" x=\"0\" y=\"0\"  transform=\"matrix(0.59,0,0,0.997,150,48.85)\">C</text>\n",
       "  \n",
       " </g>\n",
       "</svg>\n",
       "</TD><TD>1e-14</TD><TD>-3.252e+01</TD><TD>17.71%</TD><TD>12.45%</TD><TD>53.9bp (66.8bp)</TD><TD>hsa-miR-1273g MIMAT0020602 Homo sapiens miR-1273g Targets (miRBase)(0.706)<BR/><A target=\"_blank\" HREF=\"homerResults/motif10.info.html\">More Information</A> | <A target=\"blank\" HREF=\"homerResults/motif10.similar.html\">Similar Motifs Found</A></TD><TD><A target=\"_blank\" HREF=\"homerResults/motif10.motif\">motif file (matrix)</A></TD></TR>\n",
       "<TR><TD>11\n",
       "</TD><TD><svg width=\"180\" height=\"50\">\n",
       " <g font-family=\"Arial\" font-weight=\"bold\" font-size=\"66.5\">\n",
       "  <text fill=\"#F9A500\" x=\"0\" y=\"0\"  transform=\"matrix(0.55,0,0,0.001,0,49)\">G</text>\n",
       "  <text fill=\"#0000EE\" x=\"0\" y=\"0\"  transform=\"matrix(0.59,0,0,0.128,0,48.95)\">C</text>\n",
       "  <text fill=\"#00BB00\" x=\"0\" y=\"0\"  transform=\"matrix(0.53,0,0,0.213,2,42.55)\">A</text>\n",
       "  <text fill=\"#DD0000\" x=\"0\" y=\"0\"  transform=\"matrix(0.65,0,0,0.658,-1.5,31.9)\">U</text>\n",
       "  \n",
       "  <text fill=\"#0000EE\" x=\"0\" y=\"0\"  transform=\"matrix(0.59,0,0,0.120,25,49)\">C</text>\n",
       "  <text fill=\"#00BB00\" x=\"0\" y=\"0\"  transform=\"matrix(0.53,0,0,0.150,27,43)\">A</text>\n",
       "  <text fill=\"#F9A500\" x=\"0\" y=\"0\"  transform=\"matrix(0.55,0,0,0.295,25,35.5)\">G</text>\n",
       "  <text fill=\"#DD0000\" x=\"0\" y=\"0\"  transform=\"matrix(0.65,0,0,0.435,23.5,20.75)\">U</text>\n",
       "  \n",
       "  <text fill=\"#F9A500\" x=\"0\" y=\"0\"  transform=\"matrix(0.55,0,0,0.001,50,49)\">G</text>\n",
       "  <text fill=\"#00BB00\" x=\"0\" y=\"0\"  transform=\"matrix(0.53,0,0,0.030,52,48.95)\">A</text>\n",
       "  <text fill=\"#DD0000\" x=\"0\" y=\"0\"  transform=\"matrix(0.65,0,0,0.100,48.5,47.45)\">U</text>\n",
       "  <text fill=\"#0000EE\" x=\"0\" y=\"0\"  transform=\"matrix(0.59,0,0,0.869,50,42.45)\">C</text>\n",
       "  \n",
       "  <text fill=\"#DD0000\" x=\"0\" y=\"0\"  transform=\"matrix(0.65,0,0,0.036,73.5,49)\">U</text>\n",
       "  <text fill=\"#F9A500\" x=\"0\" y=\"0\"  transform=\"matrix(0.55,0,0,0.090,75,47.2)\">G</text>\n",
       "  <text fill=\"#0000EE\" x=\"0\" y=\"0\"  transform=\"matrix(0.59,0,0,0.208,75,42.7)\">C</text>\n",
       "  <text fill=\"#00BB00\" x=\"0\" y=\"0\"  transform=\"matrix(0.53,0,0,0.666,77,32.3)\">A</text>\n",
       "  \n",
       "  <text fill=\"#0000EE\" x=\"0\" y=\"0\"  transform=\"matrix(0.59,0,0,0.001,100,49)\">C</text>\n",
       "  <text fill=\"#DD0000\" x=\"0\" y=\"0\"  transform=\"matrix(0.65,0,0,0.001,98.5,48.95)\">U</text>\n",
       "  <text fill=\"#00BB00\" x=\"0\" y=\"0\"  transform=\"matrix(0.53,0,0,0.042,102,48.9)\">A</text>\n",
       "  <text fill=\"#F9A500\" x=\"0\" y=\"0\"  transform=\"matrix(0.55,0,0,0.956,100,46.8)\">G</text>\n",
       "  \n",
       "  <text fill=\"#F9A500\" x=\"0\" y=\"0\"  transform=\"matrix(0.55,0,0,0.084,125,49)\">G</text>\n",
       "  <text fill=\"#0000EE\" x=\"0\" y=\"0\"  transform=\"matrix(0.59,0,0,0.088,125,44.8)\">C</text>\n",
       "  <text fill=\"#DD0000\" x=\"0\" y=\"0\"  transform=\"matrix(0.65,0,0,0.127,123.5,40.4)\">U</text>\n",
       "  <text fill=\"#00BB00\" x=\"0\" y=\"0\"  transform=\"matrix(0.53,0,0,0.701,127,34.05)\">A</text>\n",
       "  \n",
       "  <text fill=\"#F9A500\" x=\"0\" y=\"0\"  transform=\"matrix(0.55,0,0,0.021,150,49)\">G</text>\n",
       "  <text fill=\"#0000EE\" x=\"0\" y=\"0\"  transform=\"matrix(0.59,0,0,0.095,150,47.95)\">C</text>\n",
       "  <text fill=\"#00BB00\" x=\"0\" y=\"0\"  transform=\"matrix(0.53,0,0,0.147,152,43.2)\">A</text>\n",
       "  <text fill=\"#DD0000\" x=\"0\" y=\"0\"  transform=\"matrix(0.65,0,0,0.737,148.5,35.85)\">U</text>\n",
       "  \n",
       " </g>\n",
       "</svg>\n",
       "</TD><TD>1e-13</TD><TD>-3.038e+01</TD><TD>45.63%</TD><TD>38.47%</TD><TD>55.1bp (65.0bp)</TD><TD>hsa-miR-452* MIMAT0001636 Homo sapiens miR-452* Targets (miRBase)(0.705)<BR/><A target=\"_blank\" HREF=\"homerResults/motif11.info.html\">More Information</A> | <A target=\"blank\" HREF=\"homerResults/motif11.similar.html\">Similar Motifs Found</A></TD><TD><A target=\"_blank\" HREF=\"homerResults/motif11.motif\">motif file (matrix)</A></TD></TR>\n",
       "<TR><TD>12\n",
       "</TD><TD><svg width=\"130\" height=\"50\">\n",
       " <g font-family=\"Arial\" font-weight=\"bold\" font-size=\"66.5\">\n",
       "  <text fill=\"#0000EE\" x=\"0\" y=\"0\"  transform=\"matrix(0.59,0,0,0.001,0,49)\">C</text>\n",
       "  <text fill=\"#F9A500\" x=\"0\" y=\"0\"  transform=\"matrix(0.55,0,0,0.001,0,48.95)\">G</text>\n",
       "  <text fill=\"#00BB00\" x=\"0\" y=\"0\"  transform=\"matrix(0.53,0,0,0.068,2,48.9)\">A</text>\n",
       "  <text fill=\"#DD0000\" x=\"0\" y=\"0\"  transform=\"matrix(0.65,0,0,0.930,-1.5,45.5)\">U</text>\n",
       "  \n",
       "  <text fill=\"#00BB00\" x=\"0\" y=\"0\"  transform=\"matrix(0.53,0,0,0.001,27,49)\">A</text>\n",
       "  <text fill=\"#DD0000\" x=\"0\" y=\"0\"  transform=\"matrix(0.65,0,0,0.001,23.5,48.95)\">U</text>\n",
       "  <text fill=\"#0000EE\" x=\"0\" y=\"0\"  transform=\"matrix(0.59,0,0,0.010,25,48.9)\">C</text>\n",
       "  <text fill=\"#F9A500\" x=\"0\" y=\"0\"  transform=\"matrix(0.55,0,0,0.988,25,48.4)\">G</text>\n",
       "  \n",
       "  <text fill=\"#00BB00\" x=\"0\" y=\"0\"  transform=\"matrix(0.53,0,0,0.002,52,49)\">A</text>\n",
       "  <text fill=\"#0000EE\" x=\"0\" y=\"0\"  transform=\"matrix(0.59,0,0,0.009,50,48.9)\">C</text>\n",
       "  <text fill=\"#DD0000\" x=\"0\" y=\"0\"  transform=\"matrix(0.65,0,0,0.059,48.5,48.45)\">U</text>\n",
       "  <text fill=\"#F9A500\" x=\"0\" y=\"0\"  transform=\"matrix(0.55,0,0,0.930,50,45.5)\">G</text>\n",
       "  \n",
       "  <text fill=\"#0000EE\" x=\"0\" y=\"0\"  transform=\"matrix(0.59,0,0,0.001,75,49)\">C</text>\n",
       "  <text fill=\"#F9A500\" x=\"0\" y=\"0\"  transform=\"matrix(0.55,0,0,0.001,75,48.95)\">G</text>\n",
       "  <text fill=\"#DD0000\" x=\"0\" y=\"0\"  transform=\"matrix(0.65,0,0,0.001,73.5,48.9)\">U</text>\n",
       "  <text fill=\"#00BB00\" x=\"0\" y=\"0\"  transform=\"matrix(0.53,0,0,0.997,77,48.85)\">A</text>\n",
       "  \n",
       "  <text fill=\"#F9A500\" x=\"0\" y=\"0\"  transform=\"matrix(0.55,0,0,0.001,100,49)\">G</text>\n",
       "  <text fill=\"#DD0000\" x=\"0\" y=\"0\"  transform=\"matrix(0.65,0,0,0.032,98.5,48.95)\">U</text>\n",
       "  <text fill=\"#0000EE\" x=\"0\" y=\"0\"  transform=\"matrix(0.59,0,0,0.436,100,47.35)\">C</text>\n",
       "  <text fill=\"#00BB00\" x=\"0\" y=\"0\"  transform=\"matrix(0.53,0,0,0.531,102,25.55)\">A</text>\n",
       "  \n",
       " </g>\n",
       "</svg>\n",
       "</TD><TD>1e-12</TD><TD>-2.828e+01</TD><TD>46.13%</TD><TD>39.23%</TD><TD>55.3bp (66.9bp)</TD><TD>hsa-miR-587 MIMAT0003253 Homo sapiens miR-587 Targets (miRBase)(0.693)<BR/><A target=\"_blank\" HREF=\"homerResults/motif12.info.html\">More Information</A> | <A target=\"blank\" HREF=\"homerResults/motif12.similar.html\">Similar Motifs Found</A></TD><TD><A target=\"_blank\" HREF=\"homerResults/motif12.motif\">motif file (matrix)</A></TD></TR>\n",
       "<TR><TD>13\n",
       "</TD><TD><svg width=\"230\" height=\"50\">\n",
       " <g font-family=\"Arial\" font-weight=\"bold\" font-size=\"66.5\">\n",
       "  <text fill=\"#DD0000\" x=\"0\" y=\"0\"  transform=\"matrix(0.65,0,0,0.037,-1.5,49)\">U</text>\n",
       "  <text fill=\"#0000EE\" x=\"0\" y=\"0\"  transform=\"matrix(0.59,0,0,0.094,0,47.15)\">C</text>\n",
       "  <text fill=\"#F9A500\" x=\"0\" y=\"0\"  transform=\"matrix(0.55,0,0,0.112,0,42.45)\">G</text>\n",
       "  <text fill=\"#00BB00\" x=\"0\" y=\"0\"  transform=\"matrix(0.53,0,0,0.757,2,36.85)\">A</text>\n",
       "  \n",
       "  <text fill=\"#0000EE\" x=\"0\" y=\"0\"  transform=\"matrix(0.59,0,0,0.035,25,49)\">C</text>\n",
       "  <text fill=\"#00BB00\" x=\"0\" y=\"0\"  transform=\"matrix(0.53,0,0,0.087,27,47.25)\">A</text>\n",
       "  <text fill=\"#F9A500\" x=\"0\" y=\"0\"  transform=\"matrix(0.55,0,0,0.108,25,42.9)\">G</text>\n",
       "  <text fill=\"#DD0000\" x=\"0\" y=\"0\"  transform=\"matrix(0.65,0,0,0.770,23.5,37.5)\">U</text>\n",
       "  \n",
       "  <text fill=\"#00BB00\" x=\"0\" y=\"0\"  transform=\"matrix(0.53,0,0,0.048,52,49)\">A</text>\n",
       "  <text fill=\"#DD0000\" x=\"0\" y=\"0\"  transform=\"matrix(0.65,0,0,0.073,48.5,46.6)\">U</text>\n",
       "  <text fill=\"#0000EE\" x=\"0\" y=\"0\"  transform=\"matrix(0.59,0,0,0.087,50,42.95)\">C</text>\n",
       "  <text fill=\"#F9A500\" x=\"0\" y=\"0\"  transform=\"matrix(0.55,0,0,0.792,50,38.6)\">G</text>\n",
       "  \n",
       "  <text fill=\"#00BB00\" x=\"0\" y=\"0\"  transform=\"matrix(0.53,0,0,0.033,77,49)\">A</text>\n",
       "  <text fill=\"#0000EE\" x=\"0\" y=\"0\"  transform=\"matrix(0.59,0,0,0.044,75,47.35)\">C</text>\n",
       "  <text fill=\"#DD0000\" x=\"0\" y=\"0\"  transform=\"matrix(0.65,0,0,0.086,73.5,45.15)\">U</text>\n",
       "  <text fill=\"#F9A500\" x=\"0\" y=\"0\"  transform=\"matrix(0.55,0,0,0.837,75,40.85)\">G</text>\n",
       "  \n",
       "  <text fill=\"#DD0000\" x=\"0\" y=\"0\"  transform=\"matrix(0.65,0,0,0.030,98.5,49)\">U</text>\n",
       "  <text fill=\"#00BB00\" x=\"0\" y=\"0\"  transform=\"matrix(0.53,0,0,0.066,102,47.5)\">A</text>\n",
       "  <text fill=\"#F9A500\" x=\"0\" y=\"0\"  transform=\"matrix(0.55,0,0,0.128,100,44.2)\">G</text>\n",
       "  <text fill=\"#0000EE\" x=\"0\" y=\"0\"  transform=\"matrix(0.59,0,0,0.776,100,37.8)\">C</text>\n",
       "  \n",
       "  <text fill=\"#00BB00\" x=\"0\" y=\"0\"  transform=\"matrix(0.53,0,0,0.029,127,49)\">A</text>\n",
       "  <text fill=\"#DD0000\" x=\"0\" y=\"0\"  transform=\"matrix(0.65,0,0,0.050,123.5,47.55)\">U</text>\n",
       "  <text fill=\"#F9A500\" x=\"0\" y=\"0\"  transform=\"matrix(0.55,0,0,0.140,125,45.05)\">G</text>\n",
       "  <text fill=\"#0000EE\" x=\"0\" y=\"0\"  transform=\"matrix(0.59,0,0,0.781,125,38.05)\">C</text>\n",
       "  \n",
       "  <text fill=\"#DD0000\" x=\"0\" y=\"0\"  transform=\"matrix(0.65,0,0,0.043,148.5,49)\">U</text>\n",
       "  <text fill=\"#0000EE\" x=\"0\" y=\"0\"  transform=\"matrix(0.59,0,0,0.077,150,46.85)\">C</text>\n",
       "  <text fill=\"#00BB00\" x=\"0\" y=\"0\"  transform=\"matrix(0.53,0,0,0.109,152,43)\">A</text>\n",
       "  <text fill=\"#F9A500\" x=\"0\" y=\"0\"  transform=\"matrix(0.55,0,0,0.771,150,37.55)\">G</text>\n",
       "  \n",
       "  <text fill=\"#DD0000\" x=\"0\" y=\"0\"  transform=\"matrix(0.65,0,0,0.066,173.5,49)\">U</text>\n",
       "  <text fill=\"#F9A500\" x=\"0\" y=\"0\"  transform=\"matrix(0.55,0,0,0.100,175,45.7)\">G</text>\n",
       "  <text fill=\"#00BB00\" x=\"0\" y=\"0\"  transform=\"matrix(0.53,0,0,0.110,177,40.7)\">A</text>\n",
       "  <text fill=\"#0000EE\" x=\"0\" y=\"0\"  transform=\"matrix(0.59,0,0,0.724,175,35.2)\">C</text>\n",
       "  \n",
       "  <text fill=\"#F9A500\" x=\"0\" y=\"0\"  transform=\"matrix(0.55,0,0,0.041,200,49)\">G</text>\n",
       "  <text fill=\"#00BB00\" x=\"0\" y=\"0\"  transform=\"matrix(0.53,0,0,0.064,202,46.95)\">A</text>\n",
       "  <text fill=\"#DD0000\" x=\"0\" y=\"0\"  transform=\"matrix(0.65,0,0,0.097,198.5,43.75)\">U</text>\n",
       "  <text fill=\"#0000EE\" x=\"0\" y=\"0\"  transform=\"matrix(0.59,0,0,0.798,200,38.9)\">C</text>\n",
       "  \n",
       " </g>\n",
       "</svg>\n",
       "</TD><TD>1e-12</TD><TD>-2.821e+01</TD><TD>7.97%</TD><TD>4.72%</TD><TD>55.0bp (61.3bp)</TD><TD>hsa-miR-4467 MIMAT0018994 Homo sapiens miR-4467 Targets (miRBase)(0.642)<BR/><A target=\"_blank\" HREF=\"homerResults/motif13.info.html\">More Information</A> | <A target=\"blank\" HREF=\"homerResults/motif13.similar.html\">Similar Motifs Found</A></TD><TD><A target=\"_blank\" HREF=\"homerResults/motif13.motif\">motif file (matrix)</A></TD></TR>\n",
       "<TR><TD>14\n",
       "<FONT color=\"red\">*</FONT></TD><TD><svg width=\"205\" height=\"50\">\n",
       " <g font-family=\"Arial\" font-weight=\"bold\" font-size=\"66.5\">\n",
       "  <text fill=\"#DD0000\" x=\"0\" y=\"0\"  transform=\"matrix(0.65,0,0,0.001,-1.5,49)\">U</text>\n",
       "  <text fill=\"#00BB00\" x=\"0\" y=\"0\"  transform=\"matrix(0.53,0,0,0.046,2,48.95)\">A</text>\n",
       "  <text fill=\"#F9A500\" x=\"0\" y=\"0\"  transform=\"matrix(0.55,0,0,0.061,0,46.65)\">G</text>\n",
       "  <text fill=\"#0000EE\" x=\"0\" y=\"0\"  transform=\"matrix(0.59,0,0,0.892,0,43.6)\">C</text>\n",
       "  \n",
       "  <text fill=\"#F9A500\" x=\"0\" y=\"0\"  transform=\"matrix(0.55,0,0,0.001,25,49)\">G</text>\n",
       "  <text fill=\"#DD0000\" x=\"0\" y=\"0\"  transform=\"matrix(0.65,0,0,0.085,23.5,48.95)\">U</text>\n",
       "  <text fill=\"#00BB00\" x=\"0\" y=\"0\"  transform=\"matrix(0.53,0,0,0.259,27,44.7)\">A</text>\n",
       "  <text fill=\"#0000EE\" x=\"0\" y=\"0\"  transform=\"matrix(0.59,0,0,0.655,25,31.75)\">C</text>\n",
       "  \n",
       "  <text fill=\"#00BB00\" x=\"0\" y=\"0\"  transform=\"matrix(0.53,0,0,0.001,52,49)\">A</text>\n",
       "  <text fill=\"#DD0000\" x=\"0\" y=\"0\"  transform=\"matrix(0.65,0,0,0.001,48.5,48.95)\">U</text>\n",
       "  <text fill=\"#F9A500\" x=\"0\" y=\"0\"  transform=\"matrix(0.55,0,0,0.141,50,48.9)\">G</text>\n",
       "  <text fill=\"#0000EE\" x=\"0\" y=\"0\"  transform=\"matrix(0.59,0,0,0.857,50,41.85)\">C</text>\n",
       "  \n",
       "  <text fill=\"#F9A500\" x=\"0\" y=\"0\"  transform=\"matrix(0.55,0,0,0.001,75,49)\">G</text>\n",
       "  <text fill=\"#0000EE\" x=\"0\" y=\"0\"  transform=\"matrix(0.59,0,0,0.032,75,48.95)\">C</text>\n",
       "  <text fill=\"#DD0000\" x=\"0\" y=\"0\"  transform=\"matrix(0.65,0,0,0.065,73.5,47.35)\">U</text>\n",
       "  <text fill=\"#00BB00\" x=\"0\" y=\"0\"  transform=\"matrix(0.53,0,0,0.902,77,44.1)\">A</text>\n",
       "  \n",
       "  <text fill=\"#00BB00\" x=\"0\" y=\"0\"  transform=\"matrix(0.53,0,0,0.001,102,49)\">A</text>\n",
       "  <text fill=\"#DD0000\" x=\"0\" y=\"0\"  transform=\"matrix(0.65,0,0,0.020,98.5,48.95)\">U</text>\n",
       "  <text fill=\"#0000EE\" x=\"0\" y=\"0\"  transform=\"matrix(0.59,0,0,0.065,100,47.95)\">C</text>\n",
       "  <text fill=\"#F9A500\" x=\"0\" y=\"0\"  transform=\"matrix(0.55,0,0,0.914,100,44.7)\">G</text>\n",
       "  \n",
       "  <text fill=\"#00BB00\" x=\"0\" y=\"0\"  transform=\"matrix(0.53,0,0,0.001,127,49)\">A</text>\n",
       "  <text fill=\"#F9A500\" x=\"0\" y=\"0\"  transform=\"matrix(0.55,0,0,0.001,125,48.95)\">G</text>\n",
       "  <text fill=\"#0000EE\" x=\"0\" y=\"0\"  transform=\"matrix(0.59,0,0,0.088,125,48.9)\">C</text>\n",
       "  <text fill=\"#DD0000\" x=\"0\" y=\"0\"  transform=\"matrix(0.65,0,0,0.910,123.5,44.5)\">U</text>\n",
       "  \n",
       "  <text fill=\"#00BB00\" x=\"0\" y=\"0\"  transform=\"matrix(0.53,0,0,0.001,152,49)\">A</text>\n",
       "  <text fill=\"#DD0000\" x=\"0\" y=\"0\"  transform=\"matrix(0.65,0,0,0.001,148.5,48.95)\">U</text>\n",
       "  <text fill=\"#0000EE\" x=\"0\" y=\"0\"  transform=\"matrix(0.59,0,0,0.005,150,48.9)\">C</text>\n",
       "  <text fill=\"#F9A500\" x=\"0\" y=\"0\"  transform=\"matrix(0.55,0,0,0.993,150,48.65)\">G</text>\n",
       "  \n",
       "  <text fill=\"#00BB00\" x=\"0\" y=\"0\"  transform=\"matrix(0.53,0,0,0.001,177,49)\">A</text>\n",
       "  <text fill=\"#DD0000\" x=\"0\" y=\"0\"  transform=\"matrix(0.65,0,0,0.001,173.5,48.95)\">U</text>\n",
       "  <text fill=\"#0000EE\" x=\"0\" y=\"0\"  transform=\"matrix(0.59,0,0,0.089,175,48.9)\">C</text>\n",
       "  <text fill=\"#F9A500\" x=\"0\" y=\"0\"  transform=\"matrix(0.55,0,0,0.909,175,44.45)\">G</text>\n",
       "  \n",
       " </g>\n",
       "</svg>\n",
       "</TD><TD>1e-11</TD><TD>-2.691e+01</TD><TD>6.82%</TD><TD>3.90%</TD><TD>57.7bp (61.4bp)</TD><TD>hsa-miR-4252 MIMAT0016886 Homo sapiens miR-4252 Targets (miRBase)(0.771)<BR/><A target=\"_blank\" HREF=\"homerResults/motif14.info.html\">More Information</A> | <A target=\"blank\" HREF=\"homerResults/motif14.similar.html\">Similar Motifs Found</A></TD><TD><A target=\"_blank\" HREF=\"homerResults/motif14.motif\">motif file (matrix)</A></TD></TR>\n",
       "<TR><TD>15\n",
       "<FONT color=\"red\">*</FONT></TD><TD><svg width=\"205\" height=\"50\">\n",
       " <g font-family=\"Arial\" font-weight=\"bold\" font-size=\"66.5\">\n",
       "  <text fill=\"#F9A500\" x=\"0\" y=\"0\"  transform=\"matrix(0.55,0,0,0.001,0,49)\">G</text>\n",
       "  <text fill=\"#0000EE\" x=\"0\" y=\"0\"  transform=\"matrix(0.59,0,0,0.072,0,48.95)\">C</text>\n",
       "  <text fill=\"#DD0000\" x=\"0\" y=\"0\"  transform=\"matrix(0.65,0,0,0.392,-1.5,45.35)\">U</text>\n",
       "  <text fill=\"#00BB00\" x=\"0\" y=\"0\"  transform=\"matrix(0.53,0,0,0.535,2,25.75)\">A</text>\n",
       "  \n",
       "  <text fill=\"#00BB00\" x=\"0\" y=\"0\"  transform=\"matrix(0.53,0,0,0.001,27,49)\">A</text>\n",
       "  <text fill=\"#DD0000\" x=\"0\" y=\"0\"  transform=\"matrix(0.65,0,0,0.001,23.5,48.95)\">U</text>\n",
       "  <text fill=\"#F9A500\" x=\"0\" y=\"0\"  transform=\"matrix(0.55,0,0,0.302,25,48.9)\">G</text>\n",
       "  <text fill=\"#0000EE\" x=\"0\" y=\"0\"  transform=\"matrix(0.59,0,0,0.696,25,33.8)\">C</text>\n",
       "  \n",
       "  <text fill=\"#F9A500\" x=\"0\" y=\"0\"  transform=\"matrix(0.55,0,0,0.001,50,49)\">G</text>\n",
       "  <text fill=\"#DD0000\" x=\"0\" y=\"0\"  transform=\"matrix(0.65,0,0,0.001,48.5,48.95)\">U</text>\n",
       "  <text fill=\"#0000EE\" x=\"0\" y=\"0\"  transform=\"matrix(0.59,0,0,0.230,50,48.9)\">C</text>\n",
       "  <text fill=\"#00BB00\" x=\"0\" y=\"0\"  transform=\"matrix(0.53,0,0,0.768,52,37.4)\">A</text>\n",
       "  \n",
       "  <text fill=\"#0000EE\" x=\"0\" y=\"0\"  transform=\"matrix(0.59,0,0,0.001,75,49)\">C</text>\n",
       "  <text fill=\"#F9A500\" x=\"0\" y=\"0\"  transform=\"matrix(0.55,0,0,0.001,75,48.95)\">G</text>\n",
       "  <text fill=\"#DD0000\" x=\"0\" y=\"0\"  transform=\"matrix(0.65,0,0,0.436,73.5,48.9)\">U</text>\n",
       "  <text fill=\"#00BB00\" x=\"0\" y=\"0\"  transform=\"matrix(0.53,0,0,0.562,77,27.1)\">A</text>\n",
       "  \n",
       "  <text fill=\"#00BB00\" x=\"0\" y=\"0\"  transform=\"matrix(0.53,0,0,0.001,102,49)\">A</text>\n",
       "  <text fill=\"#F9A500\" x=\"0\" y=\"0\"  transform=\"matrix(0.55,0,0,0.163,100,48.95)\">G</text>\n",
       "  <text fill=\"#DD0000\" x=\"0\" y=\"0\"  transform=\"matrix(0.65,0,0,0.294,98.5,40.8)\">U</text>\n",
       "  <text fill=\"#0000EE\" x=\"0\" y=\"0\"  transform=\"matrix(0.59,0,0,0.542,100,26.1)\">C</text>\n",
       "  \n",
       "  <text fill=\"#00BB00\" x=\"0\" y=\"0\"  transform=\"matrix(0.53,0,0,0.001,127,49)\">A</text>\n",
       "  <text fill=\"#DD0000\" x=\"0\" y=\"0\"  transform=\"matrix(0.65,0,0,0.001,123.5,48.95)\">U</text>\n",
       "  <text fill=\"#F9A500\" x=\"0\" y=\"0\"  transform=\"matrix(0.55,0,0,0.365,125,48.9)\">G</text>\n",
       "  <text fill=\"#0000EE\" x=\"0\" y=\"0\"  transform=\"matrix(0.59,0,0,0.633,125,30.65)\">C</text>\n",
       "  \n",
       "  <text fill=\"#DD0000\" x=\"0\" y=\"0\"  transform=\"matrix(0.65,0,0,0.074,148.5,49)\">U</text>\n",
       "  <text fill=\"#00BB00\" x=\"0\" y=\"0\"  transform=\"matrix(0.53,0,0,0.087,152,45.3)\">A</text>\n",
       "  <text fill=\"#0000EE\" x=\"0\" y=\"0\"  transform=\"matrix(0.59,0,0,0.251,150,40.95)\">C</text>\n",
       "  <text fill=\"#F9A500\" x=\"0\" y=\"0\"  transform=\"matrix(0.55,0,0,0.588,150,28.4)\">G</text>\n",
       "  \n",
       "  <text fill=\"#DD0000\" x=\"0\" y=\"0\"  transform=\"matrix(0.65,0,0,0.001,173.5,49)\">U</text>\n",
       "  <text fill=\"#00BB00\" x=\"0\" y=\"0\"  transform=\"matrix(0.53,0,0,0.007,177,48.95)\">A</text>\n",
       "  <text fill=\"#0000EE\" x=\"0\" y=\"0\"  transform=\"matrix(0.59,0,0,0.380,175,48.6)\">C</text>\n",
       "  <text fill=\"#F9A500\" x=\"0\" y=\"0\"  transform=\"matrix(0.55,0,0,0.612,175,29.6)\">G</text>\n",
       "  \n",
       " </g>\n",
       "</svg>\n",
       "</TD><TD>1e-11</TD><TD>-2.537e+01</TD><TD>9.16%</TD><TD>5.83%</TD><TD>52.7bp (64.0bp)</TD><TD>hsa-miR-671-3p MIMAT0004819 Homo sapiens miR-671-3p Targets (miRBase)(0.628)<BR/><A target=\"_blank\" HREF=\"homerResults/motif15.info.html\">More Information</A> | <A target=\"blank\" HREF=\"homerResults/motif15.similar.html\">Similar Motifs Found</A></TD><TD><A target=\"_blank\" HREF=\"homerResults/motif15.motif\">motif file (matrix)</A></TD></TR>\n",
       "<TR><TD>16\n",
       "<FONT color=\"red\">*</FONT></TD><TD><svg width=\"205\" height=\"50\">\n",
       " <g font-family=\"Arial\" font-weight=\"bold\" font-size=\"66.5\">\n",
       "  <text fill=\"#F9A500\" x=\"0\" y=\"0\"  transform=\"matrix(0.55,0,0,0.059,0,49)\">G</text>\n",
       "  <text fill=\"#00BB00\" x=\"0\" y=\"0\"  transform=\"matrix(0.53,0,0,0.082,2,46.05)\">A</text>\n",
       "  <text fill=\"#DD0000\" x=\"0\" y=\"0\"  transform=\"matrix(0.65,0,0,0.133,-1.5,41.95)\">U</text>\n",
       "  <text fill=\"#0000EE\" x=\"0\" y=\"0\"  transform=\"matrix(0.59,0,0,0.726,0,35.3)\">C</text>\n",
       "  \n",
       "  <text fill=\"#0000EE\" x=\"0\" y=\"0\"  transform=\"matrix(0.59,0,0,0.078,25,49)\">C</text>\n",
       "  <text fill=\"#00BB00\" x=\"0\" y=\"0\"  transform=\"matrix(0.53,0,0,0.121,27,45.1)\">A</text>\n",
       "  <text fill=\"#DD0000\" x=\"0\" y=\"0\"  transform=\"matrix(0.65,0,0,0.122,23.5,39.05)\">U</text>\n",
       "  <text fill=\"#F9A500\" x=\"0\" y=\"0\"  transform=\"matrix(0.55,0,0,0.679,25,32.95)\">G</text>\n",
       "  \n",
       "  <text fill=\"#0000EE\" x=\"0\" y=\"0\"  transform=\"matrix(0.59,0,0,0.051,50,49)\">C</text>\n",
       "  <text fill=\"#F9A500\" x=\"0\" y=\"0\"  transform=\"matrix(0.55,0,0,0.064,50,46.45)\">G</text>\n",
       "  <text fill=\"#00BB00\" x=\"0\" y=\"0\"  transform=\"matrix(0.53,0,0,0.143,52,43.25)\">A</text>\n",
       "  <text fill=\"#DD0000\" x=\"0\" y=\"0\"  transform=\"matrix(0.65,0,0,0.742,48.5,36.1)\">U</text>\n",
       "  \n",
       "  <text fill=\"#F9A500\" x=\"0\" y=\"0\"  transform=\"matrix(0.55,0,0,0.046,75,49)\">G</text>\n",
       "  <text fill=\"#00BB00\" x=\"0\" y=\"0\"  transform=\"matrix(0.53,0,0,0.056,77,46.7)\">A</text>\n",
       "  <text fill=\"#DD0000\" x=\"0\" y=\"0\"  transform=\"matrix(0.65,0,0,0.070,73.5,43.9)\">U</text>\n",
       "  <text fill=\"#0000EE\" x=\"0\" y=\"0\"  transform=\"matrix(0.59,0,0,0.828,75,40.4)\">C</text>\n",
       "  \n",
       "  <text fill=\"#DD0000\" x=\"0\" y=\"0\"  transform=\"matrix(0.65,0,0,0.040,98.5,49)\">U</text>\n",
       "  <text fill=\"#0000EE\" x=\"0\" y=\"0\"  transform=\"matrix(0.59,0,0,0.057,100,47)\">C</text>\n",
       "  <text fill=\"#F9A500\" x=\"0\" y=\"0\"  transform=\"matrix(0.55,0,0,0.061,100,44.15)\">G</text>\n",
       "  <text fill=\"#00BB00\" x=\"0\" y=\"0\"  transform=\"matrix(0.53,0,0,0.842,102,41.1)\">A</text>\n",
       "  \n",
       "  <text fill=\"#F9A500\" x=\"0\" y=\"0\"  transform=\"matrix(0.55,0,0,0.066,125,49)\">G</text>\n",
       "  <text fill=\"#0000EE\" x=\"0\" y=\"0\"  transform=\"matrix(0.59,0,0,0.075,125,45.7)\">C</text>\n",
       "  <text fill=\"#DD0000\" x=\"0\" y=\"0\"  transform=\"matrix(0.65,0,0,0.147,123.5,41.95)\">U</text>\n",
       "  <text fill=\"#00BB00\" x=\"0\" y=\"0\"  transform=\"matrix(0.53,0,0,0.712,127,34.6)\">A</text>\n",
       "  \n",
       "  <text fill=\"#F9A500\" x=\"0\" y=\"0\"  transform=\"matrix(0.55,0,0,0.066,150,49)\">G</text>\n",
       "  <text fill=\"#00BB00\" x=\"0\" y=\"0\"  transform=\"matrix(0.53,0,0,0.092,152,45.7)\">A</text>\n",
       "  <text fill=\"#DD0000\" x=\"0\" y=\"0\"  transform=\"matrix(0.65,0,0,0.098,148.5,41.1)\">U</text>\n",
       "  <text fill=\"#0000EE\" x=\"0\" y=\"0\"  transform=\"matrix(0.59,0,0,0.744,150,36.2)\">C</text>\n",
       "  \n",
       "  <text fill=\"#0000EE\" x=\"0\" y=\"0\"  transform=\"matrix(0.59,0,0,0.049,175,49)\">C</text>\n",
       "  <text fill=\"#DD0000\" x=\"0\" y=\"0\"  transform=\"matrix(0.65,0,0,0.066,173.5,46.55)\">U</text>\n",
       "  <text fill=\"#00BB00\" x=\"0\" y=\"0\"  transform=\"matrix(0.53,0,0,0.149,177,43.25)\">A</text>\n",
       "  <text fill=\"#F9A500\" x=\"0\" y=\"0\"  transform=\"matrix(0.55,0,0,0.736,175,35.8)\">G</text>\n",
       "  \n",
       " </g>\n",
       "</svg>\n",
       "</TD><TD>1e-10</TD><TD>-2.464e+01</TD><TD>18.14%</TD><TD>13.50%</TD><TD>51.8bp (67.8bp)</TD><TD>hsa-miR-1306 MIMAT0005950 Homo sapiens miR-1306 Targets (miRBase)(0.655)<BR/><A target=\"_blank\" HREF=\"homerResults/motif16.info.html\">More Information</A> | <A target=\"blank\" HREF=\"homerResults/motif16.similar.html\">Similar Motifs Found</A></TD><TD><A target=\"_blank\" HREF=\"homerResults/motif16.motif\">motif file (matrix)</A></TD></TR>\n",
       "<TR><TD>17\n",
       "<FONT color=\"red\">*</FONT></TD><TD><svg width=\"205\" height=\"50\">\n",
       " <g font-family=\"Arial\" font-weight=\"bold\" font-size=\"66.5\">\n",
       "  <text fill=\"#00BB00\" x=\"0\" y=\"0\"  transform=\"matrix(0.53,0,0,0.016,2,49)\">A</text>\n",
       "  <text fill=\"#0000EE\" x=\"0\" y=\"0\"  transform=\"matrix(0.59,0,0,0.099,0,48.2)\">C</text>\n",
       "  <text fill=\"#F9A500\" x=\"0\" y=\"0\"  transform=\"matrix(0.55,0,0,0.107,0,43.25)\">G</text>\n",
       "  <text fill=\"#DD0000\" x=\"0\" y=\"0\"  transform=\"matrix(0.65,0,0,0.778,-1.5,37.9)\">U</text>\n",
       "  \n",
       "  <text fill=\"#DD0000\" x=\"0\" y=\"0\"  transform=\"matrix(0.65,0,0,0.096,23.5,49)\">U</text>\n",
       "  <text fill=\"#F9A500\" x=\"0\" y=\"0\"  transform=\"matrix(0.55,0,0,0.103,25,44.2)\">G</text>\n",
       "  <text fill=\"#0000EE\" x=\"0\" y=\"0\"  transform=\"matrix(0.59,0,0,0.219,25,39.05)\">C</text>\n",
       "  <text fill=\"#00BB00\" x=\"0\" y=\"0\"  transform=\"matrix(0.53,0,0,0.582,27,28.1)\">A</text>\n",
       "  \n",
       "  <text fill=\"#00BB00\" x=\"0\" y=\"0\"  transform=\"matrix(0.53,0,0,0.047,52,49)\">A</text>\n",
       "  <text fill=\"#0000EE\" x=\"0\" y=\"0\"  transform=\"matrix(0.59,0,0,0.048,50,46.65)\">C</text>\n",
       "  <text fill=\"#F9A500\" x=\"0\" y=\"0\"  transform=\"matrix(0.55,0,0,0.053,50,44.25)\">G</text>\n",
       "  <text fill=\"#DD0000\" x=\"0\" y=\"0\"  transform=\"matrix(0.65,0,0,0.852,48.5,41.6)\">U</text>\n",
       "  \n",
       "  <text fill=\"#00BB00\" x=\"0\" y=\"0\"  transform=\"matrix(0.53,0,0,0.038,77,49)\">A</text>\n",
       "  <text fill=\"#DD0000\" x=\"0\" y=\"0\"  transform=\"matrix(0.65,0,0,0.111,73.5,47.1)\">U</text>\n",
       "  <text fill=\"#F9A500\" x=\"0\" y=\"0\"  transform=\"matrix(0.55,0,0,0.114,75,41.55)\">G</text>\n",
       "  <text fill=\"#0000EE\" x=\"0\" y=\"0\"  transform=\"matrix(0.59,0,0,0.737,75,35.85)\">C</text>\n",
       "  \n",
       "  <text fill=\"#0000EE\" x=\"0\" y=\"0\"  transform=\"matrix(0.59,0,0,0.009,100,49)\">C</text>\n",
       "  <text fill=\"#F9A500\" x=\"0\" y=\"0\"  transform=\"matrix(0.55,0,0,0.043,100,48.55)\">G</text>\n",
       "  <text fill=\"#00BB00\" x=\"0\" y=\"0\"  transform=\"matrix(0.53,0,0,0.129,102,46.4)\">A</text>\n",
       "  <text fill=\"#DD0000\" x=\"0\" y=\"0\"  transform=\"matrix(0.65,0,0,0.819,98.5,39.95)\">U</text>\n",
       "  \n",
       "  <text fill=\"#00BB00\" x=\"0\" y=\"0\"  transform=\"matrix(0.53,0,0,0.047,127,49)\">A</text>\n",
       "  <text fill=\"#0000EE\" x=\"0\" y=\"0\"  transform=\"matrix(0.59,0,0,0.079,125,46.65)\">C</text>\n",
       "  <text fill=\"#F9A500\" x=\"0\" y=\"0\"  transform=\"matrix(0.55,0,0,0.111,125,42.7)\">G</text>\n",
       "  <text fill=\"#DD0000\" x=\"0\" y=\"0\"  transform=\"matrix(0.65,0,0,0.763,123.5,37.15)\">U</text>\n",
       "  \n",
       "  <text fill=\"#DD0000\" x=\"0\" y=\"0\"  transform=\"matrix(0.65,0,0,0.034,148.5,49)\">U</text>\n",
       "  <text fill=\"#F9A500\" x=\"0\" y=\"0\"  transform=\"matrix(0.55,0,0,0.037,150,47.3)\">G</text>\n",
       "  <text fill=\"#00BB00\" x=\"0\" y=\"0\"  transform=\"matrix(0.53,0,0,0.118,152,45.45)\">A</text>\n",
       "  <text fill=\"#0000EE\" x=\"0\" y=\"0\"  transform=\"matrix(0.59,0,0,0.811,150,39.55)\">C</text>\n",
       "  \n",
       "  <text fill=\"#0000EE\" x=\"0\" y=\"0\"  transform=\"matrix(0.59,0,0,0.107,175,49)\">C</text>\n",
       "  <text fill=\"#DD0000\" x=\"0\" y=\"0\"  transform=\"matrix(0.65,0,0,0.110,173.5,43.65)\">U</text>\n",
       "  <text fill=\"#F9A500\" x=\"0\" y=\"0\"  transform=\"matrix(0.55,0,0,0.115,175,38.15)\">G</text>\n",
       "  <text fill=\"#00BB00\" x=\"0\" y=\"0\"  transform=\"matrix(0.53,0,0,0.668,177,32.4)\">A</text>\n",
       "  \n",
       " </g>\n",
       "</svg>\n",
       "</TD><TD>1e-10</TD><TD>-2.463e+01</TD><TD>38.93%</TD><TD>32.74%</TD><TD>59.1bp (59.0bp)</TD><TD>hsa-miR-3682-3p MIMAT0018110 Homo sapiens miR-3682-3p Targets (miRBase)(0.698)<BR/><A target=\"_blank\" HREF=\"homerResults/motif17.info.html\">More Information</A> | <A target=\"blank\" HREF=\"homerResults/motif17.similar.html\">Similar Motifs Found</A></TD><TD><A target=\"_blank\" HREF=\"homerResults/motif17.motif\">motif file (matrix)</A></TD></TR>\n",
       "<TR><TD>18\n",
       "<FONT color=\"red\">*</FONT></TD><TD><svg width=\"230\" height=\"50\">\n",
       " <g font-family=\"Arial\" font-weight=\"bold\" font-size=\"66.5\">\n",
       "  <text fill=\"#00BB00\" x=\"0\" y=\"0\"  transform=\"matrix(0.53,0,0,0.079,2,49)\">A</text>\n",
       "  <text fill=\"#F9A500\" x=\"0\" y=\"0\"  transform=\"matrix(0.55,0,0,0.083,0,45.05)\">G</text>\n",
       "  <text fill=\"#DD0000\" x=\"0\" y=\"0\"  transform=\"matrix(0.65,0,0,0.083,-1.5,40.9)\">U</text>\n",
       "  <text fill=\"#0000EE\" x=\"0\" y=\"0\"  transform=\"matrix(0.59,0,0,0.755,0,36.75)\">C</text>\n",
       "  \n",
       "  <text fill=\"#00BB00\" x=\"0\" y=\"0\"  transform=\"matrix(0.53,0,0,0.036,27,49)\">A</text>\n",
       "  <text fill=\"#F9A500\" x=\"0\" y=\"0\"  transform=\"matrix(0.55,0,0,0.054,25,47.2)\">G</text>\n",
       "  <text fill=\"#DD0000\" x=\"0\" y=\"0\"  transform=\"matrix(0.65,0,0,0.074,23.5,44.5)\">U</text>\n",
       "  <text fill=\"#0000EE\" x=\"0\" y=\"0\"  transform=\"matrix(0.59,0,0,0.836,25,40.8)\">C</text>\n",
       "  \n",
       "  <text fill=\"#00BB00\" x=\"0\" y=\"0\"  transform=\"matrix(0.53,0,0,0.061,52,49)\">A</text>\n",
       "  <text fill=\"#F9A500\" x=\"0\" y=\"0\"  transform=\"matrix(0.55,0,0,0.063,50,45.95)\">G</text>\n",
       "  <text fill=\"#DD0000\" x=\"0\" y=\"0\"  transform=\"matrix(0.65,0,0,0.110,48.5,42.8)\">U</text>\n",
       "  <text fill=\"#0000EE\" x=\"0\" y=\"0\"  transform=\"matrix(0.59,0,0,0.766,50,37.3)\">C</text>\n",
       "  \n",
       "  <text fill=\"#00BB00\" x=\"0\" y=\"0\"  transform=\"matrix(0.53,0,0,0.041,77,49)\">A</text>\n",
       "  <text fill=\"#0000EE\" x=\"0\" y=\"0\"  transform=\"matrix(0.59,0,0,0.049,75,46.95)\">C</text>\n",
       "  <text fill=\"#F9A500\" x=\"0\" y=\"0\"  transform=\"matrix(0.55,0,0,0.060,75,44.5)\">G</text>\n",
       "  <text fill=\"#DD0000\" x=\"0\" y=\"0\"  transform=\"matrix(0.65,0,0,0.850,73.5,41.5)\">U</text>\n",
       "  \n",
       "  <text fill=\"#00BB00\" x=\"0\" y=\"0\"  transform=\"matrix(0.53,0,0,0.077,102,49)\">A</text>\n",
       "  <text fill=\"#DD0000\" x=\"0\" y=\"0\"  transform=\"matrix(0.65,0,0,0.080,98.5,45.15)\">U</text>\n",
       "  <text fill=\"#0000EE\" x=\"0\" y=\"0\"  transform=\"matrix(0.59,0,0,0.096,100,41.15)\">C</text>\n",
       "  <text fill=\"#F9A500\" x=\"0\" y=\"0\"  transform=\"matrix(0.55,0,0,0.747,100,36.35)\">G</text>\n",
       "  \n",
       "  <text fill=\"#DD0000\" x=\"0\" y=\"0\"  transform=\"matrix(0.65,0,0,0.077,123.5,49)\">U</text>\n",
       "  <text fill=\"#00BB00\" x=\"0\" y=\"0\"  transform=\"matrix(0.53,0,0,0.078,127,45.15)\">A</text>\n",
       "  <text fill=\"#F9A500\" x=\"0\" y=\"0\"  transform=\"matrix(0.55,0,0,0.079,125,41.25)\">G</text>\n",
       "  <text fill=\"#0000EE\" x=\"0\" y=\"0\"  transform=\"matrix(0.59,0,0,0.766,125,37.3)\">C</text>\n",
       "  \n",
       "  <text fill=\"#F9A500\" x=\"0\" y=\"0\"  transform=\"matrix(0.55,0,0,0.067,150,49)\">G</text>\n",
       "  <text fill=\"#0000EE\" x=\"0\" y=\"0\"  transform=\"matrix(0.59,0,0,0.121,150,45.65)\">C</text>\n",
       "  <text fill=\"#DD0000\" x=\"0\" y=\"0\"  transform=\"matrix(0.65,0,0,0.128,148.5,39.6)\">U</text>\n",
       "  <text fill=\"#00BB00\" x=\"0\" y=\"0\"  transform=\"matrix(0.53,0,0,0.684,152,33.2)\">A</text>\n",
       "  \n",
       "  <text fill=\"#DD0000\" x=\"0\" y=\"0\"  transform=\"matrix(0.65,0,0,0.020,173.5,49)\">U</text>\n",
       "  <text fill=\"#00BB00\" x=\"0\" y=\"0\"  transform=\"matrix(0.53,0,0,0.079,177,48)\">A</text>\n",
       "  <text fill=\"#0000EE\" x=\"0\" y=\"0\"  transform=\"matrix(0.59,0,0,0.127,175,44.05)\">C</text>\n",
       "  <text fill=\"#F9A500\" x=\"0\" y=\"0\"  transform=\"matrix(0.55,0,0,0.774,175,37.7)\">G</text>\n",
       "  \n",
       "  <text fill=\"#DD0000\" x=\"0\" y=\"0\"  transform=\"matrix(0.65,0,0,0.043,198.5,49)\">U</text>\n",
       "  <text fill=\"#00BB00\" x=\"0\" y=\"0\"  transform=\"matrix(0.53,0,0,0.049,202,46.85)\">A</text>\n",
       "  <text fill=\"#0000EE\" x=\"0\" y=\"0\"  transform=\"matrix(0.59,0,0,0.080,200,44.4)\">C</text>\n",
       "  <text fill=\"#F9A500\" x=\"0\" y=\"0\"  transform=\"matrix(0.55,0,0,0.828,200,40.4)\">G</text>\n",
       "  \n",
       " </g>\n",
       "</svg>\n",
       "</TD><TD>1e-10</TD><TD>-2.378e+01</TD><TD>9.93%</TD><TD>6.56%</TD><TD>55.5bp (62.2bp)</TD><TD>hsa-miR-1205 MIMAT0005869 Homo sapiens miR-1205 Targets (miRBase)(0.789)<BR/><A target=\"_blank\" HREF=\"homerResults/motif18.info.html\">More Information</A> | <A target=\"blank\" HREF=\"homerResults/motif18.similar.html\">Similar Motifs Found</A></TD><TD><A target=\"_blank\" HREF=\"homerResults/motif18.motif\">motif file (matrix)</A></TD></TR>\n",
       "<TR><TD>19\n",
       "<FONT color=\"red\">*</FONT></TD><TD><svg width=\"155\" height=\"50\">\n",
       " <g font-family=\"Arial\" font-weight=\"bold\" font-size=\"66.5\">\n",
       "  <text fill=\"#00BB00\" x=\"0\" y=\"0\"  transform=\"matrix(0.53,0,0,0.001,2,49)\">A</text>\n",
       "  <text fill=\"#0000EE\" x=\"0\" y=\"0\"  transform=\"matrix(0.59,0,0,0.001,0,48.95)\">C</text>\n",
       "  <text fill=\"#F9A500\" x=\"0\" y=\"0\"  transform=\"matrix(0.55,0,0,0.001,0,48.9)\">G</text>\n",
       "  <text fill=\"#DD0000\" x=\"0\" y=\"0\"  transform=\"matrix(0.65,0,0,0.997,-1.5,48.85)\">U</text>\n",
       "  \n",
       "  <text fill=\"#00BB00\" x=\"0\" y=\"0\"  transform=\"matrix(0.53,0,0,0.001,27,49)\">A</text>\n",
       "  <text fill=\"#DD0000\" x=\"0\" y=\"0\"  transform=\"matrix(0.65,0,0,0.001,23.5,48.95)\">U</text>\n",
       "  <text fill=\"#0000EE\" x=\"0\" y=\"0\"  transform=\"matrix(0.59,0,0,0.121,25,48.9)\">C</text>\n",
       "  <text fill=\"#F9A500\" x=\"0\" y=\"0\"  transform=\"matrix(0.55,0,0,0.877,25,42.85)\">G</text>\n",
       "  \n",
       "  <text fill=\"#00BB00\" x=\"0\" y=\"0\"  transform=\"matrix(0.53,0,0,0.001,52,49)\">A</text>\n",
       "  <text fill=\"#F9A500\" x=\"0\" y=\"0\"  transform=\"matrix(0.55,0,0,0.001,50,48.95)\">G</text>\n",
       "  <text fill=\"#DD0000\" x=\"0\" y=\"0\"  transform=\"matrix(0.65,0,0,0.228,48.5,48.9)\">U</text>\n",
       "  <text fill=\"#0000EE\" x=\"0\" y=\"0\"  transform=\"matrix(0.59,0,0,0.770,50,37.5)\">C</text>\n",
       "  \n",
       "  <text fill=\"#00BB00\" x=\"0\" y=\"0\"  transform=\"matrix(0.53,0,0,0.001,77,49)\">A</text>\n",
       "  <text fill=\"#0000EE\" x=\"0\" y=\"0\"  transform=\"matrix(0.59,0,0,0.001,75,48.95)\">C</text>\n",
       "  <text fill=\"#F9A500\" x=\"0\" y=\"0\"  transform=\"matrix(0.55,0,0,0.001,75,48.9)\">G</text>\n",
       "  <text fill=\"#DD0000\" x=\"0\" y=\"0\"  transform=\"matrix(0.65,0,0,0.997,73.5,48.85)\">U</text>\n",
       "  \n",
       "  <text fill=\"#00BB00\" x=\"0\" y=\"0\"  transform=\"matrix(0.53,0,0,0.001,102,49)\">A</text>\n",
       "  <text fill=\"#0000EE\" x=\"0\" y=\"0\"  transform=\"matrix(0.59,0,0,0.001,100,48.95)\">C</text>\n",
       "  <text fill=\"#F9A500\" x=\"0\" y=\"0\"  transform=\"matrix(0.55,0,0,0.001,100,48.9)\">G</text>\n",
       "  <text fill=\"#DD0000\" x=\"0\" y=\"0\"  transform=\"matrix(0.65,0,0,0.997,98.5,48.85)\">U</text>\n",
       "  \n",
       "  <text fill=\"#00BB00\" x=\"0\" y=\"0\"  transform=\"matrix(0.53,0,0,0.001,127,49)\">A</text>\n",
       "  <text fill=\"#0000EE\" x=\"0\" y=\"0\"  transform=\"matrix(0.59,0,0,0.001,125,48.95)\">C</text>\n",
       "  <text fill=\"#F9A500\" x=\"0\" y=\"0\"  transform=\"matrix(0.55,0,0,0.001,125,48.9)\">G</text>\n",
       "  <text fill=\"#DD0000\" x=\"0\" y=\"0\"  transform=\"matrix(0.65,0,0,0.997,123.5,48.85)\">U</text>\n",
       "  \n",
       " </g>\n",
       "</svg>\n",
       "</TD><TD>1e-10</TD><TD>-2.338e+01</TD><TD>40.16%</TD><TD>34.10%</TD><TD>61.9bp (58.5bp)</TD><TD>hsa-miR-4422 MIMAT0018935 Homo sapiens miR-4422 Targets (miRBase)(0.794)<BR/><A target=\"_blank\" HREF=\"homerResults/motif19.info.html\">More Information</A> | <A target=\"blank\" HREF=\"homerResults/motif19.similar.html\">Similar Motifs Found</A></TD><TD><A target=\"_blank\" HREF=\"homerResults/motif19.motif\">motif file (matrix)</A></TD></TR>\n",
       "<TR><TD>20\n",
       "<FONT color=\"red\">*</FONT></TD><TD><svg width=\"130\" height=\"50\">\n",
       " <g font-family=\"Arial\" font-weight=\"bold\" font-size=\"66.5\">\n",
       "  <text fill=\"#F9A500\" x=\"0\" y=\"0\"  transform=\"matrix(0.55,0,0,0.001,0,49)\">G</text>\n",
       "  <text fill=\"#DD0000\" x=\"0\" y=\"0\"  transform=\"matrix(0.65,0,0,0.234,-1.5,48.95)\">U</text>\n",
       "  <text fill=\"#00BB00\" x=\"0\" y=\"0\"  transform=\"matrix(0.53,0,0,0.292,2,37.25)\">A</text>\n",
       "  <text fill=\"#0000EE\" x=\"0\" y=\"0\"  transform=\"matrix(0.59,0,0,0.473,0,22.65)\">C</text>\n",
       "  \n",
       "  <text fill=\"#00BB00\" x=\"0\" y=\"0\"  transform=\"matrix(0.53,0,0,0.001,27,49)\">A</text>\n",
       "  <text fill=\"#0000EE\" x=\"0\" y=\"0\"  transform=\"matrix(0.59,0,0,0.001,25,48.95)\">C</text>\n",
       "  <text fill=\"#F9A500\" x=\"0\" y=\"0\"  transform=\"matrix(0.55,0,0,0.006,25,48.9)\">G</text>\n",
       "  <text fill=\"#DD0000\" x=\"0\" y=\"0\"  transform=\"matrix(0.65,0,0,0.992,23.5,48.6)\">U</text>\n",
       "  \n",
       "  <text fill=\"#0000EE\" x=\"0\" y=\"0\"  transform=\"matrix(0.59,0,0,0.002,50,49)\">C</text>\n",
       "  <text fill=\"#DD0000\" x=\"0\" y=\"0\"  transform=\"matrix(0.65,0,0,0.005,48.5,48.9)\">U</text>\n",
       "  <text fill=\"#F9A500\" x=\"0\" y=\"0\"  transform=\"matrix(0.55,0,0,0.045,50,48.65)\">G</text>\n",
       "  <text fill=\"#00BB00\" x=\"0\" y=\"0\"  transform=\"matrix(0.53,0,0,0.948,52,46.4)\">A</text>\n",
       "  \n",
       "  <text fill=\"#00BB00\" x=\"0\" y=\"0\"  transform=\"matrix(0.53,0,0,0.001,77,49)\">A</text>\n",
       "  <text fill=\"#F9A500\" x=\"0\" y=\"0\"  transform=\"matrix(0.55,0,0,0.001,75,48.95)\">G</text>\n",
       "  <text fill=\"#DD0000\" x=\"0\" y=\"0\"  transform=\"matrix(0.65,0,0,0.425,73.5,48.9)\">U</text>\n",
       "  <text fill=\"#0000EE\" x=\"0\" y=\"0\"  transform=\"matrix(0.59,0,0,0.573,75,27.65)\">C</text>\n",
       "  \n",
       "  <text fill=\"#00BB00\" x=\"0\" y=\"0\"  transform=\"matrix(0.53,0,0,0.001,102,49)\">A</text>\n",
       "  <text fill=\"#DD0000\" x=\"0\" y=\"0\"  transform=\"matrix(0.65,0,0,0.045,98.5,48.95)\">U</text>\n",
       "  <text fill=\"#F9A500\" x=\"0\" y=\"0\"  transform=\"matrix(0.55,0,0,0.433,100,46.7)\">G</text>\n",
       "  <text fill=\"#0000EE\" x=\"0\" y=\"0\"  transform=\"matrix(0.59,0,0,0.521,100,25.05)\">C</text>\n",
       "  \n",
       " </g>\n",
       "</svg>\n",
       "</TD><TD>1e-9</TD><TD>-2.273e+01</TD><TD>45.82%</TD><TD>39.70%</TD><TD>55.5bp (63.0bp)</TD><TD>hsa-miR-4500 MIMAT0019036 Homo sapiens miR-4500 Targets (miRBase)(0.633)<BR/><A target=\"_blank\" HREF=\"homerResults/motif20.info.html\">More Information</A> | <A target=\"blank\" HREF=\"homerResults/motif20.similar.html\">Similar Motifs Found</A></TD><TD><A target=\"_blank\" HREF=\"homerResults/motif20.motif\">motif file (matrix)</A></TD></TR>\n",
       "<TR><TD>21\n",
       "<FONT color=\"red\">*</FONT></TD><TD><svg width=\"230\" height=\"50\">\n",
       " <g font-family=\"Arial\" font-weight=\"bold\" font-size=\"66.5\">\n",
       "  <text fill=\"#DD0000\" x=\"0\" y=\"0\"  transform=\"matrix(0.65,0,0,0.001,-1.5,49)\">U</text>\n",
       "  <text fill=\"#00BB00\" x=\"0\" y=\"0\"  transform=\"matrix(0.53,0,0,0.024,2,48.95)\">A</text>\n",
       "  <text fill=\"#F9A500\" x=\"0\" y=\"0\"  transform=\"matrix(0.55,0,0,0.055,0,47.75)\">G</text>\n",
       "  <text fill=\"#0000EE\" x=\"0\" y=\"0\"  transform=\"matrix(0.59,0,0,0.920,0,45)\">C</text>\n",
       "  \n",
       "  <text fill=\"#0000EE\" x=\"0\" y=\"0\"  transform=\"matrix(0.59,0,0,0.001,25,49)\">C</text>\n",
       "  <text fill=\"#DD0000\" x=\"0\" y=\"0\"  transform=\"matrix(0.65,0,0,0.084,23.5,48.95)\">U</text>\n",
       "  <text fill=\"#F9A500\" x=\"0\" y=\"0\"  transform=\"matrix(0.55,0,0,0.110,25,44.75)\">G</text>\n",
       "  <text fill=\"#00BB00\" x=\"0\" y=\"0\"  transform=\"matrix(0.53,0,0,0.805,27,39.25)\">A</text>\n",
       "  \n",
       "  <text fill=\"#00BB00\" x=\"0\" y=\"0\"  transform=\"matrix(0.53,0,0,0.001,52,49)\">A</text>\n",
       "  <text fill=\"#0000EE\" x=\"0\" y=\"0\"  transform=\"matrix(0.59,0,0,0.001,50,48.95)\">C</text>\n",
       "  <text fill=\"#DD0000\" x=\"0\" y=\"0\"  transform=\"matrix(0.65,0,0,0.001,48.5,48.9)\">U</text>\n",
       "  <text fill=\"#F9A500\" x=\"0\" y=\"0\"  transform=\"matrix(0.55,0,0,0.997,50,48.85)\">G</text>\n",
       "  \n",
       "  <text fill=\"#DD0000\" x=\"0\" y=\"0\"  transform=\"matrix(0.65,0,0,0.001,73.5,49)\">U</text>\n",
       "  <text fill=\"#00BB00\" x=\"0\" y=\"0\"  transform=\"matrix(0.53,0,0,0.021,77,48.95)\">A</text>\n",
       "  <text fill=\"#F9A500\" x=\"0\" y=\"0\"  transform=\"matrix(0.55,0,0,0.043,75,47.9)\">G</text>\n",
       "  <text fill=\"#0000EE\" x=\"0\" y=\"0\"  transform=\"matrix(0.59,0,0,0.935,75,45.75)\">C</text>\n",
       "  \n",
       "  <text fill=\"#00BB00\" x=\"0\" y=\"0\"  transform=\"matrix(0.53,0,0,0.001,102,49)\">A</text>\n",
       "  <text fill=\"#F9A500\" x=\"0\" y=\"0\"  transform=\"matrix(0.55,0,0,0.053,100,48.95)\">G</text>\n",
       "  <text fill=\"#0000EE\" x=\"0\" y=\"0\"  transform=\"matrix(0.59,0,0,0.188,100,46.3)\">C</text>\n",
       "  <text fill=\"#DD0000\" x=\"0\" y=\"0\"  transform=\"matrix(0.65,0,0,0.758,98.5,36.9)\">U</text>\n",
       "  \n",
       "  <text fill=\"#F9A500\" x=\"0\" y=\"0\"  transform=\"matrix(0.55,0,0,0.001,125,49)\">G</text>\n",
       "  <text fill=\"#DD0000\" x=\"0\" y=\"0\"  transform=\"matrix(0.65,0,0,0.001,123.5,48.95)\">U</text>\n",
       "  <text fill=\"#00BB00\" x=\"0\" y=\"0\"  transform=\"matrix(0.53,0,0,0.026,127,48.9)\">A</text>\n",
       "  <text fill=\"#0000EE\" x=\"0\" y=\"0\"  transform=\"matrix(0.59,0,0,0.972,125,47.6)\">C</text>\n",
       "  \n",
       "  <text fill=\"#0000EE\" x=\"0\" y=\"0\"  transform=\"matrix(0.59,0,0,0.001,150,49)\">C</text>\n",
       "  <text fill=\"#F9A500\" x=\"0\" y=\"0\"  transform=\"matrix(0.55,0,0,0.001,150,48.95)\">G</text>\n",
       "  <text fill=\"#DD0000\" x=\"0\" y=\"0\"  transform=\"matrix(0.65,0,0,0.092,148.5,48.9)\">U</text>\n",
       "  <text fill=\"#00BB00\" x=\"0\" y=\"0\"  transform=\"matrix(0.53,0,0,0.906,152,44.3)\">A</text>\n",
       "  \n",
       "  <text fill=\"#0000EE\" x=\"0\" y=\"0\"  transform=\"matrix(0.59,0,0,0.001,175,49)\">C</text>\n",
       "  <text fill=\"#F9A500\" x=\"0\" y=\"0\"  transform=\"matrix(0.55,0,0,0.001,175,48.95)\">G</text>\n",
       "  <text fill=\"#DD0000\" x=\"0\" y=\"0\"  transform=\"matrix(0.65,0,0,0.114,173.5,48.9)\">U</text>\n",
       "  <text fill=\"#00BB00\" x=\"0\" y=\"0\"  transform=\"matrix(0.53,0,0,0.884,177,43.2)\">A</text>\n",
       "  \n",
       "  <text fill=\"#F9A500\" x=\"0\" y=\"0\"  transform=\"matrix(0.55,0,0,0.001,200,49)\">G</text>\n",
       "  <text fill=\"#DD0000\" x=\"0\" y=\"0\"  transform=\"matrix(0.65,0,0,0.012,198.5,48.95)\">U</text>\n",
       "  <text fill=\"#00BB00\" x=\"0\" y=\"0\"  transform=\"matrix(0.53,0,0,0.063,202,48.35)\">A</text>\n",
       "  <text fill=\"#0000EE\" x=\"0\" y=\"0\"  transform=\"matrix(0.59,0,0,0.924,200,45.2)\">C</text>\n",
       "  \n",
       " </g>\n",
       "</svg>\n",
       "</TD><TD>1e-9</TD><TD>-2.222e+01</TD><TD>2.46%</TD><TD>1.01%</TD><TD>49.9bp (62.1bp)</TD><TD>hsa-miR-1587 MIMAT0019077 Homo sapiens miR-1587 Targets (miRBase)(0.711)<BR/><A target=\"_blank\" HREF=\"homerResults/motif21.info.html\">More Information</A> | <A target=\"blank\" HREF=\"homerResults/motif21.similar.html\">Similar Motifs Found</A></TD><TD><A target=\"_blank\" HREF=\"homerResults/motif21.motif\">motif file (matrix)</A></TD></TR>\n",
       "<TR><TD>22\n",
       "<FONT color=\"red\">*</FONT></TD><TD><svg width=\"205\" height=\"50\">\n",
       " <g font-family=\"Arial\" font-weight=\"bold\" font-size=\"66.5\">\n",
       "  <text fill=\"#00BB00\" x=\"0\" y=\"0\"  transform=\"matrix(0.53,0,0,0.001,2,49)\">A</text>\n",
       "  <text fill=\"#F9A500\" x=\"0\" y=\"0\"  transform=\"matrix(0.55,0,0,0.258,0,48.95)\">G</text>\n",
       "  <text fill=\"#0000EE\" x=\"0\" y=\"0\"  transform=\"matrix(0.59,0,0,0.369,0,36.05)\">C</text>\n",
       "  <text fill=\"#DD0000\" x=\"0\" y=\"0\"  transform=\"matrix(0.65,0,0,0.372,-1.5,17.6)\">U</text>\n",
       "  \n",
       "  <text fill=\"#0000EE\" x=\"0\" y=\"0\"  transform=\"matrix(0.59,0,0,0.127,25,49)\">C</text>\n",
       "  <text fill=\"#F9A500\" x=\"0\" y=\"0\"  transform=\"matrix(0.55,0,0,0.214,25,42.65)\">G</text>\n",
       "  <text fill=\"#DD0000\" x=\"0\" y=\"0\"  transform=\"matrix(0.65,0,0,0.249,23.5,31.95)\">U</text>\n",
       "  <text fill=\"#00BB00\" x=\"0\" y=\"0\"  transform=\"matrix(0.53,0,0,0.410,27,19.5)\">A</text>\n",
       "  \n",
       "  <text fill=\"#0000EE\" x=\"0\" y=\"0\"  transform=\"matrix(0.59,0,0,0.018,50,49)\">C</text>\n",
       "  <text fill=\"#DD0000\" x=\"0\" y=\"0\"  transform=\"matrix(0.65,0,0,0.120,48.5,48.1)\">U</text>\n",
       "  <text fill=\"#00BB00\" x=\"0\" y=\"0\"  transform=\"matrix(0.53,0,0,0.192,52,42.1)\">A</text>\n",
       "  <text fill=\"#F9A500\" x=\"0\" y=\"0\"  transform=\"matrix(0.55,0,0,0.670,50,32.5)\">G</text>\n",
       "  \n",
       "  <text fill=\"#00BB00\" x=\"0\" y=\"0\"  transform=\"matrix(0.53,0,0,0.038,77,49)\">A</text>\n",
       "  <text fill=\"#DD0000\" x=\"0\" y=\"0\"  transform=\"matrix(0.65,0,0,0.220,73.5,47.1)\">U</text>\n",
       "  <text fill=\"#0000EE\" x=\"0\" y=\"0\"  transform=\"matrix(0.59,0,0,0.368,75,36.1)\">C</text>\n",
       "  <text fill=\"#F9A500\" x=\"0\" y=\"0\"  transform=\"matrix(0.55,0,0,0.374,75,17.7)\">G</text>\n",
       "  \n",
       "  <text fill=\"#0000EE\" x=\"0\" y=\"0\"  transform=\"matrix(0.59,0,0,0.015,100,49)\">C</text>\n",
       "  <text fill=\"#F9A500\" x=\"0\" y=\"0\"  transform=\"matrix(0.55,0,0,0.086,100,48.25)\">G</text>\n",
       "  <text fill=\"#00BB00\" x=\"0\" y=\"0\"  transform=\"matrix(0.53,0,0,0.417,102,43.95)\">A</text>\n",
       "  <text fill=\"#DD0000\" x=\"0\" y=\"0\"  transform=\"matrix(0.65,0,0,0.482,98.5,23.1)\">U</text>\n",
       "  \n",
       "  <text fill=\"#DD0000\" x=\"0\" y=\"0\"  transform=\"matrix(0.65,0,0,0.019,123.5,49)\">U</text>\n",
       "  <text fill=\"#00BB00\" x=\"0\" y=\"0\"  transform=\"matrix(0.53,0,0,0.230,127,48.05)\">A</text>\n",
       "  <text fill=\"#0000EE\" x=\"0\" y=\"0\"  transform=\"matrix(0.59,0,0,0.264,125,36.55)\">C</text>\n",
       "  <text fill=\"#F9A500\" x=\"0\" y=\"0\"  transform=\"matrix(0.55,0,0,0.487,125,23.35)\">G</text>\n",
       "  \n",
       "  <text fill=\"#00BB00\" x=\"0\" y=\"0\"  transform=\"matrix(0.53,0,0,0.020,152,49)\">A</text>\n",
       "  <text fill=\"#DD0000\" x=\"0\" y=\"0\"  transform=\"matrix(0.65,0,0,0.048,148.5,48)\">U</text>\n",
       "  <text fill=\"#F9A500\" x=\"0\" y=\"0\"  transform=\"matrix(0.55,0,0,0.291,150,45.6)\">G</text>\n",
       "  <text fill=\"#0000EE\" x=\"0\" y=\"0\"  transform=\"matrix(0.59,0,0,0.641,150,31.05)\">C</text>\n",
       "  \n",
       "  <text fill=\"#F9A500\" x=\"0\" y=\"0\"  transform=\"matrix(0.55,0,0,0.029,175,49)\">G</text>\n",
       "  <text fill=\"#0000EE\" x=\"0\" y=\"0\"  transform=\"matrix(0.59,0,0,0.104,175,47.55)\">C</text>\n",
       "  <text fill=\"#00BB00\" x=\"0\" y=\"0\"  transform=\"matrix(0.53,0,0,0.215,177,42.35)\">A</text>\n",
       "  <text fill=\"#DD0000\" x=\"0\" y=\"0\"  transform=\"matrix(0.65,0,0,0.652,173.5,31.6)\">U</text>\n",
       "  \n",
       " </g>\n",
       "</svg>\n",
       "</TD><TD>1e-9</TD><TD>-2.178e+01</TD><TD>11.78%</TD><TD>8.25%</TD><TD>55.6bp (62.5bp)</TD><TD>hsa-miR-646 MIMAT0003316 Homo sapiens miR-646 Targets (miRBase)(0.704)<BR/><A target=\"_blank\" HREF=\"homerResults/motif22.info.html\">More Information</A> | <A target=\"blank\" HREF=\"homerResults/motif22.similar.html\">Similar Motifs Found</A></TD><TD><A target=\"_blank\" HREF=\"homerResults/motif22.motif\">motif file (matrix)</A></TD></TR>\n",
       "<TR><TD>23\n",
       "<FONT color=\"red\">*</FONT></TD><TD><svg width=\"230\" height=\"50\">\n",
       " <g font-family=\"Arial\" font-weight=\"bold\" font-size=\"66.5\">\n",
       "  <text fill=\"#0000EE\" x=\"0\" y=\"0\"  transform=\"matrix(0.59,0,0,0.001,0,49)\">C</text>\n",
       "  <text fill=\"#F9A500\" x=\"0\" y=\"0\"  transform=\"matrix(0.55,0,0,0.001,0,48.95)\">G</text>\n",
       "  <text fill=\"#DD0000\" x=\"0\" y=\"0\"  transform=\"matrix(0.65,0,0,0.013,-1.5,48.9)\">U</text>\n",
       "  <text fill=\"#00BB00\" x=\"0\" y=\"0\"  transform=\"matrix(0.53,0,0,0.985,2,48.25)\">A</text>\n",
       "  \n",
       "  <text fill=\"#00BB00\" x=\"0\" y=\"0\"  transform=\"matrix(0.53,0,0,0.001,27,49)\">A</text>\n",
       "  <text fill=\"#DD0000\" x=\"0\" y=\"0\"  transform=\"matrix(0.65,0,0,0.001,23.5,48.95)\">U</text>\n",
       "  <text fill=\"#F9A500\" x=\"0\" y=\"0\"  transform=\"matrix(0.55,0,0,0.168,25,48.9)\">G</text>\n",
       "  <text fill=\"#0000EE\" x=\"0\" y=\"0\"  transform=\"matrix(0.59,0,0,0.830,25,40.5)\">C</text>\n",
       "  \n",
       "  <text fill=\"#00BB00\" x=\"0\" y=\"0\"  transform=\"matrix(0.53,0,0,0.001,52,49)\">A</text>\n",
       "  <text fill=\"#0000EE\" x=\"0\" y=\"0\"  transform=\"matrix(0.59,0,0,0.001,50,48.95)\">C</text>\n",
       "  <text fill=\"#DD0000\" x=\"0\" y=\"0\"  transform=\"matrix(0.65,0,0,0.001,48.5,48.9)\">U</text>\n",
       "  <text fill=\"#F9A500\" x=\"0\" y=\"0\"  transform=\"matrix(0.55,0,0,0.997,50,48.85)\">G</text>\n",
       "  \n",
       "  <text fill=\"#00BB00\" x=\"0\" y=\"0\"  transform=\"matrix(0.53,0,0,0.001,77,49)\">A</text>\n",
       "  <text fill=\"#F9A500\" x=\"0\" y=\"0\"  transform=\"matrix(0.55,0,0,0.070,75,48.95)\">G</text>\n",
       "  <text fill=\"#0000EE\" x=\"0\" y=\"0\"  transform=\"matrix(0.59,0,0,0.129,75,45.45)\">C</text>\n",
       "  <text fill=\"#DD0000\" x=\"0\" y=\"0\"  transform=\"matrix(0.65,0,0,0.800,73.5,39)\">U</text>\n",
       "  \n",
       "  <text fill=\"#0000EE\" x=\"0\" y=\"0\"  transform=\"matrix(0.59,0,0,0.090,100,49)\">C</text>\n",
       "  <text fill=\"#DD0000\" x=\"0\" y=\"0\"  transform=\"matrix(0.65,0,0,0.226,98.5,44.5)\">U</text>\n",
       "  <text fill=\"#F9A500\" x=\"0\" y=\"0\"  transform=\"matrix(0.55,0,0,0.234,100,33.2)\">G</text>\n",
       "  <text fill=\"#00BB00\" x=\"0\" y=\"0\"  transform=\"matrix(0.53,0,0,0.450,102,21.5)\">A</text>\n",
       "  \n",
       "  <text fill=\"#00BB00\" x=\"0\" y=\"0\"  transform=\"matrix(0.53,0,0,0.001,127,49)\">A</text>\n",
       "  <text fill=\"#DD0000\" x=\"0\" y=\"0\"  transform=\"matrix(0.65,0,0,0.001,123.5,48.95)\">U</text>\n",
       "  <text fill=\"#F9A500\" x=\"0\" y=\"0\"  transform=\"matrix(0.55,0,0,0.163,125,48.9)\">G</text>\n",
       "  <text fill=\"#0000EE\" x=\"0\" y=\"0\"  transform=\"matrix(0.59,0,0,0.835,125,40.75)\">C</text>\n",
       "  \n",
       "  <text fill=\"#F9A500\" x=\"0\" y=\"0\"  transform=\"matrix(0.55,0,0,0.002,150,49)\">G</text>\n",
       "  <text fill=\"#00BB00\" x=\"0\" y=\"0\"  transform=\"matrix(0.53,0,0,0.011,152,48.9)\">A</text>\n",
       "  <text fill=\"#0000EE\" x=\"0\" y=\"0\"  transform=\"matrix(0.59,0,0,0.020,150,48.35)\">C</text>\n",
       "  <text fill=\"#DD0000\" x=\"0\" y=\"0\"  transform=\"matrix(0.65,0,0,0.967,148.5,47.35)\">U</text>\n",
       "  \n",
       "  <text fill=\"#F9A500\" x=\"0\" y=\"0\"  transform=\"matrix(0.55,0,0,0.094,175,49)\">G</text>\n",
       "  <text fill=\"#00BB00\" x=\"0\" y=\"0\"  transform=\"matrix(0.53,0,0,0.188,177,44.3)\">A</text>\n",
       "  <text fill=\"#DD0000\" x=\"0\" y=\"0\"  transform=\"matrix(0.65,0,0,0.263,173.5,34.9)\">U</text>\n",
       "  <text fill=\"#0000EE\" x=\"0\" y=\"0\"  transform=\"matrix(0.59,0,0,0.456,175,21.75)\">C</text>\n",
       "  \n",
       "  <text fill=\"#00BB00\" x=\"0\" y=\"0\"  transform=\"matrix(0.53,0,0,0.001,202,49)\">A</text>\n",
       "  <text fill=\"#F9A500\" x=\"0\" y=\"0\"  transform=\"matrix(0.55,0,0,0.010,200,48.95)\">G</text>\n",
       "  <text fill=\"#DD0000\" x=\"0\" y=\"0\"  transform=\"matrix(0.65,0,0,0.090,198.5,48.45)\">U</text>\n",
       "  <text fill=\"#0000EE\" x=\"0\" y=\"0\"  transform=\"matrix(0.59,0,0,0.899,200,43.95)\">C</text>\n",
       "  \n",
       " </g>\n",
       "</svg>\n",
       "</TD><TD>1e-9</TD><TD>-2.076e+01</TD><TD>0.77%</TD><TD>0.13%</TD><TD>51.6bp (50.4bp)</TD><TD>hsa-miR-16 MIMAT0000069 Homo sapiens miR-16 Targets (miRBase)(0.579)<BR/><A target=\"_blank\" HREF=\"homerResults/motif23.info.html\">More Information</A> | <A target=\"blank\" HREF=\"homerResults/motif23.similar.html\">Similar Motifs Found</A></TD><TD><A target=\"_blank\" HREF=\"homerResults/motif23.motif\">motif file (matrix)</A></TD></TR>\n",
       "<TR><TD>24\n",
       "<FONT color=\"red\">*</FONT></TD><TD><svg width=\"230\" height=\"50\">\n",
       " <g font-family=\"Arial\" font-weight=\"bold\" font-size=\"66.5\">\n",
       "  <text fill=\"#00BB00\" x=\"0\" y=\"0\"  transform=\"matrix(0.53,0,0,0.100,2,49)\">A</text>\n",
       "  <text fill=\"#F9A500\" x=\"0\" y=\"0\"  transform=\"matrix(0.55,0,0,0.100,0,44)\">G</text>\n",
       "  <text fill=\"#DD0000\" x=\"0\" y=\"0\"  transform=\"matrix(0.65,0,0,0.100,-1.5,39)\">U</text>\n",
       "  <text fill=\"#0000EE\" x=\"0\" y=\"0\"  transform=\"matrix(0.59,0,0,0.700,0,34)\">C</text>\n",
       "  \n",
       "  <text fill=\"#00BB00\" x=\"0\" y=\"0\"  transform=\"matrix(0.53,0,0,0.100,27,49)\">A</text>\n",
       "  <text fill=\"#0000EE\" x=\"0\" y=\"0\"  transform=\"matrix(0.59,0,0,0.100,25,44)\">C</text>\n",
       "  <text fill=\"#DD0000\" x=\"0\" y=\"0\"  transform=\"matrix(0.65,0,0,0.100,23.5,39)\">U</text>\n",
       "  <text fill=\"#F9A500\" x=\"0\" y=\"0\"  transform=\"matrix(0.55,0,0,0.700,25,34)\">G</text>\n",
       "  \n",
       "  <text fill=\"#00BB00\" x=\"0\" y=\"0\"  transform=\"matrix(0.53,0,0,0.100,52,49)\">A</text>\n",
       "  <text fill=\"#0000EE\" x=\"0\" y=\"0\"  transform=\"matrix(0.59,0,0,0.100,50,44)\">C</text>\n",
       "  <text fill=\"#F9A500\" x=\"0\" y=\"0\"  transform=\"matrix(0.55,0,0,0.100,50,39)\">G</text>\n",
       "  <text fill=\"#DD0000\" x=\"0\" y=\"0\"  transform=\"matrix(0.65,0,0,0.700,48.5,34)\">U</text>\n",
       "  \n",
       "  <text fill=\"#00BB00\" x=\"0\" y=\"0\"  transform=\"matrix(0.53,0,0,0.100,77,49)\">A</text>\n",
       "  <text fill=\"#0000EE\" x=\"0\" y=\"0\"  transform=\"matrix(0.59,0,0,0.100,75,44)\">C</text>\n",
       "  <text fill=\"#F9A500\" x=\"0\" y=\"0\"  transform=\"matrix(0.55,0,0,0.100,75,39)\">G</text>\n",
       "  <text fill=\"#DD0000\" x=\"0\" y=\"0\"  transform=\"matrix(0.65,0,0,0.700,73.5,34)\">U</text>\n",
       "  \n",
       "  <text fill=\"#00BB00\" x=\"0\" y=\"0\"  transform=\"matrix(0.53,0,0,0.100,102,49)\">A</text>\n",
       "  <text fill=\"#F9A500\" x=\"0\" y=\"0\"  transform=\"matrix(0.55,0,0,0.100,100,44)\">G</text>\n",
       "  <text fill=\"#DD0000\" x=\"0\" y=\"0\"  transform=\"matrix(0.65,0,0,0.100,98.5,39)\">U</text>\n",
       "  <text fill=\"#0000EE\" x=\"0\" y=\"0\"  transform=\"matrix(0.59,0,0,0.700,100,34)\">C</text>\n",
       "  \n",
       "  <text fill=\"#00BB00\" x=\"0\" y=\"0\"  transform=\"matrix(0.53,0,0,0.100,127,49)\">A</text>\n",
       "  <text fill=\"#F9A500\" x=\"0\" y=\"0\"  transform=\"matrix(0.55,0,0,0.100,125,44)\">G</text>\n",
       "  <text fill=\"#DD0000\" x=\"0\" y=\"0\"  transform=\"matrix(0.65,0,0,0.100,123.5,39)\">U</text>\n",
       "  <text fill=\"#0000EE\" x=\"0\" y=\"0\"  transform=\"matrix(0.59,0,0,0.700,125,34)\">C</text>\n",
       "  \n",
       "  <text fill=\"#0000EE\" x=\"0\" y=\"0\"  transform=\"matrix(0.59,0,0,0.100,150,49)\">C</text>\n",
       "  <text fill=\"#F9A500\" x=\"0\" y=\"0\"  transform=\"matrix(0.55,0,0,0.100,150,44)\">G</text>\n",
       "  <text fill=\"#DD0000\" x=\"0\" y=\"0\"  transform=\"matrix(0.65,0,0,0.100,148.5,39)\">U</text>\n",
       "  <text fill=\"#00BB00\" x=\"0\" y=\"0\"  transform=\"matrix(0.53,0,0,0.700,152,34)\">A</text>\n",
       "  \n",
       "  <text fill=\"#00BB00\" x=\"0\" y=\"0\"  transform=\"matrix(0.53,0,0,0.100,177,49)\">A</text>\n",
       "  <text fill=\"#0000EE\" x=\"0\" y=\"0\"  transform=\"matrix(0.59,0,0,0.100,175,44)\">C</text>\n",
       "  <text fill=\"#F9A500\" x=\"0\" y=\"0\"  transform=\"matrix(0.55,0,0,0.100,175,39)\">G</text>\n",
       "  <text fill=\"#DD0000\" x=\"0\" y=\"0\"  transform=\"matrix(0.65,0,0,0.700,173.5,34)\">U</text>\n",
       "  \n",
       "  <text fill=\"#0000EE\" x=\"0\" y=\"0\"  transform=\"matrix(0.59,0,0,0.100,200,49)\">C</text>\n",
       "  <text fill=\"#F9A500\" x=\"0\" y=\"0\"  transform=\"matrix(0.55,0,0,0.100,200,44)\">G</text>\n",
       "  <text fill=\"#DD0000\" x=\"0\" y=\"0\"  transform=\"matrix(0.65,0,0,0.100,198.5,39)\">U</text>\n",
       "  <text fill=\"#00BB00\" x=\"0\" y=\"0\"  transform=\"matrix(0.53,0,0,0.700,202,34)\">A</text>\n",
       "  \n",
       " </g>\n",
       "</svg>\n",
       "</TD><TD>1e-8</TD><TD>-1.908e+01</TD><TD>0.19%</TD><TD>0.00%</TD><TD>47.2bp (0.0bp)</TD><TD>hsa-miR-3688-3p MIMAT0018116 Homo sapiens miR-3688-3p Targets (miRBase)(0.703)<BR/><A target=\"_blank\" HREF=\"homerResults/motif24.info.html\">More Information</A> | <A target=\"blank\" HREF=\"homerResults/motif24.similar.html\">Similar Motifs Found</A></TD><TD><A target=\"_blank\" HREF=\"homerResults/motif24.motif\">motif file (matrix)</A></TD></TR>\n",
       "<TR><TD>25\n",
       "<FONT color=\"red\">*</FONT></TD><TD><svg width=\"205\" height=\"50\">\n",
       " <g font-family=\"Arial\" font-weight=\"bold\" font-size=\"66.5\">\n",
       "  <text fill=\"#0000EE\" x=\"0\" y=\"0\"  transform=\"matrix(0.59,0,0,0.063,0,49)\">C</text>\n",
       "  <text fill=\"#00BB00\" x=\"0\" y=\"0\"  transform=\"matrix(0.53,0,0,0.068,2,45.85)\">A</text>\n",
       "  <text fill=\"#F9A500\" x=\"0\" y=\"0\"  transform=\"matrix(0.55,0,0,0.078,0,42.45)\">G</text>\n",
       "  <text fill=\"#DD0000\" x=\"0\" y=\"0\"  transform=\"matrix(0.65,0,0,0.791,-1.5,38.55)\">U</text>\n",
       "  \n",
       "  <text fill=\"#DD0000\" x=\"0\" y=\"0\"  transform=\"matrix(0.65,0,0,0.058,23.5,49)\">U</text>\n",
       "  <text fill=\"#0000EE\" x=\"0\" y=\"0\"  transform=\"matrix(0.59,0,0,0.079,25,46.1)\">C</text>\n",
       "  <text fill=\"#F9A500\" x=\"0\" y=\"0\"  transform=\"matrix(0.55,0,0,0.113,25,42.15)\">G</text>\n",
       "  <text fill=\"#00BB00\" x=\"0\" y=\"0\"  transform=\"matrix(0.53,0,0,0.750,27,36.5)\">A</text>\n",
       "  \n",
       "  <text fill=\"#DD0000\" x=\"0\" y=\"0\"  transform=\"matrix(0.65,0,0,0.056,48.5,49)\">U</text>\n",
       "  <text fill=\"#F9A500\" x=\"0\" y=\"0\"  transform=\"matrix(0.55,0,0,0.098,50,46.2)\">G</text>\n",
       "  <text fill=\"#00BB00\" x=\"0\" y=\"0\"  transform=\"matrix(0.53,0,0,0.120,52,41.3)\">A</text>\n",
       "  <text fill=\"#0000EE\" x=\"0\" y=\"0\"  transform=\"matrix(0.59,0,0,0.726,50,35.3)\">C</text>\n",
       "  \n",
       "  <text fill=\"#0000EE\" x=\"0\" y=\"0\"  transform=\"matrix(0.59,0,0,0.016,75,49)\">C</text>\n",
       "  <text fill=\"#F9A500\" x=\"0\" y=\"0\"  transform=\"matrix(0.55,0,0,0.047,75,48.2)\">G</text>\n",
       "  <text fill=\"#00BB00\" x=\"0\" y=\"0\"  transform=\"matrix(0.53,0,0,0.139,77,45.85)\">A</text>\n",
       "  <text fill=\"#DD0000\" x=\"0\" y=\"0\"  transform=\"matrix(0.65,0,0,0.798,73.5,38.9)\">U</text>\n",
       "  \n",
       "  <text fill=\"#00BB00\" x=\"0\" y=\"0\"  transform=\"matrix(0.53,0,0,0.057,102,49)\">A</text>\n",
       "  <text fill=\"#DD0000\" x=\"0\" y=\"0\"  transform=\"matrix(0.65,0,0,0.074,98.5,46.15)\">U</text>\n",
       "  <text fill=\"#F9A500\" x=\"0\" y=\"0\"  transform=\"matrix(0.55,0,0,0.125,100,42.45)\">G</text>\n",
       "  <text fill=\"#0000EE\" x=\"0\" y=\"0\"  transform=\"matrix(0.59,0,0,0.744,100,36.2)\">C</text>\n",
       "  \n",
       "  <text fill=\"#F9A500\" x=\"0\" y=\"0\"  transform=\"matrix(0.55,0,0,0.145,125,49)\">G</text>\n",
       "  <text fill=\"#00BB00\" x=\"0\" y=\"0\"  transform=\"matrix(0.53,0,0,0.146,127,41.75)\">A</text>\n",
       "  <text fill=\"#0000EE\" x=\"0\" y=\"0\"  transform=\"matrix(0.59,0,0,0.176,125,34.45)\">C</text>\n",
       "  <text fill=\"#DD0000\" x=\"0\" y=\"0\"  transform=\"matrix(0.65,0,0,0.533,123.5,25.65)\">U</text>\n",
       "  \n",
       "  <text fill=\"#0000EE\" x=\"0\" y=\"0\"  transform=\"matrix(0.59,0,0,0.044,150,49)\">C</text>\n",
       "  <text fill=\"#F9A500\" x=\"0\" y=\"0\"  transform=\"matrix(0.55,0,0,0.050,150,46.8)\">G</text>\n",
       "  <text fill=\"#00BB00\" x=\"0\" y=\"0\"  transform=\"matrix(0.53,0,0,0.076,152,44.3)\">A</text>\n",
       "  <text fill=\"#DD0000\" x=\"0\" y=\"0\"  transform=\"matrix(0.65,0,0,0.830,148.5,40.5)\">U</text>\n",
       "  \n",
       "  <text fill=\"#00BB00\" x=\"0\" y=\"0\"  transform=\"matrix(0.53,0,0,0.018,177,49)\">A</text>\n",
       "  <text fill=\"#F9A500\" x=\"0\" y=\"0\"  transform=\"matrix(0.55,0,0,0.053,175,48.1)\">G</text>\n",
       "  <text fill=\"#0000EE\" x=\"0\" y=\"0\"  transform=\"matrix(0.59,0,0,0.094,175,45.45)\">C</text>\n",
       "  <text fill=\"#DD0000\" x=\"0\" y=\"0\"  transform=\"matrix(0.65,0,0,0.835,173.5,40.75)\">U</text>\n",
       "  \n",
       " </g>\n",
       "</svg>\n",
       "</TD><TD>1e-8</TD><TD>-1.851e+01</TD><TD>22.18%</TD><TD>17.82%</TD><TD>60.5bp (58.2bp)</TD><TD>hsa-miR-583 MIMAT0003248 Homo sapiens miR-583 Targets (miRBase)(0.685)<BR/><A target=\"_blank\" HREF=\"homerResults/motif25.info.html\">More Information</A> | <A target=\"blank\" HREF=\"homerResults/motif25.similar.html\">Similar Motifs Found</A></TD><TD><A target=\"_blank\" HREF=\"homerResults/motif25.motif\">motif file (matrix)</A></TD></TR>\n",
       "<TR><TD>26\n",
       "<FONT color=\"red\">*</FONT></TD><TD><svg width=\"205\" height=\"50\">\n",
       " <g font-family=\"Arial\" font-weight=\"bold\" font-size=\"66.5\">\n",
       "  <text fill=\"#DD0000\" x=\"0\" y=\"0\"  transform=\"matrix(0.65,0,0,0.110,-1.5,49)\">U</text>\n",
       "  <text fill=\"#00BB00\" x=\"0\" y=\"0\"  transform=\"matrix(0.53,0,0,0.135,2,43.5)\">A</text>\n",
       "  <text fill=\"#F9A500\" x=\"0\" y=\"0\"  transform=\"matrix(0.55,0,0,0.148,0,36.75)\">G</text>\n",
       "  <text fill=\"#0000EE\" x=\"0\" y=\"0\"  transform=\"matrix(0.59,0,0,0.607,0,29.35)\">C</text>\n",
       "  \n",
       "  <text fill=\"#00BB00\" x=\"0\" y=\"0\"  transform=\"matrix(0.53,0,0,0.083,27,49)\">A</text>\n",
       "  <text fill=\"#F9A500\" x=\"0\" y=\"0\"  transform=\"matrix(0.55,0,0,0.099,25,44.85)\">G</text>\n",
       "  <text fill=\"#0000EE\" x=\"0\" y=\"0\"  transform=\"matrix(0.59,0,0,0.151,25,39.9)\">C</text>\n",
       "  <text fill=\"#DD0000\" x=\"0\" y=\"0\"  transform=\"matrix(0.65,0,0,0.667,23.5,32.35)\">U</text>\n",
       "  \n",
       "  <text fill=\"#00BB00\" x=\"0\" y=\"0\"  transform=\"matrix(0.53,0,0,0.089,52,49)\">A</text>\n",
       "  <text fill=\"#0000EE\" x=\"0\" y=\"0\"  transform=\"matrix(0.59,0,0,0.091,50,44.55)\">C</text>\n",
       "  <text fill=\"#F9A500\" x=\"0\" y=\"0\"  transform=\"matrix(0.55,0,0,0.311,50,40)\">G</text>\n",
       "  <text fill=\"#DD0000\" x=\"0\" y=\"0\"  transform=\"matrix(0.65,0,0,0.509,48.5,24.45)\">U</text>\n",
       "  \n",
       "  <text fill=\"#DD0000\" x=\"0\" y=\"0\"  transform=\"matrix(0.65,0,0,0.081,73.5,49)\">U</text>\n",
       "  <text fill=\"#0000EE\" x=\"0\" y=\"0\"  transform=\"matrix(0.59,0,0,0.135,75,44.95)\">C</text>\n",
       "  <text fill=\"#F9A500\" x=\"0\" y=\"0\"  transform=\"matrix(0.55,0,0,0.142,75,38.2)\">G</text>\n",
       "  <text fill=\"#00BB00\" x=\"0\" y=\"0\"  transform=\"matrix(0.53,0,0,0.642,77,31.1)\">A</text>\n",
       "  \n",
       "  <text fill=\"#F9A500\" x=\"0\" y=\"0\"  transform=\"matrix(0.55,0,0,0.055,100,49)\">G</text>\n",
       "  <text fill=\"#00BB00\" x=\"0\" y=\"0\"  transform=\"matrix(0.53,0,0,0.129,102,46.25)\">A</text>\n",
       "  <text fill=\"#0000EE\" x=\"0\" y=\"0\"  transform=\"matrix(0.59,0,0,0.223,100,39.8)\">C</text>\n",
       "  <text fill=\"#DD0000\" x=\"0\" y=\"0\"  transform=\"matrix(0.65,0,0,0.593,98.5,28.65)\">U</text>\n",
       "  \n",
       "  <text fill=\"#0000EE\" x=\"0\" y=\"0\"  transform=\"matrix(0.59,0,0,0.153,125,49)\">C</text>\n",
       "  <text fill=\"#00BB00\" x=\"0\" y=\"0\"  transform=\"matrix(0.53,0,0,0.167,127,41.35)\">A</text>\n",
       "  <text fill=\"#DD0000\" x=\"0\" y=\"0\"  transform=\"matrix(0.65,0,0,0.193,123.5,33)\">U</text>\n",
       "  <text fill=\"#F9A500\" x=\"0\" y=\"0\"  transform=\"matrix(0.55,0,0,0.487,125,23.35)\">G</text>\n",
       "  \n",
       "  <text fill=\"#DD0000\" x=\"0\" y=\"0\"  transform=\"matrix(0.65,0,0,0.125,148.5,49)\">U</text>\n",
       "  <text fill=\"#0000EE\" x=\"0\" y=\"0\"  transform=\"matrix(0.59,0,0,0.178,150,42.75)\">C</text>\n",
       "  <text fill=\"#00BB00\" x=\"0\" y=\"0\"  transform=\"matrix(0.53,0,0,0.198,152,33.85)\">A</text>\n",
       "  <text fill=\"#F9A500\" x=\"0\" y=\"0\"  transform=\"matrix(0.55,0,0,0.499,150,23.95)\">G</text>\n",
       "  \n",
       "  <text fill=\"#DD0000\" x=\"0\" y=\"0\"  transform=\"matrix(0.65,0,0,0.118,173.5,49)\">U</text>\n",
       "  <text fill=\"#F9A500\" x=\"0\" y=\"0\"  transform=\"matrix(0.55,0,0,0.125,175,43.1)\">G</text>\n",
       "  <text fill=\"#0000EE\" x=\"0\" y=\"0\"  transform=\"matrix(0.59,0,0,0.191,175,36.85)\">C</text>\n",
       "  <text fill=\"#00BB00\" x=\"0\" y=\"0\"  transform=\"matrix(0.53,0,0,0.566,177,27.3)\">A</text>\n",
       "  \n",
       " </g>\n",
       "</svg>\n",
       "</TD><TD>1e-7</TD><TD>-1.780e+01</TD><TD>10.86%</TD><TD>7.79%</TD><TD>60.7bp (63.1bp)</TD><TD>hsa-miR-587 MIMAT0003253 Homo sapiens miR-587 Targets (miRBase)(0.657)<BR/><A target=\"_blank\" HREF=\"homerResults/motif26.info.html\">More Information</A> | <A target=\"blank\" HREF=\"homerResults/motif26.similar.html\">Similar Motifs Found</A></TD><TD><A target=\"_blank\" HREF=\"homerResults/motif26.motif\">motif file (matrix)</A></TD></TR>\n",
       "<TR><TD>27\n",
       "<FONT color=\"red\">*</FONT></TD><TD><svg width=\"205\" height=\"50\">\n",
       " <g font-family=\"Arial\" font-weight=\"bold\" font-size=\"66.5\">\n",
       "  <text fill=\"#00BB00\" x=\"0\" y=\"0\"  transform=\"matrix(0.53,0,0,0.056,2,49)\">A</text>\n",
       "  <text fill=\"#DD0000\" x=\"0\" y=\"0\"  transform=\"matrix(0.65,0,0,0.067,-1.5,46.2)\">U</text>\n",
       "  <text fill=\"#F9A500\" x=\"0\" y=\"0\"  transform=\"matrix(0.55,0,0,0.127,0,42.85)\">G</text>\n",
       "  <text fill=\"#0000EE\" x=\"0\" y=\"0\"  transform=\"matrix(0.59,0,0,0.750,0,36.5)\">C</text>\n",
       "  \n",
       "  <text fill=\"#F9A500\" x=\"0\" y=\"0\"  transform=\"matrix(0.55,0,0,0.052,25,49)\">G</text>\n",
       "  <text fill=\"#00BB00\" x=\"0\" y=\"0\"  transform=\"matrix(0.53,0,0,0.055,27,46.4)\">A</text>\n",
       "  <text fill=\"#0000EE\" x=\"0\" y=\"0\"  transform=\"matrix(0.59,0,0,0.059,25,43.65)\">C</text>\n",
       "  <text fill=\"#DD0000\" x=\"0\" y=\"0\"  transform=\"matrix(0.65,0,0,0.834,23.5,40.7)\">U</text>\n",
       "  \n",
       "  <text fill=\"#00BB00\" x=\"0\" y=\"0\"  transform=\"matrix(0.53,0,0,0.036,52,49)\">A</text>\n",
       "  <text fill=\"#0000EE\" x=\"0\" y=\"0\"  transform=\"matrix(0.59,0,0,0.076,50,47.2)\">C</text>\n",
       "  <text fill=\"#DD0000\" x=\"0\" y=\"0\"  transform=\"matrix(0.65,0,0,0.085,48.5,43.4)\">U</text>\n",
       "  <text fill=\"#F9A500\" x=\"0\" y=\"0\"  transform=\"matrix(0.55,0,0,0.803,50,39.15)\">G</text>\n",
       "  \n",
       "  <text fill=\"#F9A500\" x=\"0\" y=\"0\"  transform=\"matrix(0.55,0,0,0.029,75,49)\">G</text>\n",
       "  <text fill=\"#00BB00\" x=\"0\" y=\"0\"  transform=\"matrix(0.53,0,0,0.042,77,47.55)\">A</text>\n",
       "  <text fill=\"#0000EE\" x=\"0\" y=\"0\"  transform=\"matrix(0.59,0,0,0.131,75,45.45)\">C</text>\n",
       "  <text fill=\"#DD0000\" x=\"0\" y=\"0\"  transform=\"matrix(0.65,0,0,0.798,73.5,38.9)\">U</text>\n",
       "  \n",
       "  <text fill=\"#DD0000\" x=\"0\" y=\"0\"  transform=\"matrix(0.65,0,0,0.083,98.5,49)\">U</text>\n",
       "  <text fill=\"#0000EE\" x=\"0\" y=\"0\"  transform=\"matrix(0.59,0,0,0.124,100,44.85)\">C</text>\n",
       "  <text fill=\"#00BB00\" x=\"0\" y=\"0\"  transform=\"matrix(0.53,0,0,0.135,102,38.65)\">A</text>\n",
       "  <text fill=\"#F9A500\" x=\"0\" y=\"0\"  transform=\"matrix(0.55,0,0,0.658,100,31.9)\">G</text>\n",
       "  \n",
       "  <text fill=\"#00BB00\" x=\"0\" y=\"0\"  transform=\"matrix(0.53,0,0,0.048,127,49)\">A</text>\n",
       "  <text fill=\"#DD0000\" x=\"0\" y=\"0\"  transform=\"matrix(0.65,0,0,0.056,123.5,46.6)\">U</text>\n",
       "  <text fill=\"#F9A500\" x=\"0\" y=\"0\"  transform=\"matrix(0.55,0,0,0.191,125,43.8)\">G</text>\n",
       "  <text fill=\"#0000EE\" x=\"0\" y=\"0\"  transform=\"matrix(0.59,0,0,0.705,125,34.25)\">C</text>\n",
       "  \n",
       "  <text fill=\"#0000EE\" x=\"0\" y=\"0\"  transform=\"matrix(0.59,0,0,0.062,150,49)\">C</text>\n",
       "  <text fill=\"#00BB00\" x=\"0\" y=\"0\"  transform=\"matrix(0.53,0,0,0.103,152,45.9)\">A</text>\n",
       "  <text fill=\"#F9A500\" x=\"0\" y=\"0\"  transform=\"matrix(0.55,0,0,0.127,150,40.75)\">G</text>\n",
       "  <text fill=\"#DD0000\" x=\"0\" y=\"0\"  transform=\"matrix(0.65,0,0,0.708,148.5,34.4)\">U</text>\n",
       "  \n",
       "  <text fill=\"#0000EE\" x=\"0\" y=\"0\"  transform=\"matrix(0.59,0,0,0.065,175,49)\">C</text>\n",
       "  <text fill=\"#F9A500\" x=\"0\" y=\"0\"  transform=\"matrix(0.55,0,0,0.085,175,45.75)\">G</text>\n",
       "  <text fill=\"#DD0000\" x=\"0\" y=\"0\"  transform=\"matrix(0.65,0,0,0.095,173.5,41.5)\">U</text>\n",
       "  <text fill=\"#00BB00\" x=\"0\" y=\"0\"  transform=\"matrix(0.53,0,0,0.755,177,36.75)\">A</text>\n",
       "  \n",
       " </g>\n",
       "</svg>\n",
       "</TD><TD>1e-7</TD><TD>-1.678e+01</TD><TD>15.36%</TD><TD>11.84%</TD><TD>60.8bp (59.5bp)</TD><TD>hsa-miR-140-3p MIMAT0004597 Homo sapiens miR-140-3p Targets (miRBase)(0.732)<BR/><A target=\"_blank\" HREF=\"homerResults/motif27.info.html\">More Information</A> | <A target=\"blank\" HREF=\"homerResults/motif27.similar.html\">Similar Motifs Found</A></TD><TD><A target=\"_blank\" HREF=\"homerResults/motif27.motif\">motif file (matrix)</A></TD></TR>\n",
       "<TR><TD>28\n",
       "<FONT color=\"red\">*</FONT></TD><TD><svg width=\"230\" height=\"50\">\n",
       " <g font-family=\"Arial\" font-weight=\"bold\" font-size=\"66.5\">\n",
       "  <text fill=\"#00BB00\" x=\"0\" y=\"0\"  transform=\"matrix(0.53,0,0,0.001,2,49)\">A</text>\n",
       "  <text fill=\"#0000EE\" x=\"0\" y=\"0\"  transform=\"matrix(0.59,0,0,0.001,0,48.95)\">C</text>\n",
       "  <text fill=\"#DD0000\" x=\"0\" y=\"0\"  transform=\"matrix(0.65,0,0,0.001,-1.5,48.9)\">U</text>\n",
       "  <text fill=\"#F9A500\" x=\"0\" y=\"0\"  transform=\"matrix(0.55,0,0,0.997,0,48.85)\">G</text>\n",
       "  \n",
       "  <text fill=\"#00BB00\" x=\"0\" y=\"0\"  transform=\"matrix(0.53,0,0,0.001,27,49)\">A</text>\n",
       "  <text fill=\"#0000EE\" x=\"0\" y=\"0\"  transform=\"matrix(0.59,0,0,0.001,25,48.95)\">C</text>\n",
       "  <text fill=\"#F9A500\" x=\"0\" y=\"0\"  transform=\"matrix(0.55,0,0,0.167,25,48.9)\">G</text>\n",
       "  <text fill=\"#DD0000\" x=\"0\" y=\"0\"  transform=\"matrix(0.65,0,0,0.831,23.5,40.55)\">U</text>\n",
       "  \n",
       "  <text fill=\"#00BB00\" x=\"0\" y=\"0\"  transform=\"matrix(0.53,0,0,0.001,52,49)\">A</text>\n",
       "  <text fill=\"#DD0000\" x=\"0\" y=\"0\"  transform=\"matrix(0.65,0,0,0.001,48.5,48.95)\">U</text>\n",
       "  <text fill=\"#0000EE\" x=\"0\" y=\"0\"  transform=\"matrix(0.59,0,0,0.064,50,48.9)\">C</text>\n",
       "  <text fill=\"#F9A500\" x=\"0\" y=\"0\"  transform=\"matrix(0.55,0,0,0.934,50,45.7)\">G</text>\n",
       "  \n",
       "  <text fill=\"#00BB00\" x=\"0\" y=\"0\"  transform=\"matrix(0.53,0,0,0.001,77,49)\">A</text>\n",
       "  <text fill=\"#0000EE\" x=\"0\" y=\"0\"  transform=\"matrix(0.59,0,0,0.001,75,48.95)\">C</text>\n",
       "  <text fill=\"#DD0000\" x=\"0\" y=\"0\"  transform=\"matrix(0.65,0,0,0.124,73.5,48.9)\">U</text>\n",
       "  <text fill=\"#F9A500\" x=\"0\" y=\"0\"  transform=\"matrix(0.55,0,0,0.874,75,42.7)\">G</text>\n",
       "  \n",
       "  <text fill=\"#0000EE\" x=\"0\" y=\"0\"  transform=\"matrix(0.59,0,0,0.001,100,49)\">C</text>\n",
       "  <text fill=\"#F9A500\" x=\"0\" y=\"0\"  transform=\"matrix(0.55,0,0,0.001,100,48.95)\">G</text>\n",
       "  <text fill=\"#DD0000\" x=\"0\" y=\"0\"  transform=\"matrix(0.65,0,0,0.001,98.5,48.9)\">U</text>\n",
       "  <text fill=\"#00BB00\" x=\"0\" y=\"0\"  transform=\"matrix(0.53,0,0,0.997,102,48.85)\">A</text>\n",
       "  \n",
       "  <text fill=\"#00BB00\" x=\"0\" y=\"0\"  transform=\"matrix(0.53,0,0,0.001,127,49)\">A</text>\n",
       "  <text fill=\"#0000EE\" x=\"0\" y=\"0\"  transform=\"matrix(0.59,0,0,0.001,125,48.95)\">C</text>\n",
       "  <text fill=\"#DD0000\" x=\"0\" y=\"0\"  transform=\"matrix(0.65,0,0,0.001,123.5,48.9)\">U</text>\n",
       "  <text fill=\"#F9A500\" x=\"0\" y=\"0\"  transform=\"matrix(0.55,0,0,0.997,125,48.85)\">G</text>\n",
       "  \n",
       "  <text fill=\"#00BB00\" x=\"0\" y=\"0\"  transform=\"matrix(0.53,0,0,0.001,152,49)\">A</text>\n",
       "  <text fill=\"#0000EE\" x=\"0\" y=\"0\"  transform=\"matrix(0.59,0,0,0.001,150,48.95)\">C</text>\n",
       "  <text fill=\"#DD0000\" x=\"0\" y=\"0\"  transform=\"matrix(0.65,0,0,0.001,148.5,48.9)\">U</text>\n",
       "  <text fill=\"#F9A500\" x=\"0\" y=\"0\"  transform=\"matrix(0.55,0,0,0.997,150,48.85)\">G</text>\n",
       "  \n",
       "  <text fill=\"#00BB00\" x=\"0\" y=\"0\"  transform=\"matrix(0.53,0,0,0.001,177,49)\">A</text>\n",
       "  <text fill=\"#F9A500\" x=\"0\" y=\"0\"  transform=\"matrix(0.55,0,0,0.001,175,48.95)\">G</text>\n",
       "  <text fill=\"#DD0000\" x=\"0\" y=\"0\"  transform=\"matrix(0.65,0,0,0.001,173.5,48.9)\">U</text>\n",
       "  <text fill=\"#0000EE\" x=\"0\" y=\"0\"  transform=\"matrix(0.59,0,0,0.997,175,48.85)\">C</text>\n",
       "  \n",
       "  <text fill=\"#00BB00\" x=\"0\" y=\"0\"  transform=\"matrix(0.53,0,0,0.001,202,49)\">A</text>\n",
       "  <text fill=\"#F9A500\" x=\"0\" y=\"0\"  transform=\"matrix(0.55,0,0,0.001,200,48.95)\">G</text>\n",
       "  <text fill=\"#DD0000\" x=\"0\" y=\"0\"  transform=\"matrix(0.65,0,0,0.001,198.5,48.9)\">U</text>\n",
       "  <text fill=\"#0000EE\" x=\"0\" y=\"0\"  transform=\"matrix(0.59,0,0,0.997,200,48.85)\">C</text>\n",
       "  \n",
       " </g>\n",
       "</svg>\n",
       "</TD><TD>1e-7</TD><TD>-1.665e+01</TD><TD>1.35%</TD><TD>0.47%</TD><TD>61.8bp (57.1bp)</TD><TD>hsa-miR-1281 MIMAT0005939 Homo sapiens miR-1281 Targets (miRBase)(0.677)<BR/><A target=\"_blank\" HREF=\"homerResults/motif28.info.html\">More Information</A> | <A target=\"blank\" HREF=\"homerResults/motif28.similar.html\">Similar Motifs Found</A></TD><TD><A target=\"_blank\" HREF=\"homerResults/motif28.motif\">motif file (matrix)</A></TD></TR>\n",
       "<TR><TD>29\n",
       "<FONT color=\"red\">*</FONT></TD><TD><svg width=\"205\" height=\"50\">\n",
       " <g font-family=\"Arial\" font-weight=\"bold\" font-size=\"66.5\">\n",
       "  <text fill=\"#00BB00\" x=\"0\" y=\"0\"  transform=\"matrix(0.53,0,0,0.014,2,49)\">A</text>\n",
       "  <text fill=\"#F9A500\" x=\"0\" y=\"0\"  transform=\"matrix(0.55,0,0,0.041,0,48.3)\">G</text>\n",
       "  <text fill=\"#0000EE\" x=\"0\" y=\"0\"  transform=\"matrix(0.59,0,0,0.061,0,46.25)\">C</text>\n",
       "  <text fill=\"#DD0000\" x=\"0\" y=\"0\"  transform=\"matrix(0.65,0,0,0.884,-1.5,43.2)\">U</text>\n",
       "  \n",
       "  <text fill=\"#00BB00\" x=\"0\" y=\"0\"  transform=\"matrix(0.53,0,0,0.041,27,49)\">A</text>\n",
       "  <text fill=\"#DD0000\" x=\"0\" y=\"0\"  transform=\"matrix(0.65,0,0,0.048,23.5,46.95)\">U</text>\n",
       "  <text fill=\"#0000EE\" x=\"0\" y=\"0\"  transform=\"matrix(0.59,0,0,0.096,25,44.55)\">C</text>\n",
       "  <text fill=\"#F9A500\" x=\"0\" y=\"0\"  transform=\"matrix(0.55,0,0,0.815,25,39.75)\">G</text>\n",
       "  \n",
       "  <text fill=\"#00BB00\" x=\"0\" y=\"0\"  transform=\"matrix(0.53,0,0,0.001,52,49)\">A</text>\n",
       "  <text fill=\"#0000EE\" x=\"0\" y=\"0\"  transform=\"matrix(0.59,0,0,0.052,50,48.95)\">C</text>\n",
       "  <text fill=\"#DD0000\" x=\"0\" y=\"0\"  transform=\"matrix(0.65,0,0,0.062,48.5,46.35)\">U</text>\n",
       "  <text fill=\"#F9A500\" x=\"0\" y=\"0\"  transform=\"matrix(0.55,0,0,0.885,50,43.25)\">G</text>\n",
       "  \n",
       "  <text fill=\"#0000EE\" x=\"0\" y=\"0\"  transform=\"matrix(0.59,0,0,0.001,75,49)\">C</text>\n",
       "  <text fill=\"#F9A500\" x=\"0\" y=\"0\"  transform=\"matrix(0.55,0,0,0.001,75,48.95)\">G</text>\n",
       "  <text fill=\"#00BB00\" x=\"0\" y=\"0\"  transform=\"matrix(0.53,0,0,0.023,77,48.9)\">A</text>\n",
       "  <text fill=\"#DD0000\" x=\"0\" y=\"0\"  transform=\"matrix(0.65,0,0,0.975,73.5,47.75)\">U</text>\n",
       "  \n",
       "  <text fill=\"#0000EE\" x=\"0\" y=\"0\"  transform=\"matrix(0.59,0,0,0.073,100,49)\">C</text>\n",
       "  <text fill=\"#DD0000\" x=\"0\" y=\"0\"  transform=\"matrix(0.65,0,0,0.087,98.5,45.35)\">U</text>\n",
       "  <text fill=\"#F9A500\" x=\"0\" y=\"0\"  transform=\"matrix(0.55,0,0,0.181,100,41)\">G</text>\n",
       "  <text fill=\"#00BB00\" x=\"0\" y=\"0\"  transform=\"matrix(0.53,0,0,0.659,102,31.95)\">A</text>\n",
       "  \n",
       "  <text fill=\"#0000EE\" x=\"0\" y=\"0\"  transform=\"matrix(0.59,0,0,0.001,125,49)\">C</text>\n",
       "  <text fill=\"#F9A500\" x=\"0\" y=\"0\"  transform=\"matrix(0.55,0,0,0.022,125,48.95)\">G</text>\n",
       "  <text fill=\"#DD0000\" x=\"0\" y=\"0\"  transform=\"matrix(0.65,0,0,0.081,123.5,47.85)\">U</text>\n",
       "  <text fill=\"#00BB00\" x=\"0\" y=\"0\"  transform=\"matrix(0.53,0,0,0.896,127,43.8)\">A</text>\n",
       "  \n",
       "  <text fill=\"#F9A500\" x=\"0\" y=\"0\"  transform=\"matrix(0.55,0,0,0.001,150,49)\">G</text>\n",
       "  <text fill=\"#DD0000\" x=\"0\" y=\"0\"  transform=\"matrix(0.65,0,0,0.001,148.5,48.95)\">U</text>\n",
       "  <text fill=\"#00BB00\" x=\"0\" y=\"0\"  transform=\"matrix(0.53,0,0,0.019,152,48.9)\">A</text>\n",
       "  <text fill=\"#0000EE\" x=\"0\" y=\"0\"  transform=\"matrix(0.59,0,0,0.979,150,47.95)\">C</text>\n",
       "  \n",
       "  <text fill=\"#00BB00\" x=\"0\" y=\"0\"  transform=\"matrix(0.53,0,0,0.001,177,49)\">A</text>\n",
       "  <text fill=\"#F9A500\" x=\"0\" y=\"0\"  transform=\"matrix(0.55,0,0,0.001,175,48.95)\">G</text>\n",
       "  <text fill=\"#DD0000\" x=\"0\" y=\"0\"  transform=\"matrix(0.65,0,0,0.059,173.5,48.9)\">U</text>\n",
       "  <text fill=\"#0000EE\" x=\"0\" y=\"0\"  transform=\"matrix(0.59,0,0,0.939,175,45.95)\">C</text>\n",
       "  \n",
       " </g>\n",
       "</svg>\n",
       "</TD><TD>1e-6</TD><TD>-1.445e+01</TD><TD>5.39%</TD><TD>3.49%</TD><TD>61.4bp (64.8bp)</TD><TD>hsa-miR-409-5p MIMAT0001638 Homo sapiens miR-409-5p Targets (miRBase)(0.773)<BR/><A target=\"_blank\" HREF=\"homerResults/motif29.info.html\">More Information</A> | <A target=\"blank\" HREF=\"homerResults/motif29.similar.html\">Similar Motifs Found</A></TD><TD><A target=\"_blank\" HREF=\"homerResults/motif29.motif\">motif file (matrix)</A></TD></TR>\n",
       "<TR><TD>30\n",
       "<FONT color=\"red\">*</FONT></TD><TD><svg width=\"155\" height=\"50\">\n",
       " <g font-family=\"Arial\" font-weight=\"bold\" font-size=\"66.5\">\n",
       "  <text fill=\"#00BB00\" x=\"0\" y=\"0\"  transform=\"matrix(0.53,0,0,0.001,2,49)\">A</text>\n",
       "  <text fill=\"#F9A500\" x=\"0\" y=\"0\"  transform=\"matrix(0.55,0,0,0.001,0,48.95)\">G</text>\n",
       "  <text fill=\"#DD0000\" x=\"0\" y=\"0\"  transform=\"matrix(0.65,0,0,0.001,-1.5,48.9)\">U</text>\n",
       "  <text fill=\"#0000EE\" x=\"0\" y=\"0\"  transform=\"matrix(0.59,0,0,0.997,0,48.85)\">C</text>\n",
       "  \n",
       "  <text fill=\"#00BB00\" x=\"0\" y=\"0\"  transform=\"matrix(0.53,0,0,0.001,27,49)\">A</text>\n",
       "  <text fill=\"#0000EE\" x=\"0\" y=\"0\"  transform=\"matrix(0.59,0,0,0.001,25,48.95)\">C</text>\n",
       "  <text fill=\"#DD0000\" x=\"0\" y=\"0\"  transform=\"matrix(0.65,0,0,0.001,23.5,48.9)\">U</text>\n",
       "  <text fill=\"#F9A500\" x=\"0\" y=\"0\"  transform=\"matrix(0.55,0,0,0.997,25,48.85)\">G</text>\n",
       "  \n",
       "  <text fill=\"#0000EE\" x=\"0\" y=\"0\"  transform=\"matrix(0.59,0,0,0.001,50,49)\">C</text>\n",
       "  <text fill=\"#F9A500\" x=\"0\" y=\"0\"  transform=\"matrix(0.55,0,0,0.001,50,48.95)\">G</text>\n",
       "  <text fill=\"#DD0000\" x=\"0\" y=\"0\"  transform=\"matrix(0.65,0,0,0.001,48.5,48.9)\">U</text>\n",
       "  <text fill=\"#00BB00\" x=\"0\" y=\"0\"  transform=\"matrix(0.53,0,0,0.997,52,48.85)\">A</text>\n",
       "  \n",
       "  <text fill=\"#00BB00\" x=\"0\" y=\"0\"  transform=\"matrix(0.53,0,0,0.001,77,49)\">A</text>\n",
       "  <text fill=\"#F9A500\" x=\"0\" y=\"0\"  transform=\"matrix(0.55,0,0,0.001,75,48.95)\">G</text>\n",
       "  <text fill=\"#0000EE\" x=\"0\" y=\"0\"  transform=\"matrix(0.59,0,0,0.354,75,48.9)\">C</text>\n",
       "  <text fill=\"#DD0000\" x=\"0\" y=\"0\"  transform=\"matrix(0.65,0,0,0.644,73.5,31.2)\">U</text>\n",
       "  \n",
       "  <text fill=\"#0000EE\" x=\"0\" y=\"0\"  transform=\"matrix(0.59,0,0,0.001,100,49)\">C</text>\n",
       "  <text fill=\"#F9A500\" x=\"0\" y=\"0\"  transform=\"matrix(0.55,0,0,0.001,100,48.95)\">G</text>\n",
       "  <text fill=\"#DD0000\" x=\"0\" y=\"0\"  transform=\"matrix(0.65,0,0,0.001,98.5,48.9)\">U</text>\n",
       "  <text fill=\"#00BB00\" x=\"0\" y=\"0\"  transform=\"matrix(0.53,0,0,0.997,102,48.85)\">A</text>\n",
       "  \n",
       "  <text fill=\"#00BB00\" x=\"0\" y=\"0\"  transform=\"matrix(0.53,0,0,0.001,127,49)\">A</text>\n",
       "  <text fill=\"#F9A500\" x=\"0\" y=\"0\"  transform=\"matrix(0.55,0,0,0.001,125,48.95)\">G</text>\n",
       "  <text fill=\"#DD0000\" x=\"0\" y=\"0\"  transform=\"matrix(0.65,0,0,0.001,123.5,48.9)\">U</text>\n",
       "  <text fill=\"#0000EE\" x=\"0\" y=\"0\"  transform=\"matrix(0.59,0,0,0.997,125,48.85)\">C</text>\n",
       "  \n",
       " </g>\n",
       "</svg>\n",
       "</TD><TD>1e-6</TD><TD>-1.431e+01</TD><TD>2.62%</TD><TD>1.36%</TD><TD>51.7bp (72.0bp)</TD><TD>hsa-miR-3713 MIMAT0018164 Homo sapiens miR-3713 Targets (miRBase)(0.599)<BR/><A target=\"_blank\" HREF=\"homerResults/motif30.info.html\">More Information</A> | <A target=\"blank\" HREF=\"homerResults/motif30.similar.html\">Similar Motifs Found</A></TD><TD><A target=\"_blank\" HREF=\"homerResults/motif30.motif\">motif file (matrix)</A></TD></TR>\n",
       "<TR><TD>31\n",
       "<FONT color=\"red\">*</FONT></TD><TD><svg width=\"180\" height=\"50\">\n",
       " <g font-family=\"Arial\" font-weight=\"bold\" font-size=\"66.5\">\n",
       "  <text fill=\"#00BB00\" x=\"0\" y=\"0\"  transform=\"matrix(0.53,0,0,0.001,2,49)\">A</text>\n",
       "  <text fill=\"#0000EE\" x=\"0\" y=\"0\"  transform=\"matrix(0.59,0,0,0.001,0,48.95)\">C</text>\n",
       "  <text fill=\"#F9A500\" x=\"0\" y=\"0\"  transform=\"matrix(0.55,0,0,0.001,0,48.9)\">G</text>\n",
       "  <text fill=\"#DD0000\" x=\"0\" y=\"0\"  transform=\"matrix(0.65,0,0,0.997,-1.5,48.85)\">U</text>\n",
       "  \n",
       "  <text fill=\"#00BB00\" x=\"0\" y=\"0\"  transform=\"matrix(0.53,0,0,0.001,27,49)\">A</text>\n",
       "  <text fill=\"#0000EE\" x=\"0\" y=\"0\"  transform=\"matrix(0.59,0,0,0.001,25,48.95)\">C</text>\n",
       "  <text fill=\"#DD0000\" x=\"0\" y=\"0\"  transform=\"matrix(0.65,0,0,0.001,23.5,48.9)\">U</text>\n",
       "  <text fill=\"#F9A500\" x=\"0\" y=\"0\"  transform=\"matrix(0.55,0,0,0.997,25,48.85)\">G</text>\n",
       "  \n",
       "  <text fill=\"#0000EE\" x=\"0\" y=\"0\"  transform=\"matrix(0.59,0,0,0.001,50,49)\">C</text>\n",
       "  <text fill=\"#F9A500\" x=\"0\" y=\"0\"  transform=\"matrix(0.55,0,0,0.001,50,48.95)\">G</text>\n",
       "  <text fill=\"#00BB00\" x=\"0\" y=\"0\"  transform=\"matrix(0.53,0,0,0.332,52,48.9)\">A</text>\n",
       "  <text fill=\"#DD0000\" x=\"0\" y=\"0\"  transform=\"matrix(0.65,0,0,0.666,48.5,32.3)\">U</text>\n",
       "  \n",
       "  <text fill=\"#00BB00\" x=\"0\" y=\"0\"  transform=\"matrix(0.53,0,0,0.001,77,49)\">A</text>\n",
       "  <text fill=\"#0000EE\" x=\"0\" y=\"0\"  transform=\"matrix(0.59,0,0,0.001,75,48.95)\">C</text>\n",
       "  <text fill=\"#F9A500\" x=\"0\" y=\"0\"  transform=\"matrix(0.55,0,0,0.001,75,48.9)\">G</text>\n",
       "  <text fill=\"#DD0000\" x=\"0\" y=\"0\"  transform=\"matrix(0.65,0,0,0.997,73.5,48.85)\">U</text>\n",
       "  \n",
       "  <text fill=\"#0000EE\" x=\"0\" y=\"0\"  transform=\"matrix(0.59,0,0,0.001,100,49)\">C</text>\n",
       "  <text fill=\"#F9A500\" x=\"0\" y=\"0\"  transform=\"matrix(0.55,0,0,0.001,100,48.95)\">G</text>\n",
       "  <text fill=\"#DD0000\" x=\"0\" y=\"0\"  transform=\"matrix(0.65,0,0,0.001,98.5,48.9)\">U</text>\n",
       "  <text fill=\"#00BB00\" x=\"0\" y=\"0\"  transform=\"matrix(0.53,0,0,0.997,102,48.85)\">A</text>\n",
       "  \n",
       "  <text fill=\"#0000EE\" x=\"0\" y=\"0\"  transform=\"matrix(0.59,0,0,0.001,125,49)\">C</text>\n",
       "  <text fill=\"#F9A500\" x=\"0\" y=\"0\"  transform=\"matrix(0.55,0,0,0.001,125,48.95)\">G</text>\n",
       "  <text fill=\"#DD0000\" x=\"0\" y=\"0\"  transform=\"matrix(0.65,0,0,0.001,123.5,48.9)\">U</text>\n",
       "  <text fill=\"#00BB00\" x=\"0\" y=\"0\"  transform=\"matrix(0.53,0,0,0.997,127,48.85)\">A</text>\n",
       "  \n",
       "  <text fill=\"#00BB00\" x=\"0\" y=\"0\"  transform=\"matrix(0.53,0,0,0.001,152,49)\">A</text>\n",
       "  <text fill=\"#0000EE\" x=\"0\" y=\"0\"  transform=\"matrix(0.59,0,0,0.001,150,48.95)\">C</text>\n",
       "  <text fill=\"#F9A500\" x=\"0\" y=\"0\"  transform=\"matrix(0.55,0,0,0.001,150,48.9)\">G</text>\n",
       "  <text fill=\"#DD0000\" x=\"0\" y=\"0\"  transform=\"matrix(0.65,0,0,0.997,148.5,48.85)\">U</text>\n",
       "  \n",
       " </g>\n",
       "</svg>\n",
       "</TD><TD>1e-6</TD><TD>-1.397e+01</TD><TD>4.47%</TD><TD>2.78%</TD><TD>62.1bp (62.1bp)</TD><TD>hsa-miR-302c* MIMAT0000716 Homo sapiens miR-302c* Targets (miRBase)(0.698)<BR/><A target=\"_blank\" HREF=\"homerResults/motif31.info.html\">More Information</A> | <A target=\"blank\" HREF=\"homerResults/motif31.similar.html\">Similar Motifs Found</A></TD><TD><A target=\"_blank\" HREF=\"homerResults/motif31.motif\">motif file (matrix)</A></TD></TR>\n",
       "<TR><TD>32\n",
       "<FONT color=\"red\">*</FONT></TD><TD><svg width=\"180\" height=\"50\">\n",
       " <g font-family=\"Arial\" font-weight=\"bold\" font-size=\"66.5\">\n",
       "  <text fill=\"#00BB00\" x=\"0\" y=\"0\"  transform=\"matrix(0.53,0,0,0.001,2,49)\">A</text>\n",
       "  <text fill=\"#0000EE\" x=\"0\" y=\"0\"  transform=\"matrix(0.59,0,0,0.001,0,48.95)\">C</text>\n",
       "  <text fill=\"#F9A500\" x=\"0\" y=\"0\"  transform=\"matrix(0.55,0,0,0.001,0,48.9)\">G</text>\n",
       "  <text fill=\"#DD0000\" x=\"0\" y=\"0\"  transform=\"matrix(0.65,0,0,0.997,-1.5,48.85)\">U</text>\n",
       "  \n",
       "  <text fill=\"#0000EE\" x=\"0\" y=\"0\"  transform=\"matrix(0.59,0,0,0.001,25,49)\">C</text>\n",
       "  <text fill=\"#DD0000\" x=\"0\" y=\"0\"  transform=\"matrix(0.65,0,0,0.001,23.5,48.95)\">U</text>\n",
       "  <text fill=\"#00BB00\" x=\"0\" y=\"0\"  transform=\"matrix(0.53,0,0,0.102,27,48.9)\">A</text>\n",
       "  <text fill=\"#F9A500\" x=\"0\" y=\"0\"  transform=\"matrix(0.55,0,0,0.896,25,43.8)\">G</text>\n",
       "  \n",
       "  <text fill=\"#F9A500\" x=\"0\" y=\"0\"  transform=\"matrix(0.55,0,0,0.001,50,49)\">G</text>\n",
       "  <text fill=\"#DD0000\" x=\"0\" y=\"0\"  transform=\"matrix(0.65,0,0,0.001,48.5,48.95)\">U</text>\n",
       "  <text fill=\"#00BB00\" x=\"0\" y=\"0\"  transform=\"matrix(0.53,0,0,0.017,52,48.9)\">A</text>\n",
       "  <text fill=\"#0000EE\" x=\"0\" y=\"0\"  transform=\"matrix(0.59,0,0,0.981,50,48.05)\">C</text>\n",
       "  \n",
       "  <text fill=\"#00BB00\" x=\"0\" y=\"0\"  transform=\"matrix(0.53,0,0,0.001,77,49)\">A</text>\n",
       "  <text fill=\"#F9A500\" x=\"0\" y=\"0\"  transform=\"matrix(0.55,0,0,0.001,75,48.95)\">G</text>\n",
       "  <text fill=\"#DD0000\" x=\"0\" y=\"0\"  transform=\"matrix(0.65,0,0,0.001,73.5,48.9)\">U</text>\n",
       "  <text fill=\"#0000EE\" x=\"0\" y=\"0\"  transform=\"matrix(0.59,0,0,0.997,75,48.85)\">C</text>\n",
       "  \n",
       "  <text fill=\"#00BB00\" x=\"0\" y=\"0\"  transform=\"matrix(0.53,0,0,0.001,102,49)\">A</text>\n",
       "  <text fill=\"#F9A500\" x=\"0\" y=\"0\"  transform=\"matrix(0.55,0,0,0.001,100,48.95)\">G</text>\n",
       "  <text fill=\"#DD0000\" x=\"0\" y=\"0\"  transform=\"matrix(0.65,0,0,0.001,98.5,48.9)\">U</text>\n",
       "  <text fill=\"#0000EE\" x=\"0\" y=\"0\"  transform=\"matrix(0.59,0,0,0.997,100,48.85)\">C</text>\n",
       "  \n",
       "  <text fill=\"#00BB00\" x=\"0\" y=\"0\"  transform=\"matrix(0.53,0,0,0.001,127,49)\">A</text>\n",
       "  <text fill=\"#F9A500\" x=\"0\" y=\"0\"  transform=\"matrix(0.55,0,0,0.001,125,48.95)\">G</text>\n",
       "  <text fill=\"#DD0000\" x=\"0\" y=\"0\"  transform=\"matrix(0.65,0,0,0.001,123.5,48.9)\">U</text>\n",
       "  <text fill=\"#0000EE\" x=\"0\" y=\"0\"  transform=\"matrix(0.59,0,0,0.997,125,48.85)\">C</text>\n",
       "  \n",
       "  <text fill=\"#00BB00\" x=\"0\" y=\"0\"  transform=\"matrix(0.53,0,0,0.001,152,49)\">A</text>\n",
       "  <text fill=\"#F9A500\" x=\"0\" y=\"0\"  transform=\"matrix(0.55,0,0,0.001,150,48.95)\">G</text>\n",
       "  <text fill=\"#0000EE\" x=\"0\" y=\"0\"  transform=\"matrix(0.59,0,0,0.081,150,48.9)\">C</text>\n",
       "  <text fill=\"#DD0000\" x=\"0\" y=\"0\"  transform=\"matrix(0.65,0,0,0.917,148.5,44.85)\">U</text>\n",
       "  \n",
       " </g>\n",
       "</svg>\n",
       "</TD><TD>1e-5</TD><TD>-1.367e+01</TD><TD>9.47%</TD><TD>6.98%</TD><TD>56.5bp (61.5bp)</TD><TD>hsa-miR-4688 MIMAT0019777 Homo sapiens miR-4688 Targets (miRBase)(0.860)<BR/><A target=\"_blank\" HREF=\"homerResults/motif32.info.html\">More Information</A> | <A target=\"blank\" HREF=\"homerResults/motif32.similar.html\">Similar Motifs Found</A></TD><TD><A target=\"_blank\" HREF=\"homerResults/motif32.motif\">motif file (matrix)</A></TD></TR>\n",
       "<TR><TD>33\n",
       "<FONT color=\"red\">*</FONT></TD><TD><svg width=\"230\" height=\"50\">\n",
       " <g font-family=\"Arial\" font-weight=\"bold\" font-size=\"66.5\">\n",
       "  <text fill=\"#F9A500\" x=\"0\" y=\"0\"  transform=\"matrix(0.55,0,0,0.001,0,49)\">G</text>\n",
       "  <text fill=\"#DD0000\" x=\"0\" y=\"0\"  transform=\"matrix(0.65,0,0,0.001,-1.5,48.95)\">U</text>\n",
       "  <text fill=\"#0000EE\" x=\"0\" y=\"0\"  transform=\"matrix(0.59,0,0,0.121,0,48.9)\">C</text>\n",
       "  <text fill=\"#00BB00\" x=\"0\" y=\"0\"  transform=\"matrix(0.53,0,0,0.877,2,42.85)\">A</text>\n",
       "  \n",
       "  <text fill=\"#00BB00\" x=\"0\" y=\"0\"  transform=\"matrix(0.53,0,0,0.001,27,49)\">A</text>\n",
       "  <text fill=\"#0000EE\" x=\"0\" y=\"0\"  transform=\"matrix(0.59,0,0,0.001,25,48.95)\">C</text>\n",
       "  <text fill=\"#DD0000\" x=\"0\" y=\"0\"  transform=\"matrix(0.65,0,0,0.001,23.5,48.9)\">U</text>\n",
       "  <text fill=\"#F9A500\" x=\"0\" y=\"0\"  transform=\"matrix(0.55,0,0,0.997,25,48.85)\">G</text>\n",
       "  \n",
       "  <text fill=\"#F9A500\" x=\"0\" y=\"0\"  transform=\"matrix(0.55,0,0,0.001,50,49)\">G</text>\n",
       "  <text fill=\"#DD0000\" x=\"0\" y=\"0\"  transform=\"matrix(0.65,0,0,0.001,48.5,48.95)\">U</text>\n",
       "  <text fill=\"#0000EE\" x=\"0\" y=\"0\"  transform=\"matrix(0.59,0,0,0.045,50,48.9)\">C</text>\n",
       "  <text fill=\"#00BB00\" x=\"0\" y=\"0\"  transform=\"matrix(0.53,0,0,0.953,52,46.65)\">A</text>\n",
       "  \n",
       "  <text fill=\"#00BB00\" x=\"0\" y=\"0\"  transform=\"matrix(0.53,0,0,0.001,77,49)\">A</text>\n",
       "  <text fill=\"#0000EE\" x=\"0\" y=\"0\"  transform=\"matrix(0.59,0,0,0.001,75,48.95)\">C</text>\n",
       "  <text fill=\"#DD0000\" x=\"0\" y=\"0\"  transform=\"matrix(0.65,0,0,0.001,73.5,48.9)\">U</text>\n",
       "  <text fill=\"#F9A500\" x=\"0\" y=\"0\"  transform=\"matrix(0.55,0,0,0.997,75,48.85)\">G</text>\n",
       "  \n",
       "  <text fill=\"#00BB00\" x=\"0\" y=\"0\"  transform=\"matrix(0.53,0,0,0.001,102,49)\">A</text>\n",
       "  <text fill=\"#F9A500\" x=\"0\" y=\"0\"  transform=\"matrix(0.55,0,0,0.001,100,48.95)\">G</text>\n",
       "  <text fill=\"#DD0000\" x=\"0\" y=\"0\"  transform=\"matrix(0.65,0,0,0.001,98.5,48.9)\">U</text>\n",
       "  <text fill=\"#0000EE\" x=\"0\" y=\"0\"  transform=\"matrix(0.59,0,0,0.997,100,48.85)\">C</text>\n",
       "  \n",
       "  <text fill=\"#00BB00\" x=\"0\" y=\"0\"  transform=\"matrix(0.53,0,0,0.001,127,49)\">A</text>\n",
       "  <text fill=\"#F9A500\" x=\"0\" y=\"0\"  transform=\"matrix(0.55,0,0,0.001,125,48.95)\">G</text>\n",
       "  <text fill=\"#DD0000\" x=\"0\" y=\"0\"  transform=\"matrix(0.65,0,0,0.001,123.5,48.9)\">U</text>\n",
       "  <text fill=\"#0000EE\" x=\"0\" y=\"0\"  transform=\"matrix(0.59,0,0,0.997,125,48.85)\">C</text>\n",
       "  \n",
       "  <text fill=\"#0000EE\" x=\"0\" y=\"0\"  transform=\"matrix(0.59,0,0,0.001,150,49)\">C</text>\n",
       "  <text fill=\"#DD0000\" x=\"0\" y=\"0\"  transform=\"matrix(0.65,0,0,0.001,148.5,48.95)\">U</text>\n",
       "  <text fill=\"#F9A500\" x=\"0\" y=\"0\"  transform=\"matrix(0.55,0,0,0.158,150,48.9)\">G</text>\n",
       "  <text fill=\"#00BB00\" x=\"0\" y=\"0\"  transform=\"matrix(0.53,0,0,0.840,152,41)\">A</text>\n",
       "  \n",
       "  <text fill=\"#00BB00\" x=\"0\" y=\"0\"  transform=\"matrix(0.53,0,0,0.001,177,49)\">A</text>\n",
       "  <text fill=\"#F9A500\" x=\"0\" y=\"0\"  transform=\"matrix(0.55,0,0,0.001,175,48.95)\">G</text>\n",
       "  <text fill=\"#DD0000\" x=\"0\" y=\"0\"  transform=\"matrix(0.65,0,0,0.001,173.5,48.9)\">U</text>\n",
       "  <text fill=\"#0000EE\" x=\"0\" y=\"0\"  transform=\"matrix(0.59,0,0,0.997,175,48.85)\">C</text>\n",
       "  \n",
       "  <text fill=\"#00BB00\" x=\"0\" y=\"0\"  transform=\"matrix(0.53,0,0,0.001,202,49)\">A</text>\n",
       "  <text fill=\"#F9A500\" x=\"0\" y=\"0\"  transform=\"matrix(0.55,0,0,0.001,200,48.95)\">G</text>\n",
       "  <text fill=\"#DD0000\" x=\"0\" y=\"0\"  transform=\"matrix(0.65,0,0,0.001,198.5,48.9)\">U</text>\n",
       "  <text fill=\"#0000EE\" x=\"0\" y=\"0\"  transform=\"matrix(0.59,0,0,0.997,200,48.85)\">C</text>\n",
       "  \n",
       " </g>\n",
       "</svg>\n",
       "</TD><TD>1e-5</TD><TD>-1.347e+01</TD><TD>0.77%</TD><TD>0.21%</TD><TD>54.6bp (59.1bp)</TD><TD>hsa-miR-760 MIMAT0004957 Homo sapiens miR-760 Targets (miRBase)(0.662)<BR/><A target=\"_blank\" HREF=\"homerResults/motif33.info.html\">More Information</A> | <A target=\"blank\" HREF=\"homerResults/motif33.similar.html\">Similar Motifs Found</A></TD><TD><A target=\"_blank\" HREF=\"homerResults/motif33.motif\">motif file (matrix)</A></TD></TR>\n",
       "<TR><TD>34\n",
       "<FONT color=\"red\">*</FONT></TD><TD><svg width=\"230\" height=\"50\">\n",
       " <g font-family=\"Arial\" font-weight=\"bold\" font-size=\"66.5\">\n",
       "  <text fill=\"#00BB00\" x=\"0\" y=\"0\"  transform=\"matrix(0.53,0,0,0.100,2,49)\">A</text>\n",
       "  <text fill=\"#0000EE\" x=\"0\" y=\"0\"  transform=\"matrix(0.59,0,0,0.100,0,44)\">C</text>\n",
       "  <text fill=\"#DD0000\" x=\"0\" y=\"0\"  transform=\"matrix(0.65,0,0,0.100,-1.5,39)\">U</text>\n",
       "  <text fill=\"#F9A500\" x=\"0\" y=\"0\"  transform=\"matrix(0.55,0,0,0.700,0,34)\">G</text>\n",
       "  \n",
       "  <text fill=\"#00BB00\" x=\"0\" y=\"0\"  transform=\"matrix(0.53,0,0,0.100,27,49)\">A</text>\n",
       "  <text fill=\"#0000EE\" x=\"0\" y=\"0\"  transform=\"matrix(0.59,0,0,0.100,25,44)\">C</text>\n",
       "  <text fill=\"#DD0000\" x=\"0\" y=\"0\"  transform=\"matrix(0.65,0,0,0.100,23.5,39)\">U</text>\n",
       "  <text fill=\"#F9A500\" x=\"0\" y=\"0\"  transform=\"matrix(0.55,0,0,0.700,25,34)\">G</text>\n",
       "  \n",
       "  <text fill=\"#00BB00\" x=\"0\" y=\"0\"  transform=\"matrix(0.53,0,0,0.100,52,49)\">A</text>\n",
       "  <text fill=\"#F9A500\" x=\"0\" y=\"0\"  transform=\"matrix(0.55,0,0,0.100,50,44)\">G</text>\n",
       "  <text fill=\"#DD0000\" x=\"0\" y=\"0\"  transform=\"matrix(0.65,0,0,0.100,48.5,39)\">U</text>\n",
       "  <text fill=\"#0000EE\" x=\"0\" y=\"0\"  transform=\"matrix(0.59,0,0,0.700,50,34)\">C</text>\n",
       "  \n",
       "  <text fill=\"#00BB00\" x=\"0\" y=\"0\"  transform=\"matrix(0.53,0,0,0.100,77,49)\">A</text>\n",
       "  <text fill=\"#0000EE\" x=\"0\" y=\"0\"  transform=\"matrix(0.59,0,0,0.100,75,44)\">C</text>\n",
       "  <text fill=\"#F9A500\" x=\"0\" y=\"0\"  transform=\"matrix(0.55,0,0,0.100,75,39)\">G</text>\n",
       "  <text fill=\"#DD0000\" x=\"0\" y=\"0\"  transform=\"matrix(0.65,0,0,0.700,73.5,34)\">U</text>\n",
       "  \n",
       "  <text fill=\"#0000EE\" x=\"0\" y=\"0\"  transform=\"matrix(0.59,0,0,0.100,100,49)\">C</text>\n",
       "  <text fill=\"#F9A500\" x=\"0\" y=\"0\"  transform=\"matrix(0.55,0,0,0.100,100,44)\">G</text>\n",
       "  <text fill=\"#DD0000\" x=\"0\" y=\"0\"  transform=\"matrix(0.65,0,0,0.100,98.5,39)\">U</text>\n",
       "  <text fill=\"#00BB00\" x=\"0\" y=\"0\"  transform=\"matrix(0.53,0,0,0.700,102,34)\">A</text>\n",
       "  \n",
       "  <text fill=\"#0000EE\" x=\"0\" y=\"0\"  transform=\"matrix(0.59,0,0,0.100,125,49)\">C</text>\n",
       "  <text fill=\"#F9A500\" x=\"0\" y=\"0\"  transform=\"matrix(0.55,0,0,0.100,125,44)\">G</text>\n",
       "  <text fill=\"#DD0000\" x=\"0\" y=\"0\"  transform=\"matrix(0.65,0,0,0.100,123.5,39)\">U</text>\n",
       "  <text fill=\"#00BB00\" x=\"0\" y=\"0\"  transform=\"matrix(0.53,0,0,0.700,127,34)\">A</text>\n",
       "  \n",
       "  <text fill=\"#00BB00\" x=\"0\" y=\"0\"  transform=\"matrix(0.53,0,0,0.100,152,49)\">A</text>\n",
       "  <text fill=\"#0000EE\" x=\"0\" y=\"0\"  transform=\"matrix(0.59,0,0,0.100,150,44)\">C</text>\n",
       "  <text fill=\"#DD0000\" x=\"0\" y=\"0\"  transform=\"matrix(0.65,0,0,0.100,148.5,39)\">U</text>\n",
       "  <text fill=\"#F9A500\" x=\"0\" y=\"0\"  transform=\"matrix(0.55,0,0,0.700,150,34)\">G</text>\n",
       "  \n",
       "  <text fill=\"#0000EE\" x=\"0\" y=\"0\"  transform=\"matrix(0.59,0,0,0.100,175,49)\">C</text>\n",
       "  <text fill=\"#F9A500\" x=\"0\" y=\"0\"  transform=\"matrix(0.55,0,0,0.100,175,44)\">G</text>\n",
       "  <text fill=\"#DD0000\" x=\"0\" y=\"0\"  transform=\"matrix(0.65,0,0,0.100,173.5,39)\">U</text>\n",
       "  <text fill=\"#00BB00\" x=\"0\" y=\"0\"  transform=\"matrix(0.53,0,0,0.700,177,34)\">A</text>\n",
       "  \n",
       "  <text fill=\"#00BB00\" x=\"0\" y=\"0\"  transform=\"matrix(0.53,0,0,0.100,202,49)\">A</text>\n",
       "  <text fill=\"#0000EE\" x=\"0\" y=\"0\"  transform=\"matrix(0.59,0,0,0.100,200,44)\">C</text>\n",
       "  <text fill=\"#F9A500\" x=\"0\" y=\"0\"  transform=\"matrix(0.55,0,0,0.100,200,39)\">G</text>\n",
       "  <text fill=\"#DD0000\" x=\"0\" y=\"0\"  transform=\"matrix(0.65,0,0,0.700,198.5,34)\">U</text>\n",
       "  \n",
       " </g>\n",
       "</svg>\n",
       "</TD><TD>1e-5</TD><TD>-1.204e+01</TD><TD>0.31%</TD><TD>0.04%</TD><TD>12.3bp (66.1bp)</TD><TD>hsa-miR-103b MIMAT0007402 Homo sapiens miR-103b Targets (miRBase)(0.654)<BR/><A target=\"_blank\" HREF=\"homerResults/motif34.info.html\">More Information</A> | <A target=\"blank\" HREF=\"homerResults/motif34.similar.html\">Similar Motifs Found</A></TD><TD><A target=\"_blank\" HREF=\"homerResults/motif34.motif\">motif file (matrix)</A></TD></TR>\n",
       "<TR><TD>35\n",
       "<FONT color=\"red\">*</FONT></TD><TD><svg width=\"180\" height=\"50\">\n",
       " <g font-family=\"Arial\" font-weight=\"bold\" font-size=\"66.5\">\n",
       "  <text fill=\"#00BB00\" x=\"0\" y=\"0\"  transform=\"matrix(0.53,0,0,0.001,2,49)\">A</text>\n",
       "  <text fill=\"#F9A500\" x=\"0\" y=\"0\"  transform=\"matrix(0.55,0,0,0.001,0,48.95)\">G</text>\n",
       "  <text fill=\"#DD0000\" x=\"0\" y=\"0\"  transform=\"matrix(0.65,0,0,0.001,-1.5,48.9)\">U</text>\n",
       "  <text fill=\"#0000EE\" x=\"0\" y=\"0\"  transform=\"matrix(0.59,0,0,0.997,0,48.85)\">C</text>\n",
       "  \n",
       "  <text fill=\"#00BB00\" x=\"0\" y=\"0\"  transform=\"matrix(0.53,0,0,0.001,27,49)\">A</text>\n",
       "  <text fill=\"#0000EE\" x=\"0\" y=\"0\"  transform=\"matrix(0.59,0,0,0.001,25,48.95)\">C</text>\n",
       "  <text fill=\"#F9A500\" x=\"0\" y=\"0\"  transform=\"matrix(0.55,0,0,0.079,25,48.9)\">G</text>\n",
       "  <text fill=\"#DD0000\" x=\"0\" y=\"0\"  transform=\"matrix(0.65,0,0,0.919,23.5,44.95)\">U</text>\n",
       "  \n",
       "  <text fill=\"#00BB00\" x=\"0\" y=\"0\"  transform=\"matrix(0.53,0,0,0.001,52,49)\">A</text>\n",
       "  <text fill=\"#0000EE\" x=\"0\" y=\"0\"  transform=\"matrix(0.59,0,0,0.001,50,48.95)\">C</text>\n",
       "  <text fill=\"#F9A500\" x=\"0\" y=\"0\"  transform=\"matrix(0.55,0,0,0.001,50,48.9)\">G</text>\n",
       "  <text fill=\"#DD0000\" x=\"0\" y=\"0\"  transform=\"matrix(0.65,0,0,0.997,48.5,48.85)\">U</text>\n",
       "  \n",
       "  <text fill=\"#0000EE\" x=\"0\" y=\"0\"  transform=\"matrix(0.59,0,0,0.001,75,49)\">C</text>\n",
       "  <text fill=\"#DD0000\" x=\"0\" y=\"0\"  transform=\"matrix(0.65,0,0,0.001,73.5,48.95)\">U</text>\n",
       "  <text fill=\"#F9A500\" x=\"0\" y=\"0\"  transform=\"matrix(0.55,0,0,0.123,75,48.9)\">G</text>\n",
       "  <text fill=\"#00BB00\" x=\"0\" y=\"0\"  transform=\"matrix(0.53,0,0,0.875,77,42.75)\">A</text>\n",
       "  \n",
       "  <text fill=\"#0000EE\" x=\"0\" y=\"0\"  transform=\"matrix(0.59,0,0,0.001,100,49)\">C</text>\n",
       "  <text fill=\"#F9A500\" x=\"0\" y=\"0\"  transform=\"matrix(0.55,0,0,0.001,100,48.95)\">G</text>\n",
       "  <text fill=\"#DD0000\" x=\"0\" y=\"0\"  transform=\"matrix(0.65,0,0,0.342,98.5,48.9)\">U</text>\n",
       "  <text fill=\"#00BB00\" x=\"0\" y=\"0\"  transform=\"matrix(0.53,0,0,0.656,102,31.8)\">A</text>\n",
       "  \n",
       "  <text fill=\"#00BB00\" x=\"0\" y=\"0\"  transform=\"matrix(0.53,0,0,0.001,127,49)\">A</text>\n",
       "  <text fill=\"#0000EE\" x=\"0\" y=\"0\"  transform=\"matrix(0.59,0,0,0.001,125,48.95)\">C</text>\n",
       "  <text fill=\"#F9A500\" x=\"0\" y=\"0\"  transform=\"matrix(0.55,0,0,0.001,125,48.9)\">G</text>\n",
       "  <text fill=\"#DD0000\" x=\"0\" y=\"0\"  transform=\"matrix(0.65,0,0,0.997,123.5,48.85)\">U</text>\n",
       "  \n",
       "  <text fill=\"#00BB00\" x=\"0\" y=\"0\"  transform=\"matrix(0.53,0,0,0.001,152,49)\">A</text>\n",
       "  <text fill=\"#0000EE\" x=\"0\" y=\"0\"  transform=\"matrix(0.59,0,0,0.001,150,48.95)\">C</text>\n",
       "  <text fill=\"#F9A500\" x=\"0\" y=\"0\"  transform=\"matrix(0.55,0,0,0.204,150,48.9)\">G</text>\n",
       "  <text fill=\"#DD0000\" x=\"0\" y=\"0\"  transform=\"matrix(0.65,0,0,0.794,148.5,38.7)\">U</text>\n",
       "  \n",
       " </g>\n",
       "</svg>\n",
       "</TD><TD>1e-4</TD><TD>-1.040e+01</TD><TD>11.32%</TD><TD>8.98%</TD><TD>61.7bp (60.4bp)</TD><TD>hsa-miR-4477a MIMAT0019004 Homo sapiens miR-4477a Targets (miRBase)(0.687)<BR/><A target=\"_blank\" HREF=\"homerResults/motif35.info.html\">More Information</A> | <A target=\"blank\" HREF=\"homerResults/motif35.similar.html\">Similar Motifs Found</A></TD><TD><A target=\"_blank\" HREF=\"homerResults/motif35.motif\">motif file (matrix)</A></TD></TR>\n",
       "<TR><TD>36\n",
       "<FONT color=\"red\">*</FONT></TD><TD><svg width=\"205\" height=\"50\">\n",
       " <g font-family=\"Arial\" font-weight=\"bold\" font-size=\"66.5\">\n",
       "  <text fill=\"#00BB00\" x=\"0\" y=\"0\"  transform=\"matrix(0.53,0,0,0.001,2,49)\">A</text>\n",
       "  <text fill=\"#0000EE\" x=\"0\" y=\"0\"  transform=\"matrix(0.59,0,0,0.001,0,48.95)\">C</text>\n",
       "  <text fill=\"#F9A500\" x=\"0\" y=\"0\"  transform=\"matrix(0.55,0,0,0.001,0,48.9)\">G</text>\n",
       "  <text fill=\"#DD0000\" x=\"0\" y=\"0\"  transform=\"matrix(0.65,0,0,0.997,-1.5,48.85)\">U</text>\n",
       "  \n",
       "  <text fill=\"#00BB00\" x=\"0\" y=\"0\"  transform=\"matrix(0.53,0,0,0.001,27,49)\">A</text>\n",
       "  <text fill=\"#0000EE\" x=\"0\" y=\"0\"  transform=\"matrix(0.59,0,0,0.001,25,48.95)\">C</text>\n",
       "  <text fill=\"#F9A500\" x=\"0\" y=\"0\"  transform=\"matrix(0.55,0,0,0.001,25,48.9)\">G</text>\n",
       "  <text fill=\"#DD0000\" x=\"0\" y=\"0\"  transform=\"matrix(0.65,0,0,0.997,23.5,48.85)\">U</text>\n",
       "  \n",
       "  <text fill=\"#0000EE\" x=\"0\" y=\"0\"  transform=\"matrix(0.59,0,0,0.001,50,49)\">C</text>\n",
       "  <text fill=\"#F9A500\" x=\"0\" y=\"0\"  transform=\"matrix(0.55,0,0,0.001,50,48.95)\">G</text>\n",
       "  <text fill=\"#DD0000\" x=\"0\" y=\"0\"  transform=\"matrix(0.65,0,0,0.001,48.5,48.9)\">U</text>\n",
       "  <text fill=\"#00BB00\" x=\"0\" y=\"0\"  transform=\"matrix(0.53,0,0,0.997,52,48.85)\">A</text>\n",
       "  \n",
       "  <text fill=\"#00BB00\" x=\"0\" y=\"0\"  transform=\"matrix(0.53,0,0,0.001,77,49)\">A</text>\n",
       "  <text fill=\"#0000EE\" x=\"0\" y=\"0\"  transform=\"matrix(0.59,0,0,0.001,75,48.95)\">C</text>\n",
       "  <text fill=\"#DD0000\" x=\"0\" y=\"0\"  transform=\"matrix(0.65,0,0,0.001,73.5,48.9)\">U</text>\n",
       "  <text fill=\"#F9A500\" x=\"0\" y=\"0\"  transform=\"matrix(0.55,0,0,0.997,75,48.85)\">G</text>\n",
       "  \n",
       "  <text fill=\"#00BB00\" x=\"0\" y=\"0\"  transform=\"matrix(0.53,0,0,0.001,102,49)\">A</text>\n",
       "  <text fill=\"#F9A500\" x=\"0\" y=\"0\"  transform=\"matrix(0.55,0,0,0.001,100,48.95)\">G</text>\n",
       "  <text fill=\"#DD0000\" x=\"0\" y=\"0\"  transform=\"matrix(0.65,0,0,0.001,98.5,48.9)\">U</text>\n",
       "  <text fill=\"#0000EE\" x=\"0\" y=\"0\"  transform=\"matrix(0.59,0,0,0.997,100,48.85)\">C</text>\n",
       "  \n",
       "  <text fill=\"#00BB00\" x=\"0\" y=\"0\"  transform=\"matrix(0.53,0,0,0.001,127,49)\">A</text>\n",
       "  <text fill=\"#0000EE\" x=\"0\" y=\"0\"  transform=\"matrix(0.59,0,0,0.001,125,48.95)\">C</text>\n",
       "  <text fill=\"#DD0000\" x=\"0\" y=\"0\"  transform=\"matrix(0.65,0,0,0.001,123.5,48.9)\">U</text>\n",
       "  <text fill=\"#F9A500\" x=\"0\" y=\"0\"  transform=\"matrix(0.55,0,0,0.997,125,48.85)\">G</text>\n",
       "  \n",
       "  <text fill=\"#F9A500\" x=\"0\" y=\"0\"  transform=\"matrix(0.55,0,0,0.001,150,49)\">G</text>\n",
       "  <text fill=\"#DD0000\" x=\"0\" y=\"0\"  transform=\"matrix(0.65,0,0,0.001,148.5,48.95)\">U</text>\n",
       "  <text fill=\"#0000EE\" x=\"0\" y=\"0\"  transform=\"matrix(0.59,0,0,0.217,150,48.9)\">C</text>\n",
       "  <text fill=\"#00BB00\" x=\"0\" y=\"0\"  transform=\"matrix(0.53,0,0,0.781,152,38.05)\">A</text>\n",
       "  \n",
       "  <text fill=\"#00BB00\" x=\"0\" y=\"0\"  transform=\"matrix(0.53,0,0,0.001,177,49)\">A</text>\n",
       "  <text fill=\"#0000EE\" x=\"0\" y=\"0\"  transform=\"matrix(0.59,0,0,0.001,175,48.95)\">C</text>\n",
       "  <text fill=\"#DD0000\" x=\"0\" y=\"0\"  transform=\"matrix(0.65,0,0,0.001,173.5,48.9)\">U</text>\n",
       "  <text fill=\"#F9A500\" x=\"0\" y=\"0\"  transform=\"matrix(0.55,0,0,0.997,175,48.85)\">G</text>\n",
       "  \n",
       " </g>\n",
       "</svg>\n",
       "</TD><TD>1e-4</TD><TD>-9.828e+00</TD><TD>0.23%</TD><TD>0.03%</TD><TD>40.6bp (44.6bp)</TD><TD>hsa-miR-720 MIMAT0005954 Homo sapiens miR-720 Targets (miRBase)(0.650)<BR/><A target=\"_blank\" HREF=\"homerResults/motif36.info.html\">More Information</A> | <A target=\"blank\" HREF=\"homerResults/motif36.similar.html\">Similar Motifs Found</A></TD><TD><A target=\"_blank\" HREF=\"homerResults/motif36.motif\">motif file (matrix)</A></TD></TR>\n",
       "<TR><TD>37\n",
       "<FONT color=\"red\">*</FONT></TD><TD><svg width=\"205\" height=\"50\">\n",
       " <g font-family=\"Arial\" font-weight=\"bold\" font-size=\"66.5\">\n",
       "  <text fill=\"#0000EE\" x=\"0\" y=\"0\"  transform=\"matrix(0.59,0,0,0.100,0,49)\">C</text>\n",
       "  <text fill=\"#F9A500\" x=\"0\" y=\"0\"  transform=\"matrix(0.55,0,0,0.100,0,44)\">G</text>\n",
       "  <text fill=\"#DD0000\" x=\"0\" y=\"0\"  transform=\"matrix(0.65,0,0,0.100,-1.5,39)\">U</text>\n",
       "  <text fill=\"#00BB00\" x=\"0\" y=\"0\"  transform=\"matrix(0.53,0,0,0.700,2,34)\">A</text>\n",
       "  \n",
       "  <text fill=\"#0000EE\" x=\"0\" y=\"0\"  transform=\"matrix(0.59,0,0,0.100,25,49)\">C</text>\n",
       "  <text fill=\"#F9A500\" x=\"0\" y=\"0\"  transform=\"matrix(0.55,0,0,0.100,25,44)\">G</text>\n",
       "  <text fill=\"#DD0000\" x=\"0\" y=\"0\"  transform=\"matrix(0.65,0,0,0.100,23.5,39)\">U</text>\n",
       "  <text fill=\"#00BB00\" x=\"0\" y=\"0\"  transform=\"matrix(0.53,0,0,0.700,27,34)\">A</text>\n",
       "  \n",
       "  <text fill=\"#00BB00\" x=\"0\" y=\"0\"  transform=\"matrix(0.53,0,0,0.100,52,49)\">A</text>\n",
       "  <text fill=\"#F9A500\" x=\"0\" y=\"0\"  transform=\"matrix(0.55,0,0,0.100,50,44)\">G</text>\n",
       "  <text fill=\"#DD0000\" x=\"0\" y=\"0\"  transform=\"matrix(0.65,0,0,0.100,48.5,39)\">U</text>\n",
       "  <text fill=\"#0000EE\" x=\"0\" y=\"0\"  transform=\"matrix(0.59,0,0,0.700,50,34)\">C</text>\n",
       "  \n",
       "  <text fill=\"#00BB00\" x=\"0\" y=\"0\"  transform=\"matrix(0.53,0,0,0.100,77,49)\">A</text>\n",
       "  <text fill=\"#F9A500\" x=\"0\" y=\"0\"  transform=\"matrix(0.55,0,0,0.100,75,44)\">G</text>\n",
       "  <text fill=\"#DD0000\" x=\"0\" y=\"0\"  transform=\"matrix(0.65,0,0,0.100,73.5,39)\">U</text>\n",
       "  <text fill=\"#0000EE\" x=\"0\" y=\"0\"  transform=\"matrix(0.59,0,0,0.700,75,34)\">C</text>\n",
       "  \n",
       "  <text fill=\"#00BB00\" x=\"0\" y=\"0\"  transform=\"matrix(0.53,0,0,0.100,102,49)\">A</text>\n",
       "  <text fill=\"#F9A500\" x=\"0\" y=\"0\"  transform=\"matrix(0.55,0,0,0.100,100,44)\">G</text>\n",
       "  <text fill=\"#DD0000\" x=\"0\" y=\"0\"  transform=\"matrix(0.65,0,0,0.100,98.5,39)\">U</text>\n",
       "  <text fill=\"#0000EE\" x=\"0\" y=\"0\"  transform=\"matrix(0.59,0,0,0.700,100,34)\">C</text>\n",
       "  \n",
       "  <text fill=\"#00BB00\" x=\"0\" y=\"0\"  transform=\"matrix(0.53,0,0,0.100,127,49)\">A</text>\n",
       "  <text fill=\"#0000EE\" x=\"0\" y=\"0\"  transform=\"matrix(0.59,0,0,0.100,125,44)\">C</text>\n",
       "  <text fill=\"#F9A500\" x=\"0\" y=\"0\"  transform=\"matrix(0.55,0,0,0.100,125,39)\">G</text>\n",
       "  <text fill=\"#DD0000\" x=\"0\" y=\"0\"  transform=\"matrix(0.65,0,0,0.700,123.5,34)\">U</text>\n",
       "  \n",
       "  <text fill=\"#0000EE\" x=\"0\" y=\"0\"  transform=\"matrix(0.59,0,0,0.100,150,49)\">C</text>\n",
       "  <text fill=\"#F9A500\" x=\"0\" y=\"0\"  transform=\"matrix(0.55,0,0,0.100,150,44)\">G</text>\n",
       "  <text fill=\"#DD0000\" x=\"0\" y=\"0\"  transform=\"matrix(0.65,0,0,0.100,148.5,39)\">U</text>\n",
       "  <text fill=\"#00BB00\" x=\"0\" y=\"0\"  transform=\"matrix(0.53,0,0,0.700,152,34)\">A</text>\n",
       "  \n",
       "  <text fill=\"#0000EE\" x=\"0\" y=\"0\"  transform=\"matrix(0.59,0,0,0.100,175,49)\">C</text>\n",
       "  <text fill=\"#F9A500\" x=\"0\" y=\"0\"  transform=\"matrix(0.55,0,0,0.100,175,44)\">G</text>\n",
       "  <text fill=\"#DD0000\" x=\"0\" y=\"0\"  transform=\"matrix(0.65,0,0,0.100,173.5,39)\">U</text>\n",
       "  <text fill=\"#00BB00\" x=\"0\" y=\"0\"  transform=\"matrix(0.53,0,0,0.700,177,34)\">A</text>\n",
       "  \n",
       " </g>\n",
       "</svg>\n",
       "</TD><TD>1e-2</TD><TD>-6.523e+00</TD><TD>98.00%</TD><TD>97.04%</TD><TD>55.5bp (63.3bp)</TD><TD>hsa-miR-584 MIMAT0003249 Homo sapiens miR-584 Targets (miRBase)(0.699)<BR/><A target=\"_blank\" HREF=\"homerResults/motif37.info.html\">More Information</A> | <A target=\"blank\" HREF=\"homerResults/motif37.similar.html\">Similar Motifs Found</A></TD><TD><A target=\"_blank\" HREF=\"homerResults/motif37.motif\">motif file (matrix)</A></TD></TR>\n",
       "</TABLE>\n",
       "<P></P>\n",
       "</BODY></HTML>\n"
      ],
      "text/plain": [
       "<IPython.core.display.HTML object>"
      ]
     },
     "execution_count": 727,
     "metadata": {},
     "output_type": "execute_result"
    }
   ],
   "source": [
    "from IPython.display import HTML\n",
    "HTML(filename=out_path/\"homerResults.html\")"
   ]
  },
  {
   "cell_type": "code",
   "execution_count": null,
   "id": "aabbe1e4-9117-4f77-ad88-275e25757124",
   "metadata": {},
   "outputs": [],
   "source": []
  },
  {
   "cell_type": "code",
   "execution_count": null,
   "id": "ec8f3b4f-3c53-46f3-aa75-0df42384b7ee",
   "metadata": {},
   "outputs": [],
   "source": []
  }
 ],
 "metadata": {
  "kernelspec": {
   "display_name": "Python 3 (ipykernel)",
   "language": "python",
   "name": "python3"
  },
  "language_info": {
   "codemirror_mode": {
    "name": "ipython",
    "version": 3
   },
   "file_extension": ".py",
   "mimetype": "text/x-python",
   "name": "python",
   "nbconvert_exporter": "python",
   "pygments_lexer": "ipython3",
   "version": "3.10.8"
  }
 },
 "nbformat": 4,
 "nbformat_minor": 5
}
