{
 "cells": [
  {
   "cell_type": "markdown",
   "id": "2048b07b-a46c-4b35-ac4e-9ee57e3a9712",
   "metadata": {},
   "source": [
    "#### Template"
   ]
  },
  {
   "cell_type": "markdown",
   "id": "a7555539-391a-450c-96f0-57b46bdeb902",
   "metadata": {},
   "source": [
    "**This Notebook is part of a Github Repository Template defining a Project File Structure.** [See README.md](../README.md)"
   ]
  },
  {
   "cell_type": "markdown",
   "id": "1336fe2c",
   "metadata": {},
   "source": [
    "# UBS-seq Pipeline\n",
    "## Basic Workflow"
   ]
  },
  {
   "cell_type": "markdown",
   "id": "f4f9191a",
   "metadata": {},
   "source": [
    "**C. Bryan Daniels**\n",
    "\n",
    "**4/2/24**"
   ]
  },
  {
   "cell_type": "markdown",
   "id": "1153fdea-42ab-4a16-9376-aae40c035695",
   "metadata": {},
   "source": [
    "## Project: UBS-seq Basic Pipeline"
   ]
  },
  {
   "cell_type": "markdown",
   "id": "e1999833",
   "metadata": {},
   "source": [
    "The purpose of this project is run a minimally viable UBS-seq pipline. For simplicity, it will run several single-end samples, mapping only to the genome. The core steps of the pipeline are:\n",
    "\n",
    "- select_samples\n",
    "- fastqc_pre\n",
    "- join_pe\n",
    "- trim\n",
    "- fastqc_post\n",
    "- map_se\n",
    "- merge_se_runs\n",
    "- dedup\n",
    "- call_converted\n",
    "- call_filtered_converted\n",
    "- calc_methy\n",
    "- analysis_and_annotation\n",
    "\n",
    "This pipeline is based upon the paper by [Qing Dai, etal](https://doi.org/10.1038/s41587-023-02034-w) and the UBS-seq pipeline developed by [Chang Ye](https://github.com/y9c/m5C-UBSseq)\n",
    "\n"
   ]
  },
  {
   "cell_type": "markdown",
   "id": "db5933a4-a627-451d-abe7-7e68204c1d47",
   "metadata": {},
   "source": [
    "## Setup"
   ]
  },
  {
   "cell_type": "markdown",
   "id": "fd477b9e-5c7d-4c3c-8125-89644f367a8d",
   "metadata": {
    "jp-MarkdownHeadingCollapsed": true
   },
   "source": [
    "#### The logic for the Pipeline is defined through a series of Steps using dirs to save intermediate results\n",
    "1. For each **Step** in the pipeline a dir will be created and labeled **Step** and will contain all files created by that **Step**\n",
    "2. Within a **Step**, **in_path** and **out_path** will generically refer to the prior and current **Step**\n",
    "3. Within each **Step**, the appropriate processes will occur. Generally this involves processing files from **in_path** and saving to **out_path**\n",
    "4. **Abbreviated filenames** should not change through the pipeline (suffixes will reflect current file formats). The dir name should reflect the **Step**, not the filename.\n",
    "6. The function **mkpath(step)** returns a path for a dir **Step**. It will create a dir if need be, but not overwrite an existing dir\n",
    "8. The function **fname(path,sample,suffix)** returns a file name without actually creating the file"
   ]
  },
  {
   "cell_type": "markdown",
   "id": "0852de28-a1f7-4239-a50a-5cba49c7fe72",
   "metadata": {},
   "source": [
    "#### Convert Notebook to Script to Execute from the Command Line"
   ]
  },
  {
   "cell_type": "markdown",
   "id": "f75effe5-1019-43bb-a7fa-43e960656b1b",
   "metadata": {},
   "source": [
    "```\n",
    "# cd workplace/\n",
    "# juptyer nbconvert ubs_basic.ipynb --to script\n",
    "# ipython ubs_basic.py\n",
    "```"
   ]
  },
  {
   "cell_type": "markdown",
   "id": "13e28624-07ae-4a54-ba80-dfde893059bc",
   "metadata": {},
   "source": [
    "### Environment"
   ]
  },
  {
   "cell_type": "code",
   "execution_count": 1,
   "id": "41e148d2",
   "metadata": {},
   "outputs": [],
   "source": [
    "import os, sys, subprocess\n",
    "import numpy as np\n",
    "import pandas as pd\n",
    "import matplotlib.pyplot as plt \n",
    "from pathlib import Path\n",
    "from IPython.display import display, HTML\n",
    "from snakemake import load_configfile\n",
    "from operator import itemgetter as items"
   ]
  },
  {
   "cell_type": "code",
   "execution_count": 214,
   "id": "b02f60de-c362-4078-beba-82c870de2c78",
   "metadata": {},
   "outputs": [],
   "source": [
    "home_path      = Path.cwd()/'..'\n",
    "workspace_path = home_path/'workspace'"
   ]
  },
  {
   "cell_type": "code",
   "execution_count": 215,
   "id": "ae9c5015",
   "metadata": {},
   "outputs": [],
   "source": [
    "os.environ['PATH'] = f\"{str(home_path)}:\" + os.environ['PATH'] # home_path\n",
    "os.environ['PATH'] = '/home/cdaniels/bin/homer:' + os.environ['PATH'] # homer\n",
    "os.environ['PATH'] = '/home/cdaniels/bin/hisat-3n:' + os.environ['PATH'] # hisat-3n\n",
    "os.environ['_JAVA_OPTIONS'] = '-Xmx8g' # Set Java Flag"
   ]
  },
  {
   "cell_type": "code",
   "execution_count": 216,
   "id": "889270cf-bf90-4da3-90fe-397d8d0b57f3",
   "metadata": {},
   "outputs": [
    {
     "data": {
      "text/plain": [
       "32"
      ]
     },
     "execution_count": 216,
     "metadata": {},
     "output_type": "execute_result"
    }
   ],
   "source": [
    "nc = get_ipython().getoutput('nproc') # Number of cores  \n",
    "nc = int(nc[0]); nc"
   ]
  },
  {
   "cell_type": "markdown",
   "id": "f8499228-734a-4c2c-ad0a-deab43ae64c7",
   "metadata": {},
   "source": [
    "### Functions"
   ]
  },
  {
   "cell_type": "code",
   "execution_count": 92,
   "id": "df897337-8f9a-4309-a5e0-5fd9cc3a060d",
   "metadata": {},
   "outputs": [],
   "source": [
    "sys.path.append(f\"{home_path}/scripts/\") # scripts/\n",
    "\n",
    "from configure import * \n",
    "from utils import *\n",
    "from fnames import *"
   ]
  },
  {
   "cell_type": "code",
   "execution_count": 201,
   "id": "2095f397-571b-456f-8d84-9c3c90afc26d",
   "metadata": {},
   "outputs": [],
   "source": [
    "from importlib import reload\n",
    "import configure, utils, fnames\n",
    "reload(configure); reload(utils);reload(fnames);\n",
    "from configure import *\n",
    "from utils import *\n",
    "from fnames import *"
   ]
  },
  {
   "cell_type": "code",
   "execution_count": 202,
   "id": "6fc660a2-17bd-4250-a554-f527eac3b016",
   "metadata": {},
   "outputs": [
    {
     "data": {
      "text/plain": [
       "\u001b[0;31mSignature:\u001b[0m \u001b[0mfname\u001b[0m\u001b[0;34m(\u001b[0m\u001b[0mpath\u001b[0m\u001b[0;34m,\u001b[0m \u001b[0mstem\u001b[0m\u001b[0;34m,\u001b[0m \u001b[0msuffix\u001b[0m\u001b[0;34m,\u001b[0m \u001b[0mextra\u001b[0m\u001b[0;34m=\u001b[0m\u001b[0;34m''\u001b[0m\u001b[0;34m)\u001b[0m\u001b[0;34m\u001b[0m\u001b[0;34m\u001b[0m\u001b[0m\n",
       "\u001b[0;31mDocstring:\u001b[0m\n",
       "fname :: str  -> str -> str -> Path\n",
       "fname :: Path -> str -> str -> Path\n",
       "\n",
       "Return a new Path comprised of a `path`, `stem` and `suffix`\n",
       "`extra` appends str to end of stem. Default: extra=''\n",
       "\n",
       "Example:\n",
       "fname(in_path, 't1_r1', 'bam')          -> Path('some_path/t1_r1.bam)\n",
       "fname(in_path, 't1_r1', 'bam', 'genes') -> Path('some_path/t1_r1_genes.bam)\n",
       "\u001b[0;31mFile:\u001b[0m      ~/uofc_data/ubs_seq/UBS-seq_basic/scripts/fnames.py\n",
       "\u001b[0;31mType:\u001b[0m      function"
      ]
     },
     "metadata": {},
     "output_type": "display_data"
    }
   ],
   "source": [
    "fname?"
   ]
  },
  {
   "cell_type": "code",
   "execution_count": 7,
   "id": "dbd26e74-50e0-4793-9e71-a82b3ea988a2",
   "metadata": {},
   "outputs": [
    {
     "data": {
      "text/plain": [
       "\u001b[0;31mSignature:\u001b[0m \u001b[0mmkpath\u001b[0m\u001b[0;34m(\u001b[0m\u001b[0mpath\u001b[0m\u001b[0;34m)\u001b[0m\u001b[0;34m\u001b[0m\u001b[0;34m\u001b[0m\u001b[0m\n",
       "\u001b[0;31mDocstring:\u001b[0m\n",
       "mkpath :: str -> IO Path\n",
       "\n",
       "Creates and returns (not over-writting) a new dir `path`. The current date/time is sent to stdout.\n",
       "\n",
       "Example:\n",
       "mkpath('dir_name') -> Path('some_path') and new dir `dir_name`\n",
       "\u001b[0;31mFile:\u001b[0m      ~/uofc_data/ubs_seq/UBS-seq_basic/scripts/fnames.py\n",
       "\u001b[0;31mType:\u001b[0m      function"
      ]
     },
     "metadata": {},
     "output_type": "display_data"
    }
   ],
   "source": [
    "mkpath?"
   ]
  },
  {
   "cell_type": "code",
   "execution_count": 8,
   "id": "73af4289-9f65-42a0-abf9-992a3756ec2e",
   "metadata": {},
   "outputs": [
    {
     "data": {
      "text/plain": [
       "\u001b[0;31mSignature:\u001b[0m \u001b[0msamples\u001b[0m\u001b[0;34m(\u001b[0m\u001b[0mn\u001b[0m\u001b[0;34m=\u001b[0m\u001b[0;36m2\u001b[0m\u001b[0;34m,\u001b[0m \u001b[0mend\u001b[0m\u001b[0;34m=\u001b[0m\u001b[0;34m'runs'\u001b[0m\u001b[0;34m,\u001b[0m \u001b[0mextra\u001b[0m\u001b[0;34m=\u001b[0m\u001b[0;34m[\u001b[0m\u001b[0;34m]\u001b[0m\u001b[0;34m)\u001b[0m\u001b[0;34m\u001b[0m\u001b[0;34m\u001b[0m\u001b[0m\n",
       "\u001b[0;31mDocstring:\u001b[0m\n",
       "samples :: Int -> Bool -> [String] ->\n",
       "Generates iterators of sample names as defined in 'sample2data'\n",
       "- n=1 returns biological replicates, sample(2) -> ['t1', 't2', 'c1']\n",
       "- n=2 (default) biologial replicates with run -> 't1_r1', 't1_r2', 't2_r1', 't2_r2', 'c1_r1']\n",
       "- end='se' filters for SE reads -> ['t1_r1', 't1_r2', 'c1_r1']\n",
       "- end='pe' filters for pairs of PE reads -> [('t2_r1_R1', 't2_r1_R2'), ('t2_r2_R1', 't2_r2_R2')]\n",
       "- end='all' returns all (flat) -> ['t1_r1', 't1_r2', 'c1_r1', 't2_r1_R1', 't2_r1_R2', 't2_r2_R1', 't2_r2_R2']\n",
       "- end='runs' biologial replicates with run -> (i.e., runs) -> ['t1_r1', 't1_r2', 't2_r1', 't2_r2', 'c1_r1']\n",
       "- extra=[alist] returns an iterator which is the Cartesian product of the elements of alist and the original iterator\n",
       "\n",
       "Example:\n",
       "samples(end='se',extra=['gene','genome']) ->\n",
       " [('t1', 'r1', 'gene'), ('t1', 'r1', 'genome'), ('t2', 'r1', 'gene'), ('t2', 'r1', 'genome'), ('c1', 'r1', 'gene'), ('c1', 'r1', 'genome')]\n",
       "\u001b[0;31mFile:\u001b[0m      ~/uofc_data/ubs_seq/UBS-seq_basic/scripts/configure.py\n",
       "\u001b[0;31mType:\u001b[0m      function"
      ]
     },
     "metadata": {},
     "output_type": "display_data"
    }
   ],
   "source": [
    "samples?"
   ]
  },
  {
   "cell_type": "code",
   "execution_count": 9,
   "id": "c048c7e6-a9c2-4995-b160-e42fb5f9ebf9",
   "metadata": {},
   "outputs": [
    {
     "data": {
      "text/plain": [
       "\u001b[0;31mSignature:\u001b[0m \u001b[0mdata\u001b[0m\u001b[0;34m(\u001b[0m\u001b[0mend\u001b[0m\u001b[0;34m=\u001b[0m\u001b[0;34m'se'\u001b[0m\u001b[0;34m)\u001b[0m\u001b[0;34m\u001b[0m\u001b[0;34m\u001b[0m\u001b[0m\n",
       "\u001b[0;31mDocstring:\u001b[0m\n",
       "data :: Bool -> [(String, Path)]\n",
       "Generates iterator of data paths as defined in `sample2list`\n",
       "- type='SE' will filter for SE  -> [(key1, Path(R1)) ...]\n",
       "- type='PE' will filter for PE  -> [(key11, Path(R1)),(key12, Path(R2)) ...]\n",
       "- type='all' will include both SE and PE -> [(key1, Path(R1)),(key11, Path(R1)),(key12, Path(R2)) ...]\n",
       "\n",
       "Example:\n",
       "data() -> [('t1_r1', PosixPath('../data/test1_R1.fq.gz')),\n",
       "           ('t2_r1', PosixPath('../data/test2_R1.fq.gz')),\n",
       "           ('c1_r1', PosixPath('../data/test3_R1.fq.gz'))]\n",
       "\n",
       "data(end='pe') ->\n",
       "          [('t2_r1_R1', PosixPath('../data/SRR23538294_1.fq.gz')),\n",
       "           ('t2_r1_R2', PosixPath('../data/SRR23538294_2.fq.gz')),\n",
       "           ('t2_r2_R1', PosixPath('../data/SRR23538293_1.fq.gz')),\n",
       "           ('t2_r2_R2', PosixPath('../data/SRR23538293_2.fq.gz'))]\n",
       "\u001b[0;31mFile:\u001b[0m      ~/uofc_data/ubs_seq/UBS-seq_basic/scripts/configure.py\n",
       "\u001b[0;31mType:\u001b[0m      function"
      ]
     },
     "metadata": {},
     "output_type": "display_data"
    }
   ],
   "source": [
    "data?"
   ]
  },
  {
   "cell_type": "code",
   "execution_count": 10,
   "id": "af3e2cd1-c682-4b66-949e-65c90b1b8bc5",
   "metadata": {},
   "outputs": [
    {
     "data": {
      "text/plain": [
       "\u001b[0;31mSignature:\u001b[0m \u001b[0mfnames\u001b[0m\u001b[0;34m(\u001b[0m\u001b[0mdir_or_files\u001b[0m\u001b[0;34m,\u001b[0m \u001b[0msuffix\u001b[0m\u001b[0;34m=\u001b[0m\u001b[0;34m''\u001b[0m\u001b[0;34m,\u001b[0m \u001b[0mkey\u001b[0m\u001b[0;34m=\u001b[0m\u001b[0;34m'stem'\u001b[0m\u001b[0;34m)\u001b[0m\u001b[0;34m\u001b[0m\u001b[0;34m\u001b[0m\u001b[0m\n",
       "\u001b[0;31mDocstring:\u001b[0m\n",
       "fnames :: str      -> str -> str -> [str]\n",
       "fnames :: Path     -> str -> str -> [str]\n",
       "fnames :: [str]    -> str -> str -> [str]\n",
       "fnames :: Iterator -> str -> str -> [str]\n",
       "\n",
       "Returns a list of filenames\n",
       "`dir_or_files` can be: a string or Path name of a dir; a list of file names; an Iterator of file names.\n",
       "`suffix` is a string by which to filter files, returning only those ending in .`suffix`\n",
       "`key` specifies which value of `fname_index(f)` is returned for each file name. Example use of `key`\n",
       "    fname_index('map_se/t1_r1_genes.bam') ->\n",
       "        'full':   map_se/t1_r1_genes.bam\n",
       "        'path':   map_se\n",
       "        'name':   t1_r1_genes.bam\n",
       "        'stem':   t1_r1_genes\n",
       "        'suffix': bam\n",
       "        'keys':   ['t1', 'r1', 'genes']\n",
       "\n",
       "Examples:\n",
       "fnames('map_se') ->\n",
       "    ['map_se/t1_r1_genome.summary', 'map_se/t1_r1_genes.bam.csi', 'map_se/t1_r2_genome.bam', ...]\n",
       "fnames('map_se', 'bam') ->\n",
       "    ['map_se/t1_r2_genome.bam', 'map_se/t1_r2_genes.bam', 'map_se/t1_r1_genome.bam', ...]\n",
       "fnames('map_se', 'bam', key='name') ->\n",
       "    ['t1_r2_genome.bam', 't1_r2_genes.bam', 't1_r1_genome.bam', 'c1_r1_genes.bam', ...]\n",
       "fnames('map_se', 'bam', key='stem') ->\n",
       "    ['t1_r2_genome', 't1_r2_genes', 't1_r1_genome', 'c1_r1_genes', 'c1_r1_genome', 't1_r1_genes']\n",
       "fnames('map_se', 'bam', key='keys') ->\n",
       "    [['t1', 'r2', 'genome'], ['t1', 'r2', 'genes'], ['t1', 'r1', 'genome'], ['c1', 'r1', 'genes'], ...]\n",
       "\u001b[0;31mFile:\u001b[0m      ~/uofc_data/ubs_seq/UBS-seq_basic/scripts/fnames.py\n",
       "\u001b[0;31mType:\u001b[0m      function"
      ]
     },
     "metadata": {},
     "output_type": "display_data"
    }
   ],
   "source": [
    "fnames?"
   ]
  },
  {
   "cell_type": "code",
   "execution_count": 11,
   "id": "3e91e58a-0166-4c57-b2e0-68abbe3e9841",
   "metadata": {
    "scrolled": true
   },
   "outputs": [
    {
     "data": {
      "text/plain": [
       "\u001b[0;31mSignature:\u001b[0m \u001b[0mfname_index\u001b[0m\u001b[0;34m(\u001b[0m\u001b[0mpath_or_file\u001b[0m\u001b[0;34m)\u001b[0m\u001b[0;34m\u001b[0m\u001b[0;34m\u001b[0m\u001b[0m\n",
       "\u001b[0;31mDocstring:\u001b[0m\n",
       "fname_index :: str -> dict\n",
       "fname_index :: Path -> dict\n",
       "\n",
       "Returns a dict of a file name split by keys=['full', 'path', 'name', 'stem', 'suffix', 'keys'])\n",
       "`path_or_file is a string or Path file name`\n",
       "\n",
       "Example:\n",
       "    fname_index('map_se/t1_r1_genes.bam') ->\n",
       "        'full':   map_se/t1_r1_genes.bam\n",
       "        'path':   map_se\n",
       "        'name':   t1_r1_genes.bam\n",
       "        'stem':   t1_r1_genes\n",
       "        'suffix': bam\n",
       "        'keys':   ['t1', 'r1', 'genes']\n",
       "\u001b[0;31mFile:\u001b[0m      ~/uofc_data/ubs_seq/UBS-seq_basic/scripts/fnames.py\n",
       "\u001b[0;31mType:\u001b[0m      function"
      ]
     },
     "metadata": {},
     "output_type": "display_data"
    }
   ],
   "source": [
    "fname_index?"
   ]
  },
  {
   "cell_type": "code",
   "execution_count": 12,
   "id": "5ca9c962-263b-4bb5-91c1-c27231fbb301",
   "metadata": {},
   "outputs": [
    {
     "name": "stdout",
     "output_type": "stream",
     "text": [
      "Object `fname_split` not found.\n"
     ]
    }
   ],
   "source": [
    "fname_split?"
   ]
  },
  {
   "cell_type": "code",
   "execution_count": 13,
   "id": "d03f6f5f-f151-4037-a32c-c2610638b46b",
   "metadata": {},
   "outputs": [
    {
     "data": {
      "text/plain": [
       "\u001b[0;31mSignature:\u001b[0m \u001b[0mfnames_match\u001b[0m\u001b[0;34m(\u001b[0m\u001b[0mfiles\u001b[0m\u001b[0;34m,\u001b[0m \u001b[0mpattern\u001b[0m\u001b[0;34m,\u001b[0m \u001b[0;34m**\u001b[0m\u001b[0mwildcards\u001b[0m\u001b[0;34m)\u001b[0m\u001b[0;34m\u001b[0m\u001b[0;34m\u001b[0m\u001b[0m\n",
       "\u001b[0;31mDocstring:\u001b[0m\n",
       "fname_match :: [str] -> str -> [(str, [str])] -> [[str]]\n",
       "Returns a list of list of files matching the pattern.\n",
       "\n",
       "`files` is a list of file names\n",
       "`pattern` is a string similiar to the target `files` with each wildcard indicated by `{ }`\n",
       "`pattern` will generally hava a form: {sample}_{run}_{pair}_{ref}.{ext}, though order\n",
       "does not matter. Names do not matter provided they correspond to the names used in\n",
       "wildcard named lists.\n",
       "`**wilcards` are named lists, where the wildcard name is used within the pattern\n",
       "For example: sample = ['t1','c1']\n",
       "\n",
       "When files are matched to a pattern, chars between two {wildcard} will be ignored.\n",
       "This allows grouping of matched files, which are returned as a list\n",
       "\n",
       "Example:\n",
       "files =['t1_1_genes.bam', 't1_r2_genes.bam', 't1_r1_genome.bam', 't1_r2_genome.bam',\n",
       "        'c1_r1_genes.bam', 'c1_r1_genome.bam']\n",
       "\n",
       "match_files(files, \"{sample}_{ref}.bam\", sample = ['t1','c1'], ref = ['genes','genome']) ->\n",
       "\n",
       "    [['t1_1_genes.bam', 't1_r2_genes.bam'],\n",
       "     ['t1_r1_genome.bam', 't1_r2_genome.bam'],\n",
       "     ['c1_r1_genes.bam'],\n",
       "     ['c1_r1_genome.bam']]\n",
       "\u001b[0;31mFile:\u001b[0m      ~/uofc_data/ubs_seq/UBS-seq_basic/scripts/fnames.py\n",
       "\u001b[0;31mType:\u001b[0m      function"
      ]
     },
     "metadata": {},
     "output_type": "display_data"
    }
   ],
   "source": [
    "fnames_match?"
   ]
  },
  {
   "cell_type": "markdown",
   "id": "647912d1-4c4a-4469-83b6-4caa53f11ec5",
   "metadata": {},
   "source": [
    "### Configuration file"
   ]
  },
  {
   "cell_type": "markdown",
   "id": "8e95cc61-0759-4a6d-b1a4-28bd8f48d20f",
   "metadata": {},
   "source": [
    "Use `config.yaml` to configure `references/` and `samples`"
   ]
  },
  {
   "cell_type": "code",
   "execution_count": 217,
   "id": "0e9cbdfe-97bf-4c0d-9e86-ef93ad062c5d",
   "metadata": {
    "scrolled": true
   },
   "outputs": [],
   "source": [
    "config = load_configfile(home_path/\"config.yaml\")"
   ]
  },
  {
   "cell_type": "code",
   "execution_count": null,
   "id": "6e972592-6a2c-4e0c-bcbf-6eeef5d65d83",
   "metadata": {},
   "outputs": [],
   "source": [
    "# Convert relative path (in `config.yaml`) to absolute path\n",
    "reference_path = home_path/config['reference']"
   ]
  },
  {
   "cell_type": "code",
   "execution_count": null,
   "id": "8a174b91-7b76-4e72-9066-03f9210b62bc",
   "metadata": {},
   "outputs": [],
   "source": [
    "# `refs` are the types of references defined in `config.yaml`\n",
    "refs = ['genes','genome']"
   ]
  },
  {
   "cell_type": "markdown",
   "id": "b34546a3-3844-47a2-9af3-fcd69d584ea1",
   "metadata": {},
   "source": [
    "`get_ref()` returns the path (partially defined in `config.yaml`) for a `ref` of type `fasta` or `index`: `[ref][type]`"
   ]
  },
  {
   "cell_type": "code",
   "execution_count": null,
   "id": "2ef560fe-9712-4bb9-8bb5-5e9f8d448c07",
   "metadata": {},
   "outputs": [],
   "source": [
    "def get_ref(ref,type): \n",
    "    \"Returns the path for a ref of type fasta or index: [ref][type] Example: get_ref('genome','fa')\"\n",
    "    return reference_path[ref][type]"
   ]
  },
  {
   "cell_type": "code",
   "execution_count": 220,
   "id": "9fd3b929-b9ad-48ed-acf8-e9ec4cfe01dd",
   "metadata": {},
   "outputs": [],
   "source": [
    "genome_fa  = get_ref('genome','fa')\n",
    "genome_idx = get_ref('genome','hisat3n')\n",
    "genes_fa   = get_ref('genes','fa')\n",
    "genes_idx  = get_ref('genes','hisat3n')"
   ]
  },
  {
   "cell_type": "markdown",
   "id": "6ae70c06-6dde-420c-963f-01fbc6dd225d",
   "metadata": {},
   "source": [
    "## Step: select_samples"
   ]
  },
  {
   "cell_type": "markdown",
   "id": "cf0c6fbb-a4b9-4a0c-97d2-80646efb627e",
   "metadata": {},
   "source": [
    "#### Define sample labels and link to sample sequence files"
   ]
  },
  {
   "cell_type": "code",
   "execution_count": 10,
   "id": "d73f04c9-8803-4e6f-8336-a53a40d78bab",
   "metadata": {},
   "outputs": [
    {
     "name": "stdout",
     "output_type": "stream",
     "text": [
      ">>> {select_samples} 20:52:02_03-30-2024\n"
     ]
    }
   ],
   "source": [
    "out_path = mkpath('select_samples')"
   ]
  },
  {
   "cell_type": "markdown",
   "id": "b0bd8ba2-26d1-4656-8152-3906556b9e2f",
   "metadata": {},
   "source": [
    "##### Adapters and Barcodes used in Samples"
   ]
  },
  {
   "cell_type": "code",
   "execution_count": 221,
   "id": "d6ab05b6-9afe-47fc-84b1-7475cc808dbe",
   "metadata": {},
   "outputs": [],
   "source": [
    "adapter,barcode =  \"AGATCGGAAGAGCACACGTCT\", \"ATCACG\"\n",
    " \n",
    "adapter_R1,barcode_R1 = \"AGATCGGAAGAGCACACGTCT\", \"\"\n",
    "adapter_R2,barcode_R2 = \"AGATCGGAAGAGCGTCGTGT\",  \"\""
   ]
  },
  {
   "cell_type": "markdown",
   "id": "b09b7658-9cb3-4676-a3a2-abe135391e5e",
   "metadata": {},
   "source": [
    "Samples were obtained from NCBI using the SRR ID"
   ]
  },
  {
   "cell_type": "markdown",
   "id": "d1b0d396-809c-4dcc-930c-41c03fefc876",
   "metadata": {},
   "source": [
    "| ID | Run | Strand | Group   | SRR           | Description                                               | Species |                                 \n",
    "|:---|-----|--------|---------|---------------|-----------------------------------------------------------|---------|                                 \n",
    "| t1 | r1  | R1     | Treated | SRR23538292   | WT HeLa polyA+ RNA treated with ultrafast BS, replicate 1 | Human   |                                 \n",
    "| t1 | r2  | R1     | Treated | SRR23538291   | WT HeLa polyA+ RNA treated with ultrafast BS, replicate 2 | Human   |                                 \n",
    "| t2 | r1  | R1     | Treated | SRR23538294_1 | 7ng of cfDNA treated with ultrafast BS, replicate 1       | Human   |                                 \n",
    "| t2 | r1  | R2     | Treated | SRR23538294_2 | 7ng of cfDNA treated with ultrafast BS, replicate 1       | Human   |                                 \n",
    "| t2 | r2  | R1     | Treated | SRR23538293_1 | 7ng of cfDNA treated with ultrafast BS, replicate 2       | Human   |                                 \n",
    "| t2 | r2  | R2     | Treated | SRR23538293_2 | 7ng of cfDNA treated with ultrafast BS, replicate 2       | Human   |                                 \n",
    "| c1 | r1  | R1     | Control | SRR23538290   | WT HeLa polyA+ RNA treated with ultrafast BS, replicate 3 | Human   |"
   ]
  },
  {
   "cell_type": "code",
   "execution_count": 12,
   "id": "b7400a9b-f68a-422d-9c21-2e9585eed176",
   "metadata": {},
   "outputs": [
    {
     "data": {
      "text/plain": [
       "['t1', 't2', 'c1']"
      ]
     },
     "execution_count": 12,
     "metadata": {},
     "output_type": "execute_result"
    }
   ],
   "source": [
    "samples(1)"
   ]
  },
  {
   "cell_type": "code",
   "execution_count": 22,
   "id": "5673fd70-2980-4f0c-ba7c-c912626cf56c",
   "metadata": {},
   "outputs": [
    {
     "data": {
      "text/plain": [
       "['t1_r1', 't1_r2', 't2_r1', 't2_r2', 'c1_r1']"
      ]
     },
     "execution_count": 22,
     "metadata": {},
     "output_type": "execute_result"
    }
   ],
   "source": [
    "samples()"
   ]
  },
  {
   "cell_type": "code",
   "execution_count": 23,
   "id": "4bae4815-852b-4eab-844f-6979b8baca07",
   "metadata": {},
   "outputs": [
    {
     "data": {
      "text/plain": [
       "['t1_r1', 't1_r2', 'c1_r1']"
      ]
     },
     "execution_count": 23,
     "metadata": {},
     "output_type": "execute_result"
    }
   ],
   "source": [
    "samples(end='se')"
   ]
  },
  {
   "cell_type": "code",
   "execution_count": 24,
   "id": "f414ebab-8811-41d4-99eb-2c0112255e77",
   "metadata": {},
   "outputs": [
    {
     "data": {
      "text/plain": [
       "[('t2_r1_R1', 't2_r1_R2'), ('t2_r2_R1', 't2_r2_R2')]"
      ]
     },
     "execution_count": 24,
     "metadata": {},
     "output_type": "execute_result"
    }
   ],
   "source": [
    "samples(end='pe')"
   ]
  },
  {
   "cell_type": "code",
   "execution_count": 25,
   "id": "8eb04d26-21b9-4537-9c71-d1096ceb92fc",
   "metadata": {},
   "outputs": [
    {
     "data": {
      "text/plain": [
       "['t1_r1', 't1_r2', 'c1_r1', 't2_r1_R1', 't2_r1_R2', 't2_r2_R1', 't2_r2_R2']"
      ]
     },
     "execution_count": 25,
     "metadata": {},
     "output_type": "execute_result"
    }
   ],
   "source": [
    "samples(end='all')"
   ]
  },
  {
   "cell_type": "markdown",
   "id": "c2b763c9-8a29-47f7-9e53-478784d23ecc",
   "metadata": {},
   "source": [
    "##### Sample Groups and Labels"
   ]
  },
  {
   "cell_type": "code",
   "execution_count": 222,
   "id": "d2f3944a-d90d-4925-959b-4a8baf130273",
   "metadata": {},
   "outputs": [
    {
     "name": "stdout",
     "output_type": "stream",
     "text": [
      "bio_samples = ['t1', 't2', 'c1']\n",
      "treated = ['t1_r1', 't1_r2', 't2_r1', 't2_r2']\n",
      "control = ['c1_r1']\n",
      "treated_data = ['t1_r1', 't1_r2', 't2_r1_R1', 't2_r1_R2', 't2_r2_R1', 't2_r2_R2']\n",
      "control_data = ['c1_r1']\n"
     ]
    }
   ],
   "source": [
    "bio_samples = samples(1)  # Biological Sample Labels\n",
    "treated, control = group2run['treated'], group2run['control']  # Experimental Group Labels\n",
    "treated_data,control_data = group2data['treated'], group2data['control'] # Data Group Labels (R1 and R2 only in PE labels)\n",
    "\n",
    "print(f'bio_samples = {bio_samples}')\n",
    "print(f'treated = {treated}')\n",
    "print(f'control = {control}')\n",
    "print(f'treated_data = {treated_data}')\n",
    "print(f'control_data = {control_data}')"
   ]
  },
  {
   "cell_type": "markdown",
   "id": "1d9acff4-09ed-43f5-9183-5f66fbf1f1b7",
   "metadata": {},
   "source": [
    "##### Samples linked to Data Files"
   ]
  },
  {
   "cell_type": "markdown",
   "id": "8024d443-1db1-4a81-83dd-73460708d3da",
   "metadata": {},
   "source": [
    "Symbolically link short names with sample files"
   ]
  },
  {
   "cell_type": "code",
   "execution_count": 27,
   "id": "82fa021c-3fa5-4703-882a-c0409004af09",
   "metadata": {},
   "outputs": [
    {
     "data": {
      "text/plain": [
       "[('t1_r1',\n",
       "  PosixPath('/home/cdaniels/uofc_data/ubs_seq/UBS-seq_basic/workspace/../data/SRR23538292.fq.gz')),\n",
       " ('t1_r2',\n",
       "  PosixPath('/home/cdaniels/uofc_data/ubs_seq/UBS-seq_basic/workspace/../data/SRR23538291.fq.gz')),\n",
       " ('c1_r1',\n",
       "  PosixPath('/home/cdaniels/uofc_data/ubs_seq/UBS-seq_basic/workspace/../data/SRR23538290.fq.gz'))]"
      ]
     },
     "execution_count": 27,
     "metadata": {},
     "output_type": "execute_result"
    }
   ],
   "source": [
    "data(end='se')"
   ]
  },
  {
   "cell_type": "code",
   "execution_count": 28,
   "id": "342e26f6-e83b-46dc-ac94-5f57c41d6252",
   "metadata": {},
   "outputs": [
    {
     "data": {
      "text/plain": [
       "[('t2_r1_R1',\n",
       "  PosixPath('/home/cdaniels/uofc_data/ubs_seq/UBS-seq_basic/workspace/../data/SRR23538294_1.fq.gz')),\n",
       " ('t2_r1_R2',\n",
       "  PosixPath('/home/cdaniels/uofc_data/ubs_seq/UBS-seq_basic/workspace/../data/SRR23538294_2.fq.gz')),\n",
       " ('t2_r2_R1',\n",
       "  PosixPath('/home/cdaniels/uofc_data/ubs_seq/UBS-seq_basic/workspace/../data/SRR23538293_1.fq.gz')),\n",
       " ('t2_r2_R2',\n",
       "  PosixPath('/home/cdaniels/uofc_data/ubs_seq/UBS-seq_basic/workspace/../data/SRR23538293_2.fq.gz'))]"
      ]
     },
     "execution_count": 28,
     "metadata": {},
     "output_type": "execute_result"
    }
   ],
   "source": [
    "data(end='pe')"
   ]
  },
  {
   "cell_type": "markdown",
   "id": "933af9c1-c417-446e-8977-1503991d7a9a",
   "metadata": {},
   "source": [
    "`end='all'` flattens PE in order to concatenate with SE"
   ]
  },
  {
   "cell_type": "code",
   "execution_count": 29,
   "id": "c2d7cff0-21b7-49d8-a8e7-b133aa134172",
   "metadata": {},
   "outputs": [
    {
     "data": {
      "text/plain": [
       "[('t1_r1',\n",
       "  PosixPath('/home/cdaniels/uofc_data/ubs_seq/UBS-seq_basic/workspace/../data/SRR23538292.fq.gz')),\n",
       " ('t1_r2',\n",
       "  PosixPath('/home/cdaniels/uofc_data/ubs_seq/UBS-seq_basic/workspace/../data/SRR23538291.fq.gz')),\n",
       " ('c1_r1',\n",
       "  PosixPath('/home/cdaniels/uofc_data/ubs_seq/UBS-seq_basic/workspace/../data/SRR23538290.fq.gz')),\n",
       " ('t2_r1_R1',\n",
       "  PosixPath('/home/cdaniels/uofc_data/ubs_seq/UBS-seq_basic/workspace/../data/SRR23538294_1.fq.gz')),\n",
       " ('t2_r1_R2',\n",
       "  PosixPath('/home/cdaniels/uofc_data/ubs_seq/UBS-seq_basic/workspace/../data/SRR23538294_2.fq.gz')),\n",
       " ('t2_r2_R1',\n",
       "  PosixPath('/home/cdaniels/uofc_data/ubs_seq/UBS-seq_basic/workspace/../data/SRR23538293_1.fq.gz')),\n",
       " ('t2_r2_R2',\n",
       "  PosixPath('/home/cdaniels/uofc_data/ubs_seq/UBS-seq_basic/workspace/../data/SRR23538293_2.fq.gz'))]"
      ]
     },
     "execution_count": 29,
     "metadata": {},
     "output_type": "execute_result"
    }
   ],
   "source": [
    "data(end='all')"
   ]
  },
  {
   "cell_type": "code",
   "execution_count": 34,
   "id": "a74a4795-9f35-4591-b99a-d543fb585ff8",
   "metadata": {},
   "outputs": [],
   "source": [
    "for (s,fn) in data(end='all'):\n",
    "    !ln -s {fn} {fname(out_path,s,\"fq.gz\")}"
   ]
  },
  {
   "cell_type": "markdown",
   "id": "2e11be53",
   "metadata": {},
   "source": [
    "Check that the files look correct"
   ]
  },
  {
   "cell_type": "code",
   "execution_count": 35,
   "id": "25371f62",
   "metadata": {},
   "outputs": [
    {
     "name": "stdout",
     "output_type": "stream",
     "text": [
      "total 736M\n",
      "-rw-rw-r-- 1 cdaniels cdaniels  37M Mar 21 14:36 c1_r1.fq.gz\n",
      "-rw-rw-r-- 1 cdaniels cdaniels  47M Mar 21 14:36 t1_r1.fq.gz\n",
      "-rw-rw-r-- 1 cdaniels cdaniels  49M Mar 21 14:36 t1_r2.fq.gz\n",
      "-rw-rw-r-- 1 cdaniels cdaniels 146M Mar 21 14:37 t2_r1_R1.fq.gz\n",
      "-rw-rw-r-- 1 cdaniels cdaniels 163M Mar 21 14:37 t2_r1_R2.fq.gz\n",
      "-rw-rw-r-- 1 cdaniels cdaniels 140M Mar 21 14:37 t2_r2_R1.fq.gz\n",
      "-rw-rw-r-- 1 cdaniels cdaniels 158M Mar 21 14:37 t2_r2_R2.fq.gz\n"
     ]
    }
   ],
   "source": [
    "!ls -lLh {out_path}"
   ]
  },
  {
   "cell_type": "markdown",
   "id": "6c7307e9-bcb8-4515-be28-da83ddd2649a",
   "metadata": {},
   "source": [
    "How many sequence reads do we have per Sample"
   ]
  },
  {
   "cell_type": "code",
   "execution_count": 36,
   "id": "113b16b9-601a-4b74-83e7-12d25a9af329",
   "metadata": {},
   "outputs": [
    {
     "name": "stdout",
     "output_type": "stream",
     "text": [
      "t1_r1: 1183321\n",
      "t1_r2: 1365245\n",
      "c1_r1: 935632\n",
      "t2_r1_R1: 2411940\n",
      "t2_r1_R2: 2411940\n",
      "t2_r2_R1: 2423332\n",
      "t2_r2_R2: 2423332\n"
     ]
    }
   ],
   "source": [
    "# Total Reads per Samples\n",
    "for sample in samples(end='all'):\n",
    "    !echo {sample}: `samtools view -c {fname(out_path, sample, 'fq.gz')}`"
   ]
  },
  {
   "cell_type": "markdown",
   "id": "c79c92f5-fb43-40b5-8652-14c4ae56817d",
   "metadata": {},
   "source": [
    "## Step: fastqc_pre"
   ]
  },
  {
   "cell_type": "markdown",
   "id": "302e6a2d-6f93-4d8f-94a3-154a5f679ad7",
   "metadata": {},
   "source": [
    "#### Pre Trimming Quality Control"
   ]
  },
  {
   "cell_type": "code",
   "execution_count": 227,
   "id": "20a87550-8f06-4d37-9c01-025dc8135790",
   "metadata": {},
   "outputs": [
    {
     "name": "stdout",
     "output_type": "stream",
     "text": [
      ">>> {select_samples} 14:26:04_03-30-2024\n",
      ">>> {fastqc_pre} 14:26:04_03-30-2024\n"
     ]
    }
   ],
   "source": [
    "in_path = mkpath(\"select_samples\")\n",
    "out_path = mkpath(\"fastqc_pre\")"
   ]
  },
  {
   "cell_type": "markdown",
   "id": "6696a379-6f85-4c60-b756-863023890839",
   "metadata": {},
   "source": [
    "#### fastqc"
   ]
  },
  {
   "cell_type": "code",
   "execution_count": 22,
   "id": "c0dd3668-5561-44c7-b2ea-b903ebc1737e",
   "metadata": {
    "scrolled": true
   },
   "outputs": [],
   "source": [
    "#! fastqc --help"
   ]
  },
  {
   "cell_type": "markdown",
   "id": "00f8f618-b04f-4dc0-b5c2-d8ec0fcf0861",
   "metadata": {},
   "source": [
    "##### paramaters:\n",
    "- -o output dir"
   ]
  },
  {
   "cell_type": "code",
   "execution_count": 228,
   "id": "f0f6379b-63d0-4ed9-b3c7-c01accd81bb4",
   "metadata": {},
   "outputs": [
    {
     "name": "stdout",
     "output_type": "stream",
     "text": [
      "application/gzip\n",
      "Analysis complete for t1_r1.fq.gz\n",
      "application/gzip\n",
      "Analysis complete for t1_r2.fq.gz\n",
      "application/gzip\n",
      "Analysis complete for c1_r1.fq.gz\n",
      "application/gzip\n",
      "Analysis complete for t2_r1_R1.fq.gz\n",
      "application/gzip\n",
      "Analysis complete for t2_r1_R2.fq.gz\n",
      "application/gzip\n",
      "Analysis complete for t2_r2_R1.fq.gz\n",
      "application/gzip\n",
      "Analysis complete for t2_r2_R2.fq.gz\n"
     ]
    }
   ],
   "source": [
    "for sample in samples(end='all'):\n",
    "    ! fastqc {fname(in_path,sample,\"fq.gz\")} -o {out_path} 2> /dev/null"
   ]
  },
  {
   "cell_type": "markdown",
   "id": "7a0ad064-ee5a-479c-aeca-5f77b399fe4c",
   "metadata": {},
   "source": [
    "#### Consolidate fastqc Reports"
   ]
  },
  {
   "cell_type": "code",
   "execution_count": 229,
   "id": "785d3b72-7b67-4bf5-9fb3-c4bb2596a861",
   "metadata": {},
   "outputs": [
    {
     "name": "stdout",
     "output_type": "stream",
     "text": [
      "\n",
      "  \u001b[91m///\u001b[0m \u001b]8;id=178786;https://multiqc.info\u001b\\\u001b[1mMultiQC\u001b[0m\u001b]8;;\u001b\\ 🔍 \u001b[2m| v1.19\u001b[0m\n",
      "\n",
      "\u001b[34m|           multiqc\u001b[0m | \u001b[33mMultiQC Version v1.21 now available!\u001b[0m\n",
      "\u001b[34m|           multiqc\u001b[0m | Only using modules: fastqc\n",
      "\u001b[34m|           multiqc\u001b[0m | Search path : /home/cdaniels/uofc_data/ubs_seq/UBS-seq_basic/workspace/fastqc_pre\n",
      "\u001b[2K\u001b[34m|\u001b[0m         \u001b[34msearching\u001b[0m | \u001b[90m━━━━━━━━━━━━━━━━━━━━━━━━━━━━━━━━━━━━━━━━\u001b[0m \u001b[35m100%\u001b[0m \u001b[32m14/14\u001b[0m  14\u001b[0m  \n",
      "\u001b[?25h\u001b[34m|            fastqc\u001b[0m | Found 7 reports\n",
      "\u001b[34m|           multiqc\u001b[0m | Report      : fastqc_pre/multiqc.html\n",
      "\u001b[34m|           multiqc\u001b[0m | Data        : fastqc_pre/multiqc_data\n",
      "\u001b[34m|           multiqc\u001b[0m | MultiQC complete\n"
     ]
    }
   ],
   "source": [
    "!multiqc -f -fp -m fastqc -n multiqc -o {out_path} {out_path}"
   ]
  },
  {
   "cell_type": "markdown",
   "id": "817f3ef8-ad2a-4f82-a7ad-c7d96baae841",
   "metadata": {},
   "source": [
    "## Step: join_pe"
   ]
  },
  {
   "cell_type": "markdown",
   "id": "06dc6234-4897-4ac3-9512-f1a9217d2eeb",
   "metadata": {},
   "source": [
    "#### Filter and Join Paired End Reads"
   ]
  },
  {
   "cell_type": "code",
   "execution_count": 214,
   "id": "a8cc1dd4-54ec-4e62-b700-787dcfb8b920",
   "metadata": {},
   "outputs": [
    {
     "name": "stdout",
     "output_type": "stream",
     "text": [
      ">>> {select_samples} 14:13:29_03-30-2024\n",
      ">>> {join_pe} 14:13:29_03-30-2024\n"
     ]
    }
   ],
   "source": [
    "in_path = mkpath(\"select_samples\")\n",
    "out_path = mkpath(\"join_pe\")"
   ]
  },
  {
   "cell_type": "code",
   "execution_count": 27,
   "id": "6bb44868-397a-4c94-8425-c9710c728c12",
   "metadata": {},
   "outputs": [
    {
     "name": "stdout",
     "output_type": "stream",
     "text": [
      "/home/cdaniels/uofc_data/ubs_seq/UBS-seq_basic/workspace\n"
     ]
    }
   ],
   "source": [
    "! pwd"
   ]
  },
  {
   "cell_type": "markdown",
   "id": "6b17c487-e7c8-4417-8389-ada816bc6d68",
   "metadata": {},
   "source": [
    "#### fastp"
   ]
  },
  {
   "cell_type": "code",
   "execution_count": 351,
   "id": "08fce00d-ae6b-49ef-b7ce-328cb8560b6b",
   "metadata": {},
   "outputs": [],
   "source": [
    "#!fastp -h"
   ]
  },
  {
   "cell_type": "markdown",
   "id": "a903e9a6-ba95-4a84-a430-5d8912321345",
   "metadata": {},
   "source": [
    "https://open.bioqueue.org/home/knowledge/showKnowledge/sig/fastp"
   ]
  },
  {
   "cell_type": "markdown",
   "id": "616f49b4-901c-478f-8847-91fa2feeb6b1",
   "metadata": {
    "editable": true,
    "slideshow": {
     "slide_type": ""
    },
    "tags": []
   },
   "source": [
    "```\n",
    "fastp --thread {threads} --merge --correction --overlap_len_require 10 --overlap_diff_percent_limit 20 \\\n",
    "        -i {input[0]} -I {input[1]} --merged_out {output.join} --out1 {output.un1} --out2 {output.un2} -h {params.html} -j {params.json}\n",
    "```"
   ]
  },
  {
   "cell_type": "markdown",
   "id": "2babcba8-0992-4588-b7e6-66da7cb3a474",
   "metadata": {
    "editable": true,
    "slideshow": {
     "slide_type": ""
    },
    "tags": []
   },
   "source": [
    "##### paramaters\n",
    "- thread {threads}, number of threads; 16 max\n",
    "-  --merge, for paired-end input, merge each pair of reads into a single read if they are overlapped \n",
    "-  --correction, enable base correction in overlapped regions (only for PE data)\n",
    "-  --overlap_len_require 10, min length to detect overlapped (only PE reads), affecting PE merge, adapter trimming and correction (30 defalut) \n",
    "-  --overlap_diff_percent_limit 20, maximum number of mismatched bases to detect overlapped region of PE reads (20 default means 20%)\n",
    "- -i {input[0]} -I {input[1]}, R1 and R1 input files\n",
    "- --merged_out {output.join}, in the merging mode, file name for merged file\n",
    "- --out1 {output.un1}, file for R1 reads that cannot be merged successfully, but pass all the filters\n",
    "- --out2 {output.un2}, file for R2 reads that cannot be merged successfully, but pass all the filters\n",
    "- -h {params.html}, html report file name\n",
    "- -j {params.json}, json report file name"
   ]
  },
  {
   "cell_type": "markdown",
   "id": "10bf1a32-3c05-4d5f-8e3b-fca5f50fd098",
   "metadata": {},
   "source": [
    "#####  Single End Reads are passed through with no processing to Step: Trim\n",
    "- With Adapter\n",
    "- With Barcode"
   ]
  },
  {
   "cell_type": "code",
   "execution_count": 43,
   "id": "c05ed42c-c549-4aa3-bc1c-c09d21f75bb5",
   "metadata": {},
   "outputs": [],
   "source": [
    "for (s,fn) in data(end='se'): # Unable to ln -s from select_samples\n",
    "    !ln -s {fn} {fname(out_path,s,\"fq.gz\")}"
   ]
  },
  {
   "cell_type": "markdown",
   "id": "4dc578d9-f69f-49ea-af50-73c85aaf2c6b",
   "metadata": {},
   "source": [
    "Paired End Reads are joined together (with removal of Adapters) for Step Trim: \n",
    "- Without Adapter\n",
    "- Without Barcode (For this dataset)"
   ]
  },
  {
   "cell_type": "code",
   "execution_count": 118,
   "id": "a7b6a34a-9a1c-4060-9f87-3dab907a052f",
   "metadata": {
    "editable": true,
    "slideshow": {
     "slide_type": ""
    },
    "tags": []
   },
   "outputs": [],
   "source": [
    "for r1, r2 in samples(end='pe'):\n",
    "    r1_r2 = data2run(r1) # t2_r1_R1 -> t2_r2\n",
    "    !fastp --thread 16 --merge --correction --overlap_len_require 10 --overlap_diff_percent_limit 20 \\\n",
    "        -i {fname(in_path,r1,'fq.gz')} -I {fname(in_path,r2,'fq.gz')} --merged_out {fname(out_path,r1_r2,'fq.gz')}\\\n",
    "        --out1 {fname(out_path,r1,'unmatched.fq.gz')} --out2 {fname(out_path,r2,'unmatched.fq.gz')}\\\n",
    "        -h {fname(out_path,r1_r2,'html')} -j {fname(out_path,r1_r2,'json')} 2> {fname(out_path,r1_r2,'log')}"
   ]
  },
  {
   "cell_type": "markdown",
   "id": "a6b681e7-f333-470d-b56d-233f18b08a48",
   "metadata": {},
   "source": [
    "**Note:** The `*.unmatched.fq.gz` files can be seperately processed in a secondary PE pipeline"
   ]
  },
  {
   "cell_type": "markdown",
   "id": "97c09890-0bf9-4163-bf02-f1d39316ae51",
   "metadata": {},
   "source": [
    "#### Analysis"
   ]
  },
  {
   "cell_type": "code",
   "execution_count": 119,
   "id": "2fbd9286-2117-4c94-9b3b-1c255b68bd25",
   "metadata": {},
   "outputs": [
    {
     "name": "stdout",
     "output_type": "stream",
     "text": [
      "total 318M\n",
      "lrwxrwxrwx 1 cdaniels cdaniels   82 Mar 30 09:50 c1_r1.fq.gz -> /home/cdaniels/uofc_data/ubs_seq/UBS-seq_basic/workspace/../data/SRR23538290.fq.gz\n",
      "lrwxrwxrwx 1 cdaniels cdaniels   82 Mar 30 09:50 t1_r1.fq.gz -> /home/cdaniels/uofc_data/ubs_seq/UBS-seq_basic/workspace/../data/SRR23538292.fq.gz\n",
      "lrwxrwxrwx 1 cdaniels cdaniels   82 Mar 30 09:50 t1_r2.fq.gz -> /home/cdaniels/uofc_data/ubs_seq/UBS-seq_basic/workspace/../data/SRR23538291.fq.gz\n",
      "-rw-rw-r-- 1 cdaniels cdaniels 128M Mar 30 13:17 t2_r1.fq.gz\n",
      "-rw-rw-r-- 1 cdaniels cdaniels 357K Mar 30 13:17 t2_r1.html\n",
      "-rw-rw-r-- 1 cdaniels cdaniels 113K Mar 30 13:17 t2_r1.json\n",
      "-rw-rw-r-- 1 cdaniels cdaniels 1.3K Mar 30 13:17 t2_r1.log\n",
      "-rw-rw-r-- 1 cdaniels cdaniels  16M Mar 30 13:17 t2_r1_R1.unmatched.fq.gz\n",
      "-rw-rw-r-- 1 cdaniels cdaniels  19M Mar 30 13:17 t2_r1_R2.unmatched.fq.gz\n",
      "-rw-rw-r-- 1 cdaniels cdaniels 122M Mar 30 13:17 t2_r2.fq.gz\n",
      "-rw-rw-r-- 1 cdaniels cdaniels 357K Mar 30 13:17 t2_r2.html\n",
      "-rw-rw-r-- 1 cdaniels cdaniels 113K Mar 30 13:17 t2_r2.json\n",
      "-rw-rw-r-- 1 cdaniels cdaniels 1.3K Mar 30 13:17 t2_r2.log\n",
      "-rw-rw-r-- 1 cdaniels cdaniels  16M Mar 30 13:17 t2_r2_R1.unmatched.fq.gz\n",
      "-rw-rw-r-- 1 cdaniels cdaniels  19M Mar 30 13:17 t2_r2_R2.unmatched.fq.gz\n"
     ]
    }
   ],
   "source": [
    "!ls -lh {out_path}"
   ]
  },
  {
   "cell_type": "code",
   "execution_count": 121,
   "id": "1a6affaf-6c64-4bf7-be85-c8b711c412e3",
   "metadata": {},
   "outputs": [
    {
     "name": "stdout",
     "output_type": "stream",
     "text": [
      "lrwxrwxrwx 1 cdaniels cdaniels   82 Mar 30 09:50 join_pe/c1_r1.fq.gz -> /home/cdaniels/uofc_data/ubs_seq/UBS-seq_basic/workspace/../data/SRR23538290.fq.gz\n",
      "lrwxrwxrwx 1 cdaniels cdaniels   82 Mar 30 09:50 join_pe/t1_r1.fq.gz -> /home/cdaniels/uofc_data/ubs_seq/UBS-seq_basic/workspace/../data/SRR23538292.fq.gz\n",
      "lrwxrwxrwx 1 cdaniels cdaniels   82 Mar 30 09:50 join_pe/t1_r2.fq.gz -> /home/cdaniels/uofc_data/ubs_seq/UBS-seq_basic/workspace/../data/SRR23538291.fq.gz\n",
      "-rw-rw-r-- 1 cdaniels cdaniels 128M Mar 30 13:17 join_pe/t2_r1.fq.gz\n",
      "-rw-rw-r-- 1 cdaniels cdaniels  16M Mar 30 13:17 join_pe/t2_r1_R1.unmatched.fq.gz\n",
      "-rw-rw-r-- 1 cdaniels cdaniels  19M Mar 30 13:17 join_pe/t2_r1_R2.unmatched.fq.gz\n",
      "-rw-rw-r-- 1 cdaniels cdaniels 122M Mar 30 13:17 join_pe/t2_r2.fq.gz\n",
      "-rw-rw-r-- 1 cdaniels cdaniels  16M Mar 30 13:17 join_pe/t2_r2_R1.unmatched.fq.gz\n",
      "-rw-rw-r-- 1 cdaniels cdaniels  19M Mar 30 13:17 join_pe/t2_r2_R2.unmatched.fq.gz\n"
     ]
    }
   ],
   "source": [
    "! ls -lh {out_path}/*gz"
   ]
  },
  {
   "cell_type": "markdown",
   "id": "7faebcd9-32e8-4c3e-9182-b21465afb0e4",
   "metadata": {},
   "source": [
    "Check for adapters and barcodes"
   ]
  },
  {
   "cell_type": "code",
   "execution_count": 122,
   "id": "e2f38747-7df0-4976-b140-b65f0f49e68d",
   "metadata": {},
   "outputs": [
    {
     "name": "stdout",
     "output_type": "stream",
     "text": [
      "     24 CCAGTC\n",
      "     22 CAGTCA\n",
      "     13 CTCCAG\n",
      "     13 AAAAAA\n",
      "     11 TCCAGT\n",
      "      3 GTCTGA\n",
      "      3 AAAGAA\n",
      "      2 TTTTTT\n",
      "      2 TTTGTG\n",
      "      2 TTGTTA\n",
      "711 Total Adapters\n",
      "8197068 Total Reads\n"
     ]
    }
   ],
   "source": [
    "! ../scripts/find_barcodes.sh {adapter} {out_path}/t2_r1.fq.gz # PE"
   ]
  },
  {
   "cell_type": "code",
   "execution_count": 215,
   "id": "77616288-11d1-4f93-ad33-c2d8a85f4000",
   "metadata": {},
   "outputs": [
    {
     "name": "stdout",
     "output_type": "stream",
     "text": [
      "     97 AGGATC\n",
      "     55 AAGATC\n",
      "     42 GGATCG\n",
      "     35 TAGATC\n",
      "     31 AGAATC\n",
      "     21 CAGATC\n",
      "     20 GGATCC\n",
      "     20 GAGATC\n",
      "     13 GGAATC\n",
      "     12 GTGATC\n",
      "22580 Total Adapters\n",
      "8197068 Total Reads\n"
     ]
    }
   ],
   "source": [
    "! ../scripts/find_barcodes.sh GGAAGAGCACACGTCTGAAC {out_path}/t2_r1.fq.gz # PE"
   ]
  },
  {
   "cell_type": "code",
   "execution_count": 123,
   "id": "092efd58-6982-4760-b336-1a1094edc0d7",
   "metadata": {},
   "outputs": [
    {
     "name": "stdout",
     "output_type": "stream",
     "text": [
      "     38 CCAGTC\n",
      "     29 CAGTCA\n",
      "     23 CTCCAG\n",
      "     20 TCCAGT\n",
      "     15 AAAAAA\n",
      "      7 AAACCA\n",
      "      5 AAAATA\n",
      "      4 AAATAA\n",
      "      3 TGTATT\n",
      "      3 AAGAAA\n",
      "948 Total Adapters\n",
      "8123704 Total Reads\n"
     ]
    }
   ],
   "source": [
    "! ../scripts/find_barcodes.sh {adapter} {out_path}/t2_r2.fq.gz # PE"
   ]
  },
  {
   "cell_type": "code",
   "execution_count": 124,
   "id": "238e7a09-1fda-4025-a5c2-46942ef59ce4",
   "metadata": {},
   "outputs": [
    {
     "name": "stdout",
     "output_type": "stream",
     "text": [
      " 839347 ATCACG\n",
      "   2082 ACCACG\n",
      "   2006 ATCGCG\n",
      "   1636 GTCACG\n",
      "   1297 ATCATG\n",
      "   1173 AACACG\n",
      "    975 ATTACG\n",
      "    790 ATCACA\n",
      "    639 TTCACG\n",
      "    520 ATAACG\n",
      "859745 Total Adapters\n",
      "3742528 Total Reads\n"
     ]
    }
   ],
   "source": [
    "! ../scripts/find_barcodes.sh {adapter} {out_path}/c1_r1.fq.gz #SE"
   ]
  },
  {
   "cell_type": "markdown",
   "id": "04b65095-160a-4ae8-a17f-75dd872c05e6",
   "metadata": {},
   "source": [
    "PE reads are nearly adapter free. Not so for SE Reads, especially R1"
   ]
  },
  {
   "cell_type": "markdown",
   "id": "51157b74",
   "metadata": {},
   "source": [
    "## Step: trim"
   ]
  },
  {
   "cell_type": "markdown",
   "id": "c1731c31-b9b1-4a09-b964-3dece49e1910",
   "metadata": {},
   "source": [
    "#### Trim the adapter and downstream sequence as well as trimmng lower quality downstream sequence\n",
    "\n",
    "- PE Reads have been joined and filtered (including adapters)\n",
    "- SE Reads have not been filtered"
   ]
  },
  {
   "cell_type": "code",
   "execution_count": 216,
   "id": "8b898be1",
   "metadata": {},
   "outputs": [
    {
     "name": "stdout",
     "output_type": "stream",
     "text": [
      ">>> {join_pe} 14:17:57_03-30-2024\n",
      ">>> {trim} 14:17:57_03-30-2024\n"
     ]
    }
   ],
   "source": [
    "in_path = mkpath(\"join_pe\")\n",
    "out_path = mkpath(\"trim\")"
   ]
  },
  {
   "attachments": {},
   "cell_type": "markdown",
   "id": "a15fbf3d-f263-49a6-b36a-90c5edeb3046",
   "metadata": {},
   "source": [
    "![adapter](../img/adapter.png)"
   ]
  },
  {
   "cell_type": "markdown",
   "id": "ca715978-8029-4cfe-a74c-765eb8ed882f",
   "metadata": {},
   "source": [
    "#### cutadapt"
   ]
  },
  {
   "cell_type": "code",
   "execution_count": 53,
   "id": "bbb14bd9",
   "metadata": {
    "scrolled": true
   },
   "outputs": [],
   "source": [
    "#! cutadapt --help"
   ]
  },
  {
   "cell_type": "markdown",
   "id": "51c5bf75-0af1-40c7-ba4a-1265587753b9",
   "metadata": {
    "scrolled": true
   },
   "source": [
    "```\n",
    "cutadapt -j {threads} \n",
    "            -n 2 \n",
    "            -a \"{params.barcode}{params.adapter3};e=0.15;o=6;anywhere;\" \n",
    "            --untrimmed-output={output.fastq_untrimmed} \n",
    "            -o - {input} 2>{output.report1} | \n",
    "cutadapt -j {threads} \n",
    "            -u 5 -u -5 \n",
    "            --rename='{{id}}_{{cut_prefix}}{{cut_suffix}} {{comment}}' \n",
    "            --max-n=0 \n",
    "            -q 15 \n",
    "            --nextseq-trim=15 \n",
    "            -m 20 \n",
    "            --too-short-output={output.fastq_tooshort} \n",
    "            -o {output.fastq_cut} - >{output.report2}\n",
    "```"
   ]
  },
  {
   "cell_type": "markdown",
   "id": "61d94569-8947-497c-8641-59e0f790ce60",
   "metadata": {},
   "source": [
    "https://cutadapt.readthedocs.io/en/stable/guide.html"
   ]
  },
  {
   "cell_type": "markdown",
   "id": "f1892d24-16d4-4219-968b-1a4ba37b9e0e",
   "metadata": {},
   "source": [
    "**NOTE:** Added `--length 30` to cutoff reads where C begin to become more common. Not in original code"
   ]
  },
  {
   "cell_type": "markdown",
   "id": "cd81c901-05a6-4b85-9dc2-2c2201af649d",
   "metadata": {},
   "source": [
    "##### paramaters:\n",
    "- -j 0, Number of CPU. Use 0 to autodetect\n",
    "- --nextseq-trim=15, is used to trim these low-quality tails of 'G's by introducing a variable quality threshold\n",
    "- --action=trim, trim adapter and downstream sequence\n",
    "- -a '{barcode}{adapter};e=0.15;o=6;anywhere;', \n",
    "- -n 2, Remove up to COUNT adapters from each read. Default: 1\n",
    "- -u 5 -u -5, Remove LEN bases from each read. If positve, from beginning. If negative, from end\n",
    "- --max-n=0, Discard reads with more than COUNT 'N' bases (here any)\n",
    "- -q 15, Trim low-quality bases from 5' end of eachread before adapter removal.\n",
    "- -m 20, Discard reads shorter than LEN\n",
    "- --rename='{{id}}_{{cut_prefix}}{{cut_suffix}} {{comment}}', rename comment of fastq record\n",
    "- --too-short-output={fname(out_path,sample,\"fastq_tooshort\")},\n",
    "- -o {fname(out_path,sample,\"fq.gz\")}, output file\n",
    "{fname(in_path,sample,\"fq.gz\")}, input file"
   ]
  },
  {
   "cell_type": "markdown",
   "id": "87d52c8f-258b-4ea8-ac68-dc6162c98300",
   "metadata": {},
   "source": [
    "**Note:** There are potentially three parts to **Step: trim**; 1) Trimming Adapters/Barcodes 2) Filtering out untrimmed reads that don't have a barcode, and 3) Processing, Filtering and Remameing Reads.\n",
    "\n",
    "**Important:** For each set of data, this **Step: trim** will need to be adjusted\n",
    "\n",
    "For this set of data:\n",
    "- SE: Contain Adapters and Barcodes and require 1), 2) and 3)\n",
    "- PE: Contain neither Adapters nor Barcodes and require only 3)\n",
    "\n"
   ]
  },
  {
   "cell_type": "markdown",
   "id": "691a01ee-f2d2-429d-a179-8263adaca536",
   "metadata": {},
   "source": [
    "Single End Reads"
   ]
  },
  {
   "cell_type": "code",
   "execution_count": 141,
   "id": "2ea0b8c6-f016-40eb-86d9-dfd1a1d48a92",
   "metadata": {},
   "outputs": [
    {
     "name": "stdout",
     "output_type": "stream",
     "text": [
      "Done           00:00:01     1,183,321 reads @   0.9 µs/read;  65.85 M reads/minute\n",
      "Done           00:00:01     1,158,613 reads @   1.0 µs/read;  57.95 M reads/minute\n",
      "Done           00:00:01     1,365,245 reads @   0.9 µs/read;  69.45 M reads/minute\n",
      "Done           00:00:01     1,335,535 reads @   1.1 µs/read;  55.83 M reads/minute\n",
      "Done           00:00:00       935,632 reads @   0.9 µs/read;  65.82 M reads/minute\n",
      "Done           00:00:01       910,046 reads @   1.2 µs/read;  52.13 M reads/minute\n"
     ]
    }
   ],
   "source": [
    "for sample in samples(end='se'):\n",
    "    !cutadapt -j 0 -n 2 \\\n",
    "        -a '{barcode}{adapter};e=0.15;o=6;anywhere;' \\\n",
    "        --untrimmed-output={fname(out_path,sample,'untrimmed')} \\\n",
    "        -o {fname(out_path,sample,'tmp')}\\\n",
    "        {fname(in_path,sample,'fq.gz')} > {fname (out_path,sample,'report1')} \n",
    "    \n",
    "    !cutadapt -j 0 -u 5 -u -5 --max-n=0 -q 15 -m 20 --length 80 --nextseq-trim=15 \\\n",
    "            --rename='{{id}}_{{cut_prefix}}{{cut_suffix}} {{comment}}'\\\n",
    "            --too-short-output={fname(out_path,sample,'tooshort')} \\\n",
    "            -o {fname(out_path,sample,\"fq.gz\")} \\\n",
    "            {fname(out_path,sample,'tmp')} > {fname(out_path,sample,'report2')}\n",
    "    \n",
    "    !rm {fname(out_path,sample,'tmp')}"
   ]
  },
  {
   "cell_type": "markdown",
   "id": "d52551fe-82fc-4886-8f9d-5852f61c32c4",
   "metadata": {},
   "source": [
    "Paired End Reads\n",
    "Remove any remaining Adapters"
   ]
  },
  {
   "cell_type": "code",
   "execution_count": 217,
   "id": "e2e93aa3-79e4-4e6c-b681-9c7ffb4824d8",
   "metadata": {},
   "outputs": [
    {
     "name": "stdout",
     "output_type": "stream",
     "text": [
      "Done           00:00:03     2,049,267 reads @   1.5 µs/read;  40.41 M reads/minute\n",
      "Done           00:00:02     2,030,926 reads @   1.4 µs/read;  42.36 M reads/minute\n"
     ]
    }
   ],
   "source": [
    "# -a '{adapter};anywhere;' trim adapters left from fastp. `anywhere` allow partial matches at both ends'\n",
    "for sample in samples(end='pe_runs'):\n",
    "    !cutadapt -j 0 \\\n",
    "        -a '{adapter};anywhere;' \\\n",
    "        -u 5 -u -5 --max-n=0 -q 15 -m 20 --length 80 --nextseq-trim=15 \\\n",
    "            --rename='{{id}}_{{cut_prefix}}{{cut_suffix}} {{comment}}'\\\n",
    "            --too-short-output={fname(out_path,sample,'tooshort')} \\\n",
    "            -o {fname(out_path,sample,\"fq.gz\")} \\\n",
    "            {fname(in_path,sample,'fq.gz')} > {fname(out_path,sample,'report2')}"
   ]
  },
  {
   "cell_type": "markdown",
   "id": "434bbfe2-9b64-49aa-8168-0536257d4bc6",
   "metadata": {},
   "source": [
    "#### Analysis"
   ]
  },
  {
   "cell_type": "code",
   "execution_count": 175,
   "id": "e1756fd1-9968-40e5-83dd-20e7b1cdcef4",
   "metadata": {
    "jupyter": {
     "source_hidden": true
    }
   },
   "outputs": [
    {
     "name": "stdout",
     "output_type": "stream",
     "text": [
      "lrwxrwxrwx 1 cdaniels cdaniels   82 Mar 30 09:50 join_pe/c1_r1.fq.gz -> /home/cdaniels/uofc_data/ubs_seq/UBS-seq_basic/workspace/../data/SRR23538290.fq.gz\n",
      "lrwxrwxrwx 1 cdaniels cdaniels   82 Mar 30 09:50 join_pe/t1_r1.fq.gz -> /home/cdaniels/uofc_data/ubs_seq/UBS-seq_basic/workspace/../data/SRR23538292.fq.gz\n",
      "lrwxrwxrwx 1 cdaniels cdaniels   82 Mar 30 09:50 join_pe/t1_r2.fq.gz -> /home/cdaniels/uofc_data/ubs_seq/UBS-seq_basic/workspace/../data/SRR23538291.fq.gz\n",
      "-rw-rw-r-- 1 cdaniels cdaniels 128M Mar 30 13:17 join_pe/t2_r1.fq.gz\n",
      "-rw-rw-r-- 1 cdaniels cdaniels  16M Mar 30 13:17 join_pe/t2_r1_R1.unmatched.fq.gz\n",
      "-rw-rw-r-- 1 cdaniels cdaniels  19M Mar 30 13:17 join_pe/t2_r1_R2.unmatched.fq.gz\n",
      "-rw-rw-r-- 1 cdaniels cdaniels 122M Mar 30 13:17 join_pe/t2_r2.fq.gz\n",
      "-rw-rw-r-- 1 cdaniels cdaniels  16M Mar 30 13:17 join_pe/t2_r2_R1.unmatched.fq.gz\n",
      "-rw-rw-r-- 1 cdaniels cdaniels  19M Mar 30 13:17 join_pe/t2_r2_R2.unmatched.fq.gz\n"
     ]
    }
   ],
   "source": [
    "!ls -lh {in_path}/*gz"
   ]
  },
  {
   "cell_type": "code",
   "execution_count": 218,
   "id": "b304e2d2-d4cd-4d4f-b24e-ace810653bb4",
   "metadata": {},
   "outputs": [
    {
     "name": "stdout",
     "output_type": "stream",
     "text": [
      "-rw-rw-r-- 1 cdaniels cdaniels 28M Mar 30 13:28 trim/c1_r1.fq.gz\n",
      "-rw-rw-r-- 1 cdaniels cdaniels 34M Mar 30 13:28 trim/t1_r1.fq.gz\n",
      "-rw-rw-r-- 1 cdaniels cdaniels 39M Mar 30 13:28 trim/t1_r2.fq.gz\n",
      "-rw-rw-r-- 1 cdaniels cdaniels 82M Mar 30 14:18 trim/t2_r1.fq.gz\n",
      "-rw-rw-r-- 1 cdaniels cdaniels 79M Mar 30 14:18 trim/t2_r2.fq.gz\n"
     ]
    }
   ],
   "source": [
    "!ls -lh {out_path}/*gz"
   ]
  },
  {
   "cell_type": "code",
   "execution_count": 219,
   "id": "842cb049-0321-480c-9c88-27d1463dbb7b",
   "metadata": {},
   "outputs": [
    {
     "name": "stdout",
     "output_type": "stream",
     "text": [
      "     24 CCAGTC\n",
      "     22 CAGTCA\n",
      "     13 CTCCAG\n",
      "     13 AAAAAA\n",
      "     11 TCCAGT\n",
      "      3 GTCTGA\n",
      "      3 AAAGAA\n",
      "      2 TTTTTT\n",
      "      2 TTTGTG\n",
      "      2 TTGTTA\n",
      "711 Total Adapters\n",
      "8197068 Total Reads\n"
     ]
    }
   ],
   "source": [
    "!../scripts/find_barcodes.sh {adapter} {in_path}/t2_r1.fq.gz"
   ]
  },
  {
   "cell_type": "code",
   "execution_count": 220,
   "id": "b2f6ca0e-93e4-477e-91f4-0abce743145f",
   "metadata": {},
   "outputs": [
    {
     "name": "stdout",
     "output_type": "stream",
     "text": [
      "0 Total Adapters\n",
      "7704852 Total Reads\n"
     ]
    }
   ],
   "source": [
    "!../scripts/find_barcodes.sh {adapter} {out_path}/t2_r1.fq.gz"
   ]
  },
  {
   "cell_type": "code",
   "execution_count": 221,
   "id": "3041666c-7cff-41b0-912a-9456d8e621e8",
   "metadata": {},
   "outputs": [
    {
     "name": "stdout",
     "output_type": "stream",
     "text": [
      "0 Total Adapters\n",
      "3578220 Total Reads\n"
     ]
    }
   ],
   "source": [
    "!../scripts/find_barcodes.sh {adapter} {out_path}/c1_r1.fq.gz"
   ]
  },
  {
   "cell_type": "markdown",
   "id": "0deddf8f-d88b-4b1f-832b-328714f045f3",
   "metadata": {},
   "source": [
    "Take a look at a FASTQ file"
   ]
  },
  {
   "cell_type": "code",
   "execution_count": 192,
   "id": "e07c75da-35fd-4c4e-b07a-3696595806f4",
   "metadata": {},
   "outputs": [
    {
     "name": "stdout",
     "output_type": "stream",
     "text": [
      "in_fn  = join_pe/t1_r1.fq.gz\n",
      "out_fn = trim/t1_r1.fq.gz\n"
     ]
    }
   ],
   "source": [
    "in_fn  = fname(in_path,treated_data[0],'fq.gz')\n",
    "out_fn = fname(out_path,treated_data[0],'fq.gz')\n",
    "print(f'in_fn  = {in_fn}')\n",
    "print(f'out_fn = {out_fn}')"
   ]
  },
  {
   "cell_type": "code",
   "execution_count": 193,
   "id": "053a88fa-0c43-4385-8370-1604de67928b",
   "metadata": {},
   "outputs": [
    {
     "name": "stdout",
     "output_type": "stream",
     "text": [
      "c1_r1.fq.gz  t2_r1.json\t\t       t2_r2.html\n",
      "t1_r1.fq.gz  t2_r1.log\t\t       t2_r2.json\n",
      "t1_r2.fq.gz  t2_r1_R1.unmatched.fq.gz  t2_r2.log\n",
      "t2_r1.fq.gz  t2_r1_R2.unmatched.fq.gz  t2_r2_R1.unmatched.fq.gz\n",
      "t2_r1.html   t2_r2.fq.gz\t       t2_r2_R2.unmatched.fq.gz\n"
     ]
    }
   ],
   "source": [
    "!ls {in_path}"
   ]
  },
  {
   "cell_type": "code",
   "execution_count": 194,
   "id": "c450ef4a-6b0d-4ded-a5f1-d387be292b48",
   "metadata": {
    "scrolled": true
   },
   "outputs": [
    {
     "name": "stdout",
     "output_type": "stream",
     "text": [
      "@SRR23538292.50 50 length=121\n",
      "ATTTTTGGTTGATTTTGTTAGTAGTATATGTTTGTTTTAAAGATTAAGTTATGTATGTTTAAGTATGTACATCAATCACGAGATCGGAAGAGCACACGTCTGAACTCCAATCACCACCGGA\n",
      "+\n",
      "FF:,FFFFFFFFFFFF:FFFFFFFFF:FFFFFFFF,FFFF:FFFFFF::F,,:FF:FFFFFFFF:FFFFFFFFFFFFFFFFFFFFFFFFFFFFFFFFFFFF:FFFFFFFF:FFFFFFFF:F\n",
      "@SRR23538292.144 144 length=121\n",
      "TTTGGAAGAAAGGATTTTGTTAATTTTTTTTCGTATATCACGAGATCTGAATAGCACACGTCTGAACTCCAGTCACCACCGGATCTCGGATGCCGTATTCTGCTTGAAAAATTGGGGGGGG\n",
      "+\n",
      "FFFFF:FFFFFF::FFFFFFFFFFFFFFF:FFFFFFFFFFF,F,FFF,,FFFF,FFFFF:F::FFF,FFFF:FFFFFFFFFFFFF::,,,F,,F,:,FF::F,:F:,FF,:,,:,FFFFF,\n",
      "@SRR23538292.276 276 length=121\n",
      "TAACTTGGGGTTAGAAGGTGATTTATTTTTTTTTTTTATAAAAAAAAAAAAAAAAAAAAAAAAAAAAGTAAAAAAACGAAAAACGAAAAACACAACTAAGAAAAACAATCAACACCCGAAA\n",
      "+\n",
      "FFFFF,:,FFFFFFFFF:FFFFFFFFFFFFFFFFFFFFFFFFFFFFFFFFFFFFFFFFFFFFFFFFF,,,::FF:F,,,::,:,,,F:,,:F,,:,,,,,:F,:FF,,,,,,F,:FF,::,\n",
      "@SRR23538292.379 379 length=121\n",
      "GGTATGAAGATATTTTGGATGATTGATTGTAAAATCTATCACGAGATCGGAAGAGCACACGTCTGAACTCCAGTCACCACCGGATCTCGTATGCCGTCTTCTGCTTGTAAAATCGGGGGGG\n",
      "+\n",
      "FFFFFFFFFFFFFFFFFFFFFFFFFFFFFFFFFFFFFFFFF,FFFFFF:FFFFFFFFFFFFFFFFFFFFFFFFFFFFFFFFFFFFF,F:::F,,::FF,F,,:,,F:,,F:,,,::FFFFF\n",
      "\n",
      "gzip: stdout: Broken pipe\n"
     ]
    }
   ],
   "source": [
    "! zcat {in_fn}|head -16"
   ]
  },
  {
   "cell_type": "code",
   "execution_count": 195,
   "id": "bbff0c14-bd75-4988-a235-07400fa4a89b",
   "metadata": {},
   "outputs": [],
   "source": [
    "def show_adapter(reads):\n",
    "    for read in reads.split('\\n'):\n",
    "        read = read.replace(adapter, f'<span style=\"color: blue;\">{barcode}{adapter}</span>')\n",
    "        #read = read.replace(adapter, f'<span style=\"color: blue;\">{adapter}</span>')\n",
    "        display(HTML(read))"
   ]
  },
  {
   "cell_type": "markdown",
   "id": "b131dc87-f706-4aa6-b82d-8fec51b0b7c2",
   "metadata": {},
   "source": [
    "Look for adapter in untrimmed reads"
   ]
  },
  {
   "cell_type": "code",
   "execution_count": 196,
   "id": "c6560944-596a-443c-9f53-d07613ceedbd",
   "metadata": {},
   "outputs": [
    {
     "data": {
      "text/html": [
       "ATTTTTGGTTGATTTTGTTAGTAGTATATGTTTGTTTTAAAGATTAAGTTATGTATGTTTAAGTATGTACATCAATCACG<span style=\"color: blue;\">ATCACGAGATCGGAAGAGCACACGTCT</span>GAACTCCAATCACCACCGGA"
      ],
      "text/plain": [
       "<IPython.core.display.HTML object>"
      ]
     },
     "metadata": {},
     "output_type": "display_data"
    },
    {
     "data": {
      "text/html": [
       "TTTGGAAGAAAGGATTTTGTTAATTTTTTTTCGTATATCACGAGATCTGAATAGCACACGTCTGAACTCCAGTCACCACCGGATCTCGGATGCCGTATTCTGCTTGAAAAATTGGGGGGGG"
      ],
      "text/plain": [
       "<IPython.core.display.HTML object>"
      ]
     },
     "metadata": {},
     "output_type": "display_data"
    },
    {
     "data": {
      "text/html": [
       "TAACTTGGGGTTAGAAGGTGATTTATTTTTTTTTTTTATAAAAAAAAAAAAAAAAAAAAAAAAAAAAGTAAAAAAACGAAAAACGAAAAACACAACTAAGAAAAACAATCAACACCCGAAA"
      ],
      "text/plain": [
       "<IPython.core.display.HTML object>"
      ]
     },
     "metadata": {},
     "output_type": "display_data"
    },
    {
     "data": {
      "text/html": [
       "GGTATGAAGATATTTTGGATGATTGATTGTAAAATCTATCACG<span style=\"color: blue;\">ATCACGAGATCGGAAGAGCACACGTCT</span>GAACTCCAGTCACCACCGGATCTCGTATGCCGTCTTCTGCTTGTAAAATCGGGGGGG"
      ],
      "text/plain": [
       "<IPython.core.display.HTML object>"
      ]
     },
     "metadata": {},
     "output_type": "display_data"
    },
    {
     "data": {
      "text/html": [
       "TATTAATTTAATATAGAAAAGGAAGGTTAGTTAGTTAGTAGGTATAGAAAAGAAATTTTATTTTGATGTTTAGGGGATTTGTTTTGTCTATATCACG<span style=\"color: blue;\">ATCACGAGATCGGAAGAGCACACGTCT</span>GAA"
      ],
      "text/plain": [
       "<IPython.core.display.HTML object>"
      ]
     },
     "metadata": {},
     "output_type": "display_data"
    },
    {
     "data": {
      "text/html": [
       "CTAGGAGTTGTAGAGAAATGTATTTTTATAGAAATTAAGACTTTATCACGATATCGGAAGAGCACACGTCTGAACTCCAGTCACCACCGGATCTCGTATGCCGTCTTCTTCTTGAAAAAAA"
      ],
      "text/plain": [
       "<IPython.core.display.HTML object>"
      ]
     },
     "metadata": {},
     "output_type": "display_data"
    },
    {
     "data": {
      "text/html": [
       "CACTATTTAAAAGGGATTAGAAAGTGGGTGTGGGAGGTAGAAATTTTTTGTATAGAGTGATAGTATTACGATCACG<span style=\"color: blue;\">ATCACGAGATCGGAAGAGCACACGTCT</span>GAACTCCAGTCACCACCGGATCTC"
      ],
      "text/plain": [
       "<IPython.core.display.HTML object>"
      ]
     },
     "metadata": {},
     "output_type": "display_data"
    },
    {
     "data": {
      "text/html": [
       "CGCAAAGGTTAAATGAATATTATTTTTAATATTTGTTATTTTATTTTTAATTAGTGGTGGAAGAGTGGTTTTAGAATTGTTTGTTTTCATTCATCACG<span style=\"color: blue;\">ATCACGAGATCGGAAGAGCACACGTCT</span>GA"
      ],
      "text/plain": [
       "<IPython.core.display.HTML object>"
      ]
     },
     "metadata": {},
     "output_type": "display_data"
    },
    {
     "data": {
      "text/html": [
       "GAAAGAGTAATGTGTAGTTTAAGTTGATTATTGTGGATGTTGTCGGTTTTGGGGATTAGATTAATCCGTTATCACG<span style=\"color: blue;\">ATCACGAGATCGGAAGAGCACACGTCT</span>GAACTCCAGTCACCACCGGATCTC"
      ],
      "text/plain": [
       "<IPython.core.display.HTML object>"
      ]
     },
     "metadata": {},
     "output_type": "display_data"
    }
   ],
   "source": [
    "reads = ! zcat {in_fn} | head -36  | seqtk seq -A |grep -v '>'\n",
    "reads = ('\\n').join(reads)\n",
    "show_adapter(reads)"
   ]
  },
  {
   "cell_type": "markdown",
   "id": "fad1e27a-a3a6-4bfe-9920-203e65654575",
   "metadata": {},
   "source": [
    "Verify that adapters and all downstream elements of reads have been trimmed"
   ]
  },
  {
   "cell_type": "code",
   "execution_count": 197,
   "id": "65a7f174-35a8-4956-bdf3-eb86888a902a",
   "metadata": {},
   "outputs": [
    {
     "data": {
      "text/html": [
       "TGGTTGATTTTGTTAGTAGTATATGTTTGTTTTAAAGATTAAGTTATGTATGTTTAAGTATGTA"
      ],
      "text/plain": [
       "<IPython.core.display.HTML object>"
      ]
     },
     "metadata": {},
     "output_type": "display_data"
    },
    {
     "data": {
      "text/html": [
       "AAGAAAGGATTTTGTTAATTTTTTTT"
      ],
      "text/plain": [
       "<IPython.core.display.HTML object>"
      ]
     },
     "metadata": {},
     "output_type": "display_data"
    },
    {
     "data": {
      "text/html": [
       "GAAGATATTTTGGATGATTGATTGTAA"
      ],
      "text/plain": [
       "<IPython.core.display.HTML object>"
      ]
     },
     "metadata": {},
     "output_type": "display_data"
    },
    {
     "data": {
      "text/html": [
       "ATTTAATATAGAAAAGGAAGGTTAGTTAGTTAGTAGGTATAGAAAAGAAATTTTATTTTGATGTTTAGGGGATTTGTTTT"
      ],
      "text/plain": [
       "<IPython.core.display.HTML object>"
      ]
     },
     "metadata": {},
     "output_type": "display_data"
    },
    {
     "data": {
      "text/html": [
       "AGTTGTAGAGAAATGTATTTTTATAGAAATTAA"
      ],
      "text/plain": [
       "<IPython.core.display.HTML object>"
      ]
     },
     "metadata": {},
     "output_type": "display_data"
    },
    {
     "data": {
      "text/html": [
       "TTTAAAAGGGATTAGAAAGTGGGTGTGGGAGGTAGAAATTTTTTGTATAGAGTGATAGTA"
      ],
      "text/plain": [
       "<IPython.core.display.HTML object>"
      ]
     },
     "metadata": {},
     "output_type": "display_data"
    },
    {
     "data": {
      "text/html": [
       "AGGTTAAATGAATATTATTTTTAATATTTGTTATTTTATTTTTAATTAGTGGTGGAAGAGTGGTTTTAGAATTGTTTGTT"
      ],
      "text/plain": [
       "<IPython.core.display.HTML object>"
      ]
     },
     "metadata": {},
     "output_type": "display_data"
    },
    {
     "data": {
      "text/html": [
       "AGTAATGTGTAGTTTAAGTTGATTATTGTGGATGTTGTCGGTTTTGGGGATTAGATTAAT"
      ],
      "text/plain": [
       "<IPython.core.display.HTML object>"
      ]
     },
     "metadata": {},
     "output_type": "display_data"
    },
    {
     "data": {
      "text/html": [
       "TTGAAGGATATTGTTATAGTAGAGAGAGT"
      ],
      "text/plain": [
       "<IPython.core.display.HTML object>"
      ]
     },
     "metadata": {},
     "output_type": "display_data"
    }
   ],
   "source": [
    "reads = !zcat {out_fn}| head -36  | seqtk seq -A |grep -v '>'\n",
    "reads = ('\\n').join(reads)\n",
    "show_adapter(reads)"
   ]
  },
  {
   "cell_type": "code",
   "execution_count": 198,
   "id": "27ed8414-eba7-471c-bbde-314fa77492f9",
   "metadata": {},
   "outputs": [
    {
     "name": "stdout",
     "output_type": "stream",
     "text": [
      "c1_r1.fq.gz\t t1_r1.report1\t  t1_r2.report2    t2_r2.fq.gz\n",
      "c1_r1.report1\t t1_r1.report2\t  t1_r2.tooshort   t2_r2.report2\n",
      "c1_r1.report2\t t1_r1.tooshort   t1_r2.untrimmed  t2_r2.tooshort\n",
      "c1_r1.tooshort\t t1_r1.untrimmed  t2_r1.fq.gz\n",
      "c1_r1.untrimmed  t1_r2.fq.gz\t  t2_r1.report2\n",
      "t1_r1.fq.gz\t t1_r2.report1\t  t2_r1.tooshort\n"
     ]
    }
   ],
   "source": [
    "!ls {out_path}"
   ]
  },
  {
   "cell_type": "markdown",
   "id": "b28de976-ebee-4727-a44a-a3379cd8757e",
   "metadata": {},
   "source": [
    "What did `--rename='{{id}}_{{cut_prefix}}{{cut_suffix}} {{comment}}'` do?\n",
    "\n",
    "It appears to has included in the fastq header, an id comprised of the first and last 5 nt cut by `-u 5` and `-u -5`"
   ]
  },
  {
   "cell_type": "code",
   "execution_count": 199,
   "id": "b2c72e26-ecf2-4712-9909-fd202e1eed08",
   "metadata": {
    "scrolled": true
   },
   "outputs": [
    {
     "name": "stdout",
     "output_type": "stream",
     "text": [
      "@SRR23538292.50 50 length=121\n",
      "ATTTTTGGTTGATTTTGTTAGTAGTATATGTTTGTTTTAAAGATTAAGTTATGTATGTTTAAGTATGTACATCAATCACGAGATCGGAAGAGCACACGTCTGAACTCCAATCACCACCGGA\n",
      "\n",
      "gzip: stdout: Broken pipe\n"
     ]
    }
   ],
   "source": [
    "! zcat {in_fn}|head -2  "
   ]
  },
  {
   "cell_type": "code",
   "execution_count": 200,
   "id": "97272d2b-9170-4935-8801-907e7ffcb1f0",
   "metadata": {},
   "outputs": [
    {
     "name": "stdout",
     "output_type": "stream",
     "text": [
      "@SRR23538292.50_ATTTTCATCA 50 length=121\n",
      "TGGTTGATTTTGTTAGTAGTATATGTTTGTTTTAAAGATTAAGTTATGTATGTTTAAGTATGTA\n",
      "\n",
      "gzip: stdout: Broken pipe\n"
     ]
    }
   ],
   "source": [
    "!zcat {out_fn}| head -2"
   ]
  },
  {
   "cell_type": "markdown",
   "id": "c37417da-f21f-483c-9a02-f84c5be479df",
   "metadata": {},
   "source": [
    "Too slow for large files. Commented out."
   ]
  },
  {
   "cell_type": "code",
   "execution_count": 43,
   "id": "9004da50-f983-496a-8ec4-7e8a45047d22",
   "metadata": {},
   "outputs": [],
   "source": [
    "#files = [fname(in_path,sample, \"fq.gz\") for sample in samples]\n",
    "#res = []\n",
    "#for f in files:\n",
    "#    n = !seqtk seq -A {f}|grep -v '>'|wc -c\n",
    "#    res.append(int(n[0]))\n",
    "#ins = res\n",
    "#ins"
   ]
  },
  {
   "cell_type": "code",
   "execution_count": 44,
   "id": "fb5d33e9-c511-41f2-b8d4-3f7e606fa4ad",
   "metadata": {},
   "outputs": [],
   "source": [
    "#files = [fname(out_path,sample, \"fq.gz\") for sample in samples]\n",
    "#res = []\n",
    "#for f in files:\n",
    "#    n = !seqtk seq -A {f}|grep -v '>'|wc -c\n",
    "#    res.append(int(n[0]))\n",
    "#outs = res\n",
    "#outs"
   ]
  },
  {
   "cell_type": "code",
   "execution_count": 45,
   "id": "34da7817",
   "metadata": {},
   "outputs": [],
   "source": [
    "#make_table(ins, outs, \"Origs\", \"Trimmed\", \"Sum of Total Read Lengths\", samples, \"Sum of Total Reads Per Sample\")"
   ]
  },
  {
   "cell_type": "code",
   "execution_count": 46,
   "id": "728a7038-553c-4428-9112-becd7d1c87cf",
   "metadata": {},
   "outputs": [],
   "source": [
    "#reads = !xargs zcat {out_path}/*.gz | seqtk seq -A  |grep -v \">\" \n",
    "#ds = [len(read) for read in reads]\n",
    "#make_histogram(ds, \"Read Length\", \"Trimmed Reads\")"
   ]
  },
  {
   "cell_type": "markdown",
   "id": "bf68d82c-0200-4613-b5b6-497fde519e16",
   "metadata": {},
   "source": [
    "## Step: fastqc_post"
   ]
  },
  {
   "cell_type": "markdown",
   "id": "8198a2d4-8f2f-46de-ba05-5b335a21bc2e",
   "metadata": {},
   "source": [
    "#### Post Trimming Quality Control"
   ]
  },
  {
   "cell_type": "code",
   "execution_count": 222,
   "id": "140ea0f2-cb1c-48a6-adbd-5264b92c8e1f",
   "metadata": {},
   "outputs": [
    {
     "name": "stdout",
     "output_type": "stream",
     "text": [
      ">>> {trim} 14:23:18_03-30-2024\n",
      ">>> {fastqc_post} 14:23:18_03-30-2024\n"
     ]
    }
   ],
   "source": [
    "in_path = mkpath(\"trim\")\n",
    "out_path = mkpath(\"fastqc_post\")"
   ]
  },
  {
   "cell_type": "code",
   "execution_count": 223,
   "id": "aa72c0a9-9280-4255-b5d6-d0d0258181c0",
   "metadata": {},
   "outputs": [
    {
     "name": "stdout",
     "output_type": "stream",
     "text": [
      "application/gzip\n",
      "Analysis complete for t1_r1.fq.gz\n",
      "application/gzip\n",
      "Analysis complete for t1_r2.fq.gz\n",
      "application/gzip\n",
      "Analysis complete for t2_r1.fq.gz\n",
      "application/gzip\n",
      "Analysis complete for t2_r2.fq.gz\n",
      "application/gzip\n",
      "Analysis complete for c1_r1.fq.gz\n"
     ]
    }
   ],
   "source": [
    "for sample in samples(end='runs'):\n",
    "    ! fastqc {fname(in_path,sample,\"fq.gz\")} -o {out_path} 2> /dev/null"
   ]
  },
  {
   "cell_type": "markdown",
   "id": "69de1cf7-fa1b-49f1-ba6a-a14126989904",
   "metadata": {},
   "source": [
    "#### Consolidate fastqc Reports"
   ]
  },
  {
   "cell_type": "code",
   "execution_count": 224,
   "id": "e751dc92-97ee-4f4e-af15-6d05c1fb49ce",
   "metadata": {},
   "outputs": [
    {
     "name": "stdout",
     "output_type": "stream",
     "text": [
      "\n",
      "  \u001b[91m///\u001b[0m \u001b]8;id=148460;https://multiqc.info\u001b\\\u001b[1mMultiQC\u001b[0m\u001b]8;;\u001b\\ 🔍 \u001b[2m| v1.19\u001b[0m\n",
      "\n",
      "\u001b[34m|           multiqc\u001b[0m | \u001b[33mMultiQC Version v1.21 now available!\u001b[0m\n",
      "\u001b[34m|           multiqc\u001b[0m | Only using modules: fastqc\n",
      "\u001b[34m|           multiqc\u001b[0m | Search path : /home/cdaniels/uofc_data/ubs_seq/UBS-seq_basic/workspace/fastqc_post\n",
      "\u001b[2K\u001b[34m|\u001b[0m         \u001b[34msearching\u001b[0m | \u001b[90m━━━━━━━━━━━━━━━━━━━━━━━━━━━━━━━━━━━━━━━━\u001b[0m \u001b[35m100%\u001b[0m \u001b[32m11/11\u001b[0m  11\u001b[0m  \n",
      "\u001b[?25h\u001b[34m|            fastqc\u001b[0m | Found 5 reports\n",
      "\u001b[34m|           multiqc\u001b[0m | Report      : fastqc_post/multiqc.html   (overwritten)\n",
      "\u001b[34m|           multiqc\u001b[0m | Data        : fastqc_post/multiqc_data   (overwritten)\n",
      "\u001b[34m|           multiqc\u001b[0m | MultiQC complete\n"
     ]
    }
   ],
   "source": [
    "!multiqc -f -fp -m fastqc -n multiqc -o {out_path} {out_path}"
   ]
  },
  {
   "cell_type": "markdown",
   "id": "bd28f83d-0595-4b9d-9db8-f56f2fff41da",
   "metadata": {},
   "source": [
    "## Step: map_se"
   ]
  },
  {
   "cell_type": "markdown",
   "id": "8e057fd4-bbc7-4b7f-8939-4ba2333a97d0",
   "metadata": {},
   "source": [
    "#### Map Single Ended Reads with Hisat-3n"
   ]
  },
  {
   "cell_type": "code",
   "execution_count": 240,
   "id": "93edc8f9-2ceb-45bf-a339-18d905b330b7",
   "metadata": {},
   "outputs": [
    {
     "name": "stdout",
     "output_type": "stream",
     "text": [
      ">>> {trim} 14:48:32_03-30-2024\n",
      ">>> {map_se} 14:48:32_03-30-2024\n"
     ]
    }
   ],
   "source": [
    "in_path = mkpath(\"trim\")\n",
    "out_path = mkpath(\"map_se\")"
   ]
  },
  {
   "cell_type": "markdown",
   "id": "3e70384d-dd3d-4d6c-8266-d38d43eaf766",
   "metadata": {},
   "source": [
    "#### hisat-3n"
   ]
  },
  {
   "cell_type": "markdown",
   "id": "ed1ac75b-4c17-4dd2-85bc-ac9ca4e2b750",
   "metadata": {},
   "source": [
    "http://daehwankimlab.github.io/hisat2/hisat-3n/"
   ]
  },
  {
   "cell_type": "code",
   "execution_count": 52,
   "id": "1b39bb8b-aeb9-430a-9fe3-5cf580577024",
   "metadata": {
    "scrolled": true
   },
   "outputs": [],
   "source": [
    "#!hisat-3n --help"
   ]
  },
  {
   "cell_type": "markdown",
   "id": "de01019d-11d5-4fee-b6e9-1c27c8c2ab74",
   "metadata": {
    "scrolled": true
   },
   "source": [
    "```\n",
    "hisat3n --index {params.index} \n",
    "        -p {threads}\n",
    "        --summary-file {output.summary} --new-summary -q -U {input} \n",
    "        {params.mapping} --all --norc --base-change C,T --mp 8,2 \n",
    "        --no-spliced-alignment --un {output.fq} -S {output.sam}\n",
    "```"
   ]
  },
  {
   "cell_type": "markdown",
   "id": "4f1644db-d16b-40fd-8067-f916de6f7cf0",
   "metadata": {},
   "source": [
    "##### paramaters:\n",
    "- --index {params.index}, Index filename prefix (minus trailing .X.ht2) \n",
    "- -p {nc}, number of threads\n",
    "- --summary-file, print alignment summary to this file.\n",
    "- --new-summary, print alignment summary in a new style, which is more machine-friendly.\n",
    "- -q, query input files are FASTQ .fq/.fastq (default)\n",
    "- -U {input}, \n",
    "- --directional-mapping, make directional mapping, please use this option only if your reads are prepared with a strand specific library (off)\n",
    "- --base-change C,T,  the converted nucleotide and converted to nucleotide (C,T)\n",
    "- --pen-noncansplice 20, penalty for a non-canonical splice site (12)\n",
    "- --mp 4,1,  max and min penalties for mismatch; lower qual = lower penalty <6,2>\n",
    "- --un {output.fq}, write unpaired reads that didn't align to <path> \n",
    "- -S {output.sam}, File for SAM output (default: stdout)"
   ]
  },
  {
   "cell_type": "markdown",
   "id": "770d35be-bdbc-4b4b-9f6f-dae888ba4795",
   "metadata": {},
   "source": [
    "#### Map Reads to Genes"
   ]
  },
  {
   "cell_type": "markdown",
   "id": "b5d55d7b-fa34-4546-b2c2-fa711be5ab64",
   "metadata": {},
   "source": [
    "This is a filtering step to remove reads aligned to reference genes including rRNA and tRNA\n",
    "\n",
    "The unmapped reads are saved as `sample.genes.fq.gz`, which are subsequently mapped to the genome"
   ]
  },
  {
   "cell_type": "code",
   "execution_count": 241,
   "id": "11ec2d01-75f2-4b56-b2b9-03684149809b",
   "metadata": {},
   "outputs": [
    {
     "name": "stdout",
     "output_type": "stream",
     "text": [
      "HISAT2 summary stats:\n",
      "\tTotal reads: 1134400\n",
      "\t\tAligned 0 time: 1101752 (97.12%)\n",
      "\t\tAligned 1 time: 11401 (1.01%)\n",
      "\t\tAligned >1 times: 21247 (1.87%)\n",
      "\tOverall alignment rate: 2.88%\n",
      "HISAT2 summary stats:\n",
      "\tTotal reads: 1306170\n",
      "\t\tAligned 0 time: 1268982 (97.15%)\n",
      "\t\tAligned 1 time: 14344 (1.10%)\n",
      "\t\tAligned >1 times: 22844 (1.75%)\n",
      "\tOverall alignment rate: 2.85%\n",
      "HISAT2 summary stats:\n",
      "\tTotal reads: 1926213\n",
      "\t\tAligned 0 time: 1923148 (99.84%)\n",
      "\t\tAligned 1 time: 743 (0.04%)\n",
      "\t\tAligned >1 times: 2322 (0.12%)\n",
      "\tOverall alignment rate: 0.16%\n",
      "HISAT2 summary stats:\n",
      "\tTotal reads: 1853306\n",
      "\t\tAligned 0 time: 1850270 (99.84%)\n",
      "\t\tAligned 1 time: 728 (0.04%)\n",
      "\t\tAligned >1 times: 2308 (0.12%)\n",
      "\tOverall alignment rate: 0.16%\n",
      "HISAT2 summary stats:\n",
      "\tTotal reads: 894555\n",
      "\t\tAligned 0 time: 869716 (97.22%)\n",
      "\t\tAligned 1 time: 9804 (1.10%)\n",
      "\t\tAligned >1 times: 15035 (1.68%)\n",
      "\tOverall alignment rate: 2.78%\n"
     ]
    }
   ],
   "source": [
    "for sample in samples():\n",
    "    !hisat-3n --index {genes_idx}\\\n",
    "        -p {nc}\\\n",
    "        --summary-file {fname(out_path,sample,'summary',extra='genes')}\\\n",
    "        --new-summary -q\\\n",
    "        -U {fname(in_path,sample,'fq.gz')}\\\n",
    "        --directional-mapping --all --norc \\\n",
    "        --base-change C,T\\\n",
    "        --no-spliced-alignment --mp 8,2\\\n",
    "        --un {fname(out_path,sample,'fq',extra='genes')}\\\n",
    "        -S {fname(out_path,sample,'sam',extra='genes')}"
   ]
  },
  {
   "cell_type": "code",
   "execution_count": 242,
   "id": "10f0bc0e-3985-427c-af5e-882286fc0c20",
   "metadata": {},
   "outputs": [
    {
     "name": "stdout",
     "output_type": "stream",
     "text": [
      "c1_r1_genes.fq\t     t1_r1_genes.summary  t2_r1_genes.sam\n",
      "c1_r1_genes.sam      t1_r2_genes.fq\t  t2_r1_genes.summary\n",
      "c1_r1_genes.summary  t1_r2_genes.sam\t  t2_r2_genes.fq\n",
      "t1_r1_genes.fq\t     t1_r2_genes.summary  t2_r2_genes.sam\n",
      "t1_r1_genes.sam      t2_r1_genes.fq\t  t2_r2_genes.summary\n"
     ]
    }
   ],
   "source": [
    "! ls {out_path}"
   ]
  },
  {
   "cell_type": "markdown",
   "id": "12ef71a2-1e8b-4c06-9953-bad3b25b49e0",
   "metadata": {},
   "source": [
    "#### Map Reads to Genome"
   ]
  },
  {
   "cell_type": "markdown",
   "id": "d806e8bb-0dfc-49be-bef6-0b66dd258dc5",
   "metadata": {},
   "source": [
    "Reads mapped to the genome are saved as `sample.genome.sam` and used for subsequent steps in the pipeline"
   ]
  },
  {
   "cell_type": "code",
   "execution_count": 243,
   "id": "5cdd8492-fa94-4434-9881-9231dba08130",
   "metadata": {},
   "outputs": [
    {
     "name": "stdout",
     "output_type": "stream",
     "text": [
      "HISAT2 summary stats:\n",
      "\tTotal reads: 1101752\n",
      "\t\tAligned 0 time: 103501 (9.39%)\n",
      "\t\tAligned 1 time: 805919 (73.15%)\n",
      "\t\tAligned >1 times: 192332 (17.46%)\n",
      "\tOverall alignment rate: 90.61%\n",
      "HISAT2 summary stats:\n",
      "\tTotal reads: 1268982\n",
      "\t\tAligned 0 time: 122557 (9.66%)\n",
      "\t\tAligned 1 time: 920573 (72.54%)\n",
      "\t\tAligned >1 times: 225852 (17.80%)\n",
      "\tOverall alignment rate: 90.34%\n",
      "HISAT2 summary stats:\n",
      "\tTotal reads: 1923148\n",
      "\t\tAligned 0 time: 76515 (3.98%)\n",
      "\t\tAligned 1 time: 1647704 (85.68%)\n",
      "\t\tAligned >1 times: 198929 (10.34%)\n",
      "\tOverall alignment rate: 96.02%\n",
      "HISAT2 summary stats:\n",
      "\tTotal reads: 1850270\n",
      "\t\tAligned 0 time: 75637 (4.09%)\n",
      "\t\tAligned 1 time: 1581481 (85.47%)\n",
      "\t\tAligned >1 times: 193152 (10.44%)\n",
      "\tOverall alignment rate: 95.91%\n",
      "HISAT2 summary stats:\n",
      "\tTotal reads: 869716\n",
      "\t\tAligned 0 time: 73714 (8.48%)\n",
      "\t\tAligned 1 time: 651997 (74.97%)\n",
      "\t\tAligned >1 times: 144005 (16.56%)\n",
      "\tOverall alignment rate: 91.52%\n"
     ]
    }
   ],
   "source": [
    "for sample in samples():\n",
    "    !hisat-3n --index {genome_idx}\\\n",
    "        -p {nc}\\\n",
    "        --summary-file {fname(out_path,sample,'summary',extra='genome')}\\\n",
    "        --new-summary\\\n",
    "        -q\\\n",
    "        -U {fname(out_path,sample,'fq',extra='genes')}\\\n",
    "        --directional-mapping\\\n",
    "        --base-change C,T\\\n",
    "        --pen-noncansplice 20\\\n",
    "        --mp 4,1\\\n",
    "        --un {fname(out_path,sample,'fq',extra='genome')}\\\n",
    "        -S {fname(out_path,sample,'sam',extra='genome')}"
   ]
  },
  {
   "cell_type": "code",
   "execution_count": 244,
   "id": "46740021-5005-4f9b-99f1-ff212d7d82de",
   "metadata": {},
   "outputs": [
    {
     "name": "stdout",
     "output_type": "stream",
     "text": [
      "c1_r1_genes.fq\t      t1_r1_genome.sam\t    t2_r1_genes.summary\n",
      "c1_r1_genes.sam       t1_r1_genome.summary  t2_r1_genome.fq\n",
      "c1_r1_genes.summary   t1_r2_genes.fq\t    t2_r1_genome.sam\n",
      "c1_r1_genome.fq       t1_r2_genes.sam\t    t2_r1_genome.summary\n",
      "c1_r1_genome.sam      t1_r2_genes.summary   t2_r2_genes.fq\n",
      "c1_r1_genome.summary  t1_r2_genome.fq\t    t2_r2_genes.sam\n",
      "t1_r1_genes.fq\t      t1_r2_genome.sam\t    t2_r2_genes.summary\n",
      "t1_r1_genes.sam       t1_r2_genome.summary  t2_r2_genome.fq\n",
      "t1_r1_genes.summary   t2_r1_genes.fq\t    t2_r2_genome.sam\n",
      "t1_r1_genome.fq       t2_r1_genes.sam\t    t2_r2_genome.summary\n"
     ]
    }
   ],
   "source": [
    "!ls {out_path}"
   ]
  },
  {
   "cell_type": "markdown",
   "id": "a75518af-e48f-42e8-a81e-ab35906a30db",
   "metadata": {},
   "source": [
    "#### Sort and Index Reads"
   ]
  },
  {
   "cell_type": "code",
   "execution_count": 246,
   "id": "8e88f32b-f266-43cc-88e9-98179c60a071",
   "metadata": {},
   "outputs": [
    {
     "name": "stdout",
     "output_type": "stream",
     "text": [
      "[bam_sort_core] merging from 0 files and 32 in-memory blocks...\n",
      "[bam_sort_core] merging from 0 files and 32 in-memory blocks...\n",
      "[bam_sort_core] merging from 0 files and 32 in-memory blocks...\n",
      "[bam_sort_core] merging from 0 files and 32 in-memory blocks...\n",
      "[bam_sort_core] merging from 0 files and 32 in-memory blocks...\n",
      "[bam_sort_core] merging from 0 files and 32 in-memory blocks...\n",
      "[bam_sort_core] merging from 0 files and 32 in-memory blocks...\n",
      "[bam_sort_core] merging from 0 files and 32 in-memory blocks...\n",
      "[bam_sort_core] merging from 0 files and 32 in-memory blocks...\n",
      "[bam_sort_core] merging from 0 files and 32 in-memory blocks...\n"
     ]
    }
   ],
   "source": [
    "for sample in samples(extra=['genes','genome']):\n",
    "    ! samtools view -@ {nc} -F4 -b {fname(out_path, sample,'sam')}  | \\\n",
    "      samtools sort -@ {nc} --write-index -O BAM -o {fname(out_path,sample,'bam')} - \n",
    "    ! rm {fname(out_path,sample,'sam')}"
   ]
  },
  {
   "cell_type": "code",
   "execution_count": 249,
   "id": "1140e2ed-32b3-42f7-a115-5e6cb3175653",
   "metadata": {},
   "outputs": [],
   "source": [
    "#!ls -lh {out_path}"
   ]
  },
  {
   "cell_type": "markdown",
   "id": "13d1f401-bb09-4e0a-8bfa-c6f4a36c23f7",
   "metadata": {},
   "source": [
    "Flags:\n",
    "- 0: Aligned to Positive Strand\n",
    "- 4: Unaligned\n",
    "- 16: Aligned to Negative Strand"
   ]
  },
  {
   "cell_type": "code",
   "execution_count": 251,
   "id": "5ab989d2-949f-4351-a350-c437af74b335",
   "metadata": {},
   "outputs": [
    {
     "name": "stdout",
     "output_type": "stream",
     "text": [
      "SRR23538292.16828166_TTCTTGTTTG\t272\t1\t14365\t1\t37M\t*\t0\t0\tTACACAGCTAAAAATCCTTTATTAAAAACACACTATT\tFFFFFFFFFFFFFFFFFFFFFFFFFFFFFFFFFF:FF\tAS:i:0\tNH:i:9\tXM:i:0\tNM:i:0\tMD:Z:1G8G1G14G6G2\tYZ:A:-\tYf:i:5\tZf:i:1\tZS:i:0\tXN:i:0\tXO:i:0\tXG:i:0\n",
      "SRR23538292.47105120_GCTTACCGGT\t272\t1\t14436\t1\t30M\t*\t0\t0\tATTTTCTCTAAAAACCTCTTAAAAACACAA\tFFFFFFFFFFFFFFFF:FFFFFFFFFFFFF\tAS:i:0\tNH:i:5\tXM:i:0\tNM:i:0\tMD:Z:0G8G0G2G8G6G0\tYZ:A:-\tYf:i:6\tZf:i:0\tZS:i:0\tXN:i:0\tXO:i:0\tXG:i:0\n",
      "SRR23538292.73611032_TGGTTTCACA\t272\t1\t14495\t1\t40M\t*\t0\t0\tATAAAACACAAACAAACAAAAATCCCCACCCCAACTATAT\tFFFFFFFFFFFFFFFFFFFFFFFFFFFFFFFFFFFFFFFF\tAS:i:0\tNH:i:7\tXM:i:0\tNM:i:0\tMD:Z:2G0G1G4G0G2G3G2G5G5G2G1G1\tYZ:A:-\tYf:i:12\tZf:i:0\tZS:i:0\tXN:i:0\tXO:i:0\tXG:i:0\n",
      "SRR23538292.59531043_AATAGCCCAG\t272\t1\t14499\t1\t30M\t*\t0\t0\tAACACAAACAAACAAAAATCCCCACCCCAA\tFFFFFFFFFFFFFFFFFFFFFFFFFFFFFF\tAS:i:0\tNH:i:7\tXM:i:0\tNM:i:0\tMD:Z:1G4G0G2G3G2G5G5G0\tYZ:A:-\tYf:i:8\tZf:i:0\tZS:i:0\tXN:i:0\tXO:i:0\tXG:i:0\n"
     ]
    }
   ],
   "source": [
    "! samtools view {out_path}/t1_r1_genome.bam 2> /dev/null |head -4"
   ]
  },
  {
   "cell_type": "markdown",
   "id": "f6f8d5b6-38b5-47ed-818d-ce9460fe2d00",
   "metadata": {},
   "source": [
    "## Step: merge_se_runs"
   ]
  },
  {
   "cell_type": "markdown",
   "id": "f7fbcd17-7458-443a-98ba-e10d13d13976",
   "metadata": {},
   "source": [
    "#### Merge Single Ended Run Reads\n",
    "\n",
    "Multiple runs for single ended reads are merged together"
   ]
  },
  {
   "cell_type": "code",
   "execution_count": 361,
   "id": "de3deab4-359d-4dd2-a02b-f5375e8ca2e9",
   "metadata": {},
   "outputs": [
    {
     "name": "stdout",
     "output_type": "stream",
     "text": [
      ">>> {map_se} 16:05:25_03-30-2024\n",
      ">>> {merge_se_runs} 16:05:25_03-30-2024\n"
     ]
    }
   ],
   "source": [
    "in_path = mkpath(\"map_se\")\n",
    "out_path = mkpath(\"merge_se_runs\")"
   ]
  },
  {
   "cell_type": "code",
   "execution_count": 362,
   "id": "2ff7f0ed-207d-4d08-a995-d97af8d58ea2",
   "metadata": {},
   "outputs": [
    {
     "data": {
      "text/plain": [
       "[['map_se/t1_r2_genes.bam', 'map_se/t1_r1_genes.bam'],\n",
       " ['map_se/t1_r2_genome.bam', 'map_se/t1_r1_genome.bam'],\n",
       " ['map_se/t2_r1_genes.bam', 'map_se/t2_r2_genes.bam'],\n",
       " ['map_se/t2_r2_genome.bam', 'map_se/t2_r1_genome.bam'],\n",
       " ['map_se/c1_r1_genes.bam'],\n",
       " ['map_se/c1_r1_genome.bam']]"
      ]
     },
     "execution_count": 362,
     "metadata": {},
     "output_type": "execute_result"
    }
   ],
   "source": [
    "pattern = f'{in_path}/{{sample}}_{{ref}}'\n",
    "fnames_match(fnames(in_path, suffix='bam', key='full'), pattern, sample=bio_samples, ref=refs)"
   ]
  },
  {
   "cell_type": "code",
   "execution_count": 363,
   "id": "faffef4c-97af-44ce-8dc1-cbc3c9eae4d7",
   "metadata": {},
   "outputs": [],
   "source": [
    "pattern = f'{in_path}/{{sample}}_{{ref}}'\n",
    "for fns in fnames_match(fnames(in_path, suffix='bam', key='full'), pattern, sample=bio_samples, ref=refs):\n",
    "    input = fnames_string(fns)\n",
    "    ks = items('keys')(fname_index(fns[0])) # key - \n",
    "    stem = '_'.join(items(0,2)(ks))\n",
    "    output = fname(out_path,stem,'bam')\n",
    "    !samtools merge -@ {nc} -o {output} {input} 2> /dev/null"
   ]
  },
  {
   "cell_type": "code",
   "execution_count": 364,
   "id": "4704d843-2b66-40a8-8f65-891ad4fa93a6",
   "metadata": {},
   "outputs": [
    {
     "name": "stdout",
     "output_type": "stream",
     "text": [
      "total 564M\n",
      "-rw-rw-r-- 1 cdaniels cdaniels 4.6M Mar 30 16:05 c1_genes.bam\n",
      "-rw-rw-r-- 1 cdaniels cdaniels  57M Mar 30 16:05 c1_genome.bam\n",
      "-rw-rw-r-- 1 cdaniels cdaniels  13M Mar 30 16:05 t1_genes.bam\n",
      "-rw-rw-r-- 1 cdaniels cdaniels 145M Mar 30 16:05 t1_genome.bam\n",
      "-rw-rw-r-- 1 cdaniels cdaniels 1.6M Mar 30 16:05 t2_genes.bam\n",
      "-rw-rw-r-- 1 cdaniels cdaniels 345M Mar 30 16:05 t2_genome.bam\n"
     ]
    }
   ],
   "source": [
    "!ls -lh {out_path}"
   ]
  },
  {
   "cell_type": "markdown",
   "id": "74ad4df6-1fa1-43dc-8302-859affe0690f",
   "metadata": {},
   "source": [
    "## Step: dedup"
   ]
  },
  {
   "cell_type": "markdown",
   "id": "ad8d9bf1-95a8-4198-988c-4cc83db22bad",
   "metadata": {},
   "source": [
    "#### Remove Dulpicate Reads"
   ]
  },
  {
   "cell_type": "code",
   "execution_count": 366,
   "id": "4d6761e7-18a1-48a7-a9a7-17e32f5eec65",
   "metadata": {},
   "outputs": [
    {
     "name": "stdout",
     "output_type": "stream",
     "text": [
      ">>> {merge_se_runs} 16:10:06_03-30-2024\n",
      ">>> {dedup} 16:10:06_03-30-2024\n"
     ]
    }
   ],
   "source": [
    "in_path = mkpath(\"merge_se_runs\")\n",
    "out_path = mkpath(\"dedup\")"
   ]
  },
  {
   "cell_type": "markdown",
   "id": "e58c2685-80da-428c-bdfc-9447ebfc73fe",
   "metadata": {},
   "source": [
    "#### umicollapse"
   ]
  },
  {
   "cell_type": "markdown",
   "id": "9d0f9db8-aaf5-4ee2-9c4f-97e79da12a0a",
   "metadata": {},
   "source": [
    "https://github.com/Daniel-Liu-c0deb0t/UMICollapse"
   ]
  },
  {
   "cell_type": "markdown",
   "id": "e09e2177-b96c-495b-b56c-c1b4689f0634",
   "metadata": {},
   "source": [
    "##### paramaters:\n",
    "```\n",
    "umicollapse bam, use a bam file\n",
    "    --two-pass, use a separate two-pass algorithm for SAM/BAM deduplication.\n",
    "    -i {input.bam}, indexed input bam file\n",
    "    -o {output.bam}, output bam file\n",
    "      > {output.log}\n",
    "```"
   ]
  },
  {
   "cell_type": "code",
   "execution_count": 367,
   "id": "1ea35cab-e8f6-44ea-9dd5-1341f5f1a09b",
   "metadata": {},
   "outputs": [
    {
     "name": "stdout",
     "output_type": "stream",
     "text": [
      "c1_genes.bam   t1_genes.bam   t2_genes.bam\n",
      "c1_genome.bam  t1_genome.bam  t2_genome.bam\n"
     ]
    }
   ],
   "source": [
    "!ls {in_path}"
   ]
  },
  {
   "cell_type": "code",
   "execution_count": 370,
   "id": "85c2c718-00e0-4cd2-b5ac-4a9c3d48a7a0",
   "metadata": {},
   "outputs": [
    {
     "data": {
      "text/plain": [
       "['t2_genes', 'c1_genes', 'c1_genome', 't1_genome', 't1_genes', 't2_genome']"
      ]
     },
     "execution_count": 370,
     "metadata": {},
     "output_type": "execute_result"
    }
   ],
   "source": [
    "fnames(in_path,'bam')"
   ]
  },
  {
   "cell_type": "code",
   "execution_count": 371,
   "id": "1af0f53c-3277-4745-8a64-63283360815c",
   "metadata": {},
   "outputs": [
    {
     "name": "stdout",
     "output_type": "stream",
     "text": [
      "Picked up _JAVA_OPTIONS: -Xmx8g\n",
      "Picked up _JAVA_OPTIONS: -Xmx8g\n",
      "Picked up _JAVA_OPTIONS: -Xmx8g\n",
      "INFO\t2024-03-30 16:12:29\tSortingCollection\tCreating merging iterator from 3 files\n",
      "Picked up _JAVA_OPTIONS: -Xmx8g\n",
      "INFO\t2024-03-30 16:12:47\tSortingCollection\tCreating merging iterator from 7 files\n",
      "Picked up _JAVA_OPTIONS: -Xmx8g\n",
      "Picked up _JAVA_OPTIONS: -Xmx8g\n",
      "INFO\t2024-03-30 16:13:25\tSortingCollection\tCreating merging iterator from 11 files\n"
     ]
    }
   ],
   "source": [
    "for sample in fnames(in_path,'bam'):\n",
    "    !umicollapse bam  \\\n",
    "    --two-pass \\\n",
    "    -i {fname(in_path,sample,'bam')} \\\n",
    "    -o {fname(out_path,sample,'bam')}\\\n",
    "    >  {fname(out_path,sample,'log')}"
   ]
  },
  {
   "cell_type": "markdown",
   "id": "c907e18a-1149-4262-987c-6bde50e586da",
   "metadata": {},
   "source": [
    "Index reads to use with IGV"
   ]
  },
  {
   "cell_type": "code",
   "execution_count": 372,
   "id": "3d489302-6fd5-4c23-b7a2-b12bbc3582ef",
   "metadata": {},
   "outputs": [],
   "source": [
    "for sample in fnames(out_path,'bam'):\n",
    "    ! samtools index -@ {nc} -c {fname(out_path,sample,'bam')}"
   ]
  },
  {
   "cell_type": "markdown",
   "id": "1f6fe90e-c8b6-49c6-b21c-e0a0409f37de",
   "metadata": {},
   "source": [
    "#### Analysis"
   ]
  },
  {
   "cell_type": "code",
   "execution_count": 373,
   "id": "4cd38188-2ebb-4718-aa46-c7464ed6c749",
   "metadata": {},
   "outputs": [
    {
     "name": "stdout",
     "output_type": "stream",
     "text": [
      "total 564M\n",
      "-rw-rw-r-- 1 cdaniels cdaniels 4.6M Mar 30 16:05 c1_genes.bam\n",
      "-rw-rw-r-- 1 cdaniels cdaniels  57M Mar 30 16:05 c1_genome.bam\n",
      "-rw-rw-r-- 1 cdaniels cdaniels  13M Mar 30 16:05 t1_genes.bam\n",
      "-rw-rw-r-- 1 cdaniels cdaniels 145M Mar 30 16:05 t1_genome.bam\n",
      "-rw-rw-r-- 1 cdaniels cdaniels 1.6M Mar 30 16:05 t2_genes.bam\n",
      "-rw-rw-r-- 1 cdaniels cdaniels 345M Mar 30 16:05 t2_genome.bam\n"
     ]
    }
   ],
   "source": [
    "! ls -lh {in_path}"
   ]
  },
  {
   "cell_type": "code",
   "execution_count": 374,
   "id": "a52dc069-dd33-4659-9d68-6824b311f096",
   "metadata": {},
   "outputs": [
    {
     "name": "stdout",
     "output_type": "stream",
     "text": [
      "    18435 merge_se_runs/c1_genes.bam\n",
      "   238713 merge_se_runs/c1_genome.bam\n",
      "    50918 merge_se_runs/t1_genes.bam\n",
      "   610733 merge_se_runs/t1_genome.bam\n",
      "     6561 merge_se_runs/t2_genes.bam\n",
      "  1419252 merge_se_runs/t2_genome.bam\n",
      "  2344612 total\n"
     ]
    }
   ],
   "source": [
    "! wc -l {in_path}/*"
   ]
  },
  {
   "cell_type": "code",
   "execution_count": 375,
   "id": "21ebbb62-ada8-416c-8e48-9a738ece999e",
   "metadata": {},
   "outputs": [
    {
     "name": "stdout",
     "output_type": "stream",
     "text": [
      "    20012 dedup/c1_genes.bam\n",
      "   241084 dedup/c1_genome.bam\n",
      "    52709 dedup/t1_genes.bam\n",
      "   617754 dedup/t1_genome.bam\n",
      "     6324 dedup/t2_genes.bam\n",
      "  1412523 dedup/t2_genome.bam\n",
      "  2350406 total\n"
     ]
    }
   ],
   "source": [
    "! wc -l {out_path}/*.bam"
   ]
  },
  {
   "cell_type": "code",
   "execution_count": 376,
   "id": "fd112fd3-6634-4648-9a0a-7a44a8efb7cf",
   "metadata": {},
   "outputs": [
    {
     "name": "stdout",
     "output_type": "stream",
     "text": [
      "Arguments\t[bam, --two-pass, -i, merge_se_runs/c1_genes.bam, -o, dedup/c1_genes.bam]\n",
      "Done with the first pass!\n",
      "Number of input reads\t135205\n",
      "Number of removed unmapped reads\t0\n",
      "Number of unremoved reads\t135205\n",
      "Number of unique alignment positions\t43888\n",
      "Average number of UMIs per alignment position\t3.0726166605905942\n",
      "Max number of UMIs over all alignment positions\t140\n",
      "Number of reads after deduplicating\t134501\n",
      "UMI collapsing finished in 1.168 seconds!\n"
     ]
    }
   ],
   "source": [
    "! cat {out_path}/c1_genes.log"
   ]
  },
  {
   "cell_type": "markdown",
   "id": "27f954cc-df3e-4048-ae0e-442526f0b5cf",
   "metadata": {},
   "source": [
    "## Step: call_converted"
   ]
  },
  {
   "cell_type": "markdown",
   "id": "c45dda76-3ea1-4749-a78e-792080774b53",
   "metadata": {},
   "source": [
    "#### Call Converted bases (Unfiltered)"
   ]
  },
  {
   "cell_type": "code",
   "execution_count": 242,
   "id": "00cab6a3-dba0-42e6-8e9e-8d49894eac70",
   "metadata": {},
   "outputs": [
    {
     "name": "stdout",
     "output_type": "stream",
     "text": [
      ">>> {dedup} 08:11:33_04-01-2024\n",
      ">>> {call_converted} 08:11:33_04-01-2024\n"
     ]
    }
   ],
   "source": [
    "in_path = mkpath(\"dedup\")\n",
    "out_path = mkpath(\"call_converted\")"
   ]
  },
  {
   "cell_type": "markdown",
   "id": "3ac3e272-df75-4b04-85b8-64b7df394d19",
   "metadata": {},
   "source": [
    "#### hisat-3n-table"
   ]
  },
  {
   "cell_type": "markdown",
   "id": "d208fba5-fc27-4274-b416-92b00a6a22da",
   "metadata": {},
   "source": [
    "http://daehwankimlab.github.io/hisat2/hisat-3n/"
   ]
  },
  {
   "cell_type": "markdown",
   "id": "fa8ac256-7407-4efe-9011-3209695d1a87",
   "metadata": {},
   "source": [
    "```\n",
    "samtools view -e \"rlen<100000\" -h {input} |\n",
    "hisat3ntable\n",
    "    -p {threads}\n",
    "    -u -m --alignments -\n",
    "    --ref {params.fa}\n",
    "    --output-name /dev/stdout\n",
    "    --base-change C,T    |                  \n",
    "    bgzip -@ {threads} -c > {output}\n",
    "```"
   ]
  },
  {
   "cell_type": "markdown",
   "id": "c4b02c2e-c0fc-41d3-be46-db9ee5a3d664",
   "metadata": {},
   "source": [
    "##### paramaters:\n",
    "- --unique-only,   only count the base which is in uniquely mapped reads\n",
    "- --multiple-only, only count the base which is in multiple mapped reads"
   ]
  },
  {
   "cell_type": "markdown",
   "id": "63c8b7da-02f8-4142-94d7-0ec92270be4d",
   "metadata": {},
   "source": [
    "#### Call Converted Bases in Unique Mapped Reads "
   ]
  },
  {
   "cell_type": "code",
   "execution_count": 243,
   "id": "c29a8b54-f92d-42ff-8d0f-951705df32a5",
   "metadata": {},
   "outputs": [
    {
     "name": "stdout",
     "output_type": "stream",
     "text": [
      "c1_genes.bam\t   c1_genome.log     t1_genome.bam.csi\tt2_genome.bam\n",
      "c1_genes.bam.csi   t1_genes.bam      t1_genome.log\tt2_genome.bam.csi\n",
      "c1_genes.log\t   t1_genes.bam.csi  t2_genes.bam\tt2_genome.log\n",
      "c1_genome.bam\t   t1_genes.log      t2_genes.bam.csi\n",
      "c1_genome.bam.csi  t1_genome.bam     t2_genes.log\n"
     ]
    }
   ],
   "source": [
    "!ls {in_path}"
   ]
  },
  {
   "cell_type": "code",
   "execution_count": 224,
   "id": "56f38c3a-ec30-4392-bd64-083c39d33a7e",
   "metadata": {},
   "outputs": [],
   "source": [
    "for sample in fnames(in_path,'bam'):\n",
    "    ks = items('keys')(fname_index(sample)) \n",
    "    ref = get_ref(ks[1],'fa')\n",
    "    !samtools view -e \"rlen<100000\" -h {fname(in_path,sample,'bam')} |\\\n",
    "    hisat-3n-table\\\n",
    "        -p {nc}\\\n",
    "        --unique-only --alignments -\\\n",
    "        --ref {ref}\\\n",
    "        --output-name /dev/stdout\\\n",
    "        --base-change C,T                          |\\\n",
    "    bgzip \\\n",
    "        -@ {nc} \\\n",
    "        -c > {fname(out_path,sample,'tsv.gz',extra='uniq')}"
   ]
  },
  {
   "cell_type": "code",
   "execution_count": 244,
   "id": "e1fd36c3-4ae3-40fc-95a4-09fa493db07c",
   "metadata": {},
   "outputs": [
    {
     "name": "stdout",
     "output_type": "stream",
     "text": [
      "total 160M\n",
      "-rw-rw-r-- 1 cdaniels cdaniels  22K Apr  1 07:34 c1_genes_uniq.tsv.gz\n",
      "-rw-rw-r-- 1 cdaniels cdaniels 9.3M Apr  1 07:40 c1_genome_uniq.tsv.gz\n",
      "-rw-rw-r-- 1 cdaniels cdaniels  40K Apr  1 07:47 t1_genes_uniq.tsv.gz\n",
      "-rw-rw-r-- 1 cdaniels cdaniels  17M Apr  1 07:47 t1_genome_uniq.tsv.gz\n",
      "-rw-rw-r-- 1 cdaniels cdaniels  27K Apr  1 07:34 t2_genes_uniq.tsv.gz\n",
      "-rw-rw-r-- 1 cdaniels cdaniels 134M Apr  1 07:57 t2_genome_uniq.tsv.gz\n"
     ]
    }
   ],
   "source": [
    "!ls -lh {out_path}"
   ]
  },
  {
   "cell_type": "markdown",
   "id": "fcc0e85f-ffdd-4342-9aca-0510dcfb7891",
   "metadata": {},
   "source": [
    "#### Call Converted Bases in Multiple Mapped Reads "
   ]
  },
  {
   "cell_type": "code",
   "execution_count": 245,
   "id": "d7260337-7a9a-4eaf-92b3-90cc03ef5aef",
   "metadata": {},
   "outputs": [],
   "source": [
    "for sample in fnames(in_path,'bam'):\n",
    "    ks = items('keys')(fname_index(sample)) \n",
    "    ref = get_ref(ks[1],'fa')\n",
    "    !samtools view -e \"rlen<100000\" -h {fname(in_path,sample,'bam')} |\\\n",
    "    hisat-3n-table\\\n",
    "        -p {nc}\\\n",
    "        --multiple-only --alignments -\\\n",
    "        --ref {ref}\\\n",
    "        --output-name /dev/stdout\\\n",
    "        --base-change C,T                          |\\\n",
    "    bgzip \\\n",
    "        -@ {nc} \\\n",
    "        -c > {fname(out_path,sample,'tsv.gz',extra='multi')}"
   ]
  },
  {
   "cell_type": "code",
   "execution_count": 247,
   "id": "015ed784-d883-4c44-8a3a-3a24bf380a44",
   "metadata": {},
   "outputs": [
    {
     "name": "stdout",
     "output_type": "stream",
     "text": [
      "total 241M\n",
      "-rw-rw-r-- 1 cdaniels cdaniels 216K Apr  1 08:12 c1_genes_multi.tsv.gz\n",
      "-rw-rw-r-- 1 cdaniels cdaniels  22K Apr  1 07:34 c1_genes_uniq.tsv.gz\n",
      "-rw-rw-r-- 1 cdaniels cdaniels 5.3M Apr  1 08:17 c1_genome_multi.tsv.gz\n",
      "-rw-rw-r-- 1 cdaniels cdaniels 9.3M Apr  1 07:40 c1_genome_uniq.tsv.gz\n",
      "-rw-rw-r-- 1 cdaniels cdaniels 367K Apr  1 08:23 t1_genes_multi.tsv.gz\n",
      "-rw-rw-r-- 1 cdaniels cdaniels  40K Apr  1 07:47 t1_genes_uniq.tsv.gz\n",
      "-rw-rw-r-- 1 cdaniels cdaniels  13M Apr  1 08:23 t1_genome_multi.tsv.gz\n",
      "-rw-rw-r-- 1 cdaniels cdaniels  17M Apr  1 07:47 t1_genome_uniq.tsv.gz\n",
      "-rw-rw-r-- 1 cdaniels cdaniels 327K Apr  1 08:12 t2_genes_multi.tsv.gz\n",
      "-rw-rw-r-- 1 cdaniels cdaniels  27K Apr  1 07:34 t2_genes_uniq.tsv.gz\n",
      "-rw-rw-r-- 1 cdaniels cdaniels  62M Apr  1 08:32 t2_genome_multi.tsv.gz\n",
      "-rw-rw-r-- 1 cdaniels cdaniels 134M Apr  1 07:57 t2_genome_uniq.tsv.gz\n"
     ]
    }
   ],
   "source": [
    "!ls -lh {out_path}"
   ]
  },
  {
   "cell_type": "markdown",
   "id": "10bb891c-d91f-4e7d-9ffa-1b141ecf8c57",
   "metadata": {},
   "source": [
    "## Step: call_filtered_converted"
   ]
  },
  {
   "cell_type": "markdown",
   "id": "090b5f03-576d-4c5d-bc5e-2f527e3f8567",
   "metadata": {},
   "source": [
    "#### Call Converted bases Filtered of Clusters"
   ]
  },
  {
   "cell_type": "code",
   "execution_count": 252,
   "id": "0c6dd917-790f-4e8c-9af8-d6c41c0ff26f",
   "metadata": {},
   "outputs": [
    {
     "name": "stdout",
     "output_type": "stream",
     "text": [
      ">>> {dedup} 08:35:01_04-01-2024\n",
      ">>> {call_filtered_converted} 08:35:01_04-01-2024\n"
     ]
    }
   ],
   "source": [
    "in_path = mkpath(\"dedup\")\n",
    "out_path = mkpath(\"call_filtered_converted\")"
   ]
  },
  {
   "cell_type": "markdown",
   "id": "bccce9bd-ad43-4c59-8955-e4aca9c122c0",
   "metadata": {},
   "source": [
    "#### Filter each read to minimize clusters of unconverted C's\n",
    "Clusters of unconverted C's are a source of bias. These clusters are filtered out here."
   ]
  },
  {
   "cell_type": "markdown",
   "id": "065091b4-1c3f-426e-a7f7-67a1c18fecda",
   "metadata": {},
   "source": [
    "```\n",
    " samtools view -@ {threads}\n",
    "    -e \"[XM] * 20 <= (qlen-sclen) && [Zf] <= 3 && 3 * [Zf] <= [Zf] + [Yf]\"\n",
    "     {input.bam} -O BAM -o {output.converted}\n",
    "``` "
   ]
  },
  {
   "cell_type": "markdown",
   "id": "bff389c2-35d4-48a2-8697-ea5a0b427777",
   "metadata": {},
   "source": [
    "- qlen is the length of the read\n",
    "- sclen is the soft-clipped (not aligned) by the aligner\n",
    "- [XM] is the number of mismatches in the alignment\n",
    "- [Zf] is the number of un-converted bases in the read.\n",
    "- [Yf] is the number of converted bases in the read\n",
    "- [YZ] indicates alignment to the (+/-) strand"
   ]
  },
  {
   "cell_type": "code",
   "execution_count": 249,
   "id": "f5c841d4-2794-48a2-8af8-ad83fb647e30",
   "metadata": {},
   "outputs": [
    {
     "name": "stdout",
     "output_type": "stream",
     "text": [
      "c1_genes.bam\t   c1_genome.log     t1_genome.bam.csi\tt2_genome.bam\n",
      "c1_genes.bam.csi   t1_genes.bam      t1_genome.log\tt2_genome.bam.csi\n",
      "c1_genes.log\t   t1_genes.bam.csi  t2_genes.bam\tt2_genome.log\n",
      "c1_genome.bam\t   t1_genes.log      t2_genes.bam.csi\n",
      "c1_genome.bam.csi  t1_genome.bam     t2_genes.log\n"
     ]
    }
   ],
   "source": [
    "!ls {in_path}"
   ]
  },
  {
   "cell_type": "code",
   "execution_count": 250,
   "id": "6b9021d0-424e-4d2e-a241-387fa8d1aa76",
   "metadata": {},
   "outputs": [],
   "source": [
    "for sample in fnames(in_path,'bam'):\n",
    "    ! samtools view -@ {nc} -e '[XM] * 20 <= (qlen-sclen) && [Zf] <= 3 && 3 * [Zf] <= [Zf] + [Yf]' \\\n",
    "    {fname(in_path,sample,'bam')} -O BAM -o {fname(out_path,sample,'bam')}"
   ]
  },
  {
   "cell_type": "markdown",
   "id": "3849f952-05a5-46a4-b146-df3886b6678d",
   "metadata": {},
   "source": [
    "#### Call Filtered Unique Mapped Reads "
   ]
  },
  {
   "cell_type": "code",
   "execution_count": 253,
   "id": "f919b940-d0f9-457f-aabe-b0e0be3ae06a",
   "metadata": {},
   "outputs": [],
   "source": [
    "for sample in fnames(out_path,'bam'):\n",
    "    ks = items('keys')(fname_index(sample)) \n",
    "    ref = get_ref(ks[1],'fa')\n",
    "    !samtools view -e \"rlen<100000\" -h {fname(out_path,sample,'bam')} |\\\n",
    "    hisat-3n-table\\\n",
    "        -p {nc}\\\n",
    "        --unique-only --alignments -\\\n",
    "        --ref {ref}\\\n",
    "        --output-name /dev/stdout\\\n",
    "        --base-change C,T                          |\\\n",
    "    bgzip \\\n",
    "        -@ {nc} \\\n",
    "        -c > {fname(out_path,sample,'tsv.gz',extra='uniq')}"
   ]
  },
  {
   "cell_type": "markdown",
   "id": "2f322f53-ab7e-4e8b-ac53-e05ae96002d4",
   "metadata": {},
   "source": [
    "#### Call Filtered Multiple Mapped Reads "
   ]
  },
  {
   "cell_type": "code",
   "execution_count": 254,
   "id": "2b17d501-8c9b-4dce-8935-4a2e61300dbe",
   "metadata": {},
   "outputs": [],
   "source": [
    "for sample in fnames(out_path,'bam'):\n",
    "    ks = items('keys')(fname_index(sample)) \n",
    "    ref = get_ref(ks[1],'fa')\n",
    "    !samtools view -e \"rlen<100000\" -h {fname(out_path,sample,'bam')} |\\\n",
    "    hisat-3n-table\\\n",
    "        -p {nc}\\\n",
    "        --multiple-only --alignments -\\\n",
    "        --ref {ref}\\\n",
    "        --output-name /dev/stdout\\\n",
    "        --base-change C,T                          |\\\n",
    "    bgzip \\\n",
    "        -@ {nc} \\\n",
    "        -c > {fname(out_path,sample,'tsv.gz',extra='multi')}\n",
    "    \n",
    "    !rm {fname(out_path,sample,'bam')} # All done with filtered.bam files"
   ]
  },
  {
   "cell_type": "markdown",
   "id": "bab28bf7-d45c-4107-8cc6-deda26240337",
   "metadata": {},
   "source": [
    "#### Analysis"
   ]
  },
  {
   "cell_type": "code",
   "execution_count": 255,
   "id": "97dff772-a471-4f81-be4a-d36d362c242b",
   "metadata": {},
   "outputs": [
    {
     "name": "stdout",
     "output_type": "stream",
     "text": [
      "total 230M\n",
      "-rw-rw-r-- 1 cdaniels cdaniels 215K Apr  1 08:59 c1_genes_multi.tsv.gz\n",
      "-rw-rw-r-- 1 cdaniels cdaniels  22K Apr  1 08:36 c1_genes_uniq.tsv.gz\n",
      "-rw-rw-r-- 1 cdaniels cdaniels 5.3M Apr  1 09:03 c1_genome_multi.tsv.gz\n",
      "-rw-rw-r-- 1 cdaniels cdaniels 9.2M Apr  1 08:42 c1_genome_uniq.tsv.gz\n",
      "-rw-rw-r-- 1 cdaniels cdaniels 363K Apr  1 09:10 t1_genes_multi.tsv.gz\n",
      "-rw-rw-r-- 1 cdaniels cdaniels  39K Apr  1 08:49 t1_genes_uniq.tsv.gz\n",
      "-rw-rw-r-- 1 cdaniels cdaniels  13M Apr  1 09:10 t1_genome_multi.tsv.gz\n",
      "-rw-rw-r-- 1 cdaniels cdaniels  17M Apr  1 08:49 t1_genome_uniq.tsv.gz\n",
      "-rw-rw-r-- 1 cdaniels cdaniels 280K Apr  1 08:59 t2_genes_multi.tsv.gz\n",
      "-rw-rw-r-- 1 cdaniels cdaniels  26K Apr  1 08:36 t2_genes_uniq.tsv.gz\n",
      "-rw-rw-r-- 1 cdaniels cdaniels  58M Apr  1 09:19 t2_genome_multi.tsv.gz\n",
      "-rw-rw-r-- 1 cdaniels cdaniels 128M Apr  1 08:59 t2_genome_uniq.tsv.gz\n"
     ]
    }
   ],
   "source": [
    "! ls -lh {out_path}"
   ]
  },
  {
   "cell_type": "code",
   "execution_count": 257,
   "id": "d85c2597-99cb-4297-a05a-560482cf89a9",
   "metadata": {},
   "outputs": [
    {
     "name": "stdout",
     "output_type": "stream",
     "text": [
      "ref   pos     strand   convertedBaseQualities   convertedBaseCount   unconvertedBaseQualities   unconvertedBaseCount\n",
      "---   -----   ------   ----------------------   ------------------   ------------------------   --------------------\n",
      "1     11739   +        F                        1                                               0                   \n",
      "1     11740   +        F                        1                                               0                   \n",
      "1     11742   +        F                        1                                               0                   \n",
      "1     11754   +        F                        1                                               0                   \n",
      "1     11757   +        F                        1                                               0                   \n",
      "1     11762   +        F                        1                                               0                   \n",
      "1     11763   +        F                        1                                               0                   \n",
      "1     14366   -        F                        1                                               0                   \n"
     ]
    }
   ],
   "source": [
    "! csvtk -t pretty {out_path}/t1_genome_multi.tsv.gz|head "
   ]
  },
  {
   "cell_type": "markdown",
   "id": "fecf1a0d-ba38-46d3-b87a-045e8c4ccf4f",
   "metadata": {},
   "source": [
    "There are 7 columns in the 3N-conversion-table:\n",
    "\n",
    "1. `ref:` the chromosome name.\n",
    "2. `pos:` 1-based position in ref.\n",
    "3. `strand:` ‘+’ for forward strand. ‘-‘ for reverse strand.\n",
    "4. `convertedBaseQualities:` the qualities for converted base in read-level measurement. Length of this string is equal to the number of converted Base in read-level measurement.\n",
    "5. `convertedBaseCount:` number of distinct read positions where converted base in read-level measurements were found. this number should equal to the length of convertedBaseQualities.\n",
    "6. `unconvertedBaseQualities:` the qualities for unconverted base in read-level measurement. Length of this string is equal to the number of unconverted Base in read-level measurement.\n",
    "7. `unconvertedBaseCount:` number of distinct read positions where unconverted base in read-level measurements were found. this number should equal to the length of unconvertedBaseQualities."
   ]
  },
  {
   "cell_type": "markdown",
   "id": "22d4b97c-7c8e-4198-a08e-6c8522c1690d",
   "metadata": {},
   "source": [
    "Used IGV to look at reads in `t1.tsv.gz`:\n",
    "- Needed to adjust preferences to show all reads\n",
    "- Exactly the first 10,000 nt are all N\n",
    "- The first read was aligned with a C at 10,358\n",
    "- There were 9 C's, all in the positions shown above"
   ]
  },
  {
   "cell_type": "markdown",
   "id": "a5bc146e-6e58-4156-842a-204fad3b13aa",
   "metadata": {},
   "source": [
    "Accordingly, this file appears to include all C's in the genome aligned to at least one read."
   ]
  },
  {
   "cell_type": "markdown",
   "id": "5ab2d369-545f-406a-bea8-d115d735b2bd",
   "metadata": {},
   "source": [
    "Compare C's aligned from Unique and Multiple Reads"
   ]
  },
  {
   "cell_type": "code",
   "execution_count": 259,
   "id": "c87c938b-3552-4bb6-b04d-6c1c7c0ec830",
   "metadata": {},
   "outputs": [
    {
     "data": {
      "text/plain": [
       "['c1_genes_multi',\n",
       " 't2_genome_uniq',\n",
       " 'c1_genes_uniq',\n",
       " 'c1_genome_uniq',\n",
       " 't1_genome_uniq',\n",
       " 't1_genome_multi',\n",
       " 'c1_genome_multi',\n",
       " 't1_genes_uniq',\n",
       " 't2_genome_multi',\n",
       " 't2_genes_multi',\n",
       " 't1_genes_multi',\n",
       " 't2_genes_uniq']"
      ]
     },
     "execution_count": 259,
     "metadata": {},
     "output_type": "execute_result"
    }
   ],
   "source": [
    "fnames(out_path,'tsv.gz')"
   ]
  },
  {
   "cell_type": "code",
   "execution_count": 279,
   "id": "c171e706-a27f-40d2-b4e7-1d276fd9dcd0",
   "metadata": {},
   "outputs": [
    {
     "data": {
      "text/plain": [
       "[('c1_genes_multi', '28,479'),\n",
       " ('c1_genes_uniq', '3,962'),\n",
       " ('c1_genome_multi', '1,840,390'),\n",
       " ('c1_genome_uniq', '3,400,568'),\n",
       " ('t1_genes_multi', '34,915'),\n",
       " ('t1_genes_uniq', '6,797'),\n",
       " ('t1_genome_multi', '4,457,354'),\n",
       " ('t1_genome_uniq', '5,731,219'),\n",
       " ('t2_genes_multi', '65,957'),\n",
       " ('t2_genes_uniq', '7,405'),\n",
       " ('t2_genome_multi', '22,045,209'),\n",
       " ('t2_genome_uniq', '49,211,119')]"
      ]
     },
     "execution_count": 279,
     "metadata": {},
     "output_type": "execute_result"
    }
   ],
   "source": [
    "C_covered = {}\n",
    "for sample in fnames(out_path,'tsv.gz'):\n",
    "    covered = !zcat {fname(out_path, sample, 'tsv.gz')} | wc -l\n",
    "    covered = int(covered[0])\n",
    "    C_covered[sample] = f'{covered:,}'\n",
    "sorted(C_covered.items())"
   ]
  },
  {
   "cell_type": "markdown",
   "id": "d4115560-476a-447f-a6f7-32bb5f438d2b",
   "metadata": {},
   "source": [
    "#### What is the background of Unconverted C (5mC) based upon Average ratios of Unconverted to Covered C's?\n",
    "- Remove: Depth < 10\n",
    "- Remove: nuc/(nuc + nc) > 0.20"
   ]
  },
  {
   "cell_type": "markdown",
   "id": "696302ca-03e0-4207-bd18-9111bc20efca",
   "metadata": {},
   "source": [
    "Unique with Filters"
   ]
  },
  {
   "cell_type": "code",
   "execution_count": 280,
   "id": "adf1641a-52dd-4990-8fc7-b63fa5d96325",
   "metadata": {},
   "outputs": [
    {
     "data": {
      "text/plain": [
       "['c1_genes_multi',\n",
       " 't2_genome_uniq',\n",
       " 'c1_genes_uniq',\n",
       " 'c1_genome_uniq',\n",
       " 't1_genome_uniq',\n",
       " 't1_genome_multi',\n",
       " 'c1_genome_multi',\n",
       " 't1_genes_uniq',\n",
       " 't2_genome_multi',\n",
       " 't2_genes_multi',\n",
       " 't1_genes_multi',\n",
       " 't2_genes_uniq']"
      ]
     },
     "execution_count": 280,
     "metadata": {},
     "output_type": "execute_result"
    }
   ],
   "source": [
    "fnames(out_path,'tsv.gz')"
   ]
  },
  {
   "cell_type": "code",
   "execution_count": 288,
   "id": "d070cb77-24d1-41b4-bdab-02a6b23954bb",
   "metadata": {},
   "outputs": [
    {
     "data": {
      "text/plain": [
       "['t1_genes_uniq',\n",
       " 't1_genome_uniq',\n",
       " 't2_genes_uniq',\n",
       " 't2_genome_uniq',\n",
       " 'c1_genes_uniq',\n",
       " 'c1_genome_uniq']"
      ]
     },
     "execution_count": 288,
     "metadata": {},
     "output_type": "execute_result"
    }
   ],
   "source": [
    "expand('{sample}_{ref}_uniq',sample=samples(1),ref=refs)"
   ]
  },
  {
   "cell_type": "code",
   "execution_count": 293,
   "id": "34a399fb-c8c6-4ab2-973f-7efe209bc07f",
   "metadata": {},
   "outputs": [
    {
     "name": "stdout",
     "output_type": "stream",
     "text": [
      "t1_genes_uniq 1240\n",
      "t1_genome_uniq 277516\n",
      "t2_genes_uniq 124\n",
      "t2_genome_uniq 1041\n",
      "c1_genes_uniq 906\n",
      "c1_genome_uniq 74383\n"
     ]
    },
    {
     "data": {
      "text/plain": [
       "[('c1_genes_uniq', 0.0035),\n",
       " ('c1_genome_uniq', 0.003),\n",
       " ('t1_genes_uniq', 0.0027),\n",
       " ('t1_genome_uniq', 0.0029),\n",
       " ('t2_genes_uniq', 0.0117),\n",
       " ('t2_genome_uniq', 0.0032)]"
      ]
     },
     "execution_count": 293,
     "metadata": {},
     "output_type": "execute_result"
    }
   ],
   "source": [
    "nc, nuc = 'convertedBaseCount', 'unconvertedBaseCount'\n",
    "C_background = {}\n",
    "for sample in expand('{sample}_{ref}_uniq',sample=samples(1),ref=refs):\n",
    "    df = pd.read_csv(fname(out_path, sample,'tsv.gz'), sep='\\t', compression='gzip', low_memory=False, dtype={4: int, 6: int })\n",
    "    df = df[~df['ref'].str.startswith(('G', 'K'))]                    # Remove: Non chromosomal refs\n",
    "    df = df[(df[nc] + df[nuc]) > 10]                                  # Remove: Depth < 10\n",
    "    df = df[df[nuc]/(df[nuc] + df[nc]) < 0.2]  \t                      # Remove: nuc/(nuc + nc) > 0.20\n",
    "    bg = round(np.mean(df[nuc]/(df[nuc] + df[nc])),4)\n",
    "    C_background[sample] = bg\n",
    "    print(sample, len(df))\n",
    "sorted(C_background.items())"
   ]
  },
  {
   "cell_type": "markdown",
   "id": "2cb81c41-5cc4-4915-9a14-2182656019d3",
   "metadata": {},
   "source": [
    "Multiple with Filters"
   ]
  },
  {
   "cell_type": "code",
   "execution_count": 294,
   "id": "2e3fe38a-df16-48dc-a2e9-76cf4cf76ff1",
   "metadata": {},
   "outputs": [
    {
     "name": "stdout",
     "output_type": "stream",
     "text": [
      "t1_genes_multi 19259\n",
      "t1_genome_multi 183161\n",
      "t2_genes_multi 20526\n",
      "t2_genome_multi 29550\n",
      "c1_genes_multi 16595\n",
      "c1_genome_multi 92882\n"
     ]
    },
    {
     "data": {
      "text/plain": [
       "[('c1_genes_multi', 0.0032),\n",
       " ('c1_genome_multi', 0.0028),\n",
       " ('t1_genes_multi', 0.0031),\n",
       " ('t1_genome_multi', 0.0028),\n",
       " ('t2_genes_multi', 0.02),\n",
       " ('t2_genome_multi', 0.0035)]"
      ]
     },
     "execution_count": 294,
     "metadata": {},
     "output_type": "execute_result"
    }
   ],
   "source": [
    "nc, nuc = 'convertedBaseCount', 'unconvertedBaseCount'\n",
    "C_background = {}\n",
    "for sample in expand('{sample}_{ref}_multi',sample=samples(1),ref=refs):\n",
    "    df = pd.read_csv(fname(out_path, sample,'tsv.gz'), sep='\\t', compression='gzip', low_memory=False, dtype={4: int, 6: int })\n",
    "    df = df[~df['ref'].str.startswith(('G', 'K'))]                    # Remove: Non chromosomal refs\n",
    "    df = df[(df[nc] + df[nuc]) > 10]                                  # Remove: Depth < 10\n",
    "    df = df[df[nuc]/(df[nuc] + df[nc]) < 0.2]  \t                      # Remove: nuc/(nuc + nc) > 0.20\n",
    "    bg = round(np.mean(df[nuc]/(df[nuc] + df[nc])),4)\n",
    "    C_background[sample] = bg\n",
    "    print(sample, len(df))\n",
    "sorted(C_background.items())"
   ]
  },
  {
   "cell_type": "markdown",
   "id": "d7aaef3f-cbbc-4087-9190-9b47faf8ab29",
   "metadata": {},
   "source": [
    "Multiple without Filters"
   ]
  },
  {
   "cell_type": "code",
   "execution_count": 295,
   "id": "f84bcb44-4ecb-4129-bb08-97c0c206bd65",
   "metadata": {},
   "outputs": [
    {
     "name": "stdout",
     "output_type": "stream",
     "text": [
      "t1_genes_multi 34914\n",
      "t1_genome_multi 4418486\n",
      "t2_genes_multi 65956\n",
      "t2_genome_multi 21414825\n",
      "c1_genes_multi 28478\n",
      "c1_genome_multi 1822248\n"
     ]
    },
    {
     "data": {
      "text/plain": [
       "[('c1_genes_multi', 0.004),\n",
       " ('c1_genome_multi', 0.0028),\n",
       " ('t1_genes_multi', 0.005),\n",
       " ('t1_genome_multi', 0.0028),\n",
       " ('t2_genes_multi', 0.0244),\n",
       " ('t2_genome_multi', 0.0378)]"
      ]
     },
     "execution_count": 295,
     "metadata": {},
     "output_type": "execute_result"
    }
   ],
   "source": [
    "nc, nuc = 'convertedBaseCount', 'unconvertedBaseCount'\n",
    "C_background = {}\n",
    "for sample in expand('{sample}_{ref}_multi',sample=samples(1),ref=refs):\n",
    "    df = pd.read_csv(fname(out_path, sample,'tsv.gz'), sep='\\t', compression='gzip', low_memory=False, dtype={4: int, 6: int })\n",
    "    df = df[~df['ref'].str.startswith(('G', 'K'))]                    # Remove: Non chromosomal refs\n",
    "    #df = df[(df[nc] + df[nuc]) > 10]                                  # Remove: Depth < 10\n",
    "    #df = df[df[nuc]/(df[nuc] + df[nc]) < 0.2]  \t                      # Remove: nuc/(nuc + nc) > 0.20\n",
    "    bg = round(np.mean(df[nuc]/(df[nuc] + df[nc])),4)\n",
    "    C_background[sample] = bg\n",
    "    print(sample, len(df))\n",
    "sorted(C_background.items())"
   ]
  },
  {
   "cell_type": "markdown",
   "id": "5ace5532-efc6-4407-acb8-21ad1de8c526",
   "metadata": {},
   "source": [
    "c1_genome and t1_genome (which are RNA) are robustly ~ 0.0028 5mC, whereas t2_genome (which is DNA) demonstrates 10X variability depending on use of filters and Unique or Multiple Reads. \n",
    "\n",
    "**Note:** Perhaps I have a logical problem with t2 \n",
    "calling Cs in DNA"
   ]
  },
  {
   "cell_type": "markdown",
   "id": "da47539c-a032-4454-ba4c-1179ec1729d1",
   "metadata": {},
   "source": [
    "What is the background based upon Total Uncoverted to Total Covered C's"
   ]
  },
  {
   "cell_type": "markdown",
   "id": "4c62ad9e-0594-436a-81d2-9335acc27fcb",
   "metadata": {},
   "source": [
    "## Step: calc_methy"
   ]
  },
  {
   "cell_type": "markdown",
   "id": "485c50ab-2773-42fe-863f-9f46c48d5857",
   "metadata": {},
   "source": [
    "#### Calculate the Methylation Rate for Filterd Uniqe and Multiple Converted"
   ]
  },
  {
   "cell_type": "code",
   "execution_count": 372,
   "id": "e0336cb4-7d4c-404b-8d62-10bf293de234",
   "metadata": {},
   "outputs": [
    {
     "name": "stdout",
     "output_type": "stream",
     "text": [
      ">>> {call_filtered_converted} 12:07:36_04-02-2024\n",
      ">>> {calc_methy} 12:07:36_04-02-2024\n"
     ]
    }
   ],
   "source": [
    "in_path = mkpath(\"call_filtered_converted\")\n",
    "out_path = mkpath(\"calc_methy\")"
   ]
  },
  {
   "cell_type": "code",
   "execution_count": 315,
   "id": "7e6dc8c5-b4ec-446e-9b5a-fdc31e0a9c53",
   "metadata": {},
   "outputs": [
    {
     "name": "stdout",
     "output_type": "stream",
     "text": [
      "c1_genes_multi.tsv.gz\tt1_genes_multi.tsv.gz\tt2_genes_multi.tsv.gz\n",
      "c1_genes_uniq.tsv.gz\tt1_genes_uniq.tsv.gz\tt2_genes_uniq.tsv.gz\n",
      "c1_genome_multi.tsv.gz\tt1_genome_multi.tsv.gz\tt2_genome_multi.tsv.gz\n",
      "c1_genome_uniq.tsv.gz\tt1_genome_uniq.tsv.gz\tt2_genome_uniq.tsv.gz\n"
     ]
    }
   ],
   "source": [
    "!ls {in_path}"
   ]
  },
  {
   "cell_type": "code",
   "execution_count": 369,
   "id": "87e8b5c9-6b2a-49a7-8a48-4f4351132bc3",
   "metadata": {},
   "outputs": [],
   "source": [
    "for sample in fnames(in_path):\n",
    "    header = \"Sample\\tChrom\\tPos\\tStrand\\tUnconverted\\tDepth\\tRatio\"\n",
    "    cmd = f\"zcat {fname(in_path, sample, 'tsv.gz')} |\\\n",
    "          awk -v sample={sample} -v header='{header}' 'BEGIN{{FS=\\\"\\\\t\\\"; OFS=\\\"\\\\t\\\"}} NR==1 {{print header}} NR>1 {{print sample, $1, $2, $3, $7, $7+$5, $7/($7+$5)}}'|\\\n",
    "          bgzip -@ {nc}-c > {fname(out_path,sample,'tsv.gz', extra='methy')}\"\n",
    "    !{cmd}"
   ]
  },
  {
   "cell_type": "markdown",
   "id": "773c123b-4b1f-4fa3-9cfa-f62603e22d2b",
   "metadata": {},
   "source": [
    "Older/Slower Pandas version"
   ]
  },
  {
   "cell_type": "code",
   "execution_count": 301,
   "id": "3e4a473d-f7e8-4923-aed9-272ee9467a7a",
   "metadata": {},
   "outputs": [],
   "source": [
    "for sample in fnames(in_path):\n",
    "    df = pd.read_csv(fname(in_path,sample,'tsv.gz'), sep='\\t', compression='gzip', low_memory=False, dtype={4: int, 6: int })\n",
    "    df['Chrom'] = df.iloc[:, 0]\n",
    "    df['Pos'] = df.iloc[:, 1]\n",
    "    df['Strand'] = df.iloc[:, 2]\n",
    "    df['Unconverted'] = df.iloc[:, 6]\n",
    "    df['Depth'] = df.iloc[:, 6] + df.iloc[:, 4]\n",
    "    df['Ratio'] = df.iloc[:, 6] / (df.iloc[:, 6] + df.iloc[:, 4])\n",
    "    new_df = df[['Chrom', 'Pos', 'Strand', 'Unconverted', 'Depth', 'Ratio']]\n",
    "    new_df.to_csv(fname(out_path,sample,'tsv.gz'), sep='\\t',compression='gzip', index=False)"
   ]
  },
  {
   "cell_type": "markdown",
   "id": "5eed04fc-b32b-49f6-880f-6640e47a8099",
   "metadata": {},
   "source": [
    "#### Analysis"
   ]
  },
  {
   "cell_type": "code",
   "execution_count": 373,
   "id": "64793d22-f5f4-4ee2-b3bf-e3d94b7669d3",
   "metadata": {},
   "outputs": [
    {
     "name": "stdout",
     "output_type": "stream",
     "text": [
      "c1_genes_multi_methy.tsv.gz   t1_genome_multi_methy.tsv.gz\n",
      "c1_genes_uniq_methy.tsv.gz    t1_genome_uniq_methy.tsv.gz\n",
      "c1_genome_multi_methy.tsv.gz  t2_genes_multi_methy.tsv.gz\n",
      "c1_genome_uniq_methy.tsv.gz   t2_genes_uniq_methy.tsv.gz\n",
      "t1_genes_multi_methy.tsv.gz   t2_genome_multi_methy.tsv.gz\n",
      "t1_genes_uniq_methy.tsv.gz    t2_genome_uniq_methy.tsv.gz\n"
     ]
    }
   ],
   "source": [
    "!ls {out_path}"
   ]
  },
  {
   "cell_type": "code",
   "execution_count": 380,
   "id": "7adf7642-a06f-48fc-b2fa-373fb28ecb2a",
   "metadata": {},
   "outputs": [
    {
     "name": "stdout",
     "output_type": "stream",
     "text": [
      "1840390\n"
     ]
    }
   ],
   "source": [
    "! zcat {out_path}/c1_genome_multi_methy.tsv.gz | wc -l"
   ]
  },
  {
   "cell_type": "code",
   "execution_count": 377,
   "id": "55185734-143d-4f74-a26c-88778e3689a5",
   "metadata": {},
   "outputs": [
    {
     "name": "stdout",
     "output_type": "stream",
     "text": [
      "Sample            Chrom   Pos     Strand   Unconverted   Depth   Ratio\n",
      "---------------   -----   -----   ------   -----------   -----   -----\n",
      "c1_genome_multi   1       14477   -        0             1       0    \n",
      "c1_genome_multi   1       14478   -        0             1       0    \n",
      "c1_genome_multi   1       14479   -        0             1       0    \n",
      "c1_genome_multi   1       14481   -        0             1       0    \n",
      "c1_genome_multi   1       14482   -        0             1       0    \n",
      "c1_genome_multi   1       14484   -        0             1       0    \n",
      "c1_genome_multi   1       14487   -        0             1       0    \n",
      "c1_genome_multi   1       14497   -        0             1       0    \n"
     ]
    }
   ],
   "source": [
    "! csvtk -t pretty {out_path}/c1_genome_multi_methy.tsv.gz |head"
   ]
  },
  {
   "cell_type": "code",
   "execution_count": null,
   "id": "c0ac66e6-53d7-446a-96c0-cdab94b26d8d",
   "metadata": {},
   "outputs": [],
   "source": []
  }
 ],
 "metadata": {
  "kernelspec": {
   "display_name": "Python 3 (ipykernel)",
   "language": "python",
   "name": "python3"
  },
  "language_info": {
   "codemirror_mode": {
    "name": "ipython",
    "version": 3
   },
   "file_extension": ".py",
   "mimetype": "text/x-python",
   "name": "python",
   "nbconvert_exporter": "python",
   "pygments_lexer": "ipython3",
   "version": "3.10.13"
  }
 },
 "nbformat": 4,
 "nbformat_minor": 5
}
