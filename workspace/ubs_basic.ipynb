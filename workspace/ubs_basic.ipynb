{
 "cells": [
  {
   "cell_type": "markdown",
   "id": "2048b07b-a46c-4b35-ac4e-9ee57e3a9712",
   "metadata": {},
   "source": [
    "#### Template"
   ]
  },
  {
   "cell_type": "markdown",
   "id": "a7555539-391a-450c-96f0-57b46bdeb902",
   "metadata": {},
   "source": [
    "*This Notebook is part of a Github Repository Template defining a Project File Structure. (See README.md)*"
   ]
  },
  {
   "cell_type": "markdown",
   "id": "ddd69300-170b-46a1-9ad9-d2b836fb74d5",
   "metadata": {},
   "source": [
    "```.\n",
    "├── config.yaml\n",
    "├── data\n",
    "│   └── README_data.md\n",
    "├── environment.yaml\n",
    "├── README.md\n",
    "├── scripts\n",
    "│   ├── clean.sh\n",
    "│   ├── downsample.sh\n",
    "│   ├── generate_reference.sh\n",
    "│   ├── nb2py.sh\n",
    "│   ├── README_scripts.md\n",
    "│   └── run_ubs_seq.sh\n",
    "├── src\n",
    "│   └── README_IGV_WEB.md\n",
    "└── workspace\n",
    "    ├── README_workspace.md\n",
    "    ├── ubs_basic.ipynb\n",
    "    └── ubs_basic.py\n",
    "```"
   ]
  },
  {
   "cell_type": "markdown",
   "id": "1336fe2c",
   "metadata": {},
   "source": [
    "# UBS-seq Pipeline\n",
    "## Basic Workflow"
   ]
  },
  {
   "cell_type": "markdown",
   "id": "f4f9191a",
   "metadata": {},
   "source": [
    "**C. Bryan Daniels**\n",
    "\n",
    "**3/1/2024**"
   ]
  },
  {
   "cell_type": "markdown",
   "id": "1153fdea-42ab-4a16-9376-aae40c035695",
   "metadata": {},
   "source": [
    "## Project: UBS-seq Basic Pipeline"
   ]
  },
  {
   "cell_type": "markdown",
   "id": "e1999833",
   "metadata": {},
   "source": [
    "The purpose of this project is run a minimally viable UBS-seq pipline. For simplicity, it will run several single-end samples, mapping only to the genome. The core steps of the pipeline are:\n",
    "- cut_apapter\n",
    "- quality_control\n",
    "- align2ref\n",
    "- sort2ref\n",
    "- dedupe\n",
    "- filter->all_multi_unique\n",
    "- call_peaks\n",
    "- select_groups\n",
    "- analysis_and_annotation\n",
    "\n",
    "This pipeline is based upon the paper by [Qing Dai, etal](https://doi.org/10.1038/s41587-023-02034-w) and the UBS-seq pipeline developed by [Chang Ye](https://github.com/y9c/m5C-UBSseq)\n",
    "\n"
   ]
  },
  {
   "cell_type": "markdown",
   "id": "db5933a4-a627-451d-abe7-7e68204c1d47",
   "metadata": {},
   "source": [
    "## Setup"
   ]
  },
  {
   "cell_type": "markdown",
   "id": "fd477b9e-5c7d-4c3c-8125-89644f367a8d",
   "metadata": {
    "jp-MarkdownHeadingCollapsed": true
   },
   "source": [
    "#### The logic for the Pipeline is defined through a series of Steps using dirs to save intermediate results\n",
    "1. For each **Step** in the pipeline a dir will be created and labeled **Step** and will contain all files created by that **Step**\n",
    "2. Within a **Step**, **in_path** and **out_path** will generically refer to the prior and current **Step**\n",
    "3. Within each **Step**, the appropriate processes will occur. Generally this involves processing files from **in_path** and saving to **out_path**\n",
    "4. **Abbreviated filenames** should not change through the pipeline (suffixes will reflect current file formats). The dir name should reflect the **Step**, not the filename.\n",
    "6. The function **mkpath(step)** returns a path for a dir **Step**. It will create a dir if need be, but not overwrite an existing dir\n",
    "8. The function **fname(path,sample,suffix)** returns a file name without actually creating the file"
   ]
  },
  {
   "cell_type": "markdown",
   "id": "0852de28-a1f7-4239-a50a-5cba49c7fe72",
   "metadata": {},
   "source": [
    "#### Convert Notebook to Script to Execute from the Command Line"
   ]
  },
  {
   "cell_type": "markdown",
   "id": "f75effe5-1019-43bb-a7fa-43e960656b1b",
   "metadata": {},
   "source": [
    "```\n",
    "# cd workplace/\n",
    "# juptyer nbconvert ubs_basic.ipynb --to script\n",
    "# ipython ubs_basic.py\n",
    "```"
   ]
  },
  {
   "cell_type": "markdown",
   "id": "13e28624-07ae-4a54-ba80-dfde893059bc",
   "metadata": {},
   "source": [
    "### Environment"
   ]
  },
  {
   "cell_type": "code",
   "execution_count": 1,
   "id": "41e148d2",
   "metadata": {},
   "outputs": [],
   "source": [
    "import os, sys, subprocess\n",
    "import numpy as np\n",
    "import pandas as pd\n",
    "import matplotlib.pyplot as plt \n",
    "from pathlib import Path\n",
    "from IPython.display import display, HTML\n",
    "from snakemake import load_configfile\n",
    "from operator import itemgetter as items"
   ]
  },
  {
   "cell_type": "code",
   "execution_count": 2,
   "id": "b02f60de-c362-4078-beba-82c870de2c78",
   "metadata": {},
   "outputs": [],
   "source": [
    "home_path      = Path.cwd()/'..'\n",
    "workspace_path = home_path/'workspace'"
   ]
  },
  {
   "cell_type": "code",
   "execution_count": 3,
   "id": "ae9c5015",
   "metadata": {},
   "outputs": [],
   "source": [
    "os.environ['PATH'] = f\"{str(home_path)}:\" + os.environ['PATH'] # home_path\n",
    "os.environ['PATH'] = '/home/cdaniels/bin/homer:' + os.environ['PATH'] # homer\n",
    "os.environ['PATH'] = '/home/cdaniels/bin/hisat-3n:' + os.environ['PATH'] # hisat-3n\n",
    "os.environ['_JAVA_OPTIONS'] = '-Xmx8g' # Set Java Flag"
   ]
  },
  {
   "cell_type": "code",
   "execution_count": 4,
   "id": "889270cf-bf90-4da3-90fe-397d8d0b57f3",
   "metadata": {},
   "outputs": [
    {
     "data": {
      "text/plain": [
       "32"
      ]
     },
     "execution_count": 4,
     "metadata": {},
     "output_type": "execute_result"
    }
   ],
   "source": [
    "nc = get_ipython().getoutput('nproc') # Number of cores  \n",
    "nc = int(nc[0]); nc"
   ]
  },
  {
   "cell_type": "markdown",
   "id": "f8499228-734a-4c2c-ad0a-deab43ae64c7",
   "metadata": {},
   "source": [
    "### Functions"
   ]
  },
  {
   "cell_type": "code",
   "execution_count": 9,
   "id": "df897337-8f9a-4309-a5e0-5fd9cc3a060d",
   "metadata": {},
   "outputs": [],
   "source": [
    "sys.path.append(f\"{home_path}/scripts/\") # scripts/\n",
    "\n",
    "from configure import * \n",
    "from utils import *\n",
    "from fnames import * "
   ]
  },
  {
   "cell_type": "code",
   "execution_count": 12,
   "id": "2095f397-571b-456f-8d84-9c3c90afc26d",
   "metadata": {},
   "outputs": [],
   "source": [
    "from importlib import reload\n",
    "import configure, utils, fnames\n",
    "reload(configure); reload(utils);reload(fnames);\n",
    "from configure import *\n",
    "from utils import *\n",
    "from fnames import *"
   ]
  },
  {
   "cell_type": "code",
   "execution_count": 13,
   "id": "6fc660a2-17bd-4250-a554-f527eac3b016",
   "metadata": {},
   "outputs": [
    {
     "data": {
      "text/plain": [
       "\u001b[0;31mSignature:\u001b[0m \u001b[0mfname\u001b[0m\u001b[0;34m(\u001b[0m\u001b[0mpath\u001b[0m\u001b[0;34m,\u001b[0m \u001b[0mstem\u001b[0m\u001b[0;34m,\u001b[0m \u001b[0msuffix\u001b[0m\u001b[0;34m,\u001b[0m \u001b[0mtail\u001b[0m\u001b[0;34m=\u001b[0m\u001b[0;34m''\u001b[0m\u001b[0;34m)\u001b[0m\u001b[0;34m\u001b[0m\u001b[0;34m\u001b[0m\u001b[0m\n",
       "\u001b[0;31mDocstring:\u001b[0m\n",
       "fname :: str  -> str -> str -> Path\n",
       "fname :: Path -> str -> str -> Path\n",
       "\n",
       "Return a new Path comprised of a `path`, `stem` and `suffix`\n",
       "`tail` appends str to end of stem. Default: tail=''\n",
       "\n",
       "Example:\n",
       "fname(in_path, 't1_r1', 'bam')          -> Path('some_path/t1_r1.bam)\n",
       "fname(in_path, 't1_r1', 'bam', 'genes') -> Path('some_path/t1_r1_genes.bam)\n",
       "\u001b[0;31mFile:\u001b[0m      ~/uofc_data/ubs_seq/UBS-seq_basic/scripts/fnames.py\n",
       "\u001b[0;31mType:\u001b[0m      function"
      ]
     },
     "metadata": {},
     "output_type": "display_data"
    }
   ],
   "source": [
    "fname?"
   ]
  },
  {
   "cell_type": "code",
   "execution_count": 7,
   "id": "dbd26e74-50e0-4793-9e71-a82b3ea988a2",
   "metadata": {},
   "outputs": [
    {
     "data": {
      "text/plain": [
       "\u001b[0;31mSignature:\u001b[0m \u001b[0mmkpath\u001b[0m\u001b[0;34m(\u001b[0m\u001b[0mpath\u001b[0m\u001b[0;34m)\u001b[0m\u001b[0;34m\u001b[0m\u001b[0;34m\u001b[0m\u001b[0m\n",
       "\u001b[0;31mDocstring:\u001b[0m\n",
       "mkpath :: str -> IO Path\n",
       "\n",
       "Creates and returns (not over-writting) a new dir `path`. The current date/time is sent to stdout.\n",
       "\n",
       "Example:\n",
       "mkpath('dir_name') -> Path('some_path') and new dir `dir_name`\n",
       "\u001b[0;31mFile:\u001b[0m      ~/uofc_data/ubs_seq/UBS-seq_basic/scripts/fnames.py\n",
       "\u001b[0;31mType:\u001b[0m      function"
      ]
     },
     "metadata": {},
     "output_type": "display_data"
    }
   ],
   "source": [
    "mkpath?"
   ]
  },
  {
   "cell_type": "code",
   "execution_count": 8,
   "id": "73af4289-9f65-42a0-abf9-992a3756ec2e",
   "metadata": {},
   "outputs": [
    {
     "data": {
      "text/plain": [
       "\u001b[0;31mSignature:\u001b[0m \u001b[0msamples\u001b[0m\u001b[0;34m(\u001b[0m\u001b[0mn\u001b[0m\u001b[0;34m=\u001b[0m\u001b[0;36m2\u001b[0m\u001b[0;34m,\u001b[0m \u001b[0mend\u001b[0m\u001b[0;34m=\u001b[0m\u001b[0;34m'se'\u001b[0m\u001b[0;34m,\u001b[0m \u001b[0mextra\u001b[0m\u001b[0;34m=\u001b[0m\u001b[0;34m[\u001b[0m\u001b[0;34m]\u001b[0m\u001b[0;34m)\u001b[0m\u001b[0;34m\u001b[0m\u001b[0;34m\u001b[0m\u001b[0m\n",
       "\u001b[0;31mDocstring:\u001b[0m\n",
       "samples :: Int -> Bool -> [String] ->\n",
       "Generates iterators of sample names as defined in 'sample2data'\n",
       "- n=1 returns an iterator of biological replicates, sample(2) -> ['t1', 't2', 'c1']\n",
       "- n=2 (default) returns an iterator of biologial replicates and runs -> ['t1_r1', 't2_r1', 'c1_r1']\n",
       "- end='se' (default) filters for SE reads, end='pe' filters for PE reads, end='all' returns all as a FLAT list.\n",
       "- extra=[alist] returns an iterator which is the Cartesian product of the elements of alist and the original iterator\n",
       "\n",
       "Example:\n",
       "samples(end='se',extra=['gene','genome']) ->\n",
       " [('t1', 'r1', 'gene'), ('t1', 'r1', 'genome'), ('t2', 'r1', 'gene'), ('t2', 'r1', 'genome'), ('c1', 'r1', 'gene'), ('c1', 'r1', 'genome')]\n",
       "\u001b[0;31mFile:\u001b[0m      ~/uofc_data/ubs_seq/UBS-seq_basic/scripts/configure.py\n",
       "\u001b[0;31mType:\u001b[0m      function"
      ]
     },
     "metadata": {},
     "output_type": "display_data"
    }
   ],
   "source": [
    "samples?"
   ]
  },
  {
   "cell_type": "code",
   "execution_count": 9,
   "id": "c048c7e6-a9c2-4995-b160-e42fb5f9ebf9",
   "metadata": {},
   "outputs": [
    {
     "data": {
      "text/plain": [
       "\u001b[0;31mSignature:\u001b[0m \u001b[0mdata\u001b[0m\u001b[0;34m(\u001b[0m\u001b[0mend\u001b[0m\u001b[0;34m=\u001b[0m\u001b[0;34m'se'\u001b[0m\u001b[0;34m)\u001b[0m\u001b[0;34m\u001b[0m\u001b[0;34m\u001b[0m\u001b[0m\n",
       "\u001b[0;31mDocstring:\u001b[0m\n",
       "data :: Bool -> [(String, Path)]\n",
       "Generates iterator of data paths as defined in `sample2list`\n",
       "- type='SE' will filter for SE -> [(key1, Path(R1)) ...]\n",
       "- type='PE' will filter for PE -> [(key11, Path(R1)),(key12, Path(R2)) ...]\n",
       "\n",
       "Example:\n",
       "data() -> [('t1_r1', PosixPath('../data/test1_R1.fq.gz')),\n",
       "           ('t2_r1', PosixPath('../data/test2_R1.fq.gz')),\n",
       "           ('c1_r1', PosixPath('../data/test3_R1.fq.gz'))]\n",
       "\n",
       "data(end='pe') ->\n",
       "          [(('t2_r1_R1', PosixPath('../data/SRR23538294_1.fq.gz')),\n",
       "            ('t2_r1_R2',PosixPath('../data/SRR23538294_2.fq.gz'))),\n",
       "           (('t2_r2_R1',PosixPath('../data/SRR23538293_1.fq.gz')),\n",
       "            ('t2_r2_R2', PosixPath('../data/SRR23538293_2.fq.gz')))]\n",
       "\u001b[0;31mFile:\u001b[0m      ~/uofc_data/ubs_seq/UBS-seq_basic/scripts/configure.py\n",
       "\u001b[0;31mType:\u001b[0m      function"
      ]
     },
     "metadata": {},
     "output_type": "display_data"
    }
   ],
   "source": [
    "data?"
   ]
  },
  {
   "cell_type": "code",
   "execution_count": 10,
   "id": "af3e2cd1-c682-4b66-949e-65c90b1b8bc5",
   "metadata": {},
   "outputs": [
    {
     "data": {
      "text/plain": [
       "\u001b[0;31mSignature:\u001b[0m \u001b[0mfnames\u001b[0m\u001b[0;34m(\u001b[0m\u001b[0mdir_or_files\u001b[0m\u001b[0;34m,\u001b[0m \u001b[0msuffix\u001b[0m\u001b[0;34m=\u001b[0m\u001b[0;34m''\u001b[0m\u001b[0;34m,\u001b[0m \u001b[0mkey\u001b[0m\u001b[0;34m=\u001b[0m\u001b[0;34m'stem'\u001b[0m\u001b[0;34m)\u001b[0m\u001b[0;34m\u001b[0m\u001b[0;34m\u001b[0m\u001b[0m\n",
       "\u001b[0;31mDocstring:\u001b[0m\n",
       "fnames :: str      -> str -> str -> [str]\n",
       "fnames :: Path     -> str -> str -> [str]\n",
       "fnames :: [str]    -> str -> str -> [str]\n",
       "fnames :: Iterator -> str -> str -> [str]\n",
       "\n",
       "Returns a list of filenames\n",
       "`dir_or_files` can be: a string or Path name of a dir; a list of file names; an Iterator of file names.\n",
       "`suffix` is a string by which to filter files, returning only those ending in .`suffix`\n",
       "`key` specifies which value of `fname_index(f)` is returned for each file name. Example use of `key`\n",
       "    fname_index('map_se/t1_r1_genes.bam') ->\n",
       "        'full':   map_se/t1_r1_genes.bam\n",
       "        'path':   map_se\n",
       "        'name':   t1_r1_genes.bam\n",
       "        'stem':   t1_r1_genes\n",
       "        'suffix': bam\n",
       "        'keys':   ['t1', 'r1', 'genes']\n",
       "\n",
       "Examples:\n",
       "fnames('map_se') ->\n",
       "    ['map_se/t1_r1_genome.summary', 'map_se/t1_r1_genes.bam.csi', 'map_se/t1_r2_genome.bam', ...]\n",
       "fnames('map_se', 'bam') ->\n",
       "    ['map_se/t1_r2_genome.bam', 'map_se/t1_r2_genes.bam', 'map_se/t1_r1_genome.bam', ...]\n",
       "fnames('map_se', 'bam', key='name') ->\n",
       "    ['t1_r2_genome.bam', 't1_r2_genes.bam', 't1_r1_genome.bam', 'c1_r1_genes.bam', ...]\n",
       "fnames('map_se', 'bam', key='stem') ->\n",
       "    ['t1_r2_genome', 't1_r2_genes', 't1_r1_genome', 'c1_r1_genes', 'c1_r1_genome', 't1_r1_genes']\n",
       "fnames('map_se', 'bam', key='keys') ->\n",
       "    [['t1', 'r2', 'genome'], ['t1', 'r2', 'genes'], ['t1', 'r1', 'genome'], ['c1', 'r1', 'genes'], ...]\n",
       "\u001b[0;31mFile:\u001b[0m      ~/uofc_data/ubs_seq/UBS-seq_basic/scripts/fnames.py\n",
       "\u001b[0;31mType:\u001b[0m      function"
      ]
     },
     "metadata": {},
     "output_type": "display_data"
    }
   ],
   "source": [
    "fnames?"
   ]
  },
  {
   "cell_type": "code",
   "execution_count": 11,
   "id": "3e91e58a-0166-4c57-b2e0-68abbe3e9841",
   "metadata": {
    "scrolled": true
   },
   "outputs": [
    {
     "data": {
      "text/plain": [
       "\u001b[0;31mSignature:\u001b[0m \u001b[0mfname_index\u001b[0m\u001b[0;34m(\u001b[0m\u001b[0mpath_or_file\u001b[0m\u001b[0;34m)\u001b[0m\u001b[0;34m\u001b[0m\u001b[0;34m\u001b[0m\u001b[0m\n",
       "\u001b[0;31mDocstring:\u001b[0m\n",
       "fname_index :: str -> dict\n",
       "fname_index :: Path -> dict\n",
       "\n",
       "Returns a dict of a file name split by keys=['full', 'path', 'name', 'stem', 'suffix', 'keys'])\n",
       "`path_or_file is a string or Path file name`\n",
       "\n",
       "Example:\n",
       "    fname_index('map_se/t1_r1_genes.bam') ->\n",
       "        'full':   map_se/t1_r1_genes.bam\n",
       "        'path':   map_se\n",
       "        'name':   t1_r1_genes.bam\n",
       "        'stem':   t1_r1_genes\n",
       "        'suffix': bam\n",
       "        'keys':   ['t1', 'r1', 'genes']\n",
       "\u001b[0;31mFile:\u001b[0m      ~/uofc_data/ubs_seq/UBS-seq_basic/scripts/fnames.py\n",
       "\u001b[0;31mType:\u001b[0m      function"
      ]
     },
     "metadata": {},
     "output_type": "display_data"
    }
   ],
   "source": [
    "fname_index?"
   ]
  },
  {
   "cell_type": "code",
   "execution_count": 12,
   "id": "5ca9c962-263b-4bb5-91c1-c27231fbb301",
   "metadata": {},
   "outputs": [
    {
     "name": "stdout",
     "output_type": "stream",
     "text": [
      "Object `fname_split` not found.\n"
     ]
    }
   ],
   "source": [
    "fname_split?"
   ]
  },
  {
   "cell_type": "code",
   "execution_count": 13,
   "id": "d03f6f5f-f151-4037-a32c-c2610638b46b",
   "metadata": {},
   "outputs": [
    {
     "data": {
      "text/plain": [
       "\u001b[0;31mSignature:\u001b[0m \u001b[0mfnames_match\u001b[0m\u001b[0;34m(\u001b[0m\u001b[0mfiles\u001b[0m\u001b[0;34m,\u001b[0m \u001b[0mpattern\u001b[0m\u001b[0;34m,\u001b[0m \u001b[0;34m**\u001b[0m\u001b[0mwildcards\u001b[0m\u001b[0;34m)\u001b[0m\u001b[0;34m\u001b[0m\u001b[0;34m\u001b[0m\u001b[0m\n",
       "\u001b[0;31mDocstring:\u001b[0m\n",
       "fname_match :: [str] -> str -> [(str, [str])] -> [[str]]\n",
       "Returns a list of list of files matching the pattern.\n",
       "\n",
       "`files` is a list of file names\n",
       "`pattern` is a string similiar to the target `files` with each wildcard indicated by `{ }`\n",
       "`pattern` will generally hava a form: {sample}_{run}_{pair}_{ref}.{ext}, though order\n",
       "does not matter. Names do not matter provided they correspond to the names used in\n",
       "wildcard named lists.\n",
       "`**wilcards` are named lists, where the wildcard name is used within the pattern\n",
       "For example: sample = ['t1','c1']\n",
       "\n",
       "When files are matched to a pattern, chars between two {wildcard} will be ignored.\n",
       "This allows grouping of matched files, which are returned as a list\n",
       "\n",
       "Example:\n",
       "files =['t1_1_genes.bam', 't1_r2_genes.bam', 't1_r1_genome.bam', 't1_r2_genome.bam',\n",
       "        'c1_r1_genes.bam', 'c1_r1_genome.bam']\n",
       "\n",
       "match_files(files, \"{sample}_{ref}.bam\", sample = ['t1','c1'], ref = ['genes','genome']) ->\n",
       "\n",
       "    [['t1_1_genes.bam', 't1_r2_genes.bam'],\n",
       "     ['t1_r1_genome.bam', 't1_r2_genome.bam'],\n",
       "     ['c1_r1_genes.bam'],\n",
       "     ['c1_r1_genome.bam']]\n",
       "\u001b[0;31mFile:\u001b[0m      ~/uofc_data/ubs_seq/UBS-seq_basic/scripts/fnames.py\n",
       "\u001b[0;31mType:\u001b[0m      function"
      ]
     },
     "metadata": {},
     "output_type": "display_data"
    }
   ],
   "source": [
    "fnames_match?"
   ]
  },
  {
   "cell_type": "markdown",
   "id": "647912d1-4c4a-4469-83b6-4caa53f11ec5",
   "metadata": {},
   "source": [
    "### Configuration file"
   ]
  },
  {
   "cell_type": "markdown",
   "id": "8e95cc61-0759-4a6d-b1a4-28bd8f48d20f",
   "metadata": {},
   "source": [
    "Use `config.yaml` to configure `references/` and `samples`"
   ]
  },
  {
   "cell_type": "code",
   "execution_count": 14,
   "id": "0e9cbdfe-97bf-4c0d-9e86-ef93ad062c5d",
   "metadata": {
    "scrolled": true
   },
   "outputs": [],
   "source": [
    "config = load_configfile(home_path/\"config.yaml\")"
   ]
  },
  {
   "cell_type": "markdown",
   "id": "b47f67bc-9e3e-4b24-b2af-ac70f99086db",
   "metadata": {},
   "source": [
    "`refs` are the types of mapping used and as defined in `config.yaml`"
   ]
  },
  {
   "cell_type": "code",
   "execution_count": 15,
   "id": "8a174b91-7b76-4e72-9066-03f9210b62bc",
   "metadata": {},
   "outputs": [],
   "source": [
    "refs = ['genes','genome']"
   ]
  },
  {
   "cell_type": "markdown",
   "id": "b34546a3-3844-47a2-9af3-fcd69d584ea1",
   "metadata": {},
   "source": [
    "`get_ref()` returns the path (partially defined in `config.yaml`) for a `ref` of type `fasta` or `index`: `[ref][type]`"
   ]
  },
  {
   "cell_type": "code",
   "execution_count": 16,
   "id": "2ef560fe-9712-4bb9-8bb5-5e9f8d448c07",
   "metadata": {},
   "outputs": [],
   "source": [
    "def get_ref(ref,type): return home_path/config['reference'][ref][type]"
   ]
  },
  {
   "cell_type": "code",
   "execution_count": 17,
   "id": "9fd3b929-b9ad-48ed-acf8-e9ec4cfe01dd",
   "metadata": {},
   "outputs": [],
   "source": [
    "# Not strictly needed, better to use get_ref() directly\n",
    "genome_fa  = get_ref('genome','fa')\n",
    "genome_idx = get_ref('genome','hisat3n')\n",
    "genes_fa   = get_ref('genes','fa')\n",
    "genes_idx  = get_ref('genes','hisat3n')"
   ]
  },
  {
   "cell_type": "markdown",
   "id": "6ae70c06-6dde-420c-963f-01fbc6dd225d",
   "metadata": {},
   "source": [
    "## Step: select_samples"
   ]
  },
  {
   "cell_type": "markdown",
   "id": "cf0c6fbb-a4b9-4a0c-97d2-80646efb627e",
   "metadata": {},
   "source": [
    "#### Define sample names and link to sample files"
   ]
  },
  {
   "cell_type": "code",
   "execution_count": 18,
   "id": "d73f04c9-8803-4e6f-8336-a53a40d78bab",
   "metadata": {},
   "outputs": [
    {
     "name": "stdout",
     "output_type": "stream",
     "text": [
      ">>> {select_samples} 17:26:43_03-24-2024\n"
     ]
    }
   ],
   "source": [
    "out_path = mkpath('select_samples')"
   ]
  },
  {
   "cell_type": "markdown",
   "id": "b09b7658-9cb3-4676-a3a2-abe135391e5e",
   "metadata": {},
   "source": [
    "Samples were obtained from NCBI using the SRR ID"
   ]
  },
  {
   "cell_type": "markdown",
   "id": "d1b0d396-809c-4dcc-930c-41c03fefc876",
   "metadata": {},
   "source": [
    "| ID | Run | Strand | Group   | SRR           | Description                                               | Species |                                 \n",
    "|:---|-----|--------|---------|---------------|-----------------------------------------------------------|---------|                                 \n",
    "| t1 | r1  | R1     | Treated | SRR23538292   | WT HeLa polyA+ RNA treated with ultrafast BS, replicate 1 | Human   |                                 \n",
    "| t1 | r2  | R1     | Treated | SRR23538291   | WT HeLa polyA+ RNA treated with ultrafast BS, replicate 2 | Human   |                                 \n",
    "| t2 | r1  | R1     | Treated | SRR23538294_1 | 7ng of cfDNA treated with ultrafast BS, replicate 1       | Human   |                                 \n",
    "| t2 | r1  | R2     | Treated | SRR23538294_2 | 7ng of cfDNA treated with ultrafast BS, replicate 1       | Human   |                                 \n",
    "| t2 | r2  | R1     | Treated | SRR23538293_1 | 7ng of cfDNA treated with ultrafast BS, replicate 2       | Human   |                                 \n",
    "| t2 | r2  | R2     | Treated | SRR23538293_2 | 7ng of cfDNA treated with ultrafast BS, replicate 2       | Human   |                                 \n",
    "| c1 | r1  | R1     | Control | SRR23538290   | WT HeLa polyA+ RNA treated with ultrafast BS, replicate 3 | Human   |"
   ]
  },
  {
   "cell_type": "code",
   "execution_count": 19,
   "id": "b7400a9b-f68a-422d-9c21-2e9585eed176",
   "metadata": {},
   "outputs": [
    {
     "data": {
      "text/plain": [
       "['t1', 't2', 'c1']"
      ]
     },
     "execution_count": 19,
     "metadata": {},
     "output_type": "execute_result"
    }
   ],
   "source": [
    "samples(1)"
   ]
  },
  {
   "cell_type": "code",
   "execution_count": 20,
   "id": "4bae4815-852b-4eab-844f-6979b8baca07",
   "metadata": {},
   "outputs": [
    {
     "data": {
      "text/plain": [
       "['t1_r1', 't1_r2', 'c1_r1']"
      ]
     },
     "execution_count": 20,
     "metadata": {},
     "output_type": "execute_result"
    }
   ],
   "source": [
    "samples(2,end='se')"
   ]
  },
  {
   "cell_type": "code",
   "execution_count": 21,
   "id": "f414ebab-8811-41d4-99eb-2c0112255e77",
   "metadata": {},
   "outputs": [
    {
     "data": {
      "text/plain": [
       "[('t2_r1_R1', 't2_r1_R2'), ('t2_r2_R1', 't2_r2_R2')]"
      ]
     },
     "execution_count": 21,
     "metadata": {},
     "output_type": "execute_result"
    }
   ],
   "source": [
    "samples(2,end='pe')"
   ]
  },
  {
   "cell_type": "code",
   "execution_count": 22,
   "id": "8eb04d26-21b9-4537-9c71-d1096ceb92fc",
   "metadata": {},
   "outputs": [
    {
     "data": {
      "text/plain": [
       "['t1_r1', 't1_r2', 'c1_r1', 't2_r1_R1', 't2_r1_R2', 't2_r2_R1', 't2_r2_R2']"
      ]
     },
     "execution_count": 22,
     "metadata": {},
     "output_type": "execute_result"
    }
   ],
   "source": [
    "samples(end='all')"
   ]
  },
  {
   "cell_type": "markdown",
   "id": "c2b763c9-8a29-47f7-9e53-478784d23ecc",
   "metadata": {},
   "source": [
    "##### Sample Groups and Labels"
   ]
  },
  {
   "cell_type": "code",
   "execution_count": 71,
   "id": "d2f3944a-d90d-4925-959b-4a8baf130273",
   "metadata": {},
   "outputs": [
    {
     "name": "stdout",
     "output_type": "stream",
     "text": [
      "bio_samples = ['t1', 't2', 'c1']\n",
      "treated = ['t1_r1', 't1_r2', 't2_r1', 't2_r2']\n",
      "control = ['c1_r1']\n",
      "treated_data = ['t1_r1', 't1_r2', 't2_r1_R1', 't2_r1_R2', 't2_r2_R1', 't2_r2_R2']\n",
      "control_data = ['c1_r1']\n"
     ]
    }
   ],
   "source": [
    "# Biological Samples\n",
    "bio_samples = samples(1)\n",
    "# Experimental Samples\n",
    "treated, control = group2run['treated'], group2run['control']\n",
    "# Sequence Samples (Only PE are indicated)\n",
    "treated_data,control_data = group2data['treated'], group2data['control']\n",
    "print(f'bio_samples = {bio_samples}')\n",
    "print(f'treated = {treated}')\n",
    "print(f'control = {control}')\n",
    "print(f'treated_data = {treated_data}')\n",
    "print(f'control_data = {control_data}')"
   ]
  },
  {
   "cell_type": "markdown",
   "id": "1d9acff4-09ed-43f5-9183-5f66fbf1f1b7",
   "metadata": {},
   "source": [
    "##### Samples linked to Data Files"
   ]
  },
  {
   "cell_type": "markdown",
   "id": "8024d443-1db1-4a81-83dd-73460708d3da",
   "metadata": {},
   "source": [
    "Symbolically link short names with sample files"
   ]
  },
  {
   "cell_type": "code",
   "execution_count": 29,
   "id": "82fa021c-3fa5-4703-882a-c0409004af09",
   "metadata": {},
   "outputs": [
    {
     "data": {
      "text/plain": [
       "[('t1_r1',\n",
       "  PosixPath('/home/cdaniels/uofc_data/ubs_seq/UBS-seq_basic/workspace/../data/SRR23538292.fq.gz')),\n",
       " ('t1_r2',\n",
       "  PosixPath('/home/cdaniels/uofc_data/ubs_seq/UBS-seq_basic/workspace/../data/SRR23538291.fq.gz')),\n",
       " ('c1_r1',\n",
       "  PosixPath('/home/cdaniels/uofc_data/ubs_seq/UBS-seq_basic/workspace/../data/SRR23538290.fq.gz'))]"
      ]
     },
     "execution_count": 29,
     "metadata": {},
     "output_type": "execute_result"
    }
   ],
   "source": [
    "data(end='se')"
   ]
  },
  {
   "cell_type": "code",
   "execution_count": 30,
   "id": "342e26f6-e83b-46dc-ac94-5f57c41d6252",
   "metadata": {},
   "outputs": [
    {
     "data": {
      "text/plain": [
       "[('t2_r1_R1',\n",
       "  PosixPath('/home/cdaniels/uofc_data/ubs_seq/UBS-seq_basic/workspace/../data/SRR23538294_1.fq.gz')),\n",
       " ('t2_r1_R2',\n",
       "  PosixPath('/home/cdaniels/uofc_data/ubs_seq/UBS-seq_basic/workspace/../data/SRR23538294_2.fq.gz')),\n",
       " ('t2_r2_R1',\n",
       "  PosixPath('/home/cdaniels/uofc_data/ubs_seq/UBS-seq_basic/workspace/../data/SRR23538293_1.fq.gz')),\n",
       " ('t2_r2_R2',\n",
       "  PosixPath('/home/cdaniels/uofc_data/ubs_seq/UBS-seq_basic/workspace/../data/SRR23538293_2.fq.gz'))]"
      ]
     },
     "execution_count": 30,
     "metadata": {},
     "output_type": "execute_result"
    }
   ],
   "source": [
    "data(end='pe')"
   ]
  },
  {
   "cell_type": "markdown",
   "id": "933af9c1-c417-446e-8977-1503991d7a9a",
   "metadata": {},
   "source": [
    "`end='all'` flattens PE in order to concatenate with SE"
   ]
  },
  {
   "cell_type": "code",
   "execution_count": 26,
   "id": "c2d7cff0-21b7-49d8-a8e7-b133aa134172",
   "metadata": {},
   "outputs": [
    {
     "data": {
      "text/plain": [
       "[('t1_r1',\n",
       "  PosixPath('/home/cdaniels/uofc_data/ubs_seq/UBS-seq_basic/workspace/../data/SRR23538292.fq.gz')),\n",
       " ('t1_r2',\n",
       "  PosixPath('/home/cdaniels/uofc_data/ubs_seq/UBS-seq_basic/workspace/../data/SRR23538291.fq.gz')),\n",
       " ('c1_r1',\n",
       "  PosixPath('/home/cdaniels/uofc_data/ubs_seq/UBS-seq_basic/workspace/../data/SRR23538290.fq.gz')),\n",
       " ('t2_r1_R1',\n",
       "  PosixPath('/home/cdaniels/uofc_data/ubs_seq/UBS-seq_basic/workspace/../data/SRR23538294_1.fq.gz')),\n",
       " ('t2_r1_R2',\n",
       "  PosixPath('/home/cdaniels/uofc_data/ubs_seq/UBS-seq_basic/workspace/../data/SRR23538294_2.fq.gz')),\n",
       " ('t2_r2_R1',\n",
       "  PosixPath('/home/cdaniels/uofc_data/ubs_seq/UBS-seq_basic/workspace/../data/SRR23538293_1.fq.gz')),\n",
       " ('t2_r2_R2',\n",
       "  PosixPath('/home/cdaniels/uofc_data/ubs_seq/UBS-seq_basic/workspace/../data/SRR23538293_2.fq.gz'))]"
      ]
     },
     "execution_count": 26,
     "metadata": {},
     "output_type": "execute_result"
    }
   ],
   "source": [
    "data(end='all')"
   ]
  },
  {
   "cell_type": "code",
   "execution_count": 31,
   "id": "a74a4795-9f35-4591-b99a-d543fb585ff8",
   "metadata": {},
   "outputs": [
    {
     "name": "stdout",
     "output_type": "stream",
     "text": [
      "ln: failed to create symbolic link 'select_samples/t1_r1.fq.gz': File exists\n",
      "ln: failed to create symbolic link 'select_samples/t1_r2.fq.gz': File exists\n",
      "ln: failed to create symbolic link 'select_samples/c1_r1.fq.gz': File exists\n",
      "ln: failed to create symbolic link 'select_samples/t2_r1_R1.fq.gz': File exists\n",
      "ln: failed to create symbolic link 'select_samples/t2_r1_R2.fq.gz': File exists\n",
      "ln: failed to create symbolic link 'select_samples/t2_r2_R1.fq.gz': File exists\n",
      "ln: failed to create symbolic link 'select_samples/t2_r2_R2.fq.gz': File exists\n"
     ]
    }
   ],
   "source": [
    "for (s,fn) in data(end='all'):\n",
    "    !ln -s {fn} {fname(out_path,s,\"fq.gz\")}"
   ]
  },
  {
   "cell_type": "markdown",
   "id": "2e11be53",
   "metadata": {},
   "source": [
    "Check that the files look correct"
   ]
  },
  {
   "cell_type": "code",
   "execution_count": 32,
   "id": "25371f62",
   "metadata": {},
   "outputs": [
    {
     "name": "stdout",
     "output_type": "stream",
     "text": [
      "total 736M\n",
      "-rw-rw-r-- 1 cdaniels cdaniels  37M Mar 21 14:36 c1_r1.fq.gz\n",
      "-rw-rw-r-- 1 cdaniels cdaniels  47M Mar 21 14:36 t1_r1.fq.gz\n",
      "-rw-rw-r-- 1 cdaniels cdaniels  49M Mar 21 14:36 t1_r2.fq.gz\n",
      "-rw-rw-r-- 1 cdaniels cdaniels 146M Mar 21 14:37 t2_r1_R1.fq.gz\n",
      "-rw-rw-r-- 1 cdaniels cdaniels 163M Mar 21 14:37 t2_r1_R2.fq.gz\n",
      "-rw-rw-r-- 1 cdaniels cdaniels 140M Mar 21 14:37 t2_r2_R1.fq.gz\n",
      "-rw-rw-r-- 1 cdaniels cdaniels 158M Mar 21 14:37 t2_r2_R2.fq.gz\n"
     ]
    }
   ],
   "source": [
    "!ls -lLh {out_path}"
   ]
  },
  {
   "cell_type": "markdown",
   "id": "6c7307e9-bcb8-4515-be28-da83ddd2649a",
   "metadata": {},
   "source": [
    "How many sequence reads do we have per Sample"
   ]
  },
  {
   "cell_type": "code",
   "execution_count": 33,
   "id": "113b16b9-601a-4b74-83e7-12d25a9af329",
   "metadata": {},
   "outputs": [
    {
     "name": "stdout",
     "output_type": "stream",
     "text": [
      "t1_r1: 1183321\n",
      "t1_r2: 1365245\n",
      "c1_r1: 935632\n",
      "t2_r1_R1: 2411940\n",
      "t2_r1_R2: 2411940\n",
      "t2_r2_R1: 2423332\n",
      "t2_r2_R2: 2423332\n"
     ]
    }
   ],
   "source": [
    "# Total Reads per Samples\n",
    "for sample in samples(end='all'):\n",
    "    !echo {sample}: `samtools view -c {fname(out_path, sample, 'fq.gz')}`"
   ]
  },
  {
   "cell_type": "markdown",
   "id": "41fb4092-ae2c-4081-8658-300b9f3ffab8",
   "metadata": {},
   "source": [
    "## Step: fastqc_pre"
   ]
  },
  {
   "cell_type": "markdown",
   "id": "e95850c4-5827-459f-bbf9-04cad8347377",
   "metadata": {},
   "source": [
    "#### Pre Trimming Quality Control"
   ]
  },
  {
   "cell_type": "code",
   "execution_count": 36,
   "id": "20a87550-8f06-4d37-9c01-025dc8135790",
   "metadata": {},
   "outputs": [
    {
     "name": "stdout",
     "output_type": "stream",
     "text": [
      ">>> {select_samples} 18:06:43_03-24-2024\n",
      ">>> {fastqc_pre} 18:06:43_03-24-2024\n"
     ]
    }
   ],
   "source": [
    "in_path = mkpath(\"select_samples\")\n",
    "out_path = mkpath(\"fastqc_pre\")"
   ]
  },
  {
   "cell_type": "markdown",
   "id": "16857b29-a33c-424a-a224-22142e6d2e13",
   "metadata": {},
   "source": [
    "#### fastqc"
   ]
  },
  {
   "cell_type": "code",
   "execution_count": 22,
   "id": "c0dd3668-5561-44c7-b2ea-b903ebc1737e",
   "metadata": {
    "scrolled": true
   },
   "outputs": [],
   "source": [
    "#! fastqc --help"
   ]
  },
  {
   "cell_type": "markdown",
   "id": "eb840f81-7880-47b5-aab1-b6017da470e3",
   "metadata": {},
   "source": [
    "##### paramaters:\n",
    "- -o output dir"
   ]
  },
  {
   "cell_type": "code",
   "execution_count": 38,
   "id": "f0f6379b-63d0-4ed9-b3c7-c01accd81bb4",
   "metadata": {},
   "outputs": [
    {
     "name": "stdout",
     "output_type": "stream",
     "text": [
      "application/gzip\n",
      "Analysis complete for t1_r1.fq.gz\n",
      "application/gzip\n",
      "Analysis complete for t1_r2.fq.gz\n",
      "application/gzip\n",
      "Analysis complete for c1_r1.fq.gz\n",
      "application/gzip\n",
      "Analysis complete for t2_r1_R1.fq.gz\n",
      "application/gzip\n",
      "Analysis complete for t2_r1_R2.fq.gz\n",
      "application/gzip\n",
      "Analysis complete for t2_r2_R1.fq.gz\n",
      "application/gzip\n",
      "Analysis complete for t2_r2_R2.fq.gz\n"
     ]
    }
   ],
   "source": [
    "for sample in samples(end='all'):\n",
    "    ! fastqc {fname(in_path,sample,\"fq.gz\")} -o {out_path} 2> /dev/null"
   ]
  },
  {
   "cell_type": "code",
   "execution_count": 39,
   "id": "f009c6d6-c2d9-4b1c-b628-53e2ce7ba2d9",
   "metadata": {},
   "outputs": [
    {
     "name": "stdout",
     "output_type": "stream",
     "text": [
      "c1_r1_fastqc.html  t1_r2_fastqc.zip\t t2_r2_R1_fastqc.html\n",
      "c1_r1_fastqc.zip   t2_r1_R1_fastqc.html  t2_r2_R1_fastqc.zip\n",
      "t1_r1_fastqc.html  t2_r1_R1_fastqc.zip\t t2_r2_R2_fastqc.html\n",
      "t1_r1_fastqc.zip   t2_r1_R2_fastqc.html  t2_r2_R2_fastqc.zip\n",
      "t1_r2_fastqc.html  t2_r1_R2_fastqc.zip\n"
     ]
    }
   ],
   "source": [
    "! ls {out_path}"
   ]
  },
  {
   "cell_type": "markdown",
   "id": "51157b74",
   "metadata": {},
   "source": [
    "## Step: trim"
   ]
  },
  {
   "cell_type": "markdown",
   "id": "c1731c31-b9b1-4a09-b964-3dece49e1910",
   "metadata": {},
   "source": [
    "#### Trim the adapter and downstream sequence as well as trimmng lower quality downstream sequence"
   ]
  },
  {
   "cell_type": "code",
   "execution_count": 40,
   "id": "8b898be1",
   "metadata": {},
   "outputs": [
    {
     "name": "stdout",
     "output_type": "stream",
     "text": [
      ">>> {select_samples} 18:08:08_03-24-2024\n",
      ">>> {trim} 18:08:08_03-24-2024\n"
     ]
    }
   ],
   "source": [
    "in_path = mkpath(\"select_samples\")\n",
    "out_path = mkpath(\"trim\")"
   ]
  },
  {
   "attachments": {},
   "cell_type": "markdown",
   "id": "a15fbf3d-f263-49a6-b36a-90c5edeb3046",
   "metadata": {},
   "source": [
    "![adapter](../img/adapter.png)"
   ]
  },
  {
   "cell_type": "markdown",
   "id": "55fe08bc-dfe3-4066-9574-e5d8c0a53f64",
   "metadata": {},
   "source": [
    "The adapter sequence contains the i7 primer + i7 index + p7 sequence, and all of them can be sequenced in the R1, if the insert fragment is too short. The reason that RNA seq library shows index at the end, and UBS-seq shows index within the sequence, is because UBS-seq library are too short and PE150 sequencing mode can read though the whole index.\n",
    "\n",
    "Q: Where is barcode3?"
   ]
  },
  {
   "cell_type": "code",
   "execution_count": 41,
   "id": "632eaa99",
   "metadata": {},
   "outputs": [],
   "source": [
    "adapter =  \"AGATCGGAAGAGCACACGTCT\" # adapter == rc(adapter)\n",
    "barcode3 = \"ATCACG\""
   ]
  },
  {
   "cell_type": "code",
   "execution_count": 59,
   "id": "e73ebe78-4020-4894-8c0c-3239aee02330",
   "metadata": {},
   "outputs": [
    {
     "name": "stdout",
     "output_type": "stream",
     "text": [
      "c1_r1.fq.gz  t1_r2.fq.gz     t2_r1_R2.fq.gz  t2_r2_R2.fq.gz\n",
      "t1_r1.fq.gz  t2_r1_R1.fq.gz  t2_r2_R1.fq.gz\n"
     ]
    }
   ],
   "source": [
    "!ls {in_path}"
   ]
  },
  {
   "cell_type": "markdown",
   "id": "ca715978-8029-4cfe-a74c-765eb8ed882f",
   "metadata": {},
   "source": [
    "#### cutadapt"
   ]
  },
  {
   "cell_type": "code",
   "execution_count": 29,
   "id": "bbb14bd9",
   "metadata": {
    "scrolled": true
   },
   "outputs": [],
   "source": [
    "#! cutadapt --help"
   ]
  },
  {
   "cell_type": "markdown",
   "id": "51c5bf75-0af1-40c7-ba4a-1265587753b9",
   "metadata": {
    "scrolled": true
   },
   "source": [
    "```\n",
    "cutadapt -j {threads} \n",
    "            -n 2 \n",
    "            -a \"{params.barcode3}{params.adapter3};e=0.15;o=6;anywhere;\" \n",
    "            --untrimmed-output={output.fastq_untrimmed} \n",
    "            -o - {input} 2>{output.report1} | \n",
    "cutadapt -j {threads} \n",
    "            -u 5 -u -5 \n",
    "            --rename='{{id}}_{{cut_prefix}}{{cut_suffix}} {{comment}}' \n",
    "            --max-n=0 \n",
    "            -q 15 \n",
    "            --nextseq-trim=15 \n",
    "            -m 20 \n",
    "            --too-short-output={output.fastq_tooshort} \n",
    "            -o {output.fastq_cut} - >{output.report2}\n",
    "```"
   ]
  },
  {
   "cell_type": "markdown",
   "id": "61d94569-8947-497c-8641-59e0f790ce60",
   "metadata": {},
   "source": [
    "https://cutadapt.readthedocs.io/en/stable/guide.html"
   ]
  },
  {
   "cell_type": "markdown",
   "id": "cd81c901-05a6-4b85-9dc2-2c2201af649d",
   "metadata": {},
   "source": [
    "##### paramaters:\n",
    "- -j 0, Number of CPU. Use 0 to autodetect\n",
    "- --nextseq-trim=15, is used to trim these low-quality tails of 'G's by introducing a variable quality threshold\n",
    "- --action=trim, trim adapter and downstream sequence\n",
    "- -a '{barcode3}{adapter};e=0.15;o=6;anywhere;', \n",
    "- -n 2, Remove up to COUNT adapters from each read. Default: 1\n",
    "- -u 5 -u -5, Remove LEN bases from each read. If positve, from beginning. If negative, from end\n",
    "- --max-n=0, Discard reads with more than COUNT 'N' bases (here any)\n",
    "- -q 15, Trim low-quality bases from 5' end of eachread before adapter removal.\n",
    "- -m 20, Discard reads shorter than LEN\n",
    "- --rename='{{id}}_{{cut_prefix}}{{cut_suffix}} {{comment}}', rename comment of fastq record\n",
    "- --too-short-output={fname(out_path,sample,\"fastq_tooshort\")},\n",
    "- -o {fname(out_path,sample,\"fq.gz\")}, output file\n",
    "{fname(in_path,sample,\"fq.gz\")}, input file"
   ]
  },
  {
   "cell_type": "markdown",
   "id": "dbf6f13b-0a83-4436-b929-f2000deb241d",
   "metadata": {},
   "source": [
    "**NOTE:** Added `--length 30` to cutoff reads where C begin to become more common. Not in original code"
   ]
  },
  {
   "cell_type": "code",
   "execution_count": 38,
   "id": "c556375c-0e45-402f-b5fe-6418606482ca",
   "metadata": {},
   "outputs": [
    {
     "name": "stdout",
     "output_type": "stream",
     "text": [
      "Done           00:00:01     1,183,321 reads @   0.9 µs/read;  66.70 M reads/minute\n",
      "Done           00:00:01     1,158,613 reads @   1.1 µs/read;  55.83 M reads/minute\n",
      "Done           00:00:01     1,365,245 reads @   0.9 µs/read;  69.48 M reads/minute\n",
      "Done           00:00:01     1,335,535 reads @   1.0 µs/read;  58.59 M reads/minute\n",
      "Done           00:00:00       935,632 reads @   1.0 µs/read;  62.51 M reads/minute\n",
      "Done           00:00:01       910,046 reads @   1.2 µs/read;  51.94 M reads/minute\n"
     ]
    }
   ],
   "source": [
    "for sample in samples(end='se'):\n",
    "    !cutadapt -j 0 -n 2 \\\n",
    "        -a '{barcode3}{adapter};e=0.15;o=6;anywhere;' \\\n",
    "        --untrimmed-output={fname(out_path,sample,'untrimmed')} \\\n",
    "        -o {fname(out_path,sample,'tmp')}\\\n",
    "        {fname(in_path,sample,'fq.gz')} > {fname (out_path,sample,'report1')} \n",
    "    \n",
    "    !cutadapt -j 0 -u 5 -u -5 --max-n=0 -q 15 -m 20 --length 80 --nextseq-trim=15 \\\n",
    "            --rename='{{id}}_{{cut_prefix}}{{cut_suffix}} {{comment}}'\\\n",
    "            --too-short-output={fname(out_path,sample,'tooshort')} \\\n",
    "            -o {fname(out_path,sample,\"fq.gz\")} \\\n",
    "            {fname(out_path,sample,'tmp')} > {fname(out_path,sample,'report2')}\n",
    "    \n",
    "    !rm {fname(out_path,sample,'tmp')}"
   ]
  },
  {
   "cell_type": "code",
   "execution_count": 42,
   "id": "e1756fd1-9968-40e5-83dd-20e7b1cdcef4",
   "metadata": {},
   "outputs": [
    {
     "name": "stdout",
     "output_type": "stream",
     "text": [
      "c1_r1.fq.gz  t1_r2.fq.gz     t2_r1_R2.fq.gz  t2_r2_R2.fq.gz\n",
      "t1_r1.fq.gz  t2_r1_R1.fq.gz  t2_r2_R1.fq.gz\n"
     ]
    }
   ],
   "source": [
    "!ls {in_path}"
   ]
  },
  {
   "cell_type": "code",
   "execution_count": 43,
   "id": "b304e2d2-d4cd-4d4f-b24e-ace810653bb4",
   "metadata": {},
   "outputs": [
    {
     "name": "stdout",
     "output_type": "stream",
     "text": [
      "c1_r1.fq.gz\tc1_r1.untrimmed  t1_r1.tooshort   t1_r2.report2\n",
      "c1_r1.report1\tt1_r1.fq.gz\t t1_r1.untrimmed  t1_r2.tooshort\n",
      "c1_r1.report2\tt1_r1.report1\t t1_r2.fq.gz\t  t1_r2.untrimmed\n",
      "c1_r1.tooshort\tt1_r1.report2\t t1_r2.report1\n"
     ]
    }
   ],
   "source": [
    "!ls {out_path}"
   ]
  },
  {
   "cell_type": "markdown",
   "id": "c0fd27b4-6fb6-43ec-abda-908fe49df9f8",
   "metadata": {},
   "source": [
    "#### Analysis"
   ]
  },
  {
   "cell_type": "markdown",
   "id": "0deddf8f-d88b-4b1f-832b-328714f045f3",
   "metadata": {},
   "source": [
    "Take a look at a FASTQ file"
   ]
  },
  {
   "cell_type": "code",
   "execution_count": 79,
   "id": "e07c75da-35fd-4c4e-b07a-3696595806f4",
   "metadata": {},
   "outputs": [
    {
     "name": "stdout",
     "output_type": "stream",
     "text": [
      "in_fn  = select_samples/t1_r1.fq.gz\n",
      "out_fn = trim/t1_r1.fq.gz\n"
     ]
    }
   ],
   "source": [
    "in_fn  = fname(in_path,treated_data[0],'fq.gz')\n",
    "out_fn = fname(out_path,treated_data[0],'fq.gz')\n",
    "print(f'in_fn  = {in_fn}')\n",
    "print(f'out_fn = {out_fn}')"
   ]
  },
  {
   "cell_type": "code",
   "execution_count": 60,
   "id": "053a88fa-0c43-4385-8370-1604de67928b",
   "metadata": {},
   "outputs": [
    {
     "name": "stdout",
     "output_type": "stream",
     "text": [
      "c1_r1.fq.gz  t1_r2.fq.gz     t2_r1_R2.fq.gz  t2_r2_R2.fq.gz\n",
      "t1_r1.fq.gz  t2_r1_R1.fq.gz  t2_r2_R1.fq.gz\n"
     ]
    }
   ],
   "source": [
    "!ls {in_path}"
   ]
  },
  {
   "cell_type": "code",
   "execution_count": 80,
   "id": "c450ef4a-6b0d-4ded-a5f1-d387be292b48",
   "metadata": {
    "scrolled": true
   },
   "outputs": [
    {
     "name": "stdout",
     "output_type": "stream",
     "text": [
      "@SRR23538292.50 50 length=121\n",
      "ATTTTTGGTTGATTTTGTTAGTAGTATATGTTTGTTTTAAAGATTAAGTTATGTATGTTTAAGTATGTACATCAATCACGAGATCGGAAGAGCACACGTCTGAACTCCAATCACCACCGGA\n",
      "+\n",
      "FF:,FFFFFFFFFFFF:FFFFFFFFF:FFFFFFFF,FFFF:FFFFFF::F,,:FF:FFFFFFFF:FFFFFFFFFFFFFFFFFFFFFFFFFFFFFFFFFFFF:FFFFFFFF:FFFFFFFF:F\n",
      "@SRR23538292.144 144 length=121\n",
      "TTTGGAAGAAAGGATTTTGTTAATTTTTTTTCGTATATCACGAGATCTGAATAGCACACGTCTGAACTCCAGTCACCACCGGATCTCGGATGCCGTATTCTGCTTGAAAAATTGGGGGGGG\n",
      "+\n",
      "FFFFF:FFFFFF::FFFFFFFFFFFFFFF:FFFFFFFFFFF,F,FFF,,FFFF,FFFFF:F::FFF,FFFF:FFFFFFFFFFFFF::,,,F,,F,:,FF::F,:F:,FF,:,,:,FFFFF,\n",
      "@SRR23538292.276 276 length=121\n",
      "TAACTTGGGGTTAGAAGGTGATTTATTTTTTTTTTTTATAAAAAAAAAAAAAAAAAAAAAAAAAAAAGTAAAAAAACGAAAAACGAAAAACACAACTAAGAAAAACAATCAACACCCGAAA\n",
      "+\n",
      "FFFFF,:,FFFFFFFFF:FFFFFFFFFFFFFFFFFFFFFFFFFFFFFFFFFFFFFFFFFFFFFFFFF,,,::FF:F,,,::,:,,,F:,,:F,,:,,,,,:F,:FF,,,,,,F,:FF,::,\n",
      "@SRR23538292.379 379 length=121\n",
      "GGTATGAAGATATTTTGGATGATTGATTGTAAAATCTATCACGAGATCGGAAGAGCACACGTCTGAACTCCAGTCACCACCGGATCTCGTATGCCGTCTTCTGCTTGTAAAATCGGGGGGG\n",
      "+\n",
      "FFFFFFFFFFFFFFFFFFFFFFFFFFFFFFFFFFFFFFFFF,FFFFFF:FFFFFFFFFFFFFFFFFFFFFFFFFFFFFFFFFFFFF,F:::F,,::FF,F,,:,,F:,,F:,,,::FFFFF\n",
      "\n",
      "gzip: stdout: Broken pipe\n"
     ]
    }
   ],
   "source": [
    "! zcat {in_fn}|head -16"
   ]
  },
  {
   "cell_type": "code",
   "execution_count": 81,
   "id": "bbff0c14-bd75-4988-a235-07400fa4a89b",
   "metadata": {},
   "outputs": [],
   "source": [
    "def show_adapter(reads):\n",
    "    for read in reads.split('\\n'):\n",
    "        read = read.replace(adapter, f'<span style=\"color: blue;\">{barcode3}{adapter}</span>')\n",
    "        #read = read.replace(adapter, f'<span style=\"color: blue;\">{adapter}</span>')\n",
    "        display(HTML(read))"
   ]
  },
  {
   "cell_type": "markdown",
   "id": "b131dc87-f706-4aa6-b82d-8fec51b0b7c2",
   "metadata": {},
   "source": [
    "Look for adapter in untrimmed reads"
   ]
  },
  {
   "cell_type": "code",
   "execution_count": 82,
   "id": "c6560944-596a-443c-9f53-d07613ceedbd",
   "metadata": {},
   "outputs": [
    {
     "data": {
      "text/html": [
       "ATTTTTGGTTGATTTTGTTAGTAGTATATGTTTGTTTTAAAGATTAAGTTATGTATGTTTAAGTATGTACATCAATCACG<span style=\"color: blue;\">ATCACGAGATCGGAAGAGCACACGTCT</span>GAACTCCAATCACCACCGGA"
      ],
      "text/plain": [
       "<IPython.core.display.HTML object>"
      ]
     },
     "metadata": {},
     "output_type": "display_data"
    },
    {
     "data": {
      "text/html": [
       "TTTGGAAGAAAGGATTTTGTTAATTTTTTTTCGTATATCACGAGATCTGAATAGCACACGTCTGAACTCCAGTCACCACCGGATCTCGGATGCCGTATTCTGCTTGAAAAATTGGGGGGGG"
      ],
      "text/plain": [
       "<IPython.core.display.HTML object>"
      ]
     },
     "metadata": {},
     "output_type": "display_data"
    },
    {
     "data": {
      "text/html": [
       "TAACTTGGGGTTAGAAGGTGATTTATTTTTTTTTTTTATAAAAAAAAAAAAAAAAAAAAAAAAAAAAGTAAAAAAACGAAAAACGAAAAACACAACTAAGAAAAACAATCAACACCCGAAA"
      ],
      "text/plain": [
       "<IPython.core.display.HTML object>"
      ]
     },
     "metadata": {},
     "output_type": "display_data"
    },
    {
     "data": {
      "text/html": [
       "GGTATGAAGATATTTTGGATGATTGATTGTAAAATCTATCACG<span style=\"color: blue;\">ATCACGAGATCGGAAGAGCACACGTCT</span>GAACTCCAGTCACCACCGGATCTCGTATGCCGTCTTCTGCTTGTAAAATCGGGGGGG"
      ],
      "text/plain": [
       "<IPython.core.display.HTML object>"
      ]
     },
     "metadata": {},
     "output_type": "display_data"
    },
    {
     "data": {
      "text/html": [
       "TATTAATTTAATATAGAAAAGGAAGGTTAGTTAGTTAGTAGGTATAGAAAAGAAATTTTATTTTGATGTTTAGGGGATTTGTTTTGTCTATATCACG<span style=\"color: blue;\">ATCACGAGATCGGAAGAGCACACGTCT</span>GAA"
      ],
      "text/plain": [
       "<IPython.core.display.HTML object>"
      ]
     },
     "metadata": {},
     "output_type": "display_data"
    },
    {
     "data": {
      "text/html": [
       "CTAGGAGTTGTAGAGAAATGTATTTTTATAGAAATTAAGACTTTATCACGATATCGGAAGAGCACACGTCTGAACTCCAGTCACCACCGGATCTCGTATGCCGTCTTCTTCTTGAAAAAAA"
      ],
      "text/plain": [
       "<IPython.core.display.HTML object>"
      ]
     },
     "metadata": {},
     "output_type": "display_data"
    },
    {
     "data": {
      "text/html": [
       "CACTATTTAAAAGGGATTAGAAAGTGGGTGTGGGAGGTAGAAATTTTTTGTATAGAGTGATAGTATTACGATCACG<span style=\"color: blue;\">ATCACGAGATCGGAAGAGCACACGTCT</span>GAACTCCAGTCACCACCGGATCTC"
      ],
      "text/plain": [
       "<IPython.core.display.HTML object>"
      ]
     },
     "metadata": {},
     "output_type": "display_data"
    },
    {
     "data": {
      "text/html": [
       "CGCAAAGGTTAAATGAATATTATTTTTAATATTTGTTATTTTATTTTTAATTAGTGGTGGAAGAGTGGTTTTAGAATTGTTTGTTTTCATTCATCACG<span style=\"color: blue;\">ATCACGAGATCGGAAGAGCACACGTCT</span>GA"
      ],
      "text/plain": [
       "<IPython.core.display.HTML object>"
      ]
     },
     "metadata": {},
     "output_type": "display_data"
    },
    {
     "data": {
      "text/html": [
       "GAAAGAGTAATGTGTAGTTTAAGTTGATTATTGTGGATGTTGTCGGTTTTGGGGATTAGATTAATCCGTTATCACG<span style=\"color: blue;\">ATCACGAGATCGGAAGAGCACACGTCT</span>GAACTCCAGTCACCACCGGATCTC"
      ],
      "text/plain": [
       "<IPython.core.display.HTML object>"
      ]
     },
     "metadata": {},
     "output_type": "display_data"
    }
   ],
   "source": [
    "reads = ! zcat {in_fn} | head -36  | seqtk seq -A |grep -v '>'\n",
    "reads = ('\\n').join(reads)\n",
    "show_adapter(reads)"
   ]
  },
  {
   "cell_type": "markdown",
   "id": "fad1e27a-a3a6-4bfe-9920-203e65654575",
   "metadata": {},
   "source": [
    "Verify that adapters and all downstream elements of reads have been trimmed"
   ]
  },
  {
   "cell_type": "code",
   "execution_count": 83,
   "id": "65a7f174-35a8-4956-bdf3-eb86888a902a",
   "metadata": {},
   "outputs": [
    {
     "data": {
      "text/html": [
       "TGGTTGATTTTGTTAGTAGTATATGTTTGTTTTAAAGATTAAGTTATGTATGTTTAAGTATGTA"
      ],
      "text/plain": [
       "<IPython.core.display.HTML object>"
      ]
     },
     "metadata": {},
     "output_type": "display_data"
    },
    {
     "data": {
      "text/html": [
       "AAGAAAGGATTTTGTTAATTTTTTTT"
      ],
      "text/plain": [
       "<IPython.core.display.HTML object>"
      ]
     },
     "metadata": {},
     "output_type": "display_data"
    },
    {
     "data": {
      "text/html": [
       "GAAGATATTTTGGATGATTGATTGTAA"
      ],
      "text/plain": [
       "<IPython.core.display.HTML object>"
      ]
     },
     "metadata": {},
     "output_type": "display_data"
    },
    {
     "data": {
      "text/html": [
       "ATTTAATATAGAAAAGGAAGGTTAGTTAGTTAGTAGGTATAGAAAAGAAATTTTATTTTGATGTTTAGGGGATTTGTTTT"
      ],
      "text/plain": [
       "<IPython.core.display.HTML object>"
      ]
     },
     "metadata": {},
     "output_type": "display_data"
    },
    {
     "data": {
      "text/html": [
       "AGTTGTAGAGAAATGTATTTTTATAGAAATTAA"
      ],
      "text/plain": [
       "<IPython.core.display.HTML object>"
      ]
     },
     "metadata": {},
     "output_type": "display_data"
    },
    {
     "data": {
      "text/html": [
       "TTTAAAAGGGATTAGAAAGTGGGTGTGGGAGGTAGAAATTTTTTGTATAGAGTGATAGTA"
      ],
      "text/plain": [
       "<IPython.core.display.HTML object>"
      ]
     },
     "metadata": {},
     "output_type": "display_data"
    },
    {
     "data": {
      "text/html": [
       "AGGTTAAATGAATATTATTTTTAATATTTGTTATTTTATTTTTAATTAGTGGTGGAAGAGTGGTTTTAGAATTGTTTGTT"
      ],
      "text/plain": [
       "<IPython.core.display.HTML object>"
      ]
     },
     "metadata": {},
     "output_type": "display_data"
    },
    {
     "data": {
      "text/html": [
       "AGTAATGTGTAGTTTAAGTTGATTATTGTGGATGTTGTCGGTTTTGGGGATTAGATTAAT"
      ],
      "text/plain": [
       "<IPython.core.display.HTML object>"
      ]
     },
     "metadata": {},
     "output_type": "display_data"
    },
    {
     "data": {
      "text/html": [
       "TTGAAGGATATTGTTATAGTAGAGAGAGT"
      ],
      "text/plain": [
       "<IPython.core.display.HTML object>"
      ]
     },
     "metadata": {},
     "output_type": "display_data"
    }
   ],
   "source": [
    "reads = !zcat {out_fn}| head -36  | seqtk seq -A |grep -v '>'\n",
    "reads = ('\\n').join(reads)\n",
    "show_adapter(reads)"
   ]
  },
  {
   "cell_type": "code",
   "execution_count": 49,
   "id": "27ed8414-eba7-471c-bbde-314fa77492f9",
   "metadata": {},
   "outputs": [
    {
     "name": "stdout",
     "output_type": "stream",
     "text": [
      "c1_r1.fq.gz\tc1_r1.untrimmed  t1_r1.tooshort   t1_r2.report2\n",
      "c1_r1.report1\tt1_r1.fq.gz\t t1_r1.untrimmed  t1_r2.tooshort\n",
      "c1_r1.report2\tt1_r1.report1\t t1_r2.fq.gz\t  t1_r2.untrimmed\n",
      "c1_r1.tooshort\tt1_r1.report2\t t1_r2.report1\n"
     ]
    }
   ],
   "source": [
    "!ls {out_path}"
   ]
  },
  {
   "cell_type": "markdown",
   "id": "b28de976-ebee-4727-a44a-a3379cd8757e",
   "metadata": {},
   "source": [
    "What did `--rename='{{id}}_{{cut_prefix}}{{cut_suffix}} {{comment}}'` do?\n",
    "\n",
    "It appears to has included in the fastq header, an id comprised of the first and last 5 nt cut by `-u 5` and `-u -5`"
   ]
  },
  {
   "cell_type": "code",
   "execution_count": 50,
   "id": "b2c72e26-ecf2-4712-9909-fd202e1eed08",
   "metadata": {
    "scrolled": true
   },
   "outputs": [
    {
     "name": "stdout",
     "output_type": "stream",
     "text": [
      "@SRR23538292.50 50 length=121\n",
      "ATTTTTGGTTGATTTTGTTAGTAGTATATGTTTGTTTTAAAGATTAAGTTATGTATGTTTAAGTATGTACATCAATCACGAGATCGGAAGAGCACACGTCTGAACTCCAATCACCACCGGA\n",
      "\n",
      "gzip: stdout: Broken pipe\n"
     ]
    }
   ],
   "source": [
    "! zcat {in_fn}|head -2  "
   ]
  },
  {
   "cell_type": "code",
   "execution_count": 51,
   "id": "97272d2b-9170-4935-8801-907e7ffcb1f0",
   "metadata": {},
   "outputs": [
    {
     "name": "stdout",
     "output_type": "stream",
     "text": [
      "@SRR23538292.50_ATTTTCATCA 50 length=121\n",
      "TGGTTGATTTTGTTAGTAGTATATGTTTGTTTTAAAGATTAAGTTATGTATGTTTAAGTATGTA\n",
      "\n",
      "gzip: stdout: Broken pipe\n"
     ]
    }
   ],
   "source": [
    "!zcat {out_fn}| head -2"
   ]
  },
  {
   "cell_type": "code",
   "execution_count": 158,
   "id": "b2166866-21af-40a6-8917-108bfde26611",
   "metadata": {},
   "outputs": [
    {
     "name": "stdout",
     "output_type": "stream",
     "text": [
      "Singe End: Search for Adapters\n",
      "--------------------------------------------------------------------------\n",
      "t1_r1: n_ad_R1 = 1099696, n_ad_R2 = 0, total = 4733284, max_perct = 23.23\n",
      "--------------------------------------------------------------------------\n",
      "t1_r2: n_ad_R1 = 1270967, n_ad_R2 = 0, total = 5460980, max_perct = 23.27\n",
      "--------------------------------------------------------------------------\n",
      "c1_r1: n_ad_R1 = 859745, n_ad_R2 = 0, total = 3742528, max_perct = 22.97\n",
      "--------------------------------------------------------------------------\n"
     ]
    }
   ],
   "source": [
    "ad_R1, bar_R1 = 'AGATCGGAAGAGCACACGTCT', 'ATCACG'\n",
    "ad_R2, bar_R2 = 'AGATCGGAAGAGCGTCGTGT', 'CGTGAT'\n",
    "# ad_R1 ~= rc(ad_R2) \n",
    "\n",
    "print('Singe End: Search for Adapters')\n",
    "print('--------------------------------------------------------------------------')\n",
    "for r in samples(end='se'):\n",
    "    fn = fname(in_path,r,'fq.gz')\n",
    "    n_ad_R1   = ! zcat -c {fn} | grep {ad_R1} | wc -l\n",
    "    n_ad_R2   = ! zcat -c {fn} | grep {ad_R2} | wc -l\n",
    "    total      = ! zcat -c {fn} | wc -l\n",
    "    n_ad_R1, n_ad_R2, total = int(n_ad_R1[0]), int(n_ad_R2[0]), int(total[0])\n",
    "    print(f'{r}: n_ad_R1 = {n_ad_R1}, n_ad_R2 = {n_ad_R2}, total = {total}, max_perct = {100*round(max(n_ad_R1,n_ad_R2)/total,4)}')\n",
    "    print('--------------------------------------------------------------------------')"
   ]
  },
  {
   "cell_type": "code",
   "execution_count": 155,
   "id": "9f3fb79a-3442-4f6c-bd5a-042b9ba3657c",
   "metadata": {},
   "outputs": [
    {
     "name": "stdout",
     "output_type": "stream",
     "text": [
      "Single End: Search for Bar Codes\n",
      "----------------------------------------------------------------------------------\n",
      "t1_r1: n_bar_R1 = 1127609, n_bar_R2 = 4232, total = 4733284, max_perct = 23.823\n",
      "----------------------------------------------------------------------------------\n",
      "t1_r2: n_bar_R1 = 1300174, n_bar_R2 = 4760, total = 5460980, max_perct = 23.8084\n",
      "----------------------------------------------------------------------------------\n",
      "c1_r1: n_bar_R1 = 886190, n_bar_R2 = 3317, total = 3742528, max_perct = 23.6789\n",
      "----------------------------------------------------------------------------------\n"
     ]
    }
   ],
   "source": [
    "ad_R1, bar_R1 = 'AGATCGGAAGAGCACACGTCT', 'ATCACG'\n",
    "ad_R2, bar_R2 = 'AGATCGGAAGAGCGTCGTGT',  'CGTGAT'\n",
    "# ad_R1 ~= rc(ad_R2) \n",
    "\n",
    "print('Single End: Search for Bar Codes')\n",
    "print('----------------------------------------------------------------------------------')\n",
    "for r in samples(end='se'):\n",
    "    fn = fname(in_path,r,'fq.gz')\n",
    "    n_bar_R1   = ! zcat -c {fn} | grep {bar_R1} | wc -l\n",
    "    n_bar_R2   = ! zcat -c {fn} | grep {bar_R2} | wc -l\n",
    "    total      = ! zcat -c {fn} | wc -l\n",
    "    n_bar_R1, n_bar_R2, total = int(n_bar_R1[0]), int(n_bar_R2[0]), int(total[0])\n",
    "    print(f'{r}: n_bar_R1 = {n_bar_R1}, n_bar_R2 = {n_bar_R2}, total = {total}, max_perct = {round(100*max(n_bar_R1,n_bar_R2)/total,4)}')\n",
    "    print('----------------------------------------------------------------------------------')"
   ]
  },
  {
   "cell_type": "code",
   "execution_count": 157,
   "id": "6b32373d-f4a6-4519-aeee-d871ae3c677e",
   "metadata": {},
   "outputs": [
    {
     "name": "stdout",
     "output_type": "stream",
     "text": [
      "Paired End: Search for Adapters\n",
      "------------------------------------------------------------------------------\n",
      "t2_r1_R1: n_ad_R1 = 933773, n_ad_R2 = 0, total = 9647760, max_perct = 9.6787\n",
      "------------------------------------------------------------------------------\n",
      "t2_r1_R2: n_ad_R1 = 0, n_ad_R2 = 800831, total = 9647760, max_perct = 8.3007\n",
      "------------------------------------------------------------------------------\n",
      "t2_r2_R1: n_ad_R1 = 1098520, n_ad_R2 = 1, total = 9693328, max_perct = 11.3327\n",
      "------------------------------------------------------------------------------\n",
      "t2_r2_R2: n_ad_R1 = 4, n_ad_R2 = 925804, total = 9693328, max_perct = 9.5509\n",
      "------------------------------------------------------------------------------\n"
     ]
    }
   ],
   "source": [
    "ad_R1, bar_R1 = 'AGATCGGAAGAGCACACGTCT', 'ATCACG'\n",
    "ad_R2, bar_R2 = 'AGATCGGAAGAGCGTCGTGT', 'CGTGAT'\n",
    "# ad_R1 ~= rc(ad_R2) \n",
    "\n",
    "print('Paired End: Search for Adapters')\n",
    "print('------------------------------------------------------------------------------')\n",
    "for r in (rs for sample in samples(end='pe') for rs in sample):\n",
    "    fn = fname(in_path,r,'fq.gz')\n",
    "    n_ad_R1   = ! zcat -c {fn} | grep {ad_R1} | wc -l\n",
    "    n_ad_R2   = ! zcat -c {fn} | grep {ad_R2} | wc -l\n",
    "    total      = ! zcat -c {fn} | wc -l\n",
    "    n_ad_R1, n_ad_R2, total = int(n_ad_R1[0]), int(n_ad_R2[0]), int(total[0])\n",
    "    print(f'{r}: n_ad_R1 = {n_ad_R1}, n_ad_R2 = {n_ad_R2}, total = {total}, max_perct = {round(100*max(n_ad_R1,n_ad_R2)/total,4)}')\n",
    "    print('------------------------------------------------------------------------------')"
   ]
  },
  {
   "cell_type": "code",
   "execution_count": 156,
   "id": "bb4d052a-ca29-466f-96e0-41747573275d",
   "metadata": {},
   "outputs": [
    {
     "name": "stdout",
     "output_type": "stream",
     "text": [
      "Paired End: Search for Bar Codes\n",
      "----------------------------------------------------------------------------------\n",
      "t2_r1_R1: n_bar_R1 = 876, n_bar_R2 = 28922, total = 9647760, max_perct = 0.2998\n",
      "----------------------------------------------------------------------------------\n",
      "t2_r1_R2: n_bar_R1 = 36699, n_bar_R2 = 782, total = 9647760, max_perct = 0.3804\n",
      "----------------------------------------------------------------------------------\n",
      "t2_r2_R1: n_bar_R1 = 1151, n_bar_R2 = 27610, total = 9693328, max_perct = 0.2848\n",
      "----------------------------------------------------------------------------------\n",
      "t2_r2_R2: n_bar_R1 = 38539, n_bar_R2 = 1007, total = 9693328, max_perct = 0.3976\n",
      "----------------------------------------------------------------------------------\n"
     ]
    }
   ],
   "source": [
    "ad_R1, bar_R1 = 'AGATCGGAAGAGCACACGTCT', 'ATCACG'\n",
    "ad_R2, bar_R2 = 'AGATCGGAAGAGCGTCGTGT',  'CGTGAT'\n",
    "# ad_R1 ~= rc(ad_R2) \n",
    "\n",
    "print('Paired End: Search for Bar Codes')\n",
    "print('----------------------------------------------------------------------------------')\n",
    "for r in (rs for sample in samples(end='pe') for rs in sample):\n",
    "    fn = fname(in_path,r,'fq.gz')\n",
    "    n_bar_R1   = ! zcat -c {fn} | grep {bar_R1} | wc -l\n",
    "    n_bar_R2   = ! zcat -c {fn} | grep {bar_R2} | wc -l\n",
    "    total      = ! zcat -c {fn} | wc -l\n",
    "    n_bar_R1, n_bar_R2, total = int(n_bar_R1[0]), int(n_bar_R2[0]), int(total[0])\n",
    "    print(f'{r}: n_bar_R1 = {n_bar_R1}, n_bar_R2 = {n_bar_R2}, total = {total}, max_perct = {round(100*max(n_bar_R1,n_bar_R2)/total,4)}')\n",
    "    print('----------------------------------------------------------------------------------')"
   ]
  },
  {
   "cell_type": "code",
   "execution_count": 115,
   "id": "f84a5fad-a9ae-4c4e-9e14-9388731f38a0",
   "metadata": {},
   "outputs": [
    {
     "data": {
      "text/plain": [
       "[('t2_r1_R1', 't2_r1_R2'), ('t2_r2_R1', 't2_r2_R2')]"
      ]
     },
     "execution_count": 115,
     "metadata": {},
     "output_type": "execute_result"
    }
   ],
   "source": [
    "list((s[0],s[1]) for s in samples(end='pe'))"
   ]
  },
  {
   "cell_type": "markdown",
   "id": "c37417da-f21f-483c-9a02-f84c5be479df",
   "metadata": {},
   "source": [
    "Too slow for large files. Commented out."
   ]
  },
  {
   "cell_type": "code",
   "execution_count": 43,
   "id": "9004da50-f983-496a-8ec4-7e8a45047d22",
   "metadata": {},
   "outputs": [],
   "source": [
    "#files = [fname(in_path,sample, \"fq.gz\") for sample in samples]\n",
    "#res = []\n",
    "#for f in files:\n",
    "#    n = !seqtk seq -A {f}|grep -v '>'|wc -c\n",
    "#    res.append(int(n[0]))\n",
    "#ins = res\n",
    "#ins"
   ]
  },
  {
   "cell_type": "code",
   "execution_count": 44,
   "id": "fb5d33e9-c511-41f2-b8d4-3f7e606fa4ad",
   "metadata": {},
   "outputs": [],
   "source": [
    "#files = [fname(out_path,sample, \"fq.gz\") for sample in samples]\n",
    "#res = []\n",
    "#for f in files:\n",
    "#    n = !seqtk seq -A {f}|grep -v '>'|wc -c\n",
    "#    res.append(int(n[0]))\n",
    "#outs = res\n",
    "#outs"
   ]
  },
  {
   "cell_type": "code",
   "execution_count": 45,
   "id": "34da7817",
   "metadata": {},
   "outputs": [],
   "source": [
    "#make_table(ins, outs, \"Origs\", \"Trimmed\", \"Sum of Total Read Lengths\", samples, \"Sum of Total Reads Per Sample\")"
   ]
  },
  {
   "cell_type": "code",
   "execution_count": 46,
   "id": "728a7038-553c-4428-9112-becd7d1c87cf",
   "metadata": {},
   "outputs": [],
   "source": [
    "#reads = !xargs zcat {out_path}/*.gz | seqtk seq -A  |grep -v \">\" \n",
    "#ds = [len(read) for read in reads]\n",
    "#make_histogram(ds, \"Read Length\", \"Trimmed Reads\")"
   ]
  },
  {
   "cell_type": "markdown",
   "id": "bf68d82c-0200-4613-b5b6-497fde519e16",
   "metadata": {},
   "source": [
    "## Step: fastqc_post"
   ]
  },
  {
   "cell_type": "markdown",
   "id": "8198a2d4-8f2f-46de-ba05-5b335a21bc2e",
   "metadata": {},
   "source": [
    "#### Post Trimming Quality Control"
   ]
  },
  {
   "cell_type": "code",
   "execution_count": 46,
   "id": "140ea0f2-cb1c-48a6-adbd-5264b92c8e1f",
   "metadata": {},
   "outputs": [
    {
     "name": "stdout",
     "output_type": "stream",
     "text": [
      ">>> {trim} 13:54:30_03-11-2024\n",
      ">>> {fastqc_post} 13:54:30_03-11-2024\n"
     ]
    }
   ],
   "source": [
    "in_path = mkpath(\"trim\")\n",
    "out_path = mkpath(\"fastqc_post\")"
   ]
  },
  {
   "cell_type": "code",
   "execution_count": 47,
   "id": "aa72c0a9-9280-4255-b5d6-d0d0258181c0",
   "metadata": {},
   "outputs": [
    {
     "name": "stdout",
     "output_type": "stream",
     "text": [
      "application/gzip\n",
      "Analysis complete for t1_r1.fq.gz\n",
      "application/gzip\n",
      "Analysis complete for t1_r2.fq.gz\n",
      "application/gzip\n",
      "Analysis complete for c1_r1.fq.gz\n"
     ]
    }
   ],
   "source": [
    "for sample in samples():\n",
    "    ! fastqc {fname(in_path,sample,\"fq.gz\")} -o {out_path} 2> /dev/null"
   ]
  },
  {
   "cell_type": "markdown",
   "id": "69de1cf7-fa1b-49f1-ba6a-a14126989904",
   "metadata": {},
   "source": [
    "#### Consolidate fastqc Reports"
   ]
  },
  {
   "cell_type": "code",
   "execution_count": 48,
   "id": "e751dc92-97ee-4f4e-af15-6d05c1fb49ce",
   "metadata": {},
   "outputs": [
    {
     "name": "stdout",
     "output_type": "stream",
     "text": [
      "\n",
      "  \u001b[91m///\u001b[0m \u001b]8;id=491384;https://multiqc.info\u001b\\\u001b[1mMultiQC\u001b[0m\u001b]8;;\u001b\\ 🔍 \u001b[2m| v1.19\u001b[0m\n",
      "\n",
      "\u001b[34m|           multiqc\u001b[0m | \u001b[33mMultiQC Version v1.21 now available!\u001b[0m\n",
      "\u001b[34m|           multiqc\u001b[0m | Only using modules: fastqc\n",
      "\u001b[34m|           multiqc\u001b[0m | Search path : /home/cdaniels/uofc_data/ubs_seq/UBS-seq_basic/workspace/fastqc_post\n",
      "\u001b[2K\u001b[34m|\u001b[0m         \u001b[34msearching\u001b[0m | \u001b[90m━━━━━━━━━━━━━━━━━━━━━━━━━━━━━━━━━━━━━━━━\u001b[0m \u001b[35m100%\u001b[0m \u001b[32m6/6\u001b[0m  0/6\u001b[0m  \n",
      "\u001b[?25h\u001b[34m|            fastqc\u001b[0m | Found 3 reports\n",
      "\u001b[34m|           multiqc\u001b[0m | Report      : fastqc_post/multiqc.html\n",
      "\u001b[34m|           multiqc\u001b[0m | Data        : fastqc_post/multiqc_data\n",
      "\u001b[34m|           multiqc\u001b[0m | MultiQC complete\n"
     ]
    }
   ],
   "source": [
    "!multiqc -f -fp -m fastqc -n multiqc -o {out_path} {out_path}"
   ]
  },
  {
   "cell_type": "code",
   "execution_count": 50,
   "id": "bc5b1d72-84a7-4fd3-a8ae-e755b5015a52",
   "metadata": {},
   "outputs": [
    {
     "name": "stdout",
     "output_type": "stream",
     "text": [
      "c1_r1_fastqc.html  multiqc_data  t1_r1_fastqc.html  t2_r1_fastqc.html\n",
      "c1_r1_fastqc.zip   multiqc.html  t1_r1_fastqc.zip   t2_r1_fastqc.zip\n"
     ]
    }
   ],
   "source": [
    "! ls {out_path}"
   ]
  },
  {
   "cell_type": "markdown",
   "id": "bd28f83d-0595-4b9d-9db8-f56f2fff41da",
   "metadata": {},
   "source": [
    "## Step: map_se"
   ]
  },
  {
   "cell_type": "markdown",
   "id": "8e057fd4-bbc7-4b7f-8939-4ba2333a97d0",
   "metadata": {},
   "source": [
    "#### Map Single Ended Reads with Hisat-3n"
   ]
  },
  {
   "cell_type": "code",
   "execution_count": 73,
   "id": "93edc8f9-2ceb-45bf-a339-18d905b330b7",
   "metadata": {},
   "outputs": [
    {
     "name": "stdout",
     "output_type": "stream",
     "text": [
      ">>> {trim} 10:13:11_03-15-2024\n",
      ">>> {map_se} 10:13:11_03-15-2024\n"
     ]
    }
   ],
   "source": [
    "in_path = mkpath(\"trim\")\n",
    "out_path = mkpath(\"map_se\")"
   ]
  },
  {
   "cell_type": "markdown",
   "id": "3e70384d-dd3d-4d6c-8266-d38d43eaf766",
   "metadata": {},
   "source": [
    "#### hisat-3n"
   ]
  },
  {
   "cell_type": "markdown",
   "id": "ed1ac75b-4c17-4dd2-85bc-ac9ca4e2b750",
   "metadata": {},
   "source": [
    "http://daehwankimlab.github.io/hisat2/hisat-3n/"
   ]
  },
  {
   "cell_type": "code",
   "execution_count": 52,
   "id": "1b39bb8b-aeb9-430a-9fe3-5cf580577024",
   "metadata": {
    "scrolled": true
   },
   "outputs": [],
   "source": [
    "#!hisat-3n --help"
   ]
  },
  {
   "cell_type": "markdown",
   "id": "de01019d-11d5-4fee-b6e9-1c27c8c2ab74",
   "metadata": {
    "scrolled": true
   },
   "source": [
    "```\n",
    "hisat3n --index {params.index} \n",
    "        -p {threads}\n",
    "        --summary-file {output.summary} --new-summary -q -U {input} \n",
    "        {params.mapping} --all --norc --base-change C,T --mp 8,2 \n",
    "        --no-spliced-alignment --un {output.fq} -S {output.sam}\n",
    "```"
   ]
  },
  {
   "cell_type": "markdown",
   "id": "4f1644db-d16b-40fd-8067-f916de6f7cf0",
   "metadata": {},
   "source": [
    "##### paramaters:\n",
    "- --index {params.index}, Index filename prefix (minus trailing .X.ht2) \n",
    "- -p {nc}, number of threads\n",
    "- --summary-file, print alignment summary to this file.\n",
    "- --new-summary, print alignment summary in a new style, which is more machine-friendly.\n",
    "- -q, query input files are FASTQ .fq/.fastq (default)\n",
    "- -U {input}, \n",
    "- --directional-mapping, make directional mapping, please use this option only if your reads are prepared with a strand specific library (off)\n",
    "- --base-change C,T,  the converted nucleotide and converted to nucleotide (C,T)\n",
    "- --pen-noncansplice 20, penalty for a non-canonical splice site (12)\n",
    "- --mp 4,1,  max and min penalties for mismatch; lower qual = lower penalty <6,2>\n",
    "- --un {output.fq}, write unpaired reads that didn't align to <path> \n",
    "- -S {output.sam}, File for SAM output (default: stdout)"
   ]
  },
  {
   "cell_type": "markdown",
   "id": "770d35be-bdbc-4b4b-9f6f-dae888ba4795",
   "metadata": {},
   "source": [
    "#### Map Reads to Genes"
   ]
  },
  {
   "cell_type": "markdown",
   "id": "b5d55d7b-fa34-4546-b2c2-fa711be5ab64",
   "metadata": {},
   "source": [
    "This is a filtering step to remove reads aligned to reference genes including rRNA and tRNA\n",
    "\n",
    "The unmapped reads are saved as `sample.genes.fq.gz`, which are subsequently mapped to the genome"
   ]
  },
  {
   "cell_type": "code",
   "execution_count": 59,
   "id": "f4749f0e-a1f0-42c2-9c2d-0f79c91db80d",
   "metadata": {},
   "outputs": [
    {
     "name": "stdout",
     "output_type": "stream",
     "text": [
      "HISAT2 summary stats:\n",
      "\tTotal reads: 894555\n",
      "\t\tAligned 0 time: 869716 (97.22%)\n",
      "\t\tAligned 1 time: 9804 (1.10%)\n",
      "\t\tAligned >1 times: 15035 (1.68%)\n",
      "\tOverall alignment rate: 2.78%\n",
      "HISAT2 summary stats:\n",
      "\tTotal reads: 1306170\n",
      "\t\tAligned 0 time: 1268982 (97.15%)\n",
      "\t\tAligned 1 time: 14344 (1.10%)\n",
      "\t\tAligned >1 times: 22844 (1.75%)\n",
      "\tOverall alignment rate: 2.85%\n",
      "HISAT2 summary stats:\n",
      "\tTotal reads: 1134400\n",
      "\t\tAligned 0 time: 1101752 (97.12%)\n",
      "\t\tAligned 1 time: 11401 (1.01%)\n",
      "\t\tAligned >1 times: 21247 (1.87%)\n",
      "\tOverall alignment rate: 2.88%\n"
     ]
    }
   ],
   "source": [
    "for sample in samples():\n",
    "    !hisat-3n --index {genes_idx}\\\n",
    "        -p {nc}\\\n",
    "        --summary-file {fname(out_path,sample,'summary',tail='genes')}\\\n",
    "        --new-summary -q\\\n",
    "        -U {fname(in_path,sample,'fq.gz')}\\\n",
    "        --directional-mapping --all --norc \\\n",
    "        --base-change C,T\\\n",
    "        --no-spliced-alignment --mp 8,2\\\n",
    "        --un {fname(out_path,sample,'fq',tail='genes')}\\\n",
    "        -S {fname(out_path,sample,'sam',tail='genes')}"
   ]
  },
  {
   "cell_type": "code",
   "execution_count": 60,
   "id": "10f0bc0e-3985-427c-af5e-882286fc0c20",
   "metadata": {},
   "outputs": [
    {
     "name": "stdout",
     "output_type": "stream",
     "text": [
      "c1_r1_genes.fq\t     t1_r1_genes.fq\t  t1_r2_genes.fq\n",
      "c1_r1_genes.sam      t1_r1_genes.sam\t  t1_r2_genes.sam\n",
      "c1_r1_genes.summary  t1_r1_genes.summary  t1_r2_genes.summary\n"
     ]
    }
   ],
   "source": [
    "! ls {out_path}"
   ]
  },
  {
   "cell_type": "markdown",
   "id": "12ef71a2-1e8b-4c06-9953-bad3b25b49e0",
   "metadata": {},
   "source": [
    "#### Map Reads to Genome"
   ]
  },
  {
   "cell_type": "markdown",
   "id": "d806e8bb-0dfc-49be-bef6-0b66dd258dc5",
   "metadata": {},
   "source": [
    "Reads mapped to the genome are saved as `sample.genome.sam` and used for subsequent steps in the pipeline"
   ]
  },
  {
   "cell_type": "code",
   "execution_count": 61,
   "id": "5cdd8492-fa94-4434-9881-9231dba08130",
   "metadata": {},
   "outputs": [
    {
     "name": "stdout",
     "output_type": "stream",
     "text": [
      "HISAT2 summary stats:\n",
      "\tTotal reads: 869716\n",
      "\t\tAligned 0 time: 73714 (8.48%)\n",
      "\t\tAligned 1 time: 651997 (74.97%)\n",
      "\t\tAligned >1 times: 144005 (16.56%)\n",
      "\tOverall alignment rate: 91.52%\n",
      "HISAT2 summary stats:\n",
      "\tTotal reads: 1268982\n",
      "\t\tAligned 0 time: 122558 (9.66%)\n",
      "\t\tAligned 1 time: 920572 (72.54%)\n",
      "\t\tAligned >1 times: 225852 (17.80%)\n",
      "\tOverall alignment rate: 90.34%\n",
      "HISAT2 summary stats:\n",
      "\tTotal reads: 1101752\n",
      "\t\tAligned 0 time: 103501 (9.39%)\n",
      "\t\tAligned 1 time: 805919 (73.15%)\n",
      "\t\tAligned >1 times: 192332 (17.46%)\n",
      "\tOverall alignment rate: 90.61%\n"
     ]
    }
   ],
   "source": [
    "for sample in samples():\n",
    "    !hisat-3n --index {genome_idx}\\\n",
    "        -p {nc}\\\n",
    "        --summary-file {fname(out_path,sample,'summary',tail='genome')}\\\n",
    "        --new-summary\\\n",
    "        -q\\\n",
    "        -U {fname(out_path,sample,'fq',tail='genes')}\\\n",
    "        --directional-mapping\\\n",
    "        --base-change C,T\\\n",
    "        --pen-noncansplice 20\\\n",
    "        --mp 4,1\\\n",
    "        --un {fname(out_path,sample,'fq',tail='genome')}\\\n",
    "        -S {fname(out_path,sample,'sam',tail='genome')}"
   ]
  },
  {
   "cell_type": "code",
   "execution_count": 62,
   "id": "46740021-5005-4f9b-99f1-ff212d7d82de",
   "metadata": {},
   "outputs": [
    {
     "name": "stdout",
     "output_type": "stream",
     "text": [
      "c1_r1_genes.fq\t      t1_r1_genes.fq\t    t1_r2_genes.fq\n",
      "c1_r1_genes.sam       t1_r1_genes.sam\t    t1_r2_genes.sam\n",
      "c1_r1_genes.summary   t1_r1_genes.summary   t1_r2_genes.summary\n",
      "c1_r1_genome.fq       t1_r1_genome.fq\t    t1_r2_genome.fq\n",
      "c1_r1_genome.sam      t1_r1_genome.sam\t    t1_r2_genome.sam\n",
      "c1_r1_genome.summary  t1_r1_genome.summary  t1_r2_genome.summary\n"
     ]
    }
   ],
   "source": [
    "!ls {out_path}"
   ]
  },
  {
   "cell_type": "markdown",
   "id": "a75518af-e48f-42e8-a81e-ab35906a30db",
   "metadata": {},
   "source": [
    "#### Sort and Index Reads"
   ]
  },
  {
   "cell_type": "code",
   "execution_count": 74,
   "id": "8e88f32b-f266-43cc-88e9-98179c60a071",
   "metadata": {},
   "outputs": [
    {
     "name": "stdout",
     "output_type": "stream",
     "text": [
      "[bam_sort_core] merging from 0 files and 32 in-memory blocks...\n",
      "[bam_sort_core] merging from 0 files and 32 in-memory blocks...\n",
      "[bam_sort_core] merging from 0 files and 32 in-memory blocks...\n",
      "[bam_sort_core] merging from 0 files and 32 in-memory blocks...\n",
      "[bam_sort_core] merging from 0 files and 32 in-memory blocks...\n",
      "[bam_sort_core] merging from 0 files and 32 in-memory blocks...\n"
     ]
    }
   ],
   "source": [
    "for sample in samples(extra=['genes','genome']):\n",
    "    ! samtools view -@ {nc} -F4 -b {fname(out_path, sample,'sam')}  | \\\n",
    "      samtools sort -@ {nc} --write-index -O BAM -o {fname(out_path,sample,'bam')} - \n",
    "    ! rm {fname(out_path,sample,'sam')}"
   ]
  },
  {
   "cell_type": "code",
   "execution_count": 223,
   "id": "1140e2ed-32b3-42f7-a115-5e6cb3175653",
   "metadata": {},
   "outputs": [],
   "source": [
    "#! ls -lh {out_path}"
   ]
  },
  {
   "cell_type": "markdown",
   "id": "13d1f401-bb09-4e0a-8bfa-c6f4a36c23f7",
   "metadata": {},
   "source": [
    "Flags:\n",
    "- 0: Aligned to Positive Strand\n",
    "- 4: Unaligned\n",
    "- 16: Aligned to Negative Strand"
   ]
  },
  {
   "cell_type": "code",
   "execution_count": 31,
   "id": "5ab989d2-949f-4351-a350-c437af74b335",
   "metadata": {
    "collapsed": true,
    "jupyter": {
     "outputs_hidden": true
    }
   },
   "outputs": [
    {
     "name": "stdout",
     "output_type": "stream",
     "text": [
      "SRR23538290.44462551_ATGGTAATAC\t272\t1\t14476\t1\t40M\t*\t0\t0\tTAAATAAAACCATCCCCCCATAAAACACAAACAAACAAAA\tFFFFFFFFFFFFFFFFFFFFFFFFFFFFFFFFFFFFFFFF\tAS:i:0\tNH:i:7\tXM:i:0\tNM:i:0\tMD:Z:1G0G0G1G0G1G2G9G0G1G4G0G2G3G2\tYZ:A:-\tYf:i:14\tZf:i:0\tZS:i:0\tXN:i:0\tXO:i:0\tXG:i:0\n",
      "SRR23538290.9905044_CATCTCAATC\t272\t1\t14559\t1\t47M\t*\t0\t0\tTTAAGACTAATCTCCACACAATACTAATTCCATCACCCCCACCCAAA\tFFFFFFFFFFFFFFFFFFFFFFFFFFFFFFFFFFFFFFFFFFFFFFF\tAS:i:-7\tNH:i:8\tXM:i:2\tNM:i:2\tMD:Z:2G1A0G2G0G10G1G2G0G4G8T5G0\tYZ:A:-\tYf:i:10\tZf:i:0\tZS:i:-3\tXN:i:0\tXO:i:0\tXG:i:0\n",
      "SRR23538290.59163149_CCCTGGAATT\t272\t1\t14574\t1\t56M\t*\t0\t0\tACACAATACTAATTCCATCACCCCCTCCCAAAAAAATAAATCTAAACAGCTTATCC\tFFFFFFFFFFF,FFFFFFFFFFFFFFFFFFFFFFFFFFFFFFFFFFFFFFFFFFFF\tAS:i:0\tNH:i:3\tXM:i:0\tNM:i:0\tMD:Z:5G1G2G0G4G14G0G2G2G0G3G1G6G3\tYZ:A:-\tYf:i:13\tZf:i:1\tZS:i:0\tXN:i:0\tXO:i:0\tXG:i:0\n",
      "SRR23538290.24390492_TTTATACAAC\t272\t1\t14619\t1\t47M\t*\t0\t0\tACAACTTATCCTAACTATATCCATATCAAAACAACAACCCAAATCTA\tFFF,FFFFFFFFFFFFFFFFFFFFFFFFFFFFFFFFFFFFFFFF:FF\tAS:i:0\tNH:i:8\tXM:i:0\tNM:i:0\tMD:Z:0G2G3G4G0G2G1G5G3G1G4G0G5G3G0\tYZ:A:-\tYf:i:14\tZf:i:0\tZS:i:0\tXN:i:0\tXO:i:0\tXG:i:0\n",
      "samtools view: writing to standard output failed: Broken pipe\n",
      "samtools view: error reading file \"map_se/t1_r1_genome.bam\": Broken pipe\n",
      "samtools view: error closing standard output: -1\n"
     ]
    }
   ],
   "source": [
    "! samtools view {out_path}/t1_r1_genome.bam |head -4"
   ]
  },
  {
   "cell_type": "markdown",
   "id": "f6f8d5b6-38b5-47ed-818d-ce9460fe2d00",
   "metadata": {},
   "source": [
    "## Step: merge_se_runs"
   ]
  },
  {
   "cell_type": "markdown",
   "id": "f7fbcd17-7458-443a-98ba-e10d13d13976",
   "metadata": {},
   "source": [
    "#### Merge Single Ended Run Reads\n",
    "\n",
    "Multiple runs for single ended reads are merged together"
   ]
  },
  {
   "cell_type": "code",
   "execution_count": 776,
   "id": "de3deab4-359d-4dd2-a02b-f5375e8ca2e9",
   "metadata": {},
   "outputs": [
    {
     "name": "stdout",
     "output_type": "stream",
     "text": [
      ">>> {map_se} 23:22:58_03-18-2024\n",
      ">>> {merge_se_runs} 23:22:58_03-18-2024\n"
     ]
    }
   ],
   "source": [
    "in_path = mkpath(\"map_se\")\n",
    "out_path = mkpath(\"merge_se_runs\")"
   ]
  },
  {
   "cell_type": "code",
   "execution_count": 779,
   "id": "6b0581bd-fb9c-49e0-a9cf-763af55086c9",
   "metadata": {},
   "outputs": [
    {
     "name": "stdout",
     "output_type": "stream",
     "text": [
      "c1_r1_genes.bam       t1_r1_genes.bam\t    t1_r2_genes.bam\n",
      "c1_r1_genes.bam.csi   t1_r1_genes.bam.csi   t1_r2_genes.bam.csi\n",
      "c1_r1_genes.fq\t      t1_r1_genes.fq\t    t1_r2_genes.fq\n",
      "c1_r1_genes.summary   t1_r1_genes.summary   t1_r2_genes.summary\n",
      "c1_r1_genome.bam      t1_r1_genome.bam\t    t1_r2_genome.bam\n",
      "c1_r1_genome.bam.csi  t1_r1_genome.bam.csi  t1_r2_genome.bam.csi\n",
      "c1_r1_genome.fq       t1_r1_genome.fq\t    t1_r2_genome.fq\n",
      "c1_r1_genome.summary  t1_r1_genome.summary  t1_r2_genome.summary\n"
     ]
    }
   ],
   "source": [
    "!ls {in_path}"
   ]
  },
  {
   "cell_type": "code",
   "execution_count": 783,
   "id": "2ff7f0ed-207d-4d08-a995-d97af8d58ea2",
   "metadata": {},
   "outputs": [
    {
     "data": {
      "text/plain": [
       "[['t1_r1_genes', 't1_r2_genes'],\n",
       " ['t1_r1_genome', 't1_r2_genome'],\n",
       " ['c1_r1_genes'],\n",
       " ['c1_r1_genome']]"
      ]
     },
     "execution_count": 783,
     "metadata": {},
     "output_type": "execute_result"
    }
   ],
   "source": [
    "fnames_match(samples(extra=['genes','genome']), '{sample}_{ref}', sample=['t1','c1'], ref=['genes','genome'])"
   ]
  },
  {
   "cell_type": "code",
   "execution_count": 791,
   "id": "bbc68b10-37fa-48e4-afcc-ad5c9dce0a86",
   "metadata": {},
   "outputs": [
    {
     "ename": "TypeError",
     "evalue": "'PosixPath' object is not iterable",
     "output_type": "error",
     "traceback": [
      "\u001b[0;31m---------------------------------------------------------------------------\u001b[0m",
      "\u001b[0;31mTypeError\u001b[0m                                 Traceback (most recent call last)",
      "Cell \u001b[0;32mIn[791], line 1\u001b[0m\n\u001b[0;32m----> 1\u001b[0m \u001b[43mfnames_string\u001b[49m\u001b[43m(\u001b[49m\u001b[43min_path\u001b[49m\u001b[43m,\u001b[49m\u001b[38;5;124;43m'\u001b[39;49m\u001b[38;5;124;43mbam\u001b[39;49m\u001b[38;5;124;43m'\u001b[39;49m\u001b[43m)\u001b[49m\n",
      "File \u001b[0;32m~/uofc_data/ubs_seq/UBS-seq_basic/workspace/../scripts/utils.py:97\u001b[0m, in \u001b[0;36mfnames_string\u001b[0;34m(path_or_files, suffix, delimiter)\u001b[0m\n\u001b[1;32m     92\u001b[0m \u001b[38;5;28;01mdef\u001b[39;00m \u001b[38;5;21mfnames_string\u001b[39m(path_or_files, suffix\u001b[38;5;241m=\u001b[39m\u001b[38;5;124m\"\u001b[39m\u001b[38;5;124m\"\u001b[39m, delimiter\u001b[38;5;241m=\u001b[39m\u001b[38;5;124m'\u001b[39m\u001b[38;5;124m \u001b[39m\u001b[38;5;124m'\u001b[39m):\n\u001b[1;32m     93\u001b[0m \u001b[38;5;250m    \u001b[39m\u001b[38;5;124;03m\"\"\"\u001b[39;00m\n\u001b[1;32m     94\u001b[0m \u001b[38;5;124;03m    Returns a string delimited (by delimiter) of files in `path` or in `files` matchiing suffix\u001b[39;00m\n\u001b[1;32m     95\u001b[0m \u001b[38;5;124;03m    Note: When input are files, no `suffix` is required\u001b[39;00m\n\u001b[1;32m     96\u001b[0m \u001b[38;5;124;03m    \"\"\"\u001b[39;00m\n\u001b[0;32m---> 97\u001b[0m     path_or_files \u001b[38;5;241m=\u001b[39m  \u001b[38;5;28mlist\u001b[39m(\u001b[38;5;28;43mmap\u001b[39;49m\u001b[43m(\u001b[49m\u001b[38;5;28;43;01mlambda\u001b[39;49;00m\u001b[43m \u001b[49m\u001b[43mf\u001b[49m\u001b[43m:\u001b[49m\u001b[43m \u001b[49m\u001b[38;5;28;43mstr\u001b[39;49m\u001b[43m(\u001b[49m\u001b[43mf\u001b[49m\u001b[43m)\u001b[49m\u001b[43m,\u001b[49m\u001b[43m \u001b[49m\u001b[43mpath_or_files\u001b[49m\u001b[43m)\u001b[49m)\n\u001b[1;32m     98\u001b[0m     \u001b[38;5;28;01mreturn\u001b[39;00m  (delimiter\u001b[38;5;241m.\u001b[39mjoin(path_or_files) \u001b[38;5;28;01mif\u001b[39;00m \u001b[38;5;28misinstance\u001b[39m(path_or_files, \u001b[38;5;28mlist\u001b[39m) \u001b[38;5;28;01melse\u001b[39;00m\n\u001b[1;32m     99\u001b[0m              delimiter\u001b[38;5;241m.\u001b[39mjoin(\u001b[38;5;28mlist\u001b[39m(fnames(path_or_files, suffix))))\n",
      "\u001b[0;31mTypeError\u001b[0m: 'PosixPath' object is not iterable"
     ]
    }
   ],
   "source": [
    "fnames_string(in_path,'bam')"
   ]
  },
  {
   "cell_type": "code",
   "execution_count": 510,
   "id": "a54c42a3-f236-4f76-be3e-a5ad87bb5031",
   "metadata": {},
   "outputs": [],
   "source": [
    "def group_samples(samples, idxs):\n",
    "    sorted_samples = sorted(samples, key=lambda x: tuple(x[idx] for idx in idxs))\n",
    "    groups = groupby(sorted_samples, key=lambda x: tuple(x[idx] for idx in idxs))\n",
    "    return [[sample for sample in group] for _, group in groups]"
   ]
  },
  {
   "cell_type": "code",
   "execution_count": 525,
   "id": "abcf7445-8e2e-441b-963d-d5320a83a0ef",
   "metadata": {},
   "outputs": [
    {
     "name": "stdout",
     "output_type": "stream",
     "text": [
      "map_se/c1_r1_genes.bam merge_se_runs/c1_genes.bam\n",
      "map_se/c1_r1_genome.bam merge_se_runs/c1_genome.bam\n",
      "map_se/t1_r2_genes.bam map_se/t1_r1_genes.bam merge_se_runs/t1_genes.bam\n",
      "map_se/t1_r2_genome.bam map_se/t1_r1_genome.bam merge_se_runs/t1_genome.bam\n"
     ]
    }
   ],
   "source": [
    "for sample in group_samples(fnames_index(in_path,'bam'), idxs = [0,2]):\n",
    "    input  = ' '.join([str(fname(in_path, f'{s}_{r}_{e}','bam')) for s,r,e in sample])\n",
    "    s,e = sample[0][0], sample[0][2] # \n",
    "    output = fname(out_path, f'{s}_{e}', 'bam')\n",
    "    print(input,output)\n",
    "    #!samtools merge -@ {nc} -o {output} {input} 2> /dev/null"
   ]
  },
  {
   "cell_type": "code",
   "execution_count": 790,
   "id": "964c8531-c842-43a7-8762-e22b258472e0",
   "metadata": {},
   "outputs": [
    {
     "data": {
      "text/plain": [
       "'map_se/t1_r2_genome.bam,map_se/t1_r2_genes.bam,map_se/t1_r1_genome.bam,map_se/c1_r1_genes.bam,map_se/c1_r1_genome.bam,map_se/t1_r1_genes.bam'"
      ]
     },
     "execution_count": 790,
     "metadata": {},
     "output_type": "execute_result"
    }
   ],
   "source": [
    "fnames_string(fnames(in_path,'bam'),delimiter=\",\")"
   ]
  },
  {
   "cell_type": "code",
   "execution_count": 797,
   "id": "2f4d5ec2-bebf-46ab-ac5b-7ab3f78e339b",
   "metadata": {},
   "outputs": [
    {
     "name": "stdout",
     "output_type": "stream",
     "text": [
      "merge_se_runs/t1_genes.bam\n",
      "merge_se_runs/t1_genome.bam\n",
      "merge_se_runs/c1_genes.bam\n",
      "merge_se_runs/c1_genome.bam\n"
     ]
    }
   ],
   "source": [
    "for fns in match_files(fnames(in_path,suffix='bam'), f'{in_path}/{{sample}}_{{ref}}', sample=bio_samples,ref=refs):\n",
    "    input  = fnames_string(fns)\n",
    "    sample = fname_stem(fns[0],[0,2])\n",
    "    output = fname(out_path,sample,'bam')\n",
    "    print(output)\n",
    "    !samtools merge -@ {nc} -o {output} {input} 2> /dev/null"
   ]
  },
  {
   "cell_type": "code",
   "execution_count": 798,
   "id": "4704d843-2b66-40a8-8f65-891ad4fa93a6",
   "metadata": {},
   "outputs": [
    {
     "name": "stdout",
     "output_type": "stream",
     "text": [
      "total 219M\n",
      "-rw-rw-r-- 1 cdaniels cdaniels 6.2M Mar 18 23:23 c1_genes.bam\n",
      "-rw-rw-r-- 1 cdaniels cdaniels  71M Mar 18 23:23 c1_genome.bam\n",
      "-rw-rw-r-- 1 cdaniels cdaniels  11M Mar 18 23:23 t1_genes.bam\n",
      "-rw-rw-r-- 1 cdaniels cdaniels 131M Mar 18 23:23 t1_genome.bam\n"
     ]
    }
   ],
   "source": [
    "!ls -lh {out_path}"
   ]
  },
  {
   "cell_type": "markdown",
   "id": "a5639ce8-63ba-4a23-890f-4a60c4c3b2c5",
   "metadata": {},
   "source": [
    "## Step: map_pe"
   ]
  },
  {
   "cell_type": "markdown",
   "id": "b389b89e-92ae-485f-b1b1-6639ccda25ec",
   "metadata": {},
   "source": [
    "#### Map Paired End Reads with Hisat-3n"
   ]
  },
  {
   "cell_type": "code",
   "execution_count": 275,
   "id": "fc5f3f19-9bd3-47b3-a66f-51a15f069702",
   "metadata": {},
   "outputs": [
    {
     "name": "stdout",
     "output_type": "stream",
     "text": [
      ">>> {trim} 11:01:37_03-12-2024\n",
      ">>> {map_pe} 11:01:37_03-12-2024\n"
     ]
    }
   ],
   "source": [
    "in_path = mkpath(\"trim\")\n",
    "out_path = mkpath(\"map_pe\")"
   ]
  },
  {
   "cell_type": "markdown",
   "id": "db0084ca-8950-48f1-84a6-10214564f872",
   "metadata": {},
   "source": [
    "## Step: merge_pe_runs"
   ]
  },
  {
   "cell_type": "markdown",
   "id": "b9ec2675-b168-47a9-b393-63c4d4ee6da2",
   "metadata": {},
   "source": [
    "#### Merge Paired End Run Reads\n",
    "\n",
    "Multiple runs for paired ended reads are merged together"
   ]
  },
  {
   "cell_type": "code",
   "execution_count": 12,
   "id": "e0162bd0-a05e-47e2-b64e-7409d5c0495c",
   "metadata": {},
   "outputs": [
    {
     "name": "stdout",
     "output_type": "stream",
     "text": [
      ">>> {map_pe} 13:49:04_03-20-2024\n",
      ">>> {merge_pe_runs} 13:49:04_03-20-2024\n"
     ]
    }
   ],
   "source": [
    "in_path = mkpath(\"map_pe\")\n",
    "out_path = mkpath(\"merge_pe_runs\")"
   ]
  },
  {
   "cell_type": "code",
   "execution_count": 80,
   "id": "cafee7a5-955a-454e-b63e-35189ee2a956",
   "metadata": {},
   "outputs": [
    {
     "data": {
      "text/plain": [
       "[]"
      ]
     },
     "execution_count": 80,
     "metadata": {},
     "output_type": "execute_result"
    }
   ],
   "source": [
    "group_samples(samples(se=False,keys=True,extra=['genes','genome']),idxs = [0,2])"
   ]
  },
  {
   "cell_type": "code",
   "execution_count": 82,
   "id": "1f705dc5-5b0d-4f40-83ff-3533d1787133",
   "metadata": {},
   "outputs": [],
   "source": [
    "for sample in group_samples(fnames_index(in_path,'bam'), idxs = [0,2]):\n",
    "    input  = ' '.join([str(fname(in_path, f'{s}_{r}_{e}','bam')) for s,r,e in sample])\n",
    "    s,e = sample[0][0], sample[0][2] # \n",
    "    output = fname(out_path, f'{s}_{e}', 'bam')\n",
    "    !samtools merge -@ {nc} -o {output} {input} "
   ]
  },
  {
   "cell_type": "markdown",
   "id": "ffb88b05-001e-4cb9-86db-0cb33d30b144",
   "metadata": {},
   "source": [
    "## Step: combine_se_pe"
   ]
  },
  {
   "cell_type": "markdown",
   "id": "c69f8054-40e0-418a-a54b-0a4bf03fe346",
   "metadata": {},
   "source": [
    "#### Combine Single Ended and Paired End Reads"
   ]
  },
  {
   "cell_type": "code",
   "execution_count": 13,
   "id": "f31e7fd8-e669-45eb-9299-5d9dbbc007db",
   "metadata": {},
   "outputs": [
    {
     "name": "stdout",
     "output_type": "stream",
     "text": [
      ">>> {merge_se_runs} 13:49:22_03-20-2024\n",
      ">>> {merge_pe_runs} 13:49:22_03-20-2024\n",
      ">>> {combined} 13:49:22_03-20-2024\n"
     ]
    }
   ],
   "source": [
    "in_path_se = mkpath(\"merge_se_runs\")\n",
    "in_path_pe = mkpath(\"merge_pe_runs\")\n",
    "out_path = mkpath(\"combined\")"
   ]
  },
  {
   "cell_type": "code",
   "execution_count": 14,
   "id": "b28fbd9c-5ae5-4568-ac98-b3339bbc9855",
   "metadata": {},
   "outputs": [
    {
     "name": "stdout",
     "output_type": "stream",
     "text": [
      "c1_genes.bam  c1_genome.bam  t1_genes.bam  t1_genome.bam\n"
     ]
    }
   ],
   "source": [
    "!ls {in_path_se}"
   ]
  },
  {
   "cell_type": "code",
   "execution_count": 15,
   "id": "b34da80b-bfa3-4ab9-9f79-535275190acc",
   "metadata": {},
   "outputs": [
    {
     "name": "stdout",
     "output_type": "stream",
     "text": [
      "c1_genes.bam  c1_genome.bam  t1_genes.bam  t1_genome.bam\n"
     ]
    }
   ],
   "source": [
    "!ls {in_path_se}"
   ]
  },
  {
   "cell_type": "code",
   "execution_count": 17,
   "id": "01438933-0e0e-4982-8ece-21b56548e86e",
   "metadata": {},
   "outputs": [
    {
     "data": {
      "text/plain": [
       "{'c1_genome': ['merge_se_runs/c1_genome'],\n",
       " 'c1_genes': ['merge_se_runs/c1_genes'],\n",
       " 't1_genome': ['merge_se_runs/t1_genome'],\n",
       " 't1_genes': ['merge_se_runs/t1_genes']}"
      ]
     },
     "execution_count": 17,
     "metadata": {},
     "output_type": "execute_result"
    }
   ],
   "source": [
    "se,pe = fnames(in_path_se,'bam'), fnames(in_path_pe,'bam')\n",
    "se_pe = set(se + pe)            \n",
    "\n",
    "combined = {}\n",
    "for fn in se_pe:\n",
    "    if fn in se: combined[fn] = [str(in_path_se/fn)]\n",
    "    if fn in pe: combined[fn] = combined[fn] + [str(in_path_pe/fn)]\n",
    "combined"
   ]
  },
  {
   "cell_type": "code",
   "execution_count": 18,
   "id": "79045713-9993-4d1e-bf70-58b32c6e98f1",
   "metadata": {},
   "outputs": [],
   "source": [
    "for fn, fns in combined.items():\n",
    "    input = ' '.join(fns)\n",
    "    output = out_path/fn\n",
    "    !samtools merge -@ {nc} -o {output} {input} 2> /dev/null"
   ]
  },
  {
   "cell_type": "code",
   "execution_count": 111,
   "id": "a5fbff1d-701a-4ff1-bb40-a29d83782f94",
   "metadata": {},
   "outputs": [
    {
     "name": "stdout",
     "output_type": "stream",
     "text": [
      "total 219M\n",
      "-rw-rw-r-- 1 cdaniels cdaniels 6.2M Mar 13 23:50 c1_genes.bam\n",
      "-rw-rw-r-- 1 cdaniels cdaniels  71M Mar 13 23:50 c1_genome.bam\n",
      "-rw-rw-r-- 1 cdaniels cdaniels  11M Mar 13 23:50 t1_genes.bam\n",
      "-rw-rw-r-- 1 cdaniels cdaniels 131M Mar 13 23:50 t1_genome.bam\n"
     ]
    }
   ],
   "source": [
    "!ls -lh {out_path}"
   ]
  },
  {
   "cell_type": "markdown",
   "id": "74ad4df6-1fa1-43dc-8302-859affe0690f",
   "metadata": {},
   "source": [
    "## Step: dedup"
   ]
  },
  {
   "cell_type": "markdown",
   "id": "ad8d9bf1-95a8-4198-988c-4cc83db22bad",
   "metadata": {},
   "source": [
    "#### Remove Dulpicate Reads"
   ]
  },
  {
   "cell_type": "code",
   "execution_count": 19,
   "id": "4d6761e7-18a1-48a7-a9a7-17e32f5eec65",
   "metadata": {},
   "outputs": [
    {
     "name": "stdout",
     "output_type": "stream",
     "text": [
      ">>> {combined} 13:50:50_03-20-2024\n",
      ">>> {dedup} 13:50:50_03-20-2024\n"
     ]
    }
   ],
   "source": [
    "in_path = mkpath(\"combined\")\n",
    "out_path = mkpath(\"dedup\")"
   ]
  },
  {
   "cell_type": "markdown",
   "id": "e58c2685-80da-428c-bdfc-9447ebfc73fe",
   "metadata": {},
   "source": [
    "#### umicollapse"
   ]
  },
  {
   "cell_type": "markdown",
   "id": "9d0f9db8-aaf5-4ee2-9c4f-97e79da12a0a",
   "metadata": {},
   "source": [
    "https://github.com/Daniel-Liu-c0deb0t/UMICollapse"
   ]
  },
  {
   "cell_type": "markdown",
   "id": "e09e2177-b96c-495b-b56c-c1b4689f0634",
   "metadata": {},
   "source": [
    "##### paramaters:\n",
    "```\n",
    "umicollapse bam, use a bam file\n",
    "    --two-pass, use a separate two-pass algorithm for SAM/BAM deduplication.\n",
    "    -i {input.bam}, indexed input bam file\n",
    "    -o {output.bam}, output bam file\n",
    "      > {output.log}\n",
    "```"
   ]
  },
  {
   "cell_type": "code",
   "execution_count": 20,
   "id": "1af0f53c-3277-4745-8a64-63283360815c",
   "metadata": {},
   "outputs": [
    {
     "name": "stdout",
     "output_type": "stream",
     "text": [
      "Picked up _JAVA_OPTIONS: -Xmx8g\n",
      "Picked up _JAVA_OPTIONS: -Xmx8g\n",
      "INFO\t2024-03-20 13:51:03\tSortingCollection\tCreating merging iterator from 4 files\n",
      "Picked up _JAVA_OPTIONS: -Xmx8g\n",
      "INFO\t2024-03-20 13:51:21\tSortingCollection\tCreating merging iterator from 7 files\n",
      "Picked up _JAVA_OPTIONS: -Xmx8g\n"
     ]
    }
   ],
   "source": [
    "for sample in fnames(in_path,'bam'):\n",
    "    !umicollapse bam  \\\n",
    "    --two-pass \\\n",
    "    -i {fname(in_path,sample,'bam')} \\\n",
    "    -o {fname(out_path,sample,'bam')}\\\n",
    "    >  {fname(out_path,sample,'log')}"
   ]
  },
  {
   "cell_type": "markdown",
   "id": "c907e18a-1149-4262-987c-6bde50e586da",
   "metadata": {},
   "source": [
    "Index reads to use with IGV"
   ]
  },
  {
   "cell_type": "code",
   "execution_count": 21,
   "id": "3d489302-6fd5-4c23-b7a2-b12bbc3582ef",
   "metadata": {},
   "outputs": [],
   "source": [
    "for sample in fnames(out_path,'bam'):\n",
    "    ! samtools index -@ {nc} -c {fname(out_path,sample,'bam')}"
   ]
  },
  {
   "cell_type": "markdown",
   "id": "1f6fe90e-c8b6-49c6-b21c-e0a0409f37de",
   "metadata": {},
   "source": [
    "#### Analysis"
   ]
  },
  {
   "cell_type": "code",
   "execution_count": 31,
   "id": "4cd38188-2ebb-4718-aa46-c7464ed6c749",
   "metadata": {},
   "outputs": [
    {
     "name": "stdout",
     "output_type": "stream",
     "text": [
      "total 219M\n",
      "-rw-rw-r-- 1 cdaniels cdaniels 6.2M Mar 13 23:50 c1_genes.bam\n",
      "-rw-rw-r-- 1 cdaniels cdaniels  71M Mar 13 23:50 c1_genome.bam\n",
      "-rw-rw-r-- 1 cdaniels cdaniels  11M Mar 13 23:50 t1_genes.bam\n",
      "-rw-rw-r-- 1 cdaniels cdaniels 131M Mar 13 23:50 t1_genome.bam\n"
     ]
    }
   ],
   "source": [
    "! ls -lh {in_path}"
   ]
  },
  {
   "cell_type": "code",
   "execution_count": 32,
   "id": "a52dc069-dd33-4659-9d68-6824b311f096",
   "metadata": {},
   "outputs": [
    {
     "name": "stdout",
     "output_type": "stream",
     "text": [
      "    25155 combined/c1_genes.bam\n",
      "   294528 combined/c1_genome.bam\n",
      "    44600 combined/t1_genes.bam\n",
      "   556175 combined/t1_genome.bam\n",
      "   920458 total\n"
     ]
    }
   ],
   "source": [
    "! wc -l {in_path}/*"
   ]
  },
  {
   "cell_type": "code",
   "execution_count": 34,
   "id": "21ebbb62-ada8-416c-8e48-9a738ece999e",
   "metadata": {},
   "outputs": [
    {
     "name": "stdout",
     "output_type": "stream",
     "text": [
      "    27672 dedup/c1_genes.bam\n",
      "   299590 dedup/c1_genome.bam\n",
      "    46253 dedup/t1_genes.bam\n",
      "   563897 dedup/t1_genome.bam\n",
      "   937412 total\n"
     ]
    }
   ],
   "source": [
    "! wc -l {out_path}/*.bam"
   ]
  },
  {
   "cell_type": "code",
   "execution_count": 185,
   "id": "fd112fd3-6634-4648-9a0a-7a44a8efb7cf",
   "metadata": {},
   "outputs": [
    {
     "name": "stdout",
     "output_type": "stream",
     "text": [
      "Arguments\t[bam, --two-pass, -i, combined/c1_genes.bam, -o, dedup/c1_genes.bam]\n",
      "Done with the first pass!\n",
      "Number of input reads\t189207\n",
      "Number of removed unmapped reads\t0\n",
      "Number of unremoved reads\t189207\n",
      "Number of unique alignment positions\t50054\n",
      "Average number of UMIs per alignment position\t3.7692492108522795\n",
      "Max number of UMIs over all alignment positions\t227\n",
      "Number of reads after deduplicating\t188128\n",
      "UMI collapsing finished in 1.372 seconds!\n"
     ]
    }
   ],
   "source": [
    "! cat {out_path}/c1_genes.log"
   ]
  },
  {
   "cell_type": "markdown",
   "id": "27f954cc-df3e-4048-ae0e-442526f0b5cf",
   "metadata": {},
   "source": [
    "## Step: Call_converted"
   ]
  },
  {
   "cell_type": "markdown",
   "id": "c45dda76-3ea1-4749-a78e-792080774b53",
   "metadata": {},
   "source": [
    "#### Call Converted bases (Unfiltered)"
   ]
  },
  {
   "cell_type": "code",
   "execution_count": 42,
   "id": "00cab6a3-dba0-42e6-8e9e-8d49894eac70",
   "metadata": {},
   "outputs": [
    {
     "name": "stdout",
     "output_type": "stream",
     "text": [
      ">>> {dedup} 16:21:23_03-20-2024\n",
      ">>> {call_converted} 16:21:23_03-20-2024\n"
     ]
    }
   ],
   "source": [
    "in_path = mkpath(\"dedup\")\n",
    "out_path = mkpath(\"call_converted\")"
   ]
  },
  {
   "cell_type": "markdown",
   "id": "3ac3e272-df75-4b04-85b8-64b7df394d19",
   "metadata": {},
   "source": [
    "#### hisat-3n-table"
   ]
  },
  {
   "cell_type": "markdown",
   "id": "d208fba5-fc27-4274-b416-92b00a6a22da",
   "metadata": {},
   "source": [
    "http://daehwankimlab.github.io/hisat2/hisat-3n/"
   ]
  },
  {
   "cell_type": "markdown",
   "id": "fa8ac256-7407-4efe-9011-3209695d1a87",
   "metadata": {
    "jp-MarkdownHeadingCollapsed": true
   },
   "source": [
    "##### paramaters:\n",
    "```\n",
    "samtools view -e \"rlen<100000\" -h {input} |\n",
    "hisat3ntable\n",
    "    -p {threads}\n",
    "    -u -m --alignments -\n",
    "    --ref {params.fa}\n",
    "    --output-name /dev/stdout\n",
    "    --base-change C,T    |                  \n",
    "    bgzip -@ {threads} -c > {output}\n",
    "```"
   ]
  },
  {
   "cell_type": "markdown",
   "id": "63c8b7da-02f8-4142-94d7-0ec92270be4d",
   "metadata": {},
   "source": [
    "#### Call Converted Bases in Unique Mapped Reads "
   ]
  },
  {
   "cell_type": "code",
   "execution_count": 41,
   "id": "c29a8b54-f92d-42ff-8d0f-951705df32a5",
   "metadata": {},
   "outputs": [
    {
     "name": "stdout",
     "output_type": "stream",
     "text": [
      "c1_genes.uniq.tsv.gz   t1_genes.uniq.tsv.gz\n",
      "c1_genome.uniq.tsv.gz  t1_genome.uniq.tsv.gz\n"
     ]
    }
   ],
   "source": [
    "!ls {out_path}"
   ]
  },
  {
   "cell_type": "code",
   "execution_count": 39,
   "id": "b0e5b014-7cfb-4c42-910f-591abb61cb92",
   "metadata": {},
   "outputs": [
    {
     "data": {
      "text/plain": [
       "['c1_genes', 'c1_genome', 't1_genome', 't1_genes']"
      ]
     },
     "execution_count": 39,
     "metadata": {},
     "output_type": "execute_result"
    }
   ],
   "source": [
    "fnames(in_path,'bam')"
   ]
  },
  {
   "cell_type": "code",
   "execution_count": 258,
   "id": "e2c086e8-1052-4035-b497-495e9348fd59",
   "metadata": {},
   "outputs": [],
   "source": [
    "from importlib import reload\n",
    "reload(utils); reload(configure)\n",
    "from utils import *\n",
    "from configure import *"
   ]
  },
  {
   "cell_type": "code",
   "execution_count": 44,
   "id": "42efdfd8-3f39-44f3-8537-79b94c8a3561",
   "metadata": {},
   "outputs": [],
   "source": [
    "for fn in fnames(in_path,'bam'):\n",
    "    name, ks = items('name','keys')(fname_index(fn))\n",
    "    ref = get_ref(ks[1],'fa')\n",
    "    !samtools view -e \"rlen<100000\" -h {fname(in_path,name,'bam')} |\\\n",
    "    hisat-3n-table\\\n",
    "        -p {nc}\\\n",
    "        -u --alignments -\\\n",
    "        --ref {ref}\\\n",
    "        --output-name /dev/stdout\\\n",
    "        --base-change C,T                          |\\\n",
    "    bgzip \\\n",
    "        -@ {nc} \\\n",
    "        -c > {fname(out_path,name,'uniq.tsv.gz')}"
   ]
  },
  {
   "cell_type": "code",
   "execution_count": 45,
   "id": "f0c5b955-0f83-4dc4-ba4f-1884b561fc53",
   "metadata": {},
   "outputs": [
    {
     "data": {
      "text/plain": [
       "['t1_genes', 't1_genome', 'c1_genes', 'c1_genome']"
      ]
     },
     "execution_count": 45,
     "metadata": {},
     "output_type": "execute_result"
    }
   ],
   "source": [
    "list(samples(1,extra=['genes','genome']))"
   ]
  },
  {
   "cell_type": "code",
   "execution_count": 46,
   "id": "e1fd36c3-4ae3-40fc-95a4-09fa493db07c",
   "metadata": {},
   "outputs": [
    {
     "name": "stdout",
     "output_type": "stream",
     "text": [
      "total 27M\n",
      "-rw-rw-r-- 1 cdaniels cdaniels 24K Mar 20 16:23 c1_genes.uniq.tsv.gz\n",
      "-rw-rw-r-- 1 cdaniels cdaniels 11M Mar 20 16:29 c1_genome.uniq.tsv.gz\n",
      "-rw-rw-r-- 1 cdaniels cdaniels 39K Mar 20 16:36 t1_genes.uniq.tsv.gz\n",
      "-rw-rw-r-- 1 cdaniels cdaniels 17M Mar 20 16:36 t1_genome.uniq.tsv.gz\n"
     ]
    }
   ],
   "source": [
    "!ls -lh {out_path}"
   ]
  },
  {
   "cell_type": "markdown",
   "id": "fcc0e85f-ffdd-4342-9aca-0510dcfb7891",
   "metadata": {},
   "source": [
    "#### Call Converted Bases in Multiple Mapped Reads "
   ]
  },
  {
   "cell_type": "code",
   "execution_count": 68,
   "id": "7a707c3c-aa3c-4aef-87c6-d12f16242861",
   "metadata": {},
   "outputs": [],
   "source": [
    "for sample in samples():\n",
    "    !samtools view -e \"rlen<100000\" -h {fname(in_path,sample,'bam')} |\\\n",
    "    hisat-3n-table\\\n",
    "        -p {nc}\\\n",
    "        -m --alignments -\\\n",
    "        --ref {genome_fa}\\\n",
    "        --output-name /dev/stdout\\\n",
    "        --base-change C,T                          |\\\n",
    "    bgzip \\\n",
    "        -@ {nc} \\\n",
    "        -c > {fname(out_path,sample,'multi.tsv.gz')}"
   ]
  },
  {
   "cell_type": "code",
   "execution_count": 69,
   "id": "015ed784-d883-4c44-8a3a-3a24bf380a44",
   "metadata": {},
   "outputs": [
    {
     "name": "stdout",
     "output_type": "stream",
     "text": [
      "total 51M\n",
      "-rw-rw-r-- 1 cdaniels cdaniels 6.8M Mar  8 22:35 c1_r1.multi.tsv.gz\n",
      "-rw-rw-r-- 1 cdaniels cdaniels  11M Mar  8 22:21 c1_r1.uniq.tsv.gz\n",
      "-rw-rw-r-- 1 cdaniels cdaniels 5.3M Mar  8 22:25 t1_r1.multi.tsv.gz\n",
      "-rw-rw-r-- 1 cdaniels cdaniels 9.3M Mar  8 22:08 t1_r1.uniq.tsv.gz\n",
      "-rw-rw-r-- 1 cdaniels cdaniels 7.8M Mar  8 22:30 t2_r1.multi.tsv.gz\n",
      "-rw-rw-r-- 1 cdaniels cdaniels  11M Mar  8 22:15 t2_r1.uniq.tsv.gz\n"
     ]
    }
   ],
   "source": [
    "!ls -lh {out_path}"
   ]
  },
  {
   "cell_type": "markdown",
   "id": "10bb891c-d91f-4e7d-9ffa-1b141ecf8c57",
   "metadata": {},
   "source": [
    "## Step: Call_filtered_converted"
   ]
  },
  {
   "cell_type": "markdown",
   "id": "090b5f03-576d-4c5d-bc5e-2f527e3f8567",
   "metadata": {},
   "source": [
    "#### Call Converted bases Filtered of Clusters"
   ]
  },
  {
   "cell_type": "code",
   "execution_count": 39,
   "id": "0c6dd917-790f-4e8c-9af8-d6c41c0ff26f",
   "metadata": {},
   "outputs": [
    {
     "name": "stdout",
     "output_type": "stream",
     "text": [
      ">>> {dedup} 14:33:05_03-20-2024\n",
      ">>> {call_filtered_converted} 14:33:05_03-20-2024\n"
     ]
    }
   ],
   "source": [
    "in_path = mkpath(\"dedup\")\n",
    "out_path = mkpath(\"call_filtered_converted\")"
   ]
  },
  {
   "cell_type": "markdown",
   "id": "bccce9bd-ad43-4c59-8955-e4aca9c122c0",
   "metadata": {},
   "source": [
    "#### Filter each read to minimize clusters of unconverted C's\n",
    "Clusters of unconverted C's are a source of bias. These clusters are filtered out here."
   ]
  },
  {
   "cell_type": "markdown",
   "id": "065091b4-1c3f-426e-a7f7-67a1c18fecda",
   "metadata": {},
   "source": [
    "```\n",
    " samtools view -@ {threads}\n",
    "    -e \"[XM] * 20 <= (qlen-sclen) && [Zf] <= 3 && 3 * [Zf] <= [Zf] + [Yf]\"\n",
    "     {input.bam} -O BAM -o {output.converted}\n",
    "``` "
   ]
  },
  {
   "cell_type": "markdown",
   "id": "bff389c2-35d4-48a2-8697-ea5a0b427777",
   "metadata": {},
   "source": [
    "- qlen is the length of the read\n",
    "- sclen is the soft-clipped (not aligned) by the aligner\n",
    "- [XM] is the number of mismatches in the alignment\n",
    "- [Zf] is the number of un-converted bases in the read.\n",
    "- [Yf] is the number of converted bases in the read\n",
    "- [YZ] indicates alignment to the (+/-) strand"
   ]
  },
  {
   "cell_type": "code",
   "execution_count": 38,
   "id": "6b9021d0-424e-4d2e-a241-387fa8d1aa76",
   "metadata": {},
   "outputs": [
    {
     "name": "stdout",
     "output_type": "stream",
     "text": [
      "[E::hts_open_format] Failed to open file \"dedup/t1_r1.bam\" : No such file or directory\n",
      "samtools view: failed to open \"dedup/t1_r1.bam\" for reading: No such file or directory\n",
      "[E::hts_open_format] Failed to open file \"dedup/t1_r2.bam\" : No such file or directory\n",
      "samtools view: failed to open \"dedup/t1_r2.bam\" for reading: No such file or directory\n",
      "[E::hts_open_format] Failed to open file \"dedup/c1_r1.bam\" : No such file or directory\n",
      "samtools view: failed to open \"dedup/c1_r1.bam\" for reading: No such file or directory\n"
     ]
    }
   ],
   "source": [
    "for sample in samples():\n",
    "    ! samtools view -@ {nc} -e '[XM] * 20 <= (qlen-sclen) && [Zf] <= 3 && 3 * [Zf] <= [Zf] + [Yf]' \\\n",
    "    {fname(in_path,sample,'bam')} -O BAM -o {fname(out_path,sample,'filtered.bam')}"
   ]
  },
  {
   "cell_type": "markdown",
   "id": "3849f952-05a5-46a4-b146-df3886b6678d",
   "metadata": {},
   "source": [
    "#### Call Filtered Unique Mapped Reads "
   ]
  },
  {
   "cell_type": "code",
   "execution_count": 72,
   "id": "f919b940-d0f9-457f-aabe-b0e0be3ae06a",
   "metadata": {},
   "outputs": [],
   "source": [
    "for sample in samples():\n",
    "    !samtools view -e \"rlen<100000\" -h {fname(out_path,sample,'filtered.bam')} |\\\n",
    "    hisat-3n-table\\\n",
    "        -p {nc}\\\n",
    "        -u --alignments -\\\n",
    "        --ref {genome_fa}\\\n",
    "        --output-name /dev/stdout\\\n",
    "        --base-change C,T                          |\\\n",
    "    bgzip \\\n",
    "        -@ {nc} \\\n",
    "        -c > {fname(out_path,sample,'filtered.uniq.tsv.gz')}"
   ]
  },
  {
   "cell_type": "markdown",
   "id": "2f322f53-ab7e-4e8b-ac53-e05ae96002d4",
   "metadata": {},
   "source": [
    "#### Call Filtered Multiple Mapped Reads "
   ]
  },
  {
   "cell_type": "code",
   "execution_count": 73,
   "id": "a92caff8-e798-41a7-ae34-3393e02dad90",
   "metadata": {},
   "outputs": [],
   "source": [
    "for sample in samples():\n",
    "    !samtools view -e \"rlen<100000\" -h {fname(out_path,sample,'filtered.bam')} |\\\n",
    "    hisat-3n-table\\\n",
    "        -p {nc}\\\n",
    "        -m --alignments -\\\n",
    "        --ref {genome_fa}\\\n",
    "        --output-name /dev/stdout\\\n",
    "        --base-change C,T                          |\\\n",
    "    bgzip \\\n",
    "        -@ {nc} \\\n",
    "        -c > {fname(out_path,sample,'filtered.multi.tsv.gz')}"
   ]
  },
  {
   "cell_type": "markdown",
   "id": "bab28bf7-d45c-4107-8cc6-deda26240337",
   "metadata": {},
   "source": [
    "#### Analysis"
   ]
  },
  {
   "cell_type": "code",
   "execution_count": 74,
   "id": "97dff772-a471-4f81-be4a-d36d362c242b",
   "metadata": {},
   "outputs": [
    {
     "name": "stdout",
     "output_type": "stream",
     "text": [
      "total 257M\n",
      "-rw-rw-r-- 1 cdaniels cdaniels  71M Mar  8 22:35 c1_r1.filtered.bam\n",
      "-rw-rw-r-- 1 cdaniels cdaniels 6.8M Mar  8 23:07 c1_r1.filtered.multi.tsv.gz\n",
      "-rw-rw-r-- 1 cdaniels cdaniels  11M Mar  8 22:53 c1_r1.filtered.uniq.tsv.gz\n",
      "-rw-rw-r-- 1 cdaniels cdaniels  56M Mar  8 22:35 t1_r1.filtered.bam\n",
      "-rw-rw-r-- 1 cdaniels cdaniels 5.3M Mar  8 22:57 t1_r1.filtered.multi.tsv.gz\n",
      "-rw-rw-r-- 1 cdaniels cdaniels 9.2M Mar  8 22:41 t1_r1.filtered.uniq.tsv.gz\n",
      "-rw-rw-r-- 1 cdaniels cdaniels  80M Mar  8 22:35 t2_r1.filtered.bam\n",
      "-rw-rw-r-- 1 cdaniels cdaniels 7.7M Mar  8 23:03 t2_r1.filtered.multi.tsv.gz\n",
      "-rw-rw-r-- 1 cdaniels cdaniels  11M Mar  8 22:47 t2_r1.filtered.uniq.tsv.gz\n"
     ]
    }
   ],
   "source": [
    "! ls -lh {out_path}"
   ]
  },
  {
   "cell_type": "code",
   "execution_count": 75,
   "id": "d85c2597-99cb-4297-a05a-560482cf89a9",
   "metadata": {},
   "outputs": [
    {
     "name": "stdout",
     "output_type": "stream",
     "text": [
      "ref\tpos\tstrand\tconvertedBaseQualities\tconvertedBaseCount\tunconvertedBaseQualities\tunconvertedBaseCount\n",
      "1\t592234\t+\tF\t1\t\t0\n",
      "1\t592238\t+\tF\t1\t\t0\n",
      "1\t592239\t+\tF\t1\t\t0\n",
      "1\t592241\t+\tF\t1\t\t0\n",
      "1\t592242\t+\tF\t1\t\t0\n",
      "1\t626659\t-\t:\t1\t\t0\n",
      "1\t626662\t-\t:\t1\t\t0\n",
      "1\t626663\t-\tF\t1\t\t0\n",
      "1\t629578\t-\tF\t1\t\t0\n",
      "\n",
      "gzip: stdout: Broken pipe\n"
     ]
    }
   ],
   "source": [
    "! zcat {out_path}/t1_r1.filtered.uniq.tsv.gz |head "
   ]
  },
  {
   "cell_type": "markdown",
   "id": "fecf1a0d-ba38-46d3-b87a-045e8c4ccf4f",
   "metadata": {},
   "source": [
    "There are 7 columns in the 3N-conversion-table:\n",
    "\n",
    "1. `ref:` the chromosome name.\n",
    "2. `pos:` 1-based position in ref.\n",
    "3. `strand:` ‘+’ for forward strand. ‘-‘ for reverse strand.\n",
    "4. `convertedBaseQualities:` the qualities for converted base in read-level measurement. Length of this string is equal to the number of converted Base in read-level measurement.\n",
    "5. `convertedBaseCount:` number of distinct read positions where converted base in read-level measurements were found. this number should equal to the length of convertedBaseQualities.\n",
    "6. `unconvertedBaseQualities:` the qualities for unconverted base in read-level measurement. Length of this string is equal to the number of unconverted Base in read-level measurement.\n",
    "7. `unconvertedBaseCount:` number of distinct read positions where unconverted base in read-level measurements were found. this number should equal to the length of unconvertedBaseQualities."
   ]
  },
  {
   "cell_type": "markdown",
   "id": "22d4b97c-7c8e-4198-a08e-6c8522c1690d",
   "metadata": {},
   "source": [
    "Used IGV to look at reads in `t1.tsv.gz`:\n",
    "- Needed to adjust preferences to show all reads\n",
    "- Exactly the first 10,000 nt are all N\n",
    "- The first read was aligned with a C at 10,358\n",
    "- There were 9 C's, all in the positions shown above"
   ]
  },
  {
   "cell_type": "markdown",
   "id": "a5bc146e-6e58-4156-842a-204fad3b13aa",
   "metadata": {},
   "source": [
    "Accordingly, this file appears to include all C's in the genome aligned to at least one read."
   ]
  },
  {
   "cell_type": "markdown",
   "id": "d98521e8-cba8-43cc-90fe-1d8555132ea6",
   "metadata": {},
   "source": [
    "How many C's are in genome?"
   ]
  },
  {
   "cell_type": "code",
   "execution_count": 76,
   "id": "c7251644-8a78-4f2f-8f61-423f6e85670d",
   "metadata": {},
   "outputs": [
    {
     "data": {
      "text/plain": [
       "601243172"
      ]
     },
     "execution_count": 76,
     "metadata": {},
     "output_type": "execute_result"
    }
   ],
   "source": [
    "# Need speed up with parallel\n",
    "C_total = !cat {genome_fa} | parallel --pipe grep -o 'C' | wc -l\n",
    "C_total = int(C_total[0])\n",
    "C_total"
   ]
  },
  {
   "cell_type": "markdown",
   "id": "5ab2d369-545f-406a-bea8-d115d735b2bd",
   "metadata": {},
   "source": [
    "How many C's in genome are covered by at multiple reads?"
   ]
  },
  {
   "cell_type": "code",
   "execution_count": 78,
   "id": "c171e706-a27f-40d2-b4e7-1d276fd9dcd0",
   "metadata": {},
   "outputs": [
    {
     "data": {
      "text/plain": [
       "[1840390, 2682745, 2352895]"
      ]
     },
     "execution_count": 78,
     "metadata": {},
     "output_type": "execute_result"
    }
   ],
   "source": [
    "C_covered = []\n",
    "for sample in samples():\n",
    "    covered = !zcat {fname(out_path, sample, 'filtered.multi.tsv.gz')} | wc -l\n",
    "    covered = int(covered[0])\n",
    "    C_covered.append(covered)\n",
    "C_covered"
   ]
  },
  {
   "cell_type": "markdown",
   "id": "d4115560-476a-447f-a6f7-32bb5f438d2b",
   "metadata": {},
   "source": [
    "#### What is the background of Unconverted C based upon Average ratios of Unconverted to Covered C's?\n",
    "- Remove: Depth < 10\n",
    "- Remove: nuc/(nuc + nc) > 0.20"
   ]
  },
  {
   "cell_type": "code",
   "execution_count": 79,
   "id": "d2ade7ef-62a1-4bf9-aff6-c3174cff15f6",
   "metadata": {},
   "outputs": [
    {
     "data": {
      "text/plain": [
       "[0.0028, 0.0028, 0.0028]"
      ]
     },
     "execution_count": 79,
     "metadata": {},
     "output_type": "execute_result"
    }
   ],
   "source": [
    "nc, nuc = 'convertedBaseCount', 'unconvertedBaseCount'\n",
    "C_back = []\n",
    "for sample in samples():\n",
    "    df = pd.read_csv(fname(out_path, sample,'filtered.multi.tsv.gz'), sep='\\t', compression='gzip', low_memory=False, dtype={4: int, 6: int })\n",
    "    df = df[~df['ref'].str.startswith(('G', 'K'))]                    # Remove: Non chromosomal refs\n",
    "    df = df[(df[nc] + df[nuc]) > 10]                                  # Remove: Depth < 10\n",
    "    df = df[df[nuc]/(df[nuc] + df[nc]) < 0.2]  \t                      # Remove: nuc/(nuc + nc) > 0.20\n",
    "    bg = round(np.mean(df[nuc]/(df[nuc] + df[nc])),4)\n",
    "    C_back.append(bg)\n",
    "C_back"
   ]
  },
  {
   "cell_type": "markdown",
   "id": "da47539c-a032-4454-ba4c-1179ec1729d1",
   "metadata": {},
   "source": [
    "What is the background based upon Total Uncoverted to Total Covered C's"
   ]
  },
  {
   "cell_type": "code",
   "execution_count": 80,
   "id": "a412a572-86b0-4519-b2c2-03b02018636a",
   "metadata": {},
   "outputs": [
    {
     "data": {
      "text/plain": [
       "0.0028"
      ]
     },
     "execution_count": 80,
     "metadata": {},
     "output_type": "execute_result"
    }
   ],
   "source": [
    "round(sum(df[nuc])/(sum(df[nuc]) + sum(df[nc])),4)"
   ]
  },
  {
   "cell_type": "markdown",
   "id": "59afc8ee-d078-4473-8558-fa43c3211e45",
   "metadata": {},
   "source": [
    "## Step: Filter_calls"
   ]
  },
  {
   "cell_type": "markdown",
   "id": "087337ac-6dcb-49f7-b1ad-c5c49aa530bd",
   "metadata": {},
   "source": [
    "#### Filter and Clean Up Calls"
   ]
  },
  {
   "cell_type": "code",
   "execution_count": 81,
   "id": "17578c58-44ed-42db-856c-8d61fb0db02b",
   "metadata": {},
   "outputs": [
    {
     "name": "stdout",
     "output_type": "stream",
     "text": [
      ">>> {hisat3n_call} 08:42:19_03-09-2024\n",
      ">>> {filter_calls} 08:42:19_03-09-2024\n"
     ]
    }
   ],
   "source": [
    "in_path = mkpath(\"hisat3n_call\")\n",
    "out_path = mkpath(\"filter_calls\")"
   ]
  },
  {
   "cell_type": "markdown",
   "id": "97b82fef-6ed4-40fc-afeb-145f9b379564",
   "metadata": {},
   "source": [
    "Filter each row to keep: Only Chromosomal, Depth of at least 20, and Unconverted (Methylated) of {1,2,3}"
   ]
  },
  {
   "cell_type": "code",
   "execution_count": 83,
   "id": "1a2fc162-6fb5-4f0e-b820-be9553a969bc",
   "metadata": {},
   "outputs": [
    {
     "ename": "FileNotFoundError",
     "evalue": "[Errno 2] No such file or directory: 'hisat3n_call/t1_r1.tsv.gz'",
     "output_type": "error",
     "traceback": [
      "\u001b[0;31m---------------------------------------------------------------------------\u001b[0m",
      "\u001b[0;31mFileNotFoundError\u001b[0m                         Traceback (most recent call last)",
      "Cell \u001b[0;32mIn[83], line 3\u001b[0m\n\u001b[1;32m      1\u001b[0m nc, nuc \u001b[38;5;241m=\u001b[39m \u001b[38;5;124m'\u001b[39m\u001b[38;5;124mconvertedBaseCount\u001b[39m\u001b[38;5;124m'\u001b[39m, \u001b[38;5;124m'\u001b[39m\u001b[38;5;124munconvertedBaseCount\u001b[39m\u001b[38;5;124m'\u001b[39m\n\u001b[1;32m      2\u001b[0m \u001b[38;5;28;01mfor\u001b[39;00m sample \u001b[38;5;129;01min\u001b[39;00m samples():\n\u001b[0;32m----> 3\u001b[0m     df \u001b[38;5;241m=\u001b[39m \u001b[43mpd\u001b[49m\u001b[38;5;241;43m.\u001b[39;49m\u001b[43mread_csv\u001b[49m\u001b[43m(\u001b[49m\u001b[43mfname\u001b[49m\u001b[43m(\u001b[49m\u001b[43min_path\u001b[49m\u001b[43m,\u001b[49m\u001b[43m \u001b[49m\u001b[43msample\u001b[49m\u001b[43m,\u001b[49m\u001b[38;5;124;43m'\u001b[39;49m\u001b[38;5;124;43mtsv.gz\u001b[39;49m\u001b[38;5;124;43m'\u001b[39;49m\u001b[43m)\u001b[49m\u001b[43m,\u001b[49m\u001b[43m \u001b[49m\u001b[43msep\u001b[49m\u001b[38;5;241;43m=\u001b[39;49m\u001b[38;5;124;43m'\u001b[39;49m\u001b[38;5;130;43;01m\\t\u001b[39;49;00m\u001b[38;5;124;43m'\u001b[39;49m\u001b[43m,\u001b[49m\u001b[43m \u001b[49m\u001b[43mcompression\u001b[49m\u001b[38;5;241;43m=\u001b[39;49m\u001b[38;5;124;43m'\u001b[39;49m\u001b[38;5;124;43mgzip\u001b[39;49m\u001b[38;5;124;43m'\u001b[39;49m\u001b[43m,\u001b[49m\u001b[43m \u001b[49m\u001b[43mlow_memory\u001b[49m\u001b[38;5;241;43m=\u001b[39;49m\u001b[38;5;28;43;01mFalse\u001b[39;49;00m\u001b[43m,\u001b[49m\u001b[43m \u001b[49m\u001b[43mdtype\u001b[49m\u001b[38;5;241;43m=\u001b[39;49m\u001b[43m{\u001b[49m\u001b[38;5;241;43m4\u001b[39;49m\u001b[43m:\u001b[49m\u001b[43m \u001b[49m\u001b[38;5;28;43mint\u001b[39;49m\u001b[43m,\u001b[49m\u001b[43m \u001b[49m\u001b[38;5;241;43m6\u001b[39;49m\u001b[43m:\u001b[49m\u001b[43m \u001b[49m\u001b[38;5;28;43mint\u001b[39;49m\u001b[43m \u001b[49m\u001b[43m}\u001b[49m\u001b[43m)\u001b[49m\n\u001b[1;32m      4\u001b[0m     df \u001b[38;5;241m=\u001b[39m df[\u001b[38;5;241m~\u001b[39mdf[\u001b[38;5;124m'\u001b[39m\u001b[38;5;124mref\u001b[39m\u001b[38;5;124m'\u001b[39m]\u001b[38;5;241m.\u001b[39mstr\u001b[38;5;241m.\u001b[39mstartswith((\u001b[38;5;124m'\u001b[39m\u001b[38;5;124mG\u001b[39m\u001b[38;5;124m'\u001b[39m, \u001b[38;5;124m'\u001b[39m\u001b[38;5;124mK\u001b[39m\u001b[38;5;124m'\u001b[39m))]                    \u001b[38;5;66;03m# Remove: Non chromosomal refs\u001b[39;00m\n\u001b[1;32m      5\u001b[0m     df \u001b[38;5;241m=\u001b[39m df[(df[nc] \u001b[38;5;241m+\u001b[39m df[nuc] \u001b[38;5;241m>\u001b[39m \u001b[38;5;241m20\u001b[39m) \u001b[38;5;241m&\u001b[39m (df[nuc] \u001b[38;5;241m<\u001b[39m \u001b[38;5;241m4\u001b[39m) \u001b[38;5;241m&\u001b[39m (\u001b[38;5;241m3\u001b[39m \u001b[38;5;241m*\u001b[39m df[nuc] \u001b[38;5;241m<\u001b[39m (df[nuc] \u001b[38;5;241m+\u001b[39m df[nc]))] \u001b[38;5;66;03m# Remove: Depth < 20 \u001b[39;00m\n",
      "File \u001b[0;32m~/mambaforge/envs/bioinfo/lib/python3.10/site-packages/pandas/io/parsers/readers.py:1024\u001b[0m, in \u001b[0;36mread_csv\u001b[0;34m(filepath_or_buffer, sep, delimiter, header, names, index_col, usecols, dtype, engine, converters, true_values, false_values, skipinitialspace, skiprows, skipfooter, nrows, na_values, keep_default_na, na_filter, verbose, skip_blank_lines, parse_dates, infer_datetime_format, keep_date_col, date_parser, date_format, dayfirst, cache_dates, iterator, chunksize, compression, thousands, decimal, lineterminator, quotechar, quoting, doublequote, escapechar, comment, encoding, encoding_errors, dialect, on_bad_lines, delim_whitespace, low_memory, memory_map, float_precision, storage_options, dtype_backend)\u001b[0m\n\u001b[1;32m   1011\u001b[0m kwds_defaults \u001b[38;5;241m=\u001b[39m _refine_defaults_read(\n\u001b[1;32m   1012\u001b[0m     dialect,\n\u001b[1;32m   1013\u001b[0m     delimiter,\n\u001b[0;32m   (...)\u001b[0m\n\u001b[1;32m   1020\u001b[0m     dtype_backend\u001b[38;5;241m=\u001b[39mdtype_backend,\n\u001b[1;32m   1021\u001b[0m )\n\u001b[1;32m   1022\u001b[0m kwds\u001b[38;5;241m.\u001b[39mupdate(kwds_defaults)\n\u001b[0;32m-> 1024\u001b[0m \u001b[38;5;28;01mreturn\u001b[39;00m \u001b[43m_read\u001b[49m\u001b[43m(\u001b[49m\u001b[43mfilepath_or_buffer\u001b[49m\u001b[43m,\u001b[49m\u001b[43m \u001b[49m\u001b[43mkwds\u001b[49m\u001b[43m)\u001b[49m\n",
      "File \u001b[0;32m~/mambaforge/envs/bioinfo/lib/python3.10/site-packages/pandas/io/parsers/readers.py:618\u001b[0m, in \u001b[0;36m_read\u001b[0;34m(filepath_or_buffer, kwds)\u001b[0m\n\u001b[1;32m    615\u001b[0m _validate_names(kwds\u001b[38;5;241m.\u001b[39mget(\u001b[38;5;124m\"\u001b[39m\u001b[38;5;124mnames\u001b[39m\u001b[38;5;124m\"\u001b[39m, \u001b[38;5;28;01mNone\u001b[39;00m))\n\u001b[1;32m    617\u001b[0m \u001b[38;5;66;03m# Create the parser.\u001b[39;00m\n\u001b[0;32m--> 618\u001b[0m parser \u001b[38;5;241m=\u001b[39m \u001b[43mTextFileReader\u001b[49m\u001b[43m(\u001b[49m\u001b[43mfilepath_or_buffer\u001b[49m\u001b[43m,\u001b[49m\u001b[43m \u001b[49m\u001b[38;5;241;43m*\u001b[39;49m\u001b[38;5;241;43m*\u001b[39;49m\u001b[43mkwds\u001b[49m\u001b[43m)\u001b[49m\n\u001b[1;32m    620\u001b[0m \u001b[38;5;28;01mif\u001b[39;00m chunksize \u001b[38;5;129;01mor\u001b[39;00m iterator:\n\u001b[1;32m    621\u001b[0m     \u001b[38;5;28;01mreturn\u001b[39;00m parser\n",
      "File \u001b[0;32m~/mambaforge/envs/bioinfo/lib/python3.10/site-packages/pandas/io/parsers/readers.py:1618\u001b[0m, in \u001b[0;36mTextFileReader.__init__\u001b[0;34m(self, f, engine, **kwds)\u001b[0m\n\u001b[1;32m   1615\u001b[0m     \u001b[38;5;28mself\u001b[39m\u001b[38;5;241m.\u001b[39moptions[\u001b[38;5;124m\"\u001b[39m\u001b[38;5;124mhas_index_names\u001b[39m\u001b[38;5;124m\"\u001b[39m] \u001b[38;5;241m=\u001b[39m kwds[\u001b[38;5;124m\"\u001b[39m\u001b[38;5;124mhas_index_names\u001b[39m\u001b[38;5;124m\"\u001b[39m]\n\u001b[1;32m   1617\u001b[0m \u001b[38;5;28mself\u001b[39m\u001b[38;5;241m.\u001b[39mhandles: IOHandles \u001b[38;5;241m|\u001b[39m \u001b[38;5;28;01mNone\u001b[39;00m \u001b[38;5;241m=\u001b[39m \u001b[38;5;28;01mNone\u001b[39;00m\n\u001b[0;32m-> 1618\u001b[0m \u001b[38;5;28mself\u001b[39m\u001b[38;5;241m.\u001b[39m_engine \u001b[38;5;241m=\u001b[39m \u001b[38;5;28;43mself\u001b[39;49m\u001b[38;5;241;43m.\u001b[39;49m\u001b[43m_make_engine\u001b[49m\u001b[43m(\u001b[49m\u001b[43mf\u001b[49m\u001b[43m,\u001b[49m\u001b[43m \u001b[49m\u001b[38;5;28;43mself\u001b[39;49m\u001b[38;5;241;43m.\u001b[39;49m\u001b[43mengine\u001b[49m\u001b[43m)\u001b[49m\n",
      "File \u001b[0;32m~/mambaforge/envs/bioinfo/lib/python3.10/site-packages/pandas/io/parsers/readers.py:1878\u001b[0m, in \u001b[0;36mTextFileReader._make_engine\u001b[0;34m(self, f, engine)\u001b[0m\n\u001b[1;32m   1876\u001b[0m     \u001b[38;5;28;01mif\u001b[39;00m \u001b[38;5;124m\"\u001b[39m\u001b[38;5;124mb\u001b[39m\u001b[38;5;124m\"\u001b[39m \u001b[38;5;129;01mnot\u001b[39;00m \u001b[38;5;129;01min\u001b[39;00m mode:\n\u001b[1;32m   1877\u001b[0m         mode \u001b[38;5;241m+\u001b[39m\u001b[38;5;241m=\u001b[39m \u001b[38;5;124m\"\u001b[39m\u001b[38;5;124mb\u001b[39m\u001b[38;5;124m\"\u001b[39m\n\u001b[0;32m-> 1878\u001b[0m \u001b[38;5;28mself\u001b[39m\u001b[38;5;241m.\u001b[39mhandles \u001b[38;5;241m=\u001b[39m \u001b[43mget_handle\u001b[49m\u001b[43m(\u001b[49m\n\u001b[1;32m   1879\u001b[0m \u001b[43m    \u001b[49m\u001b[43mf\u001b[49m\u001b[43m,\u001b[49m\n\u001b[1;32m   1880\u001b[0m \u001b[43m    \u001b[49m\u001b[43mmode\u001b[49m\u001b[43m,\u001b[49m\n\u001b[1;32m   1881\u001b[0m \u001b[43m    \u001b[49m\u001b[43mencoding\u001b[49m\u001b[38;5;241;43m=\u001b[39;49m\u001b[38;5;28;43mself\u001b[39;49m\u001b[38;5;241;43m.\u001b[39;49m\u001b[43moptions\u001b[49m\u001b[38;5;241;43m.\u001b[39;49m\u001b[43mget\u001b[49m\u001b[43m(\u001b[49m\u001b[38;5;124;43m\"\u001b[39;49m\u001b[38;5;124;43mencoding\u001b[39;49m\u001b[38;5;124;43m\"\u001b[39;49m\u001b[43m,\u001b[49m\u001b[43m \u001b[49m\u001b[38;5;28;43;01mNone\u001b[39;49;00m\u001b[43m)\u001b[49m\u001b[43m,\u001b[49m\n\u001b[1;32m   1882\u001b[0m \u001b[43m    \u001b[49m\u001b[43mcompression\u001b[49m\u001b[38;5;241;43m=\u001b[39;49m\u001b[38;5;28;43mself\u001b[39;49m\u001b[38;5;241;43m.\u001b[39;49m\u001b[43moptions\u001b[49m\u001b[38;5;241;43m.\u001b[39;49m\u001b[43mget\u001b[49m\u001b[43m(\u001b[49m\u001b[38;5;124;43m\"\u001b[39;49m\u001b[38;5;124;43mcompression\u001b[39;49m\u001b[38;5;124;43m\"\u001b[39;49m\u001b[43m,\u001b[49m\u001b[43m \u001b[49m\u001b[38;5;28;43;01mNone\u001b[39;49;00m\u001b[43m)\u001b[49m\u001b[43m,\u001b[49m\n\u001b[1;32m   1883\u001b[0m \u001b[43m    \u001b[49m\u001b[43mmemory_map\u001b[49m\u001b[38;5;241;43m=\u001b[39;49m\u001b[38;5;28;43mself\u001b[39;49m\u001b[38;5;241;43m.\u001b[39;49m\u001b[43moptions\u001b[49m\u001b[38;5;241;43m.\u001b[39;49m\u001b[43mget\u001b[49m\u001b[43m(\u001b[49m\u001b[38;5;124;43m\"\u001b[39;49m\u001b[38;5;124;43mmemory_map\u001b[39;49m\u001b[38;5;124;43m\"\u001b[39;49m\u001b[43m,\u001b[49m\u001b[43m \u001b[49m\u001b[38;5;28;43;01mFalse\u001b[39;49;00m\u001b[43m)\u001b[49m\u001b[43m,\u001b[49m\n\u001b[1;32m   1884\u001b[0m \u001b[43m    \u001b[49m\u001b[43mis_text\u001b[49m\u001b[38;5;241;43m=\u001b[39;49m\u001b[43mis_text\u001b[49m\u001b[43m,\u001b[49m\n\u001b[1;32m   1885\u001b[0m \u001b[43m    \u001b[49m\u001b[43merrors\u001b[49m\u001b[38;5;241;43m=\u001b[39;49m\u001b[38;5;28;43mself\u001b[39;49m\u001b[38;5;241;43m.\u001b[39;49m\u001b[43moptions\u001b[49m\u001b[38;5;241;43m.\u001b[39;49m\u001b[43mget\u001b[49m\u001b[43m(\u001b[49m\u001b[38;5;124;43m\"\u001b[39;49m\u001b[38;5;124;43mencoding_errors\u001b[39;49m\u001b[38;5;124;43m\"\u001b[39;49m\u001b[43m,\u001b[49m\u001b[43m \u001b[49m\u001b[38;5;124;43m\"\u001b[39;49m\u001b[38;5;124;43mstrict\u001b[39;49m\u001b[38;5;124;43m\"\u001b[39;49m\u001b[43m)\u001b[49m\u001b[43m,\u001b[49m\n\u001b[1;32m   1886\u001b[0m \u001b[43m    \u001b[49m\u001b[43mstorage_options\u001b[49m\u001b[38;5;241;43m=\u001b[39;49m\u001b[38;5;28;43mself\u001b[39;49m\u001b[38;5;241;43m.\u001b[39;49m\u001b[43moptions\u001b[49m\u001b[38;5;241;43m.\u001b[39;49m\u001b[43mget\u001b[49m\u001b[43m(\u001b[49m\u001b[38;5;124;43m\"\u001b[39;49m\u001b[38;5;124;43mstorage_options\u001b[39;49m\u001b[38;5;124;43m\"\u001b[39;49m\u001b[43m,\u001b[49m\u001b[43m \u001b[49m\u001b[38;5;28;43;01mNone\u001b[39;49;00m\u001b[43m)\u001b[49m\u001b[43m,\u001b[49m\n\u001b[1;32m   1887\u001b[0m \u001b[43m\u001b[49m\u001b[43m)\u001b[49m\n\u001b[1;32m   1888\u001b[0m \u001b[38;5;28;01massert\u001b[39;00m \u001b[38;5;28mself\u001b[39m\u001b[38;5;241m.\u001b[39mhandles \u001b[38;5;129;01mis\u001b[39;00m \u001b[38;5;129;01mnot\u001b[39;00m \u001b[38;5;28;01mNone\u001b[39;00m\n\u001b[1;32m   1889\u001b[0m f \u001b[38;5;241m=\u001b[39m \u001b[38;5;28mself\u001b[39m\u001b[38;5;241m.\u001b[39mhandles\u001b[38;5;241m.\u001b[39mhandle\n",
      "File \u001b[0;32m~/mambaforge/envs/bioinfo/lib/python3.10/site-packages/pandas/io/common.py:765\u001b[0m, in \u001b[0;36mget_handle\u001b[0;34m(path_or_buf, mode, encoding, compression, memory_map, is_text, errors, storage_options)\u001b[0m\n\u001b[1;32m    761\u001b[0m \u001b[38;5;28;01mif\u001b[39;00m compression \u001b[38;5;241m==\u001b[39m \u001b[38;5;124m\"\u001b[39m\u001b[38;5;124mgzip\u001b[39m\u001b[38;5;124m\"\u001b[39m:\n\u001b[1;32m    762\u001b[0m     \u001b[38;5;28;01mif\u001b[39;00m \u001b[38;5;28misinstance\u001b[39m(handle, \u001b[38;5;28mstr\u001b[39m):\n\u001b[1;32m    763\u001b[0m         \u001b[38;5;66;03m# error: Incompatible types in assignment (expression has type\u001b[39;00m\n\u001b[1;32m    764\u001b[0m         \u001b[38;5;66;03m# \"GzipFile\", variable has type \"Union[str, BaseBuffer]\")\u001b[39;00m\n\u001b[0;32m--> 765\u001b[0m         handle \u001b[38;5;241m=\u001b[39m \u001b[43mgzip\u001b[49m\u001b[38;5;241;43m.\u001b[39;49m\u001b[43mGzipFile\u001b[49m\u001b[43m(\u001b[49m\u001b[43m  \u001b[49m\u001b[38;5;66;43;03m# type: ignore[assignment]\u001b[39;49;00m\n\u001b[1;32m    766\u001b[0m \u001b[43m            \u001b[49m\u001b[43mfilename\u001b[49m\u001b[38;5;241;43m=\u001b[39;49m\u001b[43mhandle\u001b[49m\u001b[43m,\u001b[49m\n\u001b[1;32m    767\u001b[0m \u001b[43m            \u001b[49m\u001b[43mmode\u001b[49m\u001b[38;5;241;43m=\u001b[39;49m\u001b[43mioargs\u001b[49m\u001b[38;5;241;43m.\u001b[39;49m\u001b[43mmode\u001b[49m\u001b[43m,\u001b[49m\n\u001b[1;32m    768\u001b[0m \u001b[43m            \u001b[49m\u001b[38;5;241;43m*\u001b[39;49m\u001b[38;5;241;43m*\u001b[39;49m\u001b[43mcompression_args\u001b[49m\u001b[43m,\u001b[49m\n\u001b[1;32m    769\u001b[0m \u001b[43m        \u001b[49m\u001b[43m)\u001b[49m\n\u001b[1;32m    770\u001b[0m     \u001b[38;5;28;01melse\u001b[39;00m:\n\u001b[1;32m    771\u001b[0m         handle \u001b[38;5;241m=\u001b[39m gzip\u001b[38;5;241m.\u001b[39mGzipFile(\n\u001b[1;32m    772\u001b[0m             \u001b[38;5;66;03m# No overload variant of \"GzipFile\" matches argument types\u001b[39;00m\n\u001b[1;32m    773\u001b[0m             \u001b[38;5;66;03m# \"Union[str, BaseBuffer]\", \"str\", \"Dict[str, Any]\"\u001b[39;00m\n\u001b[0;32m   (...)\u001b[0m\n\u001b[1;32m    776\u001b[0m             \u001b[38;5;241m*\u001b[39m\u001b[38;5;241m*\u001b[39mcompression_args,\n\u001b[1;32m    777\u001b[0m         )\n",
      "File \u001b[0;32m~/mambaforge/envs/bioinfo/lib/python3.10/gzip.py:174\u001b[0m, in \u001b[0;36mGzipFile.__init__\u001b[0;34m(self, filename, mode, compresslevel, fileobj, mtime)\u001b[0m\n\u001b[1;32m    172\u001b[0m     mode \u001b[38;5;241m+\u001b[39m\u001b[38;5;241m=\u001b[39m \u001b[38;5;124m'\u001b[39m\u001b[38;5;124mb\u001b[39m\u001b[38;5;124m'\u001b[39m\n\u001b[1;32m    173\u001b[0m \u001b[38;5;28;01mif\u001b[39;00m fileobj \u001b[38;5;129;01mis\u001b[39;00m \u001b[38;5;28;01mNone\u001b[39;00m:\n\u001b[0;32m--> 174\u001b[0m     fileobj \u001b[38;5;241m=\u001b[39m \u001b[38;5;28mself\u001b[39m\u001b[38;5;241m.\u001b[39mmyfileobj \u001b[38;5;241m=\u001b[39m \u001b[43mbuiltins\u001b[49m\u001b[38;5;241;43m.\u001b[39;49m\u001b[43mopen\u001b[49m\u001b[43m(\u001b[49m\u001b[43mfilename\u001b[49m\u001b[43m,\u001b[49m\u001b[43m \u001b[49m\u001b[43mmode\u001b[49m\u001b[43m \u001b[49m\u001b[38;5;129;43;01mor\u001b[39;49;00m\u001b[43m \u001b[49m\u001b[38;5;124;43m'\u001b[39;49m\u001b[38;5;124;43mrb\u001b[39;49m\u001b[38;5;124;43m'\u001b[39;49m\u001b[43m)\u001b[49m\n\u001b[1;32m    175\u001b[0m \u001b[38;5;28;01mif\u001b[39;00m filename \u001b[38;5;129;01mis\u001b[39;00m \u001b[38;5;28;01mNone\u001b[39;00m:\n\u001b[1;32m    176\u001b[0m     filename \u001b[38;5;241m=\u001b[39m \u001b[38;5;28mgetattr\u001b[39m(fileobj, \u001b[38;5;124m'\u001b[39m\u001b[38;5;124mname\u001b[39m\u001b[38;5;124m'\u001b[39m, \u001b[38;5;124m'\u001b[39m\u001b[38;5;124m'\u001b[39m)\n",
      "\u001b[0;31mFileNotFoundError\u001b[0m: [Errno 2] No such file or directory: 'hisat3n_call/t1_r1.tsv.gz'"
     ]
    }
   ],
   "source": [
    "nc, nuc = 'convertedBaseCount', 'unconvertedBaseCount'\n",
    "for sample in samples():\n",
    "    df = pd.read_csv(fname(in_path, sample,'tsv.gz'), sep='\\t', compression='gzip', low_memory=False, dtype={4: int, 6: int })\n",
    "    df = df[~df['ref'].str.startswith(('G', 'K'))]                    # Remove: Non chromosomal refs\n",
    "    df = df[(df[nc] + df[nuc] > 20) & (df[nuc] < 4) & (3 * df[nuc] < (df[nuc] + df[nc]))] # Remove: Depth < 20 \n",
    "    df.to_csv(fname(out_path,sample,'called.csv'), index=False)       # Remove: 0 < Unconverted < 4"
   ]
  },
  {
   "cell_type": "markdown",
   "id": "355a355b-68e6-43d3-9f54-9d48b360b6b7",
   "metadata": {},
   "source": [
    "#### Analysis"
   ]
  },
  {
   "cell_type": "code",
   "execution_count": 217,
   "id": "68102dfb-f22c-46bb-a5cf-509433f30e90",
   "metadata": {},
   "outputs": [
    {
     "name": "stdout",
     "output_type": "stream",
     "text": [
      "total 18M\n",
      "-rw-rw-r-- 1 cdaniels cdaniels 5.9M Mar  3 14:05 c1.called.csv\n",
      "-rw-rw-r-- 1 cdaniels cdaniels 4.7M Mar  3 14:05 t1.called.csv\n",
      "-rw-rw-r-- 1 cdaniels cdaniels 6.9M Mar  3 14:05 t2.called.csv\n"
     ]
    }
   ],
   "source": [
    "!ls -lh {out_path}"
   ]
  },
  {
   "cell_type": "markdown",
   "id": "ff0842d4-821b-4f14-b5ef-9352252f4e97",
   "metadata": {},
   "source": [
    "##### Assumption: What fraction of ref sites have a depth of coverage of at least 20 and Unconverted C of {1,2,3]"
   ]
  },
  {
   "cell_type": "code",
   "execution_count": 218,
   "id": "dc0ca08d-84a0-4bb9-ad77-55899f58b341",
   "metadata": {},
   "outputs": [
    {
     "data": {
      "text/plain": [
       "[61894, 84327, 74951]"
      ]
     },
     "execution_count": 218,
     "metadata": {},
     "output_type": "execute_result"
    }
   ],
   "source": [
    "C_me = []\n",
    "for sample in samples:\n",
    "    me = !cat {fname(out_path, sample, 'called.csv')} | wc -l\n",
    "    me = int(me[0])\n",
    "    C_me.append(me)\n",
    "C_me"
   ]
  },
  {
   "cell_type": "markdown",
   "id": "6ee92c4e-1743-4176-9efa-0551c31f5fb3",
   "metadata": {},
   "source": [
    "The ratio of 5mC (as defined) to all covered C's in genmome is:"
   ]
  },
  {
   "cell_type": "code",
   "execution_count": 219,
   "id": "ac71995a-2039-4aa4-b430-b6d9c7ec605b",
   "metadata": {},
   "outputs": [
    {
     "data": {
      "text/plain": [
       "array([0.0324, 0.0302, 0.0305])"
      ]
     },
     "execution_count": 219,
     "metadata": {},
     "output_type": "execute_result"
    }
   ],
   "source": [
    "np.round(np.array(C_me)/np.array(C_covered),4)"
   ]
  },
  {
   "cell_type": "markdown",
   "id": "0a2ea1a6-6be8-4aa8-b4a2-ccde222d91bf",
   "metadata": {},
   "source": [
    "What is the distribution of Unconverted C's by postion in each sample? (These distributions look similiar for all samples)"
   ]
  },
  {
   "cell_type": "code",
   "execution_count": 220,
   "id": "38c9a5a3-c99c-498e-aaa2-1a6abd3d4658",
   "metadata": {},
   "outputs": [
    {
     "data": {
      "text/plain": [
       "{0: 63587, 1: 16135, 2: 3696, 3: 908}"
      ]
     },
     "execution_count": 220,
     "metadata": {},
     "output_type": "execute_result"
    }
   ],
   "source": [
    "df = pd.read_csv(fname(out_path,'t2','called.csv'), low_memory=False)\n",
    "ds = df['unconvertedBaseCount'].values\n",
    "{v: n for v,n in zip(*np.unique(ds, return_counts=True))}"
   ]
  },
  {
   "cell_type": "code",
   "execution_count": 221,
   "id": "7a60fe0c-54c4-4634-bde7-7388b5aaab54",
   "metadata": {},
   "outputs": [
    {
     "data": {
      "text/html": [
       "<div>\n",
       "<style scoped>\n",
       "    .dataframe tbody tr th:only-of-type {\n",
       "        vertical-align: middle;\n",
       "    }\n",
       "\n",
       "    .dataframe tbody tr th {\n",
       "        vertical-align: top;\n",
       "    }\n",
       "\n",
       "    .dataframe thead th {\n",
       "        text-align: right;\n",
       "    }\n",
       "</style>\n",
       "<table border=\"1\" class=\"dataframe\">\n",
       "  <thead>\n",
       "    <tr style=\"text-align: right;\">\n",
       "      <th></th>\n",
       "      <th>ref</th>\n",
       "      <th>pos</th>\n",
       "      <th>strand</th>\n",
       "      <th>convertedBaseQualities</th>\n",
       "      <th>convertedBaseCount</th>\n",
       "      <th>unconvertedBaseQualities</th>\n",
       "      <th>unconvertedBaseCount</th>\n",
       "    </tr>\n",
       "  </thead>\n",
       "  <tbody>\n",
       "    <tr>\n",
       "      <th>0</th>\n",
       "      <td>1</td>\n",
       "      <td>258949</td>\n",
       "      <td>-</td>\n",
       "      <td>FFFFFFFFFFFFFFFF:FFFFFFFFFFFFF</td>\n",
       "      <td>30</td>\n",
       "      <td>NaN</td>\n",
       "      <td>0</td>\n",
       "    </tr>\n",
       "    <tr>\n",
       "      <th>1</th>\n",
       "      <td>1</td>\n",
       "      <td>258957</td>\n",
       "      <td>-</td>\n",
       "      <td>FFFFFFFFFFFFFFFFFFFFFFFFFFFFF</td>\n",
       "      <td>29</td>\n",
       "      <td>NaN</td>\n",
       "      <td>0</td>\n",
       "    </tr>\n",
       "    <tr>\n",
       "      <th>2</th>\n",
       "      <td>1</td>\n",
       "      <td>258958</td>\n",
       "      <td>-</td>\n",
       "      <td>FFFFFFFFFFFFFFFFFFFFFFFFFFFFF</td>\n",
       "      <td>29</td>\n",
       "      <td>NaN</td>\n",
       "      <td>0</td>\n",
       "    </tr>\n",
       "    <tr>\n",
       "      <th>3</th>\n",
       "      <td>1</td>\n",
       "      <td>258966</td>\n",
       "      <td>-</td>\n",
       "      <td>FFFFFFFFFFFFFFFFFFFFFFFFFFFFF</td>\n",
       "      <td>29</td>\n",
       "      <td>NaN</td>\n",
       "      <td>0</td>\n",
       "    </tr>\n",
       "    <tr>\n",
       "      <th>4</th>\n",
       "      <td>1</td>\n",
       "      <td>258967</td>\n",
       "      <td>-</td>\n",
       "      <td>FFFFFFFFFFFFFFFFFFFFFFFFFFF</td>\n",
       "      <td>27</td>\n",
       "      <td>NaN</td>\n",
       "      <td>0</td>\n",
       "    </tr>\n",
       "    <tr>\n",
       "      <th>...</th>\n",
       "      <td>...</td>\n",
       "      <td>...</td>\n",
       "      <td>...</td>\n",
       "      <td>...</td>\n",
       "      <td>...</td>\n",
       "      <td>...</td>\n",
       "      <td>...</td>\n",
       "    </tr>\n",
       "    <tr>\n",
       "      <th>84321</th>\n",
       "      <td>Y</td>\n",
       "      <td>25308027</td>\n",
       "      <td>+</td>\n",
       "      <td>FFFFFFFFFFFFFFFFFFFFFFFFFFFFFFFFFFFFFFFFFFFFF:...</td>\n",
       "      <td>56</td>\n",
       "      <td>FFF</td>\n",
       "      <td>3</td>\n",
       "    </tr>\n",
       "    <tr>\n",
       "      <th>84322</th>\n",
       "      <td>Y</td>\n",
       "      <td>25308032</td>\n",
       "      <td>+</td>\n",
       "      <td>FFFFFFFFFFFFFFFFFFFFFFFFFFFFFFFFFFFFFFFFFFFFFF...</td>\n",
       "      <td>54</td>\n",
       "      <td>FF</td>\n",
       "      <td>2</td>\n",
       "    </tr>\n",
       "    <tr>\n",
       "      <th>84323</th>\n",
       "      <td>Y</td>\n",
       "      <td>25308038</td>\n",
       "      <td>+</td>\n",
       "      <td>FFFFFFFFFFFFFFFFFFFFFFFFFFFFFFFFFFFFFFFFFFFFFF...</td>\n",
       "      <td>50</td>\n",
       "      <td>FF</td>\n",
       "      <td>2</td>\n",
       "    </tr>\n",
       "    <tr>\n",
       "      <th>84324</th>\n",
       "      <td>Y</td>\n",
       "      <td>25308054</td>\n",
       "      <td>+</td>\n",
       "      <td>FFFFFFFFFFFFFFFFFFFFFF</td>\n",
       "      <td>22</td>\n",
       "      <td>F</td>\n",
       "      <td>1</td>\n",
       "    </tr>\n",
       "    <tr>\n",
       "      <th>84325</th>\n",
       "      <td>Y</td>\n",
       "      <td>25308055</td>\n",
       "      <td>+</td>\n",
       "      <td>FFFFFFFFFF:FFFFFFFFFFF</td>\n",
       "      <td>22</td>\n",
       "      <td>NaN</td>\n",
       "      <td>0</td>\n",
       "    </tr>\n",
       "  </tbody>\n",
       "</table>\n",
       "<p>84326 rows × 7 columns</p>\n",
       "</div>"
      ],
      "text/plain": [
       "      ref       pos strand                             convertedBaseQualities  \\\n",
       "0       1    258949      -                     FFFFFFFFFFFFFFFF:FFFFFFFFFFFFF   \n",
       "1       1    258957      -                      FFFFFFFFFFFFFFFFFFFFFFFFFFFFF   \n",
       "2       1    258958      -                      FFFFFFFFFFFFFFFFFFFFFFFFFFFFF   \n",
       "3       1    258966      -                      FFFFFFFFFFFFFFFFFFFFFFFFFFFFF   \n",
       "4       1    258967      -                        FFFFFFFFFFFFFFFFFFFFFFFFFFF   \n",
       "...    ..       ...    ...                                                ...   \n",
       "84321   Y  25308027      +  FFFFFFFFFFFFFFFFFFFFFFFFFFFFFFFFFFFFFFFFFFFFF:...   \n",
       "84322   Y  25308032      +  FFFFFFFFFFFFFFFFFFFFFFFFFFFFFFFFFFFFFFFFFFFFFF...   \n",
       "84323   Y  25308038      +  FFFFFFFFFFFFFFFFFFFFFFFFFFFFFFFFFFFFFFFFFFFFFF...   \n",
       "84324   Y  25308054      +                             FFFFFFFFFFFFFFFFFFFFFF   \n",
       "84325   Y  25308055      +                             FFFFFFFFFF:FFFFFFFFFFF   \n",
       "\n",
       "       convertedBaseCount unconvertedBaseQualities  unconvertedBaseCount  \n",
       "0                      30                      NaN                     0  \n",
       "1                      29                      NaN                     0  \n",
       "2                      29                      NaN                     0  \n",
       "3                      29                      NaN                     0  \n",
       "4                      27                      NaN                     0  \n",
       "...                   ...                      ...                   ...  \n",
       "84321                  56                      FFF                     3  \n",
       "84322                  54                       FF                     2  \n",
       "84323                  50                       FF                     2  \n",
       "84324                  22                        F                     1  \n",
       "84325                  22                      NaN                     0  \n",
       "\n",
       "[84326 rows x 7 columns]"
      ]
     },
     "execution_count": 221,
     "metadata": {},
     "output_type": "execute_result"
    }
   ],
   "source": [
    "df"
   ]
  },
  {
   "cell_type": "code",
   "execution_count": 228,
   "id": "40d72471-35fe-48f7-ad85-081834a1c7dd",
   "metadata": {},
   "outputs": [],
   "source": [
    "sample = 't2'\n",
    "chr = '1'\n",
    "bin_size = 100\n",
    "nc, nuc = 'convertedBaseCount', 'unconvertedBaseCount'\n",
    "\n",
    "df = pd.read_csv(fname(out_path,sample,'called.csv'), low_memory=False)\n",
    "df2 = df[df['ref'] == chr].copy()\n",
    "df2 = df2[df2['pos'] > 200000]\n",
    "df2 = df2[df2['pos'] < 1000000]\n",
    "df2['bin'] = (df2['pos'] / bin_size).apply(np.floor)\n",
    "bin_counts = df2.groupby('bin')[nuc].count()"
   ]
  },
  {
   "cell_type": "code",
   "execution_count": 229,
   "id": "550e83d7-ce31-440c-a119-4a435ff1bae9",
   "metadata": {},
   "outputs": [
    {
     "data": {
      "image/png": "[encoded data removed]",
      "text/plain": [
       "<Figure size 1200x400 with 1 Axes>"
      ]
     },
     "metadata": {},
     "output_type": "display_data"
    }
   ],
   "source": [
    "# Plotting\n",
    "plt.style.use('seaborn-v0_8-darkgrid')  # Example style, replace with your preferred style\n",
    "fig, ax = plt.subplots(figsize=(12, 4))\n",
    "\n",
    "# Assuming bin_counts index is what you want on the x-axis and the values are what you want on the y-axis\n",
    "ax.scatter(bin_counts.index, bin_counts.values, s=3, alpha=0.5, color='green')  # s controls the marker size, alpha controls transparency\n",
    "\n",
    "ax.set_xlabel('Bin')  # Assuming 'Bin' is the appropriate label\n",
    "ax.set_ylabel('Count')\n",
    "ax.set_title('Bin Counts Distribution')\n",
    "\n",
    "plt.show()"
   ]
  },
  {
   "cell_type": "code",
   "execution_count": null,
   "id": "27c82b6d-043c-4498-8abe-43b3cfdd5fff",
   "metadata": {},
   "outputs": [],
   "source": []
  }
 ],
 "metadata": {
  "kernelspec": {
   "display_name": "Python 3 (ipykernel)",
   "language": "python",
   "name": "python3"
  },
  "language_info": {
   "codemirror_mode": {
    "name": "ipython",
    "version": 3
   },
   "file_extension": ".py",
   "mimetype": "text/x-python",
   "name": "python",
   "nbconvert_exporter": "python",
   "pygments_lexer": "ipython3",
   "version": "3.10.13"
  }
 },
 "nbformat": 4,
 "nbformat_minor": 5
}
