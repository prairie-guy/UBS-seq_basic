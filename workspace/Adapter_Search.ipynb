{
 "cells": [
  {
   "cell_type": "markdown",
   "id": "5e63ba79-d94d-4c00-b493-3e5ce4fb48e0",
   "metadata": {},
   "source": [
    "## Searching for Adapters and Bar Codes in Single and Paired End Fastq Files"
   ]
  },
  {
   "cell_type": "code",
   "execution_count": 158,
   "id": "c7965c16-771d-442e-9e12-dc62dea536a4",
   "metadata": {},
   "outputs": [
    {
     "name": "stdout",
     "output_type": "stream",
     "text": [
      "Singe End: Search for Adapters\n",
      "--------------------------------------------------------------------------\n",
      "t1_r1: n_ad_R1 = 1099696, n_ad_R2 = 0, total = 4733284, max_perct = 23.23\n",
      "--------------------------------------------------------------------------\n",
      "t1_r2: n_ad_R1 = 1270967, n_ad_R2 = 0, total = 5460980, max_perct = 23.27\n",
      "--------------------------------------------------------------------------\n",
      "c1_r1: n_ad_R1 = 859745, n_ad_R2 = 0, total = 3742528, max_perct = 22.97\n",
      "--------------------------------------------------------------------------\n"
     ]
    }
   ],
   "source": [
    "ad_R1, bar_R1 = 'AGATCGGAAGAGCACACGTCT', 'ATCACG'\n",
    "ad_R2, bar_R2 = 'AGATCGGAAGAGCGTCGTGT', 'CGTGAT'\n",
    "# ad_R1 ~= rc(ad_R2) \n",
    "\n",
    "print('Singe End: Search for Adapters')\n",
    "print('--------------------------------------------------------------------------')\n",
    "for r in samples(end='se'):\n",
    "    fn = fname(in_path,r,'fq.gz')\n",
    "    n_ad_R1   = ! zcat -c {fn} | grep {ad_R1} | wc -l\n",
    "    n_ad_R2   = ! zcat -c {fn} | grep {ad_R2} | wc -l\n",
    "    total      = ! zcat -c {fn} | wc -l\n",
    "    n_ad_R1, n_ad_R2, total = int(n_ad_R1[0]), int(n_ad_R2[0]), int(total[0])\n",
    "    print(f'{r}: n_ad_R1 = {n_ad_R1}, n_ad_R2 = {n_ad_R2}, total = {total}, max_perct = {100*round(max(n_ad_R1,n_ad_R2)/total,4)}')\n",
    "    print('--------------------------------------------------------------------------')"
   ]
  },
  {
   "cell_type": "code",
   "execution_count": 155,
   "id": "5bd254d2-c568-400f-96bb-6306c636b7cb",
   "metadata": {},
   "outputs": [
    {
     "name": "stdout",
     "output_type": "stream",
     "text": [
      "Single End: Search for Bar Codes\n",
      "----------------------------------------------------------------------------------\n",
      "t1_r1: n_bar_R1 = 1127609, n_bar_R2 = 4232, total = 4733284, max_perct = 23.823\n",
      "----------------------------------------------------------------------------------\n",
      "t1_r2: n_bar_R1 = 1300174, n_bar_R2 = 4760, total = 5460980, max_perct = 23.8084\n",
      "----------------------------------------------------------------------------------\n",
      "c1_r1: n_bar_R1 = 886190, n_bar_R2 = 3317, total = 3742528, max_perct = 23.6789\n",
      "----------------------------------------------------------------------------------\n"
     ]
    }
   ],
   "source": [
    "ad_R1, bar_R1 = 'AGATCGGAAGAGCACACGTCT', 'ATCACG'\n",
    "ad_R2, bar_R2 = 'AGATCGGAAGAGCGTCGTGT',  'CGTGAT'\n",
    "# ad_R1 ~= rc(ad_R2) \n",
    "\n",
    "print('Single End: Search for Bar Codes')\n",
    "print('----------------------------------------------------------------------------------')\n",
    "for r in samples(end='se'):\n",
    "    fn = fname(in_path,r,'fq.gz')\n",
    "    n_bar_R1   = ! zcat -c {fn} | grep {bar_R1} | wc -l\n",
    "    n_bar_R2   = ! zcat -c {fn} | grep {bar_R2} | wc -l\n",
    "    total      = ! zcat -c {fn} | wc -l\n",
    "    n_bar_R1, n_bar_R2, total = int(n_bar_R1[0]), int(n_bar_R2[0]), int(total[0])\n",
    "    print(f'{r}: n_bar_R1 = {n_bar_R1}, n_bar_R2 = {n_bar_R2}, total = {total}, max_perct = {round(100*max(n_bar_R1,n_bar_R2)/total,4)}')\n",
    "    print('----------------------------------------------------------------------------------')"
   ]
  },
  {
   "cell_type": "code",
   "execution_count": 157,
   "id": "783016e4-13cc-4c88-a074-0fcd70f0615d",
   "metadata": {},
   "outputs": [
    {
     "name": "stdout",
     "output_type": "stream",
     "text": [
      "Paired End: Search for Adapters\n",
      "------------------------------------------------------------------------------\n",
      "t2_r1_R1: n_ad_R1 = 933773, n_ad_R2 = 0, total = 9647760, max_perct = 9.6787\n",
      "------------------------------------------------------------------------------\n",
      "t2_r1_R2: n_ad_R1 = 0, n_ad_R2 = 800831, total = 9647760, max_perct = 8.3007\n",
      "------------------------------------------------------------------------------\n",
      "t2_r2_R1: n_ad_R1 = 1098520, n_ad_R2 = 1, total = 9693328, max_perct = 11.3327\n",
      "------------------------------------------------------------------------------\n",
      "t2_r2_R2: n_ad_R1 = 4, n_ad_R2 = 925804, total = 9693328, max_perct = 9.5509\n",
      "------------------------------------------------------------------------------\n"
     ]
    }
   ],
   "source": [
    "ad_R1, bar_R1 = 'AGATCGGAAGAGCACACGTCT', 'ATCACG'\n",
    "ad_R2, bar_R2 = 'AGATCGGAAGAGCGTCGTGT', 'CGTGAT'\n",
    "# ad_R1 ~= rc(ad_R2) \n",
    "\n",
    "print('Paired End: Search for Adapters')\n",
    "print('------------------------------------------------------------------------------')\n",
    "for r in (rs for sample in samples(end='pe') for rs in sample):\n",
    "    fn = fname(in_path,r,'fq.gz')\n",
    "    n_ad_R1   = ! zcat -c {fn} | grep {ad_R1} | wc -l\n",
    "    n_ad_R2   = ! zcat -c {fn} | grep {ad_R2} | wc -l\n",
    "    total      = ! zcat -c {fn} | wc -l\n",
    "    n_ad_R1, n_ad_R2, total = int(n_ad_R1[0]), int(n_ad_R2[0]), int(total[0])\n",
    "    print(f'{r}: n_ad_R1 = {n_ad_R1}, n_ad_R2 = {n_ad_R2}, total = {total}, max_perct = {round(100*max(n_ad_R1,n_ad_R2)/total,4)}')\n",
    "    print('------------------------------------------------------------------------------')"
   ]
  },
  {
   "cell_type": "code",
   "execution_count": 156,
   "id": "e7615f0b-7f76-4004-aa30-80db3babbdf3",
   "metadata": {},
   "outputs": [
    {
     "name": "stdout",
     "output_type": "stream",
     "text": [
      "Paired End: Search for Bar Codes\n",
      "----------------------------------------------------------------------------------\n",
      "t2_r1_R1: n_bar_R1 = 876, n_bar_R2 = 28922, total = 9647760, max_perct = 0.2998\n",
      "----------------------------------------------------------------------------------\n",
      "t2_r1_R2: n_bar_R1 = 36699, n_bar_R2 = 782, total = 9647760, max_perct = 0.3804\n",
      "----------------------------------------------------------------------------------\n",
      "t2_r2_R1: n_bar_R1 = 1151, n_bar_R2 = 27610, total = 9693328, max_perct = 0.2848\n",
      "----------------------------------------------------------------------------------\n",
      "t2_r2_R2: n_bar_R1 = 38539, n_bar_R2 = 1007, total = 9693328, max_perct = 0.3976\n",
      "----------------------------------------------------------------------------------\n"
     ]
    }
   ],
   "source": [
    "ad_R1, bar_R1 = 'AGATCGGAAGAGCACACGTCT', 'ATCACG'\n",
    "ad_R2, bar_R2 = 'AGATCGGAAGAGCGTCGTGT',  'CGTGAT'\n",
    "# ad_R1 ~= rc(ad_R2) \n",
    "\n",
    "print('Paired End: Search for Bar Codes')\n",
    "print('----------------------------------------------------------------------------------')\n",
    "for r in (rs for sample in samples(end='pe') for rs in sample):\n",
    "    fn = fname(in_path,r,'fq.gz')\n",
    "    n_bar_R1   = ! zcat -c {fn} | grep {bar_R1} | wc -l\n",
    "    n_bar_R2   = ! zcat -c {fn} | grep {bar_R2} | wc -l\n",
    "    total      = ! zcat -c {fn} | wc -l\n",
    "    n_bar_R1, n_bar_R2, total = int(n_bar_R1[0]), int(n_bar_R2[0]), int(total[0])\n",
    "    print(f'{r}: n_bar_R1 = {n_bar_R1}, n_bar_R2 = {n_bar_R2}, total = {total}, max_perct = {round(100*max(n_bar_R1,n_bar_R2)/total,4)}')\n",
    "    print('----------------------------------------------------------------------------------')"
   ]
  }
 ],
 "metadata": {
  "kernelspec": {
   "display_name": "Python 3 (ipykernel)",
   "language": "python",
   "name": "python3"
  },
  "language_info": {
   "codemirror_mode": {
    "name": "ipython",
    "version": 3
   },
   "file_extension": ".py",
   "mimetype": "text/x-python",
   "name": "python",
   "nbconvert_exporter": "python",
   "pygments_lexer": "ipython3",
   "version": "3.10.13"
  }
 },
 "nbformat": 4,
 "nbformat_minor": 5
}
